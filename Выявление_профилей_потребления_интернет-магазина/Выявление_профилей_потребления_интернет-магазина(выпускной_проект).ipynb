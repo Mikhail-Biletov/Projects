{
 "cells": [
  {
   "cell_type": "markdown",
   "metadata": {},
   "source": [
    "# Выявление профилей потребления интернет-магазина \"Пока все еще тут\""
   ]
  },
  {
   "cell_type": "markdown",
   "metadata": {},
   "source": [
    "Необходимо провести категоризацию товаров и сегментировать покупателей по профилю потребления. Разработать рекомендации по выставлению персональных предложений для каждого сегмента."
   ]
  },
  {
   "cell_type": "markdown",
   "metadata": {},
   "source": [
    "## Предобработка данных."
   ]
  },
  {
   "cell_type": "code",
   "execution_count": 1,
   "metadata": {},
   "outputs": [],
   "source": [
    "import pandas as pd\n",
    "import numpy as np\n",
    "import seaborn as sns\n",
    "import matplotlib.pyplot as plt\n",
    "import re\n",
    "from datetime import datetime\n",
    "import requests\n",
    "from bs4 import (BeautifulSoup,)\n",
    "from scipy import stats\n",
    "from scipy import stats as st\n",
    "from sklearn.cluster import KMeans\n",
    "from scipy.cluster.hierarchy import dendrogram, linkage\n",
    "from sklearn.preprocessing import StandardScaler\n",
    "from sklearn.metrics import silhouette_score\n",
    "import warnings"
   ]
  },
  {
   "cell_type": "code",
   "execution_count": 2,
   "metadata": {},
   "outputs": [],
   "source": [
    "url = 'https://drive.google.com/file/d/1uK451bMdYTZ2r4KE7pLcDYqU80eyDABa/view?usp=sharing'\n",
    "path = 'https://drive.google.com/uc?export=download&id='+url.split('/')[-2]\n",
    "df = pd.read_csv(path)"
   ]
  },
  {
   "cell_type": "code",
   "execution_count": 3,
   "metadata": {},
   "outputs": [],
   "source": [
    "url1 = 'https://drive.google.com/file/d/14VAVrtVYrYR4mj7VOjboWl3CR1ZslLp_/view?usp=sharing'\n",
    "path1 = 'https://drive.google.com/uc?export=download&id='+url1.split('/')[-2]\n",
    "category = pd.read_csv(path1, sep = ';',engine='python', encoding='cp1251')"
   ]
  },
  {
   "cell_type": "markdown",
   "metadata": {},
   "source": [
    "Импортируем основные библиотеки и прочтем датасеты."
   ]
  },
  {
   "cell_type": "code",
   "execution_count": 4,
   "metadata": {},
   "outputs": [
    {
     "data": {
      "text/html": [
       "<div>\n",
       "<style scoped>\n",
       "    .dataframe tbody tr th:only-of-type {\n",
       "        vertical-align: middle;\n",
       "    }\n",
       "\n",
       "    .dataframe tbody tr th {\n",
       "        vertical-align: top;\n",
       "    }\n",
       "\n",
       "    .dataframe thead th {\n",
       "        text-align: right;\n",
       "    }\n",
       "</style>\n",
       "<table border=\"1\" class=\"dataframe\">\n",
       "  <thead>\n",
       "    <tr style=\"text-align: right;\">\n",
       "      <th></th>\n",
       "      <th>date</th>\n",
       "      <th>customer_id</th>\n",
       "      <th>order_id</th>\n",
       "      <th>product</th>\n",
       "      <th>quantity</th>\n",
       "      <th>price</th>\n",
       "    </tr>\n",
       "  </thead>\n",
       "  <tbody>\n",
       "    <tr>\n",
       "      <td>3560</td>\n",
       "      <td>2019051219</td>\n",
       "      <td>3d5fef90-4a65-4a7e-84cf-010eba7b038d</td>\n",
       "      <td>14753</td>\n",
       "      <td>Дыня Медовый Спас d-7 см раннеспелая</td>\n",
       "      <td>1</td>\n",
       "      <td>30.0</td>\n",
       "    </tr>\n",
       "  </tbody>\n",
       "</table>\n",
       "</div>"
      ],
      "text/plain": [
       "            date                           customer_id  order_id  \\\n",
       "3560  2019051219  3d5fef90-4a65-4a7e-84cf-010eba7b038d     14753   \n",
       "\n",
       "                                   product  quantity  price  \n",
       "3560  Дыня Медовый Спас d-7 см раннеспелая         1   30.0  "
      ]
     },
     "execution_count": 4,
     "metadata": {},
     "output_type": "execute_result"
    }
   ],
   "source": [
    "df.sample()"
   ]
  },
  {
   "cell_type": "code",
   "execution_count": 5,
   "metadata": {
    "scrolled": true
   },
   "outputs": [
    {
     "name": "stdout",
     "output_type": "stream",
     "text": [
      "<class 'pandas.core.frame.DataFrame'>\n",
      "RangeIndex: 6737 entries, 0 to 6736\n",
      "Data columns (total 6 columns):\n",
      "date           6737 non-null int64\n",
      "customer_id    6737 non-null object\n",
      "order_id       6737 non-null int64\n",
      "product        6737 non-null object\n",
      "quantity       6737 non-null int64\n",
      "price          6737 non-null float64\n",
      "dtypes: float64(1), int64(3), object(2)\n",
      "memory usage: 315.9+ KB\n"
     ]
    }
   ],
   "source": [
    "df.info()"
   ]
  },
  {
   "cell_type": "markdown",
   "metadata": {},
   "source": [
    "Выведем информацию о датасете и типах полей. На первый взгляд все поля имеют корректный и подходящий для содержимого формат кроме поля date. Требуется приведение поля date к типу даты-времени."
   ]
  },
  {
   "cell_type": "code",
   "execution_count": 6,
   "metadata": {},
   "outputs": [],
   "source": [
    "df.columns = map(str.lower, df.columns)"
   ]
  },
  {
   "cell_type": "markdown",
   "metadata": {},
   "source": [
    "Приведем буквы в заголовках столбцов к строчным."
   ]
  },
  {
   "cell_type": "code",
   "execution_count": 7,
   "metadata": {},
   "outputs": [],
   "source": [
    "df['date'] = pd.to_datetime(df['date'], format = '%Y%m%d%H')\n",
    "df['event_date'] = df['date'].astype('datetime64[D]')\n",
    "df['event_month'] = df['date'].astype('datetime64[M]')"
   ]
  },
  {
   "cell_type": "code",
   "execution_count": 8,
   "metadata": {
    "scrolled": false
   },
   "outputs": [
    {
     "data": {
      "text/html": [
       "<div>\n",
       "<style scoped>\n",
       "    .dataframe tbody tr th:only-of-type {\n",
       "        vertical-align: middle;\n",
       "    }\n",
       "\n",
       "    .dataframe tbody tr th {\n",
       "        vertical-align: top;\n",
       "    }\n",
       "\n",
       "    .dataframe thead th {\n",
       "        text-align: right;\n",
       "    }\n",
       "</style>\n",
       "<table border=\"1\" class=\"dataframe\">\n",
       "  <thead>\n",
       "    <tr style=\"text-align: right;\">\n",
       "      <th></th>\n",
       "      <th>date</th>\n",
       "      <th>customer_id</th>\n",
       "      <th>order_id</th>\n",
       "      <th>product</th>\n",
       "      <th>quantity</th>\n",
       "      <th>price</th>\n",
       "      <th>event_date</th>\n",
       "      <th>event_month</th>\n",
       "    </tr>\n",
       "  </thead>\n",
       "  <tbody>\n",
       "    <tr>\n",
       "      <td>6327</td>\n",
       "      <td>2019-09-14 14:00:00</td>\n",
       "      <td>33867e5a-f275-461f-81ef-f4414bb0a7d7</td>\n",
       "      <td>72628</td>\n",
       "      <td>Гладильная доска НИКА БЭЛЛЬ 106,5х29 см Б</td>\n",
       "      <td>1</td>\n",
       "      <td>562.0</td>\n",
       "      <td>2019-09-14</td>\n",
       "      <td>2019-09-01</td>\n",
       "    </tr>\n",
       "  </tbody>\n",
       "</table>\n",
       "</div>"
      ],
      "text/plain": [
       "                    date                           customer_id  order_id  \\\n",
       "6327 2019-09-14 14:00:00  33867e5a-f275-461f-81ef-f4414bb0a7d7     72628   \n",
       "\n",
       "                                        product  quantity  price event_date  \\\n",
       "6327  Гладильная доска НИКА БЭЛЛЬ 106,5х29 см Б         1  562.0 2019-09-14   \n",
       "\n",
       "     event_month  \n",
       "6327  2019-09-01  "
      ]
     },
     "execution_count": 8,
     "metadata": {},
     "output_type": "execute_result"
    }
   ],
   "source": [
    "df.sample()"
   ]
  },
  {
   "cell_type": "markdown",
   "metadata": {},
   "source": [
    "Приведем дату к формату даты - времени (часа) и добавим поле event_date с датой без времени."
   ]
  },
  {
   "cell_type": "code",
   "execution_count": 9,
   "metadata": {
    "scrolled": true
   },
   "outputs": [
    {
     "name": "stdout",
     "output_type": "stream",
     "text": [
      "date - 0.0%\n",
      "customer_id - 0.0%\n",
      "order_id - 0.0%\n",
      "product - 0.0%\n",
      "quantity - 0.0%\n",
      "price - 0.0%\n",
      "event_date - 0.0%\n",
      "event_month - 0.0%\n"
     ]
    }
   ],
   "source": [
    "cols = df.columns[:6]\n",
    "for col in df.columns:\n",
    "    pct_missing = np.mean(df[col].isna())\n",
    "    print('{} - {}%'.format(col, pct_missing*100))"
   ]
  },
  {
   "cell_type": "markdown",
   "metadata": {},
   "source": [
    "Проверим поля на пропущенные значения. Проверка показала, что пропусков нет."
   ]
  },
  {
   "cell_type": "code",
   "execution_count": 10,
   "metadata": {},
   "outputs": [
    {
     "data": {
      "text/plain": [
       "0"
      ]
     },
     "execution_count": 10,
     "metadata": {},
     "output_type": "execute_result"
    }
   ],
   "source": [
    "df.duplicated().sum()"
   ]
  },
  {
   "cell_type": "markdown",
   "metadata": {},
   "source": [
    "Проверим датасет на дублирующиеся строки. Полных дубликатов строк нет."
   ]
  },
  {
   "cell_type": "code",
   "execution_count": 11,
   "metadata": {},
   "outputs": [
    {
     "data": {
      "text/plain": [
       "count                    6737\n",
       "unique                   2606\n",
       "top       2019-04-27 16:00:00\n",
       "freq                       51\n",
       "first     2018-10-01 00:00:00\n",
       "last      2019-10-31 16:00:00\n",
       "Name: date, dtype: object"
      ]
     },
     "execution_count": 11,
     "metadata": {},
     "output_type": "execute_result"
    }
   ],
   "source": [
    "df['date'].describe()"
   ]
  },
  {
   "cell_type": "markdown",
   "metadata": {},
   "source": [
    "Данные о покупках в датасете - с 1 октября 2018 по 31 октября 2019."
   ]
  },
  {
   "cell_type": "markdown",
   "metadata": {},
   "source": [
    "## Категоризация товарной номенклатуры."
   ]
  },
  {
   "cell_type": "code",
   "execution_count": 12,
   "metadata": {},
   "outputs": [],
   "source": [
    "prod_lst=df['product'].unique().tolist()"
   ]
  },
  {
   "cell_type": "code",
   "execution_count": 13,
   "metadata": {},
   "outputs": [
    {
     "data": {
      "text/plain": [
       "2343"
      ]
     },
     "execution_count": 13,
     "metadata": {},
     "output_type": "execute_result"
    }
   ],
   "source": [
    "len(prod_lst)"
   ]
  },
  {
   "cell_type": "markdown",
   "metadata": {},
   "source": [
    "Посчитаем количество уникальных наименований в поле product. Их 2 343. Вручную категоризовать такое количество SKU некорректно и очень трудоемко."
   ]
  },
  {
   "cell_type": "code",
   "execution_count": 14,
   "metadata": {},
   "outputs": [],
   "source": [
    "df['product']=df['product'].str.lower()"
   ]
  },
  {
   "cell_type": "markdown",
   "metadata": {},
   "source": [
    "Приведем наименования товаров к нижнему регистру для частичной унификации."
   ]
  },
  {
   "cell_type": "code",
   "execution_count": 15,
   "metadata": {},
   "outputs": [
    {
     "data": {
      "text/html": [
       "<div>\n",
       "<style scoped>\n",
       "    .dataframe tbody tr th:only-of-type {\n",
       "        vertical-align: middle;\n",
       "    }\n",
       "\n",
       "    .dataframe tbody tr th {\n",
       "        vertical-align: top;\n",
       "    }\n",
       "\n",
       "    .dataframe thead th {\n",
       "        text-align: right;\n",
       "    }\n",
       "</style>\n",
       "<table border=\"1\" class=\"dataframe\">\n",
       "  <thead>\n",
       "    <tr style=\"text-align: right;\">\n",
       "      <th></th>\n",
       "      <th>product</th>\n",
       "      <th>quantity</th>\n",
       "    </tr>\n",
       "  </thead>\n",
       "  <tbody>\n",
       "    <tr>\n",
       "      <td>112</td>\n",
       "      <td>вантуз с деревянной ручкой d14 см красный, bur...</td>\n",
       "      <td>1000</td>\n",
       "    </tr>\n",
       "    <tr>\n",
       "      <td>829</td>\n",
       "      <td>муляж яблоко 9 см красное</td>\n",
       "      <td>618</td>\n",
       "    </tr>\n",
       "    <tr>\n",
       "      <td>185</td>\n",
       "      <td>вешалки мягкие для деликатных вещей 3 шт шоколад</td>\n",
       "      <td>335</td>\n",
       "    </tr>\n",
       "    <tr>\n",
       "      <td>657</td>\n",
       "      <td>крепеж для пружины дверной, 1107055</td>\n",
       "      <td>320</td>\n",
       "    </tr>\n",
       "    <tr>\n",
       "      <td>831</td>\n",
       "      <td>муляж яблоко зеленый 9 см полиуретан</td>\n",
       "      <td>308</td>\n",
       "    </tr>\n",
       "    <tr>\n",
       "      <td>...</td>\n",
       "      <td>...</td>\n",
       "      <td>...</td>\n",
       "    </tr>\n",
       "    <tr>\n",
       "      <td>1116</td>\n",
       "      <td>подвесное кашпо гелихризум серебристая объем 4 л</td>\n",
       "      <td>1</td>\n",
       "    </tr>\n",
       "    <tr>\n",
       "      <td>1111</td>\n",
       "      <td>подарочный набор на 8 марта пеларгония белая d...</td>\n",
       "      <td>1</td>\n",
       "    </tr>\n",
       "    <tr>\n",
       "      <td>1103</td>\n",
       "      <td>плед флисовый 150х130 см wellness wplny135-зим...</td>\n",
       "      <td>1</td>\n",
       "    </tr>\n",
       "    <tr>\n",
       "      <td>1102</td>\n",
       "      <td>плед флисовый 100% полиэстер 185х240 см бежевы...</td>\n",
       "      <td>1</td>\n",
       "    </tr>\n",
       "    <tr>\n",
       "      <td>2340</td>\n",
       "      <td>ёрш унитазный с подставкой wc \"стандарт\", муль...</td>\n",
       "      <td>1</td>\n",
       "    </tr>\n",
       "  </tbody>\n",
       "</table>\n",
       "<p>2341 rows × 2 columns</p>\n",
       "</div>"
      ],
      "text/plain": [
       "                                                product  quantity\n",
       "112   вантуз с деревянной ручкой d14 см красный, bur...      1000\n",
       "829                           муляж яблоко 9 см красное       618\n",
       "185    вешалки мягкие для деликатных вещей 3 шт шоколад       335\n",
       "657                 крепеж для пружины дверной, 1107055       320\n",
       "831                муляж яблоко зеленый 9 см полиуретан       308\n",
       "...                                                 ...       ...\n",
       "1116   подвесное кашпо гелихризум серебристая объем 4 л         1\n",
       "1111  подарочный набор на 8 марта пеларгония белая d...         1\n",
       "1103  плед флисовый 150х130 см wellness wplny135-зим...         1\n",
       "1102  плед флисовый 100% полиэстер 185х240 см бежевы...         1\n",
       "2340  ёрш унитазный с подставкой wc \"стандарт\", муль...         1\n",
       "\n",
       "[2341 rows x 2 columns]"
      ]
     },
     "execution_count": 15,
     "metadata": {},
     "output_type": "execute_result"
    }
   ],
   "source": [
    "df.pivot_table(index = 'product', values = 'quantity', aggfunc = 'sum').reset_index().sort_values(by = 'quantity', ascending = False)"
   ]
  },
  {
   "cell_type": "markdown",
   "metadata": {},
   "source": [
    "Унифицировалось только одно наименование, теперь в датасете 2 341 уникальное наименование."
   ]
  },
  {
   "cell_type": "code",
   "execution_count": 16,
   "metadata": {},
   "outputs": [],
   "source": [
    "def first_word(row):\n",
    "    word = row['product']\n",
    "    \n",
    "    return re.search('\\w+', word).group()\n",
    "        \n",
    "df['first_word'] = df.apply(first_word, axis = 1)"
   ]
  },
  {
   "cell_type": "markdown",
   "metadata": {},
   "source": [
    "Отделим первое слово в наименовании товара и запишем его в столбец first_word."
   ]
  },
  {
   "cell_type": "code",
   "execution_count": 17,
   "metadata": {},
   "outputs": [
    {
     "data": {
      "text/plain": [
       "443"
      ]
     },
     "execution_count": 17,
     "metadata": {},
     "output_type": "execute_result"
    }
   ],
   "source": [
    "len(df['first_word'].unique())"
   ]
  },
  {
   "cell_type": "markdown",
   "metadata": {},
   "source": [
    "Посчитаем количество уникальных наименований из первых слов названия товара. Их 443. Данное количество позволяет позволяет распределить категории вручную. Воспользуемся сайтом OBI и с его помощью присвоим категории для первых слов в наименовании, записав справочник \"первое слово наименования - категория\" в файл xlsx. После присвоения категорий переведем файл category в csv и прочтем.  "
   ]
  },
  {
   "cell_type": "code",
   "execution_count": 18,
   "metadata": {},
   "outputs": [
    {
     "data": {
      "text/html": [
       "<div>\n",
       "<style scoped>\n",
       "    .dataframe tbody tr th:only-of-type {\n",
       "        vertical-align: middle;\n",
       "    }\n",
       "\n",
       "    .dataframe tbody tr th {\n",
       "        vertical-align: top;\n",
       "    }\n",
       "\n",
       "    .dataframe thead th {\n",
       "        text-align: right;\n",
       "    }\n",
       "</style>\n",
       "<table border=\"1\" class=\"dataframe\">\n",
       "  <thead>\n",
       "    <tr style=\"text-align: right;\">\n",
       "      <th></th>\n",
       "      <th>date</th>\n",
       "      <th>customer_id</th>\n",
       "      <th>order_id</th>\n",
       "      <th>product</th>\n",
       "      <th>quantity</th>\n",
       "      <th>price</th>\n",
       "      <th>event_date</th>\n",
       "      <th>event_month</th>\n",
       "      <th>first_word</th>\n",
       "    </tr>\n",
       "  </thead>\n",
       "  <tbody>\n",
       "    <tr>\n",
       "      <td>0</td>\n",
       "      <td>2018-10-01</td>\n",
       "      <td>ee47d746-6d2f-4d3c-9622-c31412542920</td>\n",
       "      <td>68477</td>\n",
       "      <td>комнатное растение в горшке алое вера, d12, h30</td>\n",
       "      <td>1</td>\n",
       "      <td>142.0</td>\n",
       "      <td>2018-10-01</td>\n",
       "      <td>2018-10-01</td>\n",
       "      <td>комнатное</td>\n",
       "    </tr>\n",
       "    <tr>\n",
       "      <td>1</td>\n",
       "      <td>2018-10-01</td>\n",
       "      <td>ee47d746-6d2f-4d3c-9622-c31412542920</td>\n",
       "      <td>68477</td>\n",
       "      <td>комнатное растение в горшке кофе арабика, d12,...</td>\n",
       "      <td>1</td>\n",
       "      <td>194.0</td>\n",
       "      <td>2018-10-01</td>\n",
       "      <td>2018-10-01</td>\n",
       "      <td>комнатное</td>\n",
       "    </tr>\n",
       "    <tr>\n",
       "      <td>2</td>\n",
       "      <td>2018-10-01</td>\n",
       "      <td>ee47d746-6d2f-4d3c-9622-c31412542920</td>\n",
       "      <td>68477</td>\n",
       "      <td>радермахера d-12 см h-20 см</td>\n",
       "      <td>1</td>\n",
       "      <td>112.0</td>\n",
       "      <td>2018-10-01</td>\n",
       "      <td>2018-10-01</td>\n",
       "      <td>радермахера</td>\n",
       "    </tr>\n",
       "  </tbody>\n",
       "</table>\n",
       "</div>"
      ],
      "text/plain": [
       "        date                           customer_id  order_id  \\\n",
       "0 2018-10-01  ee47d746-6d2f-4d3c-9622-c31412542920     68477   \n",
       "1 2018-10-01  ee47d746-6d2f-4d3c-9622-c31412542920     68477   \n",
       "2 2018-10-01  ee47d746-6d2f-4d3c-9622-c31412542920     68477   \n",
       "\n",
       "                                             product  quantity  price  \\\n",
       "0    комнатное растение в горшке алое вера, d12, h30         1  142.0   \n",
       "1  комнатное растение в горшке кофе арабика, d12,...         1  194.0   \n",
       "2                        радермахера d-12 см h-20 см         1  112.0   \n",
       "\n",
       "  event_date event_month   first_word  \n",
       "0 2018-10-01  2018-10-01    комнатное  \n",
       "1 2018-10-01  2018-10-01    комнатное  \n",
       "2 2018-10-01  2018-10-01  радермахера  "
      ]
     },
     "execution_count": 18,
     "metadata": {},
     "output_type": "execute_result"
    }
   ],
   "source": [
    "df.head(3)"
   ]
  },
  {
   "cell_type": "code",
   "execution_count": 19,
   "metadata": {},
   "outputs": [
    {
     "data": {
      "text/html": [
       "<div>\n",
       "<style scoped>\n",
       "    .dataframe tbody tr th:only-of-type {\n",
       "        vertical-align: middle;\n",
       "    }\n",
       "\n",
       "    .dataframe tbody tr th {\n",
       "        vertical-align: top;\n",
       "    }\n",
       "\n",
       "    .dataframe thead th {\n",
       "        text-align: right;\n",
       "    }\n",
       "</style>\n",
       "<table border=\"1\" class=\"dataframe\">\n",
       "  <thead>\n",
       "    <tr style=\"text-align: right;\">\n",
       "      <th></th>\n",
       "      <th>first_name_word</th>\n",
       "      <th>category</th>\n",
       "      <th>category_big</th>\n",
       "    </tr>\n",
       "  </thead>\n",
       "  <tbody>\n",
       "    <tr>\n",
       "      <td>0</td>\n",
       "      <td>комнатное</td>\n",
       "      <td>растения</td>\n",
       "      <td>растения</td>\n",
       "    </tr>\n",
       "    <tr>\n",
       "      <td>1</td>\n",
       "      <td>радермахера</td>\n",
       "      <td>растения</td>\n",
       "      <td>растения</td>\n",
       "    </tr>\n",
       "    <tr>\n",
       "      <td>2</td>\n",
       "      <td>хризолидокарпус</td>\n",
       "      <td>растения</td>\n",
       "      <td>растения</td>\n",
       "    </tr>\n",
       "    <tr>\n",
       "      <td>3</td>\n",
       "      <td>циперус</td>\n",
       "      <td>растения</td>\n",
       "      <td>растения</td>\n",
       "    </tr>\n",
       "    <tr>\n",
       "      <td>4</td>\n",
       "      <td>шеффлера</td>\n",
       "      <td>растения</td>\n",
       "      <td>растения</td>\n",
       "    </tr>\n",
       "  </tbody>\n",
       "</table>\n",
       "</div>"
      ],
      "text/plain": [
       "   first_name_word  category category_big\n",
       "0        комнатное  растения     растения\n",
       "1      радермахера  растения     растения\n",
       "2  хризолидокарпус  растения     растения\n",
       "3          циперус  растения     растения\n",
       "4         шеффлера  растения     растения"
      ]
     },
     "execution_count": 19,
     "metadata": {},
     "output_type": "execute_result"
    }
   ],
   "source": [
    "category['first_name_word'] = category['first_name_word'].str.lower()\n",
    "category.head(5)"
   ]
  },
  {
   "cell_type": "markdown",
   "metadata": {},
   "source": [
    "Приведем наименования в файле category к строчным буквам."
   ]
  },
  {
   "cell_type": "code",
   "execution_count": 20,
   "metadata": {},
   "outputs": [
    {
     "data": {
      "text/html": [
       "<div>\n",
       "<style scoped>\n",
       "    .dataframe tbody tr th:only-of-type {\n",
       "        vertical-align: middle;\n",
       "    }\n",
       "\n",
       "    .dataframe tbody tr th {\n",
       "        vertical-align: top;\n",
       "    }\n",
       "\n",
       "    .dataframe thead th {\n",
       "        text-align: right;\n",
       "    }\n",
       "</style>\n",
       "<table border=\"1\" class=\"dataframe\">\n",
       "  <thead>\n",
       "    <tr style=\"text-align: right;\">\n",
       "      <th></th>\n",
       "      <th>date</th>\n",
       "      <th>customer_id</th>\n",
       "      <th>order_id</th>\n",
       "      <th>product</th>\n",
       "      <th>quantity</th>\n",
       "      <th>price</th>\n",
       "      <th>event_date</th>\n",
       "      <th>event_month</th>\n",
       "      <th>first_word</th>\n",
       "      <th>first_name_word</th>\n",
       "      <th>category</th>\n",
       "      <th>category_big</th>\n",
       "    </tr>\n",
       "  </thead>\n",
       "  <tbody>\n",
       "    <tr>\n",
       "      <td>4719</td>\n",
       "      <td>2019-06-06 13:00:00</td>\n",
       "      <td>1d6c8c1f-a799-4418-9af2-1ded47d7a85c</td>\n",
       "      <td>14833</td>\n",
       "      <td>рассада кабачка сорт горный, кассета по 6шт</td>\n",
       "      <td>1</td>\n",
       "      <td>120.0</td>\n",
       "      <td>2019-06-06</td>\n",
       "      <td>2019-06-01</td>\n",
       "      <td>рассада</td>\n",
       "      <td>рассада</td>\n",
       "      <td>растения</td>\n",
       "      <td>растения</td>\n",
       "    </tr>\n",
       "    <tr>\n",
       "      <td>4053</td>\n",
       "      <td>2019-05-27 13:00:00</td>\n",
       "      <td>bebc738a-dfd3-4763-841b-b529504ce8de</td>\n",
       "      <td>71524</td>\n",
       "      <td>тележка багажная delta тбр-20 синий грузоподъе...</td>\n",
       "      <td>1</td>\n",
       "      <td>734.0</td>\n",
       "      <td>2019-05-27</td>\n",
       "      <td>2019-05-01</td>\n",
       "      <td>тележка</td>\n",
       "      <td>тележка</td>\n",
       "      <td>садовый и строительный инвентарь</td>\n",
       "      <td>сад</td>\n",
       "    </tr>\n",
       "    <tr>\n",
       "      <td>958</td>\n",
       "      <td>2018-11-24 09:00:00</td>\n",
       "      <td>e72fcd9e-d3d0-4a40-8910-6bce6e794aed</td>\n",
       "      <td>69104</td>\n",
       "      <td>набор стаканов для виски 300 мл 6 шт серия кар...</td>\n",
       "      <td>1</td>\n",
       "      <td>239.0</td>\n",
       "      <td>2018-11-24</td>\n",
       "      <td>2018-11-01</td>\n",
       "      <td>набор</td>\n",
       "      <td>набор</td>\n",
       "      <td>прочее</td>\n",
       "      <td>прочее</td>\n",
       "    </tr>\n",
       "  </tbody>\n",
       "</table>\n",
       "</div>"
      ],
      "text/plain": [
       "                    date                           customer_id  order_id  \\\n",
       "4719 2019-06-06 13:00:00  1d6c8c1f-a799-4418-9af2-1ded47d7a85c     14833   \n",
       "4053 2019-05-27 13:00:00  bebc738a-dfd3-4763-841b-b529504ce8de     71524   \n",
       "958  2018-11-24 09:00:00  e72fcd9e-d3d0-4a40-8910-6bce6e794aed     69104   \n",
       "\n",
       "                                                product  quantity  price  \\\n",
       "4719        рассада кабачка сорт горный, кассета по 6шт         1  120.0   \n",
       "4053  тележка багажная delta тбр-20 синий грузоподъе...         1  734.0   \n",
       "958   набор стаканов для виски 300 мл 6 шт серия кар...         1  239.0   \n",
       "\n",
       "     event_date event_month first_word first_name_word  \\\n",
       "4719 2019-06-06  2019-06-01    рассада         рассада   \n",
       "4053 2019-05-27  2019-05-01    тележка         тележка   \n",
       "958  2018-11-24  2018-11-01      набор           набор   \n",
       "\n",
       "                              category category_big  \n",
       "4719                          растения     растения  \n",
       "4053  садовый и строительный инвентарь          сад  \n",
       "958                             прочее       прочее  "
      ]
     },
     "execution_count": 20,
     "metadata": {},
     "output_type": "execute_result"
    }
   ],
   "source": [
    "df = df.merge(category, left_on ='first_word', right_on = 'first_name_word', how = 'left')\n",
    "df.sample(3)"
   ]
  },
  {
   "cell_type": "code",
   "execution_count": 21,
   "metadata": {},
   "outputs": [
    {
     "data": {
      "text/plain": [
       "0"
      ]
     },
     "execution_count": 21,
     "metadata": {},
     "output_type": "execute_result"
    }
   ],
   "source": [
    "df['category'].isna().sum()"
   ]
  },
  {
   "cell_type": "markdown",
   "metadata": {},
   "source": [
    "Объединим основной датасет и справочник категорий. Проверим, нет ли пропусков в поле category. Пропусков 0, категории подтянулись все."
   ]
  },
  {
   "cell_type": "code",
   "execution_count": 22,
   "metadata": {},
   "outputs": [],
   "source": [
    "cat = df['category'].unique().tolist()"
   ]
  },
  {
   "cell_type": "code",
   "execution_count": 23,
   "metadata": {},
   "outputs": [],
   "source": [
    "cat_big = df['category_big'].unique().tolist()"
   ]
  },
  {
   "cell_type": "code",
   "execution_count": 24,
   "metadata": {},
   "outputs": [],
   "source": [
    "df['summ'] = df['quantity']*df['price']"
   ]
  },
  {
   "cell_type": "markdown",
   "metadata": {},
   "source": [
    "Добавим столбец с общей стоимостью заказа."
   ]
  },
  {
   "cell_type": "markdown",
   "metadata": {},
   "source": [
    "## Исследовательский анализ данных"
   ]
  },
  {
   "cell_type": "code",
   "execution_count": 25,
   "metadata": {},
   "outputs": [
    {
     "data": {
      "text/plain": [
       "2451"
      ]
     },
     "execution_count": 25,
     "metadata": {},
     "output_type": "execute_result"
    }
   ],
   "source": [
    "uni_customer = len(df['customer_id'].unique())\n",
    "uni_customer"
   ]
  },
  {
   "cell_type": "markdown",
   "metadata": {},
   "source": [
    "В датасете - данные о покупках 2 451 уникального покупателя."
   ]
  },
  {
   "cell_type": "code",
   "execution_count": 26,
   "metadata": {},
   "outputs": [
    {
     "data": {
      "text/plain": [
       "6737"
      ]
     },
     "execution_count": 26,
     "metadata": {},
     "output_type": "execute_result"
    }
   ],
   "source": [
    "events = len(df['customer_id'])\n",
    "events"
   ]
  },
  {
   "cell_type": "code",
   "execution_count": 27,
   "metadata": {},
   "outputs": [
    {
     "data": {
      "text/plain": [
       "2.75"
      ]
     },
     "execution_count": 27,
     "metadata": {},
     "output_type": "execute_result"
    }
   ],
   "source": [
    "avg_sales_per_user = events/uni_customer\n",
    "round(avg_sales_per_user,2)"
   ]
  },
  {
   "cell_type": "markdown",
   "metadata": {},
   "source": [
    "В датафрейме - информация о 6737 покупках. В среднем на одного покупателя приходится 2,75 покупки. Эта информация понадобится нам в дальнейшем для сравнения средних покупок каждого сегмента с общим средним количество м покупок."
   ]
  },
  {
   "cell_type": "code",
   "execution_count": 28,
   "metadata": {
    "scrolled": true
   },
   "outputs": [],
   "source": [
    "#plt.figure(figsize=(6,6))\n",
    "#sns.histplot(df['event_month'], binwidth=0.5)\n",
    "#plt.xlabel(\"Месяц\")\n",
    "#plt.ylabel(\"Количество\")\n",
    "#plt.xticks(rotation=90, fontsize =10)\n",
    "#plt.title('Распределение покупок помесячно', fontsize = 14);"
   ]
  },
  {
   "cell_type": "markdown",
   "metadata": {},
   "source": [
    "Построим график распределений количества покупок по месяцам. Закономерно выглядит спад продаж в январе. Аномально выглядит июньский пик, проанализируем его отдельно. "
   ]
  },
  {
   "cell_type": "code",
   "execution_count": 29,
   "metadata": {
    "scrolled": true
   },
   "outputs": [
    {
     "data": {
      "image/png": "[encoded data removed]",
      "text/plain": [
       "<Figure size 720x432 with 1 Axes>"
      ]
     },
     "metadata": {
      "needs_background": "light"
     },
     "output_type": "display_data"
    },
    {
     "data": {
      "image/png": "[encoded data removed]",
      "text/plain": [
       "<Figure size 432x288 with 1 Axes>"
      ]
     },
     "metadata": {
      "needs_background": "light"
     },
     "output_type": "display_data"
    },
    {
     "data": {
      "image/png": "[encoded data removed]",
      "text/plain": [
       "<Figure size 432x288 with 1 Axes>"
      ]
     },
     "metadata": {
      "needs_background": "light"
     },
     "output_type": "display_data"
    },
    {
     "data": {
      "image/png": "[encoded data removed]",
      "text/plain": [
       "<Figure size 432x288 with 1 Axes>"
      ]
     },
     "metadata": {
      "needs_background": "light"
     },
     "output_type": "display_data"
    },
    {
     "data": {
      "image/png": "[encoded data removed]",
      "text/plain": [
       "<Figure size 432x288 with 1 Axes>"
      ]
     },
     "metadata": {
      "needs_background": "light"
     },
     "output_type": "display_data"
    },
    {
     "data": {
      "image/png": "[encoded data removed]",
      "text/plain": [
       "<Figure size 432x288 with 1 Axes>"
      ]
     },
     "metadata": {
      "needs_background": "light"
     },
     "output_type": "display_data"
    },
    {
     "data": {
      "image/png": "[encoded data removed]",
      "text/plain": [
       "<Figure size 432x288 with 1 Axes>"
      ]
     },
     "metadata": {
      "needs_background": "light"
     },
     "output_type": "display_data"
    },
    {
     "data": {
      "image/png": "[encoded data removed]",
      "text/plain": [
       "<Figure size 432x288 with 1 Axes>"
      ]
     },
     "metadata": {
      "needs_background": "light"
     },
     "output_type": "display_data"
    },
    {
     "data": {
      "image/png": "[encoded data removed]",
      "text/plain": [
       "<Figure size 432x288 with 1 Axes>"
      ]
     },
     "metadata": {
      "needs_background": "light"
     },
     "output_type": "display_data"
    }
   ],
   "source": [
    "warnings.simplefilter('ignore')\n",
    "plt.figure(figsize=(10, 6))\n",
    "for el in cat_big:\n",
    "    sns.distplot(df.query('category==@el')['quantity'])\n",
    "    plt.title(el)    \n",
    "    plt.show()"
   ]
  },
  {
   "cell_type": "markdown",
   "metadata": {},
   "source": [
    "Проанализируем количественные распределения каждой категории. Закономерно выглядит близкая к единице максимальная плотность распределения для всех категорий, обычно в магазинах направления \"товары для дома\" покупают 1-2 единицы товара. Закономерно выглядят неравномемрности распределений категорий \"инструмент и расходные материалы\", они обусловлены спецификой товара, покупка большого количества расходных материалов часто практикуется."
   ]
  },
  {
   "cell_type": "code",
   "execution_count": 30,
   "metadata": {},
   "outputs": [],
   "source": [
    "sales_by_cat = df.pivot_table(index = 'category_big', values = ['quantity', 'summ'], aggfunc = 'sum').reset_index()"
   ]
  },
  {
   "cell_type": "code",
   "execution_count": 31,
   "metadata": {
    "scrolled": true
   },
   "outputs": [
    {
     "data": {
      "image/png": "[encoded data removed]",
      "text/plain": [
       "<Figure size 576x576 with 1 Axes>"
      ]
     },
     "metadata": {},
     "output_type": "display_data"
    }
   ],
   "source": [
    "pie, ax = plt.subplots(figsize=[8,8])    \n",
    "plt.pie(x=sales_by_cat['quantity'], autopct=\"%.1f%%\",labels = sales_by_cat['category_big'])\n",
    "plt.title(\"Структура продаж по категориям в штуках\", fontsize=14);\n",
    "#plt.savefig('struct_qty.png', transparent=True)"
   ]
  },
  {
   "cell_type": "markdown",
   "metadata": {},
   "source": [
    "Проанализируем  общие продажи по категориям(количество). Большую долю продаж занимают растения (33,5%). Далее - категория \"прочее\", 29,9%. Третью позицию занимает категория \"декор и интерьер\", 23,4%. Товары для кухни занимают 4 место, 8,5%. Доля остальных категорий в совокупности не более 4%. Это обусловлено тем, что анализируются количественные значения."
   ]
  },
  {
   "cell_type": "code",
   "execution_count": 32,
   "metadata": {
    "scrolled": true
   },
   "outputs": [
    {
     "data": {
      "image/png": "[encoded data removed]",
      "text/plain": [
       "<Figure size 576x576 with 1 Axes>"
      ]
     },
     "metadata": {},
     "output_type": "display_data"
    }
   ],
   "source": [
    "pie, ax = plt.subplots(figsize=[8,8])    \n",
    "plt.pie(x=sales_by_cat['summ'], autopct=\"%.1f%%\",labels = sales_by_cat['category_big'])\n",
    "plt.title(\"Структура продаж по категориям в рублях\", fontsize=14);\n",
    "#plt.savefig('struct_summ.png', transparent=True)"
   ]
  },
  {
   "cell_type": "markdown",
   "metadata": {},
   "source": [
    "Проанализируем структуру продаж в разрезе категорий в рублях. Товары категории \"Прочее\" - на первом месте с долей 46,4%. Далее - товары категории \"декор и интерьер\", 17,5%. Доля растений  - третья, 17,1%. Следующая категория - товары для кухни, 6,5%. Прочие категории занимают долю от 0,6 до 4,4%. Вывод - ассортимент магазина в большей степени представлен хозтоварами, растениями, товарами для декора и интерьера и товарами для кухни."
   ]
  },
  {
   "cell_type": "code",
   "execution_count": 33,
   "metadata": {},
   "outputs": [],
   "source": [
    "sales_by_customers = df.groupby(['order_id','event_date','customer_id'])['summ'].sum().reset_index()"
   ]
  },
  {
   "cell_type": "markdown",
   "metadata": {},
   "source": [
    "Сгруппируем продажи по id покупателя, id заказа и дате покупки, чтобы получить датафрейм с разовыми покупками и заказами в разрезе клиентов."
   ]
  },
  {
   "cell_type": "code",
   "execution_count": 34,
   "metadata": {
    "scrolled": false
   },
   "outputs": [
    {
     "data": {
      "text/plain": [
       "count      3169.000000\n",
       "mean       1530.855159\n",
       "std       12178.918738\n",
       "min          14.000000\n",
       "25%         299.000000\n",
       "50%         728.000000\n",
       "75%        1547.000000\n",
       "max      675000.000000\n",
       "Name: summ, dtype: float64"
      ]
     },
     "execution_count": 34,
     "metadata": {},
     "output_type": "execute_result"
    }
   ],
   "source": [
    "sales_by_customers['summ'].describe()"
   ]
  },
  {
   "cell_type": "markdown",
   "metadata": {},
   "source": [
    "Сформируем распределение разовых покупок. Средняя сумма покупки на покупателя - 1618 рублей. Медиана - 742 рубля. Стандартное отклонение - 12 541 руб. Большая разница между медианой и средним говорит о том, что данные неоднородны и есть крупные покупки, влияющие на среднее значение. Третий квартиль - на уровне 1 612 руб."
   ]
  },
  {
   "cell_type": "code",
   "execution_count": 35,
   "metadata": {},
   "outputs": [
    {
     "data": {
      "text/html": [
       "<div>\n",
       "<style scoped>\n",
       "    .dataframe tbody tr th:only-of-type {\n",
       "        vertical-align: middle;\n",
       "    }\n",
       "\n",
       "    .dataframe tbody tr th {\n",
       "        vertical-align: top;\n",
       "    }\n",
       "\n",
       "    .dataframe thead th {\n",
       "        text-align: right;\n",
       "    }\n",
       "</style>\n",
       "<table border=\"1\" class=\"dataframe\">\n",
       "  <thead>\n",
       "    <tr style=\"text-align: right;\">\n",
       "      <th></th>\n",
       "      <th>order_id</th>\n",
       "      <th>event_date</th>\n",
       "      <th>customer_id</th>\n",
       "      <th>summ</th>\n",
       "    </tr>\n",
       "  </thead>\n",
       "  <tbody>\n",
       "    <tr>\n",
       "      <td>0</td>\n",
       "      <td>12624</td>\n",
       "      <td>2019-06-02</td>\n",
       "      <td>d17861fa-db5f-4de4-93fd-dc5e60d24d3e</td>\n",
       "      <td>375.0</td>\n",
       "    </tr>\n",
       "    <tr>\n",
       "      <td>1</td>\n",
       "      <td>13547</td>\n",
       "      <td>2018-10-05</td>\n",
       "      <td>b80e4826-7218-4bf9-ac08-eb2c81ab3f62</td>\n",
       "      <td>684.0</td>\n",
       "    </tr>\n",
       "    <tr>\n",
       "      <td>2</td>\n",
       "      <td>13547</td>\n",
       "      <td>2018-10-23</td>\n",
       "      <td>b80e4826-7218-4bf9-ac08-eb2c81ab3f62</td>\n",
       "      <td>684.0</td>\n",
       "    </tr>\n",
       "    <tr>\n",
       "      <td>3</td>\n",
       "      <td>13547</td>\n",
       "      <td>2018-10-28</td>\n",
       "      <td>b80e4826-7218-4bf9-ac08-eb2c81ab3f62</td>\n",
       "      <td>684.0</td>\n",
       "    </tr>\n",
       "    <tr>\n",
       "      <td>4</td>\n",
       "      <td>13547</td>\n",
       "      <td>2018-11-02</td>\n",
       "      <td>b80e4826-7218-4bf9-ac08-eb2c81ab3f62</td>\n",
       "      <td>684.0</td>\n",
       "    </tr>\n",
       "    <tr>\n",
       "      <td>...</td>\n",
       "      <td>...</td>\n",
       "      <td>...</td>\n",
       "      <td>...</td>\n",
       "      <td>...</td>\n",
       "    </tr>\n",
       "    <tr>\n",
       "      <td>3164</td>\n",
       "      <td>73155</td>\n",
       "      <td>2019-10-31</td>\n",
       "      <td>f17ed857-178e-45e1-a662-0a9dd3b58c5f</td>\n",
       "      <td>329.0</td>\n",
       "    </tr>\n",
       "    <tr>\n",
       "      <td>3165</td>\n",
       "      <td>73156</td>\n",
       "      <td>2019-10-31</td>\n",
       "      <td>73d1cd35-5e5f-4629-8cf2-3fda829d4e58</td>\n",
       "      <td>404.0</td>\n",
       "    </tr>\n",
       "    <tr>\n",
       "      <td>3166</td>\n",
       "      <td>73158</td>\n",
       "      <td>2019-10-31</td>\n",
       "      <td>1f0a7f35-7459-4f23-b468-5e45bf481dd1</td>\n",
       "      <td>1087.0</td>\n",
       "    </tr>\n",
       "    <tr>\n",
       "      <td>3167</td>\n",
       "      <td>73162</td>\n",
       "      <td>2019-10-31</td>\n",
       "      <td>25df96a7-c453-4708-9cea-a3dfc7c342ea</td>\n",
       "      <td>157.0</td>\n",
       "    </tr>\n",
       "    <tr>\n",
       "      <td>3168</td>\n",
       "      <td>73164</td>\n",
       "      <td>2019-10-31</td>\n",
       "      <td>73d1cd35-5e5f-4629-8cf2-3fda829d4e58</td>\n",
       "      <td>397.0</td>\n",
       "    </tr>\n",
       "  </tbody>\n",
       "</table>\n",
       "<p>3169 rows × 4 columns</p>\n",
       "</div>"
      ],
      "text/plain": [
       "      order_id event_date                           customer_id    summ\n",
       "0        12624 2019-06-02  d17861fa-db5f-4de4-93fd-dc5e60d24d3e   375.0\n",
       "1        13547 2018-10-05  b80e4826-7218-4bf9-ac08-eb2c81ab3f62   684.0\n",
       "2        13547 2018-10-23  b80e4826-7218-4bf9-ac08-eb2c81ab3f62   684.0\n",
       "3        13547 2018-10-28  b80e4826-7218-4bf9-ac08-eb2c81ab3f62   684.0\n",
       "4        13547 2018-11-02  b80e4826-7218-4bf9-ac08-eb2c81ab3f62   684.0\n",
       "...        ...        ...                                   ...     ...\n",
       "3164     73155 2019-10-31  f17ed857-178e-45e1-a662-0a9dd3b58c5f   329.0\n",
       "3165     73156 2019-10-31  73d1cd35-5e5f-4629-8cf2-3fda829d4e58   404.0\n",
       "3166     73158 2019-10-31  1f0a7f35-7459-4f23-b468-5e45bf481dd1  1087.0\n",
       "3167     73162 2019-10-31  25df96a7-c453-4708-9cea-a3dfc7c342ea   157.0\n",
       "3168     73164 2019-10-31  73d1cd35-5e5f-4629-8cf2-3fda829d4e58   397.0\n",
       "\n",
       "[3169 rows x 4 columns]"
      ]
     },
     "execution_count": 35,
     "metadata": {},
     "output_type": "execute_result"
    }
   ],
   "source": [
    "sales_by_customers"
   ]
  },
  {
   "cell_type": "code",
   "execution_count": 36,
   "metadata": {
    "scrolled": false
   },
   "outputs": [
    {
     "data": {
      "text/html": [
       "<div>\n",
       "<style scoped>\n",
       "    .dataframe tbody tr th:only-of-type {\n",
       "        vertical-align: middle;\n",
       "    }\n",
       "\n",
       "    .dataframe tbody tr th {\n",
       "        vertical-align: top;\n",
       "    }\n",
       "\n",
       "    .dataframe thead th {\n",
       "        text-align: right;\n",
       "    }\n",
       "</style>\n",
       "<table border=\"1\" class=\"dataframe\">\n",
       "  <thead>\n",
       "    <tr style=\"text-align: right;\">\n",
       "      <th></th>\n",
       "      <th>order_id</th>\n",
       "      <th>event_date</th>\n",
       "      <th>customer_id</th>\n",
       "      <th>summ</th>\n",
       "    </tr>\n",
       "  </thead>\n",
       "  <tbody>\n",
       "    <tr>\n",
       "      <td>1647</td>\n",
       "      <td>70589</td>\n",
       "      <td>2019-03-04</td>\n",
       "      <td>c971fb21-d54c-4134-938f-16b62ee86d3b</td>\n",
       "      <td>374.0</td>\n",
       "    </tr>\n",
       "  </tbody>\n",
       "</table>\n",
       "</div>"
      ],
      "text/plain": [
       "      order_id event_date                           customer_id   summ\n",
       "1647     70589 2019-03-04  c971fb21-d54c-4134-938f-16b62ee86d3b  374.0"
      ]
     },
     "execution_count": 36,
     "metadata": {},
     "output_type": "execute_result"
    }
   ],
   "source": [
    "sales_by_customers.sample()"
   ]
  },
  {
   "cell_type": "code",
   "execution_count": 37,
   "metadata": {},
   "outputs": [],
   "source": [
    "sales_by_customers['date_num'] = sales_by_customers['event_date'].astype(int)"
   ]
  },
  {
   "cell_type": "code",
   "execution_count": 38,
   "metadata": {},
   "outputs": [
    {
     "data": {
      "image/png": "[encoded data removed]",
      "text/plain": [
       "<Figure size 432x288 with 1 Axes>"
      ]
     },
     "metadata": {
      "needs_background": "light"
     },
     "output_type": "display_data"
    }
   ],
   "source": [
    "sns.scatterplot(x = 'date_num', y = 'summ',data = sales_by_customers)\n",
    "plt.title('Распределение стоимости заказов');"
   ]
  },
  {
   "cell_type": "code",
   "execution_count": 39,
   "metadata": {
    "scrolled": true
   },
   "outputs": [
    {
     "data": {
      "image/png": "[encoded data removed]",
      "text/plain": [
       "<Figure size 432x288 with 1 Axes>"
      ]
     },
     "metadata": {
      "needs_background": "light"
     },
     "output_type": "display_data"
    }
   ],
   "source": [
    "sns.scatterplot(x = 'date_num', y = 'summ',data = sales_by_customers)\n",
    "plt.title('Распределение стоимости заказов');"
   ]
  },
  {
   "cell_type": "markdown",
   "metadata": {},
   "source": [
    "Сформируем точечную диаграмму распределения разовых покупок. На диаграмме видно, что основная плотность приходится на заказы до 4 000 руб. Но и до 6 000 достаточно много заказов. Предлагается сегментировать покупателей по заказам, суммой не более 6 000 руб."
   ]
  },
  {
   "cell_type": "code",
   "execution_count": 40,
   "metadata": {},
   "outputs": [],
   "source": [
    "anomal_transaction_lst = sales_by_customers.query('summ>6000')['order_id'].unique().tolist()"
   ]
  },
  {
   "cell_type": "markdown",
   "metadata": {},
   "source": [
    "Сформируем список заказов, в которых есть аномально большие транзакции (на предыдущей итерации проекта мы определили, что это транзакции, суммой больше 6000)"
   ]
  },
  {
   "cell_type": "code",
   "execution_count": 41,
   "metadata": {},
   "outputs": [],
   "source": [
    "sales_by_customers = sales_by_customers.query('order_id not in @anomal_transaction_lst')"
   ]
  },
  {
   "cell_type": "markdown",
   "metadata": {},
   "source": [
    "Отфильтруем эти заказы целиком"
   ]
  },
  {
   "cell_type": "code",
   "execution_count": 42,
   "metadata": {},
   "outputs": [
    {
     "data": {
      "image/png": "[encoded data removed]",
      "text/plain": [
       "<Figure size 432x288 with 1 Axes>"
      ]
     },
     "metadata": {
      "needs_background": "light"
     },
     "output_type": "display_data"
    }
   ],
   "source": [
    "sales_by_customers.plot(x = 'date_num', y = 'summ', kind = 'scatter', grid = True,alpha=0.15)\n",
    "plt.title('Распределение стоимости заказов');\n",
    "#plt.savefig('dist_sum.png', transparent=True)"
   ]
  },
  {
   "cell_type": "code",
   "execution_count": 43,
   "metadata": {},
   "outputs": [],
   "source": [
    "cust_qty = sales_by_customers.groupby(['customer_id']).agg({'order_id':'nunique'}).reset_index()"
   ]
  },
  {
   "cell_type": "code",
   "execution_count": 44,
   "metadata": {
    "scrolled": true
   },
   "outputs": [
    {
     "data": {
      "text/html": [
       "<div>\n",
       "<style scoped>\n",
       "    .dataframe tbody tr th:only-of-type {\n",
       "        vertical-align: middle;\n",
       "    }\n",
       "\n",
       "    .dataframe tbody tr th {\n",
       "        vertical-align: top;\n",
       "    }\n",
       "\n",
       "    .dataframe thead th {\n",
       "        text-align: right;\n",
       "    }\n",
       "</style>\n",
       "<table border=\"1\" class=\"dataframe\">\n",
       "  <thead>\n",
       "    <tr style=\"text-align: right;\">\n",
       "      <th></th>\n",
       "      <th>order_id</th>\n",
       "    </tr>\n",
       "  </thead>\n",
       "  <tbody>\n",
       "    <tr>\n",
       "      <td>count</td>\n",
       "      <td>2390.000000</td>\n",
       "    </tr>\n",
       "    <tr>\n",
       "      <td>mean</td>\n",
       "      <td>1.147280</td>\n",
       "    </tr>\n",
       "    <tr>\n",
       "      <td>std</td>\n",
       "      <td>2.655318</td>\n",
       "    </tr>\n",
       "    <tr>\n",
       "      <td>min</td>\n",
       "      <td>1.000000</td>\n",
       "    </tr>\n",
       "    <tr>\n",
       "      <td>25%</td>\n",
       "      <td>1.000000</td>\n",
       "    </tr>\n",
       "    <tr>\n",
       "      <td>50%</td>\n",
       "      <td>1.000000</td>\n",
       "    </tr>\n",
       "    <tr>\n",
       "      <td>75%</td>\n",
       "      <td>1.000000</td>\n",
       "    </tr>\n",
       "    <tr>\n",
       "      <td>max</td>\n",
       "      <td>125.000000</td>\n",
       "    </tr>\n",
       "  </tbody>\n",
       "</table>\n",
       "</div>"
      ],
      "text/plain": [
       "          order_id\n",
       "count  2390.000000\n",
       "mean      1.147280\n",
       "std       2.655318\n",
       "min       1.000000\n",
       "25%       1.000000\n",
       "50%       1.000000\n",
       "75%       1.000000\n",
       "max     125.000000"
      ]
     },
     "execution_count": 44,
     "metadata": {},
     "output_type": "execute_result"
    }
   ],
   "source": [
    "cust_qty.describe()"
   ]
  },
  {
   "cell_type": "markdown",
   "metadata": {},
   "source": [
    "Оптовые клиенты могут исказить картину при последующей сегментации, т.к. потребительское поведение розничных и оптовых клиентов различается. Также персональные предложения некорректно будет формировать для сегментов со смешанными оптово-розничными клиентами, для оптовых покупателей не подойдут персонифицированные предложения для розничных клиентов. Чтобы выявить оптовых клиентов, проанализируем датасет среднего заказа за весь период (с учетом фильтрации датасета по заказам больше 6 000). Если за год покупатель делал определенное количество заказов, с большей долей вероятности его можно отнести к оптовым клиентам."
   ]
  },
  {
   "cell_type": "code",
   "execution_count": 45,
   "metadata": {
    "scrolled": true
   },
   "outputs": [
    {
     "data": {
      "image/png": "[encoded data removed]",
      "text/plain": [
       "<Figure size 432x288 with 1 Axes>"
      ]
     },
     "metadata": {
      "needs_background": "light"
     },
     "output_type": "display_data"
    }
   ],
   "source": [
    "cust_qty.boxplot(column = 'order_id')\n",
    "plt.title('Распределение количества заказов на покупателя');\n",
    "#plt.savefig('dist_orders.png', transparent=True)"
   ]
  },
  {
   "cell_type": "markdown",
   "metadata": {},
   "source": [
    "Распределение показывает, что линия до 8 заказов на боксплоте непрерывна. Далее - небольшой непрерывный сегмент по 10-12 заказов в год. Выше - аномально большие заказы. Предлагается отфильтровать пользователей с заказами более 10, как оптовых."
   ]
  },
  {
   "cell_type": "code",
   "execution_count": 46,
   "metadata": {},
   "outputs": [],
   "source": [
    "sum_retail_customers = sales_by_customers['customer_id'].unique().tolist()"
   ]
  },
  {
   "cell_type": "markdown",
   "metadata": {},
   "source": [
    "Сформируем список id клиентов с разовыми заказами менее 6000."
   ]
  },
  {
   "cell_type": "code",
   "execution_count": 47,
   "metadata": {},
   "outputs": [],
   "source": [
    "qty_retail_customers = cust_qty.query('order_id<10')['customer_id'].unique().tolist()"
   ]
  },
  {
   "cell_type": "markdown",
   "metadata": {},
   "source": [
    "Сформируем список id клиентов с количеством, не более 10 заказов в год."
   ]
  },
  {
   "cell_type": "code",
   "execution_count": 48,
   "metadata": {},
   "outputs": [],
   "source": [
    "final_client_lst= list(set(sum_retail_customers) & set(qty_retail_customers))#sum_retail_customers + qty_retail_customers"
   ]
  },
  {
   "cell_type": "markdown",
   "metadata": {},
   "source": [
    "Объединим списки по пересечению (только те id, которые есть в обоих списках)"
   ]
  },
  {
   "cell_type": "code",
   "execution_count": 49,
   "metadata": {},
   "outputs": [],
   "source": [
    "res = np.array(final_client_lst)\n",
    "final_client_lst = np.unique(res)"
   ]
  },
  {
   "cell_type": "markdown",
   "metadata": {},
   "source": [
    "Сформируем список уникальных id (без повторов)"
   ]
  },
  {
   "cell_type": "code",
   "execution_count": 50,
   "metadata": {},
   "outputs": [
    {
     "data": {
      "text/plain": [
       "64"
      ]
     },
     "execution_count": 50,
     "metadata": {},
     "output_type": "execute_result"
    }
   ],
   "source": [
    "uni_customer - len(final_client_lst)"
   ]
  },
  {
   "cell_type": "markdown",
   "metadata": {},
   "source": [
    "В процессе нормализации данных были отфильтрованы данные о продажах 64 покупателям."
   ]
  },
  {
   "cell_type": "code",
   "execution_count": 51,
   "metadata": {},
   "outputs": [],
   "source": [
    "df = df.query('customer_id in @final_client_lst')"
   ]
  },
  {
   "cell_type": "code",
   "execution_count": 52,
   "metadata": {},
   "outputs": [
    {
     "name": "stdout",
     "output_type": "stream",
     "text": [
      "<class 'pandas.core.frame.DataFrame'>\n",
      "Int64Index: 5270 entries, 0 to 6736\n",
      "Data columns (total 13 columns):\n",
      "date               5270 non-null datetime64[ns]\n",
      "customer_id        5270 non-null object\n",
      "order_id           5270 non-null int64\n",
      "product            5270 non-null object\n",
      "quantity           5270 non-null int64\n",
      "price              5270 non-null float64\n",
      "event_date         5270 non-null datetime64[ns]\n",
      "event_month        5270 non-null datetime64[ns]\n",
      "first_word         5270 non-null object\n",
      "first_name_word    5270 non-null object\n",
      "category           5270 non-null object\n",
      "category_big       5270 non-null object\n",
      "summ               5270 non-null float64\n",
      "dtypes: datetime64[ns](3), float64(2), int64(2), object(6)\n",
      "memory usage: 576.4+ KB\n"
     ]
    }
   ],
   "source": [
    "df.info()"
   ]
  },
  {
   "cell_type": "code",
   "execution_count": 104,
   "metadata": {},
   "outputs": [
    {
     "data": {
      "text/html": [
       "<div>\n",
       "<style scoped>\n",
       "    .dataframe tbody tr th:only-of-type {\n",
       "        vertical-align: middle;\n",
       "    }\n",
       "\n",
       "    .dataframe tbody tr th {\n",
       "        vertical-align: top;\n",
       "    }\n",
       "\n",
       "    .dataframe thead th {\n",
       "        text-align: right;\n",
       "    }\n",
       "</style>\n",
       "<table border=\"1\" class=\"dataframe\">\n",
       "  <thead>\n",
       "    <tr style=\"text-align: right;\">\n",
       "      <th></th>\n",
       "      <th>date</th>\n",
       "      <th>customer_id</th>\n",
       "      <th>order_id</th>\n",
       "      <th>product</th>\n",
       "      <th>quantity</th>\n",
       "      <th>price</th>\n",
       "      <th>event_date</th>\n",
       "      <th>event_month</th>\n",
       "      <th>first_word</th>\n",
       "      <th>first_name_word</th>\n",
       "      <th>category</th>\n",
       "      <th>category_big</th>\n",
       "      <th>summ</th>\n",
       "      <th>cluster_km</th>\n",
       "    </tr>\n",
       "  </thead>\n",
       "  <tbody>\n",
       "    <tr>\n",
       "      <td>0</td>\n",
       "      <td>2018-10-01</td>\n",
       "      <td>ee47d746-6d2f-4d3c-9622-c31412542920</td>\n",
       "      <td>68477</td>\n",
       "      <td>комнатное растение в горшке алое вера, d12, h30</td>\n",
       "      <td>1</td>\n",
       "      <td>142.0</td>\n",
       "      <td>2018-10-01</td>\n",
       "      <td>2018-10-01</td>\n",
       "      <td>комнатное</td>\n",
       "      <td>комнатное</td>\n",
       "      <td>растения</td>\n",
       "      <td>растения</td>\n",
       "      <td>142.0</td>\n",
       "      <td>0</td>\n",
       "    </tr>\n",
       "    <tr>\n",
       "      <td>1</td>\n",
       "      <td>2018-10-01</td>\n",
       "      <td>ee47d746-6d2f-4d3c-9622-c31412542920</td>\n",
       "      <td>68477</td>\n",
       "      <td>комнатное растение в горшке кофе арабика, d12,...</td>\n",
       "      <td>1</td>\n",
       "      <td>194.0</td>\n",
       "      <td>2018-10-01</td>\n",
       "      <td>2018-10-01</td>\n",
       "      <td>комнатное</td>\n",
       "      <td>комнатное</td>\n",
       "      <td>растения</td>\n",
       "      <td>растения</td>\n",
       "      <td>194.0</td>\n",
       "      <td>0</td>\n",
       "    </tr>\n",
       "    <tr>\n",
       "      <td>2</td>\n",
       "      <td>2018-10-01</td>\n",
       "      <td>ee47d746-6d2f-4d3c-9622-c31412542920</td>\n",
       "      <td>68477</td>\n",
       "      <td>радермахера d-12 см h-20 см</td>\n",
       "      <td>1</td>\n",
       "      <td>112.0</td>\n",
       "      <td>2018-10-01</td>\n",
       "      <td>2018-10-01</td>\n",
       "      <td>радермахера</td>\n",
       "      <td>радермахера</td>\n",
       "      <td>растения</td>\n",
       "      <td>растения</td>\n",
       "      <td>112.0</td>\n",
       "      <td>0</td>\n",
       "    </tr>\n",
       "    <tr>\n",
       "      <td>3</td>\n",
       "      <td>2018-10-01</td>\n",
       "      <td>ee47d746-6d2f-4d3c-9622-c31412542920</td>\n",
       "      <td>68477</td>\n",
       "      <td>хризолидокарпус лутесценс d-9 см</td>\n",
       "      <td>1</td>\n",
       "      <td>179.0</td>\n",
       "      <td>2018-10-01</td>\n",
       "      <td>2018-10-01</td>\n",
       "      <td>хризолидокарпус</td>\n",
       "      <td>хризолидокарпус</td>\n",
       "      <td>растения</td>\n",
       "      <td>растения</td>\n",
       "      <td>179.0</td>\n",
       "      <td>0</td>\n",
       "    </tr>\n",
       "    <tr>\n",
       "      <td>4</td>\n",
       "      <td>2018-10-01</td>\n",
       "      <td>ee47d746-6d2f-4d3c-9622-c31412542920</td>\n",
       "      <td>68477</td>\n",
       "      <td>циперус зумула d-12 см h-25 см</td>\n",
       "      <td>1</td>\n",
       "      <td>112.0</td>\n",
       "      <td>2018-10-01</td>\n",
       "      <td>2018-10-01</td>\n",
       "      <td>циперус</td>\n",
       "      <td>циперус</td>\n",
       "      <td>растения</td>\n",
       "      <td>растения</td>\n",
       "      <td>112.0</td>\n",
       "      <td>0</td>\n",
       "    </tr>\n",
       "  </tbody>\n",
       "</table>\n",
       "</div>"
      ],
      "text/plain": [
       "        date                           customer_id  order_id  \\\n",
       "0 2018-10-01  ee47d746-6d2f-4d3c-9622-c31412542920     68477   \n",
       "1 2018-10-01  ee47d746-6d2f-4d3c-9622-c31412542920     68477   \n",
       "2 2018-10-01  ee47d746-6d2f-4d3c-9622-c31412542920     68477   \n",
       "3 2018-10-01  ee47d746-6d2f-4d3c-9622-c31412542920     68477   \n",
       "4 2018-10-01  ee47d746-6d2f-4d3c-9622-c31412542920     68477   \n",
       "\n",
       "                                             product  quantity  price  \\\n",
       "0    комнатное растение в горшке алое вера, d12, h30         1  142.0   \n",
       "1  комнатное растение в горшке кофе арабика, d12,...         1  194.0   \n",
       "2                        радермахера d-12 см h-20 см         1  112.0   \n",
       "3                   хризолидокарпус лутесценс d-9 см         1  179.0   \n",
       "4                     циперус зумула d-12 см h-25 см         1  112.0   \n",
       "\n",
       "  event_date event_month       first_word  first_name_word  category  \\\n",
       "0 2018-10-01  2018-10-01        комнатное        комнатное  растения   \n",
       "1 2018-10-01  2018-10-01        комнатное        комнатное  растения   \n",
       "2 2018-10-01  2018-10-01      радермахера      радермахера  растения   \n",
       "3 2018-10-01  2018-10-01  хризолидокарпус  хризолидокарпус  растения   \n",
       "4 2018-10-01  2018-10-01          циперус          циперус  растения   \n",
       "\n",
       "  category_big   summ  cluster_km  \n",
       "0     растения  142.0           0  \n",
       "1     растения  194.0           0  \n",
       "2     растения  112.0           0  \n",
       "3     растения  179.0           0  \n",
       "4     растения  112.0           0  "
      ]
     },
     "execution_count": 104,
     "metadata": {},
     "output_type": "execute_result"
    }
   ],
   "source": [
    "df.head()"
   ]
  },
  {
   "cell_type": "markdown",
   "metadata": {},
   "source": [
    "Выведем информацию об отфильтрованном датасете. В результате фильтрации количество строк сократилось с 6736 до 5270."
   ]
  },
  {
   "cell_type": "markdown",
   "metadata": {},
   "source": [
    "## Сегментация пользователей."
   ]
  },
  {
   "cell_type": "code",
   "execution_count": 53,
   "metadata": {},
   "outputs": [],
   "source": [
    "scaler = StandardScaler()"
   ]
  },
  {
   "cell_type": "markdown",
   "metadata": {},
   "source": [
    "Проведем обязательную стандартизацию перед работой с алгоритмамти кластеризации."
   ]
  },
  {
   "cell_type": "code",
   "execution_count": 54,
   "metadata": {},
   "outputs": [],
   "source": [
    "df_cluster = df.pivot_table(index = ['customer_id','category_big'], values = ['quantity', 'summ'], aggfunc = 'sum').reset_index()"
   ]
  },
  {
   "cell_type": "markdown",
   "metadata": {},
   "source": [
    "Сформируем датасет для кластеризации, содержащий только необходимые поля (сгруппированные по id клиента и категории, категорию и количество приобретенного товара)"
   ]
  },
  {
   "cell_type": "code",
   "execution_count": 55,
   "metadata": {
    "scrolled": true
   },
   "outputs": [
    {
     "data": {
      "text/plain": [
       "2471"
      ]
     },
     "execution_count": 55,
     "metadata": {},
     "output_type": "execute_result"
    }
   ],
   "source": [
    "df_dummed = pd.get_dummies(df_cluster, columns=['category_big'])\n",
    "df_dummed.shape[0]"
   ]
  },
  {
   "cell_type": "markdown",
   "metadata": {},
   "source": [
    "Для последующей кластеризации клиентов переведем категориальный признак 'category_big' в бинарный. Применим стандартизацию one-hot encoding, она представит поле \"категория\" как множество бинарных полей."
   ]
  },
  {
   "cell_type": "code",
   "execution_count": 56,
   "metadata": {},
   "outputs": [],
   "source": [
    "cols = list(df_dummed.columns)\n",
    "cols = cols[3:12]\n",
    "for el in cols:\n",
    "    df_dummed[el] = np.where((df_dummed[el] == 0), 0, df_dummed['quantity'])"
   ]
  },
  {
   "cell_type": "markdown",
   "metadata": {},
   "source": [
    "После стандартизации one-hot encoding получены бинарные поля. Но для корректной кластеризации недостаточно бинарного признака, количество приобретенного товара важно для корректной сегментации клиентов. Запишем на место бинарных признаков количество единиц товара, чтобы алгоритм кластеризации мог бы учитывать веса, а не только факт покупки определенной категории товара. "
   ]
  },
  {
   "cell_type": "code",
   "execution_count": 57,
   "metadata": {},
   "outputs": [
    {
     "data": {
      "text/html": [
       "<div>\n",
       "<style scoped>\n",
       "    .dataframe tbody tr th:only-of-type {\n",
       "        vertical-align: middle;\n",
       "    }\n",
       "\n",
       "    .dataframe tbody tr th {\n",
       "        vertical-align: top;\n",
       "    }\n",
       "\n",
       "    .dataframe thead th {\n",
       "        text-align: right;\n",
       "    }\n",
       "</style>\n",
       "<table border=\"1\" class=\"dataframe\">\n",
       "  <thead>\n",
       "    <tr style=\"text-align: right;\">\n",
       "      <th></th>\n",
       "      <th>customer_id</th>\n",
       "      <th>quantity</th>\n",
       "      <th>summ</th>\n",
       "      <th>category_big_бытовая техника</th>\n",
       "      <th>category_big_декор и интерьер</th>\n",
       "      <th>category_big_инструмент и расходные материалы</th>\n",
       "      <th>category_big_мебель</th>\n",
       "      <th>category_big_прочее</th>\n",
       "      <th>category_big_растения</th>\n",
       "      <th>category_big_сад</th>\n",
       "      <th>category_big_товары для ванной</th>\n",
       "      <th>category_big_товары для кухни</th>\n",
       "    </tr>\n",
       "  </thead>\n",
       "  <tbody>\n",
       "    <tr>\n",
       "      <td>145</td>\n",
       "      <td>0efde029-f588-4d48-9a62-a90597443d0f</td>\n",
       "      <td>2</td>\n",
       "      <td>3298.0</td>\n",
       "      <td>0</td>\n",
       "      <td>0</td>\n",
       "      <td>0</td>\n",
       "      <td>0</td>\n",
       "      <td>2</td>\n",
       "      <td>0</td>\n",
       "      <td>0</td>\n",
       "      <td>0</td>\n",
       "      <td>0</td>\n",
       "    </tr>\n",
       "    <tr>\n",
       "      <td>1061</td>\n",
       "      <td>6f3534e1-6c25-4158-a342-874682a09aab</td>\n",
       "      <td>1</td>\n",
       "      <td>712.0</td>\n",
       "      <td>0</td>\n",
       "      <td>0</td>\n",
       "      <td>0</td>\n",
       "      <td>0</td>\n",
       "      <td>1</td>\n",
       "      <td>0</td>\n",
       "      <td>0</td>\n",
       "      <td>0</td>\n",
       "      <td>0</td>\n",
       "    </tr>\n",
       "    <tr>\n",
       "      <td>1939</td>\n",
       "      <td>caf8cd5f-f4ec-4bef-b5b2-4f4b61fb79a5</td>\n",
       "      <td>1</td>\n",
       "      <td>3524.0</td>\n",
       "      <td>0</td>\n",
       "      <td>0</td>\n",
       "      <td>0</td>\n",
       "      <td>0</td>\n",
       "      <td>1</td>\n",
       "      <td>0</td>\n",
       "      <td>0</td>\n",
       "      <td>0</td>\n",
       "      <td>0</td>\n",
       "    </tr>\n",
       "    <tr>\n",
       "      <td>2151</td>\n",
       "      <td>e012f706-9ba1-4482-8a9a-58d54e5c3a51</td>\n",
       "      <td>1</td>\n",
       "      <td>1087.0</td>\n",
       "      <td>0</td>\n",
       "      <td>0</td>\n",
       "      <td>0</td>\n",
       "      <td>0</td>\n",
       "      <td>1</td>\n",
       "      <td>0</td>\n",
       "      <td>0</td>\n",
       "      <td>0</td>\n",
       "      <td>0</td>\n",
       "    </tr>\n",
       "    <tr>\n",
       "      <td>2355</td>\n",
       "      <td>f39494d8-6341-4483-af44-6f3c53706c7b</td>\n",
       "      <td>1</td>\n",
       "      <td>134.0</td>\n",
       "      <td>0</td>\n",
       "      <td>0</td>\n",
       "      <td>0</td>\n",
       "      <td>0</td>\n",
       "      <td>0</td>\n",
       "      <td>1</td>\n",
       "      <td>0</td>\n",
       "      <td>0</td>\n",
       "      <td>0</td>\n",
       "    </tr>\n",
       "  </tbody>\n",
       "</table>\n",
       "</div>"
      ],
      "text/plain": [
       "                               customer_id  quantity    summ  \\\n",
       "145   0efde029-f588-4d48-9a62-a90597443d0f         2  3298.0   \n",
       "1061  6f3534e1-6c25-4158-a342-874682a09aab         1   712.0   \n",
       "1939  caf8cd5f-f4ec-4bef-b5b2-4f4b61fb79a5         1  3524.0   \n",
       "2151  e012f706-9ba1-4482-8a9a-58d54e5c3a51         1  1087.0   \n",
       "2355  f39494d8-6341-4483-af44-6f3c53706c7b         1   134.0   \n",
       "\n",
       "      category_big_бытовая техника  category_big_декор и интерьер  \\\n",
       "145                              0                              0   \n",
       "1061                             0                              0   \n",
       "1939                             0                              0   \n",
       "2151                             0                              0   \n",
       "2355                             0                              0   \n",
       "\n",
       "      category_big_инструмент и расходные материалы  category_big_мебель  \\\n",
       "145                                               0                    0   \n",
       "1061                                              0                    0   \n",
       "1939                                              0                    0   \n",
       "2151                                              0                    0   \n",
       "2355                                              0                    0   \n",
       "\n",
       "      category_big_прочее  category_big_растения  category_big_сад  \\\n",
       "145                     2                      0                 0   \n",
       "1061                    1                      0                 0   \n",
       "1939                    1                      0                 0   \n",
       "2151                    1                      0                 0   \n",
       "2355                    0                      1                 0   \n",
       "\n",
       "      category_big_товары для ванной  category_big_товары для кухни  \n",
       "145                                0                              0  \n",
       "1061                               0                              0  \n",
       "1939                               0                              0  \n",
       "2151                               0                              0  \n",
       "2355                               0                              0  "
      ]
     },
     "execution_count": 57,
     "metadata": {},
     "output_type": "execute_result"
    }
   ],
   "source": [
    "df_dummed.sample(5)"
   ]
  },
  {
   "cell_type": "code",
   "execution_count": 58,
   "metadata": {
    "scrolled": false
   },
   "outputs": [],
   "source": [
    "df_dummed = df_dummed.groupby('customer_id').agg('sum').reset_index()"
   ]
  },
  {
   "cell_type": "markdown",
   "metadata": {},
   "source": [
    "Сгруппируем датасет по id клиента."
   ]
  },
  {
   "cell_type": "code",
   "execution_count": 59,
   "metadata": {},
   "outputs": [],
   "source": [
    "X_sc = scaler.fit_transform(df_dummed.drop(columns = ['customer_id','summ','quantity'])) "
   ]
  },
  {
   "cell_type": "code",
   "execution_count": 60,
   "metadata": {},
   "outputs": [],
   "source": [
    "linked = linkage(X_sc, method = 'ward')"
   ]
  },
  {
   "cell_type": "code",
   "execution_count": 61,
   "metadata": {
    "scrolled": false
   },
   "outputs": [
    {
     "data": {
      "image/png": "[encoded data removed]",
      "text/plain": [
       "<Figure size 1080x720 with 1 Axes>"
      ]
     },
     "metadata": {
      "needs_background": "light"
     },
     "output_type": "display_data"
    }
   ],
   "source": [
    "plt.figure(figsize=(15, 10))  \n",
    "dendrogram(linked, orientation='top')\n",
    "plt.show()"
   ]
  },
  {
   "cell_type": "markdown",
   "metadata": {},
   "source": [
    "Построим дендрограмму, чтобы оценить количество кластеров. На дендрограмме видно, что ненакладывающееся друг на друга количество кластеров - примерно 6.Предлагается использовать 6 кластеров для кластеризации k-Means. Впоследствии можно оценить метрику силуэта и проверить корректность выбора количества кластеров."
   ]
  },
  {
   "cell_type": "code",
   "execution_count": 62,
   "metadata": {},
   "outputs": [],
   "source": [
    "km = KMeans(n_clusters = 5, random_state = 0)"
   ]
  },
  {
   "cell_type": "markdown",
   "metadata": {},
   "source": [
    "Зададим параметр n_clusters для k-means равный 5"
   ]
  },
  {
   "cell_type": "code",
   "execution_count": 63,
   "metadata": {},
   "outputs": [],
   "source": [
    "labels = km.fit_predict(X_sc)"
   ]
  },
  {
   "cell_type": "markdown",
   "metadata": {},
   "source": [
    "Спрогнозируем кластеры для наблюдений."
   ]
  },
  {
   "cell_type": "code",
   "execution_count": 64,
   "metadata": {},
   "outputs": [],
   "source": [
    "df_dummed['cluster_km'] = labels"
   ]
  },
  {
   "cell_type": "markdown",
   "metadata": {},
   "source": [
    "Сохраним метки кластера в столбце cluster_km исходного датасета."
   ]
  },
  {
   "cell_type": "code",
   "execution_count": 65,
   "metadata": {
    "scrolled": true
   },
   "outputs": [
    {
     "name": "stdout",
     "output_type": "stream",
     "text": [
      "Метрика силуэта: 0.73\n"
     ]
    }
   ],
   "source": [
    "print('Метрика силуэта: {:.2f}'.format(silhouette_score(X_sc, labels)))"
   ]
  },
  {
   "cell_type": "markdown",
   "metadata": {},
   "source": [
    "Посчитаем метрику силуэта для того, чтобы оценить качество кластеризации. Метрика силуэта интерпретируется следующим образом: чем ближе silhouette_score к 1, тем качественнее кластеризация, т.е. объект своего кластера похож на свой кластер больше, чем на чужой. В нашем слечае значение равно 0,74. Это может свидетельствовать о высоком качестве кластеризации."
   ]
  },
  {
   "cell_type": "code",
   "execution_count": 66,
   "metadata": {},
   "outputs": [
    {
     "name": "stdout",
     "output_type": "stream",
     "text": [
      "4\n"
     ]
    }
   ],
   "source": [
    "print(df_dummed['cluster_km'].max())"
   ]
  },
  {
   "cell_type": "code",
   "execution_count": 67,
   "metadata": {
    "scrolled": false
   },
   "outputs": [
    {
     "data": {
      "text/plain": [
       "0    2242\n",
       "1      92\n",
       "4      33\n",
       "2      17\n",
       "3       3\n",
       "Name: cluster_km, dtype: int64"
      ]
     },
     "execution_count": 67,
     "metadata": {},
     "output_type": "execute_result"
    }
   ],
   "source": [
    "df_dummed['cluster_km'].value_counts()"
   ]
  },
  {
   "cell_type": "markdown",
   "metadata": {},
   "source": [
    "Оценим наполнение кластеров по количеству клиентов"
   ]
  },
  {
   "cell_type": "code",
   "execution_count": 68,
   "metadata": {
    "scrolled": true
   },
   "outputs": [
    {
     "data": {
      "text/html": [
       "<div>\n",
       "<style scoped>\n",
       "    .dataframe tbody tr th:only-of-type {\n",
       "        vertical-align: middle;\n",
       "    }\n",
       "\n",
       "    .dataframe tbody tr th {\n",
       "        vertical-align: top;\n",
       "    }\n",
       "\n",
       "    .dataframe thead th {\n",
       "        text-align: right;\n",
       "    }\n",
       "</style>\n",
       "<table border=\"1\" class=\"dataframe\">\n",
       "  <thead>\n",
       "    <tr style=\"text-align: right;\">\n",
       "      <th></th>\n",
       "      <th>customer_id</th>\n",
       "      <th>cluster_km</th>\n",
       "    </tr>\n",
       "  </thead>\n",
       "  <tbody>\n",
       "    <tr>\n",
       "      <td>1777</td>\n",
       "      <td>bf7fa8ff-007a-41fa-a07e-f3cfb90aee36</td>\n",
       "      <td>0</td>\n",
       "    </tr>\n",
       "    <tr>\n",
       "      <td>2222</td>\n",
       "      <td>ef770989-4e4d-4f29-be2a-f7834846a483</td>\n",
       "      <td>0</td>\n",
       "    </tr>\n",
       "    <tr>\n",
       "      <td>1347</td>\n",
       "      <td>93548f94-40dc-4787-aef4-5da7f7058021</td>\n",
       "      <td>0</td>\n",
       "    </tr>\n",
       "    <tr>\n",
       "      <td>1667</td>\n",
       "      <td>b4d0da2e-e1c7-4470-922f-d7f9632aee0f</td>\n",
       "      <td>1</td>\n",
       "    </tr>\n",
       "    <tr>\n",
       "      <td>1406</td>\n",
       "      <td>98de0e2a-2e04-48de-a12c-c139394c8da4</td>\n",
       "      <td>0</td>\n",
       "    </tr>\n",
       "  </tbody>\n",
       "</table>\n",
       "</div>"
      ],
      "text/plain": [
       "                               customer_id  cluster_km\n",
       "1777  bf7fa8ff-007a-41fa-a07e-f3cfb90aee36           0\n",
       "2222  ef770989-4e4d-4f29-be2a-f7834846a483           0\n",
       "1347  93548f94-40dc-4787-aef4-5da7f7058021           0\n",
       "1667  b4d0da2e-e1c7-4470-922f-d7f9632aee0f           1\n",
       "1406  98de0e2a-2e04-48de-a12c-c139394c8da4           0"
      ]
     },
     "execution_count": 68,
     "metadata": {},
     "output_type": "execute_result"
    }
   ],
   "source": [
    "customer_cluster_lst = df_dummed.drop(columns = ['summ','quantity','category_big_бытовая техника','category_big_декор и интерьер','category_big_инструмент и расходные материалы','category_big_мебель','category_big_прочее','category_big_растения','category_big_сад','category_big_товары для ванной','category_big_товары для кухни'])\n",
    "customer_cluster_lst.sample(5)"
   ]
  },
  {
   "cell_type": "markdown",
   "metadata": {},
   "source": [
    "Сформируем справочник соответствий покупателей и кластеров"
   ]
  },
  {
   "cell_type": "code",
   "execution_count": 69,
   "metadata": {},
   "outputs": [],
   "source": [
    "df = df.merge(customer_cluster_lst, left_on ='customer_id', right_on = 'customer_id', how = 'left')"
   ]
  },
  {
   "cell_type": "markdown",
   "metadata": {},
   "source": [
    "Объединим основной датасет и справочник кластеров"
   ]
  },
  {
   "cell_type": "code",
   "execution_count": 70,
   "metadata": {},
   "outputs": [
    {
     "data": {
      "text/html": [
       "<div>\n",
       "<style scoped>\n",
       "    .dataframe tbody tr th:only-of-type {\n",
       "        vertical-align: middle;\n",
       "    }\n",
       "\n",
       "    .dataframe tbody tr th {\n",
       "        vertical-align: top;\n",
       "    }\n",
       "\n",
       "    .dataframe thead th {\n",
       "        text-align: right;\n",
       "    }\n",
       "</style>\n",
       "<table border=\"1\" class=\"dataframe\">\n",
       "  <thead>\n",
       "    <tr style=\"text-align: right;\">\n",
       "      <th></th>\n",
       "      <th>date</th>\n",
       "      <th>customer_id</th>\n",
       "      <th>order_id</th>\n",
       "      <th>product</th>\n",
       "      <th>quantity</th>\n",
       "      <th>price</th>\n",
       "      <th>event_date</th>\n",
       "      <th>event_month</th>\n",
       "      <th>first_word</th>\n",
       "      <th>first_name_word</th>\n",
       "      <th>category</th>\n",
       "      <th>category_big</th>\n",
       "      <th>summ</th>\n",
       "      <th>cluster_km</th>\n",
       "    </tr>\n",
       "  </thead>\n",
       "  <tbody>\n",
       "    <tr>\n",
       "      <td>0</td>\n",
       "      <td>2018-10-01</td>\n",
       "      <td>ee47d746-6d2f-4d3c-9622-c31412542920</td>\n",
       "      <td>68477</td>\n",
       "      <td>комнатное растение в горшке алое вера, d12, h30</td>\n",
       "      <td>1</td>\n",
       "      <td>142.0</td>\n",
       "      <td>2018-10-01</td>\n",
       "      <td>2018-10-01</td>\n",
       "      <td>комнатное</td>\n",
       "      <td>комнатное</td>\n",
       "      <td>растения</td>\n",
       "      <td>растения</td>\n",
       "      <td>142.0</td>\n",
       "      <td>0</td>\n",
       "    </tr>\n",
       "    <tr>\n",
       "      <td>1</td>\n",
       "      <td>2018-10-01</td>\n",
       "      <td>ee47d746-6d2f-4d3c-9622-c31412542920</td>\n",
       "      <td>68477</td>\n",
       "      <td>комнатное растение в горшке кофе арабика, d12,...</td>\n",
       "      <td>1</td>\n",
       "      <td>194.0</td>\n",
       "      <td>2018-10-01</td>\n",
       "      <td>2018-10-01</td>\n",
       "      <td>комнатное</td>\n",
       "      <td>комнатное</td>\n",
       "      <td>растения</td>\n",
       "      <td>растения</td>\n",
       "      <td>194.0</td>\n",
       "      <td>0</td>\n",
       "    </tr>\n",
       "  </tbody>\n",
       "</table>\n",
       "</div>"
      ],
      "text/plain": [
       "        date                           customer_id  order_id  \\\n",
       "0 2018-10-01  ee47d746-6d2f-4d3c-9622-c31412542920     68477   \n",
       "1 2018-10-01  ee47d746-6d2f-4d3c-9622-c31412542920     68477   \n",
       "\n",
       "                                             product  quantity  price  \\\n",
       "0    комнатное растение в горшке алое вера, d12, h30         1  142.0   \n",
       "1  комнатное растение в горшке кофе арабика, d12,...         1  194.0   \n",
       "\n",
       "  event_date event_month first_word first_name_word  category category_big  \\\n",
       "0 2018-10-01  2018-10-01  комнатное       комнатное  растения     растения   \n",
       "1 2018-10-01  2018-10-01  комнатное       комнатное  растения     растения   \n",
       "\n",
       "    summ  cluster_km  \n",
       "0  142.0           0  \n",
       "1  194.0           0  "
      ]
     },
     "execution_count": 70,
     "metadata": {},
     "output_type": "execute_result"
    }
   ],
   "source": [
    "df.head(2)"
   ]
  },
  {
   "cell_type": "code",
   "execution_count": 71,
   "metadata": {},
   "outputs": [],
   "source": [
    "clusters_df = (df.groupby('cluster_km').agg({'customer_id':'nunique', 'order_id':'nunique', 'quantity':'sum', 'summ':'sum'})).reset_index()\n",
    "clusters_df=clusters_df.rename(columns = {'customer_id':'customers_qty', 'order_id':'orders_qty','summ':'revenue'})"
   ]
  },
  {
   "cell_type": "code",
   "execution_count": 72,
   "metadata": {},
   "outputs": [
    {
     "data": {
      "text/html": [
       "<div>\n",
       "<style scoped>\n",
       "    .dataframe tbody tr th:only-of-type {\n",
       "        vertical-align: middle;\n",
       "    }\n",
       "\n",
       "    .dataframe tbody tr th {\n",
       "        vertical-align: top;\n",
       "    }\n",
       "\n",
       "    .dataframe thead th {\n",
       "        text-align: right;\n",
       "    }\n",
       "</style>\n",
       "<table border=\"1\" class=\"dataframe\">\n",
       "  <thead>\n",
       "    <tr style=\"text-align: right;\">\n",
       "      <th></th>\n",
       "      <th>cluster_km</th>\n",
       "      <th>customers_qty</th>\n",
       "      <th>orders_qty</th>\n",
       "      <th>quantity</th>\n",
       "      <th>revenue</th>\n",
       "      <th>avg_receipt_per_customer</th>\n",
       "      <th>avg_orders_per_customer</th>\n",
       "      <th>avg_qty_per_customer</th>\n",
       "    </tr>\n",
       "  </thead>\n",
       "  <tbody>\n",
       "    <tr>\n",
       "      <td>0</td>\n",
       "      <td>0</td>\n",
       "      <td>2242</td>\n",
       "      <td>2391</td>\n",
       "      <td>11448</td>\n",
       "      <td>2840117.0</td>\n",
       "      <td>1266.8</td>\n",
       "      <td>1.1</td>\n",
       "      <td>5.1</td>\n",
       "    </tr>\n",
       "    <tr>\n",
       "      <td>1</td>\n",
       "      <td>1</td>\n",
       "      <td>92</td>\n",
       "      <td>97</td>\n",
       "      <td>105</td>\n",
       "      <td>83142.0</td>\n",
       "      <td>903.7</td>\n",
       "      <td>1.1</td>\n",
       "      <td>1.1</td>\n",
       "    </tr>\n",
       "    <tr>\n",
       "      <td>2</td>\n",
       "      <td>2</td>\n",
       "      <td>17</td>\n",
       "      <td>16</td>\n",
       "      <td>23</td>\n",
       "      <td>21071.0</td>\n",
       "      <td>1239.5</td>\n",
       "      <td>0.9</td>\n",
       "      <td>1.4</td>\n",
       "    </tr>\n",
       "    <tr>\n",
       "      <td>3</td>\n",
       "      <td>3</td>\n",
       "      <td>3</td>\n",
       "      <td>3</td>\n",
       "      <td>149</td>\n",
       "      <td>10796.0</td>\n",
       "      <td>3598.7</td>\n",
       "      <td>1.0</td>\n",
       "      <td>49.7</td>\n",
       "    </tr>\n",
       "    <tr>\n",
       "      <td>4</td>\n",
       "      <td>4</td>\n",
       "      <td>33</td>\n",
       "      <td>38</td>\n",
       "      <td>54</td>\n",
       "      <td>95480.0</td>\n",
       "      <td>2893.3</td>\n",
       "      <td>1.2</td>\n",
       "      <td>1.6</td>\n",
       "    </tr>\n",
       "  </tbody>\n",
       "</table>\n",
       "</div>"
      ],
      "text/plain": [
       "   cluster_km  customers_qty  orders_qty  quantity    revenue  \\\n",
       "0           0           2242        2391     11448  2840117.0   \n",
       "1           1             92          97       105    83142.0   \n",
       "2           2             17          16        23    21071.0   \n",
       "3           3              3           3       149    10796.0   \n",
       "4           4             33          38        54    95480.0   \n",
       "\n",
       "   avg_receipt_per_customer  avg_orders_per_customer  avg_qty_per_customer  \n",
       "0                    1266.8                      1.1                   5.1  \n",
       "1                     903.7                      1.1                   1.1  \n",
       "2                    1239.5                      0.9                   1.4  \n",
       "3                    3598.7                      1.0                  49.7  \n",
       "4                    2893.3                      1.2                   1.6  "
      ]
     },
     "execution_count": 72,
     "metadata": {},
     "output_type": "execute_result"
    }
   ],
   "source": [
    "clusters_df['avg_receipt_per_customer']=(clusters_df['revenue']/clusters_df['customers_qty']).round(1)\n",
    "clusters_df['avg_orders_per_customer']=(clusters_df['orders_qty']/clusters_df['customers_qty']).round(1)\n",
    "clusters_df['avg_qty_per_customer']=(clusters_df['quantity']/clusters_df['customers_qty']).round(1)\n",
    "clusters_df"
   ]
  },
  {
   "cell_type": "markdown",
   "metadata": {},
   "source": [
    "Сформируем датасет для анализа основных показателей в разрезе кластеров. Сгруппируем основной датасет по номеру кластера и посчитаем уникальное количество покупателей, заказов, суммарную выручку и количество средних заказов на кластер."
   ]
  },
  {
   "cell_type": "code",
   "execution_count": 73,
   "metadata": {},
   "outputs": [],
   "source": [
    "clusters_by_category = df.groupby(['cluster_km','category_big'])['quantity'].sum().reset_index()"
   ]
  },
  {
   "cell_type": "markdown",
   "metadata": {},
   "source": [
    "Сформируем датасет для анализа кластеров в разрезе категорий."
   ]
  },
  {
   "cell_type": "code",
   "execution_count": 74,
   "metadata": {},
   "outputs": [
    {
     "data": {
      "image/png": "[encoded data removed]",
      "text/plain": [
       "<Figure size 720x432 with 1 Axes>"
      ]
     },
     "metadata": {},
     "output_type": "display_data"
    },
    {
     "data": {
      "image/png": "[encoded data removed]",
      "text/plain": [
       "<Figure size 720x432 with 1 Axes>"
      ]
     },
     "metadata": {},
     "output_type": "display_data"
    },
    {
     "data": {
      "image/png": "[encoded data removed]",
      "text/plain": [
       "<Figure size 720x432 with 1 Axes>"
      ]
     },
     "metadata": {},
     "output_type": "display_data"
    },
    {
     "data": {
      "image/png": "[encoded data removed]",
      "text/plain": [
       "<Figure size 720x432 with 1 Axes>"
      ]
     },
     "metadata": {},
     "output_type": "display_data"
    },
    {
     "data": {
      "image/png": "[encoded data removed]",
      "text/plain": [
       "<Figure size 720x432 with 1 Axes>"
      ]
     },
     "metadata": {},
     "output_type": "display_data"
    }
   ],
   "source": [
    "for i in range(0,5):\n",
    "    pie, ax = plt.subplots(figsize=[10,6])    \n",
    "    plt.pie(x=clusters_by_category.query('cluster_km==@i')['quantity'], autopct=\"%.1f%%\",labels = clusters_by_category.query('cluster_km==@i')['category_big'])\n",
    "    plt.title(\"Категориальные предпочтения кластера \"+str(i), fontsize=14);\n",
    "    #plt.savefig(str(i)+'segments.png', transparent=True)"
   ]
  },
  {
   "cell_type": "markdown",
   "metadata": {},
   "source": [
    "Сформируем круговые диаграммы для каждого кластера с долями покупок по категориям."
   ]
  },
  {
   "cell_type": "markdown",
   "metadata": {},
   "source": [
    "Сделаем обзор кластеров и составим портреты покупателей для каждого кластера.\n",
    "\n",
    "- Кластер 0 - самый многочисленный, число уникальных покупателей - 2171. Количество сделанных заказов - 2291, что составляет примерно 1,1 заказ на покупателя. Средний чек покупателя - 1215 руб, что является почти самым невысоким значением (за исключением среднего чека покупателя из кластера 4). Среднее количество позиций товара в заказе - 4,4 шт., это второй по величине показатель. Категорийные предпочтения покупателей этого кластера разнообразны. 37% заказов - из категории \"прочее\". В эту категорию входят некрупные товары повседневного спроса (бытовая химия, фурнитура и крепежи, уборочный инвентарь для дома и хозтовары). Следующая по величине категория - декор и интерьер, в которую входят уже более крупные и неповседневные покупки - освещение, коврики, шторы и карнизы, скатерти и текстиль для дома и искусственные декоративные растения. Эта категория занимает долю 28,4%. Далее следуют растения (20%), товары для кухни (10,5%) и товары для ванной (3,1%). Представленность в кластере всех категорий, количество покупателей в кластере, невысокий средний чек и количество позиций в заказе позволяют отнести покупателей этого кластера к сегменту \"типичный повседневный разовый покупатель\". Данный сегмент генерирует основную выручку магазина, но среднее количество заказов - 1,1 - не позволяет считать данного покупателя постоянным. Возможно, необходимы какие-либо маркетинговые мероприятия, чтобы убедить покупателей из этого сегмента делать повторные покупки, это благоприятно скажется на общей выручке магазина.\n",
    "\n",
    "- Кластер 1 - достаточно немногочисленный, 74 покупателя. Средний чек этого кластера - 2865 руб, это один из самых высоких средних чеков. Количество заказов: 1,4 на покупателя, количество sku в заказе - 28,9 штук, самый высокий показатель. Лидирующая категория - растения, занимает 96,5% среди покупок кластера. По совокупности факторов типичный покупатель этого кластера похож на мелкооптового покупателя. Высокий средний чек и самое высокое значение количества заказов на покупателя позволяют считать клиента этого кластера постоянным и перспективным клиентом. Для увеличения выручки возможно будет целесообразно сделать персональное предложение о скидках за объем клиентам этого кластера.\n",
    "\n",
    "- Кластер 2 - второй снизу по количеству покупателей, 33 покупателя. Генерируемая выручка - 95480 руб. Средний чек - самый высокий, 2893.3 руб. Количество заказов - 1,2 на покупателя. Среднее количество позиций в заказе на человека - 1,6. 96,2% покупок клиентами этого кластера - мебель. По совокупности характеристик можно отнести этот кластер к сегменту \"разовые покупатели мебели\". Возможно, будет целесообразно сделать покупателям данного кластера персональное предложение со скидкой мебели за вторую и последующую покупку.\n",
    "\n",
    "- Кластер 3 - самый немногочисленный, содержит 17 покупателей. Количество заказов - 16. Ниже необходимо проверить данные, т.к. возможно изначальный датасет содержит неточность, если уникальных покупателей - 17, а заказов - 16, то один и тот же заказ проходит по двум покупателям, вряд ли это корректно. Выручка этого кластера самая маленькая, 21071 руб. Доминирующая категория - бытовая техника. Следующие категории в этом кластере - товары для кухни и декор и интерьер. Совокупность факторов позволяет идентифицировать этот сегмент покупателей как покупателей бытовой техники.\n",
    "\n",
    "- Кластер 4 - второй по многочисленности, 92 покупателя. Выручка кластера - 83142 руб, но средний чек - самый низкий, 903 руб. Среднее количество покупок на клиента - 1,1. Доминирующая категория - товары для сада, 96,2%. По совокупности факторов можно идентифицировать данный сегмент как покупателей товаров для сада, не склонных к повторным покупкам. Возможно, имеет смысл сделать персональное предложение, стимулирующее клиентов данного кластера к повторным покупкам."
   ]
  },
  {
   "cell_type": "code",
   "execution_count": 75,
   "metadata": {},
   "outputs": [
    {
     "data": {
      "text/plain": [
       "order_id\n",
       "70970     1\n",
       "138320    1\n",
       "207441    1\n",
       "Name: order_id, dtype: int64"
      ]
     },
     "execution_count": 75,
     "metadata": {},
     "output_type": "execute_result"
    }
   ],
   "source": [
    "doubling_chsk = df.query('cluster_km==3').groupby(['customer_id']).sum()\n",
    "doubling_chsk = doubling_chsk.groupby('order_id')['order_id'].count()\n",
    "doubling_chsk"
   ]
  },
  {
   "cell_type": "markdown",
   "metadata": {},
   "source": [
    "Проверим кластер 3 на задвоение заказа. Видно, что заказ с номером 70542 был проведен двум разным покупателям. Данную позицию рекомендуется включить в баг-репорт."
   ]
  },
  {
   "cell_type": "markdown",
   "metadata": {},
   "source": [
    "## Проверка статистических гипотез"
   ]
  },
  {
   "cell_type": "markdown",
   "metadata": {},
   "source": [
    "Кластерный анализ показал, что есть 2 пары схожих и значимых (в части выручки и количества покупателей) кластеров. Наиболее многочисленные кластеры - нулевой и четвертый - имеют схожие средние чеки (1215 руб. и 903 руб.). Два кластера с максимальным средним чеком - первый и второй - имеют практически идентичный средний чек (2865 и 2893 руб.). Сформулируем следующие гипотезы: значимых различий между средними чеками кластеров 0 и 4 нет. Вторая гипотеза: значимых различий между средними чеками кластеров 1 и 2 нет."
   ]
  },
  {
   "cell_type": "code",
   "execution_count": 76,
   "metadata": {},
   "outputs": [],
   "source": [
    "df_avg_receipt = df.groupby(['customer_id','cluster_km']).agg({'summ':'mean'}).reset_index()"
   ]
  },
  {
   "cell_type": "code",
   "execution_count": 77,
   "metadata": {},
   "outputs": [
    {
     "data": {
      "image/png": "[encoded data removed]",
      "text/plain": [
       "<Figure size 432x432 with 1 Axes>"
      ]
     },
     "metadata": {
      "needs_background": "light"
     },
     "output_type": "display_data"
    },
    {
     "data": {
      "image/png": "[encoded data removed]",
      "text/plain": [
       "<Figure size 432x288 with 1 Axes>"
      ]
     },
     "metadata": {
      "needs_background": "light"
     },
     "output_type": "display_data"
    },
    {
     "data": {
      "image/png": "[encoded data removed]",
      "text/plain": [
       "<Figure size 432x288 with 1 Axes>"
      ]
     },
     "metadata": {
      "needs_background": "light"
     },
     "output_type": "display_data"
    },
    {
     "data": {
      "image/png": "[encoded data removed]",
      "text/plain": [
       "<Figure size 432x288 with 1 Axes>"
      ]
     },
     "metadata": {
      "needs_background": "light"
     },
     "output_type": "display_data"
    },
    {
     "data": {
      "image/png": "[encoded data removed]",
      "text/plain": [
       "<Figure size 432x288 with 1 Axes>"
      ]
     },
     "metadata": {
      "needs_background": "light"
     },
     "output_type": "display_data"
    }
   ],
   "source": [
    "plt.figure(figsize=(6, 6))\n",
    "for i in range(0,5):\n",
    "    df_avg_receipt.query('cluster_km==@i')['summ'].hist(bins = 20, range = (1,6000));\n",
    "    plt.title('Распределение средних чеков кластера '+str(i), fontsize = 14)\n",
    "    plt.show();\n",
    "    #plt.savefig('segments_dist.png', transparent=True)"
   ]
  },
  {
   "cell_type": "markdown",
   "metadata": {},
   "source": [
    "Перед проведением теста оценим нормальность распределений стоимости заказов. \n",
    "- Распределение средних чеков нулевого кластера представляет собой нормальное распределение с датасетом, скошенным вправо.  Аналогично, первый кластер распределен нормально и тоже скошен вправо.\n",
    "- Распределение средних чеков второго кластера похоже на нормальное, но после 3000 идут аномалии, предлагается избавиться от них.\n",
    "- Распределение 4 кластера почти нормальное, необходимо удалить пик после 3000."
   ]
  },
  {
   "cell_type": "code",
   "execution_count": 78,
   "metadata": {},
   "outputs": [],
   "source": [
    "df_avg_receipt_0 = df_avg_receipt.query('cluster_km==0')"
   ]
  },
  {
   "cell_type": "code",
   "execution_count": 79,
   "metadata": {},
   "outputs": [],
   "source": [
    "df_avg_receipt_1 = df_avg_receipt.query('cluster_km==1')"
   ]
  },
  {
   "cell_type": "code",
   "execution_count": 80,
   "metadata": {},
   "outputs": [],
   "source": [
    "df_avg_receipt_2 = df_avg_receipt.query('cluster_km==2 and summ<3000')"
   ]
  },
  {
   "cell_type": "code",
   "execution_count": 81,
   "metadata": {},
   "outputs": [],
   "source": [
    "df_avg_receipt_4 = df_avg_receipt.query('cluster_km==4 and summ<3000')"
   ]
  },
  {
   "cell_type": "markdown",
   "metadata": {},
   "source": [
    "Сформируем датасеты для каждого кластера, чтобы проверить гипотезы."
   ]
  },
  {
   "cell_type": "code",
   "execution_count": 82,
   "metadata": {},
   "outputs": [],
   "source": [
    "avg_receipt_0_variance = np.var(df_avg_receipt_0['summ'], ddof=1)"
   ]
  },
  {
   "cell_type": "code",
   "execution_count": 83,
   "metadata": {},
   "outputs": [],
   "source": [
    "avg_receipt_1_variance = np.var(df_avg_receipt_1['summ'], ddof=1)"
   ]
  },
  {
   "cell_type": "code",
   "execution_count": 84,
   "metadata": {},
   "outputs": [],
   "source": [
    "avg_receipt_2_variance = np.var(df_avg_receipt_2['summ'], ddof=1)"
   ]
  },
  {
   "cell_type": "code",
   "execution_count": 85,
   "metadata": {},
   "outputs": [],
   "source": [
    "avg_receipt_4_variance = np.var(df_avg_receipt_4['summ'], ddof=1)"
   ]
  },
  {
   "cell_type": "markdown",
   "metadata": {},
   "source": [
    "Сравним дисперсии выборок средних чеков кластеров для того, чтобы решить какое значение присваивать параметру equal_var. Если дисперсии выборок равны, необходимо присваивать True, если различаются, то False."
   ]
  },
  {
   "cell_type": "code",
   "execution_count": 86,
   "metadata": {},
   "outputs": [
    {
     "data": {
      "text/plain": [
       "1367794.5199572884"
      ]
     },
     "execution_count": 86,
     "metadata": {},
     "output_type": "execute_result"
    }
   ],
   "source": [
    "avg_receipt_0_variance\n"
   ]
  },
  {
   "cell_type": "code",
   "execution_count": 87,
   "metadata": {},
   "outputs": [
    {
     "data": {
      "text/plain": [
       "353005.9788098375"
      ]
     },
     "execution_count": 87,
     "metadata": {},
     "output_type": "execute_result"
    }
   ],
   "source": [
    "avg_receipt_4_variance"
   ]
  },
  {
   "cell_type": "markdown",
   "metadata": {},
   "source": [
    "Для первой гипотезы параметр будет False, дисперсии не равны."
   ]
  },
  {
   "cell_type": "code",
   "execution_count": 88,
   "metadata": {},
   "outputs": [
    {
     "data": {
      "text/plain": [
       "104790.87753075728"
      ]
     },
     "execution_count": 88,
     "metadata": {},
     "output_type": "execute_result"
    }
   ],
   "source": [
    "avg_receipt_1_variance"
   ]
  },
  {
   "cell_type": "code",
   "execution_count": 89,
   "metadata": {},
   "outputs": [
    {
     "data": {
      "text/plain": [
       "450328.53470588237"
      ]
     },
     "execution_count": 89,
     "metadata": {},
     "output_type": "execute_result"
    }
   ],
   "source": [
    "avg_receipt_2_variance"
   ]
  },
  {
   "cell_type": "markdown",
   "metadata": {},
   "source": [
    "Для второй гипотезы параметр будет False, дисперсии не равны."
   ]
  },
  {
   "cell_type": "code",
   "execution_count": 90,
   "metadata": {},
   "outputs": [],
   "source": [
    "alpha = 0.05"
   ]
  },
  {
   "cell_type": "markdown",
   "metadata": {},
   "source": [
    "Возьмем параметр уровня значимости alpha равным 5%, общепринятого порогового значения будет достаточно для проверки данных гипотез."
   ]
  },
  {
   "cell_type": "code",
   "execution_count": 91,
   "metadata": {},
   "outputs": [],
   "source": [
    "results_shapiro_0 = st.shapiro(df_avg_receipt_0['summ'])\n",
    "p_value_shaporo_0 = results_shapiro_0[1]"
   ]
  },
  {
   "cell_type": "code",
   "execution_count": 92,
   "metadata": {},
   "outputs": [
    {
     "name": "stdout",
     "output_type": "stream",
     "text": [
      "Распределение не нормально\n"
     ]
    }
   ],
   "source": [
    "if p_value_shaporo_0<alpha:\n",
    "    print('Распределение не нормально')\n",
    "else:\n",
    "    print('Распределение нормально') "
   ]
  },
  {
   "cell_type": "code",
   "execution_count": 93,
   "metadata": {},
   "outputs": [
    {
     "name": "stdout",
     "output_type": "stream",
     "text": [
      "Распределение не нормально\n"
     ]
    }
   ],
   "source": [
    "results_shapiro_1 = st.shapiro(df_avg_receipt_1['summ'])\n",
    "p_value_shaporo_1 = results_shapiro_1[1]\n",
    "if p_value_shaporo_1<alpha:\n",
    "    print('Распределение не нормально')\n",
    "else:\n",
    "    print('Распределение нормально') "
   ]
  },
  {
   "cell_type": "code",
   "execution_count": 94,
   "metadata": {},
   "outputs": [
    {
     "name": "stdout",
     "output_type": "stream",
     "text": [
      "Распределение нормально\n"
     ]
    }
   ],
   "source": [
    "results_shapiro_2 = st.shapiro(df_avg_receipt_2['summ'])\n",
    "p_value_shaporo_2 = results_shapiro_2[1]\n",
    "if p_value_shaporo_2<alpha:\n",
    "    print('Распределение не нормально')\n",
    "else:\n",
    "    print('Распределение нормально') "
   ]
  },
  {
   "cell_type": "code",
   "execution_count": 95,
   "metadata": {},
   "outputs": [
    {
     "name": "stdout",
     "output_type": "stream",
     "text": [
      "Распределение нормально\n"
     ]
    }
   ],
   "source": [
    "results_shapiro_4 = st.shapiro(df_avg_receipt_4['summ'])\n",
    "p_value_shaporo_4 = results_shapiro_4[1]\n",
    "if p_value_shaporo_4<alpha:\n",
    "    print('Распределение не нормально')\n",
    "else:\n",
    "    print('Распределение нормально') "
   ]
  },
  {
   "cell_type": "markdown",
   "metadata": {},
   "source": [
    "Проверим нормальность распределений средних чеков всех кластеров тестом Шапиро-Уилка. Распределение нулевого и первого кластера не нормально, применение теста Стьюдента может дать некорректные результаты. Предлагается применить непараметрический тест Манна-Уитни, он подходит для распределений, отличных от нормальных. "
   ]
  },
  {
   "cell_type": "code",
   "execution_count": 96,
   "metadata": {},
   "outputs": [
    {
     "data": {
      "text/plain": [
       "2.1548752527916576e-07"
      ]
     },
     "execution_count": 96,
     "metadata": {},
     "output_type": "execute_result"
    }
   ],
   "source": [
    "results_1 = st.mannwhitneyu(df_avg_receipt_0['summ'], df_avg_receipt_4['summ'])\n",
    "results_1.pvalue"
   ]
  },
  {
   "cell_type": "code",
   "execution_count": 97,
   "metadata": {},
   "outputs": [
    {
     "name": "stdout",
     "output_type": "stream",
     "text": [
      "Отвергаем нулевую гипотезу\n"
     ]
    }
   ],
   "source": [
    "if results_1.pvalue < alpha:\n",
    "    print(\"Отвергаем нулевую гипотезу\")\n",
    "else:\n",
    "    print(\"Не получилось отвергнуть нулевую гипотезу\")"
   ]
  },
  {
   "cell_type": "markdown",
   "metadata": {},
   "source": [
    "Проведем тест Манна-Уитни для нулевого и четвертого кластеров. pvalue меньше 5%. Вывод - между средними чеками нулевого и четвертого кластера есть различия."
   ]
  },
  {
   "cell_type": "code",
   "execution_count": 98,
   "metadata": {},
   "outputs": [
    {
     "data": {
      "text/plain": [
       "0.051084605597661335"
      ]
     },
     "execution_count": 98,
     "metadata": {},
     "output_type": "execute_result"
    }
   ],
   "source": [
    "results_2 = st.mannwhitneyu(df_avg_receipt_1['summ'], df_avg_receipt_2['summ'])\n",
    "results_2.pvalue"
   ]
  },
  {
   "cell_type": "code",
   "execution_count": 99,
   "metadata": {},
   "outputs": [
    {
     "name": "stdout",
     "output_type": "stream",
     "text": [
      "Не получилось отвергнуть нулевую гипотезу\n"
     ]
    }
   ],
   "source": [
    "if results_2.pvalue < alpha:\n",
    "    print(\"Отвергаем нулевую гипотезу\")\n",
    "else:\n",
    "    print(\"Не получилось отвергнуть нулевую гипотезу\")"
   ]
  },
  {
   "cell_type": "markdown",
   "metadata": {},
   "source": [
    "Аналогично проведем тест Манна-Уитни для первого и второго кластеров. pvalue больше 5%, но значение очень пограничное, очень незначительно отличается от принятого параметра уровня значимости. Предлагается согласиться с результатами теста и считать, что между средними чеками первого и второго кластеров нет значимых статистических различий."
   ]
  },
  {
   "cell_type": "markdown",
   "metadata": {},
   "source": [
    "## Общие выводы."
   ]
  },
  {
   "cell_type": "markdown",
   "metadata": {},
   "source": [
    "- В исследуемом датасете достаточно чистые данные. Нет пропусков и дубликатов строк. Поле date требовало приведения к формату даты-времени.\n",
    "\n",
    "- Данные о покупках в датасете - с 1 октября 2018 по 31 октября 2019.\n",
    "\n",
    "- В датасете находились данные о покупках 2 451 уникального покупателя.\n",
    "\n",
    "- Исследовательский анализ данных выявил, что выше 6000 руб. покупки выглядят как аномальные(с большей вероятностью приобретены для перепродажи). Также выявлены пользователи с более чем 10 заказами за период исследования. Датасет для сегментации очищен от этих заказов и пользователей.\n",
    "\n",
    "Сегментация выявила следующие категории пользователей:\n",
    "\n",
    "- Кластер 0 - самый многочисленный, число уникальных покупателей - 2171. Количество сделанных заказов - 2291, что составляет примерно 1,1 заказ на покупателя. Средний чек покупателя - 1215 руб, что является почти самым невысоким значением (за исключением среднего чека покупателя из кластера 4). Среднее количество позиций товара в заказе - 4,4 шт., это второй по величине показатель. Категорийные предпочтения покупателей этого кластера разнообразны. Представленность в кластере всех категорий, количество покупателей в кластере, невысокий средний чек и количество позиций в заказе позволяют отнести покупателей этого кластера к сегменту \"типичный повседневный разовый покупатель\". Данный сегмент генерирует основную выручку магазина, но среднее количество заказов - 1,1 - не позволяет считать данного покупателя постоянным. Возможно, необходимы какие-либо маркетинговые мероприятия, чтобы убедить покупателей из этого сегмента делать повторные покупки, это благоприятно скажется на общей выручке магазина.\n",
    "\n",
    "- Кластер 1 - достаточно немногочисленный, 74 покупателя. Средний чек этого кластера - 2865 руб, это один из самых высоких средних чеков. Количество заказов: 1,4 на покупателя, количество sku в заказе - 28,9 штук, самый высокий показатель. Лидирующая категория - растения, занимает 96,5% среди покупок кластера. По совокупности факторов типичный покупатель этого кластера похож на мелкооптового покупателя. Высокий средний чек и самое высокое значение количества заказов на покупателя позволяют считать клиента этого кластера постоянным и перспективным клиентом. Для увеличения выручки возможно будет целесообразно сделать персональное предложение о скидках за объем клиентам этого кластера.\n",
    "\n",
    "- Кластер 2 - второй снизу по количеству покупателей, 33 покупателя. Генерируемая выручка - 95480 руб. Средний чек - самый высокий, 2893.3 руб. Количество заказов - 1,2 на покупателя. Среднее количество позиций в заказе на человека - 1,6. 96,2% покупок клиентами этого кластера - мебель. По совокупности характеристик можно отнести этот кластер к сегменту \"разовые покупатели мебели\". Возможно, будет целесообразно сделать покупателям данного кластера персональное предложение со скидкой мебели за вторую и последующую покупку.\n",
    "\n",
    "- Кластер 3 - самый немногочисленный, содержит 17 покупателей. Количество заказов - 16. Выручка этого кластера самая маленькая, 21071 руб. Доминирующая категория - бытовая техника. Совокупность факторов позволяет идентифицировать этот сегмент покупателей как покупателей бытовой техники.\n",
    "\n",
    "- Кластер 4 - второй по многочисленности, 92 покупателя. Выручка кластера - 83142 руб, но средний чек - самый низкий, 903 руб. Среднее количество покупок на клиента - 1,1. Доминирующая категория - товары для сада, 96,2%. По совокупности факторов можно идентифицировать данный сегмент как покупателей товаров для сада, не склонных к повторным покупкам. Возможно, имеет смысл сделать персональное предложение, стимулирующее клиентов данного кластера к повторным покупкам.\n",
    "\n",
    "Кластерный анализ показал, что есть 2 пары схожих и значимых (в части выручки и количества покупателей) кластеров. Наиболее многочисленные кластеры - нулевой и четвертый - имеют схожие средние чеки (1215 руб. и 903 руб.). Два кластера с максимальным средним чеком - первый и второй - имеют практически идентичный средний чек (2865 и 2893 руб). Проведена проверка двух гипотез о идентичности средних чеков кластера 0 и 4 и средних чеков кластера 1 и 2. Гипотеза 1 об идентичности средних чеков кластеров 0 и 4 не подтвердилась, средние чеки данных кластеров различаются. Гипотеза об идентичности средних чеков кластеров 1 и 2 подтвердилась, между средними чеками этих кластеров нет значимых статистических различий."
   ]
  },
  {
   "cell_type": "markdown",
   "metadata": {},
   "source": [
    "Ссылка на презентацию:\n",
    "https://drive.google.com/file/d/1AqGb8EKXXAl5IaIsDWby5txOllXYCs32/view?usp=sharing"
   ]
  },
  {
   "cell_type": "markdown",
   "metadata": {},
   "source": [
    "Ссылка на дашборд:\n",
    "https://public.tableau.com/views/ecommerce_dash/Dashboard1?:language=en-US&publish=yes&:display_count=n&:origin=viz_share_link"
   ]
  },
  {
   "cell_type": "markdown",
   "metadata": {},
   "source": []
  }
 ],
 "metadata": {
  "ExecuteTimeLog": [
   {
    "duration": 1912,
    "start_time": "2021-11-12T14:45:01.399Z"
   },
   {
    "duration": 1588,
    "start_time": "2021-11-12T14:45:03.313Z"
   },
   {
    "duration": 1444,
    "start_time": "2021-11-12T14:45:04.904Z"
   },
   {
    "duration": 6941,
    "start_time": "2021-11-12T14:44:59.414Z"
   },
   {
    "duration": 6932,
    "start_time": "2021-11-12T14:44:59.424Z"
   },
   {
    "duration": 6925,
    "start_time": "2021-11-12T14:44:59.432Z"
   },
   {
    "duration": 6918,
    "start_time": "2021-11-12T14:44:59.441Z"
   },
   {
    "duration": 6913,
    "start_time": "2021-11-12T14:44:59.447Z"
   },
   {
    "duration": 6908,
    "start_time": "2021-11-12T14:44:59.454Z"
   },
   {
    "duration": 6902,
    "start_time": "2021-11-12T14:44:59.461Z"
   },
   {
    "duration": 6896,
    "start_time": "2021-11-12T14:44:59.468Z"
   },
   {
    "duration": 6892,
    "start_time": "2021-11-12T14:44:59.474Z"
   },
   {
    "duration": 6887,
    "start_time": "2021-11-12T14:44:59.480Z"
   },
   {
    "duration": 6882,
    "start_time": "2021-11-12T14:44:59.487Z"
   },
   {
    "duration": 6876,
    "start_time": "2021-11-12T14:44:59.494Z"
   },
   {
    "duration": 6871,
    "start_time": "2021-11-12T14:44:59.500Z"
   },
   {
    "duration": 6850,
    "start_time": "2021-11-12T14:44:59.523Z"
   },
   {
    "duration": 6840,
    "start_time": "2021-11-12T14:44:59.534Z"
   },
   {
    "duration": 6835,
    "start_time": "2021-11-12T14:44:59.541Z"
   },
   {
    "duration": 6830,
    "start_time": "2021-11-12T14:44:59.547Z"
   },
   {
    "duration": 6823,
    "start_time": "2021-11-12T14:44:59.556Z"
   },
   {
    "duration": 6818,
    "start_time": "2021-11-12T14:44:59.562Z"
   },
   {
    "duration": 6811,
    "start_time": "2021-11-12T14:44:59.570Z"
   },
   {
    "duration": 6807,
    "start_time": "2021-11-12T14:44:59.576Z"
   },
   {
    "duration": 6845,
    "start_time": "2021-11-12T14:44:59.583Z"
   },
   {
    "duration": 6840,
    "start_time": "2021-11-12T14:44:59.589Z"
   },
   {
    "duration": 6837,
    "start_time": "2021-11-12T14:44:59.594Z"
   },
   {
    "duration": 6833,
    "start_time": "2021-11-12T14:44:59.600Z"
   },
   {
    "duration": 6827,
    "start_time": "2021-11-12T14:44:59.607Z"
   },
   {
    "duration": 6823,
    "start_time": "2021-11-12T14:44:59.613Z"
   },
   {
    "duration": 6805,
    "start_time": "2021-11-12T14:44:59.632Z"
   },
   {
    "duration": 6801,
    "start_time": "2021-11-12T14:44:59.638Z"
   },
   {
    "duration": 6797,
    "start_time": "2021-11-12T14:44:59.643Z"
   },
   {
    "duration": 6790,
    "start_time": "2021-11-12T14:44:59.651Z"
   },
   {
    "duration": 6785,
    "start_time": "2021-11-12T14:44:59.658Z"
   },
   {
    "duration": 6780,
    "start_time": "2021-11-12T14:44:59.664Z"
   },
   {
    "duration": 6774,
    "start_time": "2021-11-12T14:44:59.672Z"
   },
   {
    "duration": 6768,
    "start_time": "2021-11-12T14:44:59.679Z"
   },
   {
    "duration": 6700,
    "start_time": "2021-11-12T14:44:59.748Z"
   },
   {
    "duration": 6696,
    "start_time": "2021-11-12T14:44:59.754Z"
   },
   {
    "duration": 6690,
    "start_time": "2021-11-12T14:44:59.761Z"
   },
   {
    "duration": 6686,
    "start_time": "2021-11-12T14:44:59.767Z"
   },
   {
    "duration": 6680,
    "start_time": "2021-11-12T14:44:59.774Z"
   },
   {
    "duration": 6675,
    "start_time": "2021-11-12T14:44:59.780Z"
   },
   {
    "duration": 6671,
    "start_time": "2021-11-12T14:44:59.786Z"
   },
   {
    "duration": 6666,
    "start_time": "2021-11-12T14:44:59.792Z"
   },
   {
    "duration": 6661,
    "start_time": "2021-11-12T14:44:59.798Z"
   },
   {
    "duration": 6638,
    "start_time": "2021-11-12T14:44:59.823Z"
   },
   {
    "duration": 6607,
    "start_time": "2021-11-12T14:44:59.855Z"
   },
   {
    "duration": 6602,
    "start_time": "2021-11-12T14:44:59.861Z"
   },
   {
    "duration": 6595,
    "start_time": "2021-11-12T14:44:59.869Z"
   },
   {
    "duration": 6654,
    "start_time": "2021-11-12T14:44:59.875Z"
   },
   {
    "duration": 6634,
    "start_time": "2021-11-12T14:44:59.896Z"
   },
   {
    "duration": 6630,
    "start_time": "2021-11-12T14:44:59.902Z"
   },
   {
    "duration": 6624,
    "start_time": "2021-11-12T14:44:59.909Z"
   },
   {
    "duration": 6619,
    "start_time": "2021-11-12T14:44:59.915Z"
   },
   {
    "duration": 6602,
    "start_time": "2021-11-12T14:44:59.934Z"
   },
   {
    "duration": 6540,
    "start_time": "2021-11-12T14:44:59.997Z"
   },
   {
    "duration": 6518,
    "start_time": "2021-11-12T14:45:00.020Z"
   },
   {
    "duration": 6506,
    "start_time": "2021-11-12T14:45:00.033Z"
   },
   {
    "duration": 6503,
    "start_time": "2021-11-12T14:45:00.038Z"
   },
   {
    "duration": 6499,
    "start_time": "2021-11-12T14:45:00.044Z"
   },
   {
    "duration": 6496,
    "start_time": "2021-11-12T14:45:00.048Z"
   },
   {
    "duration": 6492,
    "start_time": "2021-11-12T14:45:00.053Z"
   },
   {
    "duration": 6489,
    "start_time": "2021-11-12T14:45:00.058Z"
   },
   {
    "duration": 6482,
    "start_time": "2021-11-12T14:45:00.066Z"
   },
   {
    "duration": 6467,
    "start_time": "2021-11-12T14:45:00.083Z"
   },
   {
    "duration": 6463,
    "start_time": "2021-11-12T14:45:00.088Z"
   },
   {
    "duration": 6459,
    "start_time": "2021-11-12T14:45:00.094Z"
   },
   {
    "duration": 6451,
    "start_time": "2021-11-12T14:45:00.103Z"
   },
   {
    "duration": 6444,
    "start_time": "2021-11-12T14:45:00.112Z"
   },
   {
    "duration": 8,
    "start_time": "2021-11-12T14:45:48.256Z"
   },
   {
    "duration": 826,
    "start_time": "2021-11-12T14:46:45.455Z"
   },
   {
    "duration": 16,
    "start_time": "2021-11-12T14:46:52.473Z"
   },
   {
    "duration": 13,
    "start_time": "2021-11-12T14:46:57.815Z"
   },
   {
    "duration": 11,
    "start_time": "2021-11-12T14:47:00.178Z"
   },
   {
    "duration": 5,
    "start_time": "2021-11-12T14:47:02.862Z"
   },
   {
    "duration": 21,
    "start_time": "2021-11-12T14:47:03.877Z"
   },
   {
    "duration": 16,
    "start_time": "2021-11-12T14:47:05.884Z"
   },
   {
    "duration": 15,
    "start_time": "2021-11-12T14:47:09.537Z"
   },
   {
    "duration": 15,
    "start_time": "2021-11-12T14:47:11.998Z"
   },
   {
    "duration": 11,
    "start_time": "2021-11-12T14:47:13.178Z"
   },
   {
    "duration": 6,
    "start_time": "2021-11-12T14:47:21.484Z"
   },
   {
    "duration": 7,
    "start_time": "2021-11-12T14:47:22.686Z"
   },
   {
    "duration": 12,
    "start_time": "2021-11-12T14:47:30.346Z"
   },
   {
    "duration": 31,
    "start_time": "2021-11-12T14:47:45.482Z"
   },
   {
    "duration": 222,
    "start_time": "2021-11-12T14:47:57.718Z"
   },
   {
    "duration": 7,
    "start_time": "2021-11-12T14:48:01.793Z"
   },
   {
    "duration": 16,
    "start_time": "2021-11-12T14:48:06.774Z"
   },
   {
    "duration": 13,
    "start_time": "2021-11-12T14:48:07.107Z"
   },
   {
    "duration": 30,
    "start_time": "2021-11-12T14:48:17.397Z"
   },
   {
    "duration": 7,
    "start_time": "2021-11-12T14:48:18.001Z"
   },
   {
    "duration": 5,
    "start_time": "2021-11-12T14:48:22.485Z"
   },
   {
    "duration": 10,
    "start_time": "2021-11-12T14:48:25.929Z"
   },
   {
    "duration": 6,
    "start_time": "2021-11-12T14:48:28.519Z"
   },
   {
    "duration": 5,
    "start_time": "2021-11-12T14:48:34.683Z"
   },
   {
    "duration": 5,
    "start_time": "2021-11-12T14:48:38.476Z"
   },
   {
    "duration": 3,
    "start_time": "2021-11-12T14:48:51.980Z"
   },
   {
    "duration": 7054,
    "start_time": "2021-11-12T14:48:54.718Z"
   },
   {
    "duration": 16,
    "start_time": "2021-11-12T14:49:21.836Z"
   },
   {
    "duration": 17,
    "start_time": "2021-11-12T14:49:29.479Z"
   },
   {
    "duration": 12,
    "start_time": "2021-11-12T14:49:33.764Z"
   },
   {
    "duration": 7,
    "start_time": "2021-11-12T14:49:45.465Z"
   },
   {
    "duration": 379,
    "start_time": "2021-11-12T14:50:18.087Z"
   },
   {
    "duration": 1857,
    "start_time": "2021-11-12T14:50:36.153Z"
   },
   {
    "duration": 1586,
    "start_time": "2021-11-12T14:50:38.013Z"
   },
   {
    "duration": 576,
    "start_time": "2021-11-12T14:50:39.601Z"
   },
   {
    "duration": 6987,
    "start_time": "2021-11-12T14:50:33.195Z"
   },
   {
    "duration": 6965,
    "start_time": "2021-11-12T14:50:33.219Z"
   },
   {
    "duration": 6957,
    "start_time": "2021-11-12T14:50:33.228Z"
   },
   {
    "duration": 6929,
    "start_time": "2021-11-12T14:50:33.257Z"
   },
   {
    "duration": 6922,
    "start_time": "2021-11-12T14:50:33.266Z"
   },
   {
    "duration": 6900,
    "start_time": "2021-11-12T14:50:33.289Z"
   },
   {
    "duration": 6884,
    "start_time": "2021-11-12T14:50:33.307Z"
   },
   {
    "duration": 6875,
    "start_time": "2021-11-12T14:50:33.317Z"
   },
   {
    "duration": 6855,
    "start_time": "2021-11-12T14:50:33.338Z"
   },
   {
    "duration": 6849,
    "start_time": "2021-11-12T14:50:33.347Z"
   },
   {
    "duration": 6839,
    "start_time": "2021-11-12T14:50:33.358Z"
   },
   {
    "duration": 6833,
    "start_time": "2021-11-12T14:50:33.366Z"
   },
   {
    "duration": 6822,
    "start_time": "2021-11-12T14:50:33.378Z"
   },
   {
    "duration": 6810,
    "start_time": "2021-11-12T14:50:33.391Z"
   },
   {
    "duration": 6802,
    "start_time": "2021-11-12T14:50:33.400Z"
   },
   {
    "duration": 6794,
    "start_time": "2021-11-12T14:50:33.410Z"
   },
   {
    "duration": 6782,
    "start_time": "2021-11-12T14:50:33.423Z"
   },
   {
    "duration": 6775,
    "start_time": "2021-11-12T14:50:33.431Z"
   },
   {
    "duration": 6745,
    "start_time": "2021-11-12T14:50:33.462Z"
   },
   {
    "duration": 6720,
    "start_time": "2021-11-12T14:50:33.489Z"
   },
   {
    "duration": 6697,
    "start_time": "2021-11-12T14:50:33.513Z"
   },
   {
    "duration": 6658,
    "start_time": "2021-11-12T14:50:33.553Z"
   },
   {
    "duration": 6644,
    "start_time": "2021-11-12T14:50:33.569Z"
   },
   {
    "duration": 6605,
    "start_time": "2021-11-12T14:50:33.609Z"
   },
   {
    "duration": 6574,
    "start_time": "2021-11-12T14:50:33.641Z"
   },
   {
    "duration": 6564,
    "start_time": "2021-11-12T14:50:33.652Z"
   },
   {
    "duration": 6537,
    "start_time": "2021-11-12T14:50:33.681Z"
   },
   {
    "duration": 6526,
    "start_time": "2021-11-12T14:50:33.693Z"
   },
   {
    "duration": 6518,
    "start_time": "2021-11-12T14:50:33.702Z"
   },
   {
    "duration": 6510,
    "start_time": "2021-11-12T14:50:33.711Z"
   },
   {
    "duration": 6501,
    "start_time": "2021-11-12T14:50:33.722Z"
   },
   {
    "duration": 6478,
    "start_time": "2021-11-12T14:50:33.750Z"
   },
   {
    "duration": 6457,
    "start_time": "2021-11-12T14:50:33.773Z"
   },
   {
    "duration": 6430,
    "start_time": "2021-11-12T14:50:33.801Z"
   },
   {
    "duration": 6421,
    "start_time": "2021-11-12T14:50:33.812Z"
   },
   {
    "duration": 6363,
    "start_time": "2021-11-12T14:50:33.871Z"
   },
   {
    "duration": 6353,
    "start_time": "2021-11-12T14:50:33.883Z"
   },
   {
    "duration": 6345,
    "start_time": "2021-11-12T14:50:33.892Z"
   },
   {
    "duration": 6327,
    "start_time": "2021-11-12T14:50:33.911Z"
   },
   {
    "duration": 6318,
    "start_time": "2021-11-12T14:50:33.922Z"
   },
   {
    "duration": 6309,
    "start_time": "2021-11-12T14:50:33.932Z"
   },
   {
    "duration": 6303,
    "start_time": "2021-11-12T14:50:33.940Z"
   },
   {
    "duration": 6296,
    "start_time": "2021-11-12T14:50:33.948Z"
   },
   {
    "duration": 6290,
    "start_time": "2021-11-12T14:50:33.956Z"
   },
   {
    "duration": 6283,
    "start_time": "2021-11-12T14:50:33.964Z"
   },
   {
    "duration": 6230,
    "start_time": "2021-11-12T14:50:34.019Z"
   },
   {
    "duration": 6223,
    "start_time": "2021-11-12T14:50:34.027Z"
   },
   {
    "duration": 6215,
    "start_time": "2021-11-12T14:50:34.036Z"
   },
   {
    "duration": 6208,
    "start_time": "2021-11-12T14:50:34.045Z"
   },
   {
    "duration": 6201,
    "start_time": "2021-11-12T14:50:34.053Z"
   },
   {
    "duration": 6196,
    "start_time": "2021-11-12T14:50:34.060Z"
   },
   {
    "duration": 6174,
    "start_time": "2021-11-12T14:50:34.083Z"
   },
   {
    "duration": 6157,
    "start_time": "2021-11-12T14:50:34.102Z"
   },
   {
    "duration": 6121,
    "start_time": "2021-11-12T14:50:34.139Z"
   },
   {
    "duration": 6079,
    "start_time": "2021-11-12T14:50:34.183Z"
   },
   {
    "duration": 6045,
    "start_time": "2021-11-12T14:50:34.218Z"
   },
   {
    "duration": 6035,
    "start_time": "2021-11-12T14:50:34.230Z"
   },
   {
    "duration": 6016,
    "start_time": "2021-11-12T14:50:34.250Z"
   },
   {
    "duration": 6007,
    "start_time": "2021-11-12T14:50:34.260Z"
   },
   {
    "duration": 5987,
    "start_time": "2021-11-12T14:50:34.281Z"
   },
   {
    "duration": 5958,
    "start_time": "2021-11-12T14:50:34.311Z"
   },
   {
    "duration": 5935,
    "start_time": "2021-11-12T14:50:34.335Z"
   },
   {
    "duration": 5928,
    "start_time": "2021-11-12T14:50:34.343Z"
   },
   {
    "duration": 5977,
    "start_time": "2021-11-12T14:50:34.352Z"
   },
   {
    "duration": 5970,
    "start_time": "2021-11-12T14:50:34.361Z"
   },
   {
    "duration": 5962,
    "start_time": "2021-11-12T14:50:34.370Z"
   },
   {
    "duration": 5950,
    "start_time": "2021-11-12T14:50:34.383Z"
   },
   {
    "duration": 5942,
    "start_time": "2021-11-12T14:50:34.393Z"
   },
   {
    "duration": 5922,
    "start_time": "2021-11-12T14:50:34.415Z"
   },
   {
    "duration": 1874,
    "start_time": "2021-11-12T14:50:56.923Z"
   },
   {
    "duration": 877,
    "start_time": "2021-11-12T14:50:58.799Z"
   },
   {
    "duration": 708,
    "start_time": "2021-11-12T14:50:59.679Z"
   },
   {
    "duration": 18,
    "start_time": "2021-11-12T14:51:00.389Z"
   },
   {
    "duration": 22,
    "start_time": "2021-11-12T14:51:00.409Z"
   },
   {
    "duration": 22,
    "start_time": "2021-11-12T14:51:00.433Z"
   },
   {
    "duration": 34,
    "start_time": "2021-11-12T14:51:00.457Z"
   },
   {
    "duration": 16,
    "start_time": "2021-11-12T14:51:00.495Z"
   },
   {
    "duration": 19,
    "start_time": "2021-11-12T14:51:00.514Z"
   },
   {
    "duration": 26,
    "start_time": "2021-11-12T14:51:00.535Z"
   },
   {
    "duration": 12,
    "start_time": "2021-11-12T14:51:00.563Z"
   },
   {
    "duration": 21,
    "start_time": "2021-11-12T14:51:00.577Z"
   },
   {
    "duration": 9,
    "start_time": "2021-11-12T14:51:00.600Z"
   },
   {
    "duration": 27,
    "start_time": "2021-11-12T14:51:00.611Z"
   },
   {
    "duration": 54,
    "start_time": "2021-11-12T14:51:00.640Z"
   },
   {
    "duration": 334,
    "start_time": "2021-11-12T14:51:00.696Z"
   },
   {
    "duration": 7,
    "start_time": "2021-11-12T14:51:01.032Z"
   },
   {
    "duration": 36,
    "start_time": "2021-11-12T14:51:01.041Z"
   },
   {
    "duration": 46,
    "start_time": "2021-11-12T14:51:01.080Z"
   },
   {
    "duration": 44,
    "start_time": "2021-11-12T14:51:01.128Z"
   },
   {
    "duration": 12,
    "start_time": "2021-11-12T14:51:01.175Z"
   },
   {
    "duration": 14,
    "start_time": "2021-11-12T14:51:01.189Z"
   },
   {
    "duration": 15,
    "start_time": "2021-11-12T14:51:01.209Z"
   },
   {
    "duration": 22,
    "start_time": "2021-11-12T14:51:01.228Z"
   },
   {
    "duration": 26,
    "start_time": "2021-11-12T14:51:01.253Z"
   },
   {
    "duration": 51,
    "start_time": "2021-11-12T14:51:01.282Z"
   },
   {
    "duration": 22,
    "start_time": "2021-11-12T14:51:01.336Z"
   },
   {
    "duration": 7482,
    "start_time": "2021-11-12T14:51:01.361Z"
   },
   {
    "duration": 15,
    "start_time": "2021-11-12T14:51:08.845Z"
   },
   {
    "duration": 18,
    "start_time": "2021-11-12T14:51:08.862Z"
   },
   {
    "duration": 16,
    "start_time": "2021-11-12T14:51:08.882Z"
   },
   {
    "duration": 31,
    "start_time": "2021-11-12T14:51:08.901Z"
   },
   {
    "duration": 561,
    "start_time": "2021-11-12T14:51:08.934Z"
   },
   {
    "duration": 6946,
    "start_time": "2021-11-12T14:51:02.551Z"
   },
   {
    "duration": 6938,
    "start_time": "2021-11-12T14:51:02.561Z"
   },
   {
    "duration": 6931,
    "start_time": "2021-11-12T14:51:02.569Z"
   },
   {
    "duration": 6923,
    "start_time": "2021-11-12T14:51:02.578Z"
   },
   {
    "duration": 6916,
    "start_time": "2021-11-12T14:51:02.587Z"
   },
   {
    "duration": 6909,
    "start_time": "2021-11-12T14:51:02.595Z"
   },
   {
    "duration": 6901,
    "start_time": "2021-11-12T14:51:02.604Z"
   },
   {
    "duration": 6895,
    "start_time": "2021-11-12T14:51:02.612Z"
   },
   {
    "duration": 6886,
    "start_time": "2021-11-12T14:51:02.622Z"
   },
   {
    "duration": 6878,
    "start_time": "2021-11-12T14:51:02.631Z"
   },
   {
    "duration": 6858,
    "start_time": "2021-11-12T14:51:02.652Z"
   },
   {
    "duration": 6851,
    "start_time": "2021-11-12T14:51:02.661Z"
   },
   {
    "duration": 6843,
    "start_time": "2021-11-12T14:51:02.670Z"
   },
   {
    "duration": 6836,
    "start_time": "2021-11-12T14:51:02.678Z"
   },
   {
    "duration": 6826,
    "start_time": "2021-11-12T14:51:02.689Z"
   },
   {
    "duration": 6821,
    "start_time": "2021-11-12T14:51:02.696Z"
   },
   {
    "duration": 6810,
    "start_time": "2021-11-12T14:51:02.708Z"
   },
   {
    "duration": 6802,
    "start_time": "2021-11-12T14:51:02.717Z"
   },
   {
    "duration": 6794,
    "start_time": "2021-11-12T14:51:02.726Z"
   },
   {
    "duration": 6788,
    "start_time": "2021-11-12T14:51:02.734Z"
   },
   {
    "duration": 6775,
    "start_time": "2021-11-12T14:51:02.748Z"
   },
   {
    "duration": 6741,
    "start_time": "2021-11-12T14:51:02.783Z"
   },
   {
    "duration": 6732,
    "start_time": "2021-11-12T14:51:02.793Z"
   },
   {
    "duration": 6723,
    "start_time": "2021-11-12T14:51:02.803Z"
   },
   {
    "duration": 6716,
    "start_time": "2021-11-12T14:51:02.812Z"
   },
   {
    "duration": 6708,
    "start_time": "2021-11-12T14:51:02.821Z"
   },
   {
    "duration": 6700,
    "start_time": "2021-11-12T14:51:02.830Z"
   },
   {
    "duration": 6692,
    "start_time": "2021-11-12T14:51:02.839Z"
   },
   {
    "duration": 6683,
    "start_time": "2021-11-12T14:51:02.849Z"
   },
   {
    "duration": 6676,
    "start_time": "2021-11-12T14:51:02.857Z"
   },
   {
    "duration": 6673,
    "start_time": "2021-11-12T14:51:02.862Z"
   },
   {
    "duration": 6668,
    "start_time": "2021-11-12T14:51:02.868Z"
   },
   {
    "duration": 6660,
    "start_time": "2021-11-12T14:51:02.877Z"
   },
   {
    "duration": 6641,
    "start_time": "2021-11-12T14:51:02.898Z"
   },
   {
    "duration": 6633,
    "start_time": "2021-11-12T14:51:02.907Z"
   },
   {
    "duration": 6625,
    "start_time": "2021-11-12T14:51:02.916Z"
   },
   {
    "duration": 6619,
    "start_time": "2021-11-12T14:51:02.924Z"
   },
   {
    "duration": 6611,
    "start_time": "2021-11-12T14:51:02.933Z"
   },
   {
    "duration": 1300,
    "start_time": "2021-11-16T17:27:21.057Z"
   },
   {
    "duration": 1624,
    "start_time": "2021-11-16T17:27:22.359Z"
   },
   {
    "duration": 903,
    "start_time": "2021-11-16T17:27:23.985Z"
   },
   {
    "duration": 12,
    "start_time": "2021-11-16T17:27:24.890Z"
   },
   {
    "duration": 8,
    "start_time": "2021-11-16T17:27:24.903Z"
   },
   {
    "duration": 3,
    "start_time": "2021-11-16T17:27:24.912Z"
   },
   {
    "duration": 19,
    "start_time": "2021-11-16T17:27:24.916Z"
   },
   {
    "duration": 10,
    "start_time": "2021-11-16T17:27:24.937Z"
   },
   {
    "duration": 7,
    "start_time": "2021-11-16T17:27:24.949Z"
   },
   {
    "duration": 39,
    "start_time": "2021-11-16T17:27:24.958Z"
   },
   {
    "duration": 7,
    "start_time": "2021-11-16T17:27:24.999Z"
   },
   {
    "duration": 3,
    "start_time": "2021-11-16T17:27:25.008Z"
   },
   {
    "duration": 5,
    "start_time": "2021-11-16T17:27:25.012Z"
   },
   {
    "duration": 13,
    "start_time": "2021-11-16T17:27:25.018Z"
   },
   {
    "duration": 25,
    "start_time": "2021-11-16T17:27:25.033Z"
   },
   {
    "duration": 214,
    "start_time": "2021-11-16T17:27:25.060Z"
   },
   {
    "duration": 4,
    "start_time": "2021-11-16T17:27:25.276Z"
   },
   {
    "duration": 19,
    "start_time": "2021-11-16T17:27:25.281Z"
   },
   {
    "duration": 7,
    "start_time": "2021-11-16T17:27:25.301Z"
   },
   {
    "duration": 20,
    "start_time": "2021-11-16T17:27:25.309Z"
   },
   {
    "duration": 4,
    "start_time": "2021-11-16T17:27:25.330Z"
   },
   {
    "duration": 5,
    "start_time": "2021-11-16T17:27:25.336Z"
   },
   {
    "duration": 6,
    "start_time": "2021-11-16T17:27:25.343Z"
   },
   {
    "duration": 6,
    "start_time": "2021-11-16T17:27:25.350Z"
   },
   {
    "duration": 5,
    "start_time": "2021-11-16T17:27:25.358Z"
   },
   {
    "duration": 3,
    "start_time": "2021-11-16T17:27:25.392Z"
   },
   {
    "duration": 4,
    "start_time": "2021-11-16T17:27:25.399Z"
   },
   {
    "duration": 2,
    "start_time": "2021-11-16T17:27:25.405Z"
   },
   {
    "duration": 1976,
    "start_time": "2021-11-16T17:27:25.409Z"
   },
   {
    "duration": 11,
    "start_time": "2021-11-16T17:27:27.390Z"
   },
   {
    "duration": 249,
    "start_time": "2021-11-16T17:27:27.403Z"
   },
   {
    "duration": 171,
    "start_time": "2021-11-16T17:27:27.654Z"
   },
   {
    "duration": 13,
    "start_time": "2021-11-16T17:27:27.826Z"
   },
   {
    "duration": 7,
    "start_time": "2021-11-16T17:27:27.840Z"
   },
   {
    "duration": 10,
    "start_time": "2021-11-16T17:27:27.849Z"
   },
   {
    "duration": 32,
    "start_time": "2021-11-16T17:27:27.860Z"
   },
   {
    "duration": 299,
    "start_time": "2021-11-16T17:27:27.894Z"
   },
   {
    "duration": 7718,
    "start_time": "2021-11-16T17:27:20.478Z"
   },
   {
    "duration": 7714,
    "start_time": "2021-11-16T17:27:20.483Z"
   },
   {
    "duration": 7709,
    "start_time": "2021-11-16T17:27:20.489Z"
   },
   {
    "duration": 7703,
    "start_time": "2021-11-16T17:27:20.496Z"
   },
   {
    "duration": 7698,
    "start_time": "2021-11-16T17:27:20.502Z"
   },
   {
    "duration": 7692,
    "start_time": "2021-11-16T17:27:20.508Z"
   },
   {
    "duration": 7688,
    "start_time": "2021-11-16T17:27:20.513Z"
   },
   {
    "duration": 7683,
    "start_time": "2021-11-16T17:27:20.519Z"
   },
   {
    "duration": 7679,
    "start_time": "2021-11-16T17:27:20.524Z"
   },
   {
    "duration": 7675,
    "start_time": "2021-11-16T17:27:20.529Z"
   },
   {
    "duration": 7672,
    "start_time": "2021-11-16T17:27:20.533Z"
   },
   {
    "duration": 7667,
    "start_time": "2021-11-16T17:27:20.539Z"
   },
   {
    "duration": 7663,
    "start_time": "2021-11-16T17:27:20.544Z"
   },
   {
    "duration": 7660,
    "start_time": "2021-11-16T17:27:20.548Z"
   },
   {
    "duration": 7656,
    "start_time": "2021-11-16T17:27:20.553Z"
   },
   {
    "duration": 7652,
    "start_time": "2021-11-16T17:27:20.558Z"
   },
   {
    "duration": 7648,
    "start_time": "2021-11-16T17:27:20.563Z"
   },
   {
    "duration": 7643,
    "start_time": "2021-11-16T17:27:20.569Z"
   },
   {
    "duration": 7639,
    "start_time": "2021-11-16T17:27:20.574Z"
   },
   {
    "duration": 7626,
    "start_time": "2021-11-16T17:27:20.588Z"
   },
   {
    "duration": 7623,
    "start_time": "2021-11-16T17:27:20.592Z"
   },
   {
    "duration": 7620,
    "start_time": "2021-11-16T17:27:20.596Z"
   },
   {
    "duration": 7617,
    "start_time": "2021-11-16T17:27:20.600Z"
   },
   {
    "duration": 7613,
    "start_time": "2021-11-16T17:27:20.605Z"
   },
   {
    "duration": 7610,
    "start_time": "2021-11-16T17:27:20.609Z"
   },
   {
    "duration": 7606,
    "start_time": "2021-11-16T17:27:20.614Z"
   },
   {
    "duration": 7603,
    "start_time": "2021-11-16T17:27:20.618Z"
   },
   {
    "duration": 7599,
    "start_time": "2021-11-16T17:27:20.623Z"
   },
   {
    "duration": 7597,
    "start_time": "2021-11-16T17:27:20.626Z"
   },
   {
    "duration": 7594,
    "start_time": "2021-11-16T17:27:20.630Z"
   },
   {
    "duration": 7591,
    "start_time": "2021-11-16T17:27:20.634Z"
   },
   {
    "duration": 7587,
    "start_time": "2021-11-16T17:27:20.638Z"
   },
   {
    "duration": 7585,
    "start_time": "2021-11-16T17:27:20.641Z"
   },
   {
    "duration": 7581,
    "start_time": "2021-11-16T17:27:20.646Z"
   },
   {
    "duration": 7579,
    "start_time": "2021-11-16T17:27:20.649Z"
   },
   {
    "duration": 7576,
    "start_time": "2021-11-16T17:27:20.653Z"
   },
   {
    "duration": 7574,
    "start_time": "2021-11-16T17:27:20.657Z"
   },
   {
    "duration": 7571,
    "start_time": "2021-11-16T17:27:20.661Z"
   },
   {
    "duration": 7567,
    "start_time": "2021-11-16T17:27:20.666Z"
   },
   {
    "duration": 7564,
    "start_time": "2021-11-16T17:27:20.670Z"
   },
   {
    "duration": 7561,
    "start_time": "2021-11-16T17:27:20.673Z"
   },
   {
    "duration": 7613,
    "start_time": "2021-11-16T17:27:20.678Z"
   },
   {
    "duration": 7611,
    "start_time": "2021-11-16T17:27:20.681Z"
   },
   {
    "duration": 7608,
    "start_time": "2021-11-16T17:27:20.685Z"
   },
   {
    "duration": 7594,
    "start_time": "2021-11-16T17:27:20.700Z"
   },
   {
    "duration": 7591,
    "start_time": "2021-11-16T17:27:20.704Z"
   },
   {
    "duration": 7588,
    "start_time": "2021-11-16T17:27:20.708Z"
   },
   {
    "duration": 7585,
    "start_time": "2021-11-16T17:27:20.712Z"
   },
   {
    "duration": 7581,
    "start_time": "2021-11-16T17:27:20.716Z"
   },
   {
    "duration": 7578,
    "start_time": "2021-11-16T17:27:20.720Z"
   },
   {
    "duration": 7574,
    "start_time": "2021-11-16T17:27:20.725Z"
   },
   {
    "duration": 7572,
    "start_time": "2021-11-16T17:27:20.728Z"
   },
   {
    "duration": 7569,
    "start_time": "2021-11-16T17:27:20.732Z"
   },
   {
    "duration": 7565,
    "start_time": "2021-11-16T17:27:20.737Z"
   },
   {
    "duration": 7563,
    "start_time": "2021-11-16T17:27:20.740Z"
   },
   {
    "duration": 7560,
    "start_time": "2021-11-16T17:27:20.744Z"
   },
   {
    "duration": 16417,
    "start_time": "2021-11-16T17:28:04.070Z"
   },
   {
    "duration": 1264,
    "start_time": "2021-11-16T17:28:33.950Z"
   },
   {
    "duration": 1084,
    "start_time": "2021-11-16T17:28:35.216Z"
   },
   {
    "duration": 801,
    "start_time": "2021-11-16T17:28:36.302Z"
   },
   {
    "duration": 12,
    "start_time": "2021-11-16T17:28:37.105Z"
   },
   {
    "duration": 12,
    "start_time": "2021-11-16T17:28:37.119Z"
   },
   {
    "duration": 4,
    "start_time": "2021-11-16T17:28:37.132Z"
   },
   {
    "duration": 22,
    "start_time": "2021-11-16T17:28:37.138Z"
   },
   {
    "duration": 9,
    "start_time": "2021-11-16T17:28:37.163Z"
   },
   {
    "duration": 8,
    "start_time": "2021-11-16T17:28:37.191Z"
   },
   {
    "duration": 13,
    "start_time": "2021-11-16T17:28:37.201Z"
   },
   {
    "duration": 8,
    "start_time": "2021-11-16T17:28:37.215Z"
   },
   {
    "duration": 4,
    "start_time": "2021-11-16T17:28:37.224Z"
   },
   {
    "duration": 5,
    "start_time": "2021-11-16T17:28:37.229Z"
   },
   {
    "duration": 10,
    "start_time": "2021-11-16T17:28:37.236Z"
   },
   {
    "duration": 62,
    "start_time": "2021-11-16T17:28:37.247Z"
   },
   {
    "duration": 213,
    "start_time": "2021-11-16T17:28:37.311Z"
   },
   {
    "duration": 5,
    "start_time": "2021-11-16T17:28:37.525Z"
   },
   {
    "duration": 14,
    "start_time": "2021-11-16T17:28:37.531Z"
   },
   {
    "duration": 7,
    "start_time": "2021-11-16T17:28:37.546Z"
   },
   {
    "duration": 38,
    "start_time": "2021-11-16T17:28:37.555Z"
   },
   {
    "duration": 5,
    "start_time": "2021-11-16T17:28:37.594Z"
   },
   {
    "duration": 7,
    "start_time": "2021-11-16T17:28:37.601Z"
   },
   {
    "duration": 3,
    "start_time": "2021-11-16T17:28:37.612Z"
   },
   {
    "duration": 7,
    "start_time": "2021-11-16T17:28:37.617Z"
   },
   {
    "duration": 7,
    "start_time": "2021-11-16T17:28:37.625Z"
   },
   {
    "duration": 4,
    "start_time": "2021-11-16T17:28:37.633Z"
   },
   {
    "duration": 11,
    "start_time": "2021-11-16T17:28:37.638Z"
   },
   {
    "duration": 5,
    "start_time": "2021-11-16T17:28:37.651Z"
   },
   {
    "duration": 1954,
    "start_time": "2021-11-16T17:28:37.657Z"
   },
   {
    "duration": 12,
    "start_time": "2021-11-16T17:28:39.613Z"
   },
   {
    "duration": 258,
    "start_time": "2021-11-16T17:28:39.627Z"
   },
   {
    "duration": 168,
    "start_time": "2021-11-16T17:28:39.887Z"
   },
   {
    "duration": 12,
    "start_time": "2021-11-16T17:28:40.057Z"
   },
   {
    "duration": 23,
    "start_time": "2021-11-16T17:28:40.070Z"
   },
   {
    "duration": 10,
    "start_time": "2021-11-16T17:28:40.095Z"
   },
   {
    "duration": 11,
    "start_time": "2021-11-16T17:28:40.106Z"
   },
   {
    "duration": 16253,
    "start_time": "2021-11-16T17:28:40.118Z"
   },
   {
    "duration": 204,
    "start_time": "2021-11-16T17:28:56.372Z"
   },
   {
    "duration": 7712,
    "start_time": "2021-11-16T17:28:48.867Z"
   },
   {
    "duration": 7706,
    "start_time": "2021-11-16T17:28:48.874Z"
   },
   {
    "duration": 7700,
    "start_time": "2021-11-16T17:28:48.881Z"
   },
   {
    "duration": 7695,
    "start_time": "2021-11-16T17:28:48.887Z"
   },
   {
    "duration": 7687,
    "start_time": "2021-11-16T17:28:48.897Z"
   },
   {
    "duration": 7680,
    "start_time": "2021-11-16T17:28:48.904Z"
   },
   {
    "duration": 7674,
    "start_time": "2021-11-16T17:28:48.911Z"
   },
   {
    "duration": 7668,
    "start_time": "2021-11-16T17:28:48.918Z"
   },
   {
    "duration": 7663,
    "start_time": "2021-11-16T17:28:48.924Z"
   },
   {
    "duration": 7658,
    "start_time": "2021-11-16T17:28:48.930Z"
   },
   {
    "duration": 7654,
    "start_time": "2021-11-16T17:28:48.935Z"
   },
   {
    "duration": 7648,
    "start_time": "2021-11-16T17:28:48.942Z"
   },
   {
    "duration": 7644,
    "start_time": "2021-11-16T17:28:48.947Z"
   },
   {
    "duration": 7639,
    "start_time": "2021-11-16T17:28:48.953Z"
   },
   {
    "duration": 7622,
    "start_time": "2021-11-16T17:28:48.971Z"
   },
   {
    "duration": 7619,
    "start_time": "2021-11-16T17:28:48.975Z"
   },
   {
    "duration": 7615,
    "start_time": "2021-11-16T17:28:48.980Z"
   },
   {
    "duration": 7610,
    "start_time": "2021-11-16T17:28:48.985Z"
   },
   {
    "duration": 7605,
    "start_time": "2021-11-16T17:28:48.991Z"
   },
   {
    "duration": 7600,
    "start_time": "2021-11-16T17:28:48.997Z"
   },
   {
    "duration": 7595,
    "start_time": "2021-11-16T17:28:49.003Z"
   },
   {
    "duration": 7589,
    "start_time": "2021-11-16T17:28:49.010Z"
   },
   {
    "duration": 7583,
    "start_time": "2021-11-16T17:28:49.017Z"
   },
   {
    "duration": 7578,
    "start_time": "2021-11-16T17:28:49.023Z"
   },
   {
    "duration": 7575,
    "start_time": "2021-11-16T17:28:49.027Z"
   },
   {
    "duration": 7571,
    "start_time": "2021-11-16T17:28:49.032Z"
   },
   {
    "duration": 7566,
    "start_time": "2021-11-16T17:28:49.038Z"
   },
   {
    "duration": 7562,
    "start_time": "2021-11-16T17:28:49.043Z"
   },
   {
    "duration": 7558,
    "start_time": "2021-11-16T17:28:49.047Z"
   },
   {
    "duration": 7554,
    "start_time": "2021-11-16T17:28:49.052Z"
   },
   {
    "duration": 7549,
    "start_time": "2021-11-16T17:28:49.058Z"
   },
   {
    "duration": 7545,
    "start_time": "2021-11-16T17:28:49.063Z"
   },
   {
    "duration": 7531,
    "start_time": "2021-11-16T17:28:49.078Z"
   },
   {
    "duration": 7527,
    "start_time": "2021-11-16T17:28:49.083Z"
   },
   {
    "duration": 7522,
    "start_time": "2021-11-16T17:28:49.089Z"
   },
   {
    "duration": 7517,
    "start_time": "2021-11-16T17:28:49.095Z"
   },
   {
    "duration": 7510,
    "start_time": "2021-11-16T17:28:49.102Z"
   },
   {
    "duration": 7502,
    "start_time": "2021-11-16T17:28:49.111Z"
   },
   {
    "duration": 7497,
    "start_time": "2021-11-16T17:28:49.117Z"
   },
   {
    "duration": 7493,
    "start_time": "2021-11-16T17:28:49.122Z"
   },
   {
    "duration": 7487,
    "start_time": "2021-11-16T17:28:49.129Z"
   },
   {
    "duration": 7484,
    "start_time": "2021-11-16T17:28:49.133Z"
   },
   {
    "duration": 7479,
    "start_time": "2021-11-16T17:28:49.139Z"
   },
   {
    "duration": 7473,
    "start_time": "2021-11-16T17:28:49.146Z"
   },
   {
    "duration": 7467,
    "start_time": "2021-11-16T17:28:49.152Z"
   },
   {
    "duration": 7461,
    "start_time": "2021-11-16T17:28:49.159Z"
   },
   {
    "duration": 7456,
    "start_time": "2021-11-16T17:28:49.165Z"
   },
   {
    "duration": 7452,
    "start_time": "2021-11-16T17:28:49.170Z"
   },
   {
    "duration": 7445,
    "start_time": "2021-11-16T17:28:49.178Z"
   },
   {
    "duration": 7420,
    "start_time": "2021-11-16T17:28:49.204Z"
   },
   {
    "duration": 7413,
    "start_time": "2021-11-16T17:28:49.212Z"
   },
   {
    "duration": 7410,
    "start_time": "2021-11-16T17:28:49.217Z"
   },
   {
    "duration": 7407,
    "start_time": "2021-11-16T17:28:49.221Z"
   },
   {
    "duration": 7400,
    "start_time": "2021-11-16T17:28:49.228Z"
   },
   {
    "duration": 7395,
    "start_time": "2021-11-16T17:28:49.234Z"
   },
   {
    "duration": 1280,
    "start_time": "2021-11-16T17:29:06.509Z"
   },
   {
    "duration": 1518,
    "start_time": "2021-11-16T17:29:07.791Z"
   },
   {
    "duration": 591,
    "start_time": "2021-11-16T17:29:09.311Z"
   },
   {
    "duration": 10,
    "start_time": "2021-11-16T17:29:09.904Z"
   },
   {
    "duration": 6,
    "start_time": "2021-11-16T17:29:09.916Z"
   },
   {
    "duration": 2,
    "start_time": "2021-11-16T17:29:09.923Z"
   },
   {
    "duration": 14,
    "start_time": "2021-11-16T17:29:09.927Z"
   },
   {
    "duration": 10,
    "start_time": "2021-11-16T17:29:09.943Z"
   },
   {
    "duration": 8,
    "start_time": "2021-11-16T17:29:09.954Z"
   },
   {
    "duration": 36,
    "start_time": "2021-11-16T17:29:09.963Z"
   },
   {
    "duration": 8,
    "start_time": "2021-11-16T17:29:10.001Z"
   },
   {
    "duration": 14,
    "start_time": "2021-11-16T17:29:10.011Z"
   },
   {
    "duration": 8,
    "start_time": "2021-11-16T17:29:10.027Z"
   },
   {
    "duration": 16,
    "start_time": "2021-11-16T17:29:10.036Z"
   },
   {
    "duration": 24,
    "start_time": "2021-11-16T17:29:10.054Z"
   },
   {
    "duration": 212,
    "start_time": "2021-11-16T17:29:10.080Z"
   },
   {
    "duration": 5,
    "start_time": "2021-11-16T17:29:10.293Z"
   },
   {
    "duration": 13,
    "start_time": "2021-11-16T17:29:10.299Z"
   },
   {
    "duration": 8,
    "start_time": "2021-11-16T17:29:10.313Z"
   },
   {
    "duration": 19,
    "start_time": "2021-11-16T17:29:10.323Z"
   },
   {
    "duration": 4,
    "start_time": "2021-11-16T17:29:10.344Z"
   },
   {
    "duration": 4,
    "start_time": "2021-11-16T17:29:10.349Z"
   },
   {
    "duration": 34,
    "start_time": "2021-11-16T17:29:10.357Z"
   },
   {
    "duration": 4,
    "start_time": "2021-11-16T17:29:10.394Z"
   },
   {
    "duration": 5,
    "start_time": "2021-11-16T17:29:10.399Z"
   },
   {
    "duration": 3,
    "start_time": "2021-11-16T17:29:10.406Z"
   },
   {
    "duration": 4,
    "start_time": "2021-11-16T17:29:10.411Z"
   },
   {
    "duration": 4,
    "start_time": "2021-11-16T17:29:10.417Z"
   },
   {
    "duration": 1942,
    "start_time": "2021-11-16T17:29:10.422Z"
   },
   {
    "duration": 11,
    "start_time": "2021-11-16T17:29:12.366Z"
   },
   {
    "duration": 258,
    "start_time": "2021-11-16T17:29:12.378Z"
   },
   {
    "duration": 164,
    "start_time": "2021-11-16T17:29:12.638Z"
   },
   {
    "duration": 12,
    "start_time": "2021-11-16T17:29:12.804Z"
   },
   {
    "duration": 8,
    "start_time": "2021-11-16T17:29:12.817Z"
   },
   {
    "duration": 13,
    "start_time": "2021-11-16T17:29:12.826Z"
   },
   {
    "duration": 7,
    "start_time": "2021-11-16T17:29:12.840Z"
   },
   {
    "duration": 276,
    "start_time": "2021-11-16T17:29:12.848Z"
   },
   {
    "duration": 7799,
    "start_time": "2021-11-16T17:29:05.328Z"
   },
   {
    "duration": 7797,
    "start_time": "2021-11-16T17:29:05.332Z"
   },
   {
    "duration": 7793,
    "start_time": "2021-11-16T17:29:05.337Z"
   },
   {
    "duration": 7790,
    "start_time": "2021-11-16T17:29:05.341Z"
   },
   {
    "duration": 7785,
    "start_time": "2021-11-16T17:29:05.347Z"
   },
   {
    "duration": 7782,
    "start_time": "2021-11-16T17:29:05.352Z"
   },
   {
    "duration": 7778,
    "start_time": "2021-11-16T17:29:05.357Z"
   },
   {
    "duration": 7773,
    "start_time": "2021-11-16T17:29:05.363Z"
   },
   {
    "duration": 7767,
    "start_time": "2021-11-16T17:29:05.370Z"
   },
   {
    "duration": 7760,
    "start_time": "2021-11-16T17:29:05.378Z"
   },
   {
    "duration": 7755,
    "start_time": "2021-11-16T17:29:05.384Z"
   },
   {
    "duration": 7751,
    "start_time": "2021-11-16T17:29:05.389Z"
   },
   {
    "duration": 7745,
    "start_time": "2021-11-16T17:29:05.395Z"
   },
   {
    "duration": 7742,
    "start_time": "2021-11-16T17:29:05.399Z"
   },
   {
    "duration": 7738,
    "start_time": "2021-11-16T17:29:05.404Z"
   },
   {
    "duration": 7734,
    "start_time": "2021-11-16T17:29:05.409Z"
   },
   {
    "duration": 7721,
    "start_time": "2021-11-16T17:29:05.423Z"
   },
   {
    "duration": 7716,
    "start_time": "2021-11-16T17:29:05.428Z"
   },
   {
    "duration": 7712,
    "start_time": "2021-11-16T17:29:05.433Z"
   },
   {
    "duration": 7705,
    "start_time": "2021-11-16T17:29:05.441Z"
   },
   {
    "duration": 7699,
    "start_time": "2021-11-16T17:29:05.448Z"
   },
   {
    "duration": 7696,
    "start_time": "2021-11-16T17:29:05.452Z"
   },
   {
    "duration": 7692,
    "start_time": "2021-11-16T17:29:05.457Z"
   },
   {
    "duration": 7689,
    "start_time": "2021-11-16T17:29:05.461Z"
   },
   {
    "duration": 7687,
    "start_time": "2021-11-16T17:29:05.464Z"
   },
   {
    "duration": 7683,
    "start_time": "2021-11-16T17:29:05.469Z"
   },
   {
    "duration": 7680,
    "start_time": "2021-11-16T17:29:05.473Z"
   },
   {
    "duration": 7676,
    "start_time": "2021-11-16T17:29:05.478Z"
   },
   {
    "duration": 7673,
    "start_time": "2021-11-16T17:29:05.482Z"
   },
   {
    "duration": 7668,
    "start_time": "2021-11-16T17:29:05.487Z"
   },
   {
    "duration": 7664,
    "start_time": "2021-11-16T17:29:05.492Z"
   },
   {
    "duration": 7662,
    "start_time": "2021-11-16T17:29:05.496Z"
   },
   {
    "duration": 7659,
    "start_time": "2021-11-16T17:29:05.500Z"
   },
   {
    "duration": 7658,
    "start_time": "2021-11-16T17:29:05.503Z"
   },
   {
    "duration": 7654,
    "start_time": "2021-11-16T17:29:05.508Z"
   },
   {
    "duration": 7680,
    "start_time": "2021-11-16T17:29:05.511Z"
   },
   {
    "duration": 7677,
    "start_time": "2021-11-16T17:29:05.515Z"
   },
   {
    "duration": 7673,
    "start_time": "2021-11-16T17:29:05.520Z"
   },
   {
    "duration": 7661,
    "start_time": "2021-11-16T17:29:05.533Z"
   },
   {
    "duration": 7658,
    "start_time": "2021-11-16T17:29:05.537Z"
   },
   {
    "duration": 7655,
    "start_time": "2021-11-16T17:29:05.541Z"
   },
   {
    "duration": 7652,
    "start_time": "2021-11-16T17:29:05.545Z"
   },
   {
    "duration": 7647,
    "start_time": "2021-11-16T17:29:05.551Z"
   },
   {
    "duration": 7642,
    "start_time": "2021-11-16T17:29:05.557Z"
   },
   {
    "duration": 7636,
    "start_time": "2021-11-16T17:29:05.564Z"
   },
   {
    "duration": 7629,
    "start_time": "2021-11-16T17:29:05.572Z"
   },
   {
    "duration": 7623,
    "start_time": "2021-11-16T17:29:05.579Z"
   },
   {
    "duration": 7616,
    "start_time": "2021-11-16T17:29:05.587Z"
   },
   {
    "duration": 7610,
    "start_time": "2021-11-16T17:29:05.594Z"
   },
   {
    "duration": 7604,
    "start_time": "2021-11-16T17:29:05.601Z"
   },
   {
    "duration": 7601,
    "start_time": "2021-11-16T17:29:05.605Z"
   },
   {
    "duration": 7597,
    "start_time": "2021-11-16T17:29:05.609Z"
   },
   {
    "duration": 7594,
    "start_time": "2021-11-16T17:29:05.614Z"
   },
   {
    "duration": 7591,
    "start_time": "2021-11-16T17:29:05.618Z"
   },
   {
    "duration": 7587,
    "start_time": "2021-11-16T17:29:05.623Z"
   },
   {
    "duration": 7584,
    "start_time": "2021-11-16T17:29:05.627Z"
   },
   {
    "duration": 357,
    "start_time": "2021-11-17T04:34:25.347Z"
   },
   {
    "duration": 1823,
    "start_time": "2021-11-17T04:34:36.836Z"
   },
   {
    "duration": 1669,
    "start_time": "2021-11-17T04:34:38.661Z"
   },
   {
    "duration": 787,
    "start_time": "2021-11-17T04:34:40.333Z"
   },
   {
    "duration": 18,
    "start_time": "2021-11-17T04:34:41.122Z"
   },
   {
    "duration": 16,
    "start_time": "2021-11-17T04:34:41.142Z"
   },
   {
    "duration": 4,
    "start_time": "2021-11-17T04:34:41.160Z"
   },
   {
    "duration": 22,
    "start_time": "2021-11-17T04:34:41.166Z"
   },
   {
    "duration": 15,
    "start_time": "2021-11-17T04:34:41.192Z"
   },
   {
    "duration": 12,
    "start_time": "2021-11-17T04:34:41.210Z"
   },
   {
    "duration": 47,
    "start_time": "2021-11-17T04:34:41.225Z"
   },
   {
    "duration": 12,
    "start_time": "2021-11-17T04:34:41.274Z"
   },
   {
    "duration": 5,
    "start_time": "2021-11-17T04:34:41.289Z"
   },
   {
    "duration": 15,
    "start_time": "2021-11-17T04:34:41.297Z"
   },
   {
    "duration": 14,
    "start_time": "2021-11-17T04:34:41.314Z"
   },
   {
    "duration": 63,
    "start_time": "2021-11-17T04:34:41.331Z"
   },
   {
    "duration": 325,
    "start_time": "2021-11-17T04:34:41.397Z"
   },
   {
    "duration": 7,
    "start_time": "2021-11-17T04:34:41.725Z"
   },
   {
    "duration": 38,
    "start_time": "2021-11-17T04:34:41.735Z"
   },
   {
    "duration": 12,
    "start_time": "2021-11-17T04:34:41.775Z"
   },
   {
    "duration": 37,
    "start_time": "2021-11-17T04:34:41.789Z"
   },
   {
    "duration": 7,
    "start_time": "2021-11-17T04:34:41.829Z"
   },
   {
    "duration": 30,
    "start_time": "2021-11-17T04:34:41.839Z"
   },
   {
    "duration": 4,
    "start_time": "2021-11-17T04:34:41.875Z"
   },
   {
    "duration": 9,
    "start_time": "2021-11-17T04:34:41.883Z"
   },
   {
    "duration": 9,
    "start_time": "2021-11-17T04:34:41.895Z"
   },
   {
    "duration": 13,
    "start_time": "2021-11-17T04:34:41.907Z"
   },
   {
    "duration": 46,
    "start_time": "2021-11-17T04:34:41.923Z"
   },
   {
    "duration": 4,
    "start_time": "2021-11-17T04:34:41.971Z"
   },
   {
    "duration": 3182,
    "start_time": "2021-11-17T04:34:41.977Z"
   },
   {
    "duration": 19,
    "start_time": "2021-11-17T04:34:45.161Z"
   },
   {
    "duration": 369,
    "start_time": "2021-11-17T04:34:45.182Z"
   },
   {
    "duration": 272,
    "start_time": "2021-11-17T04:34:45.553Z"
   },
   {
    "duration": 19,
    "start_time": "2021-11-17T04:34:45.827Z"
   },
   {
    "duration": 25,
    "start_time": "2021-11-17T04:34:45.849Z"
   },
   {
    "duration": 16,
    "start_time": "2021-11-17T04:34:45.877Z"
   },
   {
    "duration": 13,
    "start_time": "2021-11-17T04:34:45.895Z"
   },
   {
    "duration": 467,
    "start_time": "2021-11-17T04:34:45.910Z"
   },
   {
    "duration": -149,
    "start_time": "2021-11-17T04:34:46.529Z"
   },
   {
    "duration": -154,
    "start_time": "2021-11-17T04:34:46.536Z"
   },
   {
    "duration": -156,
    "start_time": "2021-11-17T04:34:46.540Z"
   },
   {
    "duration": -158,
    "start_time": "2021-11-17T04:34:46.543Z"
   },
   {
    "duration": -160,
    "start_time": "2021-11-17T04:34:46.547Z"
   },
   {
    "duration": -162,
    "start_time": "2021-11-17T04:34:46.550Z"
   },
   {
    "duration": -171,
    "start_time": "2021-11-17T04:34:46.560Z"
   },
   {
    "duration": -172,
    "start_time": "2021-11-17T04:34:46.563Z"
   },
   {
    "duration": -173,
    "start_time": "2021-11-17T04:34:46.565Z"
   },
   {
    "duration": -173,
    "start_time": "2021-11-17T04:34:46.567Z"
   },
   {
    "duration": -173,
    "start_time": "2021-11-17T04:34:46.569Z"
   },
   {
    "duration": -174,
    "start_time": "2021-11-17T04:34:46.571Z"
   },
   {
    "duration": -175,
    "start_time": "2021-11-17T04:34:46.573Z"
   },
   {
    "duration": -176,
    "start_time": "2021-11-17T04:34:46.576Z"
   },
   {
    "duration": -176,
    "start_time": "2021-11-17T04:34:46.577Z"
   },
   {
    "duration": -177,
    "start_time": "2021-11-17T04:34:46.579Z"
   },
   {
    "duration": -179,
    "start_time": "2021-11-17T04:34:46.583Z"
   },
   {
    "duration": -181,
    "start_time": "2021-11-17T04:34:46.586Z"
   },
   {
    "duration": -181,
    "start_time": "2021-11-17T04:34:46.588Z"
   },
   {
    "duration": -182,
    "start_time": "2021-11-17T04:34:46.590Z"
   },
   {
    "duration": -183,
    "start_time": "2021-11-17T04:34:46.592Z"
   },
   {
    "duration": -182,
    "start_time": "2021-11-17T04:34:46.594Z"
   },
   {
    "duration": -193,
    "start_time": "2021-11-17T04:34:46.606Z"
   },
   {
    "duration": -254,
    "start_time": "2021-11-17T04:34:46.721Z"
   },
   {
    "duration": -337,
    "start_time": "2021-11-17T04:34:46.805Z"
   },
   {
    "duration": -367,
    "start_time": "2021-11-17T04:34:46.837Z"
   },
   {
    "duration": -368,
    "start_time": "2021-11-17T04:34:46.839Z"
   },
   {
    "duration": -373,
    "start_time": "2021-11-17T04:34:46.846Z"
   },
   {
    "duration": -376,
    "start_time": "2021-11-17T04:34:46.850Z"
   },
   {
    "duration": -378,
    "start_time": "2021-11-17T04:34:46.853Z"
   },
   {
    "duration": -379,
    "start_time": "2021-11-17T04:34:46.856Z"
   },
   {
    "duration": -380,
    "start_time": "2021-11-17T04:34:46.858Z"
   },
   {
    "duration": -381,
    "start_time": "2021-11-17T04:34:46.860Z"
   },
   {
    "duration": -383,
    "start_time": "2021-11-17T04:34:46.863Z"
   },
   {
    "duration": -382,
    "start_time": "2021-11-17T04:34:46.864Z"
   },
   {
    "duration": -385,
    "start_time": "2021-11-17T04:34:46.868Z"
   },
   {
    "duration": -386,
    "start_time": "2021-11-17T04:34:46.870Z"
   },
   {
    "duration": -386,
    "start_time": "2021-11-17T04:34:46.872Z"
   },
   {
    "duration": -387,
    "start_time": "2021-11-17T04:34:46.874Z"
   },
   {
    "duration": -389,
    "start_time": "2021-11-17T04:34:46.877Z"
   },
   {
    "duration": -389,
    "start_time": "2021-11-17T04:34:46.879Z"
   },
   {
    "duration": -390,
    "start_time": "2021-11-17T04:34:46.881Z"
   },
   {
    "duration": -390,
    "start_time": "2021-11-17T04:34:46.883Z"
   },
   {
    "duration": -391,
    "start_time": "2021-11-17T04:34:46.885Z"
   },
   {
    "duration": -391,
    "start_time": "2021-11-17T04:34:46.887Z"
   },
   {
    "duration": -392,
    "start_time": "2021-11-17T04:34:46.889Z"
   },
   {
    "duration": -392,
    "start_time": "2021-11-17T04:34:46.891Z"
   },
   {
    "duration": -393,
    "start_time": "2021-11-17T04:34:46.893Z"
   },
   {
    "duration": -393,
    "start_time": "2021-11-17T04:34:46.895Z"
   },
   {
    "duration": -394,
    "start_time": "2021-11-17T04:34:46.897Z"
   },
   {
    "duration": -395,
    "start_time": "2021-11-17T04:34:46.899Z"
   },
   {
    "duration": -331,
    "start_time": "2021-11-17T04:34:46.902Z"
   },
   {
    "duration": -332,
    "start_time": "2021-11-17T04:34:46.904Z"
   },
   {
    "duration": -333,
    "start_time": "2021-11-17T04:34:46.907Z"
   },
   {
    "duration": -335,
    "start_time": "2021-11-17T04:34:46.910Z"
   },
   {
    "duration": -335,
    "start_time": "2021-11-17T04:34:46.912Z"
   },
   {
    "duration": 259,
    "start_time": "2021-11-17T04:38:18.512Z"
   },
   {
    "duration": 286,
    "start_time": "2021-11-17T04:41:40.699Z"
   },
   {
    "duration": 414,
    "start_time": "2021-11-17T04:42:02.678Z"
   },
   {
    "duration": 5,
    "start_time": "2021-11-17T05:03:36.853Z"
   },
   {
    "duration": 478,
    "start_time": "2021-11-17T05:03:44.424Z"
   },
   {
    "duration": 465,
    "start_time": "2021-11-17T05:04:11.056Z"
   },
   {
    "duration": 1909,
    "start_time": "2021-11-17T05:05:10.552Z"
   },
   {
    "duration": 1565,
    "start_time": "2021-11-17T05:05:12.464Z"
   },
   {
    "duration": 750,
    "start_time": "2021-11-17T05:05:14.033Z"
   },
   {
    "duration": 18,
    "start_time": "2021-11-17T05:05:14.786Z"
   },
   {
    "duration": 13,
    "start_time": "2021-11-17T05:05:14.807Z"
   },
   {
    "duration": 8,
    "start_time": "2021-11-17T05:05:14.822Z"
   },
   {
    "duration": 41,
    "start_time": "2021-11-17T05:05:14.832Z"
   },
   {
    "duration": 16,
    "start_time": "2021-11-17T05:05:14.877Z"
   },
   {
    "duration": 12,
    "start_time": "2021-11-17T05:05:14.896Z"
   },
   {
    "duration": 14,
    "start_time": "2021-11-17T05:05:14.911Z"
   },
   {
    "duration": 47,
    "start_time": "2021-11-17T05:05:14.928Z"
   },
   {
    "duration": 5,
    "start_time": "2021-11-17T05:05:14.978Z"
   },
   {
    "duration": 6,
    "start_time": "2021-11-17T05:05:14.986Z"
   },
   {
    "duration": 19,
    "start_time": "2021-11-17T05:05:14.995Z"
   },
   {
    "duration": 66,
    "start_time": "2021-11-17T05:05:15.016Z"
   },
   {
    "duration": 320,
    "start_time": "2021-11-17T05:05:15.084Z"
   },
   {
    "duration": 6,
    "start_time": "2021-11-17T05:05:15.407Z"
   },
   {
    "duration": 32,
    "start_time": "2021-11-17T05:05:15.415Z"
   },
   {
    "duration": 29,
    "start_time": "2021-11-17T05:05:15.449Z"
   },
   {
    "duration": 31,
    "start_time": "2021-11-17T05:05:15.480Z"
   },
   {
    "duration": 6,
    "start_time": "2021-11-17T05:05:15.513Z"
   },
   {
    "duration": 22,
    "start_time": "2021-11-17T05:05:15.521Z"
   },
   {
    "duration": 23,
    "start_time": "2021-11-17T05:05:15.548Z"
   },
   {
    "duration": 12,
    "start_time": "2021-11-17T05:05:15.575Z"
   },
   {
    "duration": 16,
    "start_time": "2021-11-17T05:05:15.589Z"
   },
   {
    "duration": 15,
    "start_time": "2021-11-17T05:05:15.608Z"
   },
   {
    "duration": 10,
    "start_time": "2021-11-17T05:05:15.625Z"
   },
   {
    "duration": 13,
    "start_time": "2021-11-17T05:05:15.637Z"
   },
   {
    "duration": 3133,
    "start_time": "2021-11-17T05:05:15.652Z"
   },
   {
    "duration": 17,
    "start_time": "2021-11-17T05:05:18.788Z"
   },
   {
    "duration": 377,
    "start_time": "2021-11-17T05:05:18.807Z"
   },
   {
    "duration": 270,
    "start_time": "2021-11-17T05:05:19.186Z"
   },
   {
    "duration": 22,
    "start_time": "2021-11-17T05:05:19.458Z"
   },
   {
    "duration": 10,
    "start_time": "2021-11-17T05:05:19.482Z"
   },
   {
    "duration": 16,
    "start_time": "2021-11-17T05:05:19.495Z"
   },
   {
    "duration": 12,
    "start_time": "2021-11-17T05:05:19.513Z"
   },
   {
    "duration": 5,
    "start_time": "2021-11-17T05:05:19.567Z"
   },
   {
    "duration": 443,
    "start_time": "2021-11-17T05:05:19.574Z"
   },
   {
    "duration": 448,
    "start_time": "2021-11-17T05:05:20.019Z"
   },
   {
    "duration": -75,
    "start_time": "2021-11-17T05:05:20.546Z"
   },
   {
    "duration": -80,
    "start_time": "2021-11-17T05:05:20.552Z"
   },
   {
    "duration": -82,
    "start_time": "2021-11-17T05:05:20.556Z"
   },
   {
    "duration": -83,
    "start_time": "2021-11-17T05:05:20.558Z"
   },
   {
    "duration": -83,
    "start_time": "2021-11-17T05:05:20.560Z"
   },
   {
    "duration": -84,
    "start_time": "2021-11-17T05:05:20.562Z"
   },
   {
    "duration": -85,
    "start_time": "2021-11-17T05:05:20.564Z"
   },
   {
    "duration": -92,
    "start_time": "2021-11-17T05:05:20.573Z"
   },
   {
    "duration": -94,
    "start_time": "2021-11-17T05:05:20.576Z"
   },
   {
    "duration": -96,
    "start_time": "2021-11-17T05:05:20.579Z"
   },
   {
    "duration": -96,
    "start_time": "2021-11-17T05:05:20.581Z"
   },
   {
    "duration": -99,
    "start_time": "2021-11-17T05:05:20.585Z"
   },
   {
    "duration": -101,
    "start_time": "2021-11-17T05:05:20.588Z"
   },
   {
    "duration": -102,
    "start_time": "2021-11-17T05:05:20.591Z"
   },
   {
    "duration": -103,
    "start_time": "2021-11-17T05:05:20.593Z"
   },
   {
    "duration": -104,
    "start_time": "2021-11-17T05:05:20.595Z"
   },
   {
    "duration": -105,
    "start_time": "2021-11-17T05:05:20.597Z"
   },
   {
    "duration": -105,
    "start_time": "2021-11-17T05:05:20.599Z"
   },
   {
    "duration": -107,
    "start_time": "2021-11-17T05:05:20.602Z"
   },
   {
    "duration": -107,
    "start_time": "2021-11-17T05:05:20.604Z"
   },
   {
    "duration": -129,
    "start_time": "2021-11-17T05:05:20.627Z"
   },
   {
    "duration": -134,
    "start_time": "2021-11-17T05:05:20.633Z"
   },
   {
    "duration": -138,
    "start_time": "2021-11-17T05:05:20.638Z"
   },
   {
    "duration": -139,
    "start_time": "2021-11-17T05:05:20.641Z"
   },
   {
    "duration": -141,
    "start_time": "2021-11-17T05:05:20.644Z"
   },
   {
    "duration": -143,
    "start_time": "2021-11-17T05:05:20.647Z"
   },
   {
    "duration": -144,
    "start_time": "2021-11-17T05:05:20.650Z"
   },
   {
    "duration": -146,
    "start_time": "2021-11-17T05:05:20.653Z"
   },
   {
    "duration": -147,
    "start_time": "2021-11-17T05:05:20.655Z"
   },
   {
    "duration": -98,
    "start_time": "2021-11-17T05:05:20.669Z"
   },
   {
    "duration": -98,
    "start_time": "2021-11-17T05:05:20.671Z"
   },
   {
    "duration": -158,
    "start_time": "2021-11-17T05:05:20.734Z"
   },
   {
    "duration": -159,
    "start_time": "2021-11-17T05:05:20.737Z"
   },
   {
    "duration": -159,
    "start_time": "2021-11-17T05:05:20.739Z"
   },
   {
    "duration": -159,
    "start_time": "2021-11-17T05:05:20.741Z"
   },
   {
    "duration": -159,
    "start_time": "2021-11-17T05:05:20.743Z"
   },
   {
    "duration": -159,
    "start_time": "2021-11-17T05:05:20.745Z"
   },
   {
    "duration": -239,
    "start_time": "2021-11-17T05:05:20.827Z"
   },
   {
    "duration": -239,
    "start_time": "2021-11-17T05:05:20.829Z"
   },
   {
    "duration": -239,
    "start_time": "2021-11-17T05:05:20.831Z"
   },
   {
    "duration": -240,
    "start_time": "2021-11-17T05:05:20.834Z"
   },
   {
    "duration": -245,
    "start_time": "2021-11-17T05:05:20.841Z"
   },
   {
    "duration": -249,
    "start_time": "2021-11-17T05:05:20.847Z"
   },
   {
    "duration": -252,
    "start_time": "2021-11-17T05:05:20.852Z"
   },
   {
    "duration": -254,
    "start_time": "2021-11-17T05:05:20.856Z"
   },
   {
    "duration": -256,
    "start_time": "2021-11-17T05:05:20.860Z"
   },
   {
    "duration": -195,
    "start_time": "2021-11-17T05:05:20.862Z"
   },
   {
    "duration": -197,
    "start_time": "2021-11-17T05:05:20.866Z"
   },
   {
    "duration": -196,
    "start_time": "2021-11-17T05:05:20.868Z"
   },
   {
    "duration": -196,
    "start_time": "2021-11-17T05:05:20.870Z"
   },
   {
    "duration": -197,
    "start_time": "2021-11-17T05:05:20.873Z"
   },
   {
    "duration": -196,
    "start_time": "2021-11-17T05:05:20.874Z"
   },
   {
    "duration": -196,
    "start_time": "2021-11-17T05:05:20.876Z"
   },
   {
    "duration": -197,
    "start_time": "2021-11-17T05:05:20.879Z"
   },
   {
    "duration": -197,
    "start_time": "2021-11-17T05:05:20.881Z"
   },
   {
    "duration": 476,
    "start_time": "2021-11-17T05:09:09.666Z"
   },
   {
    "duration": 467,
    "start_time": "2021-11-17T05:10:40.474Z"
   },
   {
    "duration": 1729,
    "start_time": "2021-11-17T05:10:49.907Z"
   },
   {
    "duration": 1009,
    "start_time": "2021-11-17T05:10:51.639Z"
   },
   {
    "duration": 692,
    "start_time": "2021-11-17T05:10:52.651Z"
   },
   {
    "duration": 18,
    "start_time": "2021-11-17T05:10:53.346Z"
   },
   {
    "duration": 19,
    "start_time": "2021-11-17T05:10:53.366Z"
   },
   {
    "duration": 8,
    "start_time": "2021-11-17T05:10:53.387Z"
   },
   {
    "duration": 33,
    "start_time": "2021-11-17T05:10:53.397Z"
   },
   {
    "duration": 17,
    "start_time": "2021-11-17T05:10:53.433Z"
   },
   {
    "duration": 27,
    "start_time": "2021-11-17T05:10:53.455Z"
   },
   {
    "duration": 16,
    "start_time": "2021-11-17T05:10:53.485Z"
   },
   {
    "duration": 11,
    "start_time": "2021-11-17T05:10:53.503Z"
   },
   {
    "duration": 6,
    "start_time": "2021-11-17T05:10:53.516Z"
   },
   {
    "duration": 46,
    "start_time": "2021-11-17T05:10:53.524Z"
   },
   {
    "duration": 16,
    "start_time": "2021-11-17T05:10:53.573Z"
   },
   {
    "duration": 33,
    "start_time": "2021-11-17T05:10:53.592Z"
   },
   {
    "duration": 345,
    "start_time": "2021-11-17T05:10:53.628Z"
   },
   {
    "duration": 7,
    "start_time": "2021-11-17T05:10:53.976Z"
   },
   {
    "duration": 18,
    "start_time": "2021-11-17T05:10:53.985Z"
   },
   {
    "duration": 15,
    "start_time": "2021-11-17T05:10:54.005Z"
   },
   {
    "duration": 64,
    "start_time": "2021-11-17T05:10:54.023Z"
   },
   {
    "duration": 8,
    "start_time": "2021-11-17T05:10:54.090Z"
   },
   {
    "duration": 18,
    "start_time": "2021-11-17T05:10:54.100Z"
   },
   {
    "duration": 7,
    "start_time": "2021-11-17T05:10:54.120Z"
   },
   {
    "duration": 9,
    "start_time": "2021-11-17T05:10:54.130Z"
   },
   {
    "duration": 28,
    "start_time": "2021-11-17T05:10:54.141Z"
   },
   {
    "duration": 5,
    "start_time": "2021-11-17T05:10:54.171Z"
   },
   {
    "duration": 6,
    "start_time": "2021-11-17T05:10:54.184Z"
   },
   {
    "duration": 15,
    "start_time": "2021-11-17T05:10:54.195Z"
   },
   {
    "duration": 3503,
    "start_time": "2021-11-17T05:10:54.212Z"
   },
   {
    "duration": 19,
    "start_time": "2021-11-17T05:10:57.717Z"
   },
   {
    "duration": 389,
    "start_time": "2021-11-17T05:10:57.738Z"
   },
   {
    "duration": 280,
    "start_time": "2021-11-17T05:10:58.129Z"
   },
   {
    "duration": 18,
    "start_time": "2021-11-17T05:10:58.411Z"
   },
   {
    "duration": 10,
    "start_time": "2021-11-17T05:10:58.432Z"
   },
   {
    "duration": 16,
    "start_time": "2021-11-17T05:10:58.468Z"
   },
   {
    "duration": 14,
    "start_time": "2021-11-17T05:10:58.487Z"
   },
   {
    "duration": 5,
    "start_time": "2021-11-17T05:10:58.503Z"
   },
   {
    "duration": 495,
    "start_time": "2021-11-17T05:10:58.510Z"
   },
   {
    "duration": 459,
    "start_time": "2021-11-17T05:10:59.008Z"
   },
   {
    "duration": 9,
    "start_time": "2021-11-17T05:10:59.470Z"
   },
   {
    "duration": 14,
    "start_time": "2021-11-17T05:10:59.481Z"
   },
   {
    "duration": 536,
    "start_time": "2021-11-17T05:10:59.498Z"
   },
   {
    "duration": 11,
    "start_time": "2021-11-17T05:11:00.036Z"
   },
   {
    "duration": 37,
    "start_time": "2021-11-17T05:11:00.049Z"
   },
   {
    "duration": 251,
    "start_time": "2021-11-17T05:11:00.089Z"
   },
   {
    "duration": 5,
    "start_time": "2021-11-17T05:11:00.343Z"
   },
   {
    "duration": 21,
    "start_time": "2021-11-17T05:11:00.351Z"
   },
   {
    "duration": 18,
    "start_time": "2021-11-17T05:11:00.375Z"
   },
   {
    "duration": 22,
    "start_time": "2021-11-17T05:11:00.395Z"
   },
   {
    "duration": 12,
    "start_time": "2021-11-17T05:11:00.420Z"
   },
   {
    "duration": 19,
    "start_time": "2021-11-17T05:11:00.435Z"
   },
   {
    "duration": 18,
    "start_time": "2021-11-17T05:11:00.456Z"
   },
   {
    "duration": 8,
    "start_time": "2021-11-17T05:11:00.477Z"
   },
   {
    "duration": 48,
    "start_time": "2021-11-17T05:11:00.488Z"
   },
   {
    "duration": 11,
    "start_time": "2021-11-17T05:11:00.538Z"
   },
   {
    "duration": 23,
    "start_time": "2021-11-17T05:11:00.551Z"
   },
   {
    "duration": 26,
    "start_time": "2021-11-17T05:11:00.577Z"
   },
   {
    "duration": 15,
    "start_time": "2021-11-17T05:11:00.605Z"
   },
   {
    "duration": 13,
    "start_time": "2021-11-17T05:11:00.622Z"
   },
   {
    "duration": 198,
    "start_time": "2021-11-17T05:11:00.638Z"
   },
   {
    "duration": 82173,
    "start_time": "2021-11-17T05:11:00.839Z"
   },
   {
    "duration": 3,
    "start_time": "2021-11-17T05:12:23.015Z"
   },
   {
    "duration": 555,
    "start_time": "2021-11-17T05:12:23.021Z"
   },
   {
    "duration": 7,
    "start_time": "2021-11-17T05:12:23.669Z"
   },
   {
    "duration": 438,
    "start_time": "2021-11-17T05:12:23.679Z"
   },
   {
    "duration": 5,
    "start_time": "2021-11-17T05:12:24.119Z"
   },
   {
    "duration": 13,
    "start_time": "2021-11-17T05:12:24.126Z"
   },
   {
    "duration": 34,
    "start_time": "2021-11-17T05:12:24.141Z"
   },
   {
    "duration": 21,
    "start_time": "2021-11-17T05:12:24.177Z"
   },
   {
    "duration": 21,
    "start_time": "2021-11-17T05:12:24.201Z"
   },
   {
    "duration": 45,
    "start_time": "2021-11-17T05:12:24.225Z"
   },
   {
    "duration": 19,
    "start_time": "2021-11-17T05:12:24.272Z"
   },
   {
    "duration": 11,
    "start_time": "2021-11-17T05:12:24.294Z"
   },
   {
    "duration": 917,
    "start_time": "2021-11-17T05:12:24.308Z"
   },
   {
    "duration": 17,
    "start_time": "2021-11-17T05:12:25.227Z"
   },
   {
    "duration": 31,
    "start_time": "2021-11-17T05:12:25.246Z"
   },
   {
    "duration": 1757,
    "start_time": "2021-11-17T05:12:25.279Z"
   },
   {
    "duration": 7,
    "start_time": "2021-11-17T05:12:27.039Z"
   },
   {
    "duration": 23,
    "start_time": "2021-11-17T05:12:27.048Z"
   },
   {
    "duration": 16,
    "start_time": "2021-11-17T05:12:27.073Z"
   },
   {
    "duration": 9,
    "start_time": "2021-11-17T05:12:27.096Z"
   },
   {
    "duration": 8,
    "start_time": "2021-11-17T05:12:27.108Z"
   },
   {
    "duration": 8,
    "start_time": "2021-11-17T05:12:27.118Z"
   },
   {
    "duration": 10,
    "start_time": "2021-11-17T05:12:27.129Z"
   },
   {
    "duration": 30,
    "start_time": "2021-11-17T05:12:27.142Z"
   },
   {
    "duration": 11,
    "start_time": "2021-11-17T05:12:27.174Z"
   },
   {
    "duration": 8,
    "start_time": "2021-11-17T05:12:27.187Z"
   },
   {
    "duration": 13,
    "start_time": "2021-11-17T05:12:27.197Z"
   },
   {
    "duration": 12,
    "start_time": "2021-11-17T05:12:27.212Z"
   },
   {
    "duration": 13,
    "start_time": "2021-11-17T05:12:27.227Z"
   },
   {
    "duration": 30,
    "start_time": "2021-11-17T05:12:27.242Z"
   },
   {
    "duration": 9,
    "start_time": "2021-11-17T05:12:27.274Z"
   },
   {
    "duration": 11,
    "start_time": "2021-11-17T05:12:27.285Z"
   },
   {
    "duration": 13,
    "start_time": "2021-11-17T05:12:27.298Z"
   },
   {
    "duration": 498,
    "start_time": "2021-11-17T05:23:20.559Z"
   },
   {
    "duration": 16,
    "start_time": "2021-11-17T05:24:09.837Z"
   },
   {
    "duration": 4,
    "start_time": "2021-11-17T05:24:24.671Z"
   },
   {
    "duration": 5,
    "start_time": "2021-11-17T05:25:42.897Z"
   },
   {
    "duration": 5,
    "start_time": "2021-11-17T05:25:43.665Z"
   },
   {
    "duration": 4,
    "start_time": "2021-11-17T05:26:08.859Z"
   },
   {
    "duration": 5,
    "start_time": "2021-11-17T05:33:01.310Z"
   },
   {
    "duration": 6,
    "start_time": "2021-11-17T05:33:14.026Z"
   },
   {
    "duration": 6,
    "start_time": "2021-11-17T05:33:36.264Z"
   },
   {
    "duration": 233,
    "start_time": "2021-11-17T05:34:04.205Z"
   },
   {
    "duration": 288,
    "start_time": "2021-11-17T05:39:22.350Z"
   },
   {
    "duration": 7,
    "start_time": "2021-11-17T05:39:29.133Z"
   },
   {
    "duration": 5,
    "start_time": "2021-11-17T05:41:18.057Z"
   },
   {
    "duration": 267,
    "start_time": "2021-11-17T05:42:07.231Z"
   },
   {
    "duration": 7,
    "start_time": "2021-11-17T05:42:17.973Z"
   },
   {
    "duration": 7,
    "start_time": "2021-11-17T05:42:24.651Z"
   },
   {
    "duration": 4,
    "start_time": "2021-11-17T05:42:25.726Z"
   },
   {
    "duration": 1790,
    "start_time": "2021-11-17T05:52:35.370Z"
   },
   {
    "duration": 1598,
    "start_time": "2021-11-17T05:52:37.162Z"
   },
   {
    "duration": 627,
    "start_time": "2021-11-17T05:52:38.763Z"
   },
   {
    "duration": 17,
    "start_time": "2021-11-17T05:52:39.393Z"
   },
   {
    "duration": 11,
    "start_time": "2021-11-17T05:52:39.413Z"
   },
   {
    "duration": 4,
    "start_time": "2021-11-17T05:52:39.426Z"
   },
   {
    "duration": 37,
    "start_time": "2021-11-17T05:52:39.432Z"
   },
   {
    "duration": 16,
    "start_time": "2021-11-17T05:52:39.471Z"
   },
   {
    "duration": 11,
    "start_time": "2021-11-17T05:52:39.491Z"
   },
   {
    "duration": 17,
    "start_time": "2021-11-17T05:52:39.505Z"
   },
   {
    "duration": 48,
    "start_time": "2021-11-17T05:52:39.525Z"
   },
   {
    "duration": 5,
    "start_time": "2021-11-17T05:52:39.575Z"
   },
   {
    "duration": 6,
    "start_time": "2021-11-17T05:52:39.583Z"
   },
   {
    "duration": 14,
    "start_time": "2021-11-17T05:52:39.591Z"
   },
   {
    "duration": 63,
    "start_time": "2021-11-17T05:52:39.607Z"
   },
   {
    "duration": 318,
    "start_time": "2021-11-17T05:52:39.672Z"
   },
   {
    "duration": 7,
    "start_time": "2021-11-17T05:52:39.992Z"
   },
   {
    "duration": 20,
    "start_time": "2021-11-17T05:52:40.001Z"
   },
   {
    "duration": 12,
    "start_time": "2021-11-17T05:52:40.024Z"
   },
   {
    "duration": 63,
    "start_time": "2021-11-17T05:52:40.038Z"
   },
   {
    "duration": 6,
    "start_time": "2021-11-17T05:52:40.104Z"
   },
   {
    "duration": 9,
    "start_time": "2021-11-17T05:52:40.113Z"
   },
   {
    "duration": 6,
    "start_time": "2021-11-17T05:52:40.124Z"
   },
   {
    "duration": 34,
    "start_time": "2021-11-17T05:52:40.133Z"
   },
   {
    "duration": 6,
    "start_time": "2021-11-17T05:52:40.170Z"
   },
   {
    "duration": 8,
    "start_time": "2021-11-17T05:52:40.179Z"
   },
   {
    "duration": 5,
    "start_time": "2021-11-17T05:52:40.197Z"
   },
   {
    "duration": 3,
    "start_time": "2021-11-17T05:52:40.208Z"
   },
   {
    "duration": 3319,
    "start_time": "2021-11-17T05:52:40.214Z"
   },
   {
    "duration": 34,
    "start_time": "2021-11-17T05:52:43.535Z"
   },
   {
    "duration": 370,
    "start_time": "2021-11-17T05:52:43.571Z"
   },
   {
    "duration": 279,
    "start_time": "2021-11-17T05:52:43.944Z"
   },
   {
    "duration": 17,
    "start_time": "2021-11-17T05:52:44.226Z"
   },
   {
    "duration": 26,
    "start_time": "2021-11-17T05:52:44.246Z"
   },
   {
    "duration": 17,
    "start_time": "2021-11-17T05:52:44.275Z"
   },
   {
    "duration": 13,
    "start_time": "2021-11-17T05:52:44.294Z"
   },
   {
    "duration": 7,
    "start_time": "2021-11-17T05:52:44.309Z"
   },
   {
    "duration": 506,
    "start_time": "2021-11-17T05:52:44.318Z"
   },
   {
    "duration": 492,
    "start_time": "2021-11-17T05:52:44.827Z"
   },
   {
    "duration": 8,
    "start_time": "2021-11-17T05:52:45.322Z"
   },
   {
    "duration": 8,
    "start_time": "2021-11-17T05:52:45.333Z"
   },
   {
    "duration": 517,
    "start_time": "2021-11-17T05:52:45.343Z"
   },
   {
    "duration": 10,
    "start_time": "2021-11-17T05:52:45.863Z"
   },
   {
    "duration": 17,
    "start_time": "2021-11-17T05:52:45.875Z"
   },
   {
    "duration": 259,
    "start_time": "2021-11-17T05:52:45.894Z"
   },
   {
    "duration": 12,
    "start_time": "2021-11-17T05:52:46.156Z"
   },
   {
    "duration": 7,
    "start_time": "2021-11-17T05:52:46.171Z"
   },
   {
    "duration": 13,
    "start_time": "2021-11-17T05:52:46.181Z"
   },
   {
    "duration": 11,
    "start_time": "2021-11-17T05:52:46.197Z"
   },
   {
    "duration": 16,
    "start_time": "2021-11-17T05:52:46.210Z"
   },
   {
    "duration": 11,
    "start_time": "2021-11-17T05:52:46.228Z"
   },
   {
    "duration": 33,
    "start_time": "2021-11-17T05:52:46.242Z"
   },
   {
    "duration": 4,
    "start_time": "2021-11-17T05:52:46.278Z"
   },
   {
    "duration": 27,
    "start_time": "2021-11-17T05:52:46.285Z"
   },
   {
    "duration": 12,
    "start_time": "2021-11-17T05:52:46.314Z"
   },
   {
    "duration": 47,
    "start_time": "2021-11-17T05:52:46.329Z"
   },
   {
    "duration": 22,
    "start_time": "2021-11-17T05:52:46.379Z"
   },
   {
    "duration": 14,
    "start_time": "2021-11-17T05:52:46.404Z"
   },
   {
    "duration": 8,
    "start_time": "2021-11-17T05:52:46.421Z"
   },
   {
    "duration": 227,
    "start_time": "2021-11-17T05:52:46.431Z"
   },
   {
    "duration": 85620,
    "start_time": "2021-11-17T05:52:46.660Z"
   },
   {
    "duration": 4,
    "start_time": "2021-11-17T05:54:12.283Z"
   },
   {
    "duration": 383,
    "start_time": "2021-11-17T05:54:12.289Z"
   },
   {
    "duration": 93,
    "start_time": "2021-11-17T05:54:12.675Z"
   },
   {
    "duration": 356,
    "start_time": "2021-11-17T05:54:12.771Z"
   },
   {
    "duration": 6,
    "start_time": "2021-11-17T05:54:13.130Z"
   },
   {
    "duration": 11,
    "start_time": "2021-11-17T05:54:13.138Z"
   },
   {
    "duration": 27,
    "start_time": "2021-11-17T05:54:13.151Z"
   },
   {
    "duration": 16,
    "start_time": "2021-11-17T05:54:13.181Z"
   },
   {
    "duration": 22,
    "start_time": "2021-11-17T05:54:13.200Z"
   },
   {
    "duration": 56,
    "start_time": "2021-11-17T05:54:13.225Z"
   },
   {
    "duration": 21,
    "start_time": "2021-11-17T05:54:13.284Z"
   },
   {
    "duration": 11,
    "start_time": "2021-11-17T05:54:13.308Z"
   },
   {
    "duration": 936,
    "start_time": "2021-11-17T05:54:13.321Z"
   },
   {
    "duration": 19,
    "start_time": "2021-11-17T05:54:14.267Z"
   },
   {
    "duration": 19,
    "start_time": "2021-11-17T05:54:14.289Z"
   },
   {
    "duration": 1735,
    "start_time": "2021-11-17T05:54:14.310Z"
   },
   {
    "duration": 8,
    "start_time": "2021-11-17T05:54:16.048Z"
   },
   {
    "duration": 7,
    "start_time": "2021-11-17T05:54:16.068Z"
   },
   {
    "duration": 13,
    "start_time": "2021-11-17T05:54:16.077Z"
   },
   {
    "duration": 8,
    "start_time": "2021-11-17T05:54:16.099Z"
   },
   {
    "duration": 11,
    "start_time": "2021-11-17T05:54:16.109Z"
   },
   {
    "duration": 14,
    "start_time": "2021-11-17T05:54:16.122Z"
   },
   {
    "duration": 29,
    "start_time": "2021-11-17T05:54:16.138Z"
   },
   {
    "duration": 9,
    "start_time": "2021-11-17T05:54:16.169Z"
   },
   {
    "duration": 11,
    "start_time": "2021-11-17T05:54:16.180Z"
   },
   {
    "duration": 10,
    "start_time": "2021-11-17T05:54:16.193Z"
   },
   {
    "duration": 9,
    "start_time": "2021-11-17T05:54:16.205Z"
   },
   {
    "duration": 9,
    "start_time": "2021-11-17T05:54:16.217Z"
   },
   {
    "duration": 41,
    "start_time": "2021-11-17T05:54:16.228Z"
   },
   {
    "duration": 12,
    "start_time": "2021-11-17T05:54:16.271Z"
   },
   {
    "duration": 7,
    "start_time": "2021-11-17T05:54:16.285Z"
   },
   {
    "duration": 13,
    "start_time": "2021-11-17T05:54:16.294Z"
   },
   {
    "duration": 8,
    "start_time": "2021-11-17T05:54:16.310Z"
   },
   {
    "duration": 264,
    "start_time": "2021-11-17T05:54:16.321Z"
   },
   {
    "duration": 12,
    "start_time": "2021-11-17T05:54:16.588Z"
   },
   {
    "duration": 9,
    "start_time": "2021-11-17T05:54:16.603Z"
   },
   {
    "duration": 13,
    "start_time": "2021-11-17T05:54:16.615Z"
   },
   {
    "duration": 37,
    "start_time": "2021-11-17T05:54:16.631Z"
   },
   {
    "duration": 1847,
    "start_time": "2021-11-17T06:00:59.828Z"
   },
   {
    "duration": 1450,
    "start_time": "2021-11-17T06:01:01.678Z"
   },
   {
    "duration": 686,
    "start_time": "2021-11-17T06:01:03.131Z"
   },
   {
    "duration": 17,
    "start_time": "2021-11-17T06:01:03.820Z"
   },
   {
    "duration": 12,
    "start_time": "2021-11-17T06:01:03.840Z"
   },
   {
    "duration": 4,
    "start_time": "2021-11-17T06:01:03.855Z"
   },
   {
    "duration": 28,
    "start_time": "2021-11-17T06:01:03.861Z"
   },
   {
    "duration": 17,
    "start_time": "2021-11-17T06:01:03.891Z"
   },
   {
    "duration": 14,
    "start_time": "2021-11-17T06:01:03.912Z"
   },
   {
    "duration": 44,
    "start_time": "2021-11-17T06:01:03.930Z"
   },
   {
    "duration": 12,
    "start_time": "2021-11-17T06:01:03.977Z"
   },
   {
    "duration": 5,
    "start_time": "2021-11-17T06:01:03.992Z"
   },
   {
    "duration": 10,
    "start_time": "2021-11-17T06:01:03.999Z"
   },
   {
    "duration": 15,
    "start_time": "2021-11-17T06:01:04.012Z"
   },
   {
    "duration": 67,
    "start_time": "2021-11-17T06:01:04.030Z"
   },
   {
    "duration": 334,
    "start_time": "2021-11-17T06:01:04.099Z"
   },
   {
    "duration": 7,
    "start_time": "2021-11-17T06:01:04.435Z"
   },
   {
    "duration": 36,
    "start_time": "2021-11-17T06:01:04.444Z"
   },
   {
    "duration": 13,
    "start_time": "2021-11-17T06:01:04.482Z"
   },
   {
    "duration": 43,
    "start_time": "2021-11-17T06:01:04.497Z"
   },
   {
    "duration": 24,
    "start_time": "2021-11-17T06:01:04.543Z"
   },
   {
    "duration": 5,
    "start_time": "2021-11-17T06:01:04.569Z"
   },
   {
    "duration": 8,
    "start_time": "2021-11-17T06:01:04.576Z"
   },
   {
    "duration": 10,
    "start_time": "2021-11-17T06:01:04.586Z"
   },
   {
    "duration": 7,
    "start_time": "2021-11-17T06:01:04.599Z"
   },
   {
    "duration": 9,
    "start_time": "2021-11-17T06:01:04.608Z"
   },
   {
    "duration": 6,
    "start_time": "2021-11-17T06:01:04.624Z"
   },
   {
    "duration": 36,
    "start_time": "2021-11-17T06:01:04.633Z"
   },
   {
    "duration": 3220,
    "start_time": "2021-11-17T06:01:04.672Z"
   },
   {
    "duration": 18,
    "start_time": "2021-11-17T06:01:07.895Z"
   },
   {
    "duration": 378,
    "start_time": "2021-11-17T06:01:07.915Z"
   },
   {
    "duration": 268,
    "start_time": "2021-11-17T06:01:08.295Z"
   },
   {
    "duration": 17,
    "start_time": "2021-11-17T06:01:08.566Z"
   },
   {
    "duration": 11,
    "start_time": "2021-11-17T06:01:08.585Z"
   },
   {
    "duration": 17,
    "start_time": "2021-11-17T06:01:08.598Z"
   },
   {
    "duration": 50,
    "start_time": "2021-11-17T06:01:08.617Z"
   },
   {
    "duration": 5,
    "start_time": "2021-11-17T06:01:08.670Z"
   },
   {
    "duration": 445,
    "start_time": "2021-11-17T06:01:08.678Z"
   },
   {
    "duration": 507,
    "start_time": "2021-11-17T06:01:09.126Z"
   },
   {
    "duration": 9,
    "start_time": "2021-11-17T06:01:09.635Z"
   },
   {
    "duration": 25,
    "start_time": "2021-11-17T06:01:09.646Z"
   },
   {
    "duration": 511,
    "start_time": "2021-11-17T06:01:09.674Z"
   },
   {
    "duration": 11,
    "start_time": "2021-11-17T06:01:10.187Z"
   },
   {
    "duration": 18,
    "start_time": "2021-11-17T06:01:10.200Z"
   },
   {
    "duration": 266,
    "start_time": "2021-11-17T06:01:10.220Z"
   },
   {
    "duration": 4,
    "start_time": "2021-11-17T06:01:10.489Z"
   },
   {
    "duration": 11,
    "start_time": "2021-11-17T06:01:10.496Z"
   },
   {
    "duration": 6,
    "start_time": "2021-11-17T06:01:10.509Z"
   },
   {
    "duration": 8,
    "start_time": "2021-11-17T06:01:10.518Z"
   },
   {
    "duration": 39,
    "start_time": "2021-11-17T06:01:10.528Z"
   },
   {
    "duration": 10,
    "start_time": "2021-11-17T06:01:10.570Z"
   },
   {
    "duration": 18,
    "start_time": "2021-11-17T06:01:10.582Z"
   },
   {
    "duration": 4,
    "start_time": "2021-11-17T06:01:10.603Z"
   },
   {
    "duration": 36,
    "start_time": "2021-11-17T06:01:10.610Z"
   },
   {
    "duration": 30,
    "start_time": "2021-11-17T06:01:10.648Z"
   },
   {
    "duration": 21,
    "start_time": "2021-11-17T06:01:10.681Z"
   },
   {
    "duration": 19,
    "start_time": "2021-11-17T06:01:10.704Z"
   },
   {
    "duration": 47,
    "start_time": "2021-11-17T06:01:10.726Z"
   },
   {
    "duration": 7,
    "start_time": "2021-11-17T06:01:10.776Z"
   },
   {
    "duration": 301,
    "start_time": "2021-11-17T06:01:10.786Z"
   },
   {
    "duration": 82971,
    "start_time": "2021-11-17T06:01:11.089Z"
   },
   {
    "duration": 5,
    "start_time": "2021-11-17T06:02:34.062Z"
   },
   {
    "duration": 210,
    "start_time": "2021-11-17T06:02:34.070Z"
   },
   {
    "duration": 89,
    "start_time": "2021-11-17T06:02:34.282Z"
   },
   {
    "duration": 441,
    "start_time": "2021-11-17T06:02:34.375Z"
   },
   {
    "duration": 5,
    "start_time": "2021-11-17T06:02:34.820Z"
   },
   {
    "duration": 12,
    "start_time": "2021-11-17T06:02:34.827Z"
   },
   {
    "duration": 32,
    "start_time": "2021-11-17T06:02:34.842Z"
   },
   {
    "duration": 19,
    "start_time": "2021-11-17T06:02:34.877Z"
   },
   {
    "duration": 23,
    "start_time": "2021-11-17T06:02:34.898Z"
   },
   {
    "duration": 49,
    "start_time": "2021-11-17T06:02:34.923Z"
   },
   {
    "duration": 21,
    "start_time": "2021-11-17T06:02:34.974Z"
   },
   {
    "duration": 13,
    "start_time": "2021-11-17T06:02:34.998Z"
   },
   {
    "duration": 959,
    "start_time": "2021-11-17T06:02:35.014Z"
   },
   {
    "duration": 19,
    "start_time": "2021-11-17T06:02:35.975Z"
   },
   {
    "duration": 24,
    "start_time": "2021-11-17T06:02:35.997Z"
   },
   {
    "duration": 1693,
    "start_time": "2021-11-17T06:02:36.024Z"
   },
   {
    "duration": 7,
    "start_time": "2021-11-17T06:02:37.719Z"
   },
   {
    "duration": 12,
    "start_time": "2021-11-17T06:02:37.728Z"
   },
   {
    "duration": 28,
    "start_time": "2021-11-17T06:02:37.742Z"
   },
   {
    "duration": 8,
    "start_time": "2021-11-17T06:02:37.779Z"
   },
   {
    "duration": 7,
    "start_time": "2021-11-17T06:02:37.790Z"
   },
   {
    "duration": 7,
    "start_time": "2021-11-17T06:02:37.799Z"
   },
   {
    "duration": 9,
    "start_time": "2021-11-17T06:02:37.808Z"
   },
   {
    "duration": 8,
    "start_time": "2021-11-17T06:02:37.819Z"
   },
   {
    "duration": 9,
    "start_time": "2021-11-17T06:02:37.830Z"
   },
   {
    "duration": 4,
    "start_time": "2021-11-17T06:02:37.868Z"
   },
   {
    "duration": 11,
    "start_time": "2021-11-17T06:02:37.875Z"
   },
   {
    "duration": 8,
    "start_time": "2021-11-17T06:02:37.889Z"
   },
   {
    "duration": 8,
    "start_time": "2021-11-17T06:02:37.900Z"
   },
   {
    "duration": 17,
    "start_time": "2021-11-17T06:02:37.911Z"
   },
   {
    "duration": 7,
    "start_time": "2021-11-17T06:02:37.930Z"
   },
   {
    "duration": 28,
    "start_time": "2021-11-17T06:02:37.940Z"
   },
   {
    "duration": 6,
    "start_time": "2021-11-17T06:02:37.971Z"
   },
   {
    "duration": 268,
    "start_time": "2021-11-17T06:02:37.979Z"
   },
   {
    "duration": 22,
    "start_time": "2021-11-17T06:02:38.249Z"
   },
   {
    "duration": 4,
    "start_time": "2021-11-17T06:02:38.273Z"
   },
   {
    "duration": 9,
    "start_time": "2021-11-17T06:02:38.280Z"
   },
   {
    "duration": 5,
    "start_time": "2021-11-17T06:02:38.291Z"
   },
   {
    "duration": 1881,
    "start_time": "2021-11-17T19:05:27.696Z"
   },
   {
    "duration": 1522,
    "start_time": "2021-11-17T19:05:29.579Z"
   },
   {
    "duration": 760,
    "start_time": "2021-11-17T19:05:31.104Z"
   },
   {
    "duration": 20,
    "start_time": "2021-11-17T19:05:31.867Z"
   },
   {
    "duration": 11,
    "start_time": "2021-11-17T19:05:31.890Z"
   },
   {
    "duration": 4,
    "start_time": "2021-11-17T19:05:31.903Z"
   },
   {
    "duration": 51,
    "start_time": "2021-11-17T19:05:31.909Z"
   },
   {
    "duration": 16,
    "start_time": "2021-11-17T19:05:31.965Z"
   },
   {
    "duration": 10,
    "start_time": "2021-11-17T19:05:31.984Z"
   },
   {
    "duration": 41,
    "start_time": "2021-11-17T19:05:31.997Z"
   },
   {
    "duration": 13,
    "start_time": "2021-11-17T19:05:32.040Z"
   },
   {
    "duration": 5,
    "start_time": "2021-11-17T19:05:32.056Z"
   },
   {
    "duration": 6,
    "start_time": "2021-11-17T19:05:32.063Z"
   },
   {
    "duration": 67,
    "start_time": "2021-11-17T19:05:32.071Z"
   },
   {
    "duration": 37,
    "start_time": "2021-11-17T19:05:32.141Z"
   },
   {
    "duration": 340,
    "start_time": "2021-11-17T19:05:32.181Z"
   },
   {
    "duration": 9,
    "start_time": "2021-11-17T19:05:32.523Z"
   },
   {
    "duration": 27,
    "start_time": "2021-11-17T19:05:32.536Z"
   },
   {
    "duration": 13,
    "start_time": "2021-11-17T19:05:32.565Z"
   },
   {
    "duration": 78,
    "start_time": "2021-11-17T19:05:32.580Z"
   },
   {
    "duration": 7,
    "start_time": "2021-11-17T19:05:32.660Z"
   },
   {
    "duration": 9,
    "start_time": "2021-11-17T19:05:32.670Z"
   },
   {
    "duration": 5,
    "start_time": "2021-11-17T19:05:32.687Z"
   },
   {
    "duration": 45,
    "start_time": "2021-11-17T19:05:32.697Z"
   },
   {
    "duration": 7,
    "start_time": "2021-11-17T19:05:32.745Z"
   },
   {
    "duration": 5,
    "start_time": "2021-11-17T19:05:32.755Z"
   },
   {
    "duration": 9,
    "start_time": "2021-11-17T19:05:32.762Z"
   },
   {
    "duration": 6,
    "start_time": "2021-11-17T19:05:32.773Z"
   },
   {
    "duration": 3286,
    "start_time": "2021-11-17T19:05:32.781Z"
   },
   {
    "duration": 17,
    "start_time": "2021-11-17T19:05:36.070Z"
   },
   {
    "duration": 400,
    "start_time": "2021-11-17T19:05:36.090Z"
   },
   {
    "duration": 303,
    "start_time": "2021-11-17T19:05:36.493Z"
   },
   {
    "duration": 34,
    "start_time": "2021-11-17T19:05:36.799Z"
   },
   {
    "duration": 16,
    "start_time": "2021-11-17T19:05:36.840Z"
   },
   {
    "duration": 26,
    "start_time": "2021-11-17T19:05:36.859Z"
   },
   {
    "duration": 31,
    "start_time": "2021-11-17T19:05:36.887Z"
   },
   {
    "duration": 27,
    "start_time": "2021-11-17T19:05:36.920Z"
   },
   {
    "duration": 491,
    "start_time": "2021-11-17T19:05:36.950Z"
   },
   {
    "duration": 469,
    "start_time": "2021-11-17T19:05:37.443Z"
   },
   {
    "duration": 23,
    "start_time": "2021-11-17T19:05:37.915Z"
   },
   {
    "duration": 14,
    "start_time": "2021-11-17T19:05:37.943Z"
   },
   {
    "duration": 502,
    "start_time": "2021-11-17T19:05:37.959Z"
   },
   {
    "duration": 13,
    "start_time": "2021-11-17T19:05:38.465Z"
   },
   {
    "duration": 55,
    "start_time": "2021-11-17T19:05:38.481Z"
   },
   {
    "duration": 236,
    "start_time": "2021-11-17T19:05:38.541Z"
   },
   {
    "duration": 5,
    "start_time": "2021-11-17T19:05:38.779Z"
   },
   {
    "duration": 11,
    "start_time": "2021-11-17T19:05:38.787Z"
   },
   {
    "duration": 6,
    "start_time": "2021-11-17T19:05:38.800Z"
   },
   {
    "duration": 11,
    "start_time": "2021-11-17T19:05:38.829Z"
   },
   {
    "duration": 13,
    "start_time": "2021-11-17T19:05:38.842Z"
   },
   {
    "duration": 16,
    "start_time": "2021-11-17T19:05:38.857Z"
   },
   {
    "duration": 29,
    "start_time": "2021-11-17T19:05:38.877Z"
   },
   {
    "duration": 26,
    "start_time": "2021-11-17T19:05:38.909Z"
   },
   {
    "duration": 28,
    "start_time": "2021-11-17T19:05:38.939Z"
   },
   {
    "duration": 12,
    "start_time": "2021-11-17T19:05:38.970Z"
   },
   {
    "duration": 52,
    "start_time": "2021-11-17T19:05:38.985Z"
   },
   {
    "duration": 23,
    "start_time": "2021-11-17T19:05:39.041Z"
   },
   {
    "duration": 11,
    "start_time": "2021-11-17T19:05:39.067Z"
   },
   {
    "duration": 10,
    "start_time": "2021-11-17T19:05:39.081Z"
   },
   {
    "duration": 236,
    "start_time": "2021-11-17T19:05:39.093Z"
   },
   {
    "duration": 93940,
    "start_time": "2021-11-17T19:05:39.331Z"
   },
   {
    "duration": 3,
    "start_time": "2021-11-17T19:07:13.274Z"
   },
   {
    "duration": 665,
    "start_time": "2021-11-17T19:07:13.279Z"
   },
   {
    "duration": 72,
    "start_time": "2021-11-17T19:07:13.961Z"
   },
   {
    "duration": 432,
    "start_time": "2021-11-17T19:07:14.040Z"
   },
   {
    "duration": 7,
    "start_time": "2021-11-17T19:07:14.475Z"
   },
   {
    "duration": 12,
    "start_time": "2021-11-17T19:07:14.484Z"
   },
   {
    "duration": 52,
    "start_time": "2021-11-17T19:07:14.505Z"
   },
   {
    "duration": 17,
    "start_time": "2021-11-17T19:07:14.561Z"
   },
   {
    "duration": 22,
    "start_time": "2021-11-17T19:07:14.580Z"
   },
   {
    "duration": 52,
    "start_time": "2021-11-17T19:07:14.604Z"
   },
   {
    "duration": 20,
    "start_time": "2021-11-17T19:07:14.659Z"
   },
   {
    "duration": 43,
    "start_time": "2021-11-17T19:07:14.682Z"
   },
   {
    "duration": 936,
    "start_time": "2021-11-17T19:07:14.728Z"
   },
   {
    "duration": 18,
    "start_time": "2021-11-17T19:07:15.667Z"
   },
   {
    "duration": 46,
    "start_time": "2021-11-17T19:07:15.687Z"
   },
   {
    "duration": 2691,
    "start_time": "2021-11-17T19:07:15.736Z"
   },
   {
    "duration": 8,
    "start_time": "2021-11-17T19:07:18.432Z"
   },
   {
    "duration": 10,
    "start_time": "2021-11-17T19:07:18.443Z"
   },
   {
    "duration": 10,
    "start_time": "2021-11-17T19:07:18.456Z"
   },
   {
    "duration": 20,
    "start_time": "2021-11-17T19:07:18.469Z"
   },
   {
    "duration": 5,
    "start_time": "2021-11-17T19:07:18.493Z"
   },
   {
    "duration": 7,
    "start_time": "2021-11-17T19:07:18.529Z"
   },
   {
    "duration": 12,
    "start_time": "2021-11-17T19:07:18.539Z"
   },
   {
    "duration": 5,
    "start_time": "2021-11-17T19:07:18.556Z"
   },
   {
    "duration": 8,
    "start_time": "2021-11-17T19:07:18.564Z"
   },
   {
    "duration": 7,
    "start_time": "2021-11-17T19:07:18.575Z"
   },
   {
    "duration": 54,
    "start_time": "2021-11-17T19:07:18.586Z"
   },
   {
    "duration": 7,
    "start_time": "2021-11-17T19:07:18.645Z"
   },
   {
    "duration": 4,
    "start_time": "2021-11-17T19:07:18.655Z"
   },
   {
    "duration": 267,
    "start_time": "2021-11-17T19:07:18.662Z"
   },
   {
    "duration": 5,
    "start_time": "2021-11-17T19:07:18.934Z"
   },
   {
    "duration": 9,
    "start_time": "2021-11-17T19:07:18.943Z"
   },
   {
    "duration": 12,
    "start_time": "2021-11-17T19:07:18.954Z"
   },
   {
    "duration": 10,
    "start_time": "2021-11-17T19:07:18.969Z"
   },
   {
    "duration": 60,
    "start_time": "2021-11-17T19:07:18.981Z"
   },
   {
    "duration": 9,
    "start_time": "2021-11-17T19:07:19.044Z"
   },
   {
    "duration": 9,
    "start_time": "2021-11-17T19:07:19.055Z"
   },
   {
    "duration": 7,
    "start_time": "2021-11-17T19:07:19.067Z"
   },
   {
    "duration": 15,
    "start_time": "2021-11-17T19:09:15.692Z"
   },
   {
    "duration": 537,
    "start_time": "2021-11-17T19:11:39.049Z"
   },
   {
    "duration": 6,
    "start_time": "2021-11-17T19:11:44.785Z"
   },
   {
    "duration": 6,
    "start_time": "2021-11-17T19:11:49.514Z"
   },
   {
    "duration": 22,
    "start_time": "2021-11-17T19:12:35.190Z"
   },
   {
    "duration": 12,
    "start_time": "2021-11-17T19:13:09.686Z"
   },
   {
    "duration": 25,
    "start_time": "2021-11-17T19:13:45.701Z"
   },
   {
    "duration": 35,
    "start_time": "2021-11-17T19:14:50.850Z"
   },
   {
    "duration": 15,
    "start_time": "2021-11-17T19:15:19.267Z"
   },
   {
    "duration": 21,
    "start_time": "2021-11-17T19:15:29.771Z"
   },
   {
    "duration": 35,
    "start_time": "2021-11-17T19:15:47.830Z"
   },
   {
    "duration": 14,
    "start_time": "2021-11-17T19:15:58.605Z"
   }
  ],
  "kernelspec": {
   "display_name": "Python 3",
   "language": "python",
   "name": "python3"
  },
  "language_info": {
   "codemirror_mode": {
    "name": "ipython",
    "version": 3
   },
   "file_extension": ".py",
   "mimetype": "text/x-python",
   "name": "python",
   "nbconvert_exporter": "python",
   "pygments_lexer": "ipython3",
   "version": "3.8.3"
  },
  "toc": {
   "base_numbering": 1,
   "nav_menu": {},
   "number_sections": true,
   "sideBar": true,
   "skip_h1_title": true,
   "title_cell": "Table of Contents",
   "title_sidebar": "Contents",
   "toc_cell": false,
   "toc_position": {},
   "toc_section_display": true,
   "toc_window_display": false
  }
 },
 "nbformat": 4,
 "nbformat_minor": 4
}
