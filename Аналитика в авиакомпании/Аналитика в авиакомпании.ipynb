{
 "cells": [
  {
   "cell_type": "markdown",
   "metadata": {},
   "source": [
    "# Аналитика в авиакомпании."
   ]
  },
  {
   "cell_type": "markdown",
   "metadata": {},
   "source": [
    "Необходимо выбрать топ-10 городов по количеству рейсов, построить графики : модели самолетов и количество рейсов, города и количество рейсов, топ-10 городов и количество рейсов. Сделать выводы по каждому из графиков и пояснить результат."
   ]
  },
  {
   "cell_type": "markdown",
   "metadata": {},
   "source": [
    "## Изучение и предобработка данных."
   ]
  },
  {
   "cell_type": "code",
   "execution_count": 1,
   "metadata": {},
   "outputs": [],
   "source": [
    "import pandas as pd\n",
    "import numpy as np\n",
    "import matplotlib.pyplot as plt"
   ]
  },
  {
   "cell_type": "code",
   "execution_count": 2,
   "metadata": {},
   "outputs": [],
   "source": [
    "try:\n",
    "    url = 'https://drive.google.com/file/d/1fQ7InYmjrwTVaaAAz7tGaFV_8OcUlFbG/view?usp=sharing'\n",
    "    path = 'https://drive.google.com/uc?export=download&id='+url.split('/')[-2]    \n",
    "    df_models = pd.read_csv(path)\n",
    "except:\n",
    "    raise"
   ]
  },
  {
   "cell_type": "markdown",
   "metadata": {},
   "source": [
    "Импортируем основные библиотеки и прочтем датасет с информацией о количестве рейсов в разрезе моделей самолетов."
   ]
  },
  {
   "cell_type": "code",
   "execution_count": 3,
   "metadata": {},
   "outputs": [
    {
     "name": "stdout",
     "output_type": "stream",
     "text": [
      "<class 'pandas.core.frame.DataFrame'>\n",
      "RangeIndex: 8 entries, 0 to 7\n",
      "Data columns (total 2 columns):\n",
      " #   Column          Non-Null Count  Dtype \n",
      "---  ------          --------------  ----- \n",
      " 0   model           8 non-null      object\n",
      " 1   flights_amount  8 non-null      int64 \n",
      "dtypes: int64(1), object(1)\n",
      "memory usage: 256.0+ bytes\n"
     ]
    }
   ],
   "source": [
    "df_models.info()"
   ]
  },
  {
   "cell_type": "code",
   "execution_count": 4,
   "metadata": {},
   "outputs": [
    {
     "data": {
      "text/html": [
       "<div>\n",
       "<style scoped>\n",
       "    .dataframe tbody tr th:only-of-type {\n",
       "        vertical-align: middle;\n",
       "    }\n",
       "\n",
       "    .dataframe tbody tr th {\n",
       "        vertical-align: top;\n",
       "    }\n",
       "\n",
       "    .dataframe thead th {\n",
       "        text-align: right;\n",
       "    }\n",
       "</style>\n",
       "<table border=\"1\" class=\"dataframe\">\n",
       "  <thead>\n",
       "    <tr style=\"text-align: right;\">\n",
       "      <th></th>\n",
       "      <th>model</th>\n",
       "      <th>flights_amount</th>\n",
       "    </tr>\n",
       "  </thead>\n",
       "  <tbody>\n",
       "    <tr>\n",
       "      <th>0</th>\n",
       "      <td>Airbus A319-100</td>\n",
       "      <td>607</td>\n",
       "    </tr>\n",
       "    <tr>\n",
       "      <th>1</th>\n",
       "      <td>Airbus A321-200</td>\n",
       "      <td>960</td>\n",
       "    </tr>\n",
       "    <tr>\n",
       "      <th>2</th>\n",
       "      <td>Boeing 737-300</td>\n",
       "      <td>630</td>\n",
       "    </tr>\n",
       "    <tr>\n",
       "      <th>3</th>\n",
       "      <td>Boeing 767-300</td>\n",
       "      <td>600</td>\n",
       "    </tr>\n",
       "    <tr>\n",
       "      <th>4</th>\n",
       "      <td>Boeing 777-300</td>\n",
       "      <td>300</td>\n",
       "    </tr>\n",
       "    <tr>\n",
       "      <th>5</th>\n",
       "      <td>Bombardier CRJ-200</td>\n",
       "      <td>4446</td>\n",
       "    </tr>\n",
       "    <tr>\n",
       "      <th>6</th>\n",
       "      <td>Cessna 208 Caravan</td>\n",
       "      <td>4557</td>\n",
       "    </tr>\n",
       "    <tr>\n",
       "      <th>7</th>\n",
       "      <td>Sukhoi SuperJet-100</td>\n",
       "      <td>4185</td>\n",
       "    </tr>\n",
       "  </tbody>\n",
       "</table>\n",
       "</div>"
      ],
      "text/plain": [
       "                 model  flights_amount\n",
       "0      Airbus A319-100             607\n",
       "1      Airbus A321-200             960\n",
       "2       Boeing 737-300             630\n",
       "3       Boeing 767-300             600\n",
       "4       Boeing 777-300             300\n",
       "5   Bombardier CRJ-200            4446\n",
       "6   Cessna 208 Caravan            4557\n",
       "7  Sukhoi SuperJet-100            4185"
      ]
     },
     "execution_count": 4,
     "metadata": {},
     "output_type": "execute_result"
    }
   ],
   "source": [
    "df_models"
   ]
  },
  {
   "cell_type": "markdown",
   "metadata": {},
   "source": [
    "Справочник с моделями и количеством рейсов не нуждается в предобработке и измениении типов полей."
   ]
  },
  {
   "cell_type": "code",
   "execution_count": 5,
   "metadata": {},
   "outputs": [],
   "source": [
    "try:\n",
    "    url1 = 'https://drive.google.com/file/d/1qK_aiEx-admoB3uCGNZAdi0v3Fl6IAx6/view?usp=sharing'\n",
    "    path1 = 'https://drive.google.com/uc?export=download&id='+url1.split('/')[-2]\n",
    "    df_city = pd.read_csv(path1)\n",
    "except:\n",
    "    raise"
   ]
  },
  {
   "cell_type": "code",
   "execution_count": 6,
   "metadata": {},
   "outputs": [
    {
     "name": "stdout",
     "output_type": "stream",
     "text": [
      "<class 'pandas.core.frame.DataFrame'>\n",
      "RangeIndex: 101 entries, 0 to 100\n",
      "Data columns (total 2 columns):\n",
      " #   Column           Non-Null Count  Dtype  \n",
      "---  ------           --------------  -----  \n",
      " 0   city             101 non-null    object \n",
      " 1   average_flights  101 non-null    float64\n",
      "dtypes: float64(1), object(1)\n",
      "memory usage: 1.7+ KB\n"
     ]
    }
   ],
   "source": [
    "df_city.info()"
   ]
  },
  {
   "cell_type": "code",
   "execution_count": 7,
   "metadata": {},
   "outputs": [
    {
     "data": {
      "text/html": [
       "<div>\n",
       "<style scoped>\n",
       "    .dataframe tbody tr th:only-of-type {\n",
       "        vertical-align: middle;\n",
       "    }\n",
       "\n",
       "    .dataframe tbody tr th {\n",
       "        vertical-align: top;\n",
       "    }\n",
       "\n",
       "    .dataframe thead th {\n",
       "        text-align: right;\n",
       "    }\n",
       "</style>\n",
       "<table border=\"1\" class=\"dataframe\">\n",
       "  <thead>\n",
       "    <tr style=\"text-align: right;\">\n",
       "      <th></th>\n",
       "      <th>city</th>\n",
       "      <th>average_flights</th>\n",
       "    </tr>\n",
       "  </thead>\n",
       "  <tbody>\n",
       "    <tr>\n",
       "      <th>89</th>\n",
       "      <td>Уфа</td>\n",
       "      <td>6.290323</td>\n",
       "    </tr>\n",
       "    <tr>\n",
       "      <th>65</th>\n",
       "      <td>Петропавловск-Камчатский</td>\n",
       "      <td>1.000000</td>\n",
       "    </tr>\n",
       "    <tr>\n",
       "      <th>92</th>\n",
       "      <td>Ханты-Мансийск</td>\n",
       "      <td>8.419355</td>\n",
       "    </tr>\n",
       "  </tbody>\n",
       "</table>\n",
       "</div>"
      ],
      "text/plain": [
       "                        city  average_flights\n",
       "89                       Уфа         6.290323\n",
       "65  Петропавловск-Камчатский         1.000000\n",
       "92            Ханты-Мансийск         8.419355"
      ]
     },
     "execution_count": 7,
     "metadata": {},
     "output_type": "execute_result"
    }
   ],
   "source": [
    "df_city.sample(3)"
   ]
  },
  {
   "cell_type": "markdown",
   "metadata": {},
   "source": [
    "Датасет со средним количеством рейсов по городам не нуждается в изменении типов полей. Проверим его на пропуски и значения NaN."
   ]
  },
  {
   "cell_type": "code",
   "execution_count": 8,
   "metadata": {},
   "outputs": [
    {
     "name": "stdout",
     "output_type": "stream",
     "text": [
      "city - 0.0%\n",
      "average_flights - 0.0%\n"
     ]
    }
   ],
   "source": [
    "cols = df_city.columns[:3]\n",
    "for col in df_city.columns:\n",
    "    pct_missing = np.mean(df_city[col].isna())\n",
    "    print('{} - {}%'.format(col, pct_missing*100))"
   ]
  },
  {
   "cell_type": "markdown",
   "metadata": {},
   "source": [
    "Поля city и average_flights не содержат значений nan."
   ]
  },
  {
   "cell_type": "code",
   "execution_count": 9,
   "metadata": {},
   "outputs": [
    {
     "data": {
      "text/plain": [
       "count    101.000000\n",
       "mean       5.494189\n",
       "std       13.119790\n",
       "min        1.000000\n",
       "25%        2.000000\n",
       "50%        3.000000\n",
       "75%        5.870968\n",
       "max      129.774194\n",
       "Name: average_flights, dtype: float64"
      ]
     },
     "execution_count": 9,
     "metadata": {},
     "output_type": "execute_result"
    }
   ],
   "source": [
    "df_city['average_flights'].describe()"
   ]
  },
  {
   "cell_type": "markdown",
   "metadata": {},
   "source": [
    "Исследование значений среднего количества рейсов, прибывающих в город за день в августе 2018 не выявляет аномальных значений. Минимальное количество - 1 рейс, максимальное - 129,77. Медианное значение - 3 рейса в день, что выглядит правдоподобно. Построим распределение по городам, чтобы сделать окончательный вывод об отсутствии аномалий."
   ]
  },
  {
   "cell_type": "markdown",
   "metadata": {},
   "source": [
    "## Исследовательский анализ данных"
   ]
  },
  {
   "cell_type": "code",
   "execution_count": 10,
   "metadata": {
    "scrolled": true
   },
   "outputs": [
    {
     "data": {
      "text/html": [
       "<div>\n",
       "<style scoped>\n",
       "    .dataframe tbody tr th:only-of-type {\n",
       "        vertical-align: middle;\n",
       "    }\n",
       "\n",
       "    .dataframe tbody tr th {\n",
       "        vertical-align: top;\n",
       "    }\n",
       "\n",
       "    .dataframe thead th {\n",
       "        text-align: right;\n",
       "    }\n",
       "</style>\n",
       "<table border=\"1\" class=\"dataframe\">\n",
       "  <thead>\n",
       "    <tr style=\"text-align: right;\">\n",
       "      <th></th>\n",
       "      <th>city</th>\n",
       "      <th>average_flights</th>\n",
       "    </tr>\n",
       "  </thead>\n",
       "  <tbody>\n",
       "    <tr>\n",
       "      <th>43</th>\n",
       "      <td>Москва</td>\n",
       "      <td>129.8</td>\n",
       "    </tr>\n",
       "    <tr>\n",
       "      <th>70</th>\n",
       "      <td>Санкт-Петербург</td>\n",
       "      <td>31.2</td>\n",
       "    </tr>\n",
       "    <tr>\n",
       "      <th>54</th>\n",
       "      <td>Новосибирск</td>\n",
       "      <td>17.3</td>\n",
       "    </tr>\n",
       "    <tr>\n",
       "      <th>33</th>\n",
       "      <td>Красноярск</td>\n",
       "      <td>11.6</td>\n",
       "    </tr>\n",
       "    <tr>\n",
       "      <th>20</th>\n",
       "      <td>Екатеринбург</td>\n",
       "      <td>11.3</td>\n",
       "    </tr>\n",
       "    <tr>\n",
       "      <th>67</th>\n",
       "      <td>Ростов-на-Дону</td>\n",
       "      <td>10.2</td>\n",
       "    </tr>\n",
       "    <tr>\n",
       "      <th>63</th>\n",
       "      <td>Пермь</td>\n",
       "      <td>10.1</td>\n",
       "    </tr>\n",
       "    <tr>\n",
       "      <th>10</th>\n",
       "      <td>Брянск</td>\n",
       "      <td>10.0</td>\n",
       "    </tr>\n",
       "    <tr>\n",
       "      <th>74</th>\n",
       "      <td>Сочи</td>\n",
       "      <td>9.6</td>\n",
       "    </tr>\n",
       "    <tr>\n",
       "      <th>84</th>\n",
       "      <td>Ульяновск</td>\n",
       "      <td>9.6</td>\n",
       "    </tr>\n",
       "  </tbody>\n",
       "</table>\n",
       "</div>"
      ],
      "text/plain": [
       "               city  average_flights\n",
       "43           Москва            129.8\n",
       "70  Санкт-Петербург             31.2\n",
       "54      Новосибирск             17.3\n",
       "33       Красноярск             11.6\n",
       "20     Екатеринбург             11.3\n",
       "67   Ростов-на-Дону             10.2\n",
       "63            Пермь             10.1\n",
       "10           Брянск             10.0\n",
       "74             Сочи              9.6\n",
       "84        Ульяновск              9.6"
      ]
     },
     "execution_count": 10,
     "metadata": {},
     "output_type": "execute_result"
    }
   ],
   "source": [
    "df_city_top_10 = df_city.sort_values(by = 'average_flights', ascending = False).head(10)\n",
    "df_city_top_10.round(1)"
   ]
  },
  {
   "cell_type": "code",
   "execution_count": 11,
   "metadata": {},
   "outputs": [
    {
     "data": {
      "image/png": "[encoded data removed]",
      "text/plain": [
       "<Figure size 432x288 with 1 Axes>"
      ]
     },
     "metadata": {
      "needs_background": "light"
     },
     "output_type": "display_data"
    }
   ],
   "source": [
    "plt.barh(df_city_top_10['city'],df_city_top_10['average_flights'])\n",
    "plt.xlabel(\"Среднее количество авиарейсов\")\n",
    "plt.ylabel(\"Город\")\n",
    "plt.title('Распределение среднего количества рейсов по городам ТОП-10', fontsize = 14);"
   ]
  },
  {
   "cell_type": "markdown",
   "metadata": {},
   "source": [
    "Сформируем срез с ТОП-10 городов по среднему количеству авиарейсов и запишем его в датасет df_city_top_10. Построим гистограмму с распределением.  Распределение выглядит правдоподобно, в первой тройке -столица, Санкт-Петербург и Новосибирск. Но не совсем правдоподобно выглядит попадание в топ-10 по среднему количеству рейсов аэропортов Брянска и Ульяновска. Возможно в датасете есть ошибка."
   ]
  },
  {
   "cell_type": "code",
   "execution_count": 12,
   "metadata": {},
   "outputs": [],
   "source": [
    "df_city = df_city.sort_values(by = 'average_flights', ascending = False)"
   ]
  },
  {
   "cell_type": "code",
   "execution_count": 13,
   "metadata": {
    "scrolled": false
   },
   "outputs": [
    {
     "data": {
      "image/png": "[encoded data removed]",
      "text/plain": [
       "<Figure size 720x2160 with 1 Axes>"
      ]
     },
     "metadata": {
      "needs_background": "light"
     },
     "output_type": "display_data"
    }
   ],
   "source": [
    "barh_qty_cities_total = df_city.plot(x = 'city', y ='average_flights', kind = 'barh', figsize = (10,30))\n",
    "barh_qty_cities_total.set_xlabel(\"Среднее количество авиарейсов\")\n",
    "barh_qty_cities_total.set_ylabel(\"Город\")\n",
    "barh_qty_cities_total.legend().set_visible(False)\n",
    "plt.title('Распределение среднего количества рейсов по городам', fontsize = 14);"
   ]
  },
  {
   "cell_type": "markdown",
   "metadata": {},
   "source": [
    "Построим диаграмму распределения количества рейсов по всем городам датасета в целом. По ТОП-10 аэропортов комментарий был выше. Следующим блоком в рейтинге преимущественно идут крупные города Урала (Сургут, Ханты-Мансийск, Тюмень, Челябинск). Скорее всего это связано со сложной доступностью городов региона для наземного транспорта и развитой добывающей промышленностью. Наравне с ними в рейтинге столица Татарстана - Казань. О следующем блоке сложно что-то сказать, на первый взгляд закономерностей не прослеживается, в аэропортах с околомедианными значениями представлены самые различные регионы страны и в части географии и в части степени развитости региона. Замыкают рейтинг блок небольших и отдаленных сибирских,уральских и дальневосточных городов. "
   ]
  },
  {
   "cell_type": "code",
   "execution_count": 14,
   "metadata": {},
   "outputs": [
    {
     "data": {
      "image/png": "[encoded data removed]",
      "text/plain": [
       "<Figure size 432x288 with 1 Axes>"
      ]
     },
     "metadata": {
      "needs_background": "light"
     },
     "output_type": "display_data"
    }
   ],
   "source": [
    "plt.barh(df_models['model'],df_models['flights_amount'].sort_values())\n",
    "plt.xlabel(\"Количество рейсов\")\n",
    "plt.ylabel(\"Модель самолета\")\n",
    "plt.title('Распределение количества рейсов по моделям самолетов', fontsize = 14);"
   ]
  },
  {
   "cell_type": "markdown",
   "metadata": {},
   "source": [
    "Проанализируем распределение моделей самолетов по количествам сделанных рейсов. График показывает, что безусловным лидером является отечественный Sukhoi SuperJet-100. Cessna 208 Caravan и Bombardier CRJ-200 находятся на втором и третьем местах по количеств рейсов. Но если Bombardier CRJ-200 как и Sukhoi SuperJet-100 являются полноценными пассажирскими самолетами с вместимостью салона 50 и более пассажиров, то Cessna - 9-13 местный легкий самолет, используемый на линиях малой длительности. В имеющихся датасетах мало данных для полноценного исследования, но возможно количество рейсов для Cessna 4557 -это ошибка в данных.\n",
    "Следующий блок по количеству рейсов - это семейство лайнеров Boeing. На последнем месте - семейство Airbus. Данное распределение позволяет составить частичное представление о количественном распределении моделей в авиапарках компаний-перевозчиков."
   ]
  },
  {
   "cell_type": "markdown",
   "metadata": {},
   "source": [
    "## Общий вывод"
   ]
  },
  {
   "cell_type": "markdown",
   "metadata": {},
   "source": [
    "Анализ распределения количества рейсов в зависимости от моделей самолетов показывает, что в датасете могут быть неточности. Если количество рейсов лидера аэробусов по рейсам - Sukhoi SuperJet-100 - выглядит правдоподобно, то наличие в первой тройке легкого 13-местного самолета Cessna выглядит как вброс.\n",
    "\n",
    "Лидеры-города по количеству рейсов предсказуемы: Москва, Санкт-Петербург,  Новосибирск, Красноярск, Екатеринбург, Ростов-на-Дону, Пермь, Сочи. Немного аномально выглядят попадание Брянска и Ульяновска в топ-10, но если в этих городах в августе 2018 проводились большие фестивали, увеличение количества рейсов выглядит более-менее правдоподобно."
   ]
  },
  {
   "cell_type": "markdown",
   "metadata": {},
   "source": []
  }
 ],
 "metadata": {
  "ExecuteTimeLog": [
   {
    "duration": 64,
    "start_time": "2021-07-01T12:12:29.462Z"
   },
   {
    "duration": 1017,
    "start_time": "2021-07-01T12:12:39.082Z"
   },
   {
    "duration": 269,
    "start_time": "2021-07-01T12:13:29.933Z"
   },
   {
    "duration": 177,
    "start_time": "2021-07-01T12:13:38.736Z"
   },
   {
    "duration": 936,
    "start_time": "2021-07-01T14:55:11.121Z"
   },
   {
    "duration": 257,
    "start_time": "2021-07-01T14:55:12.059Z"
   },
   {
    "duration": 17,
    "start_time": "2021-07-01T14:56:22.608Z"
   },
   {
    "duration": 7,
    "start_time": "2021-07-01T14:56:43.779Z"
   },
   {
    "duration": 10,
    "start_time": "2021-07-01T14:57:11.013Z"
   },
   {
    "duration": 6,
    "start_time": "2021-07-01T15:05:21.514Z"
   },
   {
    "duration": 7,
    "start_time": "2021-07-01T15:05:21.826Z"
   },
   {
    "duration": 16,
    "start_time": "2021-07-01T15:06:18.865Z"
   },
   {
    "duration": 6,
    "start_time": "2021-07-01T15:06:28.801Z"
   },
   {
    "duration": 6,
    "start_time": "2021-07-01T15:06:36.791Z"
   },
   {
    "duration": 16,
    "start_time": "2021-07-01T15:07:21.712Z"
   },
   {
    "duration": 7,
    "start_time": "2021-07-01T15:07:37.699Z"
   },
   {
    "duration": 8,
    "start_time": "2021-07-01T15:07:51.409Z"
   },
   {
    "duration": 9,
    "start_time": "2021-07-01T15:11:33.188Z"
   },
   {
    "duration": 8,
    "start_time": "2021-07-01T15:11:49.260Z"
   },
   {
    "duration": 8,
    "start_time": "2021-07-01T15:13:39.529Z"
   },
   {
    "duration": 7,
    "start_time": "2021-07-01T15:13:57.260Z"
   },
   {
    "duration": 8,
    "start_time": "2021-07-01T15:20:31.358Z"
   },
   {
    "duration": 8,
    "start_time": "2021-07-01T15:20:44.780Z"
   },
   {
    "duration": 8,
    "start_time": "2021-07-01T15:20:52.141Z"
   },
   {
    "duration": 9,
    "start_time": "2021-07-01T15:21:10.385Z"
   },
   {
    "duration": 8,
    "start_time": "2021-07-01T15:41:36.212Z"
   },
   {
    "duration": 159,
    "start_time": "2021-07-01T15:49:52.955Z"
   },
   {
    "duration": 160,
    "start_time": "2021-07-01T15:51:20.975Z"
   },
   {
    "duration": 3,
    "start_time": "2021-07-01T15:51:49.150Z"
   },
   {
    "duration": 1394,
    "start_time": "2021-07-01T16:06:58.185Z"
   },
   {
    "duration": 8,
    "start_time": "2021-07-01T16:09:51.421Z"
   },
   {
    "duration": 158,
    "start_time": "2021-07-01T16:09:55.194Z"
   },
   {
    "duration": 170,
    "start_time": "2021-07-01T16:10:07.838Z"
   },
   {
    "duration": 367,
    "start_time": "2021-07-02T05:01:22.991Z"
   },
   {
    "duration": 907,
    "start_time": "2021-07-02T05:01:31.057Z"
   },
   {
    "duration": 19,
    "start_time": "2021-07-02T05:01:31.967Z"
   },
   {
    "duration": 14,
    "start_time": "2021-07-02T05:01:31.989Z"
   },
   {
    "duration": 17,
    "start_time": "2021-07-02T05:01:32.006Z"
   },
   {
    "duration": 20,
    "start_time": "2021-07-02T05:01:32.025Z"
   },
   {
    "duration": 11,
    "start_time": "2021-07-02T05:01:32.048Z"
   },
   {
    "duration": 33,
    "start_time": "2021-07-02T05:01:32.061Z"
   },
   {
    "duration": 18,
    "start_time": "2021-07-02T05:01:32.097Z"
   },
   {
    "duration": 11,
    "start_time": "2021-07-02T05:01:32.118Z"
   },
   {
    "duration": 17,
    "start_time": "2021-07-02T05:01:32.131Z"
   },
   {
    "duration": 42,
    "start_time": "2021-07-02T05:01:32.150Z"
   },
   {
    "duration": 269,
    "start_time": "2021-07-02T05:01:32.194Z"
   },
   {
    "duration": 10,
    "start_time": "2021-07-02T05:01:32.466Z"
   },
   {
    "duration": 266,
    "start_time": "2021-07-02T05:01:51.308Z"
   },
   {
    "duration": 263,
    "start_time": "2021-07-02T05:06:08.841Z"
   },
   {
    "duration": 120,
    "start_time": "2021-07-02T05:47:01.337Z"
   },
   {
    "duration": 281,
    "start_time": "2021-07-02T05:47:05.534Z"
   },
   {
    "duration": 335,
    "start_time": "2021-07-02T05:48:32.446Z"
   },
   {
    "duration": 16,
    "start_time": "2021-07-02T06:00:18.165Z"
   },
   {
    "duration": 8,
    "start_time": "2021-07-02T06:00:29.187Z"
   },
   {
    "duration": 5,
    "start_time": "2021-07-02T06:09:16.004Z"
   },
   {
    "duration": 468,
    "start_time": "2021-07-02T06:47:50.436Z"
   },
   {
    "duration": 554,
    "start_time": "2021-07-02T06:49:06.627Z"
   },
   {
    "duration": 319,
    "start_time": "2021-07-02T06:49:20.169Z"
   },
   {
    "duration": 792,
    "start_time": "2021-07-02T13:31:44.053Z"
   },
   {
    "duration": 18,
    "start_time": "2021-07-02T13:31:44.848Z"
   },
   {
    "duration": 11,
    "start_time": "2021-07-02T13:31:44.869Z"
   },
   {
    "duration": 22,
    "start_time": "2021-07-02T13:31:44.883Z"
   },
   {
    "duration": 17,
    "start_time": "2021-07-02T13:31:44.908Z"
   },
   {
    "duration": 10,
    "start_time": "2021-07-02T13:31:44.927Z"
   },
   {
    "duration": 11,
    "start_time": "2021-07-02T13:31:44.939Z"
   },
   {
    "duration": 13,
    "start_time": "2021-07-02T13:31:44.954Z"
   },
   {
    "duration": 35,
    "start_time": "2021-07-02T13:31:44.970Z"
   },
   {
    "duration": 26,
    "start_time": "2021-07-02T13:31:45.007Z"
   },
   {
    "duration": 12,
    "start_time": "2021-07-02T13:31:45.036Z"
   },
   {
    "duration": 323,
    "start_time": "2021-07-02T13:31:45.051Z"
   },
   {
    "duration": 4,
    "start_time": "2021-07-02T13:31:45.377Z"
   },
   {
    "duration": 2136,
    "start_time": "2021-07-02T13:31:45.384Z"
   },
   {
    "duration": 478,
    "start_time": "2021-07-02T13:31:47.522Z"
   },
   {
    "duration": 2242,
    "start_time": "2021-07-02T13:32:10.576Z"
   },
   {
    "duration": 2526,
    "start_time": "2021-07-02T13:32:23.962Z"
   },
   {
    "duration": 2577,
    "start_time": "2021-07-02T13:33:26.928Z"
   },
   {
    "duration": 934,
    "start_time": "2021-07-02T14:02:51.011Z"
   },
   {
    "duration": 20,
    "start_time": "2021-07-02T14:02:51.948Z"
   },
   {
    "duration": 15,
    "start_time": "2021-07-02T14:02:51.972Z"
   },
   {
    "duration": 21,
    "start_time": "2021-07-02T14:02:51.990Z"
   },
   {
    "duration": 29,
    "start_time": "2021-07-02T14:02:52.014Z"
   },
   {
    "duration": 10,
    "start_time": "2021-07-02T14:02:52.045Z"
   },
   {
    "duration": 14,
    "start_time": "2021-07-02T14:02:52.057Z"
   },
   {
    "duration": 42,
    "start_time": "2021-07-02T14:02:52.076Z"
   },
   {
    "duration": 12,
    "start_time": "2021-07-02T14:02:52.122Z"
   },
   {
    "duration": 13,
    "start_time": "2021-07-02T14:02:52.136Z"
   },
   {
    "duration": 19,
    "start_time": "2021-07-02T14:02:52.152Z"
   },
   {
    "duration": 338,
    "start_time": "2021-07-02T14:02:52.173Z"
   },
   {
    "duration": 6,
    "start_time": "2021-07-02T14:02:52.514Z"
   },
   {
    "duration": 2825,
    "start_time": "2021-07-02T14:02:52.522Z"
   },
   {
    "duration": 342,
    "start_time": "2021-07-02T14:02:55.349Z"
   },
   {
    "duration": 866,
    "start_time": "2021-07-02T16:18:04.460Z"
   },
   {
    "duration": 21,
    "start_time": "2021-07-02T16:18:05.329Z"
   },
   {
    "duration": 11,
    "start_time": "2021-07-02T16:18:05.354Z"
   },
   {
    "duration": 16,
    "start_time": "2021-07-02T16:18:05.368Z"
   },
   {
    "duration": 40,
    "start_time": "2021-07-02T16:18:05.387Z"
   },
   {
    "duration": 13,
    "start_time": "2021-07-02T16:18:05.429Z"
   },
   {
    "duration": 13,
    "start_time": "2021-07-02T16:18:05.445Z"
   },
   {
    "duration": 14,
    "start_time": "2021-07-02T16:18:05.461Z"
   },
   {
    "duration": 51,
    "start_time": "2021-07-02T16:18:05.479Z"
   },
   {
    "duration": 17,
    "start_time": "2021-07-02T16:18:05.534Z"
   },
   {
    "duration": 18,
    "start_time": "2021-07-02T16:18:05.554Z"
   },
   {
    "duration": 534,
    "start_time": "2021-07-02T16:18:05.575Z"
   },
   {
    "duration": 15,
    "start_time": "2021-07-02T16:18:06.112Z"
   },
   {
    "duration": 2621,
    "start_time": "2021-07-02T16:18:06.131Z"
   },
   {
    "duration": 352,
    "start_time": "2021-07-02T16:18:08.754Z"
   },
   {
    "duration": 96,
    "start_time": "2021-07-02T16:19:27.842Z"
   },
   {
    "duration": 315,
    "start_time": "2021-07-03T16:19:03.096Z"
   },
   {
    "duration": 838,
    "start_time": "2021-07-03T16:19:10.668Z"
   },
   {
    "duration": 18,
    "start_time": "2021-07-03T16:19:11.509Z"
   },
   {
    "duration": 12,
    "start_time": "2021-07-03T16:19:11.530Z"
   },
   {
    "duration": 19,
    "start_time": "2021-07-03T16:19:11.545Z"
   },
   {
    "duration": 20,
    "start_time": "2021-07-03T16:19:11.567Z"
   },
   {
    "duration": 8,
    "start_time": "2021-07-03T16:19:11.590Z"
   },
   {
    "duration": 13,
    "start_time": "2021-07-03T16:19:11.600Z"
   },
   {
    "duration": 40,
    "start_time": "2021-07-03T16:19:11.616Z"
   },
   {
    "duration": 11,
    "start_time": "2021-07-03T16:19:11.658Z"
   },
   {
    "duration": 12,
    "start_time": "2021-07-03T16:19:11.671Z"
   },
   {
    "duration": 19,
    "start_time": "2021-07-03T16:19:11.685Z"
   },
   {
    "duration": 332,
    "start_time": "2021-07-03T16:19:11.706Z"
   },
   {
    "duration": 4,
    "start_time": "2021-07-03T16:19:12.041Z"
   },
   {
    "duration": 2735,
    "start_time": "2021-07-03T16:19:12.055Z"
   },
   {
    "duration": 330,
    "start_time": "2021-07-03T16:19:14.793Z"
   },
   {
    "duration": 3024,
    "start_time": "2021-07-03T16:21:47.012Z"
   },
   {
    "duration": 2626,
    "start_time": "2021-07-03T16:23:01.510Z"
   },
   {
    "duration": 2618,
    "start_time": "2021-07-03T16:23:35.597Z"
   },
   {
    "duration": 2618,
    "start_time": "2021-07-03T16:24:32.612Z"
   },
   {
    "duration": 516,
    "start_time": "2021-07-03T16:25:51.298Z"
   },
   {
    "duration": 309,
    "start_time": "2021-07-03T16:28:59.249Z"
   },
   {
    "duration": 294,
    "start_time": "2021-07-03T16:31:21.963Z"
   },
   {
    "duration": 851,
    "start_time": "2021-07-03T16:31:35.540Z"
   },
   {
    "duration": 18,
    "start_time": "2021-07-03T16:31:36.394Z"
   },
   {
    "duration": 26,
    "start_time": "2021-07-03T16:31:36.415Z"
   },
   {
    "duration": 31,
    "start_time": "2021-07-03T16:31:36.444Z"
   },
   {
    "duration": 32,
    "start_time": "2021-07-03T16:31:36.478Z"
   },
   {
    "duration": 13,
    "start_time": "2021-07-03T16:31:36.513Z"
   },
   {
    "duration": 23,
    "start_time": "2021-07-03T16:31:36.529Z"
   },
   {
    "duration": 37,
    "start_time": "2021-07-03T16:31:36.555Z"
   },
   {
    "duration": 26,
    "start_time": "2021-07-03T16:31:36.595Z"
   },
   {
    "duration": 21,
    "start_time": "2021-07-03T16:31:36.624Z"
   },
   {
    "duration": 30,
    "start_time": "2021-07-03T16:31:36.647Z"
   },
   {
    "duration": 308,
    "start_time": "2021-07-03T16:31:36.680Z"
   },
   {
    "duration": 5,
    "start_time": "2021-07-03T16:31:36.990Z"
   },
   {
    "duration": 2896,
    "start_time": "2021-07-03T16:31:36.997Z"
   },
   {
    "duration": 359,
    "start_time": "2021-07-03T16:31:39.896Z"
   },
   {
    "duration": 860,
    "start_time": "2021-07-03T16:44:11.549Z"
   },
   {
    "duration": 19,
    "start_time": "2021-07-03T16:44:12.411Z"
   },
   {
    "duration": 13,
    "start_time": "2021-07-03T16:44:12.433Z"
   },
   {
    "duration": 17,
    "start_time": "2021-07-03T16:44:12.453Z"
   },
   {
    "duration": 19,
    "start_time": "2021-07-03T16:44:12.473Z"
   },
   {
    "duration": 8,
    "start_time": "2021-07-03T16:44:12.494Z"
   },
   {
    "duration": 15,
    "start_time": "2021-07-03T16:44:12.504Z"
   },
   {
    "duration": 47,
    "start_time": "2021-07-03T16:44:12.522Z"
   },
   {
    "duration": 13,
    "start_time": "2021-07-03T16:44:12.573Z"
   },
   {
    "duration": 12,
    "start_time": "2021-07-03T16:44:12.589Z"
   },
   {
    "duration": 51,
    "start_time": "2021-07-03T16:44:12.603Z"
   },
   {
    "duration": 329,
    "start_time": "2021-07-03T16:44:12.657Z"
   },
   {
    "duration": 5,
    "start_time": "2021-07-03T16:44:12.988Z"
   },
   {
    "duration": 3106,
    "start_time": "2021-07-03T16:44:12.995Z"
   },
   {
    "duration": 368,
    "start_time": "2021-07-03T16:44:16.104Z"
   },
   {
    "duration": 979,
    "start_time": "2021-07-03T16:45:06.566Z"
   },
   {
    "duration": 19,
    "start_time": "2021-07-03T16:45:07.548Z"
   },
   {
    "duration": 28,
    "start_time": "2021-07-03T16:45:07.571Z"
   },
   {
    "duration": 52,
    "start_time": "2021-07-03T16:45:07.603Z"
   },
   {
    "duration": 50,
    "start_time": "2021-07-03T16:45:07.659Z"
   },
   {
    "duration": 70,
    "start_time": "2021-07-03T16:45:07.711Z"
   },
   {
    "duration": 44,
    "start_time": "2021-07-03T16:45:07.784Z"
   },
   {
    "duration": 18,
    "start_time": "2021-07-03T16:45:07.833Z"
   },
   {
    "duration": 22,
    "start_time": "2021-07-03T16:45:07.854Z"
   },
   {
    "duration": 25,
    "start_time": "2021-07-03T16:45:07.879Z"
   },
   {
    "duration": 31,
    "start_time": "2021-07-03T16:45:07.907Z"
   },
   {
    "duration": 323,
    "start_time": "2021-07-03T16:45:07.941Z"
   },
   {
    "duration": 5,
    "start_time": "2021-07-03T16:45:08.267Z"
   },
   {
    "duration": 3021,
    "start_time": "2021-07-03T16:45:08.275Z"
   },
   {
    "duration": 362,
    "start_time": "2021-07-03T16:45:11.299Z"
   }
  ],
  "kernelspec": {
   "display_name": "Python 3",
   "language": "python",
   "name": "python3"
  },
  "language_info": {
   "codemirror_mode": {
    "name": "ipython",
    "version": 3
   },
   "file_extension": ".py",
   "mimetype": "text/x-python",
   "name": "python",
   "nbconvert_exporter": "python",
   "pygments_lexer": "ipython3",
   "version": "3.8.3"
  },
  "toc": {
   "base_numbering": 1,
   "nav_menu": {},
   "number_sections": true,
   "sideBar": true,
   "skip_h1_title": true,
   "title_cell": "Table of Contents",
   "title_sidebar": "Contents",
   "toc_cell": false,
   "toc_position": {},
   "toc_section_display": true,
   "toc_window_display": false
  }
 },
 "nbformat": 4,
 "nbformat_minor": 2
}
