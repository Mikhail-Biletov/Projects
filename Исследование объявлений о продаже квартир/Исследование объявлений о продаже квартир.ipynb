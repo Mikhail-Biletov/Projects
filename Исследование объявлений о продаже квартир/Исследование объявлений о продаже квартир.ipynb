{
 "cells": [
  {
   "cell_type": "markdown",
   "metadata": {
    "toc": true
   },
   "source": [
    "<h1>Содержание<span class=\"tocSkip\"></span></h1>\n",
    "<div class=\"toc\"><ul class=\"toc-item\"><li><span><a href=\"#Изучение-данных-из-файла\" data-toc-modified-id=\"Изучение-данных-из-файла-1\"><span class=\"toc-item-num\">1&nbsp;&nbsp;</span>Изучение данных из файла</a></span><ul class=\"toc-item\"><li><span><a href=\"#Вывод\" data-toc-modified-id=\"Вывод-1.1\"><span class=\"toc-item-num\">1.1&nbsp;&nbsp;</span>Вывод</a></span></li></ul></li><li><span><a href=\"#Предобработка-данных\" data-toc-modified-id=\"Предобработка-данных-2\"><span class=\"toc-item-num\">2&nbsp;&nbsp;</span>Предобработка данных</a></span></li><li><span><a href=\"#Расчёты-и-добавление-результатов-в-таблицу\" data-toc-modified-id=\"Расчёты-и-добавление-результатов-в-таблицу-3\"><span class=\"toc-item-num\">3&nbsp;&nbsp;</span>Расчёты и добавление результатов в таблицу</a></span></li><li><span><a href=\"#Исследовательский-анализ-данных\" data-toc-modified-id=\"Исследовательский-анализ-данных-4\"><span class=\"toc-item-num\">4&nbsp;&nbsp;</span>Исследовательский анализ данных</a></span></li><li><span><a href=\"#Общий-вывод\" data-toc-modified-id=\"Общий-вывод-5\"><span class=\"toc-item-num\">5&nbsp;&nbsp;</span>Общий вывод</a></span></li><li><span><a href=\"#Чек-лист-готовности-проекта\" data-toc-modified-id=\"Чек-лист-готовности-проекта-6\"><span class=\"toc-item-num\">6&nbsp;&nbsp;</span>Чек-лист готовности проекта</a></span></li></ul></div>"
   ]
  },
  {
   "cell_type": "markdown",
   "metadata": {},
   "source": [
    "# Исследование объявлений о продаже квартир\n",
    "\n",
    "В вашем распоряжении данные сервиса Яндекс.Недвижимость — архив объявлений о продаже квартир в Санкт-Петербурге и соседних населённых пунктах за несколько лет. Нужно научиться определять рыночную стоимость объектов недвижимости. Ваша задача — установить параметры. Это позволит построить автоматизированную систему: она отследит аномалии и мошенническую деятельность. \n",
    "\n",
    "По каждой квартире на продажу доступны два вида данных. Первые вписаны пользователем, вторые получены автоматически на основе картографических данных. Например, расстояние до центра, аэропорта, ближайшего парка и водоёма. "
   ]
  },
  {
   "cell_type": "markdown",
   "metadata": {},
   "source": [
    "## Изучение данных из файла"
   ]
  },
  {
   "cell_type": "code",
   "execution_count": 1,
   "metadata": {
    "scrolled": false
   },
   "outputs": [
    {
     "name": "stdout",
     "output_type": "stream",
     "text": [
      "<class 'pandas.core.frame.DataFrame'>\n",
      "RangeIndex: 23699 entries, 0 to 23698\n",
      "Data columns (total 22 columns):\n",
      "total_images            23699 non-null int64\n",
      "last_price              23699 non-null float64\n",
      "total_area              23699 non-null float64\n",
      "first_day_exposition    23699 non-null object\n",
      "rooms                   23699 non-null int64\n",
      "ceiling_height          14504 non-null float64\n",
      "floors_total            23613 non-null float64\n",
      "living_area             21796 non-null float64\n",
      "floor                   23699 non-null int64\n",
      "is_apartment            2775 non-null object\n",
      "studio                  23699 non-null bool\n",
      "open_plan               23699 non-null bool\n",
      "kitchen_area            21421 non-null float64\n",
      "balcony                 12180 non-null float64\n",
      "locality_name           23650 non-null object\n",
      "airports_nearest        18157 non-null float64\n",
      "cityCenters_nearest     18180 non-null float64\n",
      "parks_around3000        18181 non-null float64\n",
      "parks_nearest           8079 non-null float64\n",
      "ponds_around3000        18181 non-null float64\n",
      "ponds_nearest           9110 non-null float64\n",
      "days_exposition         20518 non-null float64\n",
      "dtypes: bool(2), float64(14), int64(3), object(3)\n",
      "memory usage: 3.7+ MB\n"
     ]
    }
   ],
   "source": [
    "import pandas as pd\n",
    "try:\n",
    "    url = 'https://drive.google.com/file/d/1n3yXII3Svbb4nzrxLHJaRrDQRcGyPuY1/view?usp=sharing'\n",
    "    path = 'https://drive.google.com/uc?export=download&id='+url.split('/')[-2]\n",
    "    data = pd.read_csv(path, sep='\\t')\n",
    "except:\n",
    "    raise\n",
    "data.info()"
   ]
  },
  {
   "cell_type": "code",
   "execution_count": 2,
   "metadata": {},
   "outputs": [
    {
     "data": {
      "text/plain": [
       "0     1059\n",
       "1      872\n",
       "2      640\n",
       "3      769\n",
       "4      986\n",
       "5     1301\n",
       "6     1482\n",
       "7     1521\n",
       "8     1585\n",
       "9     1725\n",
       "10    1798\n",
       "11    1362\n",
       "12    1225\n",
       "13    1015\n",
       "14     986\n",
       "15     948\n",
       "16     761\n",
       "17     650\n",
       "18     642\n",
       "19     603\n",
       "20    1694\n",
       "21      12\n",
       "22       8\n",
       "23      16\n",
       "24       8\n",
       "25       1\n",
       "26       5\n",
       "27       2\n",
       "28       4\n",
       "29       3\n",
       "30       2\n",
       "31       2\n",
       "32       4\n",
       "35       2\n",
       "37       1\n",
       "39       1\n",
       "42       1\n",
       "50       3\n",
       "Name: total_images, dtype: int64"
      ]
     },
     "execution_count": 2,
     "metadata": {},
     "output_type": "execute_result"
    }
   ],
   "source": [
    "data['total_images'].value_counts().sort_index()"
   ]
  },
  {
   "cell_type": "code",
   "execution_count": 3,
   "metadata": {},
   "outputs": [
    {
     "data": {
      "text/plain": [
       "0"
      ]
     },
     "execution_count": 3,
     "metadata": {},
     "output_type": "execute_result"
    }
   ],
   "source": [
    "len(data[data['total_images'].isna()])"
   ]
  },
  {
   "cell_type": "markdown",
   "metadata": {},
   "source": [
    "Поле с количеством фотографий имеет целочисленный тип (нет необходимости корректировть).\n",
    "Значения в поле варьируются от 0 до 50. Возможно имеет смысл объединить в одну категорию количество фото >20"
   ]
  },
  {
   "cell_type": "code",
   "execution_count": 4,
   "metadata": {},
   "outputs": [
    {
     "data": {
      "text/plain": [
       "0"
      ]
     },
     "execution_count": 4,
     "metadata": {},
     "output_type": "execute_result"
    }
   ],
   "source": [
    "data['last_price'].isnull().sum()"
   ]
  },
  {
   "cell_type": "code",
   "execution_count": 5,
   "metadata": {},
   "outputs": [
    {
     "data": {
      "text/plain": [
       "0"
      ]
     },
     "execution_count": 5,
     "metadata": {},
     "output_type": "execute_result"
    }
   ],
   "source": [
    "len(data[data['last_price'].isna()])"
   ]
  },
  {
   "cell_type": "markdown",
   "metadata": {},
   "source": [
    "Поле last_price не содержит нулевых значений. "
   ]
  },
  {
   "cell_type": "code",
   "execution_count": 6,
   "metadata": {},
   "outputs": [
    {
     "data": {
      "text/plain": [
       "count    2.369900e+04\n",
       "mean     6.541549e+06\n",
       "std      1.088701e+07\n",
       "min      1.219000e+04\n",
       "25%      3.400000e+06\n",
       "50%      4.650000e+06\n",
       "75%      6.800000e+06\n",
       "max      7.630000e+08\n",
       "Name: last_price, dtype: float64"
      ]
     },
     "execution_count": 6,
     "metadata": {},
     "output_type": "execute_result"
    }
   ],
   "source": [
    "data['last_price'].describe()"
   ]
  },
  {
   "cell_type": "markdown",
   "metadata": {},
   "source": [
    "Описание данных показывает отсутствие явных аномалий. Стандартное отклонение 1,08 говорит о том, что значения в выборке\n",
    "отличаются от среднего арифметического всего на 8%, это хороший показатель, данные однородны. Среднее и медииана отличаются на 1,9 единицы. Минимальное значение - 1,2 (условно) млн., максимальное - 7,6 млн. Тип данных - float64, изменение типа данных\n",
    "не требуется."
   ]
  },
  {
   "cell_type": "code",
   "execution_count": 7,
   "metadata": {},
   "outputs": [
    {
     "data": {
      "text/plain": [
       "0"
      ]
     },
     "execution_count": 7,
     "metadata": {},
     "output_type": "execute_result"
    }
   ],
   "source": [
    "data['total_area'].isnull().sum()"
   ]
  },
  {
   "cell_type": "code",
   "execution_count": 8,
   "metadata": {},
   "outputs": [
    {
     "data": {
      "text/plain": [
       "0"
      ]
     },
     "execution_count": 8,
     "metadata": {},
     "output_type": "execute_result"
    }
   ],
   "source": [
    "len(data[data['total_area'].isna()])"
   ]
  },
  {
   "cell_type": "markdown",
   "metadata": {},
   "source": [
    "Поле total_area не содержит пропусков и не требует изменения типа."
   ]
  },
  {
   "cell_type": "code",
   "execution_count": 9,
   "metadata": {},
   "outputs": [
    {
     "data": {
      "text/plain": [
       "0"
      ]
     },
     "execution_count": 9,
     "metadata": {},
     "output_type": "execute_result"
    }
   ],
   "source": [
    "data['first_day_exposition'].isnull().sum()"
   ]
  },
  {
   "cell_type": "code",
   "execution_count": 10,
   "metadata": {},
   "outputs": [
    {
     "data": {
      "text/plain": [
       "0"
      ]
     },
     "execution_count": 10,
     "metadata": {},
     "output_type": "execute_result"
    }
   ],
   "source": [
    "len(data[data['first_day_exposition'].isna()])"
   ]
  },
  {
   "cell_type": "markdown",
   "metadata": {},
   "source": [
    "Поле first_day_exposition не содержит нулевых значений. Тип данных - object. Требуется преобразование к типу даты."
   ]
  },
  {
   "cell_type": "code",
   "execution_count": 11,
   "metadata": {},
   "outputs": [
    {
     "data": {
      "text/plain": [
       "0      197\n",
       "1     8047\n",
       "2     7940\n",
       "3     5814\n",
       "4     1180\n",
       "5      326\n",
       "6      105\n",
       "7       59\n",
       "8       12\n",
       "9        8\n",
       "10       3\n",
       "11       2\n",
       "12       1\n",
       "14       2\n",
       "15       1\n",
       "16       1\n",
       "19       1\n",
       "Name: rooms, dtype: int64"
      ]
     },
     "execution_count": 11,
     "metadata": {},
     "output_type": "execute_result"
    }
   ],
   "source": [
    "data['rooms'].value_counts().sort_index()"
   ]
  },
  {
   "cell_type": "code",
   "execution_count": 12,
   "metadata": {},
   "outputs": [
    {
     "data": {
      "text/plain": [
       "0"
      ]
     },
     "execution_count": 12,
     "metadata": {},
     "output_type": "execute_result"
    }
   ],
   "source": [
    "len(data[data['rooms'].isna()])"
   ]
  },
  {
   "cell_type": "markdown",
   "metadata": {},
   "source": [
    "Метод value_counts() показывает наличие 197 объектов, число комнат в которых - 0 и несколько объектов, имеющих от 12 до 19 комнат. Необходимо более подробно изучить эти объекты, чтобы принять решение, содержат ли эти записи ошибки данных и необходимо\n",
    "ли оставлять их в датасете."
   ]
  },
  {
   "cell_type": "code",
   "execution_count": 13,
   "metadata": {},
   "outputs": [
    {
     "data": {
      "text/html": [
       "<div>\n",
       "<style scoped>\n",
       "    .dataframe tbody tr th:only-of-type {\n",
       "        vertical-align: middle;\n",
       "    }\n",
       "\n",
       "    .dataframe tbody tr th {\n",
       "        vertical-align: top;\n",
       "    }\n",
       "\n",
       "    .dataframe thead th {\n",
       "        text-align: right;\n",
       "    }\n",
       "</style>\n",
       "<table border=\"1\" class=\"dataframe\">\n",
       "  <thead>\n",
       "    <tr style=\"text-align: right;\">\n",
       "      <th></th>\n",
       "      <th>total_images</th>\n",
       "      <th>last_price</th>\n",
       "      <th>total_area</th>\n",
       "      <th>first_day_exposition</th>\n",
       "      <th>rooms</th>\n",
       "      <th>ceiling_height</th>\n",
       "      <th>floors_total</th>\n",
       "      <th>living_area</th>\n",
       "      <th>floor</th>\n",
       "      <th>is_apartment</th>\n",
       "      <th>...</th>\n",
       "      <th>kitchen_area</th>\n",
       "      <th>balcony</th>\n",
       "      <th>locality_name</th>\n",
       "      <th>airports_nearest</th>\n",
       "      <th>cityCenters_nearest</th>\n",
       "      <th>parks_around3000</th>\n",
       "      <th>parks_nearest</th>\n",
       "      <th>ponds_around3000</th>\n",
       "      <th>ponds_nearest</th>\n",
       "      <th>days_exposition</th>\n",
       "    </tr>\n",
       "  </thead>\n",
       "  <tbody>\n",
       "    <tr>\n",
       "      <td>144</td>\n",
       "      <td>1</td>\n",
       "      <td>2450000.0</td>\n",
       "      <td>27.00</td>\n",
       "      <td>2017-03-30T00:00:00</td>\n",
       "      <td>0</td>\n",
       "      <td>NaN</td>\n",
       "      <td>24.0</td>\n",
       "      <td>15.50</td>\n",
       "      <td>2</td>\n",
       "      <td>NaN</td>\n",
       "      <td>...</td>\n",
       "      <td>NaN</td>\n",
       "      <td>2.0</td>\n",
       "      <td>посёлок Мурино</td>\n",
       "      <td>NaN</td>\n",
       "      <td>NaN</td>\n",
       "      <td>NaN</td>\n",
       "      <td>NaN</td>\n",
       "      <td>NaN</td>\n",
       "      <td>NaN</td>\n",
       "      <td>181.0</td>\n",
       "    </tr>\n",
       "    <tr>\n",
       "      <td>349</td>\n",
       "      <td>4</td>\n",
       "      <td>2320000.0</td>\n",
       "      <td>25.00</td>\n",
       "      <td>2017-09-27T00:00:00</td>\n",
       "      <td>0</td>\n",
       "      <td>NaN</td>\n",
       "      <td>14.0</td>\n",
       "      <td>17.00</td>\n",
       "      <td>1</td>\n",
       "      <td>NaN</td>\n",
       "      <td>...</td>\n",
       "      <td>NaN</td>\n",
       "      <td>0.0</td>\n",
       "      <td>деревня Кудрово</td>\n",
       "      <td>NaN</td>\n",
       "      <td>NaN</td>\n",
       "      <td>NaN</td>\n",
       "      <td>NaN</td>\n",
       "      <td>NaN</td>\n",
       "      <td>NaN</td>\n",
       "      <td>45.0</td>\n",
       "    </tr>\n",
       "    <tr>\n",
       "      <td>440</td>\n",
       "      <td>8</td>\n",
       "      <td>2480000.0</td>\n",
       "      <td>27.11</td>\n",
       "      <td>2018-03-12T00:00:00</td>\n",
       "      <td>0</td>\n",
       "      <td>NaN</td>\n",
       "      <td>17.0</td>\n",
       "      <td>24.75</td>\n",
       "      <td>4</td>\n",
       "      <td>NaN</td>\n",
       "      <td>...</td>\n",
       "      <td>NaN</td>\n",
       "      <td>2.0</td>\n",
       "      <td>Санкт-Петербург</td>\n",
       "      <td>38171.0</td>\n",
       "      <td>15015.0</td>\n",
       "      <td>0.0</td>\n",
       "      <td>NaN</td>\n",
       "      <td>2.0</td>\n",
       "      <td>982.0</td>\n",
       "      <td>64.0</td>\n",
       "    </tr>\n",
       "    <tr>\n",
       "      <td>508</td>\n",
       "      <td>0</td>\n",
       "      <td>3375000.0</td>\n",
       "      <td>34.40</td>\n",
       "      <td>2017-03-28T00:00:00</td>\n",
       "      <td>0</td>\n",
       "      <td>NaN</td>\n",
       "      <td>26.0</td>\n",
       "      <td>24.30</td>\n",
       "      <td>19</td>\n",
       "      <td>NaN</td>\n",
       "      <td>...</td>\n",
       "      <td>NaN</td>\n",
       "      <td>1.0</td>\n",
       "      <td>посёлок Парголово</td>\n",
       "      <td>53115.0</td>\n",
       "      <td>19292.0</td>\n",
       "      <td>0.0</td>\n",
       "      <td>NaN</td>\n",
       "      <td>1.0</td>\n",
       "      <td>593.0</td>\n",
       "      <td>430.0</td>\n",
       "    </tr>\n",
       "    <tr>\n",
       "      <td>608</td>\n",
       "      <td>2</td>\n",
       "      <td>1850000.0</td>\n",
       "      <td>25.00</td>\n",
       "      <td>2019-02-20T00:00:00</td>\n",
       "      <td>0</td>\n",
       "      <td>NaN</td>\n",
       "      <td>10.0</td>\n",
       "      <td>NaN</td>\n",
       "      <td>7</td>\n",
       "      <td>NaN</td>\n",
       "      <td>...</td>\n",
       "      <td>NaN</td>\n",
       "      <td>NaN</td>\n",
       "      <td>посёлок Шушары</td>\n",
       "      <td>NaN</td>\n",
       "      <td>NaN</td>\n",
       "      <td>NaN</td>\n",
       "      <td>NaN</td>\n",
       "      <td>NaN</td>\n",
       "      <td>NaN</td>\n",
       "      <td>29.0</td>\n",
       "    </tr>\n",
       "  </tbody>\n",
       "</table>\n",
       "<p>5 rows × 22 columns</p>\n",
       "</div>"
      ],
      "text/plain": [
       "     total_images  last_price  total_area first_day_exposition  rooms  \\\n",
       "144             1   2450000.0       27.00  2017-03-30T00:00:00      0   \n",
       "349             4   2320000.0       25.00  2017-09-27T00:00:00      0   \n",
       "440             8   2480000.0       27.11  2018-03-12T00:00:00      0   \n",
       "508             0   3375000.0       34.40  2017-03-28T00:00:00      0   \n",
       "608             2   1850000.0       25.00  2019-02-20T00:00:00      0   \n",
       "\n",
       "     ceiling_height  floors_total  living_area  floor is_apartment  ...  \\\n",
       "144             NaN          24.0        15.50      2          NaN  ...   \n",
       "349             NaN          14.0        17.00      1          NaN  ...   \n",
       "440             NaN          17.0        24.75      4          NaN  ...   \n",
       "508             NaN          26.0        24.30     19          NaN  ...   \n",
       "608             NaN          10.0          NaN      7          NaN  ...   \n",
       "\n",
       "     kitchen_area  balcony      locality_name  airports_nearest  \\\n",
       "144           NaN      2.0     посёлок Мурино               NaN   \n",
       "349           NaN      0.0    деревня Кудрово               NaN   \n",
       "440           NaN      2.0    Санкт-Петербург           38171.0   \n",
       "508           NaN      1.0  посёлок Парголово           53115.0   \n",
       "608           NaN      NaN     посёлок Шушары               NaN   \n",
       "\n",
       "    cityCenters_nearest  parks_around3000  parks_nearest  ponds_around3000  \\\n",
       "144                 NaN               NaN            NaN               NaN   \n",
       "349                 NaN               NaN            NaN               NaN   \n",
       "440             15015.0               0.0            NaN               2.0   \n",
       "508             19292.0               0.0            NaN               1.0   \n",
       "608                 NaN               NaN            NaN               NaN   \n",
       "\n",
       "     ponds_nearest  days_exposition  \n",
       "144            NaN            181.0  \n",
       "349            NaN             45.0  \n",
       "440          982.0             64.0  \n",
       "508          593.0            430.0  \n",
       "608            NaN             29.0  \n",
       "\n",
       "[5 rows x 22 columns]"
      ]
     },
     "execution_count": 13,
     "metadata": {},
     "output_type": "execute_result"
    }
   ],
   "source": [
    "data.query('rooms ==0').head(5)"
   ]
  },
  {
   "cell_type": "markdown",
   "metadata": {},
   "source": [
    "Срез с условием rooms ==0 не выявляет аномалий в записях об объектах с нулевым количеством комнат. Но одна закономерность прослеживается: площадь кухни в таких объектах имеет значение NaN. Проверим эту гипотезу."
   ]
  },
  {
   "cell_type": "code",
   "execution_count": 14,
   "metadata": {},
   "outputs": [
    {
     "data": {
      "text/html": [
       "<div>\n",
       "<style scoped>\n",
       "    .dataframe tbody tr th:only-of-type {\n",
       "        vertical-align: middle;\n",
       "    }\n",
       "\n",
       "    .dataframe tbody tr th {\n",
       "        vertical-align: top;\n",
       "    }\n",
       "\n",
       "    .dataframe thead th {\n",
       "        text-align: right;\n",
       "    }\n",
       "</style>\n",
       "<table border=\"1\" class=\"dataframe\">\n",
       "  <thead>\n",
       "    <tr style=\"text-align: right;\">\n",
       "      <th></th>\n",
       "      <th>total_images</th>\n",
       "      <th>last_price</th>\n",
       "      <th>total_area</th>\n",
       "      <th>first_day_exposition</th>\n",
       "      <th>rooms</th>\n",
       "      <th>ceiling_height</th>\n",
       "      <th>floors_total</th>\n",
       "      <th>living_area</th>\n",
       "      <th>floor</th>\n",
       "      <th>is_apartment</th>\n",
       "      <th>...</th>\n",
       "      <th>kitchen_area</th>\n",
       "      <th>balcony</th>\n",
       "      <th>locality_name</th>\n",
       "      <th>airports_nearest</th>\n",
       "      <th>cityCenters_nearest</th>\n",
       "      <th>parks_around3000</th>\n",
       "      <th>parks_nearest</th>\n",
       "      <th>ponds_around3000</th>\n",
       "      <th>ponds_nearest</th>\n",
       "      <th>days_exposition</th>\n",
       "    </tr>\n",
       "  </thead>\n",
       "  <tbody>\n",
       "  </tbody>\n",
       "</table>\n",
       "<p>0 rows × 22 columns</p>\n",
       "</div>"
      ],
      "text/plain": [
       "Empty DataFrame\n",
       "Columns: [total_images, last_price, total_area, first_day_exposition, rooms, ceiling_height, floors_total, living_area, floor, is_apartment, studio, open_plan, kitchen_area, balcony, locality_name, airports_nearest, cityCenters_nearest, parks_around3000, parks_nearest, ponds_around3000, ponds_nearest, days_exposition]\n",
       "Index: []\n",
       "\n",
       "[0 rows x 22 columns]"
      ]
     },
     "execution_count": 14,
     "metadata": {},
     "output_type": "execute_result"
    }
   ],
   "source": [
    "data.query('rooms ==0 and ~kitchen_area.isna()')"
   ]
  },
  {
   "cell_type": "markdown",
   "metadata": {},
   "source": [
    "Во всех объектах с нулевой \"комнатностью\" площадь кухни не указана. Проверим, являются и эти комнаты апартаментами или объектами со свободной планировкой."
   ]
  },
  {
   "cell_type": "code",
   "execution_count": 15,
   "metadata": {},
   "outputs": [
    {
     "data": {
      "text/html": [
       "<div>\n",
       "<style scoped>\n",
       "    .dataframe tbody tr th:only-of-type {\n",
       "        vertical-align: middle;\n",
       "    }\n",
       "\n",
       "    .dataframe tbody tr th {\n",
       "        vertical-align: top;\n",
       "    }\n",
       "\n",
       "    .dataframe thead th {\n",
       "        text-align: right;\n",
       "    }\n",
       "</style>\n",
       "<table border=\"1\" class=\"dataframe\">\n",
       "  <thead>\n",
       "    <tr style=\"text-align: right;\">\n",
       "      <th></th>\n",
       "      <th>open_plan</th>\n",
       "    </tr>\n",
       "    <tr>\n",
       "      <th>is_apartment</th>\n",
       "      <th></th>\n",
       "    </tr>\n",
       "  </thead>\n",
       "  <tbody>\n",
       "    <tr>\n",
       "      <td>False</td>\n",
       "      <td>6</td>\n",
       "    </tr>\n",
       "  </tbody>\n",
       "</table>\n",
       "</div>"
      ],
      "text/plain": [
       "              open_plan\n",
       "is_apartment           \n",
       "False                 6"
      ]
     },
     "execution_count": 15,
     "metadata": {},
     "output_type": "execute_result"
    }
   ],
   "source": [
    "data.query('rooms ==0').pivot_table(index = 'is_apartment', values = 'open_plan', aggfunc = 'count')"
   ]
  },
  {
   "cell_type": "markdown",
   "metadata": {},
   "source": [
    "Вывод: это не апартаменты и объектов со свободной планировкой среди 197 этих объектов всего 6. Скорее всего речь идет о продаже отдельных комнат."
   ]
  },
  {
   "cell_type": "code",
   "execution_count": 16,
   "metadata": {},
   "outputs": [
    {
     "data": {
      "text/plain": [
       "count    14504.000000\n",
       "mean         2.771499\n",
       "std          1.261056\n",
       "min          1.000000\n",
       "25%          2.520000\n",
       "50%          2.650000\n",
       "75%          2.800000\n",
       "max        100.000000\n",
       "Name: ceiling_height, dtype: float64"
      ]
     },
     "execution_count": 16,
     "metadata": {},
     "output_type": "execute_result"
    }
   ],
   "source": [
    "data['ceiling_height'].describe()"
   ]
  },
  {
   "cell_type": "markdown",
   "metadata": {},
   "source": [
    "Описательная статистика для поля с высотой потолков показывает разброс от 1 метра до 100 метров. Посмотрим на распределение более детально."
   ]
  },
  {
   "cell_type": "code",
   "execution_count": 17,
   "metadata": {},
   "outputs": [
    {
     "data": {
      "text/plain": [
       "<matplotlib.axes._subplots.AxesSubplot at 0x7f9248a35650>"
      ]
     },
     "execution_count": 17,
     "metadata": {},
     "output_type": "execute_result"
    },
    {
     "data": {
      "image/png": "[encoded data removed]",
      "text/plain": [
       "<Figure size 432x288 with 1 Axes>"
      ]
     },
     "metadata": {
      "needs_background": "light"
     },
     "output_type": "display_data"
    }
   ],
   "source": [
    "import matplotlib.pyplot as plt\n",
    "plt.ylim(2, 5)\n",
    "data.boxplot(column = 'ceiling_height')"
   ]
  },
  {
   "cell_type": "markdown",
   "metadata": {},
   "source": [
    "Для читабельности ограничим значения оси y (высота потолков) 2 и 5 метрами. Минимальная высота потолков жилого помещения по стандарту - 2,5 метра. На диаграмме видно, что выше 4,5 метров частота повторения значений снижается, выше - уже вбросы. 2 квартиль включает в себя объекты с высотой потолков от 2,5 до 2,75 метров, что достаточно правдоподобно.  Для анализа предлагается взять диапазон высоты потолков от 2,5 до 4,5 метров, а для остальных посчитать медианы в разрезе \"общая площадь - количество этажей в доме - название населенного пункта\". "
   ]
  },
  {
   "cell_type": "code",
   "execution_count": 18,
   "metadata": {},
   "outputs": [
    {
     "data": {
      "text/plain": [
       "9195"
      ]
     },
     "execution_count": 18,
     "metadata": {},
     "output_type": "execute_result"
    }
   ],
   "source": [
    "len(data[data['ceiling_height'].isna()])"
   ]
  },
  {
   "cell_type": "markdown",
   "metadata": {},
   "source": [
    "Исходя из распределения объектов по этажам есть смысл выделить объединить в категорию объекты от 25 этажа и выше.\n",
    "Также поле содержит 9195 записей с содержимым NaN. Т.к. данный параметр обязателен к использованию в анализе, можно заменить его медианным значением по совокупному параметру (\"площадь\"+ \"этажность\", количество проектов домов ограничено и вероятность того, что высоты потолков в доме определенной этажности и квартире определенной площади будут идентичны), но т.к. доля пропущенных значений - почти 40% от общего числа записей, цена возможной ошибки будет очень велика."
   ]
  },
  {
   "cell_type": "code",
   "execution_count": 19,
   "metadata": {},
   "outputs": [
    {
     "data": {
      "text/plain": [
       "1.0       25\n",
       "2.0      383\n",
       "3.0      668\n",
       "4.0     1200\n",
       "5.0     5788\n",
       "6.0      914\n",
       "7.0      592\n",
       "8.0      390\n",
       "9.0     3761\n",
       "10.0    1174\n",
       "11.0     203\n",
       "12.0    1362\n",
       "13.0     229\n",
       "14.0     553\n",
       "15.0     365\n",
       "16.0    1376\n",
       "17.0     833\n",
       "18.0     505\n",
       "19.0     339\n",
       "20.0     271\n",
       "21.0     158\n",
       "22.0     286\n",
       "23.0     352\n",
       "24.0     469\n",
       "25.0    1075\n",
       "26.0     124\n",
       "27.0     164\n",
       "28.0      21\n",
       "29.0       1\n",
       "33.0       1\n",
       "34.0       1\n",
       "35.0      24\n",
       "36.0       3\n",
       "37.0       1\n",
       "52.0       1\n",
       "60.0       1\n",
       "Name: floors_total, dtype: int64"
      ]
     },
     "execution_count": 19,
     "metadata": {},
     "output_type": "execute_result"
    }
   ],
   "source": [
    "data['floors_total'].value_counts().sort_index()"
   ]
  },
  {
   "cell_type": "code",
   "execution_count": 20,
   "metadata": {},
   "outputs": [
    {
     "data": {
      "text/plain": [
       "86"
      ]
     },
     "execution_count": 20,
     "metadata": {},
     "output_type": "execute_result"
    }
   ],
   "source": [
    "len(data.query('floors_total.isna()',engine = 'python'))"
   ]
  },
  {
   "cell_type": "code",
   "execution_count": 21,
   "metadata": {},
   "outputs": [
    {
     "data": {
      "text/html": [
       "<div>\n",
       "<style scoped>\n",
       "    .dataframe tbody tr th:only-of-type {\n",
       "        vertical-align: middle;\n",
       "    }\n",
       "\n",
       "    .dataframe tbody tr th {\n",
       "        vertical-align: top;\n",
       "    }\n",
       "\n",
       "    .dataframe thead th {\n",
       "        text-align: right;\n",
       "    }\n",
       "</style>\n",
       "<table border=\"1\" class=\"dataframe\">\n",
       "  <thead>\n",
       "    <tr style=\"text-align: right;\">\n",
       "      <th></th>\n",
       "      <th>floor</th>\n",
       "      <th>last_price</th>\n",
       "    </tr>\n",
       "  </thead>\n",
       "  <tbody>\n",
       "    <tr>\n",
       "      <td>0</td>\n",
       "      <td>1</td>\n",
       "      <td>3</td>\n",
       "    </tr>\n",
       "    <tr>\n",
       "      <td>1</td>\n",
       "      <td>2</td>\n",
       "      <td>2</td>\n",
       "    </tr>\n",
       "    <tr>\n",
       "      <td>2</td>\n",
       "      <td>3</td>\n",
       "      <td>4</td>\n",
       "    </tr>\n",
       "    <tr>\n",
       "      <td>3</td>\n",
       "      <td>4</td>\n",
       "      <td>10</td>\n",
       "    </tr>\n",
       "    <tr>\n",
       "      <td>4</td>\n",
       "      <td>5</td>\n",
       "      <td>4</td>\n",
       "    </tr>\n",
       "    <tr>\n",
       "      <td>5</td>\n",
       "      <td>6</td>\n",
       "      <td>9</td>\n",
       "    </tr>\n",
       "    <tr>\n",
       "      <td>6</td>\n",
       "      <td>7</td>\n",
       "      <td>4</td>\n",
       "    </tr>\n",
       "    <tr>\n",
       "      <td>7</td>\n",
       "      <td>8</td>\n",
       "      <td>8</td>\n",
       "    </tr>\n",
       "    <tr>\n",
       "      <td>8</td>\n",
       "      <td>9</td>\n",
       "      <td>5</td>\n",
       "    </tr>\n",
       "    <tr>\n",
       "      <td>9</td>\n",
       "      <td>10</td>\n",
       "      <td>3</td>\n",
       "    </tr>\n",
       "    <tr>\n",
       "      <td>10</td>\n",
       "      <td>11</td>\n",
       "      <td>3</td>\n",
       "    </tr>\n",
       "    <tr>\n",
       "      <td>11</td>\n",
       "      <td>12</td>\n",
       "      <td>6</td>\n",
       "    </tr>\n",
       "    <tr>\n",
       "      <td>12</td>\n",
       "      <td>13</td>\n",
       "      <td>3</td>\n",
       "    </tr>\n",
       "    <tr>\n",
       "      <td>13</td>\n",
       "      <td>14</td>\n",
       "      <td>2</td>\n",
       "    </tr>\n",
       "    <tr>\n",
       "      <td>14</td>\n",
       "      <td>15</td>\n",
       "      <td>3</td>\n",
       "    </tr>\n",
       "    <tr>\n",
       "      <td>15</td>\n",
       "      <td>17</td>\n",
       "      <td>1</td>\n",
       "    </tr>\n",
       "    <tr>\n",
       "      <td>16</td>\n",
       "      <td>18</td>\n",
       "      <td>3</td>\n",
       "    </tr>\n",
       "    <tr>\n",
       "      <td>17</td>\n",
       "      <td>19</td>\n",
       "      <td>3</td>\n",
       "    </tr>\n",
       "    <tr>\n",
       "      <td>18</td>\n",
       "      <td>20</td>\n",
       "      <td>2</td>\n",
       "    </tr>\n",
       "    <tr>\n",
       "      <td>19</td>\n",
       "      <td>21</td>\n",
       "      <td>4</td>\n",
       "    </tr>\n",
       "    <tr>\n",
       "      <td>20</td>\n",
       "      <td>22</td>\n",
       "      <td>1</td>\n",
       "    </tr>\n",
       "    <tr>\n",
       "      <td>21</td>\n",
       "      <td>23</td>\n",
       "      <td>1</td>\n",
       "    </tr>\n",
       "    <tr>\n",
       "      <td>22</td>\n",
       "      <td>24</td>\n",
       "      <td>2</td>\n",
       "    </tr>\n",
       "  </tbody>\n",
       "</table>\n",
       "</div>"
      ],
      "text/plain": [
       "    floor  last_price\n",
       "0       1           3\n",
       "1       2           2\n",
       "2       3           4\n",
       "3       4          10\n",
       "4       5           4\n",
       "5       6           9\n",
       "6       7           4\n",
       "7       8           8\n",
       "8       9           5\n",
       "9      10           3\n",
       "10     11           3\n",
       "11     12           6\n",
       "12     13           3\n",
       "13     14           2\n",
       "14     15           3\n",
       "15     17           1\n",
       "16     18           3\n",
       "17     19           3\n",
       "18     20           2\n",
       "19     21           4\n",
       "20     22           1\n",
       "21     23           1\n",
       "22     24           2"
      ]
     },
     "execution_count": 21,
     "metadata": {},
     "output_type": "execute_result"
    }
   ],
   "source": [
    "(data.query('floors_total.isna()',engine = 'python')\n",
    " .pivot_table(index= 'floor', values = 'last_price', aggfunc = 'count')\n",
    " .reset_index())"
   ]
  },
  {
   "cell_type": "markdown",
   "metadata": {},
   "source": [
    "В поле floors_total - 86 пропущенных значений. Немного, но это поле необходимо для расчета медианных значений. Анализ показывает отсутствие зависимости этажа объекта от общей этажности здания (можно было бы предположить, что пропуски - это одноэтажные объекты частного сектора, но гипотеза не подтверждается, в топе пропусков - объекты на 4, 6 и 9 этажах). Заменим NaN на наиболее часто встречающиеся этажности домов по условиям: для объектов до 5 этажей - на 5-этажные, от 6 до 9 - 9-этажные, от 10 до 16 - 16-этажные, и остальные - на 25-этажные дома.\n",
    "Также поле floors_total необходимо привести к целочисленному типу."
   ]
  },
  {
   "cell_type": "code",
   "execution_count": 22,
   "metadata": {},
   "outputs": [
    {
     "data": {
      "text/plain": [
       "1903"
      ]
     },
     "execution_count": 22,
     "metadata": {},
     "output_type": "execute_result"
    }
   ],
   "source": [
    "data['living_area'].isnull().sum()"
   ]
  },
  {
   "cell_type": "code",
   "execution_count": 23,
   "metadata": {},
   "outputs": [
    {
     "data": {
      "text/plain": [
       "1903"
      ]
     },
     "execution_count": 23,
     "metadata": {},
     "output_type": "execute_result"
    }
   ],
   "source": [
    "data['living_area'].isna().sum()"
   ]
  },
  {
   "cell_type": "markdown",
   "metadata": {},
   "source": [
    "В поле living_area - 1903 незаполненных значения. Т.к. это поле будет использовано в расчете метрики отношения к общей площади и пропуски составляют 8% от всего датасета (является значимой величиной), можно попробовать восстановить пропущенные значения по медианным значениям совокупности критериев имеющихся данных (количество комнат, общее количество этажей в доме). Или исключить эти данные из расчёта."
   ]
  },
  {
   "cell_type": "code",
   "execution_count": 24,
   "metadata": {},
   "outputs": [
    {
     "data": {
      "text/plain": [
       "count    21796.000000\n",
       "mean        34.457852\n",
       "std         22.030445\n",
       "min          2.000000\n",
       "25%         18.600000\n",
       "50%         30.000000\n",
       "75%         42.300000\n",
       "max        409.700000\n",
       "Name: living_area, dtype: float64"
      ]
     },
     "execution_count": 24,
     "metadata": {},
     "output_type": "execute_result"
    }
   ],
   "source": [
    "data['living_area'].describe()"
   ]
  },
  {
   "cell_type": "code",
   "execution_count": 25,
   "metadata": {},
   "outputs": [
    {
     "data": {
      "text/plain": [
       "<matplotlib.axes._subplots.AxesSubplot at 0x7f91da4f1b90>"
      ]
     },
     "execution_count": 25,
     "metadata": {},
     "output_type": "execute_result"
    },
    {
     "data": {
      "image/png": "[encoded data removed]",
      "text/plain": [
       "<Figure size 432x288 with 1 Axes>"
      ]
     },
     "metadata": {
      "needs_background": "light"
     },
     "output_type": "display_data"
    }
   ],
   "source": [
    "plt.ylim(0, 150)\n",
    "data.boxplot(column = 'living_area')"
   ]
  },
  {
   "cell_type": "code",
   "execution_count": 26,
   "metadata": {},
   "outputs": [
    {
     "data": {
      "text/plain": [
       "<matplotlib.axes._subplots.AxesSubplot at 0x7f91e36cc510>"
      ]
     },
     "execution_count": 26,
     "metadata": {},
     "output_type": "execute_result"
    },
    {
     "data": {
      "image/png": "[encoded data removed]",
      "text/plain": [
       "<Figure size 432x288 with 1 Axes>"
      ]
     },
     "metadata": {
      "needs_background": "light"
     },
     "output_type": "display_data"
    }
   ],
   "source": [
    "data['living_area'].hist(bins = 100, range=(0, 200))"
   ]
  },
  {
   "cell_type": "code",
   "execution_count": 27,
   "metadata": {
    "scrolled": true
   },
   "outputs": [
    {
     "data": {
      "text/html": [
       "<div>\n",
       "<style scoped>\n",
       "    .dataframe tbody tr th:only-of-type {\n",
       "        vertical-align: middle;\n",
       "    }\n",
       "\n",
       "    .dataframe tbody tr th {\n",
       "        vertical-align: top;\n",
       "    }\n",
       "\n",
       "    .dataframe thead th {\n",
       "        text-align: right;\n",
       "    }\n",
       "</style>\n",
       "<table border=\"1\" class=\"dataframe\">\n",
       "  <thead>\n",
       "    <tr style=\"text-align: right;\">\n",
       "      <th></th>\n",
       "      <th>total_images</th>\n",
       "      <th>last_price</th>\n",
       "      <th>total_area</th>\n",
       "      <th>first_day_exposition</th>\n",
       "      <th>rooms</th>\n",
       "      <th>ceiling_height</th>\n",
       "      <th>floors_total</th>\n",
       "      <th>living_area</th>\n",
       "      <th>floor</th>\n",
       "      <th>is_apartment</th>\n",
       "      <th>...</th>\n",
       "      <th>kitchen_area</th>\n",
       "      <th>balcony</th>\n",
       "      <th>locality_name</th>\n",
       "      <th>airports_nearest</th>\n",
       "      <th>cityCenters_nearest</th>\n",
       "      <th>parks_around3000</th>\n",
       "      <th>parks_nearest</th>\n",
       "      <th>ponds_around3000</th>\n",
       "      <th>ponds_nearest</th>\n",
       "      <th>days_exposition</th>\n",
       "    </tr>\n",
       "  </thead>\n",
       "  <tbody>\n",
       "    <tr>\n",
       "      <td>22494</td>\n",
       "      <td>7</td>\n",
       "      <td>91075000.0</td>\n",
       "      <td>491.0</td>\n",
       "      <td>2017-05-27T00:00:00</td>\n",
       "      <td>5</td>\n",
       "      <td>4.20</td>\n",
       "      <td>9.0</td>\n",
       "      <td>274.0</td>\n",
       "      <td>9</td>\n",
       "      <td>NaN</td>\n",
       "      <td>...</td>\n",
       "      <td>45.0</td>\n",
       "      <td>0.0</td>\n",
       "      <td>Санкт-Петербург</td>\n",
       "      <td>25525.0</td>\n",
       "      <td>5845.0</td>\n",
       "      <td>2.0</td>\n",
       "      <td>116.0</td>\n",
       "      <td>0.0</td>\n",
       "      <td>NaN</td>\n",
       "      <td>115.0</td>\n",
       "    </tr>\n",
       "    <tr>\n",
       "      <td>20273</td>\n",
       "      <td>12</td>\n",
       "      <td>20000000.0</td>\n",
       "      <td>460.8</td>\n",
       "      <td>2019-03-20T00:00:00</td>\n",
       "      <td>6</td>\n",
       "      <td>3.10</td>\n",
       "      <td>3.0</td>\n",
       "      <td>279.6</td>\n",
       "      <td>1</td>\n",
       "      <td>NaN</td>\n",
       "      <td>...</td>\n",
       "      <td>55.5</td>\n",
       "      <td>NaN</td>\n",
       "      <td>Санкт-Петербург</td>\n",
       "      <td>43756.0</td>\n",
       "      <td>15459.0</td>\n",
       "      <td>1.0</td>\n",
       "      <td>852.0</td>\n",
       "      <td>3.0</td>\n",
       "      <td>122.0</td>\n",
       "      <td>21.0</td>\n",
       "    </tr>\n",
       "    <tr>\n",
       "      <td>14088</td>\n",
       "      <td>8</td>\n",
       "      <td>51000000.0</td>\n",
       "      <td>402.0</td>\n",
       "      <td>2017-02-07T00:00:00</td>\n",
       "      <td>6</td>\n",
       "      <td>3.15</td>\n",
       "      <td>8.0</td>\n",
       "      <td>300.0</td>\n",
       "      <td>6</td>\n",
       "      <td>NaN</td>\n",
       "      <td>...</td>\n",
       "      <td>56.0</td>\n",
       "      <td>2.0</td>\n",
       "      <td>Санкт-Петербург</td>\n",
       "      <td>24484.0</td>\n",
       "      <td>5052.0</td>\n",
       "      <td>1.0</td>\n",
       "      <td>253.0</td>\n",
       "      <td>0.0</td>\n",
       "      <td>NaN</td>\n",
       "      <td>32.0</td>\n",
       "    </tr>\n",
       "    <tr>\n",
       "      <td>8018</td>\n",
       "      <td>20</td>\n",
       "      <td>84000000.0</td>\n",
       "      <td>507.0</td>\n",
       "      <td>2015-12-17T00:00:00</td>\n",
       "      <td>5</td>\n",
       "      <td>4.45</td>\n",
       "      <td>7.0</td>\n",
       "      <td>301.5</td>\n",
       "      <td>7</td>\n",
       "      <td>True</td>\n",
       "      <td>...</td>\n",
       "      <td>45.5</td>\n",
       "      <td>1.0</td>\n",
       "      <td>Санкт-Петербург</td>\n",
       "      <td>NaN</td>\n",
       "      <td>5735.0</td>\n",
       "      <td>2.0</td>\n",
       "      <td>110.0</td>\n",
       "      <td>0.0</td>\n",
       "      <td>NaN</td>\n",
       "      <td>1078.0</td>\n",
       "    </tr>\n",
       "    <tr>\n",
       "      <td>660</td>\n",
       "      <td>3</td>\n",
       "      <td>49950000.0</td>\n",
       "      <td>483.9</td>\n",
       "      <td>2017-10-04T00:00:00</td>\n",
       "      <td>7</td>\n",
       "      <td>3.20</td>\n",
       "      <td>6.0</td>\n",
       "      <td>312.5</td>\n",
       "      <td>4</td>\n",
       "      <td>NaN</td>\n",
       "      <td>...</td>\n",
       "      <td>26.4</td>\n",
       "      <td>NaN</td>\n",
       "      <td>Санкт-Петербург</td>\n",
       "      <td>23079.0</td>\n",
       "      <td>945.0</td>\n",
       "      <td>3.0</td>\n",
       "      <td>461.0</td>\n",
       "      <td>3.0</td>\n",
       "      <td>22.0</td>\n",
       "      <td>391.0</td>\n",
       "    </tr>\n",
       "    <tr>\n",
       "      <td>12859</td>\n",
       "      <td>20</td>\n",
       "      <td>140000000.0</td>\n",
       "      <td>631.2</td>\n",
       "      <td>2019-04-09T00:00:00</td>\n",
       "      <td>7</td>\n",
       "      <td>3.90</td>\n",
       "      <td>4.0</td>\n",
       "      <td>322.3</td>\n",
       "      <td>4</td>\n",
       "      <td>NaN</td>\n",
       "      <td>...</td>\n",
       "      <td>19.5</td>\n",
       "      <td>1.0</td>\n",
       "      <td>Санкт-Петербург</td>\n",
       "      <td>25707.0</td>\n",
       "      <td>4972.0</td>\n",
       "      <td>0.0</td>\n",
       "      <td>NaN</td>\n",
       "      <td>2.0</td>\n",
       "      <td>210.0</td>\n",
       "      <td>NaN</td>\n",
       "    </tr>\n",
       "    <tr>\n",
       "      <td>4237</td>\n",
       "      <td>1</td>\n",
       "      <td>50000000.0</td>\n",
       "      <td>517.0</td>\n",
       "      <td>2017-10-14T00:00:00</td>\n",
       "      <td>7</td>\n",
       "      <td>NaN</td>\n",
       "      <td>4.0</td>\n",
       "      <td>332.0</td>\n",
       "      <td>3</td>\n",
       "      <td>NaN</td>\n",
       "      <td>...</td>\n",
       "      <td>22.0</td>\n",
       "      <td>NaN</td>\n",
       "      <td>Санкт-Петербург</td>\n",
       "      <td>22835.0</td>\n",
       "      <td>1847.0</td>\n",
       "      <td>2.0</td>\n",
       "      <td>477.0</td>\n",
       "      <td>2.0</td>\n",
       "      <td>540.0</td>\n",
       "      <td>NaN</td>\n",
       "    </tr>\n",
       "    <tr>\n",
       "      <td>12401</td>\n",
       "      <td>20</td>\n",
       "      <td>91500000.0</td>\n",
       "      <td>495.0</td>\n",
       "      <td>2017-06-19T00:00:00</td>\n",
       "      <td>7</td>\n",
       "      <td>4.65</td>\n",
       "      <td>7.0</td>\n",
       "      <td>347.5</td>\n",
       "      <td>7</td>\n",
       "      <td>NaN</td>\n",
       "      <td>...</td>\n",
       "      <td>25.0</td>\n",
       "      <td>0.0</td>\n",
       "      <td>Санкт-Петербург</td>\n",
       "      <td>NaN</td>\n",
       "      <td>5735.0</td>\n",
       "      <td>2.0</td>\n",
       "      <td>110.0</td>\n",
       "      <td>0.0</td>\n",
       "      <td>NaN</td>\n",
       "      <td>14.0</td>\n",
       "    </tr>\n",
       "    <tr>\n",
       "      <td>5358</td>\n",
       "      <td>20</td>\n",
       "      <td>65000000.0</td>\n",
       "      <td>590.0</td>\n",
       "      <td>2019-02-14T00:00:00</td>\n",
       "      <td>15</td>\n",
       "      <td>3.50</td>\n",
       "      <td>6.0</td>\n",
       "      <td>409.0</td>\n",
       "      <td>3</td>\n",
       "      <td>NaN</td>\n",
       "      <td>...</td>\n",
       "      <td>100.0</td>\n",
       "      <td>NaN</td>\n",
       "      <td>Санкт-Петербург</td>\n",
       "      <td>24447.0</td>\n",
       "      <td>4666.0</td>\n",
       "      <td>1.0</td>\n",
       "      <td>767.0</td>\n",
       "      <td>0.0</td>\n",
       "      <td>NaN</td>\n",
       "      <td>14.0</td>\n",
       "    </tr>\n",
       "    <tr>\n",
       "      <td>19540</td>\n",
       "      <td>8</td>\n",
       "      <td>420000000.0</td>\n",
       "      <td>900.0</td>\n",
       "      <td>2017-12-06T00:00:00</td>\n",
       "      <td>12</td>\n",
       "      <td>2.80</td>\n",
       "      <td>25.0</td>\n",
       "      <td>409.7</td>\n",
       "      <td>25</td>\n",
       "      <td>NaN</td>\n",
       "      <td>...</td>\n",
       "      <td>112.0</td>\n",
       "      <td>NaN</td>\n",
       "      <td>Санкт-Петербург</td>\n",
       "      <td>30706.0</td>\n",
       "      <td>7877.0</td>\n",
       "      <td>0.0</td>\n",
       "      <td>NaN</td>\n",
       "      <td>2.0</td>\n",
       "      <td>318.0</td>\n",
       "      <td>106.0</td>\n",
       "    </tr>\n",
       "  </tbody>\n",
       "</table>\n",
       "<p>10 rows × 22 columns</p>\n",
       "</div>"
      ],
      "text/plain": [
       "       total_images   last_price  total_area first_day_exposition  rooms  \\\n",
       "22494             7   91075000.0       491.0  2017-05-27T00:00:00      5   \n",
       "20273            12   20000000.0       460.8  2019-03-20T00:00:00      6   \n",
       "14088             8   51000000.0       402.0  2017-02-07T00:00:00      6   \n",
       "8018             20   84000000.0       507.0  2015-12-17T00:00:00      5   \n",
       "660               3   49950000.0       483.9  2017-10-04T00:00:00      7   \n",
       "12859            20  140000000.0       631.2  2019-04-09T00:00:00      7   \n",
       "4237              1   50000000.0       517.0  2017-10-14T00:00:00      7   \n",
       "12401            20   91500000.0       495.0  2017-06-19T00:00:00      7   \n",
       "5358             20   65000000.0       590.0  2019-02-14T00:00:00     15   \n",
       "19540             8  420000000.0       900.0  2017-12-06T00:00:00     12   \n",
       "\n",
       "       ceiling_height  floors_total  living_area  floor is_apartment  ...  \\\n",
       "22494            4.20           9.0        274.0      9          NaN  ...   \n",
       "20273            3.10           3.0        279.6      1          NaN  ...   \n",
       "14088            3.15           8.0        300.0      6          NaN  ...   \n",
       "8018             4.45           7.0        301.5      7         True  ...   \n",
       "660              3.20           6.0        312.5      4          NaN  ...   \n",
       "12859            3.90           4.0        322.3      4          NaN  ...   \n",
       "4237              NaN           4.0        332.0      3          NaN  ...   \n",
       "12401            4.65           7.0        347.5      7          NaN  ...   \n",
       "5358             3.50           6.0        409.0      3          NaN  ...   \n",
       "19540            2.80          25.0        409.7     25          NaN  ...   \n",
       "\n",
       "       kitchen_area  balcony    locality_name  airports_nearest  \\\n",
       "22494          45.0      0.0  Санкт-Петербург           25525.0   \n",
       "20273          55.5      NaN  Санкт-Петербург           43756.0   \n",
       "14088          56.0      2.0  Санкт-Петербург           24484.0   \n",
       "8018           45.5      1.0  Санкт-Петербург               NaN   \n",
       "660            26.4      NaN  Санкт-Петербург           23079.0   \n",
       "12859          19.5      1.0  Санкт-Петербург           25707.0   \n",
       "4237           22.0      NaN  Санкт-Петербург           22835.0   \n",
       "12401          25.0      0.0  Санкт-Петербург               NaN   \n",
       "5358          100.0      NaN  Санкт-Петербург           24447.0   \n",
       "19540         112.0      NaN  Санкт-Петербург           30706.0   \n",
       "\n",
       "      cityCenters_nearest  parks_around3000  parks_nearest  ponds_around3000  \\\n",
       "22494              5845.0               2.0          116.0               0.0   \n",
       "20273             15459.0               1.0          852.0               3.0   \n",
       "14088              5052.0               1.0          253.0               0.0   \n",
       "8018               5735.0               2.0          110.0               0.0   \n",
       "660                 945.0               3.0          461.0               3.0   \n",
       "12859              4972.0               0.0            NaN               2.0   \n",
       "4237               1847.0               2.0          477.0               2.0   \n",
       "12401              5735.0               2.0          110.0               0.0   \n",
       "5358               4666.0               1.0          767.0               0.0   \n",
       "19540              7877.0               0.0            NaN               2.0   \n",
       "\n",
       "       ponds_nearest  days_exposition  \n",
       "22494            NaN            115.0  \n",
       "20273          122.0             21.0  \n",
       "14088            NaN             32.0  \n",
       "8018             NaN           1078.0  \n",
       "660             22.0            391.0  \n",
       "12859          210.0              NaN  \n",
       "4237           540.0              NaN  \n",
       "12401            NaN             14.0  \n",
       "5358             NaN             14.0  \n",
       "19540          318.0            106.0  \n",
       "\n",
       "[10 rows x 22 columns]"
      ]
     },
     "execution_count": 27,
     "metadata": {},
     "output_type": "execute_result"
    }
   ],
   "source": [
    "(data.query('~living_area.isna()', engine='python')\n",
    " .sort_values('living_area').tail(10))"
   ]
  },
  {
   "cell_type": "markdown",
   "metadata": {},
   "source": [
    "Для более точного выявления вбросов и артефактов не хватает столбца с ценой за квадратный метр. Добавим его в датафрейм."
   ]
  },
  {
   "cell_type": "code",
   "execution_count": 28,
   "metadata": {},
   "outputs": [],
   "source": [
    "data['price_per_m2'] = data['last_price']/data['total_area']"
   ]
  },
  {
   "cell_type": "code",
   "execution_count": 29,
   "metadata": {},
   "outputs": [
    {
     "data": {
      "text/plain": [
       "1     2917\n",
       "2     3368\n",
       "3     3073\n",
       "4     2804\n",
       "5     2621\n",
       "6     1305\n",
       "7     1218\n",
       "8     1083\n",
       "9     1051\n",
       "10     687\n",
       "11     523\n",
       "12     526\n",
       "13     379\n",
       "14     337\n",
       "15     343\n",
       "16     315\n",
       "17     227\n",
       "18     178\n",
       "19     147\n",
       "20     110\n",
       "21     125\n",
       "22     113\n",
       "23     100\n",
       "24      63\n",
       "25      46\n",
       "26      24\n",
       "27      10\n",
       "28       1\n",
       "29       1\n",
       "30       1\n",
       "31       1\n",
       "32       1\n",
       "33       1\n",
       "Name: floor, dtype: int64"
      ]
     },
     "execution_count": 29,
     "metadata": {},
     "output_type": "execute_result"
    }
   ],
   "source": [
    "data['floor'].value_counts().sort_index()"
   ]
  },
  {
   "cell_type": "code",
   "execution_count": 30,
   "metadata": {},
   "outputs": [
    {
     "data": {
      "text/plain": [
       "0"
      ]
     },
     "execution_count": 30,
     "metadata": {},
     "output_type": "execute_result"
    }
   ],
   "source": [
    "len(data[data['floor'].isna()])"
   ]
  },
  {
   "cell_type": "markdown",
   "metadata": {},
   "source": [
    "Данное поле не требует замены типа данных и предобработки"
   ]
  },
  {
   "cell_type": "code",
   "execution_count": 31,
   "metadata": {},
   "outputs": [
    {
     "data": {
      "text/plain": [
       "False    2725\n",
       "True       50\n",
       "Name: is_apartment, dtype: int64"
      ]
     },
     "execution_count": 31,
     "metadata": {},
     "output_type": "execute_result"
    }
   ],
   "source": [
    "data['is_apartment'].value_counts()"
   ]
  },
  {
   "cell_type": "markdown",
   "metadata": {},
   "source": [
    "Данное поле не может быть полноценно использовано в исследовании, т.к. заполнено всего на 11% и нет возможности корректно воссоздать признак is_apartment."
   ]
  },
  {
   "cell_type": "code",
   "execution_count": 32,
   "metadata": {},
   "outputs": [
    {
     "data": {
      "text/plain": [
       "False    23550\n",
       "True       149\n",
       "Name: studio, dtype: int64"
      ]
     },
     "execution_count": 32,
     "metadata": {},
     "output_type": "execute_result"
    }
   ],
   "source": [
    "data['studio'].value_counts()"
   ]
  },
  {
   "cell_type": "markdown",
   "metadata": {},
   "source": [
    "Признак \"студия\" имеют всего 149 объектов из датасета. Для второго по количеству населения города страны такое количество студий в выборке кажется неправдоподобно малым. Проверим корректность заполнения этого поля, сопоставив количество комнат в объектах с параметром studuo равным True. "
   ]
  },
  {
   "cell_type": "code",
   "execution_count": 33,
   "metadata": {},
   "outputs": [
    {
     "data": {
      "text/html": [
       "<div>\n",
       "<style scoped>\n",
       "    .dataframe tbody tr th:only-of-type {\n",
       "        vertical-align: middle;\n",
       "    }\n",
       "\n",
       "    .dataframe tbody tr th {\n",
       "        vertical-align: top;\n",
       "    }\n",
       "\n",
       "    .dataframe thead th {\n",
       "        text-align: right;\n",
       "    }\n",
       "</style>\n",
       "<table border=\"1\" class=\"dataframe\">\n",
       "  <thead>\n",
       "    <tr style=\"text-align: right;\">\n",
       "      <th></th>\n",
       "      <th>studio</th>\n",
       "    </tr>\n",
       "    <tr>\n",
       "      <th>rooms</th>\n",
       "      <th></th>\n",
       "    </tr>\n",
       "  </thead>\n",
       "  <tbody>\n",
       "    <tr>\n",
       "      <td>0</td>\n",
       "      <td>138</td>\n",
       "    </tr>\n",
       "    <tr>\n",
       "      <td>1</td>\n",
       "      <td>11</td>\n",
       "    </tr>\n",
       "  </tbody>\n",
       "</table>\n",
       "</div>"
      ],
      "text/plain": [
       "       studio\n",
       "rooms        \n",
       "0         138\n",
       "1          11"
      ]
     },
     "execution_count": 33,
     "metadata": {},
     "output_type": "execute_result"
    }
   ],
   "source": [
    "data[data['studio']==1].pivot_table(index = 'rooms',values = 'studio', aggfunc = 'count')"
   ]
  },
  {
   "cell_type": "markdown",
   "metadata": {},
   "source": [
    "138 объектов с rooms = 0 и 11 с одной комнатой. Похоже на правду, но неясно, почему в одних объявлениях 0, а в других - 1 комната. Изучим срезы обоих случаев и посмотрим на параметры объектов. "
   ]
  },
  {
   "cell_type": "code",
   "execution_count": 34,
   "metadata": {},
   "outputs": [
    {
     "data": {
      "text/html": [
       "<div>\n",
       "<style scoped>\n",
       "    .dataframe tbody tr th:only-of-type {\n",
       "        vertical-align: middle;\n",
       "    }\n",
       "\n",
       "    .dataframe tbody tr th {\n",
       "        vertical-align: top;\n",
       "    }\n",
       "\n",
       "    .dataframe thead th {\n",
       "        text-align: right;\n",
       "    }\n",
       "</style>\n",
       "<table border=\"1\" class=\"dataframe\">\n",
       "  <thead>\n",
       "    <tr style=\"text-align: right;\">\n",
       "      <th></th>\n",
       "      <th>total_images</th>\n",
       "      <th>last_price</th>\n",
       "      <th>total_area</th>\n",
       "      <th>first_day_exposition</th>\n",
       "      <th>rooms</th>\n",
       "      <th>ceiling_height</th>\n",
       "      <th>floors_total</th>\n",
       "      <th>living_area</th>\n",
       "      <th>floor</th>\n",
       "      <th>is_apartment</th>\n",
       "      <th>...</th>\n",
       "      <th>balcony</th>\n",
       "      <th>locality_name</th>\n",
       "      <th>airports_nearest</th>\n",
       "      <th>cityCenters_nearest</th>\n",
       "      <th>parks_around3000</th>\n",
       "      <th>parks_nearest</th>\n",
       "      <th>ponds_around3000</th>\n",
       "      <th>ponds_nearest</th>\n",
       "      <th>days_exposition</th>\n",
       "      <th>price_per_m2</th>\n",
       "    </tr>\n",
       "  </thead>\n",
       "  <tbody>\n",
       "    <tr>\n",
       "      <td>144</td>\n",
       "      <td>1</td>\n",
       "      <td>2450000.0</td>\n",
       "      <td>27.00</td>\n",
       "      <td>2017-03-30T00:00:00</td>\n",
       "      <td>0</td>\n",
       "      <td>NaN</td>\n",
       "      <td>24.0</td>\n",
       "      <td>15.50</td>\n",
       "      <td>2</td>\n",
       "      <td>NaN</td>\n",
       "      <td>...</td>\n",
       "      <td>2.0</td>\n",
       "      <td>посёлок Мурино</td>\n",
       "      <td>NaN</td>\n",
       "      <td>NaN</td>\n",
       "      <td>NaN</td>\n",
       "      <td>NaN</td>\n",
       "      <td>NaN</td>\n",
       "      <td>NaN</td>\n",
       "      <td>181.0</td>\n",
       "      <td>90740.740741</td>\n",
       "    </tr>\n",
       "    <tr>\n",
       "      <td>440</td>\n",
       "      <td>8</td>\n",
       "      <td>2480000.0</td>\n",
       "      <td>27.11</td>\n",
       "      <td>2018-03-12T00:00:00</td>\n",
       "      <td>0</td>\n",
       "      <td>NaN</td>\n",
       "      <td>17.0</td>\n",
       "      <td>24.75</td>\n",
       "      <td>4</td>\n",
       "      <td>NaN</td>\n",
       "      <td>...</td>\n",
       "      <td>2.0</td>\n",
       "      <td>Санкт-Петербург</td>\n",
       "      <td>38171.0</td>\n",
       "      <td>15015.0</td>\n",
       "      <td>0.0</td>\n",
       "      <td>NaN</td>\n",
       "      <td>2.0</td>\n",
       "      <td>982.0</td>\n",
       "      <td>64.0</td>\n",
       "      <td>91479.158982</td>\n",
       "    </tr>\n",
       "    <tr>\n",
       "      <td>608</td>\n",
       "      <td>2</td>\n",
       "      <td>1850000.0</td>\n",
       "      <td>25.00</td>\n",
       "      <td>2019-02-20T00:00:00</td>\n",
       "      <td>0</td>\n",
       "      <td>NaN</td>\n",
       "      <td>10.0</td>\n",
       "      <td>NaN</td>\n",
       "      <td>7</td>\n",
       "      <td>NaN</td>\n",
       "      <td>...</td>\n",
       "      <td>NaN</td>\n",
       "      <td>посёлок Шушары</td>\n",
       "      <td>NaN</td>\n",
       "      <td>NaN</td>\n",
       "      <td>NaN</td>\n",
       "      <td>NaN</td>\n",
       "      <td>NaN</td>\n",
       "      <td>NaN</td>\n",
       "      <td>29.0</td>\n",
       "      <td>74000.000000</td>\n",
       "    </tr>\n",
       "    <tr>\n",
       "      <td>697</td>\n",
       "      <td>12</td>\n",
       "      <td>2500000.0</td>\n",
       "      <td>24.10</td>\n",
       "      <td>2017-12-01T00:00:00</td>\n",
       "      <td>0</td>\n",
       "      <td>2.75</td>\n",
       "      <td>25.0</td>\n",
       "      <td>17.50</td>\n",
       "      <td>21</td>\n",
       "      <td>NaN</td>\n",
       "      <td>...</td>\n",
       "      <td>NaN</td>\n",
       "      <td>деревня Кудрово</td>\n",
       "      <td>NaN</td>\n",
       "      <td>NaN</td>\n",
       "      <td>NaN</td>\n",
       "      <td>NaN</td>\n",
       "      <td>NaN</td>\n",
       "      <td>NaN</td>\n",
       "      <td>201.0</td>\n",
       "      <td>103734.439834</td>\n",
       "    </tr>\n",
       "    <tr>\n",
       "      <td>716</td>\n",
       "      <td>5</td>\n",
       "      <td>1500000.0</td>\n",
       "      <td>17.00</td>\n",
       "      <td>2017-06-07T00:00:00</td>\n",
       "      <td>0</td>\n",
       "      <td>2.70</td>\n",
       "      <td>9.0</td>\n",
       "      <td>12.00</td>\n",
       "      <td>1</td>\n",
       "      <td>NaN</td>\n",
       "      <td>...</td>\n",
       "      <td>0.0</td>\n",
       "      <td>посёлок Шушары</td>\n",
       "      <td>18654.0</td>\n",
       "      <td>29846.0</td>\n",
       "      <td>0.0</td>\n",
       "      <td>NaN</td>\n",
       "      <td>0.0</td>\n",
       "      <td>NaN</td>\n",
       "      <td>40.0</td>\n",
       "      <td>88235.294118</td>\n",
       "    </tr>\n",
       "    <tr>\n",
       "      <td>1173</td>\n",
       "      <td>12</td>\n",
       "      <td>3240000.0</td>\n",
       "      <td>29.00</td>\n",
       "      <td>2018-10-30T00:00:00</td>\n",
       "      <td>0</td>\n",
       "      <td>NaN</td>\n",
       "      <td>24.0</td>\n",
       "      <td>17.00</td>\n",
       "      <td>2</td>\n",
       "      <td>NaN</td>\n",
       "      <td>...</td>\n",
       "      <td>2.0</td>\n",
       "      <td>Санкт-Петербург</td>\n",
       "      <td>35129.0</td>\n",
       "      <td>16293.0</td>\n",
       "      <td>0.0</td>\n",
       "      <td>NaN</td>\n",
       "      <td>1.0</td>\n",
       "      <td>475.0</td>\n",
       "      <td>13.0</td>\n",
       "      <td>111724.137931</td>\n",
       "    </tr>\n",
       "    <tr>\n",
       "      <td>1174</td>\n",
       "      <td>3</td>\n",
       "      <td>3900000.0</td>\n",
       "      <td>32.00</td>\n",
       "      <td>2016-10-18T00:00:00</td>\n",
       "      <td>0</td>\n",
       "      <td>2.70</td>\n",
       "      <td>24.0</td>\n",
       "      <td>18.00</td>\n",
       "      <td>2</td>\n",
       "      <td>NaN</td>\n",
       "      <td>...</td>\n",
       "      <td>2.0</td>\n",
       "      <td>Санкт-Петербург</td>\n",
       "      <td>44754.0</td>\n",
       "      <td>8409.0</td>\n",
       "      <td>1.0</td>\n",
       "      <td>609.0</td>\n",
       "      <td>0.0</td>\n",
       "      <td>NaN</td>\n",
       "      <td>540.0</td>\n",
       "      <td>121875.000000</td>\n",
       "    </tr>\n",
       "    <tr>\n",
       "      <td>1220</td>\n",
       "      <td>5</td>\n",
       "      <td>3300000.0</td>\n",
       "      <td>27.00</td>\n",
       "      <td>2017-11-10T00:00:00</td>\n",
       "      <td>0</td>\n",
       "      <td>2.80</td>\n",
       "      <td>17.0</td>\n",
       "      <td>20.00</td>\n",
       "      <td>16</td>\n",
       "      <td>NaN</td>\n",
       "      <td>...</td>\n",
       "      <td>NaN</td>\n",
       "      <td>Санкт-Петербург</td>\n",
       "      <td>12507.0</td>\n",
       "      <td>12419.0</td>\n",
       "      <td>0.0</td>\n",
       "      <td>NaN</td>\n",
       "      <td>1.0</td>\n",
       "      <td>528.0</td>\n",
       "      <td>113.0</td>\n",
       "      <td>122222.222222</td>\n",
       "    </tr>\n",
       "    <tr>\n",
       "      <td>1260</td>\n",
       "      <td>0</td>\n",
       "      <td>2600000.0</td>\n",
       "      <td>27.00</td>\n",
       "      <td>2018-07-20T00:00:00</td>\n",
       "      <td>0</td>\n",
       "      <td>2.70</td>\n",
       "      <td>16.0</td>\n",
       "      <td>16.00</td>\n",
       "      <td>4</td>\n",
       "      <td>NaN</td>\n",
       "      <td>...</td>\n",
       "      <td>2.0</td>\n",
       "      <td>Кудрово</td>\n",
       "      <td>NaN</td>\n",
       "      <td>NaN</td>\n",
       "      <td>NaN</td>\n",
       "      <td>NaN</td>\n",
       "      <td>NaN</td>\n",
       "      <td>NaN</td>\n",
       "      <td>102.0</td>\n",
       "      <td>96296.296296</td>\n",
       "    </tr>\n",
       "    <tr>\n",
       "      <td>1277</td>\n",
       "      <td>10</td>\n",
       "      <td>3150000.0</td>\n",
       "      <td>26.00</td>\n",
       "      <td>2017-07-14T00:00:00</td>\n",
       "      <td>0</td>\n",
       "      <td>2.75</td>\n",
       "      <td>21.0</td>\n",
       "      <td>17.38</td>\n",
       "      <td>11</td>\n",
       "      <td>NaN</td>\n",
       "      <td>...</td>\n",
       "      <td>NaN</td>\n",
       "      <td>Санкт-Петербург</td>\n",
       "      <td>48847.0</td>\n",
       "      <td>16685.0</td>\n",
       "      <td>0.0</td>\n",
       "      <td>NaN</td>\n",
       "      <td>0.0</td>\n",
       "      <td>NaN</td>\n",
       "      <td>622.0</td>\n",
       "      <td>121153.846154</td>\n",
       "    </tr>\n",
       "  </tbody>\n",
       "</table>\n",
       "<p>10 rows × 23 columns</p>\n",
       "</div>"
      ],
      "text/plain": [
       "      total_images  last_price  total_area first_day_exposition  rooms  \\\n",
       "144              1   2450000.0       27.00  2017-03-30T00:00:00      0   \n",
       "440              8   2480000.0       27.11  2018-03-12T00:00:00      0   \n",
       "608              2   1850000.0       25.00  2019-02-20T00:00:00      0   \n",
       "697             12   2500000.0       24.10  2017-12-01T00:00:00      0   \n",
       "716              5   1500000.0       17.00  2017-06-07T00:00:00      0   \n",
       "1173            12   3240000.0       29.00  2018-10-30T00:00:00      0   \n",
       "1174             3   3900000.0       32.00  2016-10-18T00:00:00      0   \n",
       "1220             5   3300000.0       27.00  2017-11-10T00:00:00      0   \n",
       "1260             0   2600000.0       27.00  2018-07-20T00:00:00      0   \n",
       "1277            10   3150000.0       26.00  2017-07-14T00:00:00      0   \n",
       "\n",
       "      ceiling_height  floors_total  living_area  floor is_apartment  ...  \\\n",
       "144              NaN          24.0        15.50      2          NaN  ...   \n",
       "440              NaN          17.0        24.75      4          NaN  ...   \n",
       "608              NaN          10.0          NaN      7          NaN  ...   \n",
       "697             2.75          25.0        17.50     21          NaN  ...   \n",
       "716             2.70           9.0        12.00      1          NaN  ...   \n",
       "1173             NaN          24.0        17.00      2          NaN  ...   \n",
       "1174            2.70          24.0        18.00      2          NaN  ...   \n",
       "1220            2.80          17.0        20.00     16          NaN  ...   \n",
       "1260            2.70          16.0        16.00      4          NaN  ...   \n",
       "1277            2.75          21.0        17.38     11          NaN  ...   \n",
       "\n",
       "      balcony    locality_name  airports_nearest  cityCenters_nearest  \\\n",
       "144       2.0   посёлок Мурино               NaN                  NaN   \n",
       "440       2.0  Санкт-Петербург           38171.0              15015.0   \n",
       "608       NaN   посёлок Шушары               NaN                  NaN   \n",
       "697       NaN  деревня Кудрово               NaN                  NaN   \n",
       "716       0.0   посёлок Шушары           18654.0              29846.0   \n",
       "1173      2.0  Санкт-Петербург           35129.0              16293.0   \n",
       "1174      2.0  Санкт-Петербург           44754.0               8409.0   \n",
       "1220      NaN  Санкт-Петербург           12507.0              12419.0   \n",
       "1260      2.0          Кудрово               NaN                  NaN   \n",
       "1277      NaN  Санкт-Петербург           48847.0              16685.0   \n",
       "\n",
       "     parks_around3000  parks_nearest  ponds_around3000  ponds_nearest  \\\n",
       "144               NaN            NaN               NaN            NaN   \n",
       "440               0.0            NaN               2.0          982.0   \n",
       "608               NaN            NaN               NaN            NaN   \n",
       "697               NaN            NaN               NaN            NaN   \n",
       "716               0.0            NaN               0.0            NaN   \n",
       "1173              0.0            NaN               1.0          475.0   \n",
       "1174              1.0          609.0               0.0            NaN   \n",
       "1220              0.0            NaN               1.0          528.0   \n",
       "1260              NaN            NaN               NaN            NaN   \n",
       "1277              0.0            NaN               0.0            NaN   \n",
       "\n",
       "      days_exposition   price_per_m2  \n",
       "144             181.0   90740.740741  \n",
       "440              64.0   91479.158982  \n",
       "608              29.0   74000.000000  \n",
       "697             201.0  103734.439834  \n",
       "716              40.0   88235.294118  \n",
       "1173             13.0  111724.137931  \n",
       "1174            540.0  121875.000000  \n",
       "1220            113.0  122222.222222  \n",
       "1260            102.0   96296.296296  \n",
       "1277            622.0  121153.846154  \n",
       "\n",
       "[10 rows x 23 columns]"
      ]
     },
     "execution_count": 34,
     "metadata": {},
     "output_type": "execute_result"
    }
   ],
   "source": [
    "data.query('studio==1 and rooms ==0').head(10)"
   ]
  },
  {
   "cell_type": "markdown",
   "metadata": {},
   "source": [
    "На первый взгляд артефакты не определяются. Выведем описательную статистику среза по полю total_area и price_per_m2."
   ]
  },
  {
   "cell_type": "code",
   "execution_count": 35,
   "metadata": {},
   "outputs": [
    {
     "data": {
      "text/html": [
       "<div>\n",
       "<style scoped>\n",
       "    .dataframe tbody tr th:only-of-type {\n",
       "        vertical-align: middle;\n",
       "    }\n",
       "\n",
       "    .dataframe tbody tr th {\n",
       "        vertical-align: top;\n",
       "    }\n",
       "\n",
       "    .dataframe thead th {\n",
       "        text-align: right;\n",
       "    }\n",
       "</style>\n",
       "<table border=\"1\" class=\"dataframe\">\n",
       "  <thead>\n",
       "    <tr style=\"text-align: right;\">\n",
       "      <th></th>\n",
       "      <th>total_area</th>\n",
       "      <th>price_per_m2</th>\n",
       "    </tr>\n",
       "  </thead>\n",
       "  <tbody>\n",
       "    <tr>\n",
       "      <td>count</td>\n",
       "      <td>138.000000</td>\n",
       "      <td>138.000000</td>\n",
       "    </tr>\n",
       "    <tr>\n",
       "      <td>mean</td>\n",
       "      <td>27.814348</td>\n",
       "      <td>109964.879229</td>\n",
       "    </tr>\n",
       "    <tr>\n",
       "      <td>std</td>\n",
       "      <td>9.611879</td>\n",
       "      <td>28568.640374</td>\n",
       "    </tr>\n",
       "    <tr>\n",
       "      <td>min</td>\n",
       "      <td>15.500000</td>\n",
       "      <td>34375.000000</td>\n",
       "    </tr>\n",
       "    <tr>\n",
       "      <td>25%</td>\n",
       "      <td>24.000000</td>\n",
       "      <td>91284.423892</td>\n",
       "    </tr>\n",
       "    <tr>\n",
       "      <td>50%</td>\n",
       "      <td>26.000000</td>\n",
       "      <td>106370.229730</td>\n",
       "    </tr>\n",
       "    <tr>\n",
       "      <td>75%</td>\n",
       "      <td>28.775000</td>\n",
       "      <td>127077.242653</td>\n",
       "    </tr>\n",
       "    <tr>\n",
       "      <td>max</td>\n",
       "      <td>98.400000</td>\n",
       "      <td>231960.000000</td>\n",
       "    </tr>\n",
       "  </tbody>\n",
       "</table>\n",
       "</div>"
      ],
      "text/plain": [
       "       total_area   price_per_m2\n",
       "count  138.000000     138.000000\n",
       "mean    27.814348  109964.879229\n",
       "std      9.611879   28568.640374\n",
       "min     15.500000   34375.000000\n",
       "25%     24.000000   91284.423892\n",
       "50%     26.000000  106370.229730\n",
       "75%     28.775000  127077.242653\n",
       "max     98.400000  231960.000000"
      ]
     },
     "execution_count": 35,
     "metadata": {},
     "output_type": "execute_result"
    }
   ],
   "source": [
    "data.query('studio==1 and rooms ==0').describe()[['total_area','price_per_m2']]"
   ]
  },
  {
   "cell_type": "markdown",
   "metadata": {},
   "source": [
    "Среднее - 27,8 м2 - вполне нормальная площадь для студии, как и медиана 26 м2. Третий квартиль - 28 м2 - также приемлемая для квартиры - студии площадь. 98 м2 похоже на вброс (или премиум - студию). Отфильтруем датафрейм по условиям  и посмотрим на характеристики объектов."
   ]
  },
  {
   "cell_type": "code",
   "execution_count": 36,
   "metadata": {
    "scrolled": true
   },
   "outputs": [
    {
     "data": {
      "text/html": [
       "<div>\n",
       "<style scoped>\n",
       "    .dataframe tbody tr th:only-of-type {\n",
       "        vertical-align: middle;\n",
       "    }\n",
       "\n",
       "    .dataframe tbody tr th {\n",
       "        vertical-align: top;\n",
       "    }\n",
       "\n",
       "    .dataframe thead th {\n",
       "        text-align: right;\n",
       "    }\n",
       "</style>\n",
       "<table border=\"1\" class=\"dataframe\">\n",
       "  <thead>\n",
       "    <tr style=\"text-align: right;\">\n",
       "      <th></th>\n",
       "      <th>total_images</th>\n",
       "      <th>last_price</th>\n",
       "      <th>total_area</th>\n",
       "      <th>first_day_exposition</th>\n",
       "      <th>rooms</th>\n",
       "      <th>ceiling_height</th>\n",
       "      <th>floors_total</th>\n",
       "      <th>living_area</th>\n",
       "      <th>floor</th>\n",
       "      <th>is_apartment</th>\n",
       "      <th>...</th>\n",
       "      <th>balcony</th>\n",
       "      <th>locality_name</th>\n",
       "      <th>airports_nearest</th>\n",
       "      <th>cityCenters_nearest</th>\n",
       "      <th>parks_around3000</th>\n",
       "      <th>parks_nearest</th>\n",
       "      <th>ponds_around3000</th>\n",
       "      <th>ponds_nearest</th>\n",
       "      <th>days_exposition</th>\n",
       "      <th>price_per_m2</th>\n",
       "    </tr>\n",
       "  </thead>\n",
       "  <tbody>\n",
       "    <tr>\n",
       "      <td>3458</td>\n",
       "      <td>6</td>\n",
       "      <td>7400000.0</td>\n",
       "      <td>73.6</td>\n",
       "      <td>2017-05-18T00:00:00</td>\n",
       "      <td>0</td>\n",
       "      <td>NaN</td>\n",
       "      <td>3.0</td>\n",
       "      <td>50.0</td>\n",
       "      <td>1</td>\n",
       "      <td>NaN</td>\n",
       "      <td>...</td>\n",
       "      <td>0.0</td>\n",
       "      <td>Санкт-Петербург</td>\n",
       "      <td>26581.0</td>\n",
       "      <td>6085.0</td>\n",
       "      <td>0.0</td>\n",
       "      <td>NaN</td>\n",
       "      <td>1.0</td>\n",
       "      <td>348.0</td>\n",
       "      <td>60.0</td>\n",
       "      <td>100543.478261</td>\n",
       "    </tr>\n",
       "    <tr>\n",
       "      <td>10008</td>\n",
       "      <td>20</td>\n",
       "      <td>5050000.0</td>\n",
       "      <td>44.2</td>\n",
       "      <td>2017-09-14T00:00:00</td>\n",
       "      <td>0</td>\n",
       "      <td>2.7</td>\n",
       "      <td>9.0</td>\n",
       "      <td>32.2</td>\n",
       "      <td>1</td>\n",
       "      <td>NaN</td>\n",
       "      <td>...</td>\n",
       "      <td>NaN</td>\n",
       "      <td>Санкт-Петербург</td>\n",
       "      <td>24329.0</td>\n",
       "      <td>5955.0</td>\n",
       "      <td>0.0</td>\n",
       "      <td>NaN</td>\n",
       "      <td>2.0</td>\n",
       "      <td>520.0</td>\n",
       "      <td>69.0</td>\n",
       "      <td>114253.393665</td>\n",
       "    </tr>\n",
       "    <tr>\n",
       "      <td>13613</td>\n",
       "      <td>16</td>\n",
       "      <td>8100000.0</td>\n",
       "      <td>58.4</td>\n",
       "      <td>2019-04-26T00:00:00</td>\n",
       "      <td>0</td>\n",
       "      <td>3.3</td>\n",
       "      <td>7.0</td>\n",
       "      <td>33.0</td>\n",
       "      <td>6</td>\n",
       "      <td>NaN</td>\n",
       "      <td>...</td>\n",
       "      <td>NaN</td>\n",
       "      <td>Санкт-Петербург</td>\n",
       "      <td>14509.0</td>\n",
       "      <td>8288.0</td>\n",
       "      <td>0.0</td>\n",
       "      <td>NaN</td>\n",
       "      <td>0.0</td>\n",
       "      <td>NaN</td>\n",
       "      <td>NaN</td>\n",
       "      <td>138698.630137</td>\n",
       "    </tr>\n",
       "    <tr>\n",
       "      <td>15319</td>\n",
       "      <td>4</td>\n",
       "      <td>5970000.0</td>\n",
       "      <td>43.3</td>\n",
       "      <td>2017-07-20T00:00:00</td>\n",
       "      <td>0</td>\n",
       "      <td>2.8</td>\n",
       "      <td>9.0</td>\n",
       "      <td>28.2</td>\n",
       "      <td>2</td>\n",
       "      <td>NaN</td>\n",
       "      <td>...</td>\n",
       "      <td>2.0</td>\n",
       "      <td>Санкт-Петербург</td>\n",
       "      <td>23617.0</td>\n",
       "      <td>5223.0</td>\n",
       "      <td>0.0</td>\n",
       "      <td>NaN</td>\n",
       "      <td>1.0</td>\n",
       "      <td>874.0</td>\n",
       "      <td>30.0</td>\n",
       "      <td>137875.288684</td>\n",
       "    </tr>\n",
       "    <tr>\n",
       "      <td>16130</td>\n",
       "      <td>14</td>\n",
       "      <td>5000000.0</td>\n",
       "      <td>42.1</td>\n",
       "      <td>2018-04-13T00:00:00</td>\n",
       "      <td>0</td>\n",
       "      <td>NaN</td>\n",
       "      <td>20.0</td>\n",
       "      <td>30.0</td>\n",
       "      <td>10</td>\n",
       "      <td>NaN</td>\n",
       "      <td>...</td>\n",
       "      <td>NaN</td>\n",
       "      <td>Санкт-Петербург</td>\n",
       "      <td>50605.0</td>\n",
       "      <td>15933.0</td>\n",
       "      <td>0.0</td>\n",
       "      <td>NaN</td>\n",
       "      <td>0.0</td>\n",
       "      <td>NaN</td>\n",
       "      <td>170.0</td>\n",
       "      <td>118764.845606</td>\n",
       "    </tr>\n",
       "    <tr>\n",
       "      <td>20082</td>\n",
       "      <td>10</td>\n",
       "      <td>16300000.0</td>\n",
       "      <td>98.4</td>\n",
       "      <td>2017-11-08T00:00:00</td>\n",
       "      <td>0</td>\n",
       "      <td>3.1</td>\n",
       "      <td>5.0</td>\n",
       "      <td>60.5</td>\n",
       "      <td>2</td>\n",
       "      <td>NaN</td>\n",
       "      <td>...</td>\n",
       "      <td>NaN</td>\n",
       "      <td>Санкт-Петербург</td>\n",
       "      <td>26972.0</td>\n",
       "      <td>5819.0</td>\n",
       "      <td>0.0</td>\n",
       "      <td>NaN</td>\n",
       "      <td>1.0</td>\n",
       "      <td>674.0</td>\n",
       "      <td>537.0</td>\n",
       "      <td>165650.406504</td>\n",
       "    </tr>\n",
       "    <tr>\n",
       "      <td>21227</td>\n",
       "      <td>0</td>\n",
       "      <td>8200000.0</td>\n",
       "      <td>71.0</td>\n",
       "      <td>2017-07-21T00:00:00</td>\n",
       "      <td>0</td>\n",
       "      <td>5.8</td>\n",
       "      <td>5.0</td>\n",
       "      <td>68.0</td>\n",
       "      <td>5</td>\n",
       "      <td>NaN</td>\n",
       "      <td>...</td>\n",
       "      <td>0.0</td>\n",
       "      <td>Санкт-Петербург</td>\n",
       "      <td>20170.0</td>\n",
       "      <td>1261.0</td>\n",
       "      <td>2.0</td>\n",
       "      <td>295.0</td>\n",
       "      <td>3.0</td>\n",
       "      <td>366.0</td>\n",
       "      <td>30.0</td>\n",
       "      <td>115492.957746</td>\n",
       "    </tr>\n",
       "  </tbody>\n",
       "</table>\n",
       "<p>7 rows × 23 columns</p>\n",
       "</div>"
      ],
      "text/plain": [
       "       total_images  last_price  total_area first_day_exposition  rooms  \\\n",
       "3458              6   7400000.0        73.6  2017-05-18T00:00:00      0   \n",
       "10008            20   5050000.0        44.2  2017-09-14T00:00:00      0   \n",
       "13613            16   8100000.0        58.4  2019-04-26T00:00:00      0   \n",
       "15319             4   5970000.0        43.3  2017-07-20T00:00:00      0   \n",
       "16130            14   5000000.0        42.1  2018-04-13T00:00:00      0   \n",
       "20082            10  16300000.0        98.4  2017-11-08T00:00:00      0   \n",
       "21227             0   8200000.0        71.0  2017-07-21T00:00:00      0   \n",
       "\n",
       "       ceiling_height  floors_total  living_area  floor is_apartment  ...  \\\n",
       "3458              NaN           3.0         50.0      1          NaN  ...   \n",
       "10008             2.7           9.0         32.2      1          NaN  ...   \n",
       "13613             3.3           7.0         33.0      6          NaN  ...   \n",
       "15319             2.8           9.0         28.2      2          NaN  ...   \n",
       "16130             NaN          20.0         30.0     10          NaN  ...   \n",
       "20082             3.1           5.0         60.5      2          NaN  ...   \n",
       "21227             5.8           5.0         68.0      5          NaN  ...   \n",
       "\n",
       "       balcony    locality_name  airports_nearest  cityCenters_nearest  \\\n",
       "3458       0.0  Санкт-Петербург           26581.0               6085.0   \n",
       "10008      NaN  Санкт-Петербург           24329.0               5955.0   \n",
       "13613      NaN  Санкт-Петербург           14509.0               8288.0   \n",
       "15319      2.0  Санкт-Петербург           23617.0               5223.0   \n",
       "16130      NaN  Санкт-Петербург           50605.0              15933.0   \n",
       "20082      NaN  Санкт-Петербург           26972.0               5819.0   \n",
       "21227      0.0  Санкт-Петербург           20170.0               1261.0   \n",
       "\n",
       "      parks_around3000  parks_nearest  ponds_around3000  ponds_nearest  \\\n",
       "3458               0.0            NaN               1.0          348.0   \n",
       "10008              0.0            NaN               2.0          520.0   \n",
       "13613              0.0            NaN               0.0            NaN   \n",
       "15319              0.0            NaN               1.0          874.0   \n",
       "16130              0.0            NaN               0.0            NaN   \n",
       "20082              0.0            NaN               1.0          674.0   \n",
       "21227              2.0          295.0               3.0          366.0   \n",
       "\n",
       "       days_exposition   price_per_m2  \n",
       "3458              60.0  100543.478261  \n",
       "10008             69.0  114253.393665  \n",
       "13613              NaN  138698.630137  \n",
       "15319             30.0  137875.288684  \n",
       "16130            170.0  118764.845606  \n",
       "20082            537.0  165650.406504  \n",
       "21227             30.0  115492.957746  \n",
       "\n",
       "[7 rows x 23 columns]"
      ]
     },
     "execution_count": 36,
     "metadata": {},
     "output_type": "execute_result"
    }
   ],
   "source": [
    "data.query('studio==1 and rooms ==0 and total_area > 40')"
   ]
  },
  {
   "cell_type": "markdown",
   "metadata": {},
   "source": [
    "Цены за квадратный метр у отфильтрованных объектов варьируются от 100 до 160 тыс. Правдоподобная цена для студий премиум - сегмента, учитывая медиану в 100 тыс/м2. Вывод - данные записи с большей вероятностью не являются вбросами."
   ]
  },
  {
   "cell_type": "markdown",
   "metadata": {},
   "source": [
    "Поле kitchen_area заполнено у 21421 объектов. Выше было выявлено, что предположительно у комнат, выставленных на продажу данное поле не заполнено. Сформируем сводную с фильтром по незаполненным полям kitchen_area и изучим прочие параметры этих объектов."
   ]
  },
  {
   "cell_type": "code",
   "execution_count": 37,
   "metadata": {},
   "outputs": [
    {
     "data": {
      "text/html": [
       "<div>\n",
       "<style scoped>\n",
       "    .dataframe tbody tr th:only-of-type {\n",
       "        vertical-align: middle;\n",
       "    }\n",
       "\n",
       "    .dataframe tbody tr th {\n",
       "        vertical-align: top;\n",
       "    }\n",
       "\n",
       "    .dataframe thead th {\n",
       "        text-align: right;\n",
       "    }\n",
       "</style>\n",
       "<table border=\"1\" class=\"dataframe\">\n",
       "  <thead>\n",
       "    <tr style=\"text-align: right;\">\n",
       "      <th></th>\n",
       "      <th>total_area</th>\n",
       "    </tr>\n",
       "    <tr>\n",
       "      <th>rooms</th>\n",
       "      <th></th>\n",
       "    </tr>\n",
       "  </thead>\n",
       "  <tbody>\n",
       "    <tr>\n",
       "      <td>0</td>\n",
       "      <td>197</td>\n",
       "    </tr>\n",
       "    <tr>\n",
       "      <td>1</td>\n",
       "      <td>834</td>\n",
       "    </tr>\n",
       "    <tr>\n",
       "      <td>2</td>\n",
       "      <td>654</td>\n",
       "    </tr>\n",
       "    <tr>\n",
       "      <td>3</td>\n",
       "      <td>434</td>\n",
       "    </tr>\n",
       "    <tr>\n",
       "      <td>4</td>\n",
       "      <td>99</td>\n",
       "    </tr>\n",
       "    <tr>\n",
       "      <td>5</td>\n",
       "      <td>41</td>\n",
       "    </tr>\n",
       "    <tr>\n",
       "      <td>6</td>\n",
       "      <td>8</td>\n",
       "    </tr>\n",
       "    <tr>\n",
       "      <td>7</td>\n",
       "      <td>7</td>\n",
       "    </tr>\n",
       "    <tr>\n",
       "      <td>8</td>\n",
       "      <td>3</td>\n",
       "    </tr>\n",
       "    <tr>\n",
       "      <td>9</td>\n",
       "      <td>1</td>\n",
       "    </tr>\n",
       "  </tbody>\n",
       "</table>\n",
       "</div>"
      ],
      "text/plain": [
       "       total_area\n",
       "rooms            \n",
       "0             197\n",
       "1             834\n",
       "2             654\n",
       "3             434\n",
       "4              99\n",
       "5              41\n",
       "6               8\n",
       "7               7\n",
       "8               3\n",
       "9               1"
      ]
     },
     "execution_count": 37,
     "metadata": {},
     "output_type": "execute_result"
    }
   ],
   "source": [
    "data[data['kitchen_area'].isna()].pivot_table(index= 'rooms', values = 'total_area', aggfunc = 'count')\n",
    "#data.query('kitchen_area.isna()').head(10)"
   ]
  },
  {
   "cell_type": "code",
   "execution_count": 38,
   "metadata": {},
   "outputs": [
    {
     "data": {
      "text/plain": [
       "2278"
      ]
     },
     "execution_count": 38,
     "metadata": {},
     "output_type": "execute_result"
    }
   ],
   "source": [
    "len(data[data['kitchen_area'].isna()])"
   ]
  },
  {
   "cell_type": "markdown",
   "metadata": {},
   "source": [
    "Помимо 197 объектов с атрибутом 'rooms' = 0 поле kitchen_area не заполнено у 834 однокомнатного объекта, 654 двухкомнатных, 434 трехкомнатных и, далее по списку (итого 2278). Данное поле необходимо для метрики \"отношение площади кухни к общей площади\", поэтому предлагается заполнить его медианой по совокупности признаков (количество комнат+этажность дома)."
   ]
  },
  {
   "cell_type": "code",
   "execution_count": 39,
   "metadata": {},
   "outputs": [
    {
     "data": {
      "text/plain": [
       "1.0    4195\n",
       "0.0    3758\n",
       "2.0    3659\n",
       "5.0     304\n",
       "4.0     183\n",
       "3.0      81\n",
       "Name: balcony, dtype: int64"
      ]
     },
     "execution_count": 39,
     "metadata": {},
     "output_type": "execute_result"
    }
   ],
   "source": [
    "data['balcony'].value_counts()"
   ]
  },
  {
   "cell_type": "code",
   "execution_count": 40,
   "metadata": {},
   "outputs": [
    {
     "data": {
      "text/plain": [
       "11519"
      ]
     },
     "execution_count": 40,
     "metadata": {},
     "output_type": "execute_result"
    }
   ],
   "source": [
    "len(data[data['balcony'].isna()])"
   ]
  },
  {
   "cell_type": "markdown",
   "metadata": {},
   "source": [
    "Поле balcony имеет 11 519 значений типа 'NaN'. Обычно в типовых многоэтажных домах от 5 этажей балкона нет на первом этаже. Также некоторые дома не имеют балконов, а оборудованы лоджиями (предположительно, это разные объекты). Проанализируем, у каких объектов отсутвтуют записи в поле balcony."
   ]
  },
  {
   "cell_type": "code",
   "execution_count": 41,
   "metadata": {},
   "outputs": [
    {
     "data": {
      "text/html": [
       "<div>\n",
       "<style scoped>\n",
       "    .dataframe tbody tr th:only-of-type {\n",
       "        vertical-align: middle;\n",
       "    }\n",
       "\n",
       "    .dataframe tbody tr th {\n",
       "        vertical-align: top;\n",
       "    }\n",
       "\n",
       "    .dataframe thead th {\n",
       "        text-align: right;\n",
       "    }\n",
       "</style>\n",
       "<table border=\"1\" class=\"dataframe\">\n",
       "  <thead>\n",
       "    <tr style=\"text-align: right;\">\n",
       "      <th></th>\n",
       "      <th>floors_total</th>\n",
       "      <th>floor</th>\n",
       "      <th>total_area</th>\n",
       "    </tr>\n",
       "  </thead>\n",
       "  <tbody>\n",
       "    <tr>\n",
       "      <td>3</td>\n",
       "      <td>5.0</td>\n",
       "      <td>5</td>\n",
       "      <td>650</td>\n",
       "    </tr>\n",
       "    <tr>\n",
       "      <td>0</td>\n",
       "      <td>5.0</td>\n",
       "      <td>2</td>\n",
       "      <td>594</td>\n",
       "    </tr>\n",
       "    <tr>\n",
       "      <td>1</td>\n",
       "      <td>5.0</td>\n",
       "      <td>3</td>\n",
       "      <td>538</td>\n",
       "    </tr>\n",
       "    <tr>\n",
       "      <td>2</td>\n",
       "      <td>5.0</td>\n",
       "      <td>4</td>\n",
       "      <td>537</td>\n",
       "    </tr>\n",
       "    <tr>\n",
       "      <td>22</td>\n",
       "      <td>9.0</td>\n",
       "      <td>2</td>\n",
       "      <td>212</td>\n",
       "    </tr>\n",
       "    <tr>\n",
       "      <td>23</td>\n",
       "      <td>9.0</td>\n",
       "      <td>3</td>\n",
       "      <td>203</td>\n",
       "    </tr>\n",
       "    <tr>\n",
       "      <td>25</td>\n",
       "      <td>9.0</td>\n",
       "      <td>5</td>\n",
       "      <td>194</td>\n",
       "    </tr>\n",
       "    <tr>\n",
       "      <td>28</td>\n",
       "      <td>9.0</td>\n",
       "      <td>8</td>\n",
       "      <td>193</td>\n",
       "    </tr>\n",
       "    <tr>\n",
       "      <td>27</td>\n",
       "      <td>9.0</td>\n",
       "      <td>7</td>\n",
       "      <td>186</td>\n",
       "    </tr>\n",
       "    <tr>\n",
       "      <td>26</td>\n",
       "      <td>9.0</td>\n",
       "      <td>6</td>\n",
       "      <td>182</td>\n",
       "    </tr>\n",
       "    <tr>\n",
       "      <td>24</td>\n",
       "      <td>9.0</td>\n",
       "      <td>4</td>\n",
       "      <td>161</td>\n",
       "    </tr>\n",
       "    <tr>\n",
       "      <td>29</td>\n",
       "      <td>9.0</td>\n",
       "      <td>9</td>\n",
       "      <td>154</td>\n",
       "    </tr>\n",
       "    <tr>\n",
       "      <td>4</td>\n",
       "      <td>6.0</td>\n",
       "      <td>2</td>\n",
       "      <td>109</td>\n",
       "    </tr>\n",
       "    <tr>\n",
       "      <td>7</td>\n",
       "      <td>6.0</td>\n",
       "      <td>5</td>\n",
       "      <td>96</td>\n",
       "    </tr>\n",
       "    <tr>\n",
       "      <td>5</td>\n",
       "      <td>6.0</td>\n",
       "      <td>3</td>\n",
       "      <td>95</td>\n",
       "    </tr>\n",
       "    <tr>\n",
       "      <td>6</td>\n",
       "      <td>6.0</td>\n",
       "      <td>4</td>\n",
       "      <td>94</td>\n",
       "    </tr>\n",
       "    <tr>\n",
       "      <td>8</td>\n",
       "      <td>6.0</td>\n",
       "      <td>6</td>\n",
       "      <td>69</td>\n",
       "    </tr>\n",
       "    <tr>\n",
       "      <td>49</td>\n",
       "      <td>12.0</td>\n",
       "      <td>2</td>\n",
       "      <td>68</td>\n",
       "    </tr>\n",
       "    <tr>\n",
       "      <td>50</td>\n",
       "      <td>12.0</td>\n",
       "      <td>3</td>\n",
       "      <td>62</td>\n",
       "    </tr>\n",
       "    <tr>\n",
       "      <td>32</td>\n",
       "      <td>10.0</td>\n",
       "      <td>4</td>\n",
       "      <td>60</td>\n",
       "    </tr>\n",
       "  </tbody>\n",
       "</table>\n",
       "</div>"
      ],
      "text/plain": [
       "    floors_total  floor  total_area\n",
       "3            5.0      5         650\n",
       "0            5.0      2         594\n",
       "1            5.0      3         538\n",
       "2            5.0      4         537\n",
       "22           9.0      2         212\n",
       "23           9.0      3         203\n",
       "25           9.0      5         194\n",
       "28           9.0      8         193\n",
       "27           9.0      7         186\n",
       "26           9.0      6         182\n",
       "24           9.0      4         161\n",
       "29           9.0      9         154\n",
       "4            6.0      2         109\n",
       "7            6.0      5          96\n",
       "5            6.0      3          95\n",
       "6            6.0      4          94\n",
       "8            6.0      6          69\n",
       "49          12.0      2          68\n",
       "50          12.0      3          62\n",
       "32          10.0      4          60"
      ]
     },
     "execution_count": 41,
     "metadata": {},
     "output_type": "execute_result"
    }
   ],
   "source": [
    "balcony_set = data.query('balcony.isna() and floor !=1 and floors_total>=5', engine = 'python').pivot_table(index = ['floors_total','floor'], values = 'total_area', aggfunc = 'count')\n",
    "balcony_set = balcony_set.reset_index()\n",
    "balcony_set.sort_values('total_area', ascending = False).head(20)"
   ]
  },
  {
   "cell_type": "markdown",
   "metadata": {},
   "source": [
    "Отфильтруем малоэтажные дома (до 5 этажей), первые этажи домов и пропущенные значения в поле balcony и запишем срез в датасет balcony_set. Отсортируем датасет по убыванию. Из таблицы видно, что top-5 значений - это объекты в пятиэтажных домах, остальные объекты - в девятиэтажных домах и выше. Определим количество значений в отфильтвованном датасете."
   ]
  },
  {
   "cell_type": "code",
   "execution_count": 42,
   "metadata": {},
   "outputs": [
    {
     "data": {
      "text/plain": [
       "8637"
      ]
     },
     "execution_count": 42,
     "metadata": {},
     "output_type": "execute_result"
    }
   ],
   "source": [
    "balcony_set['total_area'].sum()"
   ]
  },
  {
   "cell_type": "markdown",
   "metadata": {},
   "source": [
    "Предположительно эти объекты должны иметь балкон или лоджию, т.к. это многоэтажная застройка. Но 8637 объектов - значительная доля датасета, цена ошибки может быть велика. Оставим данные без изменений."
   ]
  },
  {
   "cell_type": "code",
   "execution_count": 43,
   "metadata": {},
   "outputs": [
    {
     "data": {
      "text/plain": [
       "Санкт-Петербург                 15721\n",
       "посёлок Мурино                    522\n",
       "посёлок Шушары                    440\n",
       "Всеволожск                        398\n",
       "Пушкин                            369\n",
       "                                ...  \n",
       "деревня Пикколово                   1\n",
       "деревня Борисова Грива              1\n",
       "поселок Гончарово                   1\n",
       "городской посёлок Свирьстрой        1\n",
       "поселок Возрождение                 1\n",
       "Name: locality_name, Length: 364, dtype: int64"
      ]
     },
     "execution_count": 43,
     "metadata": {},
     "output_type": "execute_result"
    }
   ],
   "source": [
    "data['locality_name'].value_counts()"
   ]
  },
  {
   "cell_type": "code",
   "execution_count": 44,
   "metadata": {},
   "outputs": [
    {
     "data": {
      "text/plain": [
       "49"
      ]
     },
     "execution_count": 44,
     "metadata": {},
     "output_type": "execute_result"
    }
   ],
   "source": [
    "len(data[data['locality_name'].isna()])"
   ]
  },
  {
   "cell_type": "code",
   "execution_count": 45,
   "metadata": {},
   "outputs": [
    {
     "data": {
      "text/plain": [
       "Санкт-Петербург            15721\n",
       "посёлок Мурино               522\n",
       "посёлок Шушары               440\n",
       "Всеволожск                   398\n",
       "Пушкин                       369\n",
       "Колпино                      338\n",
       "посёлок Парголово            327\n",
       "Гатчина                      307\n",
       "деревня Кудрово              299\n",
       "Выборг                       237\n",
       "Петергоф                     201\n",
       "Сестрорецк                   183\n",
       "Красное Село                 178\n",
       "Кудрово                      173\n",
       "деревня Новое Девяткино      144\n",
       "Сертолово                    142\n",
       "Ломоносов                    133\n",
       "Кириши                       125\n",
       "Сланцы                       112\n",
       "Волхов                       111\n",
       "Тосно                        104\n",
       "Кингисепп                    104\n",
       "Кронштадт                     96\n",
       "Никольское                    93\n",
       "Коммунар                      89\n",
       "Сосновый Бор                  87\n",
       "Кировск                       84\n",
       "Отрадное                      80\n",
       "посёлок Бугры                 69\n",
       "посёлок Металлострой          66\n",
       "Name: locality_name, dtype: int64"
      ]
     },
     "execution_count": 45,
     "metadata": {},
     "output_type": "execute_result"
    }
   ],
   "source": [
    "data['locality_name'].value_counts().head(30)"
   ]
  },
  {
   "cell_type": "markdown",
   "metadata": {},
   "source": [
    "Метод value_counts() на первый взгляд, не выявляет аномалий. Метод isna показывает 49 пропущенных значений. Если посмотреть первые 30 уникальных названий датасета, видны повторы (записи \"Кудрово\" и \"деревня Кудрово\"). Требуется унификация наименований населенных пунктов."
   ]
  },
  {
   "cell_type": "code",
   "execution_count": 46,
   "metadata": {},
   "outputs": [
    {
     "data": {
      "text/plain": [
       "5542"
      ]
     },
     "execution_count": 46,
     "metadata": {},
     "output_type": "execute_result"
    }
   ],
   "source": [
    "len(data[data['airports_nearest'].isna()])"
   ]
  },
  {
   "cell_type": "code",
   "execution_count": 47,
   "metadata": {},
   "outputs": [
    {
     "data": {
      "text/plain": [
       "count    18157.000000\n",
       "mean     28793.672193\n",
       "std      12630.880622\n",
       "min          0.000000\n",
       "25%      18585.000000\n",
       "50%      26726.000000\n",
       "75%      37273.000000\n",
       "max      84869.000000\n",
       "Name: airports_nearest, dtype: float64"
      ]
     },
     "execution_count": 47,
     "metadata": {},
     "output_type": "execute_result"
    }
   ],
   "source": [
    "data['airports_nearest'].describe()"
   ]
  },
  {
   "cell_type": "markdown",
   "metadata": {},
   "source": [
    "В поле airports_nearest - 5 542 пропусков. Можно попробовать восстановить их по средним значениям поля locality_name после унификации (исключая Санкт-Петербург)."
   ]
  },
  {
   "cell_type": "code",
   "execution_count": 48,
   "metadata": {},
   "outputs": [
    {
     "data": {
      "text/plain": [
       "5519"
      ]
     },
     "execution_count": 48,
     "metadata": {},
     "output_type": "execute_result"
    }
   ],
   "source": [
    "len(data[data['cityCenters_nearest'].isna()])"
   ]
  },
  {
   "cell_type": "code",
   "execution_count": 49,
   "metadata": {},
   "outputs": [
    {
     "data": {
      "text/plain": [
       "count    18180.000000\n",
       "mean     14191.277833\n",
       "std       8608.386210\n",
       "min        181.000000\n",
       "25%       9238.000000\n",
       "50%      13098.500000\n",
       "75%      16293.000000\n",
       "max      65968.000000\n",
       "Name: cityCenters_nearest, dtype: float64"
      ]
     },
     "execution_count": 49,
     "metadata": {},
     "output_type": "execute_result"
    }
   ],
   "source": [
    "data['cityCenters_nearest'].describe()"
   ]
  },
  {
   "cell_type": "markdown",
   "metadata": {},
   "source": [
    "Требуется унификация locality_name для более точного определения решения по предобработке данных удаленности объекта от центра."
   ]
  },
  {
   "cell_type": "code",
   "execution_count": 50,
   "metadata": {},
   "outputs": [
    {
     "data": {
      "text/plain": [
       "0.0    10106\n",
       "1.0     5681\n",
       "2.0     1747\n",
       "3.0      647\n",
       "Name: parks_around3000, dtype: int64"
      ]
     },
     "execution_count": 50,
     "metadata": {},
     "output_type": "execute_result"
    }
   ],
   "source": [
    "data['parks_around3000'].value_counts()"
   ]
  },
  {
   "cell_type": "code",
   "execution_count": 51,
   "metadata": {},
   "outputs": [
    {
     "data": {
      "text/plain": [
       "5518"
      ]
     },
     "execution_count": 51,
     "metadata": {},
     "output_type": "execute_result"
    }
   ],
   "source": [
    "len(data[data['parks_around3000'].isna()])"
   ]
  },
  {
   "cell_type": "code",
   "execution_count": 52,
   "metadata": {},
   "outputs": [
    {
     "data": {
      "text/plain": [
       "5518"
      ]
     },
     "execution_count": 52,
     "metadata": {},
     "output_type": "execute_result"
    }
   ],
   "source": [
    "len(data[data['ponds_around3000'].isna()])"
   ]
  },
  {
   "cell_type": "markdown",
   "metadata": {},
   "source": [
    "Требуется унификация locality_name для более точного определения решения по предобработке данных количества парков и водоемов в радиусе 3 км от объекта. Примечание: число пропусков в полях parks_around3000 и ponds_around3000 идентично, 5518."
   ]
  },
  {
   "cell_type": "code",
   "execution_count": 53,
   "metadata": {},
   "outputs": [
    {
     "data": {
      "text/plain": [
       "15620"
      ]
     },
     "execution_count": 53,
     "metadata": {},
     "output_type": "execute_result"
    }
   ],
   "source": [
    "len(data[data['parks_nearest'].isna()])"
   ]
  },
  {
   "cell_type": "code",
   "execution_count": 54,
   "metadata": {},
   "outputs": [
    {
     "data": {
      "text/plain": [
       "14589"
      ]
     },
     "execution_count": 54,
     "metadata": {},
     "output_type": "execute_result"
    }
   ],
   "source": [
    "len(data[data['ponds_nearest'].isna()])"
   ]
  },
  {
   "cell_type": "markdown",
   "metadata": {},
   "source": [
    "Требуется унификация locality_name для более точного определения решения по предобработке данных удаленности объекта от водоемов."
   ]
  },
  {
   "cell_type": "code",
   "execution_count": 55,
   "metadata": {},
   "outputs": [
    {
     "data": {
      "text/plain": [
       "3181"
      ]
     },
     "execution_count": 55,
     "metadata": {},
     "output_type": "execute_result"
    }
   ],
   "source": [
    "len(data[data['days_exposition'].isna()])"
   ]
  },
  {
   "cell_type": "markdown",
   "metadata": {},
   "source": [
    "В поле days_exposition 3 181 значение типа 'NaN', что составляет 13,4% от объема датасета, что является весомой долей и может повлечь за собой искажение результатов анализа в случае некорректной замены значений. Предлагается заменить эти пропуски значением \"Отсутствует\", чтобы выделить в отдельный сегмент объекты, для которых неизвестно количество дней от подачи до снятия объявления."
   ]
  },
  {
   "cell_type": "code",
   "execution_count": 56,
   "metadata": {},
   "outputs": [
    {
     "data": {
      "text/plain": [
       "count    20518.000000\n",
       "mean       180.888634\n",
       "std        219.727988\n",
       "min          1.000000\n",
       "25%         45.000000\n",
       "50%         95.000000\n",
       "75%        232.000000\n",
       "max       1580.000000\n",
       "Name: days_exposition, dtype: float64"
      ]
     },
     "execution_count": 56,
     "metadata": {},
     "output_type": "execute_result"
    }
   ],
   "source": [
    "data['days_exposition'].describe()"
   ]
  },
  {
   "cell_type": "markdown",
   "metadata": {},
   "source": [
    "Поле days_exposition имеет тип float64, для удобства его необходимо привести к типу int.\n",
    "Минимальное значение от размещения объявления до покупки объекта - 1 день. Отрицательных значений нет. Максимальное значение - 1580 дней, чтот составляет 4,3 года. Данное значение может являться вбросом. Построим диаграмму для оценки распределения данных. "
   ]
  },
  {
   "cell_type": "code",
   "execution_count": 57,
   "metadata": {
    "scrolled": true
   },
   "outputs": [
    {
     "data": {
      "image/png": "[encoded data removed]",
      "text/plain": [
       "<Figure size 432x288 with 1 Axes>"
      ]
     },
     "metadata": {
      "needs_background": "light"
     },
     "output_type": "display_data"
    }
   ],
   "source": [
    "data['days_exposition'].hist(bins = 100, range=(0, 1580));"
   ]
  },
  {
   "cell_type": "markdown",
   "metadata": {},
   "source": [
    "Возможно пропуски в этом поле - незавершенные объявления с непроданными обоъектами. Изучим распределение дат незавершенных объявлений. Для этого создадим столбец с годом первого размещения объявления."
   ]
  },
  {
   "cell_type": "code",
   "execution_count": 58,
   "metadata": {},
   "outputs": [
    {
     "data": {
      "text/html": [
       "<div>\n",
       "<style scoped>\n",
       "    .dataframe tbody tr th:only-of-type {\n",
       "        vertical-align: middle;\n",
       "    }\n",
       "\n",
       "    .dataframe tbody tr th {\n",
       "        vertical-align: top;\n",
       "    }\n",
       "\n",
       "    .dataframe thead th {\n",
       "        text-align: right;\n",
       "    }\n",
       "</style>\n",
       "<table border=\"1\" class=\"dataframe\">\n",
       "  <thead>\n",
       "    <tr style=\"text-align: right;\">\n",
       "      <th></th>\n",
       "      <th>last_price</th>\n",
       "    </tr>\n",
       "    <tr>\n",
       "      <th>year</th>\n",
       "      <th></th>\n",
       "    </tr>\n",
       "  </thead>\n",
       "  <tbody>\n",
       "    <tr>\n",
       "      <td>2014</td>\n",
       "      <td>18</td>\n",
       "    </tr>\n",
       "    <tr>\n",
       "      <td>2015</td>\n",
       "      <td>70</td>\n",
       "    </tr>\n",
       "    <tr>\n",
       "      <td>2016</td>\n",
       "      <td>67</td>\n",
       "    </tr>\n",
       "    <tr>\n",
       "      <td>2017</td>\n",
       "      <td>271</td>\n",
       "    </tr>\n",
       "    <tr>\n",
       "      <td>2018</td>\n",
       "      <td>959</td>\n",
       "    </tr>\n",
       "    <tr>\n",
       "      <td>2019</td>\n",
       "      <td>1796</td>\n",
       "    </tr>\n",
       "  </tbody>\n",
       "</table>\n",
       "</div>"
      ],
      "text/plain": [
       "      last_price\n",
       "year            \n",
       "2014          18\n",
       "2015          70\n",
       "2016          67\n",
       "2017         271\n",
       "2018         959\n",
       "2019        1796"
      ]
     },
     "execution_count": 58,
     "metadata": {},
     "output_type": "execute_result"
    }
   ],
   "source": [
    "data['year'] = pd.DatetimeIndex(data['first_day_exposition']).year\n",
    "data.head()\n",
    "(data.query('days_exposition.isna()', engine='python')\n",
    " .pivot_table(index = 'year', values ='last_price', aggfunc = 'count'))"
   ]
  },
  {
   "cell_type": "markdown",
   "metadata": {},
   "source": [
    "Полученный результат не позволяет сделать однозначный вывод о том, что это незакрытые объявления, т.к. объявления, размещенные в 2014-2016 годах (даже если база выгружена по состоянию на 2019 год) стояли бы в продаже 3-5 лет.\n",
    "Доля условно незакрытых объявлений в выборке - 13,4% и цена ошибки при некорректном заполнении пустот будет высока. Но большая доля объектов приходится на 2019 год (второй по величине - 2018). Если найти максимальную дату размещения объявления в датасете и считать, что база сформирована именно на эту дату, можно найти разницу в днях от этой даты до даты размещения объявления и заполнить пустоты для каждого объявления этим числом дней. Найдем финальную дату размещения объявления. "
   ]
  },
  {
   "cell_type": "code",
   "execution_count": 59,
   "metadata": {},
   "outputs": [
    {
     "data": {
      "text/plain": [
       "'2019-05-03T00:00:00'"
      ]
     },
     "execution_count": 59,
     "metadata": {},
     "output_type": "execute_result"
    }
   ],
   "source": [
    "data['first_day_exposition'].max()"
   ]
  },
  {
   "cell_type": "markdown",
   "metadata": {},
   "source": [
    "Последнее размещение объявления в базе было 5 мая 2019 года. Будем условно считать, что база выгружена на эту дату.\n",
    "Создадим столбец с разницей даты размещения и финальной даты размещения последнего объявления."
   ]
  },
  {
   "cell_type": "code",
   "execution_count": 60,
   "metadata": {},
   "outputs": [
    {
     "data": {
      "text/html": [
       "<div>\n",
       "<style scoped>\n",
       "    .dataframe tbody tr th:only-of-type {\n",
       "        vertical-align: middle;\n",
       "    }\n",
       "\n",
       "    .dataframe tbody tr th {\n",
       "        vertical-align: top;\n",
       "    }\n",
       "\n",
       "    .dataframe thead th {\n",
       "        text-align: right;\n",
       "    }\n",
       "</style>\n",
       "<table border=\"1\" class=\"dataframe\">\n",
       "  <thead>\n",
       "    <tr style=\"text-align: right;\">\n",
       "      <th></th>\n",
       "      <th>total_images</th>\n",
       "      <th>last_price</th>\n",
       "      <th>total_area</th>\n",
       "      <th>first_day_exposition</th>\n",
       "      <th>rooms</th>\n",
       "      <th>ceiling_height</th>\n",
       "      <th>floors_total</th>\n",
       "      <th>living_area</th>\n",
       "      <th>floor</th>\n",
       "      <th>is_apartment</th>\n",
       "      <th>...</th>\n",
       "      <th>airports_nearest</th>\n",
       "      <th>cityCenters_nearest</th>\n",
       "      <th>parks_around3000</th>\n",
       "      <th>parks_nearest</th>\n",
       "      <th>ponds_around3000</th>\n",
       "      <th>ponds_nearest</th>\n",
       "      <th>days_exposition</th>\n",
       "      <th>price_per_m2</th>\n",
       "      <th>year</th>\n",
       "      <th>diff</th>\n",
       "    </tr>\n",
       "  </thead>\n",
       "  <tbody>\n",
       "    <tr>\n",
       "      <td>0</td>\n",
       "      <td>20</td>\n",
       "      <td>13000000.0</td>\n",
       "      <td>108.0</td>\n",
       "      <td>2019-03-07</td>\n",
       "      <td>3</td>\n",
       "      <td>2.70</td>\n",
       "      <td>16.0</td>\n",
       "      <td>51.0</td>\n",
       "      <td>8</td>\n",
       "      <td>NaN</td>\n",
       "      <td>...</td>\n",
       "      <td>18863.0</td>\n",
       "      <td>16028.0</td>\n",
       "      <td>1.0</td>\n",
       "      <td>482.0</td>\n",
       "      <td>2.0</td>\n",
       "      <td>755.0</td>\n",
       "      <td>NaN</td>\n",
       "      <td>120370.370370</td>\n",
       "      <td>2019</td>\n",
       "      <td>57</td>\n",
       "    </tr>\n",
       "    <tr>\n",
       "      <td>1</td>\n",
       "      <td>7</td>\n",
       "      <td>3350000.0</td>\n",
       "      <td>40.4</td>\n",
       "      <td>2018-12-04</td>\n",
       "      <td>1</td>\n",
       "      <td>NaN</td>\n",
       "      <td>11.0</td>\n",
       "      <td>18.6</td>\n",
       "      <td>1</td>\n",
       "      <td>NaN</td>\n",
       "      <td>...</td>\n",
       "      <td>12817.0</td>\n",
       "      <td>18603.0</td>\n",
       "      <td>0.0</td>\n",
       "      <td>NaN</td>\n",
       "      <td>0.0</td>\n",
       "      <td>NaN</td>\n",
       "      <td>81.0</td>\n",
       "      <td>82920.792079</td>\n",
       "      <td>2018</td>\n",
       "      <td>150</td>\n",
       "    </tr>\n",
       "    <tr>\n",
       "      <td>2</td>\n",
       "      <td>10</td>\n",
       "      <td>5196000.0</td>\n",
       "      <td>56.0</td>\n",
       "      <td>2015-08-20</td>\n",
       "      <td>2</td>\n",
       "      <td>NaN</td>\n",
       "      <td>5.0</td>\n",
       "      <td>34.3</td>\n",
       "      <td>4</td>\n",
       "      <td>NaN</td>\n",
       "      <td>...</td>\n",
       "      <td>21741.0</td>\n",
       "      <td>13933.0</td>\n",
       "      <td>1.0</td>\n",
       "      <td>90.0</td>\n",
       "      <td>2.0</td>\n",
       "      <td>574.0</td>\n",
       "      <td>558.0</td>\n",
       "      <td>92785.714286</td>\n",
       "      <td>2015</td>\n",
       "      <td>1352</td>\n",
       "    </tr>\n",
       "    <tr>\n",
       "      <td>3</td>\n",
       "      <td>0</td>\n",
       "      <td>64900000.0</td>\n",
       "      <td>159.0</td>\n",
       "      <td>2015-07-24</td>\n",
       "      <td>3</td>\n",
       "      <td>NaN</td>\n",
       "      <td>14.0</td>\n",
       "      <td>NaN</td>\n",
       "      <td>9</td>\n",
       "      <td>NaN</td>\n",
       "      <td>...</td>\n",
       "      <td>28098.0</td>\n",
       "      <td>6800.0</td>\n",
       "      <td>2.0</td>\n",
       "      <td>84.0</td>\n",
       "      <td>3.0</td>\n",
       "      <td>234.0</td>\n",
       "      <td>424.0</td>\n",
       "      <td>408176.100629</td>\n",
       "      <td>2015</td>\n",
       "      <td>1379</td>\n",
       "    </tr>\n",
       "    <tr>\n",
       "      <td>4</td>\n",
       "      <td>2</td>\n",
       "      <td>10000000.0</td>\n",
       "      <td>100.0</td>\n",
       "      <td>2018-06-19</td>\n",
       "      <td>2</td>\n",
       "      <td>3.03</td>\n",
       "      <td>14.0</td>\n",
       "      <td>32.0</td>\n",
       "      <td>13</td>\n",
       "      <td>NaN</td>\n",
       "      <td>...</td>\n",
       "      <td>31856.0</td>\n",
       "      <td>8098.0</td>\n",
       "      <td>2.0</td>\n",
       "      <td>112.0</td>\n",
       "      <td>1.0</td>\n",
       "      <td>48.0</td>\n",
       "      <td>121.0</td>\n",
       "      <td>100000.000000</td>\n",
       "      <td>2018</td>\n",
       "      <td>318</td>\n",
       "    </tr>\n",
       "  </tbody>\n",
       "</table>\n",
       "<p>5 rows × 25 columns</p>\n",
       "</div>"
      ],
      "text/plain": [
       "   total_images  last_price  total_area first_day_exposition  rooms  \\\n",
       "0            20  13000000.0       108.0           2019-03-07      3   \n",
       "1             7   3350000.0        40.4           2018-12-04      1   \n",
       "2            10   5196000.0        56.0           2015-08-20      2   \n",
       "3             0  64900000.0       159.0           2015-07-24      3   \n",
       "4             2  10000000.0       100.0           2018-06-19      2   \n",
       "\n",
       "   ceiling_height  floors_total  living_area  floor is_apartment  ...  \\\n",
       "0            2.70          16.0         51.0      8          NaN  ...   \n",
       "1             NaN          11.0         18.6      1          NaN  ...   \n",
       "2             NaN           5.0         34.3      4          NaN  ...   \n",
       "3             NaN          14.0          NaN      9          NaN  ...   \n",
       "4            3.03          14.0         32.0     13          NaN  ...   \n",
       "\n",
       "   airports_nearest  cityCenters_nearest  parks_around3000  parks_nearest  \\\n",
       "0           18863.0              16028.0               1.0          482.0   \n",
       "1           12817.0              18603.0               0.0            NaN   \n",
       "2           21741.0              13933.0               1.0           90.0   \n",
       "3           28098.0               6800.0               2.0           84.0   \n",
       "4           31856.0               8098.0               2.0          112.0   \n",
       "\n",
       "  ponds_around3000  ponds_nearest  days_exposition   price_per_m2  year  diff  \n",
       "0              2.0          755.0              NaN  120370.370370  2019    57  \n",
       "1              0.0            NaN             81.0   82920.792079  2018   150  \n",
       "2              2.0          574.0            558.0   92785.714286  2015  1352  \n",
       "3              3.0          234.0            424.0  408176.100629  2015  1379  \n",
       "4              1.0           48.0            121.0  100000.000000  2018   318  \n",
       "\n",
       "[5 rows x 25 columns]"
      ]
     },
     "execution_count": 60,
     "metadata": {},
     "output_type": "execute_result"
    }
   ],
   "source": [
    "data['first_day_exposition'] = pd.to_datetime(data['first_day_exposition'], format = '%Y-%m-%dT%H:%M:%S')\n",
    "data['diff'] = (data['first_day_exposition'].max()-data['first_day_exposition']).dt.days\n",
    "data.head()"
   ]
  },
  {
   "cell_type": "markdown",
   "metadata": {},
   "source": [
    "Столбец first_day_exposition переведен в корректный формат даты/времени. Создадим вспомогательный столбец diff, в который запишем разницу между максимальной датой в датафрейме и датой первой публикации объявления."
   ]
  },
  {
   "cell_type": "code",
   "execution_count": 61,
   "metadata": {},
   "outputs": [
    {
     "data": {
      "text/html": [
       "<div>\n",
       "<style scoped>\n",
       "    .dataframe tbody tr th:only-of-type {\n",
       "        vertical-align: middle;\n",
       "    }\n",
       "\n",
       "    .dataframe tbody tr th {\n",
       "        vertical-align: top;\n",
       "    }\n",
       "\n",
       "    .dataframe thead th {\n",
       "        text-align: right;\n",
       "    }\n",
       "</style>\n",
       "<table border=\"1\" class=\"dataframe\">\n",
       "  <thead>\n",
       "    <tr style=\"text-align: right;\">\n",
       "      <th></th>\n",
       "      <th>total_images</th>\n",
       "      <th>last_price</th>\n",
       "      <th>total_area</th>\n",
       "      <th>first_day_exposition</th>\n",
       "      <th>rooms</th>\n",
       "      <th>ceiling_height</th>\n",
       "      <th>floors_total</th>\n",
       "      <th>living_area</th>\n",
       "      <th>floor</th>\n",
       "      <th>is_apartment</th>\n",
       "      <th>...</th>\n",
       "      <th>airports_nearest</th>\n",
       "      <th>cityCenters_nearest</th>\n",
       "      <th>parks_around3000</th>\n",
       "      <th>parks_nearest</th>\n",
       "      <th>ponds_around3000</th>\n",
       "      <th>ponds_nearest</th>\n",
       "      <th>days_exposition</th>\n",
       "      <th>price_per_m2</th>\n",
       "      <th>year</th>\n",
       "      <th>diff</th>\n",
       "    </tr>\n",
       "  </thead>\n",
       "  <tbody>\n",
       "    <tr>\n",
       "      <td>0</td>\n",
       "      <td>20</td>\n",
       "      <td>13000000.0</td>\n",
       "      <td>108.0</td>\n",
       "      <td>2019-03-07</td>\n",
       "      <td>3</td>\n",
       "      <td>2.70</td>\n",
       "      <td>16.0</td>\n",
       "      <td>51.0</td>\n",
       "      <td>8</td>\n",
       "      <td>NaN</td>\n",
       "      <td>...</td>\n",
       "      <td>18863.0</td>\n",
       "      <td>16028.0</td>\n",
       "      <td>1.0</td>\n",
       "      <td>482.0</td>\n",
       "      <td>2.0</td>\n",
       "      <td>755.0</td>\n",
       "      <td>57.0</td>\n",
       "      <td>120370.370370</td>\n",
       "      <td>2019</td>\n",
       "      <td>57</td>\n",
       "    </tr>\n",
       "    <tr>\n",
       "      <td>1</td>\n",
       "      <td>7</td>\n",
       "      <td>3350000.0</td>\n",
       "      <td>40.4</td>\n",
       "      <td>2018-12-04</td>\n",
       "      <td>1</td>\n",
       "      <td>NaN</td>\n",
       "      <td>11.0</td>\n",
       "      <td>18.6</td>\n",
       "      <td>1</td>\n",
       "      <td>NaN</td>\n",
       "      <td>...</td>\n",
       "      <td>12817.0</td>\n",
       "      <td>18603.0</td>\n",
       "      <td>0.0</td>\n",
       "      <td>NaN</td>\n",
       "      <td>0.0</td>\n",
       "      <td>NaN</td>\n",
       "      <td>81.0</td>\n",
       "      <td>82920.792079</td>\n",
       "      <td>2018</td>\n",
       "      <td>150</td>\n",
       "    </tr>\n",
       "    <tr>\n",
       "      <td>2</td>\n",
       "      <td>10</td>\n",
       "      <td>5196000.0</td>\n",
       "      <td>56.0</td>\n",
       "      <td>2015-08-20</td>\n",
       "      <td>2</td>\n",
       "      <td>NaN</td>\n",
       "      <td>5.0</td>\n",
       "      <td>34.3</td>\n",
       "      <td>4</td>\n",
       "      <td>NaN</td>\n",
       "      <td>...</td>\n",
       "      <td>21741.0</td>\n",
       "      <td>13933.0</td>\n",
       "      <td>1.0</td>\n",
       "      <td>90.0</td>\n",
       "      <td>2.0</td>\n",
       "      <td>574.0</td>\n",
       "      <td>558.0</td>\n",
       "      <td>92785.714286</td>\n",
       "      <td>2015</td>\n",
       "      <td>1352</td>\n",
       "    </tr>\n",
       "    <tr>\n",
       "      <td>3</td>\n",
       "      <td>0</td>\n",
       "      <td>64900000.0</td>\n",
       "      <td>159.0</td>\n",
       "      <td>2015-07-24</td>\n",
       "      <td>3</td>\n",
       "      <td>NaN</td>\n",
       "      <td>14.0</td>\n",
       "      <td>NaN</td>\n",
       "      <td>9</td>\n",
       "      <td>NaN</td>\n",
       "      <td>...</td>\n",
       "      <td>28098.0</td>\n",
       "      <td>6800.0</td>\n",
       "      <td>2.0</td>\n",
       "      <td>84.0</td>\n",
       "      <td>3.0</td>\n",
       "      <td>234.0</td>\n",
       "      <td>424.0</td>\n",
       "      <td>408176.100629</td>\n",
       "      <td>2015</td>\n",
       "      <td>1379</td>\n",
       "    </tr>\n",
       "    <tr>\n",
       "      <td>4</td>\n",
       "      <td>2</td>\n",
       "      <td>10000000.0</td>\n",
       "      <td>100.0</td>\n",
       "      <td>2018-06-19</td>\n",
       "      <td>2</td>\n",
       "      <td>3.03</td>\n",
       "      <td>14.0</td>\n",
       "      <td>32.0</td>\n",
       "      <td>13</td>\n",
       "      <td>NaN</td>\n",
       "      <td>...</td>\n",
       "      <td>31856.0</td>\n",
       "      <td>8098.0</td>\n",
       "      <td>2.0</td>\n",
       "      <td>112.0</td>\n",
       "      <td>1.0</td>\n",
       "      <td>48.0</td>\n",
       "      <td>121.0</td>\n",
       "      <td>100000.000000</td>\n",
       "      <td>2018</td>\n",
       "      <td>318</td>\n",
       "    </tr>\n",
       "  </tbody>\n",
       "</table>\n",
       "<p>5 rows × 25 columns</p>\n",
       "</div>"
      ],
      "text/plain": [
       "   total_images  last_price  total_area first_day_exposition  rooms  \\\n",
       "0            20  13000000.0       108.0           2019-03-07      3   \n",
       "1             7   3350000.0        40.4           2018-12-04      1   \n",
       "2            10   5196000.0        56.0           2015-08-20      2   \n",
       "3             0  64900000.0       159.0           2015-07-24      3   \n",
       "4             2  10000000.0       100.0           2018-06-19      2   \n",
       "\n",
       "   ceiling_height  floors_total  living_area  floor is_apartment  ...  \\\n",
       "0            2.70          16.0         51.0      8          NaN  ...   \n",
       "1             NaN          11.0         18.6      1          NaN  ...   \n",
       "2             NaN           5.0         34.3      4          NaN  ...   \n",
       "3             NaN          14.0          NaN      9          NaN  ...   \n",
       "4            3.03          14.0         32.0     13          NaN  ...   \n",
       "\n",
       "   airports_nearest  cityCenters_nearest  parks_around3000  parks_nearest  \\\n",
       "0           18863.0              16028.0               1.0          482.0   \n",
       "1           12817.0              18603.0               0.0            NaN   \n",
       "2           21741.0              13933.0               1.0           90.0   \n",
       "3           28098.0               6800.0               2.0           84.0   \n",
       "4           31856.0               8098.0               2.0          112.0   \n",
       "\n",
       "  ponds_around3000  ponds_nearest  days_exposition   price_per_m2  year  diff  \n",
       "0              2.0          755.0             57.0  120370.370370  2019    57  \n",
       "1              0.0            NaN             81.0   82920.792079  2018   150  \n",
       "2              2.0          574.0            558.0   92785.714286  2015  1352  \n",
       "3              3.0          234.0            424.0  408176.100629  2015  1379  \n",
       "4              1.0           48.0            121.0  100000.000000  2018   318  \n",
       "\n",
       "[5 rows x 25 columns]"
      ]
     },
     "execution_count": 61,
     "metadata": {},
     "output_type": "execute_result"
    }
   ],
   "source": [
    "import numpy as np\n",
    "data['days_exposition'] = np.where(data['days_exposition'].isna(), data['diff'], data['days_exposition'])\n",
    "data.head()"
   ]
  },
  {
   "cell_type": "markdown",
   "metadata": {},
   "source": [
    "Перезапишем столбец days_exposition, заполнив в нем пропуски с помощью метода where по условию (если NaN, берем расчетное количество дней, если не NaN, оставляем текущее значение)."
   ]
  },
  {
   "cell_type": "code",
   "execution_count": 62,
   "metadata": {},
   "outputs": [
    {
     "data": {
      "text/plain": [
       "0"
      ]
     },
     "execution_count": 62,
     "metadata": {},
     "output_type": "execute_result"
    }
   ],
   "source": [
    "len(data[data['days_exposition'].isna()])"
   ]
  },
  {
   "cell_type": "markdown",
   "metadata": {},
   "source": [
    "Проверим наличие NaN в поле days_exposition. Они все заменены на расчетные значения."
   ]
  },
  {
   "cell_type": "markdown",
   "metadata": {},
   "source": [
    "### Вывод"
   ]
  },
  {
   "cell_type": "markdown",
   "metadata": {},
   "source": [
    "## Предобработка данных"
   ]
  },
  {
   "cell_type": "markdown",
   "metadata": {},
   "source": [
    "Обработаем поле с названием населенных пунктов и приведем их к унифицированным наименованиям."
   ]
  },
  {
   "cell_type": "markdown",
   "metadata": {},
   "source": [
    "Приведем поле locality_name к единому регистру, чтобы избежать написания одних и тех же локаций в разных регистрах."
   ]
  },
  {
   "cell_type": "code",
   "execution_count": 63,
   "metadata": {},
   "outputs": [],
   "source": [
    "data['locality_name'] = data['locality_name'].str.upper()"
   ]
  },
  {
   "cell_type": "code",
   "execution_count": 64,
   "metadata": {
    "scrolled": true
   },
   "outputs": [],
   "source": [
    "data=data.dropna(subset=['locality_name'])"
   ]
  },
  {
   "cell_type": "markdown",
   "metadata": {},
   "source": [
    "Удалим записи, в которых нет названия населенного пункта, т.к., на мой взгляд, корректно восстановить его не получится. Записей всего 49, доля записей в датасете очень мала."
   ]
  },
  {
   "cell_type": "code",
   "execution_count": 65,
   "metadata": {},
   "outputs": [
    {
     "data": {
      "text/plain": [
       "0"
      ]
     },
     "execution_count": 65,
     "metadata": {},
     "output_type": "execute_result"
    }
   ],
   "source": [
    "len(data[data['locality_name'].isna()])"
   ]
  },
  {
   "cell_type": "code",
   "execution_count": 66,
   "metadata": {},
   "outputs": [
    {
     "data": {
      "text/plain": [
       "array(['САНКТ-ПЕТЕРБУРГ', 'ПОСЁЛОК ШУШАРЫ', 'ГОРОДСКОЙ ПОСЁЛОК ЯНИНО-1',\n",
       "       'ПОСЁЛОК ПАРГОЛОВО', 'ПОСЁЛОК МУРИНО', 'ЛОМОНОСОВ', 'СЕРТОЛОВО',\n",
       "       'ПЕТЕРГОФ', 'ПУШКИН', 'ДЕРЕВНЯ КУДРОВО', 'КОММУНАР', 'КОЛПИНО',\n",
       "       'ПОСЕЛОК ГОРОДСКОГО ТИПА КРАСНЫЙ БОР', 'ГАТЧИНА', 'ПОСЕЛОК МУРИНО',\n",
       "       'ДЕРЕВНЯ ФЁДОРОВСКОЕ', 'ВЫБОРГ', 'КРОНШТАДТ', 'КИРОВСК',\n",
       "       'ДЕРЕВНЯ НОВОЕ ДЕВЯТКИНО', 'ПОСЁЛОК МЕТАЛЛОСТРОЙ',\n",
       "       'ПОСЁЛОК ГОРОДСКОГО ТИПА ЛЕБЯЖЬЕ',\n",
       "       'ПОСЁЛОК ГОРОДСКОГО ТИПА СИВЕРСКИЙ', 'ПОСЕЛОК МОЛОДЦОВО',\n",
       "       'ПОСЕЛОК ГОРОДСКОГО ТИПА КУЗЬМОЛОВСКИЙ',\n",
       "       'САДОВОЕ ТОВАРИЩЕСТВО НОВАЯ РОПША', 'ПАВЛОВСК',\n",
       "       'ДЕРЕВНЯ ПИККОЛОВО', 'ВСЕВОЛОЖСК', 'ВОЛХОВ', 'КИНГИСЕПП',\n",
       "       'ПРИОЗЕРСК', 'СЕСТРОРЕЦК', 'ДЕРЕВНЯ КУТТУЗИ', 'ПОСЁЛОК АННИНО',\n",
       "       'ПОСЕЛОК ГОРОДСКОГО ТИПА ЕФИМОВСКИЙ', 'ПОСЁЛОК ПЛОДОВОЕ',\n",
       "       'ДЕРЕВНЯ ЗАКЛИНЬЕ', 'ПОСЕЛОК ТОРКОВИЧИ', 'ПОСЕЛОК ПЕРВОМАЙСКОЕ',\n",
       "       'КРАСНОЕ СЕЛО', 'ПОСЁЛОК ПОНТОННЫЙ', 'СЯСЬСТРОЙ', 'ДЕРЕВНЯ СТАРАЯ',\n",
       "       'ДЕРЕВНЯ ЛЕСКОЛОВО', 'ПОСЁЛОК НОВЫЙ СВЕТ', 'СЛАНЦЫ',\n",
       "       'СЕЛО ПУТИЛОВО', 'ИВАНГОРОД', 'МУРИНО', 'ШЛИССЕЛЬБУРГ',\n",
       "       'НИКОЛЬСКОЕ', 'ЗЕЛЕНОГОРСК', 'СОСНОВЫЙ БОР', 'ПОСЕЛОК НОВЫЙ СВЕТ',\n",
       "       'ДЕРЕВНЯ ОРЖИЦЫ', 'ДЕРЕВНЯ КАЛЬТИНО', 'КУДРОВО',\n",
       "       'ПОСЕЛОК РОМАНОВКА', 'ПОСЁЛОК БУГРЫ', 'ПОСЕЛОК БУГРЫ',\n",
       "       'ПОСЕЛОК ГОРОДСКОГО ТИПА РОЩИНО', 'КИРИШИ', 'ЛУГА', 'ВОЛОСОВО',\n",
       "       'ОТРАДНОЕ', 'СЕЛО ПАВЛОВО', 'ПОСЕЛОК ОРЕДЕЖ', 'СЕЛО КОПОРЬЕ',\n",
       "       'ПОСЁЛОК ГОРОДСКОГО ТИПА КРАСНЫЙ БОР', 'ПОСЁЛОК МОЛОДЁЖНОЕ',\n",
       "       'ТИХВИН', 'ПОСЁЛОК ПОБЕДА', 'ДЕРЕВНЯ НУРМА',\n",
       "       'ПОСЕЛОК ГОРОДСКОГО ТИПА СИНЯВИНО', 'ТОСНО',\n",
       "       'ПОСЁЛОК ГОРОДСКОГО ТИПА КУЗЬМОЛОВСКИЙ', 'ПОСЁЛОК СТРЕЛЬНА',\n",
       "       'БОКСИТОГОРСК', 'ПОСЁЛОК АЛЕКСАНДРОВСКАЯ', 'ДЕРЕВНЯ ЛОПУХИНКА',\n",
       "       'ПИКАЛЁВО', 'ПОСЕЛОК ТЕРВОЛОВО',\n",
       "       'ПОСЕЛОК ГОРОДСКОГО ТИПА СОВЕТСКИЙ', 'ПОДПОРОЖЬЕ',\n",
       "       'ПОСЁЛОК ПЕТРОВСКОЕ', 'ПОСЁЛОК ГОРОДСКОГО ТИПА ТОКСОВО',\n",
       "       'ПОСЕЛОК СЕЛЬЦО', 'ПОСЁЛОК ГОРОДСКОГО ТИПА ВЫРИЦА',\n",
       "       'ДЕРЕВНЯ КИПЕНЬ', 'ДЕРЕВНЯ КЕЛОЗИ', 'ДЕРЕВНЯ ВАРТЕМЯГИ',\n",
       "       'ПОСЁЛОК ТЕЛЬМАНА', 'ПОСЕЛОК СЕВАСТЬЯНОВО',\n",
       "       'ГОРОДСКОЙ ПОСЕЛОК БОЛЬШАЯ ИЖОРА', 'ГОРОДСКОЙ ПОСЁЛОК ПАВЛОВО',\n",
       "       'ДЕРЕВНЯ АГАЛАТОВО', 'ПОСЁЛОК НОВОГОРЕЛОВО',\n",
       "       'ГОРОДСКОЙ ПОСЁЛОК ЛЕСОГОРСКИЙ', 'ДЕРЕВНЯ ЛАГОЛОВО',\n",
       "       'ПОСЕЛОК ЦВЕЛОДУБОВО', 'ПОСЕЛОК ГОРОДСКОГО ТИПА РАХЬЯ',\n",
       "       'ПОСЕЛОК ГОРОДСКОГО ТИПА ВЫРИЦА', 'ДЕРЕВНЯ БЕЛОГОРКА',\n",
       "       'ПОСЕЛОК ЗАВОДСКОЙ', 'ГОРОДСКОЙ ПОСЁЛОК НОВОСЕЛЬЕ',\n",
       "       'ДЕРЕВНЯ БОЛЬШИЕ КОЛПАНЫ', 'ДЕРЕВНЯ ГОРБУНКИ', 'ДЕРЕВНЯ БАТОВО',\n",
       "       'ДЕРЕВНЯ ЗАНЕВКА', 'ДЕРЕВНЯ ИССАД', 'ПРИМОРСК',\n",
       "       'ГОРОДСКОЙ ПОСЁЛОК ФЁДОРОВСКОЕ', 'ДЕРЕВНЯ МИСТОЛОВО',\n",
       "       'НОВАЯ ЛАДОГА', 'ПОСЕЛОК ЗИМИТИЦЫ', 'ПОСЕЛОК БАРЫШЕВО',\n",
       "       'ДЕРЕВНЯ РАЗМЕТЕЛЕВО', 'ПОСЕЛОК ГОРОДСКОГО ТИПА ИМЕНИ СВЕРДЛОВА',\n",
       "       'ДЕРЕВНЯ ПЕНИКИ', 'ПОСЕЛОК РЯБОВО', 'ДЕРЕВНЯ ПУДОМЯГИ',\n",
       "       'ПОСЕЛОК СТАНЦИИ КОРНЕВО', 'ДЕРЕВНЯ НИЗИНО', 'ДЕРЕВНЯ БЕГУНИЦЫ',\n",
       "       'ПОСЁЛОК ПОЛЯНЫ', 'ГОРОДСКОЙ ПОСЁЛОК МГА', 'ПОСЕЛОК ЕЛИЗАВЕТИНО',\n",
       "       'ПОСЁЛОК ГОРОДСКОГО ТИПА КУЗНЕЧНОЕ', 'ДЕРЕВНЯ КОЛТУШИ',\n",
       "       'ПОСЕЛОК ЗАПОРОЖСКОЕ', 'ПОСЁЛОК ГОРОДСКОГО ТИПА РОЩИНО',\n",
       "       'ДЕРЕВНЯ ГОСТИЛИЦЫ', 'ДЕРЕВНЯ МАЛОЕ КАРЛИНО',\n",
       "       'ПОСЁЛОК МИЧУРИНСКОЕ', 'ПОСЁЛОК ГОРОДСКОГО ТИПА ИМЕНИ МОРОЗОВА',\n",
       "       'ПОСЁЛОК ПЕСОЧНЫЙ', 'ПОСЁЛОК СОСНОВО', 'ДЕРЕВНЯ АРО',\n",
       "       'ПОСЕЛОК ИЛЬИЧЁВО', 'ПОСЁЛОК ГОРОДСКОГО ТИПА ТАЙЦЫ',\n",
       "       'ДЕРЕВНЯ МАЛОЕ ВЕРЕВО', 'ДЕРЕВНЯ ИЗВАРА', 'ПОСЕЛОК СТАНЦИИ ВЕЩЕВО',\n",
       "       'СЕЛО ПАША', 'ДЕРЕВНЯ КАЛИТИНО',\n",
       "       'ПОСЁЛОК ГОРОДСКОГО ТИПА УЛЬЯНОВКА', 'ДЕРЕВНЯ ЧУДСКОЙ БОР',\n",
       "       'ПОСЕЛОК ГОРОДСКОГО ТИПА ДУБРОВКА', 'ДЕРЕВНЯ МИНЫ',\n",
       "       'ПОСЕЛОК ВОЙСКОВИЦЫ', 'ПОСЁЛОК ГОРОДСКОГО ТИПА ИМЕНИ СВЕРДЛОВА',\n",
       "       'ДЕРЕВНЯ КОРКИНО', 'ПОСЁЛОК РОПША',\n",
       "       'ПОСЕЛОК ГОРОДСКОГО ТИПА ПРИЛАДОЖСКИЙ', 'ПОСЁЛОК ЩЕГЛОВО',\n",
       "       'ПОСЁЛОК ГАВРИЛОВО', 'ЛОДЕЙНОЕ ПОЛЕ', 'ДЕРЕВНЯ РАБИТИЦЫ',\n",
       "       'ПОСЕЛОК ГОРОДСКОГО ТИПА НИКОЛЬСКИЙ', 'ДЕРЕВНЯ КУЗЬМОЛОВО',\n",
       "       'ДЕРЕВНЯ МАЛЫЕ КОЛПАНЫ', 'ПОСЕЛОК ТЕЛЬМАНА',\n",
       "       'ПОСЁЛОК ПЕТРО-СЛАВЯНКА', 'ГОРОДСКОЙ ПОСЁЛОК НАЗИЯ',\n",
       "       'ПОСЁЛОК РЕПИНО', 'ПОСЁЛОК ИЛЬИЧЁВО', 'ПОСЕЛОК УГЛОВО',\n",
       "       'ПОСЕЛОК СТАРАЯ МАЛУКСА', 'САДОВОЕ ТОВАРИЩЕСТВО РАХЬЯ',\n",
       "       'ПОСЕЛОК АННИНО', 'ПОСЕЛОК ПОБЕДА', 'ДЕРЕВНЯ МЕНЬКОВО',\n",
       "       'ДЕРЕВНЯ СТАРЫЕ БЕГУНИЦЫ', 'ПОСЁЛОК САПЁРНЫЙ', 'ПОСЕЛОК СЕМРИНО',\n",
       "       'ПОСЕЛОК ГАВРИЛОВО', 'ПОСЕЛОК ГЛАЖЕВО', 'ПОСЕЛОК КОБРИНСКОЕ',\n",
       "       'ДЕРЕВНЯ ГАРБОЛОВО', 'ДЕРЕВНЯ ЮККИ',\n",
       "       'ПОСЕЛОК СТАНЦИИ ПРИВЕТНИНСКОЕ', 'ДЕРЕВНЯ МАНУЙЛОВО',\n",
       "       'ДЕРЕВНЯ ПЧЕВА', 'ПОСЕЛОК ПОЛЯНЫ', 'ПОСЕЛОК ЦВЫЛЁВО',\n",
       "       'ПОСЕЛОК МЕЛЬНИКОВО', 'ПОСЁЛОК ПУДОСТЬ', 'ПОСЁЛОК УСТЬ-ЛУГА',\n",
       "       'СВЕТОГОРСК', 'ЛЮБАНЬ', 'ПОСЕЛОК СЕЛЕЗНЁВО',\n",
       "       'ПОСЕЛОК ГОРОДСКОГО ТИПА РЯБОВО', 'КАМЕННОГОРСК', 'ДЕРЕВНЯ КРИВКО',\n",
       "       'ПОСЕЛОК ГЛЕБЫЧЕВО', 'ДЕРЕВНЯ ПАРИЦЫ', 'ПОСЕЛОК ЖИЛПОСЁЛОК',\n",
       "       'ПОСЁЛОК ГОРОДСКОГО ТИПА МГА', 'ГОРОДСКОЙ ПОСЕЛОК ЯНИНО-1',\n",
       "       'ПОСЁЛОК ВОЙСКОРОВО', 'СЕЛО НИКОЛЬСКОЕ', 'ПОСЁЛОК ТЕРВОЛОВО',\n",
       "       'ПОСЕЛОК СТЕКЛЯННЫЙ', 'ПОСЁЛОК ГОРОДСКОГО ТИПА ВАЖИНЫ',\n",
       "       'ПОСЁЛОК МЫЗА-ИВАНОВКА', 'СЕЛО РУССКО-ВЫСОЦКОЕ',\n",
       "       'ПОСЕЛОК ГОРОДСКОГО ТИПА ЛЕБЯЖЬЕ',\n",
       "       'ПОСЕЛОК ГОРОДСКОГО ТИПА ФОРНОСОВО', 'СЕЛО СТАРАЯ ЛАДОГА',\n",
       "       'ПОСЕЛОК ЖИТКОВО', 'ГОРОДСКОЙ ПОСЁЛОК ВИЛЛОЗИ', 'ДЕРЕВНЯ ЛАМПОВО',\n",
       "       'ДЕРЕВНЯ ШПАНЬКОВО', 'ДЕРЕВНЯ ЛАВРИКИ', 'ПОСЁЛОК СУМИНО',\n",
       "       'ПОСЁЛОК ВОЗРОЖДЕНИЕ', 'ДЕРЕВНЯ СТАРОСИВЕРСКАЯ',\n",
       "       'ПОСЁЛОК КИКЕРИНО', 'ПОСЕЛОК ВОЗРОЖДЕНИЕ',\n",
       "       'ДЕРЕВНЯ СТАРОЕ ХИНКОЛОВО', 'ПОСЁЛОК ПРИГОРОДНЫЙ',\n",
       "       'ПОСЁЛОК ТОРФЯНОЕ', 'ГОРОДСКОЙ ПОСЁЛОК БУДОГОЩЬ',\n",
       "       'ПОСЕЛОК СУХОДОЛЬЕ', 'ПОСЕЛОК КРАСНАЯ ДОЛИНА', 'ДЕРЕВНЯ ХАПО-ОЕ',\n",
       "       'ПОСЕЛОК ГОРОДСКОГО ТИПА ДРУЖНАЯ ГОРКА', 'ПОСЕЛОК ЛИСИЙ НОС',\n",
       "       'ДЕРЕВНЯ ЯЛЬГЕЛЕВО', 'ПОСЁЛОК СТЕКЛЯННЫЙ', 'СЕЛО РОЖДЕСТВЕНО',\n",
       "       'ДЕРЕВНЯ СТАРОПОЛЬЕ', 'ПОСЁЛОК ЛЕВАШОВО', 'ДЕРЕВНЯ СЯСЬКЕЛЕВО',\n",
       "       'ДЕРЕВНЯ КАМЫШОВКА',\n",
       "       'САДОВОДЧЕСКОЕ НЕКОММЕРЧЕСКОЕ ТОВАРИЩЕСТВО ЛЕСНАЯ ПОЛЯНА',\n",
       "       'ДЕРЕВНЯ ХЯЗЕЛЬКИ', 'ПОСЕЛОК ЖИЛГОРОДОК',\n",
       "       'ПОСЁЛОК ГОРОДСКОГО ТИПА ПАВЛОВО', 'ДЕРЕВНЯ ЯЛГИНО',\n",
       "       'ПОСЕЛОК НОВЫЙ УЧХОЗ', 'ГОРОДСКОЙ ПОСЁЛОК РОЩИНО',\n",
       "       'ПОСЕЛОК ГОНЧАРОВО', 'ПОСЕЛОК ПОЧАП', 'ПОСЁЛОК САПЁРНОЕ',\n",
       "       'ПОСЁЛОК ПЛАТФОРМА 69-Й КИЛОМЕТР', 'ПОСЕЛОК КАЛОЖИЦЫ',\n",
       "       'ДЕРЕВНЯ ФАЛИЛЕЕВО', 'ДЕРЕВНЯ ПЕЛЬГОРА',\n",
       "       'ПОСЕЛОК ГОРОДСКОГО ТИПА ЛЕСОГОРСКИЙ', 'ДЕРЕВНЯ ТОРОШКОВИЧИ',\n",
       "       'ПОСЁЛОК БЕЛООСТРОВ', 'ПОСЁЛОК АЛЕКСЕЕВКА', 'ПОСЕЛОК СЕРЕБРЯНСКИЙ',\n",
       "       'ПОСЕЛОК ЛУКАШИ', 'ПОСЕЛОК ПЕТРОВСКОЕ', 'ДЕРЕВНЯ ЩЕГЛОВО',\n",
       "       'ПОСЕЛОК МИЧУРИНСКОЕ', 'ДЕРЕВНЯ ТАРАСОВО', 'ПОСЕЛОК КИНГИСЕППСКИЙ',\n",
       "       'ПОСЁЛОК ПРИ ЖЕЛЕЗНОДОРОЖНОЙ СТАНЦИИ ВЕЩЕВО', 'ПОСЕЛОК УШАКИ',\n",
       "       'ДЕРЕВНЯ КОТЛЫ', 'ДЕРЕВНЯ СИЖНО', 'ДЕРЕВНЯ ТОРОСОВО',\n",
       "       'ПОСЁЛОК ФОРТ КРАСНАЯ ГОРКА', 'ПОСЕЛОК ГОРОДСКОГО ТИПА ТОКСОВО',\n",
       "       'ДЕРЕВНЯ НОВОЛИСИНО', 'ПОСЁЛОК СТАНЦИИ ГРОМОВО', 'ДЕРЕВНЯ ГЛИНКА',\n",
       "       'ПОСЁЛОК МЕЛЬНИКОВО', 'ПОСЕЛОК ГОРОДСКОГО ТИПА НАЗИЯ',\n",
       "       'ДЕРЕВНЯ СТАРАЯ ПУСТОШЬ', 'ПОСЕЛОК КОММУНАРЫ', 'ПОСЕЛОК ПОЧИНОК',\n",
       "       'ПОСЁЛОК ГОРОДСКОГО ТИПА ВОЗНЕСЕНЬЕ', 'ДЕРЕВНЯ РАЗБЕГАЕВО',\n",
       "       'ПОСЁЛОК ГОРОДСКОГО ТИПА РЯБОВО', 'ПОСЕЛОК ГЛАДКОЕ',\n",
       "       'ПОСЁЛОК ПРИ ЖЕЛЕЗНОДОРОЖНОЙ СТАНЦИИ ПРИВЕТНИНСКОЕ',\n",
       "       'ПОСЕЛОК ТЁСОВО-4', 'ПОСЁЛОК ЖИЛГОРОДОК', 'ДЕРЕВНЯ БОР',\n",
       "       'ПОСЁЛОК КОРОБИЦЫНО', 'ДЕРЕВНЯ БОЛЬШАЯ ВРУДА', 'ДЕРЕВНЯ КУРКОВИЦЫ',\n",
       "       'ПОСЁЛОК ЛИСИЙ НОС', 'ГОРОДСКОЙ ПОСЁЛОК СОВЕТСКИЙ',\n",
       "       'ПОСЁЛОК КОБРАЛОВО', 'ДЕРЕВНЯ СУОРАНДА', 'ПОСЕЛОК КОБРАЛОВО',\n",
       "       'ПОСЕЛОК ГОРОДСКОГО ТИПА КОНДРАТЬЕВО',\n",
       "       'КОТТЕДЖНЫЙ ПОСЕЛОК СЧАСТЬЕ', 'ПОСЕЛОК ЛЮБАНЬ', 'ДЕРЕВНЯ РЕБРОВО',\n",
       "       'ДЕРЕВНЯ ЗИМИТИЦЫ', 'ДЕРЕВНЯ ТОЙВОРОВО', 'ПОСЕЛОК СЕМИОЗЕРЬЕ',\n",
       "       'ПОСЕЛОК ЛЕСНОЕ', 'ПОСЕЛОК СОВХОЗНЫЙ', 'ПОСЕЛОК УСТЬ-ЛУГА',\n",
       "       'ПОСЁЛОК ЛЕНИНСКОЕ', 'ПОСЁЛОК СУЙДА',\n",
       "       'ПОСЁЛОК ГОРОДСКОГО ТИПА ФОРНОСОВО', 'ДЕРЕВНЯ НИЖНИЕ ОСЕЛЬКИ',\n",
       "       'ПОСЁЛОК СТАНЦИИ СВИРЬ', 'ПОСЕЛОК ПЕРОВО', 'ВЫСОЦК',\n",
       "       'ПОСЕЛОК ГАРБОЛОВО', 'СЕЛО ШУМ', 'ПОСЕЛОК КОТЕЛЬСКИЙ',\n",
       "       'ПОСЕЛОК СТАНЦИИ ЛУЖАЙКА', 'ДЕРЕВНЯ БОЛЬШАЯ ПУСТОМЕРЖА',\n",
       "       'ПОСЕЛОК КРАСНОСЕЛЬСКОЕ', 'ДЕРЕВНЯ ВАХНОВА КАРА', 'ДЕРЕВНЯ ПИЖМА',\n",
       "       'КОТТЕДЖНЫЙ ПОСЕЛОК КИВЕННАПА СЕВЕР', 'ПОСЕЛОК КОРОБИЦЫНО',\n",
       "       'ПОСЕЛОК РОМАШКИ', 'ПОСЁЛОК ПЕРОВО', 'ДЕРЕВНЯ КАСЬКОВО',\n",
       "       'ДЕРЕВНЯ КУРОВИЦЫ', 'ПОСЁЛОК ПЛОСКОЕ', 'ПОСЕЛОК СУМИНО',\n",
       "       'ПОСЕЛОК ГОРОДСКОГО ТИПА БОЛЬШАЯ ИЖОРА', 'ПОСЕЛОК КИРПИЧНОЕ',\n",
       "       'ДЕРЕВНЯ ЯМ-ТЕСОВО', 'ДЕРЕВНЯ РАЗДОЛЬЕ', 'ДЕРЕВНЯ ТЕРПИЛИЦЫ',\n",
       "       'ПОСЁЛОК ШУГОЗЕРО', 'ДЕРЕВНЯ ВАГАНОВО', 'ПОСЕЛОК ПУШНОЕ',\n",
       "       'САДОВОЕ ТОВАРИЩЕСТВО САДКО', 'ПОСЁЛОК УСТЬ-ИЖОРА',\n",
       "       'ДЕРЕВНЯ ВЫСКАТКА', 'ГОРОДСКОЙ ПОСЁЛОК СВИРЬСТРОЙ',\n",
       "       'ПОСЕЛОК ГРОМОВО', 'ДЕРЕВНЯ КИСЕЛЬНЯ', 'ПОСЁЛОК СТАРАЯ МАЛУКСА',\n",
       "       'ДЕРЕВНЯ ТРУБНИКОВ БОР', 'ПОСЕЛОК КАЛИТИНО',\n",
       "       'ПОСЁЛОК ВЫСОКОКЛЮЧЕВОЙ', 'САДОВОЕ ТОВАРИЩЕСТВО ПРИЛАДОЖСКИЙ',\n",
       "       'ПОСЁЛОК ПАНСИОНАТ ЗЕЛЁНЫЙ БОР', 'ДЕРЕВНЯ НЕНИМЯКИ',\n",
       "       'ПОСЕЛОК ПАНСИОНАТ ЗЕЛЁНЫЙ БОР', 'ДЕРЕВНЯ СНЕГИРЁВКА',\n",
       "       'ДЕРЕВНЯ РАППОЛОВО', 'ДЕРЕВНЯ ПУСТЫНКА', 'ПОСЕЛОК РАБИТИЦЫ',\n",
       "       'ДЕРЕВНЯ БОЛЬШОЙ САБСК', 'ДЕРЕВНЯ РУССКО', 'ДЕРЕВНЯ ЛУППОЛОВО',\n",
       "       'ДЕРЕВНЯ БОЛЬШОЕ РЕЙЗИНО', 'ДЕРЕВНЯ МАЛАЯ РОМАНОВКА',\n",
       "       'ПОСЕЛОК ДРУЖНОСЕЛЬЕ', 'ПОСЕЛОК ПЧЕВЖА', 'ПОСЕЛОК ВОЛОДАРСКОЕ',\n",
       "       'ДЕРЕВНЯ НИЖНЯЯ', 'КОТТЕДЖНЫЙ ПОСЁЛОК ЛЕСНОЕ', 'ДЕРЕВНЯ ТИХКОВИЦЫ',\n",
       "       'ДЕРЕВНЯ БОРИСОВА ГРИВА', 'ПОСЁЛОК ДЗЕРЖИНСКОГО'], dtype=object)"
      ]
     },
     "execution_count": 66,
     "metadata": {},
     "output_type": "execute_result"
    }
   ],
   "source": [
    "data['locality_name'].unique()"
   ]
  },
  {
   "cell_type": "code",
   "execution_count": 67,
   "metadata": {},
   "outputs": [
    {
     "data": {
      "text/plain": [
       "364"
      ]
     },
     "execution_count": 67,
     "metadata": {},
     "output_type": "execute_result"
    }
   ],
   "source": [
    "len(data['locality_name'].unique())"
   ]
  },
  {
   "cell_type": "markdown",
   "metadata": {},
   "source": [
    "Выведем список уникальных записей столбца, почситаем и визуально изучим их. Записей 365. Основные повторяющиеся наименования в названиях населенных пунктов:\n",
    "- ПОСЕЛОК\n",
    "- ПОСЁЛОК\n",
    "- ДЕРЕВНЯ\n",
    "- ПОСЕЛОК ГОРОДСКОГО ТИПА\n",
    "- ПОСЁЛОК ГОРОДСКОГО ТИПА\n",
    "- СЕЛО (с пробелом в конце, т.к. есть населенный пункт КРАСНОЕ СЕЛО)\n",
    "- ГОРОДСКОЙ ПОСЕЛОК\n",
    "- ГОРОДСКОЙ ПОСЁЛОК\n",
    "- САДОВОЕ ТОВАРИЩЕСТВО\n",
    "- САДОВОДЧЕСКОЕ НЕКОММЕРЧЕСКОЕ ТОВАРИЩЕСТВО\n",
    "- ПОСЁЛОК ПРИ ЖЕЛЕЗНОДОРОЖНОЙ СТАНЦИИ\n",
    "- ПОСЕЛОК ПРИ ЖЕЛЕЗНОДОРОЖНОЙ СТАНЦИИ\n",
    "- КОТТЕДЖНЫЙ ПОСЁЛОК\n",
    "- КОТТЕДЖНЫЙ ПОСЕЛОК\n",
    "Также в названиях встречается по несколько пробелов, которые также препятствуют унификации. Сначала заменим везде многократно встречающиеся пробелы на один пробел."
   ]
  },
  {
   "cell_type": "code",
   "execution_count": 68,
   "metadata": {},
   "outputs": [],
   "source": [
    "locality_list = list(data['locality_name'].unique())"
   ]
  },
  {
   "cell_type": "markdown",
   "metadata": {},
   "source": [
    "Создадим оригинальный список унифицированных объектов."
   ]
  },
  {
   "cell_type": "code",
   "execution_count": 69,
   "metadata": {},
   "outputs": [
    {
     "data": {
      "text/plain": [
       "['САНКТ-ПЕТЕРБУРГ',\n",
       " 'ПОСЁЛОК ШУШАРЫ',\n",
       " 'ГОРОДСКОЙ ПОСЁЛОК ЯНИНО-1',\n",
       " 'ПОСЁЛОК ПАРГОЛОВО',\n",
       " 'ПОСЁЛОК МУРИНО',\n",
       " 'ЛОМОНОСОВ',\n",
       " 'СЕРТОЛОВО',\n",
       " 'ПЕТЕРГОФ',\n",
       " 'ПУШКИН',\n",
       " 'ДЕРЕВНЯ КУДРОВО',\n",
       " 'КОММУНАР',\n",
       " 'КОЛПИНО',\n",
       " 'ПОСЕЛОК ГОРОДСКОГО ТИПА КРАСНЫЙ БОР',\n",
       " 'ГАТЧИНА',\n",
       " 'ПОСЕЛОК МУРИНО',\n",
       " 'ДЕРЕВНЯ ФЁДОРОВСКОЕ',\n",
       " 'ВЫБОРГ',\n",
       " 'КРОНШТАДТ',\n",
       " 'КИРОВСК',\n",
       " 'ДЕРЕВНЯ НОВОЕ ДЕВЯТКИНО',\n",
       " 'ПОСЁЛОК МЕТАЛЛОСТРОЙ',\n",
       " 'ПОСЁЛОК ГОРОДСКОГО ТИПА ЛЕБЯЖЬЕ',\n",
       " 'ПОСЁЛОК ГОРОДСКОГО ТИПА СИВЕРСКИЙ',\n",
       " 'ПОСЕЛОК МОЛОДЦОВО',\n",
       " 'ПОСЕЛОК ГОРОДСКОГО ТИПА КУЗЬМОЛОВСКИЙ',\n",
       " 'САДОВОЕ ТОВАРИЩЕСТВО НОВАЯ РОПША',\n",
       " 'ПАВЛОВСК',\n",
       " 'ДЕРЕВНЯ ПИККОЛОВО',\n",
       " 'ВСЕВОЛОЖСК',\n",
       " 'ВОЛХОВ',\n",
       " 'КИНГИСЕПП',\n",
       " 'ПРИОЗЕРСК',\n",
       " 'СЕСТРОРЕЦК',\n",
       " 'ДЕРЕВНЯ КУТТУЗИ',\n",
       " 'ПОСЁЛОК АННИНО',\n",
       " 'ПОСЕЛОК ГОРОДСКОГО ТИПА ЕФИМОВСКИЙ',\n",
       " 'ПОСЁЛОК ПЛОДОВОЕ',\n",
       " 'ДЕРЕВНЯ ЗАКЛИНЬЕ',\n",
       " 'ПОСЕЛОК ТОРКОВИЧИ',\n",
       " 'ПОСЕЛОК ПЕРВОМАЙСКОЕ',\n",
       " 'КРАСНОЕ СЕЛО',\n",
       " 'ПОСЁЛОК ПОНТОННЫЙ',\n",
       " 'СЯСЬСТРОЙ',\n",
       " 'ДЕРЕВНЯ СТАРАЯ',\n",
       " 'ДЕРЕВНЯ ЛЕСКОЛОВО',\n",
       " 'ПОСЁЛОК НОВЫЙ СВЕТ',\n",
       " 'СЛАНЦЫ',\n",
       " 'СЕЛО ПУТИЛОВО',\n",
       " 'ИВАНГОРОД',\n",
       " 'МУРИНО',\n",
       " 'ШЛИССЕЛЬБУРГ',\n",
       " 'НИКОЛЬСКОЕ',\n",
       " 'ЗЕЛЕНОГОРСК',\n",
       " 'СОСНОВЫЙ БОР',\n",
       " 'ПОСЕЛОК НОВЫЙ СВЕТ',\n",
       " 'ДЕРЕВНЯ ОРЖИЦЫ',\n",
       " 'ДЕРЕВНЯ КАЛЬТИНО',\n",
       " 'КУДРОВО',\n",
       " 'ПОСЕЛОК РОМАНОВКА',\n",
       " 'ПОСЁЛОК БУГРЫ',\n",
       " 'ПОСЕЛОК БУГРЫ',\n",
       " 'ПОСЕЛОК ГОРОДСКОГО ТИПА РОЩИНО',\n",
       " 'КИРИШИ',\n",
       " 'ЛУГА',\n",
       " 'ВОЛОСОВО',\n",
       " 'ОТРАДНОЕ',\n",
       " 'СЕЛО ПАВЛОВО',\n",
       " 'ПОСЕЛОК ОРЕДЕЖ',\n",
       " 'СЕЛО КОПОРЬЕ',\n",
       " 'ПОСЁЛОК ГОРОДСКОГО ТИПА КРАСНЫЙ БОР',\n",
       " 'ПОСЁЛОК МОЛОДЁЖНОЕ',\n",
       " 'ТИХВИН',\n",
       " 'ПОСЁЛОК ПОБЕДА',\n",
       " 'ДЕРЕВНЯ НУРМА',\n",
       " 'ПОСЕЛОК ГОРОДСКОГО ТИПА СИНЯВИНО',\n",
       " 'ТОСНО',\n",
       " 'ПОСЁЛОК ГОРОДСКОГО ТИПА КУЗЬМОЛОВСКИЙ',\n",
       " 'ПОСЁЛОК СТРЕЛЬНА',\n",
       " 'БОКСИТОГОРСК',\n",
       " 'ПОСЁЛОК АЛЕКСАНДРОВСКАЯ',\n",
       " 'ДЕРЕВНЯ ЛОПУХИНКА',\n",
       " 'ПИКАЛЁВО',\n",
       " 'ПОСЕЛОК ТЕРВОЛОВО',\n",
       " 'ПОСЕЛОК ГОРОДСКОГО ТИПА СОВЕТСКИЙ',\n",
       " 'ПОДПОРОЖЬЕ',\n",
       " 'ПОСЁЛОК ПЕТРОВСКОЕ',\n",
       " 'ПОСЁЛОК ГОРОДСКОГО ТИПА ТОКСОВО',\n",
       " 'ПОСЕЛОК СЕЛЬЦО',\n",
       " 'ПОСЁЛОК ГОРОДСКОГО ТИПА ВЫРИЦА',\n",
       " 'ДЕРЕВНЯ КИПЕНЬ',\n",
       " 'ДЕРЕВНЯ КЕЛОЗИ',\n",
       " 'ДЕРЕВНЯ ВАРТЕМЯГИ',\n",
       " 'ПОСЁЛОК ТЕЛЬМАНА',\n",
       " 'ПОСЕЛОК СЕВАСТЬЯНОВО',\n",
       " 'ГОРОДСКОЙ ПОСЕЛОК БОЛЬШАЯ ИЖОРА',\n",
       " 'ГОРОДСКОЙ ПОСЁЛОК ПАВЛОВО',\n",
       " 'ДЕРЕВНЯ АГАЛАТОВО',\n",
       " 'ПОСЁЛОК НОВОГОРЕЛОВО',\n",
       " 'ГОРОДСКОЙ ПОСЁЛОК ЛЕСОГОРСКИЙ',\n",
       " 'ДЕРЕВНЯ ЛАГОЛОВО',\n",
       " 'ПОСЕЛОК ЦВЕЛОДУБОВО',\n",
       " 'ПОСЕЛОК ГОРОДСКОГО ТИПА РАХЬЯ',\n",
       " 'ПОСЕЛОК ГОРОДСКОГО ТИПА ВЫРИЦА',\n",
       " 'ДЕРЕВНЯ БЕЛОГОРКА',\n",
       " 'ПОСЕЛОК ЗАВОДСКОЙ',\n",
       " 'ГОРОДСКОЙ ПОСЁЛОК НОВОСЕЛЬЕ',\n",
       " 'ДЕРЕВНЯ БОЛЬШИЕ КОЛПАНЫ',\n",
       " 'ДЕРЕВНЯ ГОРБУНКИ',\n",
       " 'ДЕРЕВНЯ БАТОВО',\n",
       " 'ДЕРЕВНЯ ЗАНЕВКА',\n",
       " 'ДЕРЕВНЯ ИССАД',\n",
       " 'ПРИМОРСК',\n",
       " 'ГОРОДСКОЙ ПОСЁЛОК ФЁДОРОВСКОЕ',\n",
       " 'ДЕРЕВНЯ МИСТОЛОВО',\n",
       " 'НОВАЯ ЛАДОГА',\n",
       " 'ПОСЕЛОК ЗИМИТИЦЫ',\n",
       " 'ПОСЕЛОК БАРЫШЕВО',\n",
       " 'ДЕРЕВНЯ РАЗМЕТЕЛЕВО',\n",
       " 'ПОСЕЛОК ГОРОДСКОГО ТИПА ИМЕНИ СВЕРДЛОВА',\n",
       " 'ДЕРЕВНЯ ПЕНИКИ',\n",
       " 'ПОСЕЛОК РЯБОВО',\n",
       " 'ДЕРЕВНЯ ПУДОМЯГИ',\n",
       " 'ПОСЕЛОК СТАНЦИИ КОРНЕВО',\n",
       " 'ДЕРЕВНЯ НИЗИНО',\n",
       " 'ДЕРЕВНЯ БЕГУНИЦЫ',\n",
       " 'ПОСЁЛОК ПОЛЯНЫ',\n",
       " 'ГОРОДСКОЙ ПОСЁЛОК МГА',\n",
       " 'ПОСЕЛОК ЕЛИЗАВЕТИНО',\n",
       " 'ПОСЁЛОК ГОРОДСКОГО ТИПА КУЗНЕЧНОЕ',\n",
       " 'ДЕРЕВНЯ КОЛТУШИ',\n",
       " 'ПОСЕЛОК ЗАПОРОЖСКОЕ',\n",
       " 'ПОСЁЛОК ГОРОДСКОГО ТИПА РОЩИНО',\n",
       " 'ДЕРЕВНЯ ГОСТИЛИЦЫ',\n",
       " 'ДЕРЕВНЯ МАЛОЕ КАРЛИНО',\n",
       " 'ПОСЁЛОК МИЧУРИНСКОЕ',\n",
       " 'ПОСЁЛОК ГОРОДСКОГО ТИПА ИМЕНИ МОРОЗОВА',\n",
       " 'ПОСЁЛОК ПЕСОЧНЫЙ',\n",
       " 'ПОСЁЛОК СОСНОВО',\n",
       " 'ДЕРЕВНЯ АРО',\n",
       " 'ПОСЕЛОК ИЛЬИЧЁВО',\n",
       " 'ПОСЁЛОК ГОРОДСКОГО ТИПА ТАЙЦЫ',\n",
       " 'ДЕРЕВНЯ МАЛОЕ ВЕРЕВО',\n",
       " 'ДЕРЕВНЯ ИЗВАРА',\n",
       " 'ПОСЕЛОК СТАНЦИИ ВЕЩЕВО',\n",
       " 'СЕЛО ПАША',\n",
       " 'ДЕРЕВНЯ КАЛИТИНО',\n",
       " 'ПОСЁЛОК ГОРОДСКОГО ТИПА УЛЬЯНОВКА',\n",
       " 'ДЕРЕВНЯ ЧУДСКОЙ БОР',\n",
       " 'ПОСЕЛОК ГОРОДСКОГО ТИПА ДУБРОВКА',\n",
       " 'ДЕРЕВНЯ МИНЫ',\n",
       " 'ПОСЕЛОК ВОЙСКОВИЦЫ',\n",
       " 'ПОСЁЛОК ГОРОДСКОГО ТИПА ИМЕНИ СВЕРДЛОВА',\n",
       " 'ДЕРЕВНЯ КОРКИНО',\n",
       " 'ПОСЁЛОК РОПША',\n",
       " 'ПОСЕЛОК ГОРОДСКОГО ТИПА ПРИЛАДОЖСКИЙ',\n",
       " 'ПОСЁЛОК ЩЕГЛОВО',\n",
       " 'ПОСЁЛОК ГАВРИЛОВО',\n",
       " 'ЛОДЕЙНОЕ ПОЛЕ',\n",
       " 'ДЕРЕВНЯ РАБИТИЦЫ',\n",
       " 'ПОСЕЛОК ГОРОДСКОГО ТИПА НИКОЛЬСКИЙ',\n",
       " 'ДЕРЕВНЯ КУЗЬМОЛОВО',\n",
       " 'ДЕРЕВНЯ МАЛЫЕ КОЛПАНЫ',\n",
       " 'ПОСЕЛОК ТЕЛЬМАНА',\n",
       " 'ПОСЁЛОК ПЕТРО-СЛАВЯНКА',\n",
       " 'ГОРОДСКОЙ ПОСЁЛОК НАЗИЯ',\n",
       " 'ПОСЁЛОК РЕПИНО',\n",
       " 'ПОСЁЛОК ИЛЬИЧЁВО',\n",
       " 'ПОСЕЛОК УГЛОВО',\n",
       " 'ПОСЕЛОК СТАРАЯ МАЛУКСА',\n",
       " 'САДОВОЕ ТОВАРИЩЕСТВО РАХЬЯ',\n",
       " 'ПОСЕЛОК АННИНО',\n",
       " 'ПОСЕЛОК ПОБЕДА',\n",
       " 'ДЕРЕВНЯ МЕНЬКОВО',\n",
       " 'ДЕРЕВНЯ СТАРЫЕ БЕГУНИЦЫ',\n",
       " 'ПОСЁЛОК САПЁРНЫЙ',\n",
       " 'ПОСЕЛОК СЕМРИНО',\n",
       " 'ПОСЕЛОК ГАВРИЛОВО',\n",
       " 'ПОСЕЛОК ГЛАЖЕВО',\n",
       " 'ПОСЕЛОК КОБРИНСКОЕ',\n",
       " 'ДЕРЕВНЯ ГАРБОЛОВО',\n",
       " 'ДЕРЕВНЯ ЮККИ',\n",
       " 'ПОСЕЛОК СТАНЦИИ ПРИВЕТНИНСКОЕ',\n",
       " 'ДЕРЕВНЯ МАНУЙЛОВО',\n",
       " 'ДЕРЕВНЯ ПЧЕВА',\n",
       " 'ПОСЕЛОК ПОЛЯНЫ',\n",
       " 'ПОСЕЛОК ЦВЫЛЁВО',\n",
       " 'ПОСЕЛОК МЕЛЬНИКОВО',\n",
       " 'ПОСЁЛОК ПУДОСТЬ',\n",
       " 'ПОСЁЛОК УСТЬ-ЛУГА',\n",
       " 'СВЕТОГОРСК',\n",
       " 'ЛЮБАНЬ',\n",
       " 'ПОСЕЛОК СЕЛЕЗНЁВО',\n",
       " 'ПОСЕЛОК ГОРОДСКОГО ТИПА РЯБОВО',\n",
       " 'КАМЕННОГОРСК',\n",
       " 'ДЕРЕВНЯ КРИВКО',\n",
       " 'ПОСЕЛОК ГЛЕБЫЧЕВО',\n",
       " 'ДЕРЕВНЯ ПАРИЦЫ',\n",
       " 'ПОСЕЛОК ЖИЛПОСЁЛОК',\n",
       " 'ПОСЁЛОК ГОРОДСКОГО ТИПА МГА',\n",
       " 'ГОРОДСКОЙ ПОСЕЛОК ЯНИНО-1',\n",
       " 'ПОСЁЛОК ВОЙСКОРОВО',\n",
       " 'СЕЛО НИКОЛЬСКОЕ',\n",
       " 'ПОСЁЛОК ТЕРВОЛОВО',\n",
       " 'ПОСЕЛОК СТЕКЛЯННЫЙ',\n",
       " 'ПОСЁЛОК ГОРОДСКОГО ТИПА ВАЖИНЫ',\n",
       " 'ПОСЁЛОК МЫЗА-ИВАНОВКА',\n",
       " 'СЕЛО РУССКО-ВЫСОЦКОЕ',\n",
       " 'ПОСЕЛОК ГОРОДСКОГО ТИПА ЛЕБЯЖЬЕ',\n",
       " 'ПОСЕЛОК ГОРОДСКОГО ТИПА ФОРНОСОВО',\n",
       " 'СЕЛО СТАРАЯ ЛАДОГА',\n",
       " 'ПОСЕЛОК ЖИТКОВО',\n",
       " 'ГОРОДСКОЙ ПОСЁЛОК ВИЛЛОЗИ',\n",
       " 'ДЕРЕВНЯ ЛАМПОВО',\n",
       " 'ДЕРЕВНЯ ШПАНЬКОВО',\n",
       " 'ДЕРЕВНЯ ЛАВРИКИ',\n",
       " 'ПОСЁЛОК СУМИНО',\n",
       " 'ПОСЁЛОК ВОЗРОЖДЕНИЕ',\n",
       " 'ДЕРЕВНЯ СТАРОСИВЕРСКАЯ',\n",
       " 'ПОСЁЛОК КИКЕРИНО',\n",
       " 'ПОСЕЛОК ВОЗРОЖДЕНИЕ',\n",
       " 'ДЕРЕВНЯ СТАРОЕ ХИНКОЛОВО',\n",
       " 'ПОСЁЛОК ПРИГОРОДНЫЙ',\n",
       " 'ПОСЁЛОК ТОРФЯНОЕ',\n",
       " 'ГОРОДСКОЙ ПОСЁЛОК БУДОГОЩЬ',\n",
       " 'ПОСЕЛОК СУХОДОЛЬЕ',\n",
       " 'ПОСЕЛОК КРАСНАЯ ДОЛИНА',\n",
       " 'ДЕРЕВНЯ ХАПО-ОЕ',\n",
       " 'ПОСЕЛОК ГОРОДСКОГО ТИПА ДРУЖНАЯ ГОРКА',\n",
       " 'ПОСЕЛОК ЛИСИЙ НОС',\n",
       " 'ДЕРЕВНЯ ЯЛЬГЕЛЕВО',\n",
       " 'ПОСЁЛОК СТЕКЛЯННЫЙ',\n",
       " 'СЕЛО РОЖДЕСТВЕНО',\n",
       " 'ДЕРЕВНЯ СТАРОПОЛЬЕ',\n",
       " 'ПОСЁЛОК ЛЕВАШОВО',\n",
       " 'ДЕРЕВНЯ СЯСЬКЕЛЕВО',\n",
       " 'ДЕРЕВНЯ КАМЫШОВКА',\n",
       " 'САДОВОДЧЕСКОЕ НЕКОММЕРЧЕСКОЕ ТОВАРИЩЕСТВО ЛЕСНАЯ ПОЛЯНА',\n",
       " 'ДЕРЕВНЯ ХЯЗЕЛЬКИ',\n",
       " 'ПОСЕЛОК ЖИЛГОРОДОК',\n",
       " 'ПОСЁЛОК ГОРОДСКОГО ТИПА ПАВЛОВО',\n",
       " 'ДЕРЕВНЯ ЯЛГИНО',\n",
       " 'ПОСЕЛОК НОВЫЙ УЧХОЗ',\n",
       " 'ГОРОДСКОЙ ПОСЁЛОК РОЩИНО',\n",
       " 'ПОСЕЛОК ГОНЧАРОВО',\n",
       " 'ПОСЕЛОК ПОЧАП',\n",
       " 'ПОСЁЛОК САПЁРНОЕ',\n",
       " 'ПОСЁЛОК ПЛАТФОРМА 69-Й КИЛОМЕТР',\n",
       " 'ПОСЕЛОК КАЛОЖИЦЫ',\n",
       " 'ДЕРЕВНЯ ФАЛИЛЕЕВО',\n",
       " 'ДЕРЕВНЯ ПЕЛЬГОРА',\n",
       " 'ПОСЕЛОК ГОРОДСКОГО ТИПА ЛЕСОГОРСКИЙ',\n",
       " 'ДЕРЕВНЯ ТОРОШКОВИЧИ',\n",
       " 'ПОСЁЛОК БЕЛООСТРОВ',\n",
       " 'ПОСЁЛОК АЛЕКСЕЕВКА',\n",
       " 'ПОСЕЛОК СЕРЕБРЯНСКИЙ',\n",
       " 'ПОСЕЛОК ЛУКАШИ',\n",
       " 'ПОСЕЛОК ПЕТРОВСКОЕ',\n",
       " 'ДЕРЕВНЯ ЩЕГЛОВО',\n",
       " 'ПОСЕЛОК МИЧУРИНСКОЕ',\n",
       " 'ДЕРЕВНЯ ТАРАСОВО',\n",
       " 'ПОСЕЛОК КИНГИСЕППСКИЙ',\n",
       " 'ПОСЁЛОК ПРИ ЖЕЛЕЗНОДОРОЖНОЙ СТАНЦИИ ВЕЩЕВО',\n",
       " 'ПОСЕЛОК УШАКИ',\n",
       " 'ДЕРЕВНЯ КОТЛЫ',\n",
       " 'ДЕРЕВНЯ СИЖНО',\n",
       " 'ДЕРЕВНЯ ТОРОСОВО',\n",
       " 'ПОСЁЛОК ФОРТ КРАСНАЯ ГОРКА',\n",
       " 'ПОСЕЛОК ГОРОДСКОГО ТИПА ТОКСОВО',\n",
       " 'ДЕРЕВНЯ НОВОЛИСИНО',\n",
       " 'ПОСЁЛОК СТАНЦИИ ГРОМОВО',\n",
       " 'ДЕРЕВНЯ ГЛИНКА',\n",
       " 'ПОСЁЛОК МЕЛЬНИКОВО',\n",
       " 'ПОСЕЛОК ГОРОДСКОГО ТИПА НАЗИЯ',\n",
       " 'ДЕРЕВНЯ СТАРАЯ ПУСТОШЬ',\n",
       " 'ПОСЕЛОК КОММУНАРЫ',\n",
       " 'ПОСЕЛОК ПОЧИНОК',\n",
       " 'ПОСЁЛОК ГОРОДСКОГО ТИПА ВОЗНЕСЕНЬЕ',\n",
       " 'ДЕРЕВНЯ РАЗБЕГАЕВО',\n",
       " 'ПОСЁЛОК ГОРОДСКОГО ТИПА РЯБОВО',\n",
       " 'ПОСЕЛОК ГЛАДКОЕ',\n",
       " 'ПОСЁЛОК ПРИ ЖЕЛЕЗНОДОРОЖНОЙ СТАНЦИИ ПРИВЕТНИНСКОЕ',\n",
       " 'ПОСЕЛОК ТЁСОВО-4',\n",
       " 'ПОСЁЛОК ЖИЛГОРОДОК',\n",
       " 'ДЕРЕВНЯ БОР',\n",
       " 'ПОСЁЛОК КОРОБИЦЫНО',\n",
       " 'ДЕРЕВНЯ БОЛЬШАЯ ВРУДА',\n",
       " 'ДЕРЕВНЯ КУРКОВИЦЫ',\n",
       " 'ПОСЁЛОК ЛИСИЙ НОС',\n",
       " 'ГОРОДСКОЙ ПОСЁЛОК СОВЕТСКИЙ',\n",
       " 'ПОСЁЛОК КОБРАЛОВО',\n",
       " 'ДЕРЕВНЯ СУОРАНДА',\n",
       " 'ПОСЕЛОК КОБРАЛОВО',\n",
       " 'ПОСЕЛОК ГОРОДСКОГО ТИПА КОНДРАТЬЕВО',\n",
       " 'КОТТЕДЖНЫЙ ПОСЕЛОК СЧАСТЬЕ',\n",
       " 'ПОСЕЛОК ЛЮБАНЬ',\n",
       " 'ДЕРЕВНЯ РЕБРОВО',\n",
       " 'ДЕРЕВНЯ ЗИМИТИЦЫ',\n",
       " 'ДЕРЕВНЯ ТОЙВОРОВО',\n",
       " 'ПОСЕЛОК СЕМИОЗЕРЬЕ',\n",
       " 'ПОСЕЛОК ЛЕСНОЕ',\n",
       " 'ПОСЕЛОК СОВХОЗНЫЙ',\n",
       " 'ПОСЕЛОК УСТЬ-ЛУГА',\n",
       " 'ПОСЁЛОК ЛЕНИНСКОЕ',\n",
       " 'ПОСЁЛОК СУЙДА',\n",
       " 'ПОСЁЛОК ГОРОДСКОГО ТИПА ФОРНОСОВО',\n",
       " 'ДЕРЕВНЯ НИЖНИЕ ОСЕЛЬКИ',\n",
       " 'ПОСЁЛОК СТАНЦИИ СВИРЬ',\n",
       " 'ПОСЕЛОК ПЕРОВО',\n",
       " 'ВЫСОЦК',\n",
       " 'ПОСЕЛОК ГАРБОЛОВО',\n",
       " 'СЕЛО ШУМ',\n",
       " 'ПОСЕЛОК КОТЕЛЬСКИЙ',\n",
       " 'ПОСЕЛОК СТАНЦИИ ЛУЖАЙКА',\n",
       " 'ДЕРЕВНЯ БОЛЬШАЯ ПУСТОМЕРЖА',\n",
       " 'ПОСЕЛОК КРАСНОСЕЛЬСКОЕ',\n",
       " 'ДЕРЕВНЯ ВАХНОВА КАРА',\n",
       " 'ДЕРЕВНЯ ПИЖМА',\n",
       " 'КОТТЕДЖНЫЙ ПОСЕЛОК КИВЕННАПА СЕВЕР',\n",
       " 'ПОСЕЛОК КОРОБИЦЫНО',\n",
       " 'ПОСЕЛОК РОМАШКИ',\n",
       " 'ПОСЁЛОК ПЕРОВО',\n",
       " 'ДЕРЕВНЯ КАСЬКОВО',\n",
       " 'ДЕРЕВНЯ КУРОВИЦЫ',\n",
       " 'ПОСЁЛОК ПЛОСКОЕ',\n",
       " 'ПОСЕЛОК СУМИНО',\n",
       " 'ПОСЕЛОК ГОРОДСКОГО ТИПА БОЛЬШАЯ ИЖОРА',\n",
       " 'ПОСЕЛОК КИРПИЧНОЕ',\n",
       " 'ДЕРЕВНЯ ЯМ-ТЕСОВО',\n",
       " 'ДЕРЕВНЯ РАЗДОЛЬЕ',\n",
       " 'ДЕРЕВНЯ ТЕРПИЛИЦЫ',\n",
       " 'ПОСЁЛОК ШУГОЗЕРО',\n",
       " 'ДЕРЕВНЯ ВАГАНОВО',\n",
       " 'ПОСЕЛОК ПУШНОЕ',\n",
       " 'САДОВОЕ ТОВАРИЩЕСТВО САДКО',\n",
       " 'ПОСЁЛОК УСТЬ-ИЖОРА',\n",
       " 'ДЕРЕВНЯ ВЫСКАТКА',\n",
       " 'ГОРОДСКОЙ ПОСЁЛОК СВИРЬСТРОЙ',\n",
       " 'ПОСЕЛОК ГРОМОВО',\n",
       " 'ДЕРЕВНЯ КИСЕЛЬНЯ',\n",
       " 'ПОСЁЛОК СТАРАЯ МАЛУКСА',\n",
       " 'ДЕРЕВНЯ ТРУБНИКОВ БОР',\n",
       " 'ПОСЕЛОК КАЛИТИНО',\n",
       " 'ПОСЁЛОК ВЫСОКОКЛЮЧЕВОЙ',\n",
       " 'САДОВОЕ ТОВАРИЩЕСТВО ПРИЛАДОЖСКИЙ',\n",
       " 'ПОСЁЛОК ПАНСИОНАТ ЗЕЛЁНЫЙ БОР',\n",
       " 'ДЕРЕВНЯ НЕНИМЯКИ',\n",
       " 'ПОСЕЛОК ПАНСИОНАТ ЗЕЛЁНЫЙ БОР',\n",
       " 'ДЕРЕВНЯ СНЕГИРЁВКА',\n",
       " 'ДЕРЕВНЯ РАППОЛОВО',\n",
       " 'ДЕРЕВНЯ ПУСТЫНКА',\n",
       " 'ПОСЕЛОК РАБИТИЦЫ',\n",
       " 'ДЕРЕВНЯ БОЛЬШОЙ САБСК',\n",
       " 'ДЕРЕВНЯ РУССКО',\n",
       " 'ДЕРЕВНЯ ЛУППОЛОВО',\n",
       " 'ДЕРЕВНЯ БОЛЬШОЕ РЕЙЗИНО',\n",
       " 'ДЕРЕВНЯ МАЛАЯ РОМАНОВКА',\n",
       " 'ПОСЕЛОК ДРУЖНОСЕЛЬЕ',\n",
       " 'ПОСЕЛОК ПЧЕВЖА',\n",
       " 'ПОСЕЛОК ВОЛОДАРСКОЕ',\n",
       " 'ДЕРЕВНЯ НИЖНЯЯ',\n",
       " 'КОТТЕДЖНЫЙ ПОСЁЛОК ЛЕСНОЕ',\n",
       " 'ДЕРЕВНЯ ТИХКОВИЦЫ',\n",
       " 'ДЕРЕВНЯ БОРИСОВА ГРИВА',\n",
       " 'ПОСЁЛОК ДЗЕРЖИНСКОГО']"
      ]
     },
     "execution_count": 69,
     "metadata": {},
     "output_type": "execute_result"
    }
   ],
   "source": [
    "locality_list_uni = []\n",
    "for name in locality_list:    \n",
    "    name = ' '.join(str(name).split())\n",
    "    locality_list_uni.append(name)\n",
    "locality_list_uni"
   ]
  },
  {
   "cell_type": "markdown",
   "metadata": {},
   "source": [
    "Создадим пустой список locality_list_uni, переберем циклом все элементы списка, применим к каждому метод split и вставим везде по одному пробелу. Метод str преобразует каждый элемент списка в строковый тип, без его применения цикл выдает ошибку и показывает, что в списке где-то есть элемент float."
   ]
  },
  {
   "cell_type": "code",
   "execution_count": 70,
   "metadata": {},
   "outputs": [],
   "source": [
    "replacing_list = ['САДОВОДЧЕСКОЕ НЕКОММЕРЧЕСКОЕ ТОВАРИЩЕСТВО','ПОСЁЛОК ПРИ ЖЕЛЕЗНОДОРОЖНОЙ СТАНЦИИ','ПОСЕЛОК ПРИ ЖЕЛЕЗНОДОРОЖНОЙ СТАНЦИИ','ПОСЕЛОК ГОРОДСКОГО ТИПА','ПОСЁЛОК ГОРОДСКОГО ТИПА','САДОВОЕ ТОВАРИЩЕСТВО','КОТТЕДЖНЫЙ ПОСЁЛОК','КОТТЕДЖНЫЙ ПОСЕЛОК','ГОРОДСКОЙ ПОСЕЛОК','ГОРОДСКОЙ ПОСЁЛОК','ПОСЕЛОК','ПОСЁЛОК','ДЕРЕВНЯ','СЕЛО ']"
   ]
  },
  {
   "cell_type": "markdown",
   "metadata": {},
   "source": [
    "Создадим список значений в наименовании, которые надо заменить на пустоту. Список расположим по убыванию количества символов в элементах, т.к. цикл пойдет по списку по порядку и если, например, элемент \"поселок\" будет предшествовать элементу \"поселок городского типа\", то цикл возьмет слово \"поселок\" и заменит его, оставив в названии слова \"городского типа\", что не позволит получить унифицированные наименования населенных пунктов."
   ]
  },
  {
   "cell_type": "code",
   "execution_count": 71,
   "metadata": {},
   "outputs": [
    {
     "data": {
      "text/plain": [
       "['САНКТ-ПЕТЕРБУРГ',\n",
       " 'ШУШАРЫ',\n",
       " 'ЯНИНО-1',\n",
       " 'ПАРГОЛОВО',\n",
       " 'МУРИНО',\n",
       " 'ЛОМОНОСОВ',\n",
       " 'СЕРТОЛОВО',\n",
       " 'ПЕТЕРГОФ',\n",
       " 'ПУШКИН',\n",
       " 'КУДРОВО',\n",
       " 'КОММУНАР',\n",
       " 'КОЛПИНО',\n",
       " 'КРАСНЫЙ БОР',\n",
       " 'ГАТЧИНА',\n",
       " 'МУРИНО',\n",
       " 'ФЁДОРОВСКОЕ',\n",
       " 'ВЫБОРГ',\n",
       " 'КРОНШТАДТ',\n",
       " 'КИРОВСК',\n",
       " 'НОВОЕ ДЕВЯТКИНО',\n",
       " 'МЕТАЛЛОСТРОЙ',\n",
       " 'ЛЕБЯЖЬЕ',\n",
       " 'СИВЕРСКИЙ',\n",
       " 'МОЛОДЦОВО',\n",
       " 'КУЗЬМОЛОВСКИЙ',\n",
       " 'НОВАЯ РОПША',\n",
       " 'ПАВЛОВСК',\n",
       " 'ПИККОЛОВО',\n",
       " 'ВСЕВОЛОЖСК',\n",
       " 'ВОЛХОВ',\n",
       " 'КИНГИСЕПП',\n",
       " 'ПРИОЗЕРСК',\n",
       " 'СЕСТРОРЕЦК',\n",
       " 'КУТТУЗИ',\n",
       " 'АННИНО',\n",
       " 'ЕФИМОВСКИЙ',\n",
       " 'ПЛОДОВОЕ',\n",
       " 'ЗАКЛИНЬЕ',\n",
       " 'ТОРКОВИЧИ',\n",
       " 'ПЕРВОМАЙСКОЕ',\n",
       " 'КРАСНОЕ СЕЛО',\n",
       " 'ПОНТОННЫЙ',\n",
       " 'СЯСЬСТРОЙ',\n",
       " 'СТАРАЯ',\n",
       " 'ЛЕСКОЛОВО',\n",
       " 'НОВЫЙ СВЕТ',\n",
       " 'СЛАНЦЫ',\n",
       " 'ПУТИЛОВО',\n",
       " 'ИВАНГОРОД',\n",
       " 'ШЛИССЕЛЬБУРГ',\n",
       " 'НИКОЛЬСКОЕ',\n",
       " 'ЗЕЛЕНОГОРСК',\n",
       " 'СОСНОВЫЙ БОР',\n",
       " 'НОВЫЙ СВЕТ',\n",
       " 'ОРЖИЦЫ',\n",
       " 'КАЛЬТИНО',\n",
       " 'РОМАНОВКА',\n",
       " 'БУГРЫ',\n",
       " 'БУГРЫ',\n",
       " 'РОЩИНО',\n",
       " 'КИРИШИ',\n",
       " 'ЛУГА',\n",
       " 'ВОЛОСОВО',\n",
       " 'ОТРАДНОЕ',\n",
       " 'ПАВЛОВО',\n",
       " 'ОРЕДЕЖ',\n",
       " 'КОПОРЬЕ',\n",
       " 'КРАСНЫЙ БОР',\n",
       " 'МОЛОДЁЖНОЕ',\n",
       " 'ТИХВИН',\n",
       " 'ПОБЕДА',\n",
       " 'НУРМА',\n",
       " 'СИНЯВИНО',\n",
       " 'ТОСНО',\n",
       " 'КУЗЬМОЛОВСКИЙ',\n",
       " 'СТРЕЛЬНА',\n",
       " 'БОКСИТОГОРСК',\n",
       " 'АЛЕКСАНДРОВСКАЯ',\n",
       " 'ЛОПУХИНКА',\n",
       " 'ПИКАЛЁВО',\n",
       " 'ТЕРВОЛОВО',\n",
       " 'СОВЕТСКИЙ',\n",
       " 'ПОДПОРОЖЬЕ',\n",
       " 'ПЕТРОВСКОЕ',\n",
       " 'ТОКСОВО',\n",
       " 'СЕЛЬЦО',\n",
       " 'ВЫРИЦА',\n",
       " 'КИПЕНЬ',\n",
       " 'КЕЛОЗИ',\n",
       " 'ВАРТЕМЯГИ',\n",
       " 'ТЕЛЬМАНА',\n",
       " 'СЕВАСТЬЯНОВО',\n",
       " 'БОЛЬШАЯ ИЖОРА',\n",
       " 'ПАВЛОВО',\n",
       " 'АГАЛАТОВО',\n",
       " 'НОВОГОРЕЛОВО',\n",
       " 'ЛЕСОГОРСКИЙ',\n",
       " 'ЛАГОЛОВО',\n",
       " 'ЦВЕЛОДУБОВО',\n",
       " 'РАХЬЯ',\n",
       " 'ВЫРИЦА',\n",
       " 'БЕЛОГОРКА',\n",
       " 'ЗАВОДСКОЙ',\n",
       " 'НОВОСЕЛЬЕ',\n",
       " 'БОЛЬШИЕ КОЛПАНЫ',\n",
       " 'ГОРБУНКИ',\n",
       " 'БАТОВО',\n",
       " 'ЗАНЕВКА',\n",
       " 'ИССАД',\n",
       " 'ПРИМОРСК',\n",
       " 'ФЁДОРОВСКОЕ',\n",
       " 'МИСТОЛОВО',\n",
       " 'НОВАЯ ЛАДОГА',\n",
       " 'ЗИМИТИЦЫ',\n",
       " 'БАРЫШЕВО',\n",
       " 'РАЗМЕТЕЛЕВО',\n",
       " 'ИМЕНИ СВЕРДЛОВА',\n",
       " 'ПЕНИКИ',\n",
       " 'РЯБОВО',\n",
       " 'ПУДОМЯГИ',\n",
       " 'СТАНЦИИ КОРНЕВО',\n",
       " 'НИЗИНО',\n",
       " 'БЕГУНИЦЫ',\n",
       " 'ПОЛЯНЫ',\n",
       " 'МГА',\n",
       " 'ЕЛИЗАВЕТИНО',\n",
       " 'КУЗНЕЧНОЕ',\n",
       " 'КОЛТУШИ',\n",
       " 'ЗАПОРОЖСКОЕ',\n",
       " 'РОЩИНО',\n",
       " 'ГОСТИЛИЦЫ',\n",
       " 'МАЛОЕ КАРЛИНО',\n",
       " 'МИЧУРИНСКОЕ',\n",
       " 'ИМЕНИ МОРОЗОВА',\n",
       " 'ПЕСОЧНЫЙ',\n",
       " 'СОСНОВО',\n",
       " 'АРО',\n",
       " 'ИЛЬИЧЁВО',\n",
       " 'ТАЙЦЫ',\n",
       " 'МАЛОЕ ВЕРЕВО',\n",
       " 'ИЗВАРА',\n",
       " 'СТАНЦИИ ВЕЩЕВО',\n",
       " 'ПАША',\n",
       " 'КАЛИТИНО',\n",
       " 'УЛЬЯНОВКА',\n",
       " 'ЧУДСКОЙ БОР',\n",
       " 'ДУБРОВКА',\n",
       " 'МИНЫ',\n",
       " 'ВОЙСКОВИЦЫ',\n",
       " 'ИМЕНИ СВЕРДЛОВА',\n",
       " 'КОРКИНО',\n",
       " 'РОПША',\n",
       " 'ПРИЛАДОЖСКИЙ',\n",
       " 'ЩЕГЛОВО',\n",
       " 'ГАВРИЛОВО',\n",
       " 'ЛОДЕЙНОЕ ПОЛЕ',\n",
       " 'РАБИТИЦЫ',\n",
       " 'НИКОЛЬСКИЙ',\n",
       " 'КУЗЬМОЛОВО',\n",
       " 'МАЛЫЕ КОЛПАНЫ',\n",
       " 'ТЕЛЬМАНА',\n",
       " 'ПЕТРО-СЛАВЯНКА',\n",
       " 'НАЗИЯ',\n",
       " 'РЕПИНО',\n",
       " 'ИЛЬИЧЁВО',\n",
       " 'УГЛОВО',\n",
       " 'СТАРАЯ МАЛУКСА',\n",
       " 'РАХЬЯ',\n",
       " 'АННИНО',\n",
       " 'ПОБЕДА',\n",
       " 'МЕНЬКОВО',\n",
       " 'СТАРЫЕ БЕГУНИЦЫ',\n",
       " 'САПЁРНЫЙ',\n",
       " 'СЕМРИНО',\n",
       " 'ГАВРИЛОВО',\n",
       " 'ГЛАЖЕВО',\n",
       " 'КОБРИНСКОЕ',\n",
       " 'ГАРБОЛОВО',\n",
       " 'ЮККИ',\n",
       " 'СТАНЦИИ ПРИВЕТНИНСКОЕ',\n",
       " 'МАНУЙЛОВО',\n",
       " 'ПЧЕВА',\n",
       " 'ПОЛЯНЫ',\n",
       " 'ЦВЫЛЁВО',\n",
       " 'МЕЛЬНИКОВО',\n",
       " 'ПУДОСТЬ',\n",
       " 'УСТЬ-ЛУГА',\n",
       " 'СВЕТОГОРСК',\n",
       " 'ЛЮБАНЬ',\n",
       " 'СЕЛЕЗНЁВО',\n",
       " 'РЯБОВО',\n",
       " 'КАМЕННОГОРСК',\n",
       " 'КРИВКО',\n",
       " 'ГЛЕБЫЧЕВО',\n",
       " 'ПАРИЦЫ',\n",
       " 'ЖИЛПОСЁЛОК',\n",
       " 'ЖИЛ',\n",
       " 'МГА',\n",
       " 'ЯНИНО-1',\n",
       " 'ВОЙСКОРОВО',\n",
       " 'НИКОЛЬСКОЕ',\n",
       " 'ТЕРВОЛОВО',\n",
       " 'СТЕКЛЯННЫЙ',\n",
       " 'ВАЖИНЫ',\n",
       " 'МЫЗА-ИВАНОВКА',\n",
       " 'РУССКО-ВЫСОЦКОЕ',\n",
       " 'ЛЕБЯЖЬЕ',\n",
       " 'ФОРНОСОВО',\n",
       " 'СТАРАЯ ЛАДОГА',\n",
       " 'ЖИТКОВО',\n",
       " 'ВИЛЛОЗИ',\n",
       " 'ЛАМПОВО',\n",
       " 'ШПАНЬКОВО',\n",
       " 'ЛАВРИКИ',\n",
       " 'СУМИНО',\n",
       " 'ВОЗРОЖДЕНИЕ',\n",
       " 'СТАРОСИВЕРСКАЯ',\n",
       " 'КИКЕРИНО',\n",
       " 'ВОЗРОЖДЕНИЕ',\n",
       " 'СТАРОЕ ХИНКОЛОВО',\n",
       " 'ПРИГОРОДНЫЙ',\n",
       " 'ТОРФЯНОЕ',\n",
       " 'БУДОГОЩЬ',\n",
       " 'СУХОДОЛЬЕ',\n",
       " 'КРАСНАЯ ДОЛИНА',\n",
       " 'ХАПО-ОЕ',\n",
       " 'ДРУЖНАЯ ГОРКА',\n",
       " 'ЛИСИЙ НОС',\n",
       " 'ЯЛЬГЕЛЕВО',\n",
       " 'СТЕКЛЯННЫЙ',\n",
       " 'РОЖДЕСТВЕНО',\n",
       " 'СТАРОПОЛЬЕ',\n",
       " 'ЛЕВАШОВО',\n",
       " 'СЯСЬКЕЛЕВО',\n",
       " 'КАМЫШОВКА',\n",
       " 'ЛЕСНАЯ ПОЛЯНА',\n",
       " 'ХЯЗЕЛЬКИ',\n",
       " 'ЖИЛГОРОДОК',\n",
       " 'ПАВЛОВО',\n",
       " 'ЯЛГИНО',\n",
       " 'НОВЫЙ УЧХОЗ',\n",
       " 'РОЩИНО',\n",
       " 'ГОНЧАРОВО',\n",
       " 'ПОЧАП',\n",
       " 'САПЁРНОЕ',\n",
       " 'ПЛАТФОРМА 69-Й КИЛОМЕТР',\n",
       " 'КАЛОЖИЦЫ',\n",
       " 'ФАЛИЛЕЕВО',\n",
       " 'ПЕЛЬГОРА',\n",
       " 'ЛЕСОГОРСКИЙ',\n",
       " 'ТОРОШКОВИЧИ',\n",
       " 'БЕЛООСТРОВ',\n",
       " 'АЛЕКСЕЕВКА',\n",
       " 'СЕРЕБРЯНСКИЙ',\n",
       " 'ЛУКАШИ',\n",
       " 'ПЕТРОВСКОЕ',\n",
       " 'ЩЕГЛОВО',\n",
       " 'МИЧУРИНСКОЕ',\n",
       " 'ТАРАСОВО',\n",
       " 'КИНГИСЕППСКИЙ',\n",
       " 'ВЕЩЕВО',\n",
       " 'УШАКИ',\n",
       " 'КОТЛЫ',\n",
       " 'СИЖНО',\n",
       " 'ТОРОСОВО',\n",
       " 'ФОРТ КРАСНАЯ ГОРКА',\n",
       " 'ТОКСОВО',\n",
       " 'НОВОЛИСИНО',\n",
       " 'СТАНЦИИ ГРОМОВО',\n",
       " 'ГЛИНКА',\n",
       " 'МЕЛЬНИКОВО',\n",
       " 'НАЗИЯ',\n",
       " 'СТАРАЯ ПУСТОШЬ',\n",
       " 'КОММУНАРЫ',\n",
       " 'ПОЧИНОК',\n",
       " 'ВОЗНЕСЕНЬЕ',\n",
       " 'РАЗБЕГАЕВО',\n",
       " 'РЯБОВО',\n",
       " 'ГЛАДКОЕ',\n",
       " 'ПРИВЕТНИНСКОЕ',\n",
       " 'ТЁСОВО-4',\n",
       " 'ЖИЛГОРОДОК',\n",
       " 'БОР',\n",
       " 'КОРОБИЦЫНО',\n",
       " 'БОЛЬШАЯ ВРУДА',\n",
       " 'КУРКОВИЦЫ',\n",
       " 'ЛИСИЙ НОС',\n",
       " 'СОВЕТСКИЙ',\n",
       " 'КОБРАЛОВО',\n",
       " 'СУОРАНДА',\n",
       " 'КОБРАЛОВО',\n",
       " 'КОНДРАТЬЕВО',\n",
       " 'СЧАСТЬЕ',\n",
       " 'ЛЮБАНЬ',\n",
       " 'РЕБРОВО',\n",
       " 'ЗИМИТИЦЫ',\n",
       " 'ТОЙВОРОВО',\n",
       " 'СЕМИОЗЕРЬЕ',\n",
       " 'ЛЕСНОЕ',\n",
       " 'СОВХОЗНЫЙ',\n",
       " 'УСТЬ-ЛУГА',\n",
       " 'ЛЕНИНСКОЕ',\n",
       " 'СУЙДА',\n",
       " 'ФОРНОСОВО',\n",
       " 'НИЖНИЕ ОСЕЛЬКИ',\n",
       " 'СТАНЦИИ СВИРЬ',\n",
       " 'ПЕРОВО',\n",
       " 'ВЫСОЦК',\n",
       " 'ГАРБОЛОВО',\n",
       " 'ШУМ',\n",
       " 'КОТЕЛЬСКИЙ',\n",
       " 'СТАНЦИИ ЛУЖАЙКА',\n",
       " 'БОЛЬШАЯ ПУСТОМЕРЖА',\n",
       " 'КРАСНОСЕЛЬСКОЕ',\n",
       " 'ВАХНОВА КАРА',\n",
       " 'ПИЖМА',\n",
       " 'КИВЕННАПА СЕВЕР',\n",
       " 'КОРОБИЦЫНО',\n",
       " 'РОМАШКИ',\n",
       " 'ПЕРОВО',\n",
       " 'КАСЬКОВО',\n",
       " 'КУРОВИЦЫ',\n",
       " 'ПЛОСКОЕ',\n",
       " 'СУМИНО',\n",
       " 'БОЛЬШАЯ ИЖОРА',\n",
       " 'КИРПИЧНОЕ',\n",
       " 'ЯМ-ТЕСОВО',\n",
       " 'РАЗДОЛЬЕ',\n",
       " 'ТЕРПИЛИЦЫ',\n",
       " 'ШУГОЗЕРО',\n",
       " 'ВАГАНОВО',\n",
       " 'ПУШНОЕ',\n",
       " 'САДКО',\n",
       " 'УСТЬ-ИЖОРА',\n",
       " 'ВЫСКАТКА',\n",
       " 'СВИРЬСТРОЙ',\n",
       " 'ГРОМОВО',\n",
       " 'КИСЕЛЬНЯ',\n",
       " 'СТАРАЯ МАЛУКСА',\n",
       " 'ТРУБНИКОВ БОР',\n",
       " 'КАЛИТИНО',\n",
       " 'ВЫСОКОКЛЮЧЕВОЙ',\n",
       " 'ПРИЛАДОЖСКИЙ',\n",
       " 'ПАНСИОНАТ ЗЕЛЁНЫЙ БОР',\n",
       " 'НЕНИМЯКИ',\n",
       " 'ПАНСИОНАТ ЗЕЛЁНЫЙ БОР',\n",
       " 'СНЕГИРЁВКА',\n",
       " 'РАППОЛОВО',\n",
       " 'ПУСТЫНКА',\n",
       " 'РАБИТИЦЫ',\n",
       " 'БОЛЬШОЙ САБСК',\n",
       " 'РУССКО',\n",
       " 'ЛУППОЛОВО',\n",
       " 'БОЛЬШОЕ РЕЙЗИНО',\n",
       " 'МАЛАЯ РОМАНОВКА',\n",
       " 'ДРУЖНОСЕЛЬЕ',\n",
       " 'ПЧЕВЖА',\n",
       " 'ВОЛОДАРСКОЕ',\n",
       " 'НИЖНЯЯ',\n",
       " 'ЛЕСНОЕ',\n",
       " 'ТИХКОВИЦЫ',\n",
       " 'БОРИСОВА ГРИВА',\n",
       " 'ДЗЕРЖИНСКОГО']"
      ]
     },
     "execution_count": 71,
     "metadata": {},
     "output_type": "execute_result"
    }
   ],
   "source": [
    "locality_list_uni1 = []\n",
    "for name in locality_list_uni:    \n",
    "    for repl_name in replacing_list:\n",
    "        if repl_name in name:         \n",
    "            name = str(name).replace(repl_name,'')\n",
    "            name = ' '.join(str(name).split())\n",
    "            locality_list_uni1.append(name)\n",
    "    if not name in locality_list_uni1:\n",
    "        locality_list_uni1.append(name)\n",
    "locality_list_uni1"
   ]
  },
  {
   "cell_type": "markdown",
   "metadata": {},
   "source": [
    "Создадим пустой список, в который будем добавлять очищенные названия населенных пунктов. Внешний цикл будет перебирать список унифицированных объектов. Во внутреннем мы будем сопоставлять имена элементов унифицированных объектов и проверять, содержатся ли в них записи из списка значений, которые надо заменить на пустоту. Если такое встречается, мы заменяем его на пустоту и еще раз применяем метод split чтобы избежать появления лишних пробелов. Затем append добавляет \"чистую\" запись в пустой список очищенных значений.\n",
    "\n",
    "В списке могут встретиться значения, в которых нет частей \"поселок\", \"деревня\" или еще каких-либо значений из списка replacing_list, например \"САНКТ-ПЕТЕРБУРГ\". Цикл пропустит его и не добавит в список. Для такого случая предусмотрим условие и запишем его во внешнем цикле. После выполнения внутреннего цикла проверим, появилось ли значение name в списке. Если нет, добавим его методом append принудительно."
   ]
  },
  {
   "cell_type": "code",
   "execution_count": 72,
   "metadata": {},
   "outputs": [],
   "source": [
    "locality_list_uni1.insert(50, 'МУРИНО')\n",
    "locality_list_uni1.insert(58, 'КУДРОВО')\n",
    "locality_list_uni1.remove('ЖИЛ')"
   ]
  },
  {
   "cell_type": "code",
   "execution_count": 73,
   "metadata": {},
   "outputs": [
    {
     "data": {
      "text/plain": [
       "364"
      ]
     },
     "execution_count": 73,
     "metadata": {},
     "output_type": "execute_result"
    }
   ],
   "source": [
    "len(locality_list_uni1)"
   ]
  },
  {
   "cell_type": "code",
   "execution_count": 74,
   "metadata": {},
   "outputs": [
    {
     "data": {
      "text/plain": [
       "364"
      ]
     },
     "execution_count": 74,
     "metadata": {},
     "output_type": "execute_result"
    }
   ],
   "source": [
    "len(locality_list)"
   ]
  },
  {
   "cell_type": "code",
   "execution_count": 75,
   "metadata": {},
   "outputs": [
    {
     "data": {
      "text/plain": [
       "364"
      ]
     },
     "execution_count": 75,
     "metadata": {},
     "output_type": "execute_result"
    }
   ],
   "source": [
    "len(locality_list_uni)"
   ]
  },
  {
   "cell_type": "markdown",
   "metadata": {},
   "source": [
    "Сопоставим количество полученных \"чистых\" наименований населенных пунктов и первоначального унифицированного списка. Новый список короче на 1 запись. Поселок Мурино встречается 2 раза, в начале списка с записью \"Мурино\" и на 50 позиции как \"Поселок Мурино\". При проверке условие видит его и не добавляет. Добавим его методом insert вручную.\n",
    "После добавления списки становятся идентичны по размеру."
   ]
  },
  {
   "cell_type": "code",
   "execution_count": 76,
   "metadata": {},
   "outputs": [
    {
     "data": {
      "text/html": [
       "<div>\n",
       "<style scoped>\n",
       "    .dataframe tbody tr th:only-of-type {\n",
       "        vertical-align: middle;\n",
       "    }\n",
       "\n",
       "    .dataframe tbody tr th {\n",
       "        vertical-align: top;\n",
       "    }\n",
       "\n",
       "    .dataframe thead th {\n",
       "        text-align: right;\n",
       "    }\n",
       "</style>\n",
       "<table border=\"1\" class=\"dataframe\">\n",
       "  <thead>\n",
       "    <tr style=\"text-align: right;\">\n",
       "      <th></th>\n",
       "      <th>locality_name</th>\n",
       "      <th>nw_loc_nm</th>\n",
       "    </tr>\n",
       "  </thead>\n",
       "  <tbody>\n",
       "    <tr>\n",
       "      <td>344</td>\n",
       "      <td>ПОСЁЛОК ПАНСИОНАТ ЗЕЛЁНЫЙ БОР</td>\n",
       "      <td>ПАНСИОНАТ ЗЕЛЁНЫЙ БОР</td>\n",
       "    </tr>\n",
       "    <tr>\n",
       "      <td>345</td>\n",
       "      <td>ДЕРЕВНЯ НЕНИМЯКИ</td>\n",
       "      <td>НЕНИМЯКИ</td>\n",
       "    </tr>\n",
       "    <tr>\n",
       "      <td>346</td>\n",
       "      <td>ПОСЕЛОК ПАНСИОНАТ ЗЕЛЁНЫЙ БОР</td>\n",
       "      <td>ПАНСИОНАТ ЗЕЛЁНЫЙ БОР</td>\n",
       "    </tr>\n",
       "    <tr>\n",
       "      <td>347</td>\n",
       "      <td>ДЕРЕВНЯ СНЕГИРЁВКА</td>\n",
       "      <td>СНЕГИРЁВКА</td>\n",
       "    </tr>\n",
       "    <tr>\n",
       "      <td>348</td>\n",
       "      <td>ДЕРЕВНЯ РАППОЛОВО</td>\n",
       "      <td>РАППОЛОВО</td>\n",
       "    </tr>\n",
       "    <tr>\n",
       "      <td>349</td>\n",
       "      <td>ДЕРЕВНЯ ПУСТЫНКА</td>\n",
       "      <td>ПУСТЫНКА</td>\n",
       "    </tr>\n",
       "    <tr>\n",
       "      <td>350</td>\n",
       "      <td>ПОСЕЛОК РАБИТИЦЫ</td>\n",
       "      <td>РАБИТИЦЫ</td>\n",
       "    </tr>\n",
       "    <tr>\n",
       "      <td>351</td>\n",
       "      <td>ДЕРЕВНЯ БОЛЬШОЙ САБСК</td>\n",
       "      <td>БОЛЬШОЙ САБСК</td>\n",
       "    </tr>\n",
       "    <tr>\n",
       "      <td>352</td>\n",
       "      <td>ДЕРЕВНЯ РУССКО</td>\n",
       "      <td>РУССКО</td>\n",
       "    </tr>\n",
       "    <tr>\n",
       "      <td>353</td>\n",
       "      <td>ДЕРЕВНЯ ЛУППОЛОВО</td>\n",
       "      <td>ЛУППОЛОВО</td>\n",
       "    </tr>\n",
       "    <tr>\n",
       "      <td>354</td>\n",
       "      <td>ДЕРЕВНЯ БОЛЬШОЕ РЕЙЗИНО</td>\n",
       "      <td>БОЛЬШОЕ РЕЙЗИНО</td>\n",
       "    </tr>\n",
       "    <tr>\n",
       "      <td>355</td>\n",
       "      <td>ДЕРЕВНЯ МАЛАЯ РОМАНОВКА</td>\n",
       "      <td>МАЛАЯ РОМАНОВКА</td>\n",
       "    </tr>\n",
       "    <tr>\n",
       "      <td>356</td>\n",
       "      <td>ПОСЕЛОК ДРУЖНОСЕЛЬЕ</td>\n",
       "      <td>ДРУЖНОСЕЛЬЕ</td>\n",
       "    </tr>\n",
       "    <tr>\n",
       "      <td>357</td>\n",
       "      <td>ПОСЕЛОК ПЧЕВЖА</td>\n",
       "      <td>ПЧЕВЖА</td>\n",
       "    </tr>\n",
       "    <tr>\n",
       "      <td>358</td>\n",
       "      <td>ПОСЕЛОК ВОЛОДАРСКОЕ</td>\n",
       "      <td>ВОЛОДАРСКОЕ</td>\n",
       "    </tr>\n",
       "    <tr>\n",
       "      <td>359</td>\n",
       "      <td>ДЕРЕВНЯ НИЖНЯЯ</td>\n",
       "      <td>НИЖНЯЯ</td>\n",
       "    </tr>\n",
       "    <tr>\n",
       "      <td>360</td>\n",
       "      <td>КОТТЕДЖНЫЙ ПОСЁЛОК ЛЕСНОЕ</td>\n",
       "      <td>ЛЕСНОЕ</td>\n",
       "    </tr>\n",
       "    <tr>\n",
       "      <td>361</td>\n",
       "      <td>ДЕРЕВНЯ ТИХКОВИЦЫ</td>\n",
       "      <td>ТИХКОВИЦЫ</td>\n",
       "    </tr>\n",
       "    <tr>\n",
       "      <td>362</td>\n",
       "      <td>ДЕРЕВНЯ БОРИСОВА ГРИВА</td>\n",
       "      <td>БОРИСОВА ГРИВА</td>\n",
       "    </tr>\n",
       "    <tr>\n",
       "      <td>363</td>\n",
       "      <td>ПОСЁЛОК ДЗЕРЖИНСКОГО</td>\n",
       "      <td>ДЗЕРЖИНСКОГО</td>\n",
       "    </tr>\n",
       "  </tbody>\n",
       "</table>\n",
       "</div>"
      ],
      "text/plain": [
       "                     locality_name              nw_loc_nm\n",
       "344  ПОСЁЛОК ПАНСИОНАТ ЗЕЛЁНЫЙ БОР  ПАНСИОНАТ ЗЕЛЁНЫЙ БОР\n",
       "345               ДЕРЕВНЯ НЕНИМЯКИ               НЕНИМЯКИ\n",
       "346  ПОСЕЛОК ПАНСИОНАТ ЗЕЛЁНЫЙ БОР  ПАНСИОНАТ ЗЕЛЁНЫЙ БОР\n",
       "347             ДЕРЕВНЯ СНЕГИРЁВКА             СНЕГИРЁВКА\n",
       "348              ДЕРЕВНЯ РАППОЛОВО              РАППОЛОВО\n",
       "349               ДЕРЕВНЯ ПУСТЫНКА               ПУСТЫНКА\n",
       "350               ПОСЕЛОК РАБИТИЦЫ               РАБИТИЦЫ\n",
       "351          ДЕРЕВНЯ БОЛЬШОЙ САБСК          БОЛЬШОЙ САБСК\n",
       "352                 ДЕРЕВНЯ РУССКО                 РУССКО\n",
       "353              ДЕРЕВНЯ ЛУППОЛОВО              ЛУППОЛОВО\n",
       "354        ДЕРЕВНЯ БОЛЬШОЕ РЕЙЗИНО        БОЛЬШОЕ РЕЙЗИНО\n",
       "355        ДЕРЕВНЯ МАЛАЯ РОМАНОВКА        МАЛАЯ РОМАНОВКА\n",
       "356            ПОСЕЛОК ДРУЖНОСЕЛЬЕ            ДРУЖНОСЕЛЬЕ\n",
       "357                 ПОСЕЛОК ПЧЕВЖА                 ПЧЕВЖА\n",
       "358            ПОСЕЛОК ВОЛОДАРСКОЕ            ВОЛОДАРСКОЕ\n",
       "359                 ДЕРЕВНЯ НИЖНЯЯ                 НИЖНЯЯ\n",
       "360      КОТТЕДЖНЫЙ ПОСЁЛОК ЛЕСНОЕ                 ЛЕСНОЕ\n",
       "361              ДЕРЕВНЯ ТИХКОВИЦЫ              ТИХКОВИЦЫ\n",
       "362         ДЕРЕВНЯ БОРИСОВА ГРИВА         БОРИСОВА ГРИВА\n",
       "363           ПОСЁЛОК ДЗЕРЖИНСКОГО           ДЗЕРЖИНСКОГО"
      ]
     },
     "execution_count": 76,
     "metadata": {},
     "output_type": "execute_result"
    }
   ],
   "source": [
    "locality_list_uni2 = pd.concat([pd.Series(locality_list_uni), pd.Series(locality_list_uni1)], axis =1)\n",
    "locality_list_uni2.columns = ['locality_name', 'nw_loc_nm']\n",
    "locality_list_uni2.tail(20)"
   ]
  },
  {
   "cell_type": "markdown",
   "metadata": {},
   "source": [
    "Создадим датафрейм из 2 списков, переименуем столбцы и выведем справочник на превью. Визуально справочник корректен."
   ]
  },
  {
   "cell_type": "code",
   "execution_count": 77,
   "metadata": {
    "scrolled": false
   },
   "outputs": [
    {
     "data": {
      "text/html": [
       "<div>\n",
       "<style scoped>\n",
       "    .dataframe tbody tr th:only-of-type {\n",
       "        vertical-align: middle;\n",
       "    }\n",
       "\n",
       "    .dataframe tbody tr th {\n",
       "        vertical-align: top;\n",
       "    }\n",
       "\n",
       "    .dataframe thead th {\n",
       "        text-align: right;\n",
       "    }\n",
       "</style>\n",
       "<table border=\"1\" class=\"dataframe\">\n",
       "  <thead>\n",
       "    <tr style=\"text-align: right;\">\n",
       "      <th></th>\n",
       "      <th>total_images</th>\n",
       "      <th>last_price</th>\n",
       "      <th>total_area</th>\n",
       "      <th>first_day_exposition</th>\n",
       "      <th>rooms</th>\n",
       "      <th>ceiling_height</th>\n",
       "      <th>floors_total</th>\n",
       "      <th>living_area</th>\n",
       "      <th>floor</th>\n",
       "      <th>is_apartment</th>\n",
       "      <th>...</th>\n",
       "      <th>cityCenters_nearest</th>\n",
       "      <th>parks_around3000</th>\n",
       "      <th>parks_nearest</th>\n",
       "      <th>ponds_around3000</th>\n",
       "      <th>ponds_nearest</th>\n",
       "      <th>days_exposition</th>\n",
       "      <th>price_per_m2</th>\n",
       "      <th>year</th>\n",
       "      <th>diff</th>\n",
       "      <th>nw_loc_nm</th>\n",
       "    </tr>\n",
       "  </thead>\n",
       "  <tbody>\n",
       "    <tr>\n",
       "      <td>0</td>\n",
       "      <td>20</td>\n",
       "      <td>13000000.0</td>\n",
       "      <td>108.0</td>\n",
       "      <td>2019-03-07</td>\n",
       "      <td>3</td>\n",
       "      <td>2.70</td>\n",
       "      <td>16.0</td>\n",
       "      <td>51.0</td>\n",
       "      <td>8</td>\n",
       "      <td>NaN</td>\n",
       "      <td>...</td>\n",
       "      <td>16028.0</td>\n",
       "      <td>1.0</td>\n",
       "      <td>482.0</td>\n",
       "      <td>2.0</td>\n",
       "      <td>755.0</td>\n",
       "      <td>57.0</td>\n",
       "      <td>120370.370370</td>\n",
       "      <td>2019</td>\n",
       "      <td>57</td>\n",
       "      <td>САНКТ-ПЕТЕРБУРГ</td>\n",
       "    </tr>\n",
       "    <tr>\n",
       "      <td>1</td>\n",
       "      <td>10</td>\n",
       "      <td>5196000.0</td>\n",
       "      <td>56.0</td>\n",
       "      <td>2015-08-20</td>\n",
       "      <td>2</td>\n",
       "      <td>NaN</td>\n",
       "      <td>5.0</td>\n",
       "      <td>34.3</td>\n",
       "      <td>4</td>\n",
       "      <td>NaN</td>\n",
       "      <td>...</td>\n",
       "      <td>13933.0</td>\n",
       "      <td>1.0</td>\n",
       "      <td>90.0</td>\n",
       "      <td>2.0</td>\n",
       "      <td>574.0</td>\n",
       "      <td>558.0</td>\n",
       "      <td>92785.714286</td>\n",
       "      <td>2015</td>\n",
       "      <td>1352</td>\n",
       "      <td>САНКТ-ПЕТЕРБУРГ</td>\n",
       "    </tr>\n",
       "    <tr>\n",
       "      <td>2</td>\n",
       "      <td>0</td>\n",
       "      <td>64900000.0</td>\n",
       "      <td>159.0</td>\n",
       "      <td>2015-07-24</td>\n",
       "      <td>3</td>\n",
       "      <td>NaN</td>\n",
       "      <td>14.0</td>\n",
       "      <td>NaN</td>\n",
       "      <td>9</td>\n",
       "      <td>NaN</td>\n",
       "      <td>...</td>\n",
       "      <td>6800.0</td>\n",
       "      <td>2.0</td>\n",
       "      <td>84.0</td>\n",
       "      <td>3.0</td>\n",
       "      <td>234.0</td>\n",
       "      <td>424.0</td>\n",
       "      <td>408176.100629</td>\n",
       "      <td>2015</td>\n",
       "      <td>1379</td>\n",
       "      <td>САНКТ-ПЕТЕРБУРГ</td>\n",
       "    </tr>\n",
       "    <tr>\n",
       "      <td>3</td>\n",
       "      <td>2</td>\n",
       "      <td>10000000.0</td>\n",
       "      <td>100.0</td>\n",
       "      <td>2018-06-19</td>\n",
       "      <td>2</td>\n",
       "      <td>3.03</td>\n",
       "      <td>14.0</td>\n",
       "      <td>32.0</td>\n",
       "      <td>13</td>\n",
       "      <td>NaN</td>\n",
       "      <td>...</td>\n",
       "      <td>8098.0</td>\n",
       "      <td>2.0</td>\n",
       "      <td>112.0</td>\n",
       "      <td>1.0</td>\n",
       "      <td>48.0</td>\n",
       "      <td>121.0</td>\n",
       "      <td>100000.000000</td>\n",
       "      <td>2018</td>\n",
       "      <td>318</td>\n",
       "      <td>САНКТ-ПЕТЕРБУРГ</td>\n",
       "    </tr>\n",
       "    <tr>\n",
       "      <td>4</td>\n",
       "      <td>5</td>\n",
       "      <td>7915000.0</td>\n",
       "      <td>71.6</td>\n",
       "      <td>2019-04-18</td>\n",
       "      <td>2</td>\n",
       "      <td>NaN</td>\n",
       "      <td>24.0</td>\n",
       "      <td>NaN</td>\n",
       "      <td>22</td>\n",
       "      <td>NaN</td>\n",
       "      <td>...</td>\n",
       "      <td>11634.0</td>\n",
       "      <td>0.0</td>\n",
       "      <td>NaN</td>\n",
       "      <td>0.0</td>\n",
       "      <td>NaN</td>\n",
       "      <td>15.0</td>\n",
       "      <td>110544.692737</td>\n",
       "      <td>2019</td>\n",
       "      <td>15</td>\n",
       "      <td>САНКТ-ПЕТЕРБУРГ</td>\n",
       "    </tr>\n",
       "  </tbody>\n",
       "</table>\n",
       "<p>5 rows × 26 columns</p>\n",
       "</div>"
      ],
      "text/plain": [
       "   total_images  last_price  total_area first_day_exposition  rooms  \\\n",
       "0            20  13000000.0       108.0           2019-03-07      3   \n",
       "1            10   5196000.0        56.0           2015-08-20      2   \n",
       "2             0  64900000.0       159.0           2015-07-24      3   \n",
       "3             2  10000000.0       100.0           2018-06-19      2   \n",
       "4             5   7915000.0        71.6           2019-04-18      2   \n",
       "\n",
       "   ceiling_height  floors_total  living_area  floor is_apartment  ...  \\\n",
       "0            2.70          16.0         51.0      8          NaN  ...   \n",
       "1             NaN           5.0         34.3      4          NaN  ...   \n",
       "2             NaN          14.0          NaN      9          NaN  ...   \n",
       "3            3.03          14.0         32.0     13          NaN  ...   \n",
       "4             NaN          24.0          NaN     22          NaN  ...   \n",
       "\n",
       "   cityCenters_nearest  parks_around3000  parks_nearest  ponds_around3000  \\\n",
       "0              16028.0               1.0          482.0               2.0   \n",
       "1              13933.0               1.0           90.0               2.0   \n",
       "2               6800.0               2.0           84.0               3.0   \n",
       "3               8098.0               2.0          112.0               1.0   \n",
       "4              11634.0               0.0            NaN               0.0   \n",
       "\n",
       "  ponds_nearest  days_exposition   price_per_m2  year  diff        nw_loc_nm  \n",
       "0         755.0             57.0  120370.370370  2019    57  САНКТ-ПЕТЕРБУРГ  \n",
       "1         574.0            558.0   92785.714286  2015  1352  САНКТ-ПЕТЕРБУРГ  \n",
       "2         234.0            424.0  408176.100629  2015  1379  САНКТ-ПЕТЕРБУРГ  \n",
       "3          48.0            121.0  100000.000000  2018   318  САНКТ-ПЕТЕРБУРГ  \n",
       "4           NaN             15.0  110544.692737  2019    15  САНКТ-ПЕТЕРБУРГ  \n",
       "\n",
       "[5 rows x 26 columns]"
      ]
     },
     "execution_count": 77,
     "metadata": {},
     "output_type": "execute_result"
    }
   ],
   "source": [
    "data = data.merge(locality_list_uni2, on = 'locality_name')\n",
    "data.head()"
   ]
  },
  {
   "cell_type": "markdown",
   "metadata": {},
   "source": [
    "Объединим датафрейм и справочник по оригинальным наименованиям населенных пунктов. В датафрейме появился столбец nw_loc_nm с унифицированными названиями локаций."
   ]
  },
  {
   "cell_type": "code",
   "execution_count": 78,
   "metadata": {},
   "outputs": [
    {
     "data": {
      "text/plain": [
       "0"
      ]
     },
     "execution_count": 78,
     "metadata": {},
     "output_type": "execute_result"
    }
   ],
   "source": [
    "len(data[data['nw_loc_nm'].isna()])"
   ]
  },
  {
   "cell_type": "markdown",
   "metadata": {},
   "source": [
    "Поле с наименованиями населенных пунктов полностью заполнено."
   ]
  },
  {
   "cell_type": "code",
   "execution_count": 79,
   "metadata": {},
   "outputs": [],
   "source": [
    "data['floors_total'] = data['floors_total'].fillna(0)\n",
    "data['floors_total'] = data['floors_total'].astype(int)"
   ]
  },
  {
   "cell_type": "markdown",
   "metadata": {},
   "source": [
    "Заменим значения NaN в столбце floors_total на нули и преобразуем значения в целочисленные."
   ]
  },
  {
   "cell_type": "code",
   "execution_count": 80,
   "metadata": {},
   "outputs": [],
   "source": [
    "def fill_floor_tot(row):\n",
    "    fl_tot = row['floors_total']\n",
    "    fl = row['floor']\n",
    "    if fl<6 and fl_tot==0:\n",
    "        return 5\n",
    "    elif fl<10 and fl_tot==0:\n",
    "        return  9\n",
    "    elif fl <17 and fl_tot==0:\n",
    "        return  16\n",
    "    elif fl > 16 and fl_tot==0:\n",
    "        return  25\n",
    "    else:\n",
    "        return fl_tot\n",
    "data['floors_total_fin'] = data.apply(fill_floor_tot, axis = 1)"
   ]
  },
  {
   "cell_type": "markdown",
   "metadata": {},
   "source": [
    "Напишем функцию, которая подставляет значения этажности по условию в объекты с пропущенной этажностью. Ориентируемся на типовые дома, которых большинство в жилом фонде (5, 9, 16 и 25-этажные). Погрешность возможна, но она минимальна из-за малой доли пропусков."
   ]
  },
  {
   "cell_type": "code",
   "execution_count": 81,
   "metadata": {},
   "outputs": [
    {
     "data": {
      "text/plain": [
       "0"
      ]
     },
     "execution_count": 81,
     "metadata": {},
     "output_type": "execute_result"
    }
   ],
   "source": [
    "len(data[data['floors_total_fin'].isna()])"
   ]
  },
  {
   "cell_type": "markdown",
   "metadata": {},
   "source": [
    "Поле с этажностью полностью заполнено."
   ]
  },
  {
   "cell_type": "code",
   "execution_count": 82,
   "metadata": {},
   "outputs": [
    {
     "data": {
      "text/html": [
       "<div>\n",
       "<style scoped>\n",
       "    .dataframe tbody tr th:only-of-type {\n",
       "        vertical-align: middle;\n",
       "    }\n",
       "\n",
       "    .dataframe tbody tr th {\n",
       "        vertical-align: top;\n",
       "    }\n",
       "\n",
       "    .dataframe thead th {\n",
       "        text-align: right;\n",
       "    }\n",
       "</style>\n",
       "<table border=\"1\" class=\"dataframe\">\n",
       "  <thead>\n",
       "    <tr style=\"text-align: right;\">\n",
       "      <th></th>\n",
       "      <th>total_area</th>\n",
       "      <th>rooms</th>\n",
       "      <th>living_area_fin</th>\n",
       "    </tr>\n",
       "  </thead>\n",
       "  <tbody>\n",
       "    <tr>\n",
       "      <td>0</td>\n",
       "      <td>12.0</td>\n",
       "      <td>1</td>\n",
       "      <td>10.0</td>\n",
       "    </tr>\n",
       "    <tr>\n",
       "      <td>1</td>\n",
       "      <td>13.0</td>\n",
       "      <td>1</td>\n",
       "      <td>10.0</td>\n",
       "    </tr>\n",
       "    <tr>\n",
       "      <td>2</td>\n",
       "      <td>14.0</td>\n",
       "      <td>1</td>\n",
       "      <td>11.0</td>\n",
       "    </tr>\n",
       "    <tr>\n",
       "      <td>3</td>\n",
       "      <td>15.5</td>\n",
       "      <td>0</td>\n",
       "      <td>10.0</td>\n",
       "    </tr>\n",
       "    <tr>\n",
       "      <td>4</td>\n",
       "      <td>16.0</td>\n",
       "      <td>0</td>\n",
       "      <td>13.0</td>\n",
       "    </tr>\n",
       "  </tbody>\n",
       "</table>\n",
       "</div>"
      ],
      "text/plain": [
       "   total_area  rooms  living_area_fin\n",
       "0        12.0      1             10.0\n",
       "1        13.0      1             10.0\n",
       "2        14.0      1             11.0\n",
       "3        15.5      0             10.0\n",
       "4        16.0      0             13.0"
      ]
     },
     "execution_count": 82,
     "metadata": {},
     "output_type": "execute_result"
    }
   ],
   "source": [
    "liv_area_dict = data.pivot_table(index=['total_area', 'rooms'], values ='living_area', aggfunc = 'median')\n",
    "liv_area_dict.reset_index(inplace = True)\n",
    "new_name = ['total_area', 'rooms', 'living_area_fin']\n",
    "liv_area_dict.set_axis(new_name, axis = 'columns', inplace = True)\n",
    "liv_area_dict.head()"
   ]
  },
  {
   "cell_type": "markdown",
   "metadata": {},
   "source": [
    "Создадим справочник медиан для заполнения пропусков в поле living_area. Критериями будут общая площадь объекта и этажность дома."
   ]
  },
  {
   "cell_type": "code",
   "execution_count": 83,
   "metadata": {},
   "outputs": [
    {
     "data": {
      "text/html": [
       "<div>\n",
       "<style scoped>\n",
       "    .dataframe tbody tr th:only-of-type {\n",
       "        vertical-align: middle;\n",
       "    }\n",
       "\n",
       "    .dataframe tbody tr th {\n",
       "        vertical-align: top;\n",
       "    }\n",
       "\n",
       "    .dataframe thead th {\n",
       "        text-align: right;\n",
       "    }\n",
       "</style>\n",
       "<table border=\"1\" class=\"dataframe\">\n",
       "  <thead>\n",
       "    <tr style=\"text-align: right;\">\n",
       "      <th></th>\n",
       "      <th>total_images</th>\n",
       "      <th>last_price</th>\n",
       "      <th>total_area</th>\n",
       "      <th>first_day_exposition</th>\n",
       "      <th>rooms</th>\n",
       "      <th>ceiling_height</th>\n",
       "      <th>floors_total</th>\n",
       "      <th>living_area</th>\n",
       "      <th>floor</th>\n",
       "      <th>is_apartment</th>\n",
       "      <th>...</th>\n",
       "      <th>parks_nearest</th>\n",
       "      <th>ponds_around3000</th>\n",
       "      <th>ponds_nearest</th>\n",
       "      <th>days_exposition</th>\n",
       "      <th>price_per_m2</th>\n",
       "      <th>year</th>\n",
       "      <th>diff</th>\n",
       "      <th>nw_loc_nm</th>\n",
       "      <th>floors_total_fin</th>\n",
       "      <th>living_area_fin</th>\n",
       "    </tr>\n",
       "  </thead>\n",
       "  <tbody>\n",
       "    <tr>\n",
       "      <td>0</td>\n",
       "      <td>20</td>\n",
       "      <td>13000000.0</td>\n",
       "      <td>108.0</td>\n",
       "      <td>2019-03-07</td>\n",
       "      <td>3</td>\n",
       "      <td>2.70</td>\n",
       "      <td>16</td>\n",
       "      <td>51.0</td>\n",
       "      <td>8</td>\n",
       "      <td>NaN</td>\n",
       "      <td>...</td>\n",
       "      <td>482.0</td>\n",
       "      <td>2.0</td>\n",
       "      <td>755.0</td>\n",
       "      <td>57.0</td>\n",
       "      <td>120370.370370</td>\n",
       "      <td>2019</td>\n",
       "      <td>57</td>\n",
       "      <td>САНКТ-ПЕТЕРБУРГ</td>\n",
       "      <td>16</td>\n",
       "      <td>57.30</td>\n",
       "    </tr>\n",
       "    <tr>\n",
       "      <td>1</td>\n",
       "      <td>10</td>\n",
       "      <td>5196000.0</td>\n",
       "      <td>56.0</td>\n",
       "      <td>2015-08-20</td>\n",
       "      <td>2</td>\n",
       "      <td>NaN</td>\n",
       "      <td>5</td>\n",
       "      <td>34.3</td>\n",
       "      <td>4</td>\n",
       "      <td>NaN</td>\n",
       "      <td>...</td>\n",
       "      <td>90.0</td>\n",
       "      <td>2.0</td>\n",
       "      <td>574.0</td>\n",
       "      <td>558.0</td>\n",
       "      <td>92785.714286</td>\n",
       "      <td>2015</td>\n",
       "      <td>1352</td>\n",
       "      <td>САНКТ-ПЕТЕРБУРГ</td>\n",
       "      <td>5</td>\n",
       "      <td>32.00</td>\n",
       "    </tr>\n",
       "    <tr>\n",
       "      <td>2</td>\n",
       "      <td>0</td>\n",
       "      <td>64900000.0</td>\n",
       "      <td>159.0</td>\n",
       "      <td>2015-07-24</td>\n",
       "      <td>3</td>\n",
       "      <td>NaN</td>\n",
       "      <td>14</td>\n",
       "      <td>NaN</td>\n",
       "      <td>9</td>\n",
       "      <td>NaN</td>\n",
       "      <td>...</td>\n",
       "      <td>84.0</td>\n",
       "      <td>3.0</td>\n",
       "      <td>234.0</td>\n",
       "      <td>424.0</td>\n",
       "      <td>408176.100629</td>\n",
       "      <td>2015</td>\n",
       "      <td>1379</td>\n",
       "      <td>САНКТ-ПЕТЕРБУРГ</td>\n",
       "      <td>14</td>\n",
       "      <td>54.00</td>\n",
       "    </tr>\n",
       "    <tr>\n",
       "      <td>3</td>\n",
       "      <td>2</td>\n",
       "      <td>10000000.0</td>\n",
       "      <td>100.0</td>\n",
       "      <td>2018-06-19</td>\n",
       "      <td>2</td>\n",
       "      <td>3.03</td>\n",
       "      <td>14</td>\n",
       "      <td>32.0</td>\n",
       "      <td>13</td>\n",
       "      <td>NaN</td>\n",
       "      <td>...</td>\n",
       "      <td>112.0</td>\n",
       "      <td>1.0</td>\n",
       "      <td>48.0</td>\n",
       "      <td>121.0</td>\n",
       "      <td>100000.000000</td>\n",
       "      <td>2018</td>\n",
       "      <td>318</td>\n",
       "      <td>САНКТ-ПЕТЕРБУРГ</td>\n",
       "      <td>14</td>\n",
       "      <td>44.50</td>\n",
       "    </tr>\n",
       "    <tr>\n",
       "      <td>4</td>\n",
       "      <td>5</td>\n",
       "      <td>7915000.0</td>\n",
       "      <td>71.6</td>\n",
       "      <td>2019-04-18</td>\n",
       "      <td>2</td>\n",
       "      <td>NaN</td>\n",
       "      <td>24</td>\n",
       "      <td>NaN</td>\n",
       "      <td>22</td>\n",
       "      <td>NaN</td>\n",
       "      <td>...</td>\n",
       "      <td>NaN</td>\n",
       "      <td>0.0</td>\n",
       "      <td>NaN</td>\n",
       "      <td>15.0</td>\n",
       "      <td>110544.692737</td>\n",
       "      <td>2019</td>\n",
       "      <td>15</td>\n",
       "      <td>САНКТ-ПЕТЕРБУРГ</td>\n",
       "      <td>24</td>\n",
       "      <td>34.65</td>\n",
       "    </tr>\n",
       "  </tbody>\n",
       "</table>\n",
       "<p>5 rows × 28 columns</p>\n",
       "</div>"
      ],
      "text/plain": [
       "   total_images  last_price  total_area first_day_exposition  rooms  \\\n",
       "0            20  13000000.0       108.0           2019-03-07      3   \n",
       "1            10   5196000.0        56.0           2015-08-20      2   \n",
       "2             0  64900000.0       159.0           2015-07-24      3   \n",
       "3             2  10000000.0       100.0           2018-06-19      2   \n",
       "4             5   7915000.0        71.6           2019-04-18      2   \n",
       "\n",
       "   ceiling_height  floors_total  living_area  floor is_apartment  ...  \\\n",
       "0            2.70            16         51.0      8          NaN  ...   \n",
       "1             NaN             5         34.3      4          NaN  ...   \n",
       "2             NaN            14          NaN      9          NaN  ...   \n",
       "3            3.03            14         32.0     13          NaN  ...   \n",
       "4             NaN            24          NaN     22          NaN  ...   \n",
       "\n",
       "   parks_nearest  ponds_around3000  ponds_nearest  days_exposition  \\\n",
       "0          482.0               2.0          755.0             57.0   \n",
       "1           90.0               2.0          574.0            558.0   \n",
       "2           84.0               3.0          234.0            424.0   \n",
       "3          112.0               1.0           48.0            121.0   \n",
       "4            NaN               0.0            NaN             15.0   \n",
       "\n",
       "    price_per_m2  year  diff        nw_loc_nm  floors_total_fin  \\\n",
       "0  120370.370370  2019    57  САНКТ-ПЕТЕРБУРГ                16   \n",
       "1   92785.714286  2015  1352  САНКТ-ПЕТЕРБУРГ                 5   \n",
       "2  408176.100629  2015  1379  САНКТ-ПЕТЕРБУРГ                14   \n",
       "3  100000.000000  2018   318  САНКТ-ПЕТЕРБУРГ                14   \n",
       "4  110544.692737  2019    15  САНКТ-ПЕТЕРБУРГ                24   \n",
       "\n",
       "   living_area_fin  \n",
       "0            57.30  \n",
       "1            32.00  \n",
       "2            54.00  \n",
       "3            44.50  \n",
       "4            34.65  \n",
       "\n",
       "[5 rows x 28 columns]"
      ]
     },
     "execution_count": 83,
     "metadata": {},
     "output_type": "execute_result"
    }
   ],
   "source": [
    "data = data.merge(liv_area_dict, on = ['total_area', 'rooms'], how = 'left')\n",
    "data.head()"
   ]
  },
  {
   "cell_type": "markdown",
   "metadata": {},
   "source": [
    "Объединим таблицы и добавим медианные значения жилой площади."
   ]
  },
  {
   "cell_type": "code",
   "execution_count": 84,
   "metadata": {},
   "outputs": [
    {
     "data": {
      "text/plain": [
       "211"
      ]
     },
     "execution_count": 84,
     "metadata": {},
     "output_type": "execute_result"
    }
   ],
   "source": [
    "len(data[data['living_area_fin'].isna()])"
   ]
  },
  {
   "cell_type": "code",
   "execution_count": 85,
   "metadata": {},
   "outputs": [],
   "source": [
    "data=data.dropna(subset=['living_area_fin'])"
   ]
  },
  {
   "cell_type": "markdown",
   "metadata": {},
   "source": [
    "Осталось 211 незаполненных объектов с жилой площадью. Удалим эти записи, их доля в датасете меньше 1%."
   ]
  },
  {
   "cell_type": "code",
   "execution_count": 86,
   "metadata": {
    "scrolled": false
   },
   "outputs": [
    {
     "data": {
      "text/html": [
       "<div>\n",
       "<style scoped>\n",
       "    .dataframe tbody tr th:only-of-type {\n",
       "        vertical-align: middle;\n",
       "    }\n",
       "\n",
       "    .dataframe tbody tr th {\n",
       "        vertical-align: top;\n",
       "    }\n",
       "\n",
       "    .dataframe thead th {\n",
       "        text-align: right;\n",
       "    }\n",
       "</style>\n",
       "<table border=\"1\" class=\"dataframe\">\n",
       "  <thead>\n",
       "    <tr style=\"text-align: right;\">\n",
       "      <th></th>\n",
       "      <th>total_images</th>\n",
       "      <th>last_price</th>\n",
       "      <th>total_area</th>\n",
       "      <th>first_day_exposition</th>\n",
       "      <th>rooms</th>\n",
       "      <th>ceiling_height</th>\n",
       "      <th>floors_total</th>\n",
       "      <th>living_area</th>\n",
       "      <th>floor</th>\n",
       "      <th>is_apartment</th>\n",
       "      <th>...</th>\n",
       "      <th>ponds_around3000</th>\n",
       "      <th>ponds_nearest</th>\n",
       "      <th>days_exposition</th>\n",
       "      <th>price_per_m2</th>\n",
       "      <th>year</th>\n",
       "      <th>diff</th>\n",
       "      <th>nw_loc_nm</th>\n",
       "      <th>floors_total_fin</th>\n",
       "      <th>living_area_fin</th>\n",
       "      <th>ceiling_height_fin</th>\n",
       "    </tr>\n",
       "  </thead>\n",
       "  <tbody>\n",
       "    <tr>\n",
       "      <td>0</td>\n",
       "      <td>20</td>\n",
       "      <td>13000000.0</td>\n",
       "      <td>108.0</td>\n",
       "      <td>2019-03-07</td>\n",
       "      <td>3</td>\n",
       "      <td>2.70</td>\n",
       "      <td>16</td>\n",
       "      <td>51.0</td>\n",
       "      <td>8</td>\n",
       "      <td>NaN</td>\n",
       "      <td>...</td>\n",
       "      <td>2.0</td>\n",
       "      <td>755.0</td>\n",
       "      <td>57.0</td>\n",
       "      <td>120370.370370</td>\n",
       "      <td>2019</td>\n",
       "      <td>57</td>\n",
       "      <td>САНКТ-ПЕТЕРБУРГ</td>\n",
       "      <td>16</td>\n",
       "      <td>57.30</td>\n",
       "      <td>2.70</td>\n",
       "    </tr>\n",
       "    <tr>\n",
       "      <td>1</td>\n",
       "      <td>10</td>\n",
       "      <td>5196000.0</td>\n",
       "      <td>56.0</td>\n",
       "      <td>2015-08-20</td>\n",
       "      <td>2</td>\n",
       "      <td>NaN</td>\n",
       "      <td>5</td>\n",
       "      <td>34.3</td>\n",
       "      <td>4</td>\n",
       "      <td>NaN</td>\n",
       "      <td>...</td>\n",
       "      <td>2.0</td>\n",
       "      <td>574.0</td>\n",
       "      <td>558.0</td>\n",
       "      <td>92785.714286</td>\n",
       "      <td>2015</td>\n",
       "      <td>1352</td>\n",
       "      <td>САНКТ-ПЕТЕРБУРГ</td>\n",
       "      <td>5</td>\n",
       "      <td>32.00</td>\n",
       "      <td>NaN</td>\n",
       "    </tr>\n",
       "    <tr>\n",
       "      <td>2</td>\n",
       "      <td>0</td>\n",
       "      <td>64900000.0</td>\n",
       "      <td>159.0</td>\n",
       "      <td>2015-07-24</td>\n",
       "      <td>3</td>\n",
       "      <td>NaN</td>\n",
       "      <td>14</td>\n",
       "      <td>NaN</td>\n",
       "      <td>9</td>\n",
       "      <td>NaN</td>\n",
       "      <td>...</td>\n",
       "      <td>3.0</td>\n",
       "      <td>234.0</td>\n",
       "      <td>424.0</td>\n",
       "      <td>408176.100629</td>\n",
       "      <td>2015</td>\n",
       "      <td>1379</td>\n",
       "      <td>САНКТ-ПЕТЕРБУРГ</td>\n",
       "      <td>14</td>\n",
       "      <td>54.00</td>\n",
       "      <td>NaN</td>\n",
       "    </tr>\n",
       "    <tr>\n",
       "      <td>3</td>\n",
       "      <td>2</td>\n",
       "      <td>10000000.0</td>\n",
       "      <td>100.0</td>\n",
       "      <td>2018-06-19</td>\n",
       "      <td>2</td>\n",
       "      <td>3.03</td>\n",
       "      <td>14</td>\n",
       "      <td>32.0</td>\n",
       "      <td>13</td>\n",
       "      <td>NaN</td>\n",
       "      <td>...</td>\n",
       "      <td>1.0</td>\n",
       "      <td>48.0</td>\n",
       "      <td>121.0</td>\n",
       "      <td>100000.000000</td>\n",
       "      <td>2018</td>\n",
       "      <td>318</td>\n",
       "      <td>САНКТ-ПЕТЕРБУРГ</td>\n",
       "      <td>14</td>\n",
       "      <td>44.50</td>\n",
       "      <td>3.03</td>\n",
       "    </tr>\n",
       "    <tr>\n",
       "      <td>4</td>\n",
       "      <td>5</td>\n",
       "      <td>7915000.0</td>\n",
       "      <td>71.6</td>\n",
       "      <td>2019-04-18</td>\n",
       "      <td>2</td>\n",
       "      <td>NaN</td>\n",
       "      <td>24</td>\n",
       "      <td>NaN</td>\n",
       "      <td>22</td>\n",
       "      <td>NaN</td>\n",
       "      <td>...</td>\n",
       "      <td>0.0</td>\n",
       "      <td>NaN</td>\n",
       "      <td>15.0</td>\n",
       "      <td>110544.692737</td>\n",
       "      <td>2019</td>\n",
       "      <td>15</td>\n",
       "      <td>САНКТ-ПЕТЕРБУРГ</td>\n",
       "      <td>24</td>\n",
       "      <td>34.65</td>\n",
       "      <td>NaN</td>\n",
       "    </tr>\n",
       "  </tbody>\n",
       "</table>\n",
       "<p>5 rows × 29 columns</p>\n",
       "</div>"
      ],
      "text/plain": [
       "   total_images  last_price  total_area first_day_exposition  rooms  \\\n",
       "0            20  13000000.0       108.0           2019-03-07      3   \n",
       "1            10   5196000.0        56.0           2015-08-20      2   \n",
       "2             0  64900000.0       159.0           2015-07-24      3   \n",
       "3             2  10000000.0       100.0           2018-06-19      2   \n",
       "4             5   7915000.0        71.6           2019-04-18      2   \n",
       "\n",
       "   ceiling_height  floors_total  living_area  floor is_apartment  ...  \\\n",
       "0            2.70            16         51.0      8          NaN  ...   \n",
       "1             NaN             5         34.3      4          NaN  ...   \n",
       "2             NaN            14          NaN      9          NaN  ...   \n",
       "3            3.03            14         32.0     13          NaN  ...   \n",
       "4             NaN            24          NaN     22          NaN  ...   \n",
       "\n",
       "   ponds_around3000  ponds_nearest  days_exposition   price_per_m2  year  \\\n",
       "0               2.0          755.0             57.0  120370.370370  2019   \n",
       "1               2.0          574.0            558.0   92785.714286  2015   \n",
       "2               3.0          234.0            424.0  408176.100629  2015   \n",
       "3               1.0           48.0            121.0  100000.000000  2018   \n",
       "4               0.0            NaN             15.0  110544.692737  2019   \n",
       "\n",
       "   diff        nw_loc_nm  floors_total_fin  living_area_fin  \\\n",
       "0    57  САНКТ-ПЕТЕРБУРГ                16            57.30   \n",
       "1  1352  САНКТ-ПЕТЕРБУРГ                 5            32.00   \n",
       "2  1379  САНКТ-ПЕТЕРБУРГ                14            54.00   \n",
       "3   318  САНКТ-ПЕТЕРБУРГ                14            44.50   \n",
       "4    15  САНКТ-ПЕТЕРБУРГ                24            34.65   \n",
       "\n",
       "   ceiling_height_fin  \n",
       "0                2.70  \n",
       "1                 NaN  \n",
       "2                 NaN  \n",
       "3                3.03  \n",
       "4                 NaN  \n",
       "\n",
       "[5 rows x 29 columns]"
      ]
     },
     "execution_count": 86,
     "metadata": {},
     "output_type": "execute_result"
    }
   ],
   "source": [
    "def ceil_hgt(row):\n",
    "    ceil_h = row['ceiling_height']\n",
    "    if ceil_h>4.5:\n",
    "        return 4.5\n",
    "    elif ceil_h<2.5:\n",
    "        return 2.5\n",
    "    else:\n",
    "        return ceil_h\n",
    "data['ceiling_height_fin'] = data.apply(ceil_hgt, axis = 1)\n",
    "data.head()"
   ]
  },
  {
   "cell_type": "markdown",
   "metadata": {},
   "source": [
    "Уберем вбросы и приравняем потолки выше 4,5 м к 4,5 м и ниже 2,5 м к 2,5 м."
   ]
  },
  {
   "cell_type": "code",
   "execution_count": 87,
   "metadata": {},
   "outputs": [
    {
     "data": {
      "text/plain": [
       "9048"
      ]
     },
     "execution_count": 87,
     "metadata": {},
     "output_type": "execute_result"
    }
   ],
   "source": [
    "len(data[data['ceiling_height'].isna()])"
   ]
  },
  {
   "cell_type": "code",
   "execution_count": 88,
   "metadata": {},
   "outputs": [
    {
     "data": {
      "text/html": [
       "<div>\n",
       "<style scoped>\n",
       "    .dataframe tbody tr th:only-of-type {\n",
       "        vertical-align: middle;\n",
       "    }\n",
       "\n",
       "    .dataframe tbody tr th {\n",
       "        vertical-align: top;\n",
       "    }\n",
       "\n",
       "    .dataframe thead th {\n",
       "        text-align: right;\n",
       "    }\n",
       "</style>\n",
       "<table border=\"1\" class=\"dataframe\">\n",
       "  <thead>\n",
       "    <tr style=\"text-align: right;\">\n",
       "      <th></th>\n",
       "      <th>floors_total_fin</th>\n",
       "      <th>ceiling_height_fin1</th>\n",
       "    </tr>\n",
       "  </thead>\n",
       "  <tbody>\n",
       "    <tr>\n",
       "      <td>0</td>\n",
       "      <td>1</td>\n",
       "      <td>2.80</td>\n",
       "    </tr>\n",
       "    <tr>\n",
       "      <td>1</td>\n",
       "      <td>2</td>\n",
       "      <td>2.70</td>\n",
       "    </tr>\n",
       "    <tr>\n",
       "      <td>2</td>\n",
       "      <td>3</td>\n",
       "      <td>2.80</td>\n",
       "    </tr>\n",
       "    <tr>\n",
       "      <td>3</td>\n",
       "      <td>4</td>\n",
       "      <td>3.00</td>\n",
       "    </tr>\n",
       "    <tr>\n",
       "      <td>4</td>\n",
       "      <td>5</td>\n",
       "      <td>2.55</td>\n",
       "    </tr>\n",
       "  </tbody>\n",
       "</table>\n",
       "</div>"
      ],
      "text/plain": [
       "   floors_total_fin  ceiling_height_fin1\n",
       "0                 1                 2.80\n",
       "1                 2                 2.70\n",
       "2                 3                 2.80\n",
       "3                 4                 3.00\n",
       "4                 5                 2.55"
      ]
     },
     "execution_count": 88,
     "metadata": {},
     "output_type": "execute_result"
    }
   ],
   "source": [
    "ceiling_high_dict = data.pivot_table(index='floors_total_fin', values ='ceiling_height_fin', aggfunc = 'median')\n",
    "ceiling_high_dict.reset_index(inplace = True)\n",
    "new_name = ['floors_total_fin',  'ceiling_height_fin1']\n",
    "ceiling_high_dict.set_axis(new_name, axis = 'columns', inplace = True)\n",
    "ceiling_high_dict.head()"
   ]
  },
  {
   "cell_type": "markdown",
   "metadata": {},
   "source": [
    "Создадим справочник медианной вывсоты потолков в зависимости от этажности дома. Примечание: здесь возможны искажения, т.к. несмотря на то, что жилой фонд преимущественно состоит из типовых домов (гипотеза), могут попадаться дома с потолками, значительно отличающимися от типовых. Причем разница на 10 см в случае высоты потолков - это уже значительная величина. Возможно, медиана сможет сгладить погрешность, но для отдельных нетиповых объектов она все равно будет велика."
   ]
  },
  {
   "cell_type": "code",
   "execution_count": 89,
   "metadata": {
    "scrolled": true
   },
   "outputs": [
    {
     "data": {
      "text/html": [
       "<div>\n",
       "<style scoped>\n",
       "    .dataframe tbody tr th:only-of-type {\n",
       "        vertical-align: middle;\n",
       "    }\n",
       "\n",
       "    .dataframe tbody tr th {\n",
       "        vertical-align: top;\n",
       "    }\n",
       "\n",
       "    .dataframe thead th {\n",
       "        text-align: right;\n",
       "    }\n",
       "</style>\n",
       "<table border=\"1\" class=\"dataframe\">\n",
       "  <thead>\n",
       "    <tr style=\"text-align: right;\">\n",
       "      <th></th>\n",
       "      <th>total_images</th>\n",
       "      <th>last_price</th>\n",
       "      <th>total_area</th>\n",
       "      <th>first_day_exposition</th>\n",
       "      <th>rooms</th>\n",
       "      <th>ceiling_height</th>\n",
       "      <th>floors_total</th>\n",
       "      <th>living_area</th>\n",
       "      <th>floor</th>\n",
       "      <th>is_apartment</th>\n",
       "      <th>...</th>\n",
       "      <th>ponds_nearest</th>\n",
       "      <th>days_exposition</th>\n",
       "      <th>price_per_m2</th>\n",
       "      <th>year</th>\n",
       "      <th>diff</th>\n",
       "      <th>nw_loc_nm</th>\n",
       "      <th>floors_total_fin</th>\n",
       "      <th>living_area_fin</th>\n",
       "      <th>ceiling_height_fin</th>\n",
       "      <th>ceiling_height_fin1</th>\n",
       "    </tr>\n",
       "  </thead>\n",
       "  <tbody>\n",
       "    <tr>\n",
       "      <td>0</td>\n",
       "      <td>20</td>\n",
       "      <td>13000000.0</td>\n",
       "      <td>108.0</td>\n",
       "      <td>2019-03-07</td>\n",
       "      <td>3</td>\n",
       "      <td>2.70</td>\n",
       "      <td>16</td>\n",
       "      <td>51.0</td>\n",
       "      <td>8</td>\n",
       "      <td>NaN</td>\n",
       "      <td>...</td>\n",
       "      <td>755.0</td>\n",
       "      <td>57.0</td>\n",
       "      <td>120370.370370</td>\n",
       "      <td>2019</td>\n",
       "      <td>57</td>\n",
       "      <td>САНКТ-ПЕТЕРБУРГ</td>\n",
       "      <td>16</td>\n",
       "      <td>57.30</td>\n",
       "      <td>2.70</td>\n",
       "      <td>2.70</td>\n",
       "    </tr>\n",
       "    <tr>\n",
       "      <td>1</td>\n",
       "      <td>10</td>\n",
       "      <td>5196000.0</td>\n",
       "      <td>56.0</td>\n",
       "      <td>2015-08-20</td>\n",
       "      <td>2</td>\n",
       "      <td>NaN</td>\n",
       "      <td>5</td>\n",
       "      <td>34.3</td>\n",
       "      <td>4</td>\n",
       "      <td>NaN</td>\n",
       "      <td>...</td>\n",
       "      <td>574.0</td>\n",
       "      <td>558.0</td>\n",
       "      <td>92785.714286</td>\n",
       "      <td>2015</td>\n",
       "      <td>1352</td>\n",
       "      <td>САНКТ-ПЕТЕРБУРГ</td>\n",
       "      <td>5</td>\n",
       "      <td>32.00</td>\n",
       "      <td>NaN</td>\n",
       "      <td>2.55</td>\n",
       "    </tr>\n",
       "    <tr>\n",
       "      <td>2</td>\n",
       "      <td>0</td>\n",
       "      <td>64900000.0</td>\n",
       "      <td>159.0</td>\n",
       "      <td>2015-07-24</td>\n",
       "      <td>3</td>\n",
       "      <td>NaN</td>\n",
       "      <td>14</td>\n",
       "      <td>NaN</td>\n",
       "      <td>9</td>\n",
       "      <td>NaN</td>\n",
       "      <td>...</td>\n",
       "      <td>234.0</td>\n",
       "      <td>424.0</td>\n",
       "      <td>408176.100629</td>\n",
       "      <td>2015</td>\n",
       "      <td>1379</td>\n",
       "      <td>САНКТ-ПЕТЕРБУРГ</td>\n",
       "      <td>14</td>\n",
       "      <td>54.00</td>\n",
       "      <td>NaN</td>\n",
       "      <td>2.60</td>\n",
       "    </tr>\n",
       "    <tr>\n",
       "      <td>3</td>\n",
       "      <td>2</td>\n",
       "      <td>10000000.0</td>\n",
       "      <td>100.0</td>\n",
       "      <td>2018-06-19</td>\n",
       "      <td>2</td>\n",
       "      <td>3.03</td>\n",
       "      <td>14</td>\n",
       "      <td>32.0</td>\n",
       "      <td>13</td>\n",
       "      <td>NaN</td>\n",
       "      <td>...</td>\n",
       "      <td>48.0</td>\n",
       "      <td>121.0</td>\n",
       "      <td>100000.000000</td>\n",
       "      <td>2018</td>\n",
       "      <td>318</td>\n",
       "      <td>САНКТ-ПЕТЕРБУРГ</td>\n",
       "      <td>14</td>\n",
       "      <td>44.50</td>\n",
       "      <td>3.03</td>\n",
       "      <td>2.60</td>\n",
       "    </tr>\n",
       "    <tr>\n",
       "      <td>4</td>\n",
       "      <td>5</td>\n",
       "      <td>7915000.0</td>\n",
       "      <td>71.6</td>\n",
       "      <td>2019-04-18</td>\n",
       "      <td>2</td>\n",
       "      <td>NaN</td>\n",
       "      <td>24</td>\n",
       "      <td>NaN</td>\n",
       "      <td>22</td>\n",
       "      <td>NaN</td>\n",
       "      <td>...</td>\n",
       "      <td>NaN</td>\n",
       "      <td>15.0</td>\n",
       "      <td>110544.692737</td>\n",
       "      <td>2019</td>\n",
       "      <td>15</td>\n",
       "      <td>САНКТ-ПЕТЕРБУРГ</td>\n",
       "      <td>24</td>\n",
       "      <td>34.65</td>\n",
       "      <td>NaN</td>\n",
       "      <td>2.75</td>\n",
       "    </tr>\n",
       "  </tbody>\n",
       "</table>\n",
       "<p>5 rows × 30 columns</p>\n",
       "</div>"
      ],
      "text/plain": [
       "   total_images  last_price  total_area first_day_exposition  rooms  \\\n",
       "0            20  13000000.0       108.0           2019-03-07      3   \n",
       "1            10   5196000.0        56.0           2015-08-20      2   \n",
       "2             0  64900000.0       159.0           2015-07-24      3   \n",
       "3             2  10000000.0       100.0           2018-06-19      2   \n",
       "4             5   7915000.0        71.6           2019-04-18      2   \n",
       "\n",
       "   ceiling_height  floors_total  living_area  floor is_apartment  ...  \\\n",
       "0            2.70            16         51.0      8          NaN  ...   \n",
       "1             NaN             5         34.3      4          NaN  ...   \n",
       "2             NaN            14          NaN      9          NaN  ...   \n",
       "3            3.03            14         32.0     13          NaN  ...   \n",
       "4             NaN            24          NaN     22          NaN  ...   \n",
       "\n",
       "   ponds_nearest  days_exposition   price_per_m2  year  diff        nw_loc_nm  \\\n",
       "0          755.0             57.0  120370.370370  2019    57  САНКТ-ПЕТЕРБУРГ   \n",
       "1          574.0            558.0   92785.714286  2015  1352  САНКТ-ПЕТЕРБУРГ   \n",
       "2          234.0            424.0  408176.100629  2015  1379  САНКТ-ПЕТЕРБУРГ   \n",
       "3           48.0            121.0  100000.000000  2018   318  САНКТ-ПЕТЕРБУРГ   \n",
       "4            NaN             15.0  110544.692737  2019    15  САНКТ-ПЕТЕРБУРГ   \n",
       "\n",
       "   floors_total_fin  living_area_fin  ceiling_height_fin  ceiling_height_fin1  \n",
       "0                16            57.30                2.70                 2.70  \n",
       "1                 5            32.00                 NaN                 2.55  \n",
       "2                14            54.00                 NaN                 2.60  \n",
       "3                14            44.50                3.03                 2.60  \n",
       "4                24            34.65                 NaN                 2.75  \n",
       "\n",
       "[5 rows x 30 columns]"
      ]
     },
     "execution_count": 89,
     "metadata": {},
     "output_type": "execute_result"
    }
   ],
   "source": [
    "data = data.merge(ceiling_high_dict, on = 'floors_total_fin', how = 'left')\n",
    "data.head()"
   ]
  },
  {
   "cell_type": "code",
   "execution_count": 90,
   "metadata": {},
   "outputs": [
    {
     "data": {
      "text/html": [
       "<div>\n",
       "<style scoped>\n",
       "    .dataframe tbody tr th:only-of-type {\n",
       "        vertical-align: middle;\n",
       "    }\n",
       "\n",
       "    .dataframe tbody tr th {\n",
       "        vertical-align: top;\n",
       "    }\n",
       "\n",
       "    .dataframe thead th {\n",
       "        text-align: right;\n",
       "    }\n",
       "</style>\n",
       "<table border=\"1\" class=\"dataframe\">\n",
       "  <thead>\n",
       "    <tr style=\"text-align: right;\">\n",
       "      <th></th>\n",
       "      <th>total_images</th>\n",
       "      <th>last_price</th>\n",
       "      <th>total_area</th>\n",
       "      <th>first_day_exposition</th>\n",
       "      <th>rooms</th>\n",
       "      <th>ceiling_height</th>\n",
       "      <th>floors_total</th>\n",
       "      <th>living_area</th>\n",
       "      <th>floor</th>\n",
       "      <th>is_apartment</th>\n",
       "      <th>...</th>\n",
       "      <th>ponds_nearest</th>\n",
       "      <th>days_exposition</th>\n",
       "      <th>price_per_m2</th>\n",
       "      <th>year</th>\n",
       "      <th>diff</th>\n",
       "      <th>nw_loc_nm</th>\n",
       "      <th>floors_total_fin</th>\n",
       "      <th>living_area_fin</th>\n",
       "      <th>ceiling_height_fin</th>\n",
       "      <th>ceiling_height_fin1</th>\n",
       "    </tr>\n",
       "  </thead>\n",
       "  <tbody>\n",
       "    <tr>\n",
       "      <td>0</td>\n",
       "      <td>20</td>\n",
       "      <td>13000000.0</td>\n",
       "      <td>108.0</td>\n",
       "      <td>2019-03-07</td>\n",
       "      <td>3</td>\n",
       "      <td>2.70</td>\n",
       "      <td>16</td>\n",
       "      <td>51.0</td>\n",
       "      <td>8</td>\n",
       "      <td>NaN</td>\n",
       "      <td>...</td>\n",
       "      <td>755.0</td>\n",
       "      <td>57.0</td>\n",
       "      <td>120370.370370</td>\n",
       "      <td>2019</td>\n",
       "      <td>57</td>\n",
       "      <td>САНКТ-ПЕТЕРБУРГ</td>\n",
       "      <td>16</td>\n",
       "      <td>57.30</td>\n",
       "      <td>2.70</td>\n",
       "      <td>2.70</td>\n",
       "    </tr>\n",
       "    <tr>\n",
       "      <td>1</td>\n",
       "      <td>10</td>\n",
       "      <td>5196000.0</td>\n",
       "      <td>56.0</td>\n",
       "      <td>2015-08-20</td>\n",
       "      <td>2</td>\n",
       "      <td>NaN</td>\n",
       "      <td>5</td>\n",
       "      <td>34.3</td>\n",
       "      <td>4</td>\n",
       "      <td>NaN</td>\n",
       "      <td>...</td>\n",
       "      <td>574.0</td>\n",
       "      <td>558.0</td>\n",
       "      <td>92785.714286</td>\n",
       "      <td>2015</td>\n",
       "      <td>1352</td>\n",
       "      <td>САНКТ-ПЕТЕРБУРГ</td>\n",
       "      <td>5</td>\n",
       "      <td>32.00</td>\n",
       "      <td>2.55</td>\n",
       "      <td>2.55</td>\n",
       "    </tr>\n",
       "    <tr>\n",
       "      <td>2</td>\n",
       "      <td>0</td>\n",
       "      <td>64900000.0</td>\n",
       "      <td>159.0</td>\n",
       "      <td>2015-07-24</td>\n",
       "      <td>3</td>\n",
       "      <td>NaN</td>\n",
       "      <td>14</td>\n",
       "      <td>NaN</td>\n",
       "      <td>9</td>\n",
       "      <td>NaN</td>\n",
       "      <td>...</td>\n",
       "      <td>234.0</td>\n",
       "      <td>424.0</td>\n",
       "      <td>408176.100629</td>\n",
       "      <td>2015</td>\n",
       "      <td>1379</td>\n",
       "      <td>САНКТ-ПЕТЕРБУРГ</td>\n",
       "      <td>14</td>\n",
       "      <td>54.00</td>\n",
       "      <td>2.60</td>\n",
       "      <td>2.60</td>\n",
       "    </tr>\n",
       "    <tr>\n",
       "      <td>3</td>\n",
       "      <td>2</td>\n",
       "      <td>10000000.0</td>\n",
       "      <td>100.0</td>\n",
       "      <td>2018-06-19</td>\n",
       "      <td>2</td>\n",
       "      <td>3.03</td>\n",
       "      <td>14</td>\n",
       "      <td>32.0</td>\n",
       "      <td>13</td>\n",
       "      <td>NaN</td>\n",
       "      <td>...</td>\n",
       "      <td>48.0</td>\n",
       "      <td>121.0</td>\n",
       "      <td>100000.000000</td>\n",
       "      <td>2018</td>\n",
       "      <td>318</td>\n",
       "      <td>САНКТ-ПЕТЕРБУРГ</td>\n",
       "      <td>14</td>\n",
       "      <td>44.50</td>\n",
       "      <td>3.03</td>\n",
       "      <td>2.60</td>\n",
       "    </tr>\n",
       "    <tr>\n",
       "      <td>4</td>\n",
       "      <td>5</td>\n",
       "      <td>7915000.0</td>\n",
       "      <td>71.6</td>\n",
       "      <td>2019-04-18</td>\n",
       "      <td>2</td>\n",
       "      <td>NaN</td>\n",
       "      <td>24</td>\n",
       "      <td>NaN</td>\n",
       "      <td>22</td>\n",
       "      <td>NaN</td>\n",
       "      <td>...</td>\n",
       "      <td>NaN</td>\n",
       "      <td>15.0</td>\n",
       "      <td>110544.692737</td>\n",
       "      <td>2019</td>\n",
       "      <td>15</td>\n",
       "      <td>САНКТ-ПЕТЕРБУРГ</td>\n",
       "      <td>24</td>\n",
       "      <td>34.65</td>\n",
       "      <td>2.75</td>\n",
       "      <td>2.75</td>\n",
       "    </tr>\n",
       "  </tbody>\n",
       "</table>\n",
       "<p>5 rows × 30 columns</p>\n",
       "</div>"
      ],
      "text/plain": [
       "   total_images  last_price  total_area first_day_exposition  rooms  \\\n",
       "0            20  13000000.0       108.0           2019-03-07      3   \n",
       "1            10   5196000.0        56.0           2015-08-20      2   \n",
       "2             0  64900000.0       159.0           2015-07-24      3   \n",
       "3             2  10000000.0       100.0           2018-06-19      2   \n",
       "4             5   7915000.0        71.6           2019-04-18      2   \n",
       "\n",
       "   ceiling_height  floors_total  living_area  floor is_apartment  ...  \\\n",
       "0            2.70            16         51.0      8          NaN  ...   \n",
       "1             NaN             5         34.3      4          NaN  ...   \n",
       "2             NaN            14          NaN      9          NaN  ...   \n",
       "3            3.03            14         32.0     13          NaN  ...   \n",
       "4             NaN            24          NaN     22          NaN  ...   \n",
       "\n",
       "   ponds_nearest  days_exposition   price_per_m2  year  diff        nw_loc_nm  \\\n",
       "0          755.0             57.0  120370.370370  2019    57  САНКТ-ПЕТЕРБУРГ   \n",
       "1          574.0            558.0   92785.714286  2015  1352  САНКТ-ПЕТЕРБУРГ   \n",
       "2          234.0            424.0  408176.100629  2015  1379  САНКТ-ПЕТЕРБУРГ   \n",
       "3           48.0            121.0  100000.000000  2018   318  САНКТ-ПЕТЕРБУРГ   \n",
       "4            NaN             15.0  110544.692737  2019    15  САНКТ-ПЕТЕРБУРГ   \n",
       "\n",
       "   floors_total_fin  living_area_fin  ceiling_height_fin  ceiling_height_fin1  \n",
       "0                16            57.30                2.70                 2.70  \n",
       "1                 5            32.00                2.55                 2.55  \n",
       "2                14            54.00                2.60                 2.60  \n",
       "3                14            44.50                3.03                 2.60  \n",
       "4                24            34.65                2.75                 2.75  \n",
       "\n",
       "[5 rows x 30 columns]"
      ]
     },
     "execution_count": 90,
     "metadata": {},
     "output_type": "execute_result"
    }
   ],
   "source": [
    "data['ceiling_height_fin'].fillna(data['ceiling_height_fin1'],inplace = True)\n",
    "data.head()"
   ]
  },
  {
   "cell_type": "code",
   "execution_count": 91,
   "metadata": {},
   "outputs": [
    {
     "data": {
      "text/plain": [
       "1"
      ]
     },
     "execution_count": 91,
     "metadata": {},
     "output_type": "execute_result"
    }
   ],
   "source": [
    "len(data[data['ceiling_height_fin'].isna()])"
   ]
  },
  {
   "cell_type": "markdown",
   "metadata": {},
   "source": [
    "Заменим значения в столбце ceiling_height_fin на медианные. Метод len показывает одно значение NaN."
   ]
  },
  {
   "cell_type": "code",
   "execution_count": 92,
   "metadata": {
    "scrolled": true
   },
   "outputs": [
    {
     "data": {
      "text/html": [
       "<div>\n",
       "<style scoped>\n",
       "    .dataframe tbody tr th:only-of-type {\n",
       "        vertical-align: middle;\n",
       "    }\n",
       "\n",
       "    .dataframe tbody tr th {\n",
       "        vertical-align: top;\n",
       "    }\n",
       "\n",
       "    .dataframe thead th {\n",
       "        text-align: right;\n",
       "    }\n",
       "</style>\n",
       "<table border=\"1\" class=\"dataframe\">\n",
       "  <thead>\n",
       "    <tr style=\"text-align: right;\">\n",
       "      <th></th>\n",
       "      <th>floors_total_fin</th>\n",
       "      <th>rooms</th>\n",
       "      <th>kitch_area_fin</th>\n",
       "    </tr>\n",
       "  </thead>\n",
       "  <tbody>\n",
       "    <tr>\n",
       "      <td>0</td>\n",
       "      <td>1</td>\n",
       "      <td>1</td>\n",
       "      <td>10.30</td>\n",
       "    </tr>\n",
       "    <tr>\n",
       "      <td>1</td>\n",
       "      <td>1</td>\n",
       "      <td>2</td>\n",
       "      <td>7.00</td>\n",
       "    </tr>\n",
       "    <tr>\n",
       "      <td>2</td>\n",
       "      <td>1</td>\n",
       "      <td>3</td>\n",
       "      <td>10.00</td>\n",
       "    </tr>\n",
       "    <tr>\n",
       "      <td>3</td>\n",
       "      <td>2</td>\n",
       "      <td>1</td>\n",
       "      <td>7.00</td>\n",
       "    </tr>\n",
       "    <tr>\n",
       "      <td>4</td>\n",
       "      <td>2</td>\n",
       "      <td>2</td>\n",
       "      <td>6.22</td>\n",
       "    </tr>\n",
       "  </tbody>\n",
       "</table>\n",
       "</div>"
      ],
      "text/plain": [
       "   floors_total_fin  rooms  kitch_area_fin\n",
       "0                 1      1           10.30\n",
       "1                 1      2            7.00\n",
       "2                 1      3           10.00\n",
       "3                 2      1            7.00\n",
       "4                 2      2            6.22"
      ]
     },
     "execution_count": 92,
     "metadata": {},
     "output_type": "execute_result"
    }
   ],
   "source": [
    "kitch_area_dict = data.pivot_table(index=['floors_total_fin', 'rooms'], values ='kitchen_area', aggfunc = 'median')\n",
    "kitch_area_dict.reset_index(inplace = True)\n",
    "new_name = ['floors_total_fin', 'rooms', 'kitch_area_fin']\n",
    "kitch_area_dict.set_axis(new_name, axis = 'columns', inplace = True)\n",
    "kitch_area_dict.head()"
   ]
  },
  {
   "cell_type": "markdown",
   "metadata": {},
   "source": [
    "Создадим справочник kitch_area_dict с медианными значениями площади кухонь в зависимости от этажности дома и количеству комнат."
   ]
  },
  {
   "cell_type": "code",
   "execution_count": 93,
   "metadata": {
    "scrolled": false
   },
   "outputs": [
    {
     "data": {
      "text/html": [
       "<div>\n",
       "<style scoped>\n",
       "    .dataframe tbody tr th:only-of-type {\n",
       "        vertical-align: middle;\n",
       "    }\n",
       "\n",
       "    .dataframe tbody tr th {\n",
       "        vertical-align: top;\n",
       "    }\n",
       "\n",
       "    .dataframe thead th {\n",
       "        text-align: right;\n",
       "    }\n",
       "</style>\n",
       "<table border=\"1\" class=\"dataframe\">\n",
       "  <thead>\n",
       "    <tr style=\"text-align: right;\">\n",
       "      <th></th>\n",
       "      <th>total_images</th>\n",
       "      <th>last_price</th>\n",
       "      <th>total_area</th>\n",
       "      <th>first_day_exposition</th>\n",
       "      <th>rooms</th>\n",
       "      <th>ceiling_height</th>\n",
       "      <th>floors_total</th>\n",
       "      <th>living_area</th>\n",
       "      <th>floor</th>\n",
       "      <th>is_apartment</th>\n",
       "      <th>...</th>\n",
       "      <th>days_exposition</th>\n",
       "      <th>price_per_m2</th>\n",
       "      <th>year</th>\n",
       "      <th>diff</th>\n",
       "      <th>nw_loc_nm</th>\n",
       "      <th>floors_total_fin</th>\n",
       "      <th>living_area_fin</th>\n",
       "      <th>ceiling_height_fin</th>\n",
       "      <th>ceiling_height_fin1</th>\n",
       "      <th>kitch_area_fin</th>\n",
       "    </tr>\n",
       "  </thead>\n",
       "  <tbody>\n",
       "    <tr>\n",
       "      <td>0</td>\n",
       "      <td>20</td>\n",
       "      <td>13000000.0</td>\n",
       "      <td>108.0</td>\n",
       "      <td>2019-03-07</td>\n",
       "      <td>3</td>\n",
       "      <td>2.70</td>\n",
       "      <td>16</td>\n",
       "      <td>51.0</td>\n",
       "      <td>8</td>\n",
       "      <td>NaN</td>\n",
       "      <td>...</td>\n",
       "      <td>57.0</td>\n",
       "      <td>120370.370370</td>\n",
       "      <td>2019</td>\n",
       "      <td>57</td>\n",
       "      <td>САНКТ-ПЕТЕРБУРГ</td>\n",
       "      <td>16</td>\n",
       "      <td>57.30</td>\n",
       "      <td>2.70</td>\n",
       "      <td>2.70</td>\n",
       "      <td>13.00</td>\n",
       "    </tr>\n",
       "    <tr>\n",
       "      <td>1</td>\n",
       "      <td>10</td>\n",
       "      <td>5196000.0</td>\n",
       "      <td>56.0</td>\n",
       "      <td>2015-08-20</td>\n",
       "      <td>2</td>\n",
       "      <td>NaN</td>\n",
       "      <td>5</td>\n",
       "      <td>34.3</td>\n",
       "      <td>4</td>\n",
       "      <td>NaN</td>\n",
       "      <td>...</td>\n",
       "      <td>558.0</td>\n",
       "      <td>92785.714286</td>\n",
       "      <td>2015</td>\n",
       "      <td>1352</td>\n",
       "      <td>САНКТ-ПЕТЕРБУРГ</td>\n",
       "      <td>5</td>\n",
       "      <td>32.00</td>\n",
       "      <td>2.55</td>\n",
       "      <td>2.55</td>\n",
       "      <td>7.00</td>\n",
       "    </tr>\n",
       "    <tr>\n",
       "      <td>2</td>\n",
       "      <td>0</td>\n",
       "      <td>64900000.0</td>\n",
       "      <td>159.0</td>\n",
       "      <td>2015-07-24</td>\n",
       "      <td>3</td>\n",
       "      <td>NaN</td>\n",
       "      <td>14</td>\n",
       "      <td>NaN</td>\n",
       "      <td>9</td>\n",
       "      <td>NaN</td>\n",
       "      <td>...</td>\n",
       "      <td>424.0</td>\n",
       "      <td>408176.100629</td>\n",
       "      <td>2015</td>\n",
       "      <td>1379</td>\n",
       "      <td>САНКТ-ПЕТЕРБУРГ</td>\n",
       "      <td>14</td>\n",
       "      <td>54.00</td>\n",
       "      <td>2.60</td>\n",
       "      <td>2.60</td>\n",
       "      <td>10.65</td>\n",
       "    </tr>\n",
       "    <tr>\n",
       "      <td>3</td>\n",
       "      <td>2</td>\n",
       "      <td>10000000.0</td>\n",
       "      <td>100.0</td>\n",
       "      <td>2018-06-19</td>\n",
       "      <td>2</td>\n",
       "      <td>3.03</td>\n",
       "      <td>14</td>\n",
       "      <td>32.0</td>\n",
       "      <td>13</td>\n",
       "      <td>NaN</td>\n",
       "      <td>...</td>\n",
       "      <td>121.0</td>\n",
       "      <td>100000.000000</td>\n",
       "      <td>2018</td>\n",
       "      <td>318</td>\n",
       "      <td>САНКТ-ПЕТЕРБУРГ</td>\n",
       "      <td>14</td>\n",
       "      <td>44.50</td>\n",
       "      <td>3.03</td>\n",
       "      <td>2.60</td>\n",
       "      <td>9.00</td>\n",
       "    </tr>\n",
       "    <tr>\n",
       "      <td>4</td>\n",
       "      <td>5</td>\n",
       "      <td>7915000.0</td>\n",
       "      <td>71.6</td>\n",
       "      <td>2019-04-18</td>\n",
       "      <td>2</td>\n",
       "      <td>NaN</td>\n",
       "      <td>24</td>\n",
       "      <td>NaN</td>\n",
       "      <td>22</td>\n",
       "      <td>NaN</td>\n",
       "      <td>...</td>\n",
       "      <td>15.0</td>\n",
       "      <td>110544.692737</td>\n",
       "      <td>2019</td>\n",
       "      <td>15</td>\n",
       "      <td>САНКТ-ПЕТЕРБУРГ</td>\n",
       "      <td>24</td>\n",
       "      <td>34.65</td>\n",
       "      <td>2.75</td>\n",
       "      <td>2.75</td>\n",
       "      <td>12.00</td>\n",
       "    </tr>\n",
       "  </tbody>\n",
       "</table>\n",
       "<p>5 rows × 31 columns</p>\n",
       "</div>"
      ],
      "text/plain": [
       "   total_images  last_price  total_area first_day_exposition  rooms  \\\n",
       "0            20  13000000.0       108.0           2019-03-07      3   \n",
       "1            10   5196000.0        56.0           2015-08-20      2   \n",
       "2             0  64900000.0       159.0           2015-07-24      3   \n",
       "3             2  10000000.0       100.0           2018-06-19      2   \n",
       "4             5   7915000.0        71.6           2019-04-18      2   \n",
       "\n",
       "   ceiling_height  floors_total  living_area  floor is_apartment  ...  \\\n",
       "0            2.70            16         51.0      8          NaN  ...   \n",
       "1             NaN             5         34.3      4          NaN  ...   \n",
       "2             NaN            14          NaN      9          NaN  ...   \n",
       "3            3.03            14         32.0     13          NaN  ...   \n",
       "4             NaN            24          NaN     22          NaN  ...   \n",
       "\n",
       "   days_exposition   price_per_m2  year  diff        nw_loc_nm  \\\n",
       "0             57.0  120370.370370  2019    57  САНКТ-ПЕТЕРБУРГ   \n",
       "1            558.0   92785.714286  2015  1352  САНКТ-ПЕТЕРБУРГ   \n",
       "2            424.0  408176.100629  2015  1379  САНКТ-ПЕТЕРБУРГ   \n",
       "3            121.0  100000.000000  2018   318  САНКТ-ПЕТЕРБУРГ   \n",
       "4             15.0  110544.692737  2019    15  САНКТ-ПЕТЕРБУРГ   \n",
       "\n",
       "   floors_total_fin  living_area_fin  ceiling_height_fin  ceiling_height_fin1  \\\n",
       "0                16            57.30                2.70                 2.70   \n",
       "1                 5            32.00                2.55                 2.55   \n",
       "2                14            54.00                2.60                 2.60   \n",
       "3                14            44.50                3.03                 2.60   \n",
       "4                24            34.65                2.75                 2.75   \n",
       "\n",
       "   kitch_area_fin  \n",
       "0           13.00  \n",
       "1            7.00  \n",
       "2           10.65  \n",
       "3            9.00  \n",
       "4           12.00  \n",
       "\n",
       "[5 rows x 31 columns]"
      ]
     },
     "execution_count": 93,
     "metadata": {},
     "output_type": "execute_result"
    }
   ],
   "source": [
    "data = data.merge(kitch_area_dict, on = ['rooms', 'floors_total_fin'], how = 'left')\n",
    "data.head()"
   ]
  },
  {
   "cell_type": "code",
   "execution_count": 94,
   "metadata": {},
   "outputs": [
    {
     "data": {
      "text/plain": [
       "196"
      ]
     },
     "execution_count": 94,
     "metadata": {},
     "output_type": "execute_result"
    }
   ],
   "source": [
    "len(data[data['kitch_area_fin'].isna()])"
   ]
  },
  {
   "cell_type": "code",
   "execution_count": 95,
   "metadata": {},
   "outputs": [],
   "source": [
    "data=data.dropna(subset=['kitch_area_fin'])"
   ]
  },
  {
   "cell_type": "markdown",
   "metadata": {},
   "source": [
    "Добавим поле kitch_area_fin в датасет и проверим количество незаполненных записей. Удалим пустые записи."
   ]
  },
  {
   "cell_type": "code",
   "execution_count": 96,
   "metadata": {},
   "outputs": [
    {
     "data": {
      "text/html": [
       "<div>\n",
       "<style scoped>\n",
       "    .dataframe tbody tr th:only-of-type {\n",
       "        vertical-align: middle;\n",
       "    }\n",
       "\n",
       "    .dataframe tbody tr th {\n",
       "        vertical-align: top;\n",
       "    }\n",
       "\n",
       "    .dataframe thead th {\n",
       "        text-align: right;\n",
       "    }\n",
       "</style>\n",
       "<table border=\"1\" class=\"dataframe\">\n",
       "  <thead>\n",
       "    <tr style=\"text-align: right;\">\n",
       "      <th></th>\n",
       "      <th>nw_loc_nm</th>\n",
       "      <th>cc_mean_nearest</th>\n",
       "    </tr>\n",
       "  </thead>\n",
       "  <tbody>\n",
       "    <tr>\n",
       "      <td>0</td>\n",
       "      <td>АЛЕКСАНДРОВСКАЯ</td>\n",
       "      <td>27468.000000</td>\n",
       "    </tr>\n",
       "    <tr>\n",
       "      <td>1</td>\n",
       "      <td>БЕЛООСТРОВ</td>\n",
       "      <td>38868.000000</td>\n",
       "    </tr>\n",
       "    <tr>\n",
       "      <td>2</td>\n",
       "      <td>ЗЕЛЕНОГОРСК</td>\n",
       "      <td>54617.583333</td>\n",
       "    </tr>\n",
       "    <tr>\n",
       "      <td>3</td>\n",
       "      <td>КОЛПИНО</td>\n",
       "      <td>32113.771513</td>\n",
       "    </tr>\n",
       "    <tr>\n",
       "      <td>4</td>\n",
       "      <td>КРАСНОЕ СЕЛО</td>\n",
       "      <td>30020.284091</td>\n",
       "    </tr>\n",
       "    <tr>\n",
       "      <td>5</td>\n",
       "      <td>КРОНШТАДТ</td>\n",
       "      <td>49195.726316</td>\n",
       "    </tr>\n",
       "    <tr>\n",
       "      <td>6</td>\n",
       "      <td>ЛЕВАШОВО</td>\n",
       "      <td>25727.000000</td>\n",
       "    </tr>\n",
       "    <tr>\n",
       "      <td>7</td>\n",
       "      <td>ЛИСИЙ НОС</td>\n",
       "      <td>27613.333333</td>\n",
       "    </tr>\n",
       "    <tr>\n",
       "      <td>8</td>\n",
       "      <td>ЛОМОНОСОВ</td>\n",
       "      <td>50739.969697</td>\n",
       "    </tr>\n",
       "    <tr>\n",
       "      <td>9</td>\n",
       "      <td>МЕТАЛЛОСТРОЙ</td>\n",
       "      <td>27559.030769</td>\n",
       "    </tr>\n",
       "    <tr>\n",
       "      <td>10</td>\n",
       "      <td>МОЛОДЁЖНОЕ</td>\n",
       "      <td>65529.200000</td>\n",
       "    </tr>\n",
       "    <tr>\n",
       "      <td>11</td>\n",
       "      <td>МУРИНО</td>\n",
       "      <td>21888.000000</td>\n",
       "    </tr>\n",
       "    <tr>\n",
       "      <td>12</td>\n",
       "      <td>ПАВЛОВСК</td>\n",
       "      <td>33206.921053</td>\n",
       "    </tr>\n",
       "    <tr>\n",
       "      <td>13</td>\n",
       "      <td>ПАРГОЛОВО</td>\n",
       "      <td>19929.894410</td>\n",
       "    </tr>\n",
       "    <tr>\n",
       "      <td>14</td>\n",
       "      <td>ПЕСОЧНЫЙ</td>\n",
       "      <td>26475.250000</td>\n",
       "    </tr>\n",
       "    <tr>\n",
       "      <td>15</td>\n",
       "      <td>ПЕТЕРГОФ</td>\n",
       "      <td>35468.925373</td>\n",
       "    </tr>\n",
       "    <tr>\n",
       "      <td>16</td>\n",
       "      <td>ПОНТОННЫЙ</td>\n",
       "      <td>32293.450000</td>\n",
       "    </tr>\n",
       "    <tr>\n",
       "      <td>17</td>\n",
       "      <td>ПУШКИН</td>\n",
       "      <td>28748.445355</td>\n",
       "    </tr>\n",
       "    <tr>\n",
       "      <td>18</td>\n",
       "      <td>РЕПИНО</td>\n",
       "      <td>43673.000000</td>\n",
       "    </tr>\n",
       "    <tr>\n",
       "      <td>19</td>\n",
       "      <td>САПЁРНЫЙ</td>\n",
       "      <td>35854.666667</td>\n",
       "    </tr>\n",
       "    <tr>\n",
       "      <td>20</td>\n",
       "      <td>СЕСТРОРЕЦК</td>\n",
       "      <td>34618.983516</td>\n",
       "    </tr>\n",
       "    <tr>\n",
       "      <td>21</td>\n",
       "      <td>СТРЕЛЬНА</td>\n",
       "      <td>23376.113636</td>\n",
       "    </tr>\n",
       "    <tr>\n",
       "      <td>22</td>\n",
       "      <td>УСТЬ-ИЖОРА</td>\n",
       "      <td>28222.500000</td>\n",
       "    </tr>\n",
       "    <tr>\n",
       "      <td>23</td>\n",
       "      <td>ШУШАРЫ</td>\n",
       "      <td>24271.750000</td>\n",
       "    </tr>\n",
       "  </tbody>\n",
       "</table>\n",
       "</div>"
      ],
      "text/plain": [
       "          nw_loc_nm  cc_mean_nearest\n",
       "0   АЛЕКСАНДРОВСКАЯ     27468.000000\n",
       "1        БЕЛООСТРОВ     38868.000000\n",
       "2       ЗЕЛЕНОГОРСК     54617.583333\n",
       "3           КОЛПИНО     32113.771513\n",
       "4      КРАСНОЕ СЕЛО     30020.284091\n",
       "5         КРОНШТАДТ     49195.726316\n",
       "6          ЛЕВАШОВО     25727.000000\n",
       "7         ЛИСИЙ НОС     27613.333333\n",
       "8         ЛОМОНОСОВ     50739.969697\n",
       "9      МЕТАЛЛОСТРОЙ     27559.030769\n",
       "10       МОЛОДЁЖНОЕ     65529.200000\n",
       "11           МУРИНО     21888.000000\n",
       "12         ПАВЛОВСК     33206.921053\n",
       "13        ПАРГОЛОВО     19929.894410\n",
       "14         ПЕСОЧНЫЙ     26475.250000\n",
       "15         ПЕТЕРГОФ     35468.925373\n",
       "16        ПОНТОННЫЙ     32293.450000\n",
       "17           ПУШКИН     28748.445355\n",
       "18           РЕПИНО     43673.000000\n",
       "19         САПЁРНЫЙ     35854.666667\n",
       "20       СЕСТРОРЕЦК     34618.983516\n",
       "21         СТРЕЛЬНА     23376.113636\n",
       "22       УСТЬ-ИЖОРА     28222.500000\n",
       "23           ШУШАРЫ     24271.750000"
      ]
     },
     "execution_count": 96,
     "metadata": {},
     "output_type": "execute_result"
    }
   ],
   "source": [
    "center_nearest_dict = (data.query('~cityCenters_nearest.isna() and nw_loc_nm != \"САНКТ-ПЕТЕРБУРГ\"', engine = 'python')\n",
    "                       .pivot_table(index = 'nw_loc_nm', values = 'cityCenters_nearest')\n",
    "                       .reset_index())\n",
    "new_col_nm = ['nw_loc_nm', 'cc_mean_nearest']\n",
    "center_nearest_dict.set_axis(new_col_nm, axis = 'columns', inplace = True)\n",
    "center_nearest_dict"
   ]
  },
  {
   "cell_type": "markdown",
   "metadata": {},
   "source": [
    "Создадим справочник средних расстояний районов до центра для заполнения пропусков в поле cityCenters_nearest. Исключим из него населенный пункт Санкт-Петербург, т.к. в городе расстояние до центра расстояние может сильно варьироваться, а для района погрешность будет не такой большой."
   ]
  },
  {
   "cell_type": "code",
   "execution_count": 97,
   "metadata": {
    "scrolled": true
   },
   "outputs": [
    {
     "data": {
      "text/html": [
       "<div>\n",
       "<style scoped>\n",
       "    .dataframe tbody tr th:only-of-type {\n",
       "        vertical-align: middle;\n",
       "    }\n",
       "\n",
       "    .dataframe tbody tr th {\n",
       "        vertical-align: top;\n",
       "    }\n",
       "\n",
       "    .dataframe thead th {\n",
       "        text-align: right;\n",
       "    }\n",
       "</style>\n",
       "<table border=\"1\" class=\"dataframe\">\n",
       "  <thead>\n",
       "    <tr style=\"text-align: right;\">\n",
       "      <th></th>\n",
       "      <th>total_images</th>\n",
       "      <th>last_price</th>\n",
       "      <th>total_area</th>\n",
       "      <th>first_day_exposition</th>\n",
       "      <th>rooms</th>\n",
       "      <th>ceiling_height</th>\n",
       "      <th>floors_total</th>\n",
       "      <th>living_area</th>\n",
       "      <th>floor</th>\n",
       "      <th>is_apartment</th>\n",
       "      <th>...</th>\n",
       "      <th>price_per_m2</th>\n",
       "      <th>year</th>\n",
       "      <th>diff</th>\n",
       "      <th>nw_loc_nm</th>\n",
       "      <th>floors_total_fin</th>\n",
       "      <th>living_area_fin</th>\n",
       "      <th>ceiling_height_fin</th>\n",
       "      <th>ceiling_height_fin1</th>\n",
       "      <th>kitch_area_fin</th>\n",
       "      <th>cc_mean_nearest</th>\n",
       "    </tr>\n",
       "  </thead>\n",
       "  <tbody>\n",
       "    <tr>\n",
       "      <td>0</td>\n",
       "      <td>20</td>\n",
       "      <td>13000000.0</td>\n",
       "      <td>108.0</td>\n",
       "      <td>2019-03-07</td>\n",
       "      <td>3</td>\n",
       "      <td>2.70</td>\n",
       "      <td>16</td>\n",
       "      <td>51.0</td>\n",
       "      <td>8</td>\n",
       "      <td>NaN</td>\n",
       "      <td>...</td>\n",
       "      <td>120370.370370</td>\n",
       "      <td>2019</td>\n",
       "      <td>57</td>\n",
       "      <td>САНКТ-ПЕТЕРБУРГ</td>\n",
       "      <td>16</td>\n",
       "      <td>57.30</td>\n",
       "      <td>2.70</td>\n",
       "      <td>2.70</td>\n",
       "      <td>13.00</td>\n",
       "      <td>NaN</td>\n",
       "    </tr>\n",
       "    <tr>\n",
       "      <td>1</td>\n",
       "      <td>10</td>\n",
       "      <td>5196000.0</td>\n",
       "      <td>56.0</td>\n",
       "      <td>2015-08-20</td>\n",
       "      <td>2</td>\n",
       "      <td>NaN</td>\n",
       "      <td>5</td>\n",
       "      <td>34.3</td>\n",
       "      <td>4</td>\n",
       "      <td>NaN</td>\n",
       "      <td>...</td>\n",
       "      <td>92785.714286</td>\n",
       "      <td>2015</td>\n",
       "      <td>1352</td>\n",
       "      <td>САНКТ-ПЕТЕРБУРГ</td>\n",
       "      <td>5</td>\n",
       "      <td>32.00</td>\n",
       "      <td>2.55</td>\n",
       "      <td>2.55</td>\n",
       "      <td>7.00</td>\n",
       "      <td>NaN</td>\n",
       "    </tr>\n",
       "    <tr>\n",
       "      <td>2</td>\n",
       "      <td>0</td>\n",
       "      <td>64900000.0</td>\n",
       "      <td>159.0</td>\n",
       "      <td>2015-07-24</td>\n",
       "      <td>3</td>\n",
       "      <td>NaN</td>\n",
       "      <td>14</td>\n",
       "      <td>NaN</td>\n",
       "      <td>9</td>\n",
       "      <td>NaN</td>\n",
       "      <td>...</td>\n",
       "      <td>408176.100629</td>\n",
       "      <td>2015</td>\n",
       "      <td>1379</td>\n",
       "      <td>САНКТ-ПЕТЕРБУРГ</td>\n",
       "      <td>14</td>\n",
       "      <td>54.00</td>\n",
       "      <td>2.60</td>\n",
       "      <td>2.60</td>\n",
       "      <td>10.65</td>\n",
       "      <td>NaN</td>\n",
       "    </tr>\n",
       "    <tr>\n",
       "      <td>3</td>\n",
       "      <td>2</td>\n",
       "      <td>10000000.0</td>\n",
       "      <td>100.0</td>\n",
       "      <td>2018-06-19</td>\n",
       "      <td>2</td>\n",
       "      <td>3.03</td>\n",
       "      <td>14</td>\n",
       "      <td>32.0</td>\n",
       "      <td>13</td>\n",
       "      <td>NaN</td>\n",
       "      <td>...</td>\n",
       "      <td>100000.000000</td>\n",
       "      <td>2018</td>\n",
       "      <td>318</td>\n",
       "      <td>САНКТ-ПЕТЕРБУРГ</td>\n",
       "      <td>14</td>\n",
       "      <td>44.50</td>\n",
       "      <td>3.03</td>\n",
       "      <td>2.60</td>\n",
       "      <td>9.00</td>\n",
       "      <td>NaN</td>\n",
       "    </tr>\n",
       "    <tr>\n",
       "      <td>4</td>\n",
       "      <td>5</td>\n",
       "      <td>7915000.0</td>\n",
       "      <td>71.6</td>\n",
       "      <td>2019-04-18</td>\n",
       "      <td>2</td>\n",
       "      <td>NaN</td>\n",
       "      <td>24</td>\n",
       "      <td>NaN</td>\n",
       "      <td>22</td>\n",
       "      <td>NaN</td>\n",
       "      <td>...</td>\n",
       "      <td>110544.692737</td>\n",
       "      <td>2019</td>\n",
       "      <td>15</td>\n",
       "      <td>САНКТ-ПЕТЕРБУРГ</td>\n",
       "      <td>24</td>\n",
       "      <td>34.65</td>\n",
       "      <td>2.75</td>\n",
       "      <td>2.75</td>\n",
       "      <td>12.00</td>\n",
       "      <td>NaN</td>\n",
       "    </tr>\n",
       "  </tbody>\n",
       "</table>\n",
       "<p>5 rows × 32 columns</p>\n",
       "</div>"
      ],
      "text/plain": [
       "   total_images  last_price  total_area first_day_exposition  rooms  \\\n",
       "0            20  13000000.0       108.0           2019-03-07      3   \n",
       "1            10   5196000.0        56.0           2015-08-20      2   \n",
       "2             0  64900000.0       159.0           2015-07-24      3   \n",
       "3             2  10000000.0       100.0           2018-06-19      2   \n",
       "4             5   7915000.0        71.6           2019-04-18      2   \n",
       "\n",
       "   ceiling_height  floors_total  living_area  floor is_apartment  ...  \\\n",
       "0            2.70            16         51.0      8          NaN  ...   \n",
       "1             NaN             5         34.3      4          NaN  ...   \n",
       "2             NaN            14          NaN      9          NaN  ...   \n",
       "3            3.03            14         32.0     13          NaN  ...   \n",
       "4             NaN            24          NaN     22          NaN  ...   \n",
       "\n",
       "    price_per_m2  year  diff        nw_loc_nm floors_total_fin  \\\n",
       "0  120370.370370  2019    57  САНКТ-ПЕТЕРБУРГ               16   \n",
       "1   92785.714286  2015  1352  САНКТ-ПЕТЕРБУРГ                5   \n",
       "2  408176.100629  2015  1379  САНКТ-ПЕТЕРБУРГ               14   \n",
       "3  100000.000000  2018   318  САНКТ-ПЕТЕРБУРГ               14   \n",
       "4  110544.692737  2019    15  САНКТ-ПЕТЕРБУРГ               24   \n",
       "\n",
       "   living_area_fin  ceiling_height_fin  ceiling_height_fin1  kitch_area_fin  \\\n",
       "0            57.30                2.70                 2.70           13.00   \n",
       "1            32.00                2.55                 2.55            7.00   \n",
       "2            54.00                2.60                 2.60           10.65   \n",
       "3            44.50                3.03                 2.60            9.00   \n",
       "4            34.65                2.75                 2.75           12.00   \n",
       "\n",
       "   cc_mean_nearest  \n",
       "0              NaN  \n",
       "1              NaN  \n",
       "2              NaN  \n",
       "3              NaN  \n",
       "4              NaN  \n",
       "\n",
       "[5 rows x 32 columns]"
      ]
     },
     "execution_count": 97,
     "metadata": {},
     "output_type": "execute_result"
    }
   ],
   "source": [
    "data = data.merge(center_nearest_dict, on = 'nw_loc_nm', how = 'left')\n",
    "data.head()"
   ]
  },
  {
   "cell_type": "markdown",
   "metadata": {},
   "source": [
    "Добавим столбец cc_mean_nearest в основной датафрейм."
   ]
  },
  {
   "cell_type": "code",
   "execution_count": 98,
   "metadata": {
    "scrolled": true
   },
   "outputs": [
    {
     "data": {
      "text/html": [
       "<div>\n",
       "<style scoped>\n",
       "    .dataframe tbody tr th:only-of-type {\n",
       "        vertical-align: middle;\n",
       "    }\n",
       "\n",
       "    .dataframe tbody tr th {\n",
       "        vertical-align: top;\n",
       "    }\n",
       "\n",
       "    .dataframe thead th {\n",
       "        text-align: right;\n",
       "    }\n",
       "</style>\n",
       "<table border=\"1\" class=\"dataframe\">\n",
       "  <thead>\n",
       "    <tr style=\"text-align: right;\">\n",
       "      <th></th>\n",
       "      <th>total_images</th>\n",
       "      <th>last_price</th>\n",
       "      <th>total_area</th>\n",
       "      <th>first_day_exposition</th>\n",
       "      <th>rooms</th>\n",
       "      <th>ceiling_height</th>\n",
       "      <th>floors_total</th>\n",
       "      <th>living_area</th>\n",
       "      <th>floor</th>\n",
       "      <th>is_apartment</th>\n",
       "      <th>...</th>\n",
       "      <th>price_per_m2</th>\n",
       "      <th>year</th>\n",
       "      <th>diff</th>\n",
       "      <th>nw_loc_nm</th>\n",
       "      <th>floors_total_fin</th>\n",
       "      <th>living_area_fin</th>\n",
       "      <th>ceiling_height_fin</th>\n",
       "      <th>ceiling_height_fin1</th>\n",
       "      <th>kitch_area_fin</th>\n",
       "      <th>cc_mean_nearest</th>\n",
       "    </tr>\n",
       "  </thead>\n",
       "  <tbody>\n",
       "    <tr>\n",
       "      <td>0</td>\n",
       "      <td>20</td>\n",
       "      <td>13000000.0</td>\n",
       "      <td>108.0</td>\n",
       "      <td>2019-03-07</td>\n",
       "      <td>3</td>\n",
       "      <td>2.70</td>\n",
       "      <td>16</td>\n",
       "      <td>51.0</td>\n",
       "      <td>8</td>\n",
       "      <td>NaN</td>\n",
       "      <td>...</td>\n",
       "      <td>120370.370370</td>\n",
       "      <td>2019</td>\n",
       "      <td>57</td>\n",
       "      <td>САНКТ-ПЕТЕРБУРГ</td>\n",
       "      <td>16</td>\n",
       "      <td>57.30</td>\n",
       "      <td>2.70</td>\n",
       "      <td>2.70</td>\n",
       "      <td>13.00</td>\n",
       "      <td>NaN</td>\n",
       "    </tr>\n",
       "    <tr>\n",
       "      <td>1</td>\n",
       "      <td>10</td>\n",
       "      <td>5196000.0</td>\n",
       "      <td>56.0</td>\n",
       "      <td>2015-08-20</td>\n",
       "      <td>2</td>\n",
       "      <td>NaN</td>\n",
       "      <td>5</td>\n",
       "      <td>34.3</td>\n",
       "      <td>4</td>\n",
       "      <td>NaN</td>\n",
       "      <td>...</td>\n",
       "      <td>92785.714286</td>\n",
       "      <td>2015</td>\n",
       "      <td>1352</td>\n",
       "      <td>САНКТ-ПЕТЕРБУРГ</td>\n",
       "      <td>5</td>\n",
       "      <td>32.00</td>\n",
       "      <td>2.55</td>\n",
       "      <td>2.55</td>\n",
       "      <td>7.00</td>\n",
       "      <td>NaN</td>\n",
       "    </tr>\n",
       "    <tr>\n",
       "      <td>2</td>\n",
       "      <td>0</td>\n",
       "      <td>64900000.0</td>\n",
       "      <td>159.0</td>\n",
       "      <td>2015-07-24</td>\n",
       "      <td>3</td>\n",
       "      <td>NaN</td>\n",
       "      <td>14</td>\n",
       "      <td>NaN</td>\n",
       "      <td>9</td>\n",
       "      <td>NaN</td>\n",
       "      <td>...</td>\n",
       "      <td>408176.100629</td>\n",
       "      <td>2015</td>\n",
       "      <td>1379</td>\n",
       "      <td>САНКТ-ПЕТЕРБУРГ</td>\n",
       "      <td>14</td>\n",
       "      <td>54.00</td>\n",
       "      <td>2.60</td>\n",
       "      <td>2.60</td>\n",
       "      <td>10.65</td>\n",
       "      <td>NaN</td>\n",
       "    </tr>\n",
       "    <tr>\n",
       "      <td>3</td>\n",
       "      <td>2</td>\n",
       "      <td>10000000.0</td>\n",
       "      <td>100.0</td>\n",
       "      <td>2018-06-19</td>\n",
       "      <td>2</td>\n",
       "      <td>3.03</td>\n",
       "      <td>14</td>\n",
       "      <td>32.0</td>\n",
       "      <td>13</td>\n",
       "      <td>NaN</td>\n",
       "      <td>...</td>\n",
       "      <td>100000.000000</td>\n",
       "      <td>2018</td>\n",
       "      <td>318</td>\n",
       "      <td>САНКТ-ПЕТЕРБУРГ</td>\n",
       "      <td>14</td>\n",
       "      <td>44.50</td>\n",
       "      <td>3.03</td>\n",
       "      <td>2.60</td>\n",
       "      <td>9.00</td>\n",
       "      <td>NaN</td>\n",
       "    </tr>\n",
       "    <tr>\n",
       "      <td>4</td>\n",
       "      <td>5</td>\n",
       "      <td>7915000.0</td>\n",
       "      <td>71.6</td>\n",
       "      <td>2019-04-18</td>\n",
       "      <td>2</td>\n",
       "      <td>NaN</td>\n",
       "      <td>24</td>\n",
       "      <td>NaN</td>\n",
       "      <td>22</td>\n",
       "      <td>NaN</td>\n",
       "      <td>...</td>\n",
       "      <td>110544.692737</td>\n",
       "      <td>2019</td>\n",
       "      <td>15</td>\n",
       "      <td>САНКТ-ПЕТЕРБУРГ</td>\n",
       "      <td>24</td>\n",
       "      <td>34.65</td>\n",
       "      <td>2.75</td>\n",
       "      <td>2.75</td>\n",
       "      <td>12.00</td>\n",
       "      <td>NaN</td>\n",
       "    </tr>\n",
       "  </tbody>\n",
       "</table>\n",
       "<p>5 rows × 32 columns</p>\n",
       "</div>"
      ],
      "text/plain": [
       "   total_images  last_price  total_area first_day_exposition  rooms  \\\n",
       "0            20  13000000.0       108.0           2019-03-07      3   \n",
       "1            10   5196000.0        56.0           2015-08-20      2   \n",
       "2             0  64900000.0       159.0           2015-07-24      3   \n",
       "3             2  10000000.0       100.0           2018-06-19      2   \n",
       "4             5   7915000.0        71.6           2019-04-18      2   \n",
       "\n",
       "   ceiling_height  floors_total  living_area  floor is_apartment  ...  \\\n",
       "0            2.70            16         51.0      8          NaN  ...   \n",
       "1             NaN             5         34.3      4          NaN  ...   \n",
       "2             NaN            14          NaN      9          NaN  ...   \n",
       "3            3.03            14         32.0     13          NaN  ...   \n",
       "4             NaN            24          NaN     22          NaN  ...   \n",
       "\n",
       "    price_per_m2  year  diff        nw_loc_nm floors_total_fin  \\\n",
       "0  120370.370370  2019    57  САНКТ-ПЕТЕРБУРГ               16   \n",
       "1   92785.714286  2015  1352  САНКТ-ПЕТЕРБУРГ                5   \n",
       "2  408176.100629  2015  1379  САНКТ-ПЕТЕРБУРГ               14   \n",
       "3  100000.000000  2018   318  САНКТ-ПЕТЕРБУРГ               14   \n",
       "4  110544.692737  2019    15  САНКТ-ПЕТЕРБУРГ               24   \n",
       "\n",
       "   living_area_fin  ceiling_height_fin  ceiling_height_fin1  kitch_area_fin  \\\n",
       "0            57.30                2.70                 2.70           13.00   \n",
       "1            32.00                2.55                 2.55            7.00   \n",
       "2            54.00                2.60                 2.60           10.65   \n",
       "3            44.50                3.03                 2.60            9.00   \n",
       "4            34.65                2.75                 2.75           12.00   \n",
       "\n",
       "   cc_mean_nearest  \n",
       "0              NaN  \n",
       "1              NaN  \n",
       "2              NaN  \n",
       "3              NaN  \n",
       "4              NaN  \n",
       "\n",
       "[5 rows x 32 columns]"
      ]
     },
     "execution_count": 98,
     "metadata": {},
     "output_type": "execute_result"
    }
   ],
   "source": [
    "data['cityCenters_nearest'].fillna(data['cc_mean_nearest'],inplace = True)\n",
    "data.head()"
   ]
  },
  {
   "cell_type": "markdown",
   "metadata": {},
   "source": [
    "Заполним пропуски столбца cityCenters_nearest значениями из справочника и посчитаем количество пропусков после заполнения."
   ]
  },
  {
   "cell_type": "code",
   "execution_count": 99,
   "metadata": {},
   "outputs": [
    {
     "data": {
      "text/plain": [
       "4804"
      ]
     },
     "execution_count": 99,
     "metadata": {},
     "output_type": "execute_result"
    }
   ],
   "source": [
    "len(data[data['cityCenters_nearest'].isna()])"
   ]
  },
  {
   "cell_type": "markdown",
   "metadata": {},
   "source": [
    "Количество пропущенных записей сократилось с 5518 до 4804."
   ]
  },
  {
   "cell_type": "markdown",
   "metadata": {},
   "source": [
    "## Расчёты и добавление результатов в таблицу"
   ]
  },
  {
   "cell_type": "code",
   "execution_count": 100,
   "metadata": {},
   "outputs": [],
   "source": [
    "data['weekday'] = data['first_day_exposition'].dt.weekday"
   ]
  },
  {
   "cell_type": "code",
   "execution_count": 101,
   "metadata": {},
   "outputs": [],
   "source": [
    "data['month'] = data['first_day_exposition'].dt.month"
   ]
  },
  {
   "cell_type": "code",
   "execution_count": 102,
   "metadata": {},
   "outputs": [],
   "source": [
    "data['year'] = data['first_day_exposition'].dt.year"
   ]
  },
  {
   "cell_type": "markdown",
   "metadata": {},
   "source": [
    "Добавим столбец с днем недели, месяцем и годом в датафрейм."
   ]
  },
  {
   "cell_type": "code",
   "execution_count": 103,
   "metadata": {
    "scrolled": true
   },
   "outputs": [
    {
     "data": {
      "text/html": [
       "<div>\n",
       "<style scoped>\n",
       "    .dataframe tbody tr th:only-of-type {\n",
       "        vertical-align: middle;\n",
       "    }\n",
       "\n",
       "    .dataframe tbody tr th {\n",
       "        vertical-align: top;\n",
       "    }\n",
       "\n",
       "    .dataframe thead th {\n",
       "        text-align: right;\n",
       "    }\n",
       "</style>\n",
       "<table border=\"1\" class=\"dataframe\">\n",
       "  <thead>\n",
       "    <tr style=\"text-align: right;\">\n",
       "      <th></th>\n",
       "      <th>total_images</th>\n",
       "      <th>last_price</th>\n",
       "      <th>total_area</th>\n",
       "      <th>first_day_exposition</th>\n",
       "      <th>rooms</th>\n",
       "      <th>ceiling_height</th>\n",
       "      <th>floors_total</th>\n",
       "      <th>living_area</th>\n",
       "      <th>floor</th>\n",
       "      <th>is_apartment</th>\n",
       "      <th>...</th>\n",
       "      <th>nw_loc_nm</th>\n",
       "      <th>floors_total_fin</th>\n",
       "      <th>living_area_fin</th>\n",
       "      <th>ceiling_height_fin</th>\n",
       "      <th>ceiling_height_fin1</th>\n",
       "      <th>kitch_area_fin</th>\n",
       "      <th>cc_mean_nearest</th>\n",
       "      <th>weekday</th>\n",
       "      <th>month</th>\n",
       "      <th>floor_group</th>\n",
       "    </tr>\n",
       "  </thead>\n",
       "  <tbody>\n",
       "    <tr>\n",
       "      <td>0</td>\n",
       "      <td>20</td>\n",
       "      <td>13000000.0</td>\n",
       "      <td>108.0</td>\n",
       "      <td>2019-03-07</td>\n",
       "      <td>3</td>\n",
       "      <td>2.70</td>\n",
       "      <td>16</td>\n",
       "      <td>51.0</td>\n",
       "      <td>8</td>\n",
       "      <td>NaN</td>\n",
       "      <td>...</td>\n",
       "      <td>САНКТ-ПЕТЕРБУРГ</td>\n",
       "      <td>16</td>\n",
       "      <td>57.30</td>\n",
       "      <td>2.70</td>\n",
       "      <td>2.70</td>\n",
       "      <td>13.00</td>\n",
       "      <td>NaN</td>\n",
       "      <td>3</td>\n",
       "      <td>3</td>\n",
       "      <td>ДРУГОЙ</td>\n",
       "    </tr>\n",
       "    <tr>\n",
       "      <td>1</td>\n",
       "      <td>10</td>\n",
       "      <td>5196000.0</td>\n",
       "      <td>56.0</td>\n",
       "      <td>2015-08-20</td>\n",
       "      <td>2</td>\n",
       "      <td>NaN</td>\n",
       "      <td>5</td>\n",
       "      <td>34.3</td>\n",
       "      <td>4</td>\n",
       "      <td>NaN</td>\n",
       "      <td>...</td>\n",
       "      <td>САНКТ-ПЕТЕРБУРГ</td>\n",
       "      <td>5</td>\n",
       "      <td>32.00</td>\n",
       "      <td>2.55</td>\n",
       "      <td>2.55</td>\n",
       "      <td>7.00</td>\n",
       "      <td>NaN</td>\n",
       "      <td>3</td>\n",
       "      <td>8</td>\n",
       "      <td>ДРУГОЙ</td>\n",
       "    </tr>\n",
       "    <tr>\n",
       "      <td>2</td>\n",
       "      <td>0</td>\n",
       "      <td>64900000.0</td>\n",
       "      <td>159.0</td>\n",
       "      <td>2015-07-24</td>\n",
       "      <td>3</td>\n",
       "      <td>NaN</td>\n",
       "      <td>14</td>\n",
       "      <td>NaN</td>\n",
       "      <td>9</td>\n",
       "      <td>NaN</td>\n",
       "      <td>...</td>\n",
       "      <td>САНКТ-ПЕТЕРБУРГ</td>\n",
       "      <td>14</td>\n",
       "      <td>54.00</td>\n",
       "      <td>2.60</td>\n",
       "      <td>2.60</td>\n",
       "      <td>10.65</td>\n",
       "      <td>NaN</td>\n",
       "      <td>4</td>\n",
       "      <td>7</td>\n",
       "      <td>ДРУГОЙ</td>\n",
       "    </tr>\n",
       "    <tr>\n",
       "      <td>3</td>\n",
       "      <td>2</td>\n",
       "      <td>10000000.0</td>\n",
       "      <td>100.0</td>\n",
       "      <td>2018-06-19</td>\n",
       "      <td>2</td>\n",
       "      <td>3.03</td>\n",
       "      <td>14</td>\n",
       "      <td>32.0</td>\n",
       "      <td>13</td>\n",
       "      <td>NaN</td>\n",
       "      <td>...</td>\n",
       "      <td>САНКТ-ПЕТЕРБУРГ</td>\n",
       "      <td>14</td>\n",
       "      <td>44.50</td>\n",
       "      <td>3.03</td>\n",
       "      <td>2.60</td>\n",
       "      <td>9.00</td>\n",
       "      <td>NaN</td>\n",
       "      <td>1</td>\n",
       "      <td>6</td>\n",
       "      <td>ДРУГОЙ</td>\n",
       "    </tr>\n",
       "    <tr>\n",
       "      <td>4</td>\n",
       "      <td>5</td>\n",
       "      <td>7915000.0</td>\n",
       "      <td>71.6</td>\n",
       "      <td>2019-04-18</td>\n",
       "      <td>2</td>\n",
       "      <td>NaN</td>\n",
       "      <td>24</td>\n",
       "      <td>NaN</td>\n",
       "      <td>22</td>\n",
       "      <td>NaN</td>\n",
       "      <td>...</td>\n",
       "      <td>САНКТ-ПЕТЕРБУРГ</td>\n",
       "      <td>24</td>\n",
       "      <td>34.65</td>\n",
       "      <td>2.75</td>\n",
       "      <td>2.75</td>\n",
       "      <td>12.00</td>\n",
       "      <td>NaN</td>\n",
       "      <td>3</td>\n",
       "      <td>4</td>\n",
       "      <td>ДРУГОЙ</td>\n",
       "    </tr>\n",
       "  </tbody>\n",
       "</table>\n",
       "<p>5 rows × 35 columns</p>\n",
       "</div>"
      ],
      "text/plain": [
       "   total_images  last_price  total_area first_day_exposition  rooms  \\\n",
       "0            20  13000000.0       108.0           2019-03-07      3   \n",
       "1            10   5196000.0        56.0           2015-08-20      2   \n",
       "2             0  64900000.0       159.0           2015-07-24      3   \n",
       "3             2  10000000.0       100.0           2018-06-19      2   \n",
       "4             5   7915000.0        71.6           2019-04-18      2   \n",
       "\n",
       "   ceiling_height  floors_total  living_area  floor is_apartment  ...  \\\n",
       "0            2.70            16         51.0      8          NaN  ...   \n",
       "1             NaN             5         34.3      4          NaN  ...   \n",
       "2             NaN            14          NaN      9          NaN  ...   \n",
       "3            3.03            14         32.0     13          NaN  ...   \n",
       "4             NaN            24          NaN     22          NaN  ...   \n",
       "\n",
       "         nw_loc_nm  floors_total_fin  living_area_fin  ceiling_height_fin  \\\n",
       "0  САНКТ-ПЕТЕРБУРГ                16            57.30                2.70   \n",
       "1  САНКТ-ПЕТЕРБУРГ                 5            32.00                2.55   \n",
       "2  САНКТ-ПЕТЕРБУРГ                14            54.00                2.60   \n",
       "3  САНКТ-ПЕТЕРБУРГ                14            44.50                3.03   \n",
       "4  САНКТ-ПЕТЕРБУРГ                24            34.65                2.75   \n",
       "\n",
       "  ceiling_height_fin1  kitch_area_fin  cc_mean_nearest  weekday  month  \\\n",
       "0                2.70           13.00              NaN        3      3   \n",
       "1                2.55            7.00              NaN        3      8   \n",
       "2                2.60           10.65              NaN        4      7   \n",
       "3                2.60            9.00              NaN        1      6   \n",
       "4                2.75           12.00              NaN        3      4   \n",
       "\n",
       "   floor_group  \n",
       "0       ДРУГОЙ  \n",
       "1       ДРУГОЙ  \n",
       "2       ДРУГОЙ  \n",
       "3       ДРУГОЙ  \n",
       "4       ДРУГОЙ  \n",
       "\n",
       "[5 rows x 35 columns]"
      ]
     },
     "execution_count": 103,
     "metadata": {},
     "output_type": "execute_result"
    }
   ],
   "source": [
    "def floor_grp(row):\n",
    "    flr = row['floor']\n",
    "    ttl_flr = row['floors_total_fin']\n",
    "    if flr==1:\n",
    "        return 'ПЕРВЫЙ'\n",
    "    elif flr==ttl_flr:\n",
    "        return 'ПОСЛЕДНИЙ'\n",
    "    else:\n",
    "        return 'ДРУГОЙ'\n",
    "data['floor_group'] = data.apply(floor_grp, axis =1)\n",
    "data.head()"
   ]
  },
  {
   "cell_type": "markdown",
   "metadata": {},
   "source": [
    "Добавим варианты этажа квартиры по 3 вариантам: первый, последний, другой.\n",
    "Примечание: возможно еще было бы выделить общепринято пользующийся спросом блок из второго и третьего этажа (для проверки гипотезы быстрее ли они продаются)."
   ]
  },
  {
   "cell_type": "code",
   "execution_count": 104,
   "metadata": {},
   "outputs": [],
   "source": [
    "data['living_to_total_sq'] = data['living_area_fin']/data['total_area']"
   ]
  },
  {
   "cell_type": "code",
   "execution_count": 105,
   "metadata": {},
   "outputs": [],
   "source": [
    "data['kitchen_to_total_sq'] = data['kitch_area_fin']/data['total_area']"
   ]
  },
  {
   "cell_type": "markdown",
   "metadata": {},
   "source": [
    "Добавим в датасет метрику соотношения жилой и общей площади и метрику соотношения площади кухни и общей площади объекта."
   ]
  },
  {
   "cell_type": "code",
   "execution_count": 106,
   "metadata": {},
   "outputs": [
    {
     "name": "stdout",
     "output_type": "stream",
     "text": [
      "<class 'pandas.core.frame.DataFrame'>\n",
      "Int64Index: 23243 entries, 0 to 23242\n",
      "Data columns (total 37 columns):\n",
      "total_images            23243 non-null int64\n",
      "last_price              23243 non-null float64\n",
      "total_area              23243 non-null float64\n",
      "first_day_exposition    23243 non-null datetime64[ns]\n",
      "rooms                   23243 non-null int64\n",
      "ceiling_height          14309 non-null float64\n",
      "floors_total            23243 non-null int64\n",
      "living_area             21567 non-null float64\n",
      "floor                   23243 non-null int64\n",
      "is_apartment            2741 non-null object\n",
      "studio                  23243 non-null bool\n",
      "open_plan               23243 non-null bool\n",
      "kitchen_area            21274 non-null float64\n",
      "balcony                 11927 non-null float64\n",
      "locality_name           23243 non-null object\n",
      "airports_nearest        17838 non-null float64\n",
      "cityCenters_nearest     18439 non-null float64\n",
      "parks_around3000        17862 non-null float64\n",
      "parks_nearest           7951 non-null float64\n",
      "ponds_around3000        17862 non-null float64\n",
      "ponds_nearest           8915 non-null float64\n",
      "days_exposition         23243 non-null float64\n",
      "price_per_m2            23243 non-null float64\n",
      "year                    23243 non-null int64\n",
      "diff                    23243 non-null int64\n",
      "nw_loc_nm               23243 non-null object\n",
      "floors_total_fin        23243 non-null int64\n",
      "living_area_fin         23243 non-null float64\n",
      "ceiling_height_fin      23242 non-null float64\n",
      "ceiling_height_fin1     23242 non-null float64\n",
      "kitch_area_fin          23243 non-null float64\n",
      "cc_mean_nearest         3040 non-null float64\n",
      "weekday                 23243 non-null int64\n",
      "month                   23243 non-null int64\n",
      "floor_group             23243 non-null object\n",
      "living_to_total_sq      23243 non-null float64\n",
      "kitchen_to_total_sq     23243 non-null float64\n",
      "dtypes: bool(2), datetime64[ns](1), float64(21), int64(9), object(4)\n",
      "memory usage: 6.4+ MB\n"
     ]
    }
   ],
   "source": [
    "data.info()"
   ]
  },
  {
   "cell_type": "markdown",
   "metadata": {},
   "source": [
    "Проверим датафрейм перед началом EDA. В изначальном варианте датафрейма было 23699 записей, после удаления пустых записей стало 23243, что составляет 98,1% от первоначального объема данных. Корректировка некритична."
   ]
  },
  {
   "cell_type": "markdown",
   "metadata": {},
   "source": [
    "## Исследовательский анализ данных"
   ]
  },
  {
   "cell_type": "code",
   "execution_count": 107,
   "metadata": {
    "scrolled": true
   },
   "outputs": [
    {
     "data": {
      "image/png": "[encoded data removed]",
      "text/plain": [
       "<Figure size 432x288 with 1 Axes>"
      ]
     },
     "metadata": {
      "needs_background": "light"
     },
     "output_type": "display_data"
    }
   ],
   "source": [
    "data['total_area'].hist(bins = 100, range = (0,280));"
   ]
  },
  {
   "cell_type": "markdown",
   "metadata": {},
   "source": [
    "Проанализируем распределение площадей квартир. Гистограмма показывает распределение, похожее на распределение Пуассона. Первый пик - около 28 м2, похоже на типовые однокомнатные квартиры, второй пик - это квартиры около 45 м2 (похоже на типовые двухкомнатные квартиры), и третий - около 65 м2 (похоже на трехкомнатные). Если смотреть от меньшей площади, в районе примерно 12м2 заметен какой-то артефакт, затем небольшой подъем (похоже на комнаты). Изучим этот артефакт подробнее."
   ]
  },
  {
   "cell_type": "code",
   "execution_count": 108,
   "metadata": {},
   "outputs": [
    {
     "data": {
      "text/html": [
       "<div>\n",
       "<style scoped>\n",
       "    .dataframe tbody tr th:only-of-type {\n",
       "        vertical-align: middle;\n",
       "    }\n",
       "\n",
       "    .dataframe tbody tr th {\n",
       "        vertical-align: top;\n",
       "    }\n",
       "\n",
       "    .dataframe thead th {\n",
       "        text-align: right;\n",
       "    }\n",
       "</style>\n",
       "<table border=\"1\" class=\"dataframe\">\n",
       "  <thead>\n",
       "    <tr style=\"text-align: right;\">\n",
       "      <th></th>\n",
       "      <th>total_images</th>\n",
       "      <th>last_price</th>\n",
       "      <th>total_area</th>\n",
       "      <th>first_day_exposition</th>\n",
       "      <th>rooms</th>\n",
       "      <th>ceiling_height</th>\n",
       "      <th>floors_total</th>\n",
       "      <th>living_area</th>\n",
       "      <th>floor</th>\n",
       "      <th>is_apartment</th>\n",
       "      <th>...</th>\n",
       "      <th>living_area_fin</th>\n",
       "      <th>ceiling_height_fin</th>\n",
       "      <th>ceiling_height_fin1</th>\n",
       "      <th>kitch_area_fin</th>\n",
       "      <th>cc_mean_nearest</th>\n",
       "      <th>weekday</th>\n",
       "      <th>month</th>\n",
       "      <th>floor_group</th>\n",
       "      <th>living_to_total_sq</th>\n",
       "      <th>kitchen_to_total_sq</th>\n",
       "    </tr>\n",
       "  </thead>\n",
       "  <tbody>\n",
       "    <tr>\n",
       "      <td>13038</td>\n",
       "      <td>4</td>\n",
       "      <td>2400000.0</td>\n",
       "      <td>12.0</td>\n",
       "      <td>2017-07-19</td>\n",
       "      <td>1</td>\n",
       "      <td>2.55</td>\n",
       "      <td>5</td>\n",
       "      <td>10.0</td>\n",
       "      <td>2</td>\n",
       "      <td>NaN</td>\n",
       "      <td>...</td>\n",
       "      <td>10.0</td>\n",
       "      <td>2.55</td>\n",
       "      <td>2.55</td>\n",
       "      <td>6.4</td>\n",
       "      <td>NaN</td>\n",
       "      <td>2</td>\n",
       "      <td>7</td>\n",
       "      <td>ДРУГОЙ</td>\n",
       "      <td>0.833333</td>\n",
       "      <td>0.533333</td>\n",
       "    </tr>\n",
       "  </tbody>\n",
       "</table>\n",
       "<p>1 rows × 37 columns</p>\n",
       "</div>"
      ],
      "text/plain": [
       "       total_images  last_price  total_area first_day_exposition  rooms  \\\n",
       "13038             4   2400000.0        12.0           2017-07-19      1   \n",
       "\n",
       "       ceiling_height  floors_total  living_area  floor is_apartment  ...  \\\n",
       "13038            2.55             5         10.0      2          NaN  ...   \n",
       "\n",
       "       living_area_fin  ceiling_height_fin  ceiling_height_fin1  \\\n",
       "13038             10.0                2.55                 2.55   \n",
       "\n",
       "       kitch_area_fin cc_mean_nearest  weekday  month  floor_group  \\\n",
       "13038             6.4             NaN        2      7       ДРУГОЙ   \n",
       "\n",
       "       living_to_total_sq  kitchen_to_total_sq  \n",
       "13038            0.833333             0.533333  \n",
       "\n",
       "[1 rows x 37 columns]"
      ]
     },
     "execution_count": 108,
     "metadata": {},
     "output_type": "execute_result"
    }
   ],
   "source": [
    "min_sq = data['total_area'].min()\n",
    "data.query('total_area == @min_sq')"
   ]
  },
  {
   "cell_type": "markdown",
   "metadata": {},
   "source": [
    "Объект площадью 12м2, жилая площадь - 10м2, стоимость - 2 400 тыс.руб. по совокупности признаков объект похож на студию. Вывод - объект реальный, вбросом не является."
   ]
  },
  {
   "cell_type": "code",
   "execution_count": 109,
   "metadata": {
    "scrolled": false
   },
   "outputs": [
    {
     "data": {
      "image/png": "[encoded data removed]",
      "text/plain": [
       "<Figure size 432x288 with 1 Axes>"
      ]
     },
     "metadata": {
      "needs_background": "light"
     },
     "output_type": "display_data"
    }
   ],
   "source": [
    "data['last_price'].hist(bins = 100, range = (0,50000000));"
   ]
  },
  {
   "cell_type": "markdown",
   "metadata": {},
   "source": [
    "Проанализируем распределение стоимостей объектов. Гистограмма показывает, что стоимость большинства объектов -5-6 млн. Распределение также близко к нормальному."
   ]
  },
  {
   "cell_type": "code",
   "execution_count": 110,
   "metadata": {
    "scrolled": false
   },
   "outputs": [
    {
     "data": {
      "image/png": "[encoded data removed]",
      "text/plain": [
       "<Figure size 432x288 with 1 Axes>"
      ]
     },
     "metadata": {
      "needs_background": "light"
     },
     "output_type": "display_data"
    }
   ],
   "source": [
    "import matplotlib.pyplot as plt\n",
    "plt.ylim(0, 350000)\n",
    "data.boxplot(column = 'price_per_m2');"
   ]
  },
  {
   "cell_type": "markdown",
   "metadata": {},
   "source": [
    "Нормальные значения цены за квадратный метр - от 25 до 170 тыс/м2. Выше и ниже - нетипичные значения. 2 квартиль - от 75 до 130 тыс/м2."
   ]
  },
  {
   "cell_type": "code",
   "execution_count": 111,
   "metadata": {
    "scrolled": true
   },
   "outputs": [
    {
     "data": {
      "image/png": "[encoded data removed]",
      "text/plain": [
       "<Figure size 432x288 with 1 Axes>"
      ]
     },
     "metadata": {
      "needs_background": "light"
     },
     "output_type": "display_data"
    }
   ],
   "source": [
    "data['rooms'].hist(bins = 20);"
   ]
  },
  {
   "cell_type": "markdown",
   "metadata": {},
   "source": [
    "На гистограмме видно, что в лидерах продаж - однокомнатные объекты. С небольшим отставнием и почти на одном уровне идут двухкомнатные. Трехкомнатные - на третьем месте со значительным отставанием примерно в 2 тыс. объявлений."
   ]
  },
  {
   "cell_type": "code",
   "execution_count": 112,
   "metadata": {
    "scrolled": true
   },
   "outputs": [
    {
     "data": {
      "image/png": "[encoded data removed]",
      "text/plain": [
       "<Figure size 432x288 with 1 Axes>"
      ]
     },
     "metadata": {
      "needs_background": "light"
     },
     "output_type": "display_data"
    }
   ],
   "source": [
    "data['ceiling_height_fin'].hist(bins=30);"
   ]
  },
  {
   "cell_type": "markdown",
   "metadata": {},
   "source": [
    "Гистограмма распределения высоты потолков сформирована на основе уже обработанного столбца ceiling_height (аномально низкие и высокие значения заменены на 2,5 и 4,5 метра соотетственно и пропуски заменены медианами в зависимости от этажности объекта. Посмотрим, отличается ли распределение необработанного столбца с исключением значений NaN"
   ]
  },
  {
   "cell_type": "code",
   "execution_count": 113,
   "metadata": {
    "scrolled": true
   },
   "outputs": [
    {
     "data": {
      "image/png": "[encoded data removed]",
      "text/plain": [
       "<Figure size 432x288 with 1 Axes>"
      ]
     },
     "metadata": {
      "needs_background": "light"
     },
     "output_type": "display_data"
    }
   ],
   "source": [
    "sample = data.query('~ceiling_height.isna()')\n",
    "sample['ceiling_height'].hist(bins = 30, range = (2.5, 4.5));"
   ]
  },
  {
   "cell_type": "markdown",
   "metadata": {},
   "source": [
    "Формы гистограмм до и после предобработки данных практически идентичны, что говорит о том, что замена значений медианами существенно не исказила данные. Но количество объектов с медианой 2,75м увеличилось в общей доле, это следует учесть впоследствии при построении корреляционных моделей."
   ]
  },
  {
   "cell_type": "code",
   "execution_count": 114,
   "metadata": {},
   "outputs": [
    {
     "data": {
      "text/plain": [
       "count    23243.000000\n",
       "mean       186.352966\n",
       "std        233.672262\n",
       "min          0.000000\n",
       "25%         43.000000\n",
       "50%         95.000000\n",
       "75%        238.000000\n",
       "max       1618.000000\n",
       "Name: days_exposition, dtype: float64"
      ]
     },
     "execution_count": 114,
     "metadata": {},
     "output_type": "execute_result"
    }
   ],
   "source": [
    "data['days_exposition'].describe()"
   ]
  },
  {
   "cell_type": "markdown",
   "metadata": {},
   "source": [
    "Из описательной статистики поля days_exposition видно, что среднее время продажи - 186 дней, а медианное - 95 дней. Скорее всего, на среднее арифметическое ориентироваться нельзя, оно подвержено аномально высоким значениям дней продажи. Первый квартиль равено 45 дней, что похоже на показатель \"быстрой продажи\". Построим боксплот и гистограмму и посмотрим на распределение показателя."
   ]
  },
  {
   "cell_type": "code",
   "execution_count": 115,
   "metadata": {},
   "outputs": [
    {
     "data": {
      "image/png": "[encoded data removed]",
      "text/plain": [
       "<Figure size 432x288 with 1 Axes>"
      ]
     },
     "metadata": {
      "needs_background": "light"
     },
     "output_type": "display_data"
    }
   ],
   "source": [
    "data.boxplot(column = 'days_exposition');"
   ]
  },
  {
   "cell_type": "markdown",
   "metadata": {},
   "source": [
    "Исходя из расположения boxplot средняя продолжительность продажи - от 43 до 95 дней. Верхний \"ус\" boxplot заканчивается примерно на 550 днях, значит выше уже идут аномальные значения. Обычно продажа занимает от 45 до 238 дней. Очень быстрой продажей можно считать продажу до 43 дней."
   ]
  },
  {
   "cell_type": "code",
   "execution_count": 116,
   "metadata": {
    "scrolled": true
   },
   "outputs": [
    {
     "data": {
      "image/png": "[encoded data removed]",
      "text/plain": [
       "<Figure size 432x288 with 1 Axes>"
      ]
     },
     "metadata": {
      "needs_background": "light"
     },
     "output_type": "display_data"
    }
   ],
   "source": [
    "data['days_exposition'].hist(bins = 50, range = (1, 1000));"
   ]
  },
  {
   "cell_type": "markdown",
   "metadata": {},
   "source": [
    "На 50 днях явно заметна аномалия. Данное значение встречается чаще всего, можно попробовать извлечь его с помощью функции \"мода\"."
   ]
  },
  {
   "cell_type": "code",
   "execution_count": 117,
   "metadata": {},
   "outputs": [
    {
     "data": {
      "text/plain": [
       "45.00000000000001"
      ]
     },
     "execution_count": 117,
     "metadata": {},
     "output_type": "execute_result"
    }
   ],
   "source": [
    "import statistics\n",
    "md = statistics.mode(data['days_exposition'])\n",
    "md"
   ]
  },
  {
   "cell_type": "markdown",
   "metadata": {},
   "source": [
    "45 дней - время, за которое наиболее часто продается квартира. 1,5 месяца, для ликвидного объекта звучит правдоподобно. Попробуем отфильтровать это значение и убрать редкие значения, основываясь на значениях с boxplot и вновь посмотреть на гистограмму."
   ]
  },
  {
   "cell_type": "code",
   "execution_count": 118,
   "metadata": {
    "scrolled": true
   },
   "outputs": [
    {
     "data": {
      "image/png": "[encoded data removed]",
      "text/plain": [
       "<Figure size 432x288 with 1 Axes>"
      ]
     },
     "metadata": {
      "needs_background": "light"
     },
     "output_type": "display_data"
    }
   ],
   "source": [
    "sample_days_exp = data.query('days_exposition!=@md and days_exposition<550')\n",
    "sample_days_exp['days_exposition'].hist(bins = 50, range = (0,550));"
   ]
  },
  {
   "cell_type": "markdown",
   "metadata": {},
   "source": [
    "Распределение не стало ровнее, появились еще 2 пика."
   ]
  },
  {
   "cell_type": "code",
   "execution_count": 119,
   "metadata": {},
   "outputs": [
    {
     "data": {
      "text/plain": [
       "60.0"
      ]
     },
     "execution_count": 119,
     "metadata": {},
     "output_type": "execute_result"
    }
   ],
   "source": [
    "md1 = statistics.mode(sample_days_exp['days_exposition'])\n",
    "md1"
   ]
  },
  {
   "cell_type": "markdown",
   "metadata": {},
   "source": [
    "Следующая мода - 60 дней. Также правдоподобно для ликвидного объекта. Отфильтруем и посмотрим на третью моду."
   ]
  },
  {
   "cell_type": "code",
   "execution_count": 120,
   "metadata": {
    "scrolled": true
   },
   "outputs": [
    {
     "data": {
      "image/png": "[encoded data removed]",
      "text/plain": [
       "<Figure size 432x288 with 1 Axes>"
      ]
     },
     "metadata": {
      "needs_background": "light"
     },
     "output_type": "display_data"
    }
   ],
   "source": [
    "sample_days_exp1 = data.query('days_exposition!=@md1 and days_exposition!=@md')\n",
    "sample_days_exp1['days_exposition'].hist(bins = 50, range = (0,550));"
   ]
  },
  {
   "cell_type": "code",
   "execution_count": 121,
   "metadata": {},
   "outputs": [
    {
     "data": {
      "text/plain": [
       "7.0"
      ]
     },
     "execution_count": 121,
     "metadata": {},
     "output_type": "execute_result"
    }
   ],
   "source": [
    "md2 = statistics.mode(sample_days_exp1['days_exposition'])\n",
    "md2"
   ]
  },
  {
   "cell_type": "markdown",
   "metadata": {},
   "source": [
    "Третья аномалия - 7 дней продажи. Этот срок можно отнести к категории \"очень быстро\". В итоге можно выделить 3 наиболее часто встречающихся значения времени продаж: 7, 45 и 60 дней. Если первое  - аномально быстрое, то два других находятся внутри ящика боксплота и не являются вбросами. Но сравним среднюю стоимость квадратного метра для всех трех значений."
   ]
  },
  {
   "cell_type": "code",
   "execution_count": 122,
   "metadata": {
    "scrolled": true
   },
   "outputs": [
    {
     "data": {
      "text/html": [
       "<div>\n",
       "<style scoped>\n",
       "    .dataframe tbody tr th:only-of-type {\n",
       "        vertical-align: middle;\n",
       "    }\n",
       "\n",
       "    .dataframe tbody tr th {\n",
       "        vertical-align: top;\n",
       "    }\n",
       "\n",
       "    .dataframe thead tr th {\n",
       "        text-align: left;\n",
       "    }\n",
       "\n",
       "    .dataframe thead tr:last-of-type th {\n",
       "        text-align: right;\n",
       "    }\n",
       "</style>\n",
       "<table border=\"1\" class=\"dataframe\">\n",
       "  <thead>\n",
       "    <tr>\n",
       "      <th></th>\n",
       "      <th>mean</th>\n",
       "      <th>count</th>\n",
       "    </tr>\n",
       "    <tr>\n",
       "      <th></th>\n",
       "      <th>price_per_m2</th>\n",
       "      <th>price_per_m2</th>\n",
       "    </tr>\n",
       "    <tr>\n",
       "      <th>days_exposition</th>\n",
       "      <th></th>\n",
       "      <th></th>\n",
       "    </tr>\n",
       "  </thead>\n",
       "  <tbody>\n",
       "    <tr>\n",
       "      <td>7.0</td>\n",
       "      <td>99539.283041</td>\n",
       "      <td>260</td>\n",
       "    </tr>\n",
       "    <tr>\n",
       "      <td>45.0</td>\n",
       "      <td>73371.868552</td>\n",
       "      <td>859</td>\n",
       "    </tr>\n",
       "    <tr>\n",
       "      <td>60.0</td>\n",
       "      <td>102742.842565</td>\n",
       "      <td>545</td>\n",
       "    </tr>\n",
       "  </tbody>\n",
       "</table>\n",
       "</div>"
      ],
      "text/plain": [
       "                          mean        count\n",
       "                  price_per_m2 price_per_m2\n",
       "days_exposition                            \n",
       "7.0               99539.283041          260\n",
       "45.0              73371.868552          859\n",
       "60.0             102742.842565          545"
      ]
     },
     "execution_count": 122,
     "metadata": {},
     "output_type": "execute_result"
    }
   ],
   "source": [
    "(data.query('days_exposition==@md or days_exposition==@md1 or days_exposition==@md2')\n",
    " .pivot_table(index = 'days_exposition', values = 'price_per_m2', aggfunc =['mean', 'count']))"
   ]
  },
  {
   "cell_type": "markdown",
   "metadata": {},
   "source": [
    "Прямой зависимости от цены за метр не прослеживается. Если при средней стоимости 73 тыс/м2 объект уходит за 45 дней, то объекты со стоимостью метра под 100 тыс. аномально быстро продаются за неделю, а близкие по цене под 102 тыс. продаются 2 месяца. Проанализируем распределение цен на объекты, продающиеся за неделю, их 260."
   ]
  },
  {
   "cell_type": "code",
   "execution_count": 123,
   "metadata": {
    "scrolled": true
   },
   "outputs": [
    {
     "data": {
      "image/png": "[encoded data removed]",
      "text/plain": [
       "<Figure size 432x288 with 1 Axes>"
      ]
     },
     "metadata": {
      "needs_background": "light"
     },
     "output_type": "display_data"
    }
   ],
   "source": [
    "seven_days = data.query('days_exposition == @md2')\n",
    "seven_days['price_per_m2'].hist(bins = 50);\n"
   ]
  },
  {
   "cell_type": "code",
   "execution_count": 124,
   "metadata": {},
   "outputs": [
    {
     "data": {
      "text/plain": [
       "count       260.000000\n",
       "mean      99539.283041\n",
       "std       32570.792456\n",
       "min       16363.636364\n",
       "25%       80337.892196\n",
       "50%       98601.330203\n",
       "75%      114498.597475\n",
       "max      236966.824645\n",
       "Name: price_per_m2, dtype: float64"
      ]
     },
     "execution_count": 124,
     "metadata": {},
     "output_type": "execute_result"
    }
   ],
   "source": [
    "seven_days['price_per_m2'].describe()"
   ]
  },
  {
   "cell_type": "markdown",
   "metadata": {},
   "source": [
    "Силуэт гистограммы напоминает гистограмму нормального распределения. Т.к. это продажа квартир и продавцы стараются подстраиваться под общепризнанную цену за квадратный метр в зависимости от параметров квартиры, часто повторяющиеся значения могут быть обусловлены этим фактором (гипотеза). Распределение цен за квадратный метр также на первый взгляд не выявило аномалий, т.к. минимальная цена за квадратный метр может принадлежать объекту, значительно удаленному от центра города. Проверим эту гипотезу."
   ]
  },
  {
   "cell_type": "code",
   "execution_count": 125,
   "metadata": {},
   "outputs": [
    {
     "data": {
      "text/html": [
       "<div>\n",
       "<style scoped>\n",
       "    .dataframe tbody tr th:only-of-type {\n",
       "        vertical-align: middle;\n",
       "    }\n",
       "\n",
       "    .dataframe tbody tr th {\n",
       "        vertical-align: top;\n",
       "    }\n",
       "\n",
       "    .dataframe thead th {\n",
       "        text-align: right;\n",
       "    }\n",
       "</style>\n",
       "<table border=\"1\" class=\"dataframe\">\n",
       "  <thead>\n",
       "    <tr style=\"text-align: right;\">\n",
       "      <th></th>\n",
       "      <th></th>\n",
       "      <th></th>\n",
       "      <th></th>\n",
       "      <th>last_price</th>\n",
       "    </tr>\n",
       "    <tr>\n",
       "      <th>locality_name</th>\n",
       "      <th>nw_loc_nm</th>\n",
       "      <th>total_area</th>\n",
       "      <th>rooms</th>\n",
       "      <th></th>\n",
       "    </tr>\n",
       "  </thead>\n",
       "  <tbody>\n",
       "    <tr>\n",
       "      <td>БОКСИТОГОРСК</td>\n",
       "      <td>БОКСИТОГОРСК</td>\n",
       "      <td>44.0</td>\n",
       "      <td>2</td>\n",
       "      <td>720000.0</td>\n",
       "    </tr>\n",
       "  </tbody>\n",
       "</table>\n",
       "</div>"
      ],
      "text/plain": [
       "                                             last_price\n",
       "locality_name nw_loc_nm    total_area rooms            \n",
       "БОКСИТОГОРСК  БОКСИТОГОРСК 44.0       2        720000.0"
      ]
     },
     "execution_count": 125,
     "metadata": {},
     "output_type": "execute_result"
    }
   ],
   "source": [
    "min_sev_ds = seven_days['price_per_m2'].min()\n",
    "seven_days.query('price_per_m2==@min_sev_ds').pivot_table(index = ['locality_name','nw_loc_nm','total_area','rooms'], values = 'last_price')"
   ]
  },
  {
   "cell_type": "markdown",
   "metadata": {},
   "source": [
    "Населенный пункт находится примерно на расстоянии 190 км от Санкт-Петербурга. Возможно, цена правдоподобна."
   ]
  },
  {
   "cell_type": "code",
   "execution_count": 126,
   "metadata": {
    "scrolled": true
   },
   "outputs": [
    {
     "data": {
      "image/png": "[encoded data removed]",
      "text/plain": [
       "<Figure size 432x288 with 1 Axes>"
      ]
     },
     "metadata": {
      "needs_background": "light"
     },
     "output_type": "display_data"
    }
   ],
   "source": [
    "sample_price_area = data.query('total_area<300 and price_per_m2<500000')\n",
    "sample_price_area.plot(x = 'total_area', y = 'price_per_m2', kind = 'scatter', grid = True,alpha=0.15);"
   ]
  },
  {
   "cell_type": "code",
   "execution_count": 127,
   "metadata": {},
   "outputs": [
    {
     "data": {
      "text/plain": [
       "0.26866754830538986"
      ]
     },
     "execution_count": 127,
     "metadata": {},
     "output_type": "execute_result"
    }
   ],
   "source": [
    "sample_price_area['total_area'].corr(sample_price_area['price_per_m2'])"
   ]
  },
  {
   "cell_type": "markdown",
   "metadata": {},
   "source": [
    "График показывает отсутствие зависимости между площадью и ценой за квадратный метр. Коэффициент корреляции подтверждает это, 0,26 очень далек от 1. "
   ]
  },
  {
   "cell_type": "code",
   "execution_count": 128,
   "metadata": {
    "scrolled": false
   },
   "outputs": [
    {
     "data": {
      "image/png": "[encoded data removed]",
      "text/plain": [
       "<Figure size 432x288 with 1 Axes>"
      ]
     },
     "metadata": {
      "needs_background": "light"
     },
     "output_type": "display_data"
    }
   ],
   "source": [
    "sample_price_rooms = data.query('rooms<7 and price_per_m2<500000')\n",
    "sample_price_rooms.plot(x = 'rooms', y = 'price_per_m2', kind = 'scatter', grid = True,alpha=0.15);"
   ]
  },
  {
   "cell_type": "code",
   "execution_count": 129,
   "metadata": {},
   "outputs": [
    {
     "data": {
      "text/plain": [
       "0.01588638991736305"
      ]
     },
     "execution_count": 129,
     "metadata": {},
     "output_type": "execute_result"
    }
   ],
   "source": [
    "sample_price_rooms['rooms'].corr(sample_price_rooms['price_per_m2'])"
   ]
  },
  {
   "cell_type": "markdown",
   "metadata": {},
   "source": [
    "Из диаграммы видно, что связи между количеством комнат и ценой за квадратный метр нет, что подтверждается низким коэффициентом корреляции."
   ]
  },
  {
   "cell_type": "code",
   "execution_count": 130,
   "metadata": {},
   "outputs": [
    {
     "data": {
      "image/png": "[encoded data removed]",
      "text/plain": [
       "<Figure size 432x288 with 1 Axes>"
      ]
     },
     "metadata": {
      "needs_background": "light"
     },
     "output_type": "display_data"
    }
   ],
   "source": [
    "sample_price_nearest = data.query('~cityCenters_nearest.isna()', engine = 'python')\n",
    "sample_price_nearest.plot(x = 'cityCenters_nearest', y = 'price_per_m2', kind = 'scatter', grid = True,alpha=0.15);"
   ]
  },
  {
   "cell_type": "code",
   "execution_count": 131,
   "metadata": {},
   "outputs": [
    {
     "data": {
      "text/plain": [
       "-0.38363985111936383"
      ]
     },
     "execution_count": 131,
     "metadata": {},
     "output_type": "execute_result"
    }
   ],
   "source": [
    "sample_price_rooms['cityCenters_nearest'].corr(sample_price_rooms['price_per_m2'])"
   ]
  },
  {
   "cell_type": "markdown",
   "metadata": {},
   "source": [
    "График показывает слабую обратную корреляцию, с удалением от центра цена за квадратный метр падает. Если в радиусе 10 км от центра цена метра может достигать 500 тыс. и выше, то для 20 км стоимость в 250 тыс - уже аномалия, основная масса объектов продается по цене примерно 100 тыс/м2 и ниже. Несмотря на низкий коэффициент (0,38) на графике тенденция прослеживается явно."
   ]
  },
  {
   "cell_type": "code",
   "execution_count": 132,
   "metadata": {
    "scrolled": true
   },
   "outputs": [
    {
     "data": {
      "text/html": [
       "<div>\n",
       "<style scoped>\n",
       "    .dataframe tbody tr th:only-of-type {\n",
       "        vertical-align: middle;\n",
       "    }\n",
       "\n",
       "    .dataframe tbody tr th {\n",
       "        vertical-align: top;\n",
       "    }\n",
       "\n",
       "    .dataframe thead th {\n",
       "        text-align: right;\n",
       "    }\n",
       "</style>\n",
       "<table border=\"1\" class=\"dataframe\">\n",
       "  <thead>\n",
       "    <tr style=\"text-align: right;\">\n",
       "      <th></th>\n",
       "      <th>price_per_m2</th>\n",
       "    </tr>\n",
       "    <tr>\n",
       "      <th>floor_group</th>\n",
       "      <th></th>\n",
       "    </tr>\n",
       "  </thead>\n",
       "  <tbody>\n",
       "    <tr>\n",
       "      <td>ПЕРВЫЙ</td>\n",
       "      <td>81111.111111</td>\n",
       "    </tr>\n",
       "    <tr>\n",
       "      <td>ПОСЛЕДНИЙ</td>\n",
       "      <td>87625.281390</td>\n",
       "    </tr>\n",
       "    <tr>\n",
       "      <td>ДРУГОЙ</td>\n",
       "      <td>98164.613170</td>\n",
       "    </tr>\n",
       "  </tbody>\n",
       "</table>\n",
       "</div>"
      ],
      "text/plain": [
       "             price_per_m2\n",
       "floor_group              \n",
       "ПЕРВЫЙ       81111.111111\n",
       "ПОСЛЕДНИЙ    87625.281390\n",
       "ДРУГОЙ       98164.613170"
      ]
     },
     "execution_count": 132,
     "metadata": {},
     "output_type": "execute_result"
    }
   ],
   "source": [
    "data.pivot_table(index = 'floor_group', values = 'price_per_m2', aggfunc = 'median').sort_values(by = 'price_per_m2')"
   ]
  },
  {
   "cell_type": "markdown",
   "metadata": {},
   "source": [
    "Объекты на первых этажах продаются по минимальной цене за квадратный метр. Дороже - объекты на последних этажах. Выше всего стоимость квадратного метра у объектов, расположенных не на первом и не на последнем этаже.\n",
    "Но вследствии того, что пропуски этажности домов были заполнены по условию, возможны искажения. Проверим этажность объектов на непредобработанном датасете, исключив значения NaN"
   ]
  },
  {
   "cell_type": "code",
   "execution_count": 133,
   "metadata": {},
   "outputs": [],
   "source": [
    "sample_floors = data.query('~floors_total.isna()',engine = 'python')"
   ]
  },
  {
   "cell_type": "code",
   "execution_count": 134,
   "metadata": {
    "scrolled": true
   },
   "outputs": [
    {
     "data": {
      "text/html": [
       "<div>\n",
       "<style scoped>\n",
       "    .dataframe tbody tr th:only-of-type {\n",
       "        vertical-align: middle;\n",
       "    }\n",
       "\n",
       "    .dataframe tbody tr th {\n",
       "        vertical-align: top;\n",
       "    }\n",
       "\n",
       "    .dataframe thead th {\n",
       "        text-align: right;\n",
       "    }\n",
       "</style>\n",
       "<table border=\"1\" class=\"dataframe\">\n",
       "  <thead>\n",
       "    <tr style=\"text-align: right;\">\n",
       "      <th></th>\n",
       "      <th>total_images</th>\n",
       "      <th>last_price</th>\n",
       "      <th>total_area</th>\n",
       "      <th>first_day_exposition</th>\n",
       "      <th>rooms</th>\n",
       "      <th>ceiling_height</th>\n",
       "      <th>floors_total</th>\n",
       "      <th>living_area</th>\n",
       "      <th>floor</th>\n",
       "      <th>is_apartment</th>\n",
       "      <th>...</th>\n",
       "      <th>living_area_fin</th>\n",
       "      <th>ceiling_height_fin</th>\n",
       "      <th>ceiling_height_fin1</th>\n",
       "      <th>kitch_area_fin</th>\n",
       "      <th>cc_mean_nearest</th>\n",
       "      <th>weekday</th>\n",
       "      <th>month</th>\n",
       "      <th>floor_group</th>\n",
       "      <th>living_to_total_sq</th>\n",
       "      <th>kitchen_to_total_sq</th>\n",
       "    </tr>\n",
       "  </thead>\n",
       "  <tbody>\n",
       "    <tr>\n",
       "      <td>0</td>\n",
       "      <td>20</td>\n",
       "      <td>13000000.0</td>\n",
       "      <td>108.0</td>\n",
       "      <td>2019-03-07</td>\n",
       "      <td>3</td>\n",
       "      <td>2.70</td>\n",
       "      <td>16</td>\n",
       "      <td>51.0</td>\n",
       "      <td>8</td>\n",
       "      <td>NaN</td>\n",
       "      <td>...</td>\n",
       "      <td>57.30</td>\n",
       "      <td>2.70</td>\n",
       "      <td>2.70</td>\n",
       "      <td>13.00</td>\n",
       "      <td>NaN</td>\n",
       "      <td>3</td>\n",
       "      <td>3</td>\n",
       "      <td>ДРУГОЙ</td>\n",
       "      <td>0.530556</td>\n",
       "      <td>0.120370</td>\n",
       "    </tr>\n",
       "    <tr>\n",
       "      <td>1</td>\n",
       "      <td>10</td>\n",
       "      <td>5196000.0</td>\n",
       "      <td>56.0</td>\n",
       "      <td>2015-08-20</td>\n",
       "      <td>2</td>\n",
       "      <td>NaN</td>\n",
       "      <td>5</td>\n",
       "      <td>34.3</td>\n",
       "      <td>4</td>\n",
       "      <td>NaN</td>\n",
       "      <td>...</td>\n",
       "      <td>32.00</td>\n",
       "      <td>2.55</td>\n",
       "      <td>2.55</td>\n",
       "      <td>7.00</td>\n",
       "      <td>NaN</td>\n",
       "      <td>3</td>\n",
       "      <td>8</td>\n",
       "      <td>ДРУГОЙ</td>\n",
       "      <td>0.571429</td>\n",
       "      <td>0.125000</td>\n",
       "    </tr>\n",
       "    <tr>\n",
       "      <td>2</td>\n",
       "      <td>0</td>\n",
       "      <td>64900000.0</td>\n",
       "      <td>159.0</td>\n",
       "      <td>2015-07-24</td>\n",
       "      <td>3</td>\n",
       "      <td>NaN</td>\n",
       "      <td>14</td>\n",
       "      <td>NaN</td>\n",
       "      <td>9</td>\n",
       "      <td>NaN</td>\n",
       "      <td>...</td>\n",
       "      <td>54.00</td>\n",
       "      <td>2.60</td>\n",
       "      <td>2.60</td>\n",
       "      <td>10.65</td>\n",
       "      <td>NaN</td>\n",
       "      <td>4</td>\n",
       "      <td>7</td>\n",
       "      <td>ДРУГОЙ</td>\n",
       "      <td>0.339623</td>\n",
       "      <td>0.066981</td>\n",
       "    </tr>\n",
       "    <tr>\n",
       "      <td>3</td>\n",
       "      <td>2</td>\n",
       "      <td>10000000.0</td>\n",
       "      <td>100.0</td>\n",
       "      <td>2018-06-19</td>\n",
       "      <td>2</td>\n",
       "      <td>3.03</td>\n",
       "      <td>14</td>\n",
       "      <td>32.0</td>\n",
       "      <td>13</td>\n",
       "      <td>NaN</td>\n",
       "      <td>...</td>\n",
       "      <td>44.50</td>\n",
       "      <td>3.03</td>\n",
       "      <td>2.60</td>\n",
       "      <td>9.00</td>\n",
       "      <td>NaN</td>\n",
       "      <td>1</td>\n",
       "      <td>6</td>\n",
       "      <td>ДРУГОЙ</td>\n",
       "      <td>0.445000</td>\n",
       "      <td>0.090000</td>\n",
       "    </tr>\n",
       "    <tr>\n",
       "      <td>4</td>\n",
       "      <td>5</td>\n",
       "      <td>7915000.0</td>\n",
       "      <td>71.6</td>\n",
       "      <td>2019-04-18</td>\n",
       "      <td>2</td>\n",
       "      <td>NaN</td>\n",
       "      <td>24</td>\n",
       "      <td>NaN</td>\n",
       "      <td>22</td>\n",
       "      <td>NaN</td>\n",
       "      <td>...</td>\n",
       "      <td>34.65</td>\n",
       "      <td>2.75</td>\n",
       "      <td>2.75</td>\n",
       "      <td>12.00</td>\n",
       "      <td>NaN</td>\n",
       "      <td>3</td>\n",
       "      <td>4</td>\n",
       "      <td>ДРУГОЙ</td>\n",
       "      <td>0.483939</td>\n",
       "      <td>0.167598</td>\n",
       "    </tr>\n",
       "  </tbody>\n",
       "</table>\n",
       "<p>5 rows × 37 columns</p>\n",
       "</div>"
      ],
      "text/plain": [
       "   total_images  last_price  total_area first_day_exposition  rooms  \\\n",
       "0            20  13000000.0       108.0           2019-03-07      3   \n",
       "1            10   5196000.0        56.0           2015-08-20      2   \n",
       "2             0  64900000.0       159.0           2015-07-24      3   \n",
       "3             2  10000000.0       100.0           2018-06-19      2   \n",
       "4             5   7915000.0        71.6           2019-04-18      2   \n",
       "\n",
       "   ceiling_height  floors_total  living_area  floor is_apartment  ...  \\\n",
       "0            2.70            16         51.0      8          NaN  ...   \n",
       "1             NaN             5         34.3      4          NaN  ...   \n",
       "2             NaN            14          NaN      9          NaN  ...   \n",
       "3            3.03            14         32.0     13          NaN  ...   \n",
       "4             NaN            24          NaN     22          NaN  ...   \n",
       "\n",
       "   living_area_fin  ceiling_height_fin  ceiling_height_fin1  kitch_area_fin  \\\n",
       "0            57.30                2.70                 2.70           13.00   \n",
       "1            32.00                2.55                 2.55            7.00   \n",
       "2            54.00                2.60                 2.60           10.65   \n",
       "3            44.50                3.03                 2.60            9.00   \n",
       "4            34.65                2.75                 2.75           12.00   \n",
       "\n",
       "  cc_mean_nearest  weekday  month  floor_group  living_to_total_sq  \\\n",
       "0             NaN        3      3       ДРУГОЙ            0.530556   \n",
       "1             NaN        3      8       ДРУГОЙ            0.571429   \n",
       "2             NaN        4      7       ДРУГОЙ            0.339623   \n",
       "3             NaN        1      6       ДРУГОЙ            0.445000   \n",
       "4             NaN        3      4       ДРУГОЙ            0.483939   \n",
       "\n",
       "   kitchen_to_total_sq  \n",
       "0             0.120370  \n",
       "1             0.125000  \n",
       "2             0.066981  \n",
       "3             0.090000  \n",
       "4             0.167598  \n",
       "\n",
       "[5 rows x 37 columns]"
      ]
     },
     "execution_count": 134,
     "metadata": {},
     "output_type": "execute_result"
    }
   ],
   "source": [
    "def floor_grp_first(row):\n",
    "    flr = row['floor']\n",
    "    ttl_flr = row['floors_total']\n",
    "    if flr==1:\n",
    "        return 'ПЕРВЫЙ'\n",
    "    elif flr==ttl_flr:\n",
    "        return 'ПОСЛЕДНИЙ'\n",
    "    else:\n",
    "        return 'ДРУГОЙ'\n",
    "sample_floors['floor_group_frst'] = sample_floors.apply(floor_grp_first, axis =1)\n",
    "data.head()"
   ]
  },
  {
   "cell_type": "markdown",
   "metadata": {},
   "source": [
    "Создадим датасет sample_floor, исключив пропущенные значения floors_total и ранжируем этажность в зависимости от столбца floors_total."
   ]
  },
  {
   "cell_type": "code",
   "execution_count": 135,
   "metadata": {
    "scrolled": true
   },
   "outputs": [
    {
     "data": {
      "text/html": [
       "<div>\n",
       "<style scoped>\n",
       "    .dataframe tbody tr th:only-of-type {\n",
       "        vertical-align: middle;\n",
       "    }\n",
       "\n",
       "    .dataframe tbody tr th {\n",
       "        vertical-align: top;\n",
       "    }\n",
       "\n",
       "    .dataframe thead th {\n",
       "        text-align: right;\n",
       "    }\n",
       "</style>\n",
       "<table border=\"1\" class=\"dataframe\">\n",
       "  <thead>\n",
       "    <tr style=\"text-align: right;\">\n",
       "      <th></th>\n",
       "      <th>price_per_m2</th>\n",
       "    </tr>\n",
       "    <tr>\n",
       "      <th>floor_group_frst</th>\n",
       "      <th></th>\n",
       "    </tr>\n",
       "  </thead>\n",
       "  <tbody>\n",
       "    <tr>\n",
       "      <td>ПЕРВЫЙ</td>\n",
       "      <td>81111.111111</td>\n",
       "    </tr>\n",
       "    <tr>\n",
       "      <td>ПОСЛЕДНИЙ</td>\n",
       "      <td>87511.394713</td>\n",
       "    </tr>\n",
       "    <tr>\n",
       "      <td>ДРУГОЙ</td>\n",
       "      <td>98159.509202</td>\n",
       "    </tr>\n",
       "  </tbody>\n",
       "</table>\n",
       "</div>"
      ],
      "text/plain": [
       "                  price_per_m2\n",
       "floor_group_frst              \n",
       "ПЕРВЫЙ            81111.111111\n",
       "ПОСЛЕДНИЙ         87511.394713\n",
       "ДРУГОЙ            98159.509202"
      ]
     },
     "execution_count": 135,
     "metadata": {},
     "output_type": "execute_result"
    }
   ],
   "source": [
    "sample_floors.pivot_table(index = 'floor_group_frst', values = 'price_per_m2', aggfunc = 'median').sort_values(by = 'price_per_m2')"
   ]
  },
  {
   "cell_type": "markdown",
   "metadata": {},
   "source": [
    "Соотношение сохранилось, значит заполнение пропущенных значений было произведено корректно. Гипотеза о зависимости этажа и цены за метр подтверждается, последние этажи дороже первых, а промежуточные - дороже первых и последних."
   ]
  },
  {
   "cell_type": "code",
   "execution_count": 136,
   "metadata": {
    "scrolled": true
   },
   "outputs": [
    {
     "data": {
      "image/png": "[encoded data removed]",
      "text/plain": [
       "<Figure size 432x288 with 1 Axes>"
      ]
     },
     "metadata": {
      "needs_background": "light"
     },
     "output_type": "display_data"
    }
   ],
   "source": [
    "data.plot(x = 'weekday', y = 'price_per_m2', kind = 'scatter', grid = True,alpha=0.15);"
   ]
  },
  {
   "cell_type": "code",
   "execution_count": 137,
   "metadata": {},
   "outputs": [
    {
     "data": {
      "text/plain": [
       "-0.012607163089632787"
      ]
     },
     "execution_count": 137,
     "metadata": {},
     "output_type": "execute_result"
    }
   ],
   "source": [
    "data['price_per_m2'].corr(data['weekday'])"
   ]
  },
  {
   "cell_type": "code",
   "execution_count": 138,
   "metadata": {},
   "outputs": [
    {
     "data": {
      "text/html": [
       "<div>\n",
       "<style scoped>\n",
       "    .dataframe tbody tr th:only-of-type {\n",
       "        vertical-align: middle;\n",
       "    }\n",
       "\n",
       "    .dataframe tbody tr th {\n",
       "        vertical-align: top;\n",
       "    }\n",
       "\n",
       "    .dataframe thead th {\n",
       "        text-align: right;\n",
       "    }\n",
       "</style>\n",
       "<table border=\"1\" class=\"dataframe\">\n",
       "  <thead>\n",
       "    <tr style=\"text-align: right;\">\n",
       "      <th></th>\n",
       "      <th>price_per_m2</th>\n",
       "    </tr>\n",
       "    <tr>\n",
       "      <th>weekday</th>\n",
       "      <th></th>\n",
       "    </tr>\n",
       "  </thead>\n",
       "  <tbody>\n",
       "    <tr>\n",
       "      <td>1</td>\n",
       "      <td>95510.901274</td>\n",
       "    </tr>\n",
       "    <tr>\n",
       "      <td>2</td>\n",
       "      <td>95376.837655</td>\n",
       "    </tr>\n",
       "    <tr>\n",
       "      <td>3</td>\n",
       "      <td>95019.841270</td>\n",
       "    </tr>\n",
       "    <tr>\n",
       "      <td>0</td>\n",
       "      <td>94667.066107</td>\n",
       "    </tr>\n",
       "    <tr>\n",
       "      <td>4</td>\n",
       "      <td>94418.293571</td>\n",
       "    </tr>\n",
       "    <tr>\n",
       "      <td>6</td>\n",
       "      <td>94336.461126</td>\n",
       "    </tr>\n",
       "    <tr>\n",
       "      <td>5</td>\n",
       "      <td>93109.827858</td>\n",
       "    </tr>\n",
       "  </tbody>\n",
       "</table>\n",
       "</div>"
      ],
      "text/plain": [
       "         price_per_m2\n",
       "weekday              \n",
       "1        95510.901274\n",
       "2        95376.837655\n",
       "3        95019.841270\n",
       "0        94667.066107\n",
       "4        94418.293571\n",
       "6        94336.461126\n",
       "5        93109.827858"
      ]
     },
     "execution_count": 138,
     "metadata": {},
     "output_type": "execute_result"
    }
   ],
   "source": [
    "data.pivot_table(index = 'weekday', values = 'price_per_m2', aggfunc = 'median').sort_values(by = 'price_per_m2', ascending =False)"
   ]
  },
  {
   "cell_type": "markdown",
   "metadata": {},
   "source": [
    "Коэффициент корреляции близок к 0, но на графике видно, что на объекты, объявления на которые размещены в рабочие дни, имеют стоимость квадратного метра выше, чем в объявлениях выходного дня. Самые \"дорогие\" объекты размещены в понедельник-вторник-среду. Как неподтвержденная гипотеза - это объявления риелторских агентств, которые не работают в выходные и закладывают в цену свой % за услуги. Проверить гипотезу можно было бы если бы в датасете было поле \"Тип продавца\"."
   ]
  },
  {
   "cell_type": "code",
   "execution_count": 139,
   "metadata": {
    "scrolled": false
   },
   "outputs": [
    {
     "data": {
      "image/png": "[encoded data removed]",
      "text/plain": [
       "<Figure size 432x288 with 1 Axes>"
      ]
     },
     "metadata": {
      "needs_background": "light"
     },
     "output_type": "display_data"
    }
   ],
   "source": [
    "data.plot(x = 'month', y = 'price_per_m2', kind = 'scatter', grid = True,alpha=0.15);"
   ]
  },
  {
   "cell_type": "code",
   "execution_count": 140,
   "metadata": {},
   "outputs": [
    {
     "data": {
      "text/plain": [
       "-0.004515574573789166"
      ]
     },
     "execution_count": 140,
     "metadata": {},
     "output_type": "execute_result"
    }
   ],
   "source": [
    "data['price_per_m2'].corr(data['month'])"
   ]
  },
  {
   "cell_type": "markdown",
   "metadata": {},
   "source": [
    "Корреляционная зависимость цены за метр и месяца размещения близка к нулю. Зависимости нет."
   ]
  },
  {
   "cell_type": "code",
   "execution_count": 141,
   "metadata": {},
   "outputs": [
    {
     "data": {
      "text/plain": [
       "0.011593897700517938"
      ]
     },
     "execution_count": 141,
     "metadata": {},
     "output_type": "execute_result"
    }
   ],
   "source": [
    "data['price_per_m2'].corr(data['year'])"
   ]
  },
  {
   "cell_type": "markdown",
   "metadata": {},
   "source": [
    "Аналогично, зависимость цены за метр и года отсутствует."
   ]
  },
  {
   "cell_type": "code",
   "execution_count": 142,
   "metadata": {},
   "outputs": [
    {
     "data": {
      "text/html": [
       "<div>\n",
       "<style scoped>\n",
       "    .dataframe tbody tr th:only-of-type {\n",
       "        vertical-align: middle;\n",
       "    }\n",
       "\n",
       "    .dataframe tbody tr th {\n",
       "        vertical-align: top;\n",
       "    }\n",
       "\n",
       "    .dataframe thead th {\n",
       "        text-align: right;\n",
       "    }\n",
       "</style>\n",
       "<table border=\"1\" class=\"dataframe\">\n",
       "  <thead>\n",
       "    <tr style=\"text-align: right;\">\n",
       "      <th></th>\n",
       "      <th>nw_loc_nm</th>\n",
       "      <th>qty</th>\n",
       "      <th>price_per_m2</th>\n",
       "    </tr>\n",
       "  </thead>\n",
       "  <tbody>\n",
       "    <tr>\n",
       "      <td>0</td>\n",
       "      <td>САНКТ-ПЕТЕРБУРГ</td>\n",
       "      <td>15455</td>\n",
       "      <td>114376.462915</td>\n",
       "    </tr>\n",
       "    <tr>\n",
       "      <td>1</td>\n",
       "      <td>МУРИНО</td>\n",
       "      <td>570</td>\n",
       "      <td>82493.708388</td>\n",
       "    </tr>\n",
       "    <tr>\n",
       "      <td>2</td>\n",
       "      <td>ШУШАРЫ</td>\n",
       "      <td>435</td>\n",
       "      <td>78469.717790</td>\n",
       "    </tr>\n",
       "    <tr>\n",
       "      <td>3</td>\n",
       "      <td>ВСЕВОЛОЖСК</td>\n",
       "      <td>392</td>\n",
       "      <td>68618.013712</td>\n",
       "    </tr>\n",
       "    <tr>\n",
       "      <td>4</td>\n",
       "      <td>ПУШКИН</td>\n",
       "      <td>367</td>\n",
       "      <td>102988.100753</td>\n",
       "    </tr>\n",
       "    <tr>\n",
       "      <td>5</td>\n",
       "      <td>КОЛПИНО</td>\n",
       "      <td>338</td>\n",
       "      <td>75424.579098</td>\n",
       "    </tr>\n",
       "    <tr>\n",
       "      <td>6</td>\n",
       "      <td>ПАРГОЛОВО</td>\n",
       "      <td>322</td>\n",
       "      <td>90448.423806</td>\n",
       "    </tr>\n",
       "    <tr>\n",
       "      <td>7</td>\n",
       "      <td>КУДРОВО</td>\n",
       "      <td>318</td>\n",
       "      <td>88152.954028</td>\n",
       "    </tr>\n",
       "    <tr>\n",
       "      <td>8</td>\n",
       "      <td>ГАТЧИНА</td>\n",
       "      <td>307</td>\n",
       "      <td>68746.146763</td>\n",
       "    </tr>\n",
       "    <tr>\n",
       "      <td>9</td>\n",
       "      <td>ВЫБОРГ</td>\n",
       "      <td>237</td>\n",
       "      <td>58141.909153</td>\n",
       "    </tr>\n",
       "  </tbody>\n",
       "</table>\n",
       "</div>"
      ],
      "text/plain": [
       "         nw_loc_nm    qty   price_per_m2\n",
       "0  САНКТ-ПЕТЕРБУРГ  15455  114376.462915\n",
       "1           МУРИНО    570   82493.708388\n",
       "2           ШУШАРЫ    435   78469.717790\n",
       "3       ВСЕВОЛОЖСК    392   68618.013712\n",
       "4           ПУШКИН    367  102988.100753\n",
       "5          КОЛПИНО    338   75424.579098\n",
       "6        ПАРГОЛОВО    322   90448.423806\n",
       "7          КУДРОВО    318   88152.954028\n",
       "8          ГАТЧИНА    307   68746.146763\n",
       "9           ВЫБОРГ    237   58141.909153"
      ]
     },
     "execution_count": 142,
     "metadata": {},
     "output_type": "execute_result"
    }
   ],
   "source": [
    "top_locations = data.pivot_table(index = 'nw_loc_nm', values='last_price', aggfunc = 'count').reset_index().sort_values(by = 'last_price', ascending = False).head(10)\n",
    "avg_price_loc = data.pivot_table(index = 'nw_loc_nm', values='price_per_m2').reset_index()\n",
    "new_col1 = ['nw_loc_nm', 'qty']\n",
    "top_locations.set_axis(new_col1, axis = 'columns', inplace = True)\n",
    "top_locations=top_locations.merge(avg_price_loc, on = 'nw_loc_nm', how = 'left')\n",
    "top_locations"
   ]
  },
  {
   "cell_type": "markdown",
   "metadata": {},
   "source": [
    "Создадим датафрейм с наибольшим количеством объявлений и датафрейм avg_price_loc со средними ценами за метр в разрезе населенных пунктов. Объединим эти датафреймы и сохраним в переменной top_locations."
   ]
  },
  {
   "cell_type": "code",
   "execution_count": 143,
   "metadata": {
    "scrolled": true
   },
   "outputs": [
    {
     "data": {
      "text/html": [
       "<div>\n",
       "<style scoped>\n",
       "    .dataframe tbody tr th:only-of-type {\n",
       "        vertical-align: middle;\n",
       "    }\n",
       "\n",
       "    .dataframe tbody tr th {\n",
       "        vertical-align: top;\n",
       "    }\n",
       "\n",
       "    .dataframe thead th {\n",
       "        text-align: right;\n",
       "    }\n",
       "</style>\n",
       "<table border=\"1\" class=\"dataframe\">\n",
       "  <thead>\n",
       "    <tr style=\"text-align: right;\">\n",
       "      <th></th>\n",
       "      <th>nw_loc_nm</th>\n",
       "      <th>qty</th>\n",
       "      <th>price_per_m2</th>\n",
       "    </tr>\n",
       "  </thead>\n",
       "  <tbody>\n",
       "    <tr>\n",
       "      <td>0</td>\n",
       "      <td>САНКТ-ПЕТЕРБУРГ</td>\n",
       "      <td>15455</td>\n",
       "      <td>114376.462915</td>\n",
       "    </tr>\n",
       "    <tr>\n",
       "      <td>4</td>\n",
       "      <td>ПУШКИН</td>\n",
       "      <td>367</td>\n",
       "      <td>102988.100753</td>\n",
       "    </tr>\n",
       "    <tr>\n",
       "      <td>6</td>\n",
       "      <td>ПАРГОЛОВО</td>\n",
       "      <td>322</td>\n",
       "      <td>90448.423806</td>\n",
       "    </tr>\n",
       "    <tr>\n",
       "      <td>7</td>\n",
       "      <td>КУДРОВО</td>\n",
       "      <td>318</td>\n",
       "      <td>88152.954028</td>\n",
       "    </tr>\n",
       "    <tr>\n",
       "      <td>1</td>\n",
       "      <td>МУРИНО</td>\n",
       "      <td>570</td>\n",
       "      <td>82493.708388</td>\n",
       "    </tr>\n",
       "    <tr>\n",
       "      <td>2</td>\n",
       "      <td>ШУШАРЫ</td>\n",
       "      <td>435</td>\n",
       "      <td>78469.717790</td>\n",
       "    </tr>\n",
       "    <tr>\n",
       "      <td>5</td>\n",
       "      <td>КОЛПИНО</td>\n",
       "      <td>338</td>\n",
       "      <td>75424.579098</td>\n",
       "    </tr>\n",
       "    <tr>\n",
       "      <td>8</td>\n",
       "      <td>ГАТЧИНА</td>\n",
       "      <td>307</td>\n",
       "      <td>68746.146763</td>\n",
       "    </tr>\n",
       "    <tr>\n",
       "      <td>3</td>\n",
       "      <td>ВСЕВОЛОЖСК</td>\n",
       "      <td>392</td>\n",
       "      <td>68618.013712</td>\n",
       "    </tr>\n",
       "    <tr>\n",
       "      <td>9</td>\n",
       "      <td>ВЫБОРГ</td>\n",
       "      <td>237</td>\n",
       "      <td>58141.909153</td>\n",
       "    </tr>\n",
       "  </tbody>\n",
       "</table>\n",
       "</div>"
      ],
      "text/plain": [
       "         nw_loc_nm    qty   price_per_m2\n",
       "0  САНКТ-ПЕТЕРБУРГ  15455  114376.462915\n",
       "4           ПУШКИН    367  102988.100753\n",
       "6        ПАРГОЛОВО    322   90448.423806\n",
       "7          КУДРОВО    318   88152.954028\n",
       "1           МУРИНО    570   82493.708388\n",
       "2           ШУШАРЫ    435   78469.717790\n",
       "5          КОЛПИНО    338   75424.579098\n",
       "8          ГАТЧИНА    307   68746.146763\n",
       "3       ВСЕВОЛОЖСК    392   68618.013712\n",
       "9           ВЫБОРГ    237   58141.909153"
      ]
     },
     "execution_count": 143,
     "metadata": {},
     "output_type": "execute_result"
    }
   ],
   "source": [
    "top_locations.sort_values(by = 'price_per_m2', ascending = False)"
   ]
  },
  {
   "cell_type": "markdown",
   "metadata": {},
   "source": [
    "Максимальная стоимость за квадратный метр - в Санкт-Петербурге. Минимальная - в Выборге."
   ]
  },
  {
   "cell_type": "code",
   "execution_count": 144,
   "metadata": {
    "scrolled": true
   },
   "outputs": [
    {
     "name": "stderr",
     "output_type": "stream",
     "text": [
      "/opt/conda/lib/python3.7/site-packages/ipykernel_launcher.py:2: SettingWithCopyWarning: \n",
      "A value is trying to be set on a copy of a slice from a DataFrame.\n",
      "Try using .loc[row_indexer,col_indexer] = value instead\n",
      "\n",
      "See the caveats in the documentation: http://pandas.pydata.org/pandas-docs/stable/user_guide/indexing.html#returning-a-view-versus-a-copy\n",
      "  \n",
      "/opt/conda/lib/python3.7/site-packages/ipykernel_launcher.py:3: SettingWithCopyWarning: \n",
      "A value is trying to be set on a copy of a slice from a DataFrame.\n",
      "Try using .loc[row_indexer,col_indexer] = value instead\n",
      "\n",
      "See the caveats in the documentation: http://pandas.pydata.org/pandas-docs/stable/user_guide/indexing.html#returning-a-view-versus-a-copy\n",
      "  This is separate from the ipykernel package so we can avoid doing imports until\n"
     ]
    }
   ],
   "source": [
    "spb = data.query('~cityCenters_nearest.isna() and nw_loc_nm == \"САНКТ-ПЕТЕРБУРГ\"')\n",
    "spb['cityCenters_nearest'] = spb['cityCenters_nearest']/1000\n",
    "spb['cityCenters_nearest']=spb['cityCenters_nearest'].astype(int)"
   ]
  },
  {
   "cell_type": "code",
   "execution_count": 145,
   "metadata": {
    "scrolled": true
   },
   "outputs": [
    {
     "data": {
      "text/html": [
       "<div>\n",
       "<style scoped>\n",
       "    .dataframe tbody tr th:only-of-type {\n",
       "        vertical-align: middle;\n",
       "    }\n",
       "\n",
       "    .dataframe tbody tr th {\n",
       "        vertical-align: top;\n",
       "    }\n",
       "\n",
       "    .dataframe thead th {\n",
       "        text-align: right;\n",
       "    }\n",
       "</style>\n",
       "<table border=\"1\" class=\"dataframe\">\n",
       "  <thead>\n",
       "    <tr style=\"text-align: right;\">\n",
       "      <th></th>\n",
       "      <th>cityCenters_nearest</th>\n",
       "      <th>price_per_m2</th>\n",
       "    </tr>\n",
       "  </thead>\n",
       "  <tbody>\n",
       "    <tr>\n",
       "      <td>0</td>\n",
       "      <td>0</td>\n",
       "      <td>188733.428534</td>\n",
       "    </tr>\n",
       "    <tr>\n",
       "      <td>1</td>\n",
       "      <td>1</td>\n",
       "      <td>167464.634211</td>\n",
       "    </tr>\n",
       "    <tr>\n",
       "      <td>2</td>\n",
       "      <td>2</td>\n",
       "      <td>146862.022424</td>\n",
       "    </tr>\n",
       "    <tr>\n",
       "      <td>3</td>\n",
       "      <td>3</td>\n",
       "      <td>125191.653814</td>\n",
       "    </tr>\n",
       "    <tr>\n",
       "      <td>4</td>\n",
       "      <td>4</td>\n",
       "      <td>136847.550499</td>\n",
       "    </tr>\n",
       "    <tr>\n",
       "      <td>5</td>\n",
       "      <td>5</td>\n",
       "      <td>146235.912881</td>\n",
       "    </tr>\n",
       "    <tr>\n",
       "      <td>6</td>\n",
       "      <td>6</td>\n",
       "      <td>150479.850945</td>\n",
       "    </tr>\n",
       "    <tr>\n",
       "      <td>7</td>\n",
       "      <td>7</td>\n",
       "      <td>141536.661271</td>\n",
       "    </tr>\n",
       "    <tr>\n",
       "      <td>8</td>\n",
       "      <td>8</td>\n",
       "      <td>120296.435076</td>\n",
       "    </tr>\n",
       "    <tr>\n",
       "      <td>9</td>\n",
       "      <td>9</td>\n",
       "      <td>109990.068016</td>\n",
       "    </tr>\n",
       "    <tr>\n",
       "      <td>10</td>\n",
       "      <td>10</td>\n",
       "      <td>111137.445291</td>\n",
       "    </tr>\n",
       "    <tr>\n",
       "      <td>11</td>\n",
       "      <td>11</td>\n",
       "      <td>106576.673420</td>\n",
       "    </tr>\n",
       "    <tr>\n",
       "      <td>12</td>\n",
       "      <td>12</td>\n",
       "      <td>108099.688129</td>\n",
       "    </tr>\n",
       "    <tr>\n",
       "      <td>13</td>\n",
       "      <td>13</td>\n",
       "      <td>107034.355396</td>\n",
       "    </tr>\n",
       "    <tr>\n",
       "      <td>14</td>\n",
       "      <td>14</td>\n",
       "      <td>104701.017302</td>\n",
       "    </tr>\n",
       "    <tr>\n",
       "      <td>15</td>\n",
       "      <td>15</td>\n",
       "      <td>101857.297956</td>\n",
       "    </tr>\n",
       "    <tr>\n",
       "      <td>16</td>\n",
       "      <td>16</td>\n",
       "      <td>99871.906844</td>\n",
       "    </tr>\n",
       "    <tr>\n",
       "      <td>17</td>\n",
       "      <td>17</td>\n",
       "      <td>93868.438138</td>\n",
       "    </tr>\n",
       "    <tr>\n",
       "      <td>18</td>\n",
       "      <td>18</td>\n",
       "      <td>94857.477873</td>\n",
       "    </tr>\n",
       "    <tr>\n",
       "      <td>19</td>\n",
       "      <td>19</td>\n",
       "      <td>95452.571876</td>\n",
       "    </tr>\n",
       "    <tr>\n",
       "      <td>20</td>\n",
       "      <td>20</td>\n",
       "      <td>105185.383358</td>\n",
       "    </tr>\n",
       "    <tr>\n",
       "      <td>21</td>\n",
       "      <td>21</td>\n",
       "      <td>91540.493962</td>\n",
       "    </tr>\n",
       "    <tr>\n",
       "      <td>22</td>\n",
       "      <td>22</td>\n",
       "      <td>88290.056233</td>\n",
       "    </tr>\n",
       "    <tr>\n",
       "      <td>23</td>\n",
       "      <td>23</td>\n",
       "      <td>92293.834762</td>\n",
       "    </tr>\n",
       "    <tr>\n",
       "      <td>24</td>\n",
       "      <td>24</td>\n",
       "      <td>82662.491622</td>\n",
       "    </tr>\n",
       "    <tr>\n",
       "      <td>25</td>\n",
       "      <td>25</td>\n",
       "      <td>91136.018511</td>\n",
       "    </tr>\n",
       "    <tr>\n",
       "      <td>26</td>\n",
       "      <td>26</td>\n",
       "      <td>75171.911041</td>\n",
       "    </tr>\n",
       "    <tr>\n",
       "      <td>27</td>\n",
       "      <td>27</td>\n",
       "      <td>132115.709459</td>\n",
       "    </tr>\n",
       "    <tr>\n",
       "      <td>28</td>\n",
       "      <td>28</td>\n",
       "      <td>81840.638722</td>\n",
       "    </tr>\n",
       "    <tr>\n",
       "      <td>29</td>\n",
       "      <td>29</td>\n",
       "      <td>62482.404228</td>\n",
       "    </tr>\n",
       "  </tbody>\n",
       "</table>\n",
       "</div>"
      ],
      "text/plain": [
       "    cityCenters_nearest   price_per_m2\n",
       "0                     0  188733.428534\n",
       "1                     1  167464.634211\n",
       "2                     2  146862.022424\n",
       "3                     3  125191.653814\n",
       "4                     4  136847.550499\n",
       "5                     5  146235.912881\n",
       "6                     6  150479.850945\n",
       "7                     7  141536.661271\n",
       "8                     8  120296.435076\n",
       "9                     9  109990.068016\n",
       "10                   10  111137.445291\n",
       "11                   11  106576.673420\n",
       "12                   12  108099.688129\n",
       "13                   13  107034.355396\n",
       "14                   14  104701.017302\n",
       "15                   15  101857.297956\n",
       "16                   16   99871.906844\n",
       "17                   17   93868.438138\n",
       "18                   18   94857.477873\n",
       "19                   19   95452.571876\n",
       "20                   20  105185.383358\n",
       "21                   21   91540.493962\n",
       "22                   22   88290.056233\n",
       "23                   23   92293.834762\n",
       "24                   24   82662.491622\n",
       "25                   25   91136.018511\n",
       "26                   26   75171.911041\n",
       "27                   27  132115.709459\n",
       "28                   28   81840.638722\n",
       "29                   29   62482.404228"
      ]
     },
     "execution_count": 145,
     "metadata": {},
     "output_type": "execute_result"
    }
   ],
   "source": [
    "spb_per_km = spb.pivot_table(index = 'cityCenters_nearest', values = 'price_per_m2', aggfunc = 'mean').reset_index()\n",
    "spb_per_km"
   ]
  },
  {
   "cell_type": "markdown",
   "metadata": {},
   "source": [
    "Создадим сводную таблицу зависимости цен за метр и расстояний до центра в Санкт-Петербурге. Сделаем срез датафрейма по двум критериям: непустое расстояние до центра и населенный пункт = Санкт-Петербург. Разделим столбец cityCenters_nearest на 1000, чтобы перевести метры в километры и приведем к типу int методом astype. Сформируем сводную spb_per_km со средними ценами квадратного метра в зависимости от дальности нахождения объекта от центра."
   ]
  },
  {
   "cell_type": "code",
   "execution_count": 146,
   "metadata": {
    "scrolled": true
   },
   "outputs": [
    {
     "data": {
      "image/png": "[encoded data removed]",
      "text/plain": [
       "<Figure size 432x288 with 1 Axes>"
      ]
     },
     "metadata": {
      "needs_background": "light"
     },
     "output_type": "display_data"
    }
   ],
   "source": [
    "spb_per_km.plot.line();"
   ]
  },
  {
   "cell_type": "markdown",
   "metadata": {},
   "source": [
    "Из графика и сводной таблицы видно, что резкое падение цены за квадратный метр начинается с отметки 9 км. от центра. Исходя из результатов анализа центральная зона располагается в радиусе 8 километров включительно."
   ]
  },
  {
   "cell_type": "code",
   "execution_count": 147,
   "metadata": {},
   "outputs": [],
   "source": [
    "spb_center_object = spb.query('cityCenters_nearest<=8')"
   ]
  },
  {
   "cell_type": "markdown",
   "metadata": {},
   "source": [
    "Создадим датафрейм с объектами в центре (не далее 8 км.)"
   ]
  },
  {
   "cell_type": "code",
   "execution_count": 148,
   "metadata": {
    "scrolled": false
   },
   "outputs": [
    {
     "data": {
      "image/png": "[encoded data removed]",
      "text/plain": [
       "<Figure size 432x288 with 1 Axes>"
      ]
     },
     "metadata": {
      "needs_background": "light"
     },
     "output_type": "display_data"
    }
   ],
   "source": [
    "spb_center_object['total_area'].hist(bins = 100, range = (0,280));"
   ]
  },
  {
   "cell_type": "code",
   "execution_count": 149,
   "metadata": {},
   "outputs": [
    {
     "data": {
      "text/plain": [
       "60.0"
      ]
     },
     "execution_count": 149,
     "metadata": {},
     "output_type": "execute_result"
    }
   ],
   "source": [
    "md_area_centre = statistics.mode(spb_center_object['total_area'])\n",
    "md_area_centre"
   ]
  },
  {
   "cell_type": "code",
   "execution_count": 150,
   "metadata": {
    "scrolled": true
   },
   "outputs": [
    {
     "data": {
      "text/plain": [
       "count    4285.000000\n",
       "mean       87.205685\n",
       "std        54.596747\n",
       "min        12.000000\n",
       "25%        53.000000\n",
       "50%        74.700000\n",
       "75%       103.100000\n",
       "max       900.000000\n",
       "Name: total_area, dtype: float64"
      ]
     },
     "execution_count": 150,
     "metadata": {},
     "output_type": "execute_result"
    }
   ],
   "source": [
    "spb_center_object['total_area'].describe()"
   ]
  },
  {
   "cell_type": "markdown",
   "metadata": {},
   "source": [
    "В целом распределение похоже на нормальное, но в отличии от более удаленной от объектов нецентральной зоны большинство квартир - 60-метровые. Медианная площадь - 74,7 м2, среднее значение - 87м2. Отличие среднего от медианы и стандартного отклонения в 54 м2 говорит о наличии множества нетиповых объектов большой площади. Объект с минимальной площадью - 12м2."
   ]
  },
  {
   "cell_type": "code",
   "execution_count": 151,
   "metadata": {
    "scrolled": true
   },
   "outputs": [
    {
     "data": {
      "image/png": "[encoded data removed]",
      "text/plain": [
       "<Figure size 432x288 with 1 Axes>"
      ]
     },
     "metadata": {
      "needs_background": "light"
     },
     "output_type": "display_data"
    }
   ],
   "source": [
    "spb_center_object['last_price'].hist(bins = 100, range = (0,50000000));"
   ]
  },
  {
   "cell_type": "code",
   "execution_count": 152,
   "metadata": {
    "scrolled": true
   },
   "outputs": [
    {
     "data": {
      "image/png": "[encoded data removed]",
      "text/plain": [
       "<Figure size 432x288 with 1 Axes>"
      ]
     },
     "metadata": {
      "needs_background": "light"
     },
     "output_type": "display_data"
    }
   ],
   "source": [
    "ax = data.plot(\n",
    "    kind = 'hist', \n",
    "    y='last_price', \n",
    "    histtype='step', \n",
    "    range = (0,50000000),\n",
    "    bins = 100,\n",
    "    linewidth=2,\n",
    "    alpha=0.7,\n",
    "    label='all',\n",
    ")\n",
    "spb_center_object.plot(\n",
    "        kind = 'hist', \n",
    "    y='last_price', \n",
    "    histtype='step', \n",
    "    range = (0,100000000),\n",
    "    bins = 100,\n",
    "    linewidth=2,\n",
    "    alpha=0.7,\n",
    "    label='spb',\n",
    "    ax=ax,\n",
    "    grid=True,\n",
    "    legend=True,\n",
    ");"
   ]
  },
  {
   "cell_type": "markdown",
   "metadata": {},
   "source": [
    "Форма диаграмм распределения в центре и в общей базе объявлений схожа."
   ]
  },
  {
   "cell_type": "code",
   "execution_count": 153,
   "metadata": {
    "scrolled": true
   },
   "outputs": [
    {
     "data": {
      "image/png": "[encoded data removed]",
      "text/plain": [
       "<Figure size 432x288 with 1 Axes>"
      ]
     },
     "metadata": {
      "needs_background": "light"
     },
     "output_type": "display_data"
    }
   ],
   "source": [
    "ax = data.plot(\n",
    "    kind = 'hist', \n",
    "    y='price_per_m2', \n",
    "    histtype='step', \n",
    "    range = (0,350000),\n",
    "    bins = 100,\n",
    "    linewidth=2,\n",
    "    alpha=0.7,\n",
    "    label='all',\n",
    ")\n",
    "spb_center_object.plot(\n",
    "        kind = 'hist', \n",
    "    y='price_per_m2', \n",
    "    histtype='step', \n",
    "    range = (0,350000),\n",
    "    bins = 100,\n",
    "    linewidth=2,\n",
    "    alpha=0.7,\n",
    "    label='spb',\n",
    "    ax=ax,\n",
    "    grid=True,\n",
    "    legend=True,\n",
    ");"
   ]
  },
  {
   "cell_type": "markdown",
   "metadata": {},
   "source": [
    "Цены за м2 в центре начинаются от 50 тыс. за квадратный метр и таких объектов очень мало. В общей базе объявлений есть объекты и по 20 тыс за м2 (скорее всего это удаленные от города поселки)."
   ]
  },
  {
   "cell_type": "code",
   "execution_count": 154,
   "metadata": {
    "scrolled": true
   },
   "outputs": [
    {
     "data": {
      "image/png": "[encoded data removed]",
      "text/plain": [
       "<Figure size 432x288 with 1 Axes>"
      ]
     },
     "metadata": {
      "needs_background": "light"
     },
     "output_type": "display_data"
    }
   ],
   "source": [
    "plt.ylim(0, 400000)\n",
    "spb_center_object.boxplot(column = 'price_per_m2');"
   ]
  },
  {
   "cell_type": "markdown",
   "metadata": {},
   "source": [
    "Нормальными значениями цены за метр для объектов в центре являются объекты от 25 до 225 тыс/м2. 2 квартиль - от 100 до 150 тыс./м2"
   ]
  },
  {
   "cell_type": "code",
   "execution_count": 155,
   "metadata": {
    "scrolled": true
   },
   "outputs": [
    {
     "data": {
      "image/png": "[encoded data removed]",
      "text/plain": [
       "<Figure size 432x288 with 1 Axes>"
      ]
     },
     "metadata": {
      "needs_background": "light"
     },
     "output_type": "display_data"
    }
   ],
   "source": [
    "spb_center_object['rooms'].hist(bins = 30);"
   ]
  },
  {
   "cell_type": "markdown",
   "metadata": {},
   "source": [
    "В центре города по количеству лидируют трехкомнатные объекты. С очень небольшим отрывом следуют двухкомнатные. Однокомнатных - вполовину меньше. На 4 месте - четырехкомнатные квартиры. "
   ]
  },
  {
   "cell_type": "code",
   "execution_count": 156,
   "metadata": {
    "scrolled": true
   },
   "outputs": [
    {
     "data": {
      "image/png": "[encoded data removed]",
      "text/plain": [
       "<Figure size 432x288 with 1 Axes>"
      ]
     },
     "metadata": {
      "needs_background": "light"
     },
     "output_type": "display_data"
    }
   ],
   "source": [
    "spb_center_object['ceiling_height_fin'].hist(bins = 30);"
   ]
  },
  {
   "cell_type": "markdown",
   "metadata": {},
   "source": [
    "В центре города безусловным лидером являются объекты с трехметровыми потолками. Второе место занимают объекты с типовыми 2,5-метровыми потолками. Третье место - объекты улучшенной планировки с потолками, высотой 2,75 м."
   ]
  },
  {
   "cell_type": "code",
   "execution_count": 157,
   "metadata": {
    "scrolled": false
   },
   "outputs": [
    {
     "data": {
      "text/html": [
       "<div>\n",
       "<style scoped>\n",
       "    .dataframe tbody tr th:only-of-type {\n",
       "        vertical-align: middle;\n",
       "    }\n",
       "\n",
       "    .dataframe tbody tr th {\n",
       "        vertical-align: top;\n",
       "    }\n",
       "\n",
       "    .dataframe thead th {\n",
       "        text-align: right;\n",
       "    }\n",
       "</style>\n",
       "<table border=\"1\" class=\"dataframe\">\n",
       "  <thead>\n",
       "    <tr style=\"text-align: right;\">\n",
       "      <th></th>\n",
       "      <th>rooms</th>\n",
       "      <th>floor</th>\n",
       "      <th>cityCenters_nearest</th>\n",
       "      <th>weekday</th>\n",
       "      <th>month</th>\n",
       "      <th>year</th>\n",
       "      <th>price_per_m2</th>\n",
       "    </tr>\n",
       "  </thead>\n",
       "  <tbody>\n",
       "    <tr>\n",
       "      <td>rooms</td>\n",
       "      <td>1.000000</td>\n",
       "      <td>-0.057564</td>\n",
       "      <td>-0.227486</td>\n",
       "      <td>-0.008479</td>\n",
       "      <td>-0.006529</td>\n",
       "      <td>-0.071396</td>\n",
       "      <td>0.004194</td>\n",
       "    </tr>\n",
       "    <tr>\n",
       "      <td>floor</td>\n",
       "      <td>-0.057564</td>\n",
       "      <td>1.000000</td>\n",
       "      <td>0.257262</td>\n",
       "      <td>0.028952</td>\n",
       "      <td>0.017042</td>\n",
       "      <td>-0.023954</td>\n",
       "      <td>0.106345</td>\n",
       "    </tr>\n",
       "    <tr>\n",
       "      <td>cityCenters_nearest</td>\n",
       "      <td>-0.227486</td>\n",
       "      <td>0.257262</td>\n",
       "      <td>1.000000</td>\n",
       "      <td>0.016859</td>\n",
       "      <td>0.003019</td>\n",
       "      <td>0.056098</td>\n",
       "      <td>-0.091064</td>\n",
       "    </tr>\n",
       "    <tr>\n",
       "      <td>weekday</td>\n",
       "      <td>-0.008479</td>\n",
       "      <td>0.028952</td>\n",
       "      <td>0.016859</td>\n",
       "      <td>1.000000</td>\n",
       "      <td>0.033444</td>\n",
       "      <td>-0.008055</td>\n",
       "      <td>-0.002102</td>\n",
       "    </tr>\n",
       "    <tr>\n",
       "      <td>month</td>\n",
       "      <td>-0.006529</td>\n",
       "      <td>0.017042</td>\n",
       "      <td>0.003019</td>\n",
       "      <td>0.033444</td>\n",
       "      <td>1.000000</td>\n",
       "      <td>-0.246556</td>\n",
       "      <td>-0.022322</td>\n",
       "    </tr>\n",
       "    <tr>\n",
       "      <td>year</td>\n",
       "      <td>-0.071396</td>\n",
       "      <td>-0.023954</td>\n",
       "      <td>0.056098</td>\n",
       "      <td>-0.008055</td>\n",
       "      <td>-0.246556</td>\n",
       "      <td>1.000000</td>\n",
       "      <td>0.010410</td>\n",
       "    </tr>\n",
       "    <tr>\n",
       "      <td>price_per_m2</td>\n",
       "      <td>0.004194</td>\n",
       "      <td>0.106345</td>\n",
       "      <td>-0.091064</td>\n",
       "      <td>-0.002102</td>\n",
       "      <td>-0.022322</td>\n",
       "      <td>0.010410</td>\n",
       "      <td>1.000000</td>\n",
       "    </tr>\n",
       "  </tbody>\n",
       "</table>\n",
       "</div>"
      ],
      "text/plain": [
       "                        rooms     floor  cityCenters_nearest   weekday  \\\n",
       "rooms                1.000000 -0.057564            -0.227486 -0.008479   \n",
       "floor               -0.057564  1.000000             0.257262  0.028952   \n",
       "cityCenters_nearest -0.227486  0.257262             1.000000  0.016859   \n",
       "weekday             -0.008479  0.028952             0.016859  1.000000   \n",
       "month               -0.006529  0.017042             0.003019  0.033444   \n",
       "year                -0.071396 -0.023954             0.056098 -0.008055   \n",
       "price_per_m2         0.004194  0.106345            -0.091064 -0.002102   \n",
       "\n",
       "                        month      year  price_per_m2  \n",
       "rooms               -0.006529 -0.071396      0.004194  \n",
       "floor                0.017042 -0.023954      0.106345  \n",
       "cityCenters_nearest  0.003019  0.056098     -0.091064  \n",
       "weekday              0.033444 -0.008055     -0.002102  \n",
       "month                1.000000 -0.246556     -0.022322  \n",
       "year                -0.246556  1.000000      0.010410  \n",
       "price_per_m2        -0.022322  0.010410      1.000000  "
      ]
     },
     "execution_count": 157,
     "metadata": {},
     "output_type": "execute_result"
    }
   ],
   "source": [
    "spb_center_object_corr = spb_center_object[['rooms', 'floor','cityCenters_nearest', 'weekday','month', 'year', 'price_per_m2']]\n",
    "spb_center_object_corr.corr()"
   ]
  },
  {
   "cell_type": "code",
   "execution_count": 158,
   "metadata": {
    "scrolled": true
   },
   "outputs": [
    {
     "data": {
      "image/png": "[encoded data removed]",
      "text/plain": [
       "<Figure size 1080x1080 with 49 Axes>"
      ]
     },
     "metadata": {
      "needs_background": "light"
     },
     "output_type": "display_data"
    }
   ],
   "source": [
    "pd.plotting.scatter_matrix(spb_center_object_corr, figsize=(15, 15));"
   ]
  },
  {
   "cell_type": "markdown",
   "metadata": {},
   "source": [
    "Как видно из матрицы корреляции, цена за метр объектов в центре слабо коррелирует с большинством основных параметров объекта. Есть слабая обратная корреляция с удаленностью от цента (чем дальше, тем ниже цена) и с этажностью. Количество комнат объекта почти не влияет на цену за метр. Дата размещения тоже не влияет на стоимость метра."
   ]
  },
  {
   "cell_type": "code",
   "execution_count": 159,
   "metadata": {},
   "outputs": [
    {
     "data": {
      "text/html": [
       "<div>\n",
       "<style scoped>\n",
       "    .dataframe tbody tr th:only-of-type {\n",
       "        vertical-align: middle;\n",
       "    }\n",
       "\n",
       "    .dataframe tbody tr th {\n",
       "        vertical-align: top;\n",
       "    }\n",
       "\n",
       "    .dataframe thead th {\n",
       "        text-align: right;\n",
       "    }\n",
       "</style>\n",
       "<table border=\"1\" class=\"dataframe\">\n",
       "  <thead>\n",
       "    <tr style=\"text-align: right;\">\n",
       "      <th></th>\n",
       "      <th>price_per_m2</th>\n",
       "    </tr>\n",
       "    <tr>\n",
       "      <th>floor_group</th>\n",
       "      <th></th>\n",
       "    </tr>\n",
       "  </thead>\n",
       "  <tbody>\n",
       "    <tr>\n",
       "      <td>ПЕРВЫЙ</td>\n",
       "      <td>105833.333333</td>\n",
       "    </tr>\n",
       "    <tr>\n",
       "      <td>ПОСЛЕДНИЙ</td>\n",
       "      <td>115384.615385</td>\n",
       "    </tr>\n",
       "    <tr>\n",
       "      <td>ДРУГОЙ</td>\n",
       "      <td>125432.789581</td>\n",
       "    </tr>\n",
       "  </tbody>\n",
       "</table>\n",
       "</div>"
      ],
      "text/plain": [
       "              price_per_m2\n",
       "floor_group               \n",
       "ПЕРВЫЙ       105833.333333\n",
       "ПОСЛЕДНИЙ    115384.615385\n",
       "ДРУГОЙ       125432.789581"
      ]
     },
     "execution_count": 159,
     "metadata": {},
     "output_type": "execute_result"
    }
   ],
   "source": [
    "spb_center_object.pivot_table(index = 'floor_group', values = 'price_per_m2', aggfunc = 'median').sort_values(by = 'price_per_m2')"
   ]
  },
  {
   "cell_type": "markdown",
   "metadata": {},
   "source": [
    "Аналогично объектам не входящим в центр города, минимальная цена у объектов на первом этаже. Затем идет последний этаж и промежуточные этажи. Любопытно, что разрыв между категориями почти идентичен, 10 тыс руб/м2. Что отличается от объектов, не входящих в центральные районы."
   ]
  },
  {
   "cell_type": "code",
   "execution_count": 160,
   "metadata": {
    "scrolled": true
   },
   "outputs": [
    {
     "data": {
      "image/png": "[encoded data removed]",
      "text/plain": [
       "<Figure size 432x288 with 1 Axes>"
      ]
     },
     "metadata": {
      "needs_background": "light"
     },
     "output_type": "display_data"
    }
   ],
   "source": [
    "plt.ylim(0, 1600)\n",
    "spb_center_object.boxplot(column = 'days_exposition');"
   ]
  },
  {
   "cell_type": "code",
   "execution_count": 161,
   "metadata": {},
   "outputs": [
    {
     "data": {
      "text/plain": [
       "count    4285.000000\n",
       "mean      248.789498\n",
       "std       287.890275\n",
       "min         0.000000\n",
       "25%        54.000000\n",
       "50%       138.000000\n",
       "75%       342.000000\n",
       "max      1607.000000\n",
       "Name: days_exposition, dtype: float64"
      ]
     },
     "execution_count": 161,
     "metadata": {},
     "output_type": "execute_result"
    }
   ],
   "source": [
    "spb_center_object['days_exposition'].describe()"
   ]
  },
  {
   "cell_type": "markdown",
   "metadata": {},
   "source": [
    "Обычный срок продажи квартиры в центре - от 50 до 138 дней, что в среднем немного выше усредненного стандартного времени продажи для всех объектов выборки. Среднее значение почти в 2 раза больше медианы - 248 дней, что говорит о наличии объектов, продающихся в течении длительного периода времени."
   ]
  },
  {
   "cell_type": "markdown",
   "metadata": {},
   "source": [
    "## Общий вывод"
   ]
  },
  {
   "cell_type": "markdown",
   "metadata": {},
   "source": [
    "Анализ данных по всем объектам города показал, что:\n",
    "- большинство объектов в продаже - однокомнатные. Почти на этом же уровне, но немного меньше двухкомнатных объектов. Со значительным отставанием на третьей позиции - трехкомнатные объекты. Далее - многокомнатные квартиры. Картина для центра города отлична от общей по базе, в центре города по количеству лидируют трехкомнатные объекты. С очень небольшим отрывом следуют двухкомнатные. Однокомнатных - вполовину меньше. На 4 месте - четырехкомнатные квартиры. \n",
    "- диапазон цен за квадратный метр - от 25 до 170 тыс. 2 квартиль - от 75 до 130 тыс/м2. Аналогично, ситуация в центре города иная: более-менее массово цены начинаются от 50 тыс. за квадратный метр и таких объектов очень мало 2 квартиль - от 100 до 150 тыс./м2., объекты в центре значительно дороже.\n",
    "- общая масса квартир имеет стандартрую высоту потолков 2,5м. На втором месте -улучшенные объекты с потолками 2,75м. Трехметровые потолки занимают третью позицию. А в центре города  безусловным лидером являются объекты с трехметровыми потолками. Второе место занимают объекты с типовыми 2,5-метровыми потолками. Третье место - объекты улучшенной планировки с потолками, высотой 2,75 м.\n",
    "- Средняя продолжительность продажи - от 43 до 95 дней. Верхний \"ус\" boxplot заканчивается примерно на 550 днях, значит выше уже идут аномальные значения. Обычно продажа занимает от 45 до 238 дней. Очень быстрой продажей можно считать продажу до 43 дней. Для объектов в центре города обычный срок продажи квартиры составляет от 50 до 138 дней, что в среднем немного выше усредненного стандартного времени продажи для всех объектов выборки. Среднее значение почти в 2 раза больше медианы - 248 дней, что говорит о наличии объектов, продающихся в течении длительного периода времени.\n",
    "Максимальные корреляционные зависимости цены за метр в целом по датафрейму - у показателя \"площадь объекта\" (0,26) и \"расстояние от центра\" (цена падает с удалением от центра) - 0,38. Количество комнат практически не влияет на стоимость за квадратный метр. Цена также не зависит от месяца и года публикации объявления. Но у объявлений, размещенных в начале рабочей недели (понедельник-вторник-среда) цена за квадратный метр выше, что может объясняться тем, что это объявления риелторских агентств, которые не работают в выходные и закладывают в цену свой % за услуги. Проверить гипотезу можно было бы если бы в датасете было поле \"Тип продавца\".\n",
    "\n",
    "Объекты на первых этажах продаются по минимальной цене за квадратный метр. Дороже - объекты на последних этажах. Выше всего стоимость квадратного метра у объектов, расположенных не на первом и не на последнем этаже\n",
    "\n",
    "Для объектов в центре корреляция с основными параметрами еще ниже. Есть слабая обратная корреляция с удаленностью от цента (чем дальше, тем ниже цена) и с этажностью. Количество комнат объекта почти не влияет на цену за метр. Дата размещения тоже не влияет на стоимость метра.\n",
    "Аналогично объектам не входящим в центр города, минимальная цена у объектов на первом этаже. Затем идет последний этаж и промежуточные этажи. Любопытно, что разрыв между категориями почти идентичен, 10 тыс руб/м2, что не является правилом для объектов выборки в целом."
   ]
  },
  {
   "cell_type": "markdown",
   "metadata": {},
   "source": [
    "## Чек-лист готовности проекта\n",
    "\n",
    "Поставьте 'x' в выполненных пунктах. Далее нажмите Shift+Enter."
   ]
  },
  {
   "cell_type": "markdown",
   "metadata": {},
   "source": [
    "- [x]  открыт файл\n",
    "- [x]  файлы изучены (выведены первые строки, метод info())\n",
    "- [x]  определены пропущенные значения\n",
    "- [x]  заполнены пропущенные значения\n",
    "- [x]  есть пояснение, какие пропущенные значения обнаружены\n",
    "- [x]  изменены типы данных\n",
    "- [x]  есть пояснение, в каких столбцах изменены типы и почему\n",
    "- [x]  посчитано и добавлено в таблицу: цена квадратного метра\n",
    "- [x]  посчитано и добавлено в таблицу: день недели, месяц и год публикации объявления\n",
    "- [x]  посчитано и добавлено в таблицу: этаж квартиры; варианты — первый, последний, другой\n",
    "- [x]  посчитано и добавлено в таблицу: соотношение жилой и общей площади, а также отношение площади кухни к общей\n",
    "- [x]  изучены следующие параметры: площадь, цена, число комнат, высота потолков\n",
    "- [x]  построены гистограммы для каждого параметра\n",
    "- [x]  выполнено задание: \"Изучите время продажи квартиры. Постройте гистограмму. Посчитайте среднее и медиану. Опишите, сколько обычно занимает продажа. Когда можно считать, что продажи прошли очень быстро, а когда необычно долго?\"\n",
    "- [x]  выполнено задание: \"Уберите редкие и выбивающиеся значения. Опишите, какие особенности обнаружили.\"\n",
    "- [x]  выполнено задание: \"Какие факторы больше всего влияют на стоимость квартиры? Изучите, зависит ли цена от квадратного метра, числа комнат, этажа (первого или последнего), удалённости от центра. Также изучите зависимость от даты размещения: дня недели, месяца и года. \"Выберите 10 населённых пунктов с наибольшим числом объявлений. Посчитайте среднюю цену квадратного метра в этих населённых пунктах. Выделите населённые пункты с самой высокой и низкой стоимостью жилья. Эти данные можно найти по имени в столбце '*locality_name'*. \"\n",
    "- [x]  выполнено задание: \"Изучите предложения квартир: для каждой квартиры есть информация о расстоянии до центра. Выделите квартиры в Санкт-Петербурге (*'locality_name'*). Ваша задача — выяснить, какая область входит в центр. Создайте столбец с расстоянием до центра в километрах: округлите до целых значений. После этого посчитайте среднюю цену для каждого километра. Постройте график: он должен показывать, как цена зависит от удалённости от центра. Определите границу, где график сильно меняется — это и будет центральная зона. \"\n",
    "- [x]  выполнено задание: \"Выделите сегмент квартир в центре. Проанализируйте эту территорию и изучите следующие параметры: площадь, цена, число комнат, высота потолков. Также выделите факторы, которые влияют на стоимость квартиры (число комнат, этаж, удалённость от центра, дата размещения объявления). Сделайте выводы. Отличаются ли они от общих выводов по всему городу?\"\n",
    "- [ ]  в каждом этапе есть выводы\n",
    "- [x]  есть общий вывод"
   ]
  },
  {
   "cell_type": "markdown",
   "metadata": {
    "toc": true
   },
   "source": [
    "<h1>Содержание<span class=\"tocSkip\"></span></h1>\n",
    "<div class=\"toc\"><ul class=\"toc-item\"><li><span><a href=\"#Изучение-данных-из-файла\" data-toc-modified-id=\"Изучение-данных-из-файла-1\"><span class=\"toc-item-num\">1&nbsp;&nbsp;</span>Изучение данных из файла</a></span><ul class=\"toc-item\"><li><span><a href=\"#Вывод\" data-toc-modified-id=\"Вывод-1.1\"><span class=\"toc-item-num\">1.1&nbsp;&nbsp;</span>Вывод</a></span></li></ul></li><li><span><a href=\"#Предобработка-данных\" data-toc-modified-id=\"Предобработка-данных-2\"><span class=\"toc-item-num\">2&nbsp;&nbsp;</span>Предобработка данных</a></span></li><li><span><a href=\"#Расчёты-и-добавление-результатов-в-таблицу\" data-toc-modified-id=\"Расчёты-и-добавление-результатов-в-таблицу-3\"><span class=\"toc-item-num\">3&nbsp;&nbsp;</span>Расчёты и добавление результатов в таблицу</a></span></li><li><span><a href=\"#Исследовательский-анализ-данных\" data-toc-modified-id=\"Исследовательский-анализ-данных-4\"><span class=\"toc-item-num\">4&nbsp;&nbsp;</span>Исследовательский анализ данных</a></span></li><li><span><a href=\"#Общий-вывод\" data-toc-modified-id=\"Общий-вывод-5\"><span class=\"toc-item-num\">5&nbsp;&nbsp;</span>Общий вывод</a></span></li><li><span><a href=\"#Чек-лист-готовности-проекта\" data-toc-modified-id=\"Чек-лист-готовности-проекта-6\"><span class=\"toc-item-num\">6&nbsp;&nbsp;</span>Чек-лист готовности проекта</a></span></li></ul></div>"
   ]
  }
 ],
 "metadata": {
  "ExecuteTimeLog": [
   {
    "duration": 2125,
    "start_time": "2021-10-15T13:54:59.249Z"
   },
   {
    "duration": 1912,
    "start_time": "2021-10-15T13:55:09.057Z"
   },
   {
    "duration": 10,
    "start_time": "2021-10-15T13:55:10.973Z"
   },
   {
    "duration": 24,
    "start_time": "2021-10-15T13:55:10.984Z"
   },
   {
    "duration": 29,
    "start_time": "2021-10-15T13:55:11.009Z"
   },
   {
    "duration": 21,
    "start_time": "2021-10-15T13:55:11.039Z"
   },
   {
    "duration": 25,
    "start_time": "2021-10-15T13:55:11.062Z"
   },
   {
    "duration": 20,
    "start_time": "2021-10-15T13:55:11.090Z"
   },
   {
    "duration": 17,
    "start_time": "2021-10-15T13:55:11.112Z"
   },
   {
    "duration": 17,
    "start_time": "2021-10-15T13:55:11.131Z"
   },
   {
    "duration": 10,
    "start_time": "2021-10-15T13:55:11.149Z"
   },
   {
    "duration": 24,
    "start_time": "2021-10-15T13:55:11.160Z"
   },
   {
    "duration": 20,
    "start_time": "2021-10-15T13:55:11.185Z"
   },
   {
    "duration": 44,
    "start_time": "2021-10-15T13:55:11.206Z"
   },
   {
    "duration": 15,
    "start_time": "2021-10-15T13:55:11.252Z"
   },
   {
    "duration": 18,
    "start_time": "2021-10-15T13:55:11.269Z"
   },
   {
    "duration": 14,
    "start_time": "2021-10-15T13:55:11.289Z"
   },
   {
    "duration": 205,
    "start_time": "2021-10-15T13:55:11.304Z"
   },
   {
    "duration": 7,
    "start_time": "2021-10-15T13:55:11.510Z"
   },
   {
    "duration": 34,
    "start_time": "2021-10-15T13:55:11.518Z"
   },
   {
    "duration": 33,
    "start_time": "2021-10-15T13:55:11.554Z"
   },
   {
    "duration": 40,
    "start_time": "2021-10-15T13:55:11.588Z"
   },
   {
    "duration": 8,
    "start_time": "2021-10-15T13:55:11.632Z"
   },
   {
    "duration": 28,
    "start_time": "2021-10-15T13:55:11.642Z"
   },
   {
    "duration": 29,
    "start_time": "2021-10-15T13:55:11.671Z"
   },
   {
    "duration": 139,
    "start_time": "2021-10-15T13:55:11.701Z"
   },
   {
    "duration": 350,
    "start_time": "2021-10-15T13:55:11.844Z"
   },
   {
    "duration": 35,
    "start_time": "2021-10-15T13:55:12.195Z"
   },
   {
    "duration": 14,
    "start_time": "2021-10-15T13:55:12.232Z"
   },
   {
    "duration": 24,
    "start_time": "2021-10-15T13:55:12.248Z"
   },
   {
    "duration": 23,
    "start_time": "2021-10-15T13:55:12.273Z"
   },
   {
    "duration": 23,
    "start_time": "2021-10-15T13:55:12.298Z"
   },
   {
    "duration": 23,
    "start_time": "2021-10-15T13:55:12.323Z"
   },
   {
    "duration": 34,
    "start_time": "2021-10-15T13:55:12.348Z"
   },
   {
    "duration": 37,
    "start_time": "2021-10-15T13:55:12.383Z"
   },
   {
    "duration": 45,
    "start_time": "2021-10-15T13:55:12.422Z"
   },
   {
    "duration": 24,
    "start_time": "2021-10-15T13:55:12.468Z"
   },
   {
    "duration": 18,
    "start_time": "2021-10-15T13:55:12.493Z"
   },
   {
    "duration": 21,
    "start_time": "2021-10-15T13:55:12.513Z"
   },
   {
    "duration": 33,
    "start_time": "2021-10-15T13:55:12.535Z"
   },
   {
    "duration": 33,
    "start_time": "2021-10-15T13:55:12.569Z"
   },
   {
    "duration": 43,
    "start_time": "2021-10-15T13:55:12.604Z"
   },
   {
    "duration": 13,
    "start_time": "2021-10-15T13:55:12.649Z"
   },
   {
    "duration": 25,
    "start_time": "2021-10-15T13:55:12.663Z"
   },
   {
    "duration": 36,
    "start_time": "2021-10-15T13:55:12.690Z"
   },
   {
    "duration": 25,
    "start_time": "2021-10-15T13:55:12.728Z"
   },
   {
    "duration": 25,
    "start_time": "2021-10-15T13:55:12.755Z"
   },
   {
    "duration": 26,
    "start_time": "2021-10-15T13:55:12.781Z"
   },
   {
    "duration": 15,
    "start_time": "2021-10-15T13:55:12.809Z"
   },
   {
    "duration": 32,
    "start_time": "2021-10-15T13:55:12.826Z"
   },
   {
    "duration": 21,
    "start_time": "2021-10-15T13:55:12.860Z"
   },
   {
    "duration": 23,
    "start_time": "2021-10-15T13:55:12.883Z"
   },
   {
    "duration": 30,
    "start_time": "2021-10-15T13:55:12.909Z"
   },
   {
    "duration": 25,
    "start_time": "2021-10-15T13:55:12.941Z"
   },
   {
    "duration": 24,
    "start_time": "2021-10-15T13:55:12.968Z"
   },
   {
    "duration": 22,
    "start_time": "2021-10-15T13:55:12.994Z"
   },
   {
    "duration": 20,
    "start_time": "2021-10-15T13:55:13.018Z"
   },
   {
    "duration": 305,
    "start_time": "2021-10-15T13:55:13.039Z"
   },
   {
    "duration": 23,
    "start_time": "2021-10-15T13:55:13.346Z"
   },
   {
    "duration": 7,
    "start_time": "2021-10-15T13:55:13.371Z"
   },
   {
    "duration": 55,
    "start_time": "2021-10-15T13:55:13.380Z"
   },
   {
    "duration": 20,
    "start_time": "2021-10-15T13:55:13.438Z"
   },
   {
    "duration": 6,
    "start_time": "2021-10-15T13:55:13.460Z"
   },
   {
    "duration": 23,
    "start_time": "2021-10-15T13:55:13.467Z"
   },
   {
    "duration": 20,
    "start_time": "2021-10-15T13:55:13.492Z"
   },
   {
    "duration": 14,
    "start_time": "2021-10-15T13:55:13.514Z"
   },
   {
    "duration": 24,
    "start_time": "2021-10-15T13:55:13.530Z"
   },
   {
    "duration": 10,
    "start_time": "2021-10-15T13:55:13.561Z"
   },
   {
    "duration": 7,
    "start_time": "2021-10-15T13:55:13.574Z"
   },
   {
    "duration": 26,
    "start_time": "2021-10-15T13:55:13.582Z"
   },
   {
    "duration": 16,
    "start_time": "2021-10-15T13:55:13.610Z"
   },
   {
    "duration": 27,
    "start_time": "2021-10-15T13:55:13.628Z"
   },
   {
    "duration": 31,
    "start_time": "2021-10-15T13:55:13.657Z"
   },
   {
    "duration": 29,
    "start_time": "2021-10-15T13:55:13.690Z"
   },
   {
    "duration": 34,
    "start_time": "2021-10-15T13:55:13.721Z"
   },
   {
    "duration": 28,
    "start_time": "2021-10-15T13:55:13.756Z"
   },
   {
    "duration": 33,
    "start_time": "2021-10-15T13:55:13.786Z"
   },
   {
    "duration": 73,
    "start_time": "2021-10-15T13:55:13.821Z"
   },
   {
    "duration": 10,
    "start_time": "2021-10-15T13:55:13.896Z"
   },
   {
    "duration": 38,
    "start_time": "2021-10-15T13:55:13.908Z"
   },
   {
    "duration": 488,
    "start_time": "2021-10-15T13:55:13.948Z"
   },
   {
    "duration": 9,
    "start_time": "2021-10-15T13:55:14.438Z"
   },
   {
    "duration": 49,
    "start_time": "2021-10-15T13:55:14.449Z"
   },
   {
    "duration": 44,
    "start_time": "2021-10-15T13:55:14.500Z"
   },
   {
    "duration": 9,
    "start_time": "2021-10-15T13:55:14.546Z"
   },
   {
    "duration": 35,
    "start_time": "2021-10-15T13:55:14.557Z"
   },
   {
    "duration": 374,
    "start_time": "2021-10-15T13:55:14.594Z"
   },
   {
    "duration": 9,
    "start_time": "2021-10-15T13:55:14.970Z"
   },
   {
    "duration": 38,
    "start_time": "2021-10-15T13:55:14.981Z"
   },
   {
    "duration": 60,
    "start_time": "2021-10-15T13:55:15.021Z"
   },
   {
    "duration": 21,
    "start_time": "2021-10-15T13:55:15.083Z"
   },
   {
    "duration": 11,
    "start_time": "2021-10-15T13:55:15.106Z"
   },
   {
    "duration": 33,
    "start_time": "2021-10-15T13:55:15.118Z"
   },
   {
    "duration": 38,
    "start_time": "2021-10-15T13:55:15.153Z"
   },
   {
    "duration": 12,
    "start_time": "2021-10-15T13:55:15.192Z"
   },
   {
    "duration": 18,
    "start_time": "2021-10-15T13:55:15.206Z"
   },
   {
    "duration": 41,
    "start_time": "2021-10-15T13:55:15.226Z"
   },
   {
    "duration": 40,
    "start_time": "2021-10-15T13:55:15.268Z"
   },
   {
    "duration": 21,
    "start_time": "2021-10-15T13:55:15.310Z"
   },
   {
    "duration": 21,
    "start_time": "2021-10-15T13:55:15.332Z"
   },
   {
    "duration": 26,
    "start_time": "2021-10-15T13:55:15.354Z"
   },
   {
    "duration": 31,
    "start_time": "2021-10-15T13:55:15.382Z"
   },
   {
    "duration": 35,
    "start_time": "2021-10-15T13:55:15.415Z"
   },
   {
    "duration": 544,
    "start_time": "2021-10-15T13:55:15.452Z"
   },
   {
    "duration": 4,
    "start_time": "2021-10-15T13:55:15.997Z"
   },
   {
    "duration": 26,
    "start_time": "2021-10-15T13:55:16.002Z"
   },
   {
    "duration": 46,
    "start_time": "2021-10-15T13:55:16.030Z"
   },
   {
    "duration": 320,
    "start_time": "2021-10-15T13:55:16.078Z"
   },
   {
    "duration": 21,
    "start_time": "2021-10-15T13:55:16.399Z"
   },
   {
    "duration": 307,
    "start_time": "2021-10-15T13:55:16.422Z"
   },
   {
    "duration": 130,
    "start_time": "2021-10-15T13:55:16.731Z"
   },
   {
    "duration": 199,
    "start_time": "2021-10-15T13:55:16.863Z"
   },
   {
    "duration": 227,
    "start_time": "2021-10-15T13:55:17.064Z"
   },
   {
    "duration": 203,
    "start_time": "2021-10-15T13:55:17.293Z"
   },
   {
    "duration": 7,
    "start_time": "2021-10-15T13:55:17.498Z"
   },
   {
    "duration": 144,
    "start_time": "2021-10-15T13:55:17.507Z"
   },
   {
    "duration": 221,
    "start_time": "2021-10-15T13:55:17.653Z"
   },
   {
    "duration": 87,
    "start_time": "2021-10-15T13:55:17.876Z"
   },
   {
    "duration": 239,
    "start_time": "2021-10-15T13:55:17.964Z"
   },
   {
    "duration": 7,
    "start_time": "2021-10-15T13:55:18.205Z"
   },
   {
    "duration": 250,
    "start_time": "2021-10-15T13:55:18.214Z"
   },
   {
    "duration": 7,
    "start_time": "2021-10-15T13:55:18.466Z"
   },
   {
    "duration": 37,
    "start_time": "2021-10-15T13:55:18.475Z"
   },
   {
    "duration": 213,
    "start_time": "2021-10-15T13:55:18.513Z"
   },
   {
    "duration": 7,
    "start_time": "2021-10-15T13:55:18.728Z"
   },
   {
    "duration": 31,
    "start_time": "2021-10-15T13:55:18.744Z"
   },
   {
    "duration": 550,
    "start_time": "2021-10-15T13:55:18.777Z"
   },
   {
    "duration": 16,
    "start_time": "2021-10-15T13:55:19.329Z"
   },
   {
    "duration": 555,
    "start_time": "2021-10-15T13:55:19.347Z"
   },
   {
    "duration": 4,
    "start_time": "2021-10-15T13:55:19.904Z"
   },
   {
    "duration": 485,
    "start_time": "2021-10-15T13:55:19.910Z"
   },
   {
    "duration": 5,
    "start_time": "2021-10-15T13:55:20.397Z"
   },
   {
    "duration": 20,
    "start_time": "2021-10-15T13:55:20.403Z"
   },
   {
    "duration": 31,
    "start_time": "2021-10-15T13:55:20.425Z"
   },
   {
    "duration": 492,
    "start_time": "2021-10-15T13:55:20.458Z"
   },
   {
    "duration": 15,
    "start_time": "2021-10-15T13:55:20.951Z"
   },
   {
    "duration": 551,
    "start_time": "2021-10-15T13:55:20.968Z"
   },
   {
    "duration": 5,
    "start_time": "2021-10-15T13:55:21.520Z"
   },
   {
    "duration": 25,
    "start_time": "2021-10-15T13:55:21.526Z"
   },
   {
    "duration": 572,
    "start_time": "2021-10-15T13:55:21.553Z"
   },
   {
    "duration": 5,
    "start_time": "2021-10-15T13:55:22.126Z"
   },
   {
    "duration": 24,
    "start_time": "2021-10-15T13:55:22.144Z"
   },
   {
    "duration": 69,
    "start_time": "2021-10-15T13:55:22.170Z"
   },
   {
    "duration": 18,
    "start_time": "2021-10-15T13:55:22.241Z"
   },
   {
    "duration": 27,
    "start_time": "2021-10-15T13:55:22.261Z"
   },
   {
    "duration": 24,
    "start_time": "2021-10-15T13:55:22.289Z"
   },
   {
    "duration": 191,
    "start_time": "2021-10-15T13:55:22.315Z"
   },
   {
    "duration": 8,
    "start_time": "2021-10-15T13:55:22.508Z"
   },
   {
    "duration": 323,
    "start_time": "2021-10-15T13:55:22.517Z"
   },
   {
    "duration": 6,
    "start_time": "2021-10-15T13:55:22.844Z"
   },
   {
    "duration": 22,
    "start_time": "2021-10-15T13:55:22.852Z"
   },
   {
    "duration": 308,
    "start_time": "2021-10-15T13:55:22.875Z"
   },
   {
    "duration": 179,
    "start_time": "2021-10-15T13:55:23.184Z"
   },
   {
    "duration": 192,
    "start_time": "2021-10-15T13:55:23.364Z"
   },
   {
    "duration": 130,
    "start_time": "2021-10-15T13:55:23.558Z"
   },
   {
    "duration": 199,
    "start_time": "2021-10-15T13:55:23.689Z"
   },
   {
    "duration": 206,
    "start_time": "2021-10-15T13:55:23.890Z"
   },
   {
    "duration": 13,
    "start_time": "2021-10-15T13:55:24.097Z"
   },
   {
    "duration": 7019,
    "start_time": "2021-10-15T13:55:24.111Z"
   },
   {
    "duration": 23,
    "start_time": "2021-10-15T13:55:31.132Z"
   },
   {
    "duration": 156,
    "start_time": "2021-10-15T13:55:31.157Z"
   },
   {
    "duration": 8,
    "start_time": "2021-10-15T13:55:31.315Z"
   }
  ],
  "kernelspec": {
   "display_name": "Python 3",
   "language": "python",
   "name": "python3"
  },
  "language_info": {
   "codemirror_mode": {
    "name": "ipython",
    "version": 3
   },
   "file_extension": ".py",
   "mimetype": "text/x-python",
   "name": "python",
   "nbconvert_exporter": "python",
   "pygments_lexer": "ipython3",
   "version": "3.8.3"
  },
  "toc": {
   "base_numbering": 1,
   "nav_menu": {},
   "number_sections": true,
   "sideBar": true,
   "skip_h1_title": true,
   "title_cell": "Содержание",
   "title_sidebar": "Contents",
   "toc_cell": true,
   "toc_position": {
    "height": "calc(100% - 180px)",
    "left": "10px",
    "top": "150px",
    "width": "165px"
   },
   "toc_section_display": true,
   "toc_window_display": true
  }
 },
 "nbformat": 4,
 "nbformat_minor": 2
}
