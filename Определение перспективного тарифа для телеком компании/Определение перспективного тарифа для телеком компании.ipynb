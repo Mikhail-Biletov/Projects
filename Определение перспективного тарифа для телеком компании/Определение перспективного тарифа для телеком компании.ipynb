{
 "cells": [
  {
   "cell_type": "markdown",
   "metadata": {},
   "source": [
    "# Определение перспективного тарифа для телеком компании\n",
    "\n",
    "Заказчик — коммерческий департамент телеком-компании \"Мегалайн\".Клиентам предлагают два тарифных плана: «Смарт» и «Ультра». Чтобы скорректировать рекламный бюджет, коммерческому департаменту необходимо понимание, какой тариф приносит больше денег.\n",
    "Нужно сделать предварительный анализ тарифов на небольшой выборке клиентов (500 пользователей с данными, кто они, откуда, каким тарифом пользуются, сколько звонков и сообщений каждый отправил за 2018 год). Нужно проанализировать поведение клиентов и сделать вывод — какой тариф лучше."
   ]
  },
  {
   "cell_type": "markdown",
   "metadata": {},
   "source": [
    "## Изучение данных из файлов"
   ]
  },
  {
   "cell_type": "code",
   "execution_count": 1,
   "metadata": {},
   "outputs": [],
   "source": [
    "import pandas as pd\n",
    "import numpy as np"
   ]
  },
  {
   "cell_type": "code",
   "execution_count": 2,
   "metadata": {},
   "outputs": [],
   "source": [
    "try:\n",
    "    url_calls = 'https://drive.google.com/file/d/1gSgcJd7Mm5pUqSKg4xVe2-uu0l0IGSwb/view?usp=sharing'\n",
    "    path_call = 'https://drive.google.com/uc?export=download&id='+url_calls.split('/')[-2]\n",
    "    calls_df = pd.read_csv(path_call)\n",
    "except:\n",
    "    raise"
   ]
  },
  {
   "cell_type": "code",
   "execution_count": 3,
   "metadata": {},
   "outputs": [],
   "source": [
    "try:\n",
    "    url_inet = 'https://drive.google.com/file/d/1l6m0q8fSeu-4_UmMn8cJYuAheNCfC9Lw/view?usp=sharing'\n",
    "    path_inet = 'https://drive.google.com/uc?export=download&id='+url_inet.split('/')[-2]\n",
    "    inet_df = pd.read_csv(path_inet)\n",
    "except:\n",
    "    raise"
   ]
  },
  {
   "cell_type": "code",
   "execution_count": 4,
   "metadata": {},
   "outputs": [],
   "source": [
    "try:\n",
    "    url_msg = 'https://drive.google.com/file/d/1UHWz_Sj0E4QmmFpXqEIDmJaoqznUZw9l/view?usp=sharing'\n",
    "    path_msg = 'https://drive.google.com/uc?export=download&id='+url_msg.split('/')[-2]\n",
    "    msg_df =pd.read_csv(path_msg)\n",
    "except:\n",
    "    raise"
   ]
  },
  {
   "cell_type": "code",
   "execution_count": 5,
   "metadata": {},
   "outputs": [],
   "source": [
    "try:\n",
    "    url_trffs = 'https://drive.google.com/file/d/1R-yxONW9TCIrLUK0C-dbhaMlXHU_pjwX/view?usp=sharing'\n",
    "    path_trffs = 'https://drive.google.com/uc?export=download&id='+url_trffs.split('/')[-2]\n",
    "    trffs_df = pd.read_csv(path_trffs)\n",
    "except:\n",
    "    raise"
   ]
  },
  {
   "cell_type": "code",
   "execution_count": 6,
   "metadata": {},
   "outputs": [],
   "source": [
    "try:\n",
    "    url_users = 'https://drive.google.com/file/d/1tJxczJ_h7wQYLBIlNSJ28KqYQLMGyxiu/view?usp=sharing'\n",
    "    path_users = 'https://drive.google.com/uc?export=download&id='+url_users.split('/')[-2]\n",
    "    users_df = pd.read_csv(path_users)\n",
    "except:\n",
    "    raise"
   ]
  },
  {
   "cell_type": "markdown",
   "metadata": {},
   "source": [
    "Импортируем библиотеки, прочтем все датасеты и запишем их в соответствующие датафреймы."
   ]
  },
  {
   "cell_type": "code",
   "execution_count": 7,
   "metadata": {},
   "outputs": [
    {
     "name": "stdout",
     "output_type": "stream",
     "text": [
      "<class 'pandas.core.frame.DataFrame'>\n",
      "RangeIndex: 202607 entries, 0 to 202606\n",
      "Data columns (total 4 columns):\n",
      " #   Column     Non-Null Count   Dtype  \n",
      "---  ------     --------------   -----  \n",
      " 0   id         202607 non-null  object \n",
      " 1   call_date  202607 non-null  object \n",
      " 2   duration   202607 non-null  float64\n",
      " 3   user_id    202607 non-null  int64  \n",
      "dtypes: float64(1), int64(1), object(2)\n",
      "memory usage: 6.2+ MB\n"
     ]
    }
   ],
   "source": [
    "calls_df.info()"
   ]
  },
  {
   "cell_type": "code",
   "execution_count": 8,
   "metadata": {
    "scrolled": true
   },
   "outputs": [
    {
     "data": {
      "text/html": [
       "<div>\n",
       "<style scoped>\n",
       "    .dataframe tbody tr th:only-of-type {\n",
       "        vertical-align: middle;\n",
       "    }\n",
       "\n",
       "    .dataframe tbody tr th {\n",
       "        vertical-align: top;\n",
       "    }\n",
       "\n",
       "    .dataframe thead th {\n",
       "        text-align: right;\n",
       "    }\n",
       "</style>\n",
       "<table border=\"1\" class=\"dataframe\">\n",
       "  <thead>\n",
       "    <tr style=\"text-align: right;\">\n",
       "      <th></th>\n",
       "      <th>id</th>\n",
       "      <th>call_date</th>\n",
       "      <th>duration</th>\n",
       "      <th>user_id</th>\n",
       "    </tr>\n",
       "  </thead>\n",
       "  <tbody>\n",
       "    <tr>\n",
       "      <th>0</th>\n",
       "      <td>1000_0</td>\n",
       "      <td>2018-07-25</td>\n",
       "      <td>0.00</td>\n",
       "      <td>1000</td>\n",
       "    </tr>\n",
       "    <tr>\n",
       "      <th>1</th>\n",
       "      <td>1000_1</td>\n",
       "      <td>2018-08-17</td>\n",
       "      <td>0.00</td>\n",
       "      <td>1000</td>\n",
       "    </tr>\n",
       "    <tr>\n",
       "      <th>2</th>\n",
       "      <td>1000_2</td>\n",
       "      <td>2018-06-11</td>\n",
       "      <td>2.85</td>\n",
       "      <td>1000</td>\n",
       "    </tr>\n",
       "  </tbody>\n",
       "</table>\n",
       "</div>"
      ],
      "text/plain": [
       "       id   call_date  duration  user_id\n",
       "0  1000_0  2018-07-25      0.00     1000\n",
       "1  1000_1  2018-08-17      0.00     1000\n",
       "2  1000_2  2018-06-11      2.85     1000"
      ]
     },
     "execution_count": 8,
     "metadata": {},
     "output_type": "execute_result"
    }
   ],
   "source": [
    "calls_df.head(3)"
   ]
  },
  {
   "cell_type": "markdown",
   "metadata": {},
   "source": [
    "Изучим датафрейм с информацией о звонках. Поле с ID звонка имеет тип object, т.к. там используется нижнее подчеркивание, нет необходимости приводить его к типу int или другому типу. Скорее всего это поле является составным и формируется из user_id и порядкового номера звонка.\n",
    "Поле call_date необходимо привести к формату даты-времени.\n",
    "Поле duration имеет тип float, исходя из условия его нужно округлить в большую сторону, т.к. тарифицируется целое количество минут.\n",
    "Поле user_id имеет тип int, скорее всего нет необходимости менять его тип."
   ]
  },
  {
   "cell_type": "code",
   "execution_count": 9,
   "metadata": {},
   "outputs": [
    {
     "data": {
      "text/plain": [
       "0"
      ]
     },
     "execution_count": 9,
     "metadata": {},
     "output_type": "execute_result"
    }
   ],
   "source": [
    "len(calls_df[calls_df['id'].isna()])"
   ]
  },
  {
   "cell_type": "markdown",
   "metadata": {},
   "source": [
    "Поле id не содержит пропусков."
   ]
  },
  {
   "cell_type": "code",
   "execution_count": 10,
   "metadata": {},
   "outputs": [
    {
     "data": {
      "text/plain": [
       "0"
      ]
     },
     "execution_count": 10,
     "metadata": {},
     "output_type": "execute_result"
    }
   ],
   "source": [
    "len(calls_df[calls_df['call_date'].isna()])"
   ]
  },
  {
   "cell_type": "markdown",
   "metadata": {},
   "source": [
    "Поле call_date не содержит пропусков."
   ]
  },
  {
   "cell_type": "code",
   "execution_count": 11,
   "metadata": {},
   "outputs": [
    {
     "data": {
      "text/plain": [
       "0"
      ]
     },
     "execution_count": 11,
     "metadata": {},
     "output_type": "execute_result"
    }
   ],
   "source": [
    "len(calls_df[calls_df['duration'].isna()])"
   ]
  },
  {
   "cell_type": "code",
   "execution_count": 12,
   "metadata": {},
   "outputs": [
    {
     "data": {
      "text/plain": [
       "0"
      ]
     },
     "execution_count": 12,
     "metadata": {},
     "output_type": "execute_result"
    }
   ],
   "source": [
    "len(calls_df[calls_df['user_id'].isna()])"
   ]
  },
  {
   "cell_type": "markdown",
   "metadata": {},
   "source": [
    "Поля duration и user_id не содержат пропусков."
   ]
  },
  {
   "cell_type": "code",
   "execution_count": 13,
   "metadata": {},
   "outputs": [
    {
     "name": "stdout",
     "output_type": "stream",
     "text": [
      "<class 'pandas.core.frame.DataFrame'>\n",
      "RangeIndex: 149396 entries, 0 to 149395\n",
      "Data columns (total 5 columns):\n",
      " #   Column        Non-Null Count   Dtype  \n",
      "---  ------        --------------   -----  \n",
      " 0   Unnamed: 0    149396 non-null  int64  \n",
      " 1   id            149396 non-null  object \n",
      " 2   mb_used       149396 non-null  float64\n",
      " 3   session_date  149396 non-null  object \n",
      " 4   user_id       149396 non-null  int64  \n",
      "dtypes: float64(1), int64(2), object(2)\n",
      "memory usage: 5.7+ MB\n"
     ]
    }
   ],
   "source": [
    "inet_df.info()"
   ]
  },
  {
   "cell_type": "code",
   "execution_count": 14,
   "metadata": {},
   "outputs": [
    {
     "data": {
      "text/html": [
       "<div>\n",
       "<style scoped>\n",
       "    .dataframe tbody tr th:only-of-type {\n",
       "        vertical-align: middle;\n",
       "    }\n",
       "\n",
       "    .dataframe tbody tr th {\n",
       "        vertical-align: top;\n",
       "    }\n",
       "\n",
       "    .dataframe thead th {\n",
       "        text-align: right;\n",
       "    }\n",
       "</style>\n",
       "<table border=\"1\" class=\"dataframe\">\n",
       "  <thead>\n",
       "    <tr style=\"text-align: right;\">\n",
       "      <th></th>\n",
       "      <th>Unnamed: 0</th>\n",
       "      <th>id</th>\n",
       "      <th>mb_used</th>\n",
       "      <th>session_date</th>\n",
       "      <th>user_id</th>\n",
       "    </tr>\n",
       "  </thead>\n",
       "  <tbody>\n",
       "    <tr>\n",
       "      <th>0</th>\n",
       "      <td>0</td>\n",
       "      <td>1000_0</td>\n",
       "      <td>112.95</td>\n",
       "      <td>2018-11-25</td>\n",
       "      <td>1000</td>\n",
       "    </tr>\n",
       "    <tr>\n",
       "      <th>1</th>\n",
       "      <td>1</td>\n",
       "      <td>1000_1</td>\n",
       "      <td>1052.81</td>\n",
       "      <td>2018-09-07</td>\n",
       "      <td>1000</td>\n",
       "    </tr>\n",
       "    <tr>\n",
       "      <th>2</th>\n",
       "      <td>2</td>\n",
       "      <td>1000_2</td>\n",
       "      <td>1197.26</td>\n",
       "      <td>2018-06-25</td>\n",
       "      <td>1000</td>\n",
       "    </tr>\n",
       "  </tbody>\n",
       "</table>\n",
       "</div>"
      ],
      "text/plain": [
       "   Unnamed: 0      id  mb_used session_date  user_id\n",
       "0           0  1000_0   112.95   2018-11-25     1000\n",
       "1           1  1000_1  1052.81   2018-09-07     1000\n",
       "2           2  1000_2  1197.26   2018-06-25     1000"
      ]
     },
     "execution_count": 14,
     "metadata": {},
     "output_type": "execute_result"
    }
   ],
   "source": [
    "inet_df.head(3)"
   ]
  },
  {
   "cell_type": "code",
   "execution_count": null,
   "metadata": {},
   "outputs": [],
   "source": []
  },
  {
   "cell_type": "markdown",
   "metadata": {},
   "source": [
    "Датасет inet_df имеет схожую структуру, проверим его на значения NaN"
   ]
  },
  {
   "cell_type": "code",
   "execution_count": 15,
   "metadata": {},
   "outputs": [
    {
     "data": {
      "text/plain": [
       "0"
      ]
     },
     "execution_count": 15,
     "metadata": {},
     "output_type": "execute_result"
    }
   ],
   "source": [
    "len(inet_df[inet_df['id'].isna()])\n",
    "len(inet_df[inet_df['mb_used'].isna()])\n",
    "len(inet_df[inet_df['session_date'].isna()])\n",
    "len(inet_df[inet_df['user_id'].isna()])"
   ]
  },
  {
   "cell_type": "markdown",
   "metadata": {},
   "source": [
    "Пропусков нет, требуется замена типа поля session_date."
   ]
  },
  {
   "cell_type": "code",
   "execution_count": 16,
   "metadata": {},
   "outputs": [
    {
     "name": "stdout",
     "output_type": "stream",
     "text": [
      "<class 'pandas.core.frame.DataFrame'>\n",
      "RangeIndex: 123036 entries, 0 to 123035\n",
      "Data columns (total 3 columns):\n",
      " #   Column        Non-Null Count   Dtype \n",
      "---  ------        --------------   ----- \n",
      " 0   id            123036 non-null  object\n",
      " 1   message_date  123036 non-null  object\n",
      " 2   user_id       123036 non-null  int64 \n",
      "dtypes: int64(1), object(2)\n",
      "memory usage: 2.8+ MB\n"
     ]
    }
   ],
   "source": [
    "msg_df.info()"
   ]
  },
  {
   "cell_type": "code",
   "execution_count": 17,
   "metadata": {},
   "outputs": [
    {
     "data": {
      "text/plain": [
       "0"
      ]
     },
     "execution_count": 17,
     "metadata": {},
     "output_type": "execute_result"
    }
   ],
   "source": [
    "len(msg_df[msg_df['id'].isna()])\n",
    "len(msg_df[msg_df['message_date'].isna()])\n",
    "len(msg_df[msg_df['user_id'].isna()])"
   ]
  },
  {
   "cell_type": "markdown",
   "metadata": {},
   "source": [
    "Требуется замена типа поля message_date."
   ]
  },
  {
   "cell_type": "code",
   "execution_count": 18,
   "metadata": {
    "scrolled": true
   },
   "outputs": [
    {
     "name": "stdout",
     "output_type": "stream",
     "text": [
      "<class 'pandas.core.frame.DataFrame'>\n",
      "RangeIndex: 2 entries, 0 to 1\n",
      "Data columns (total 8 columns):\n",
      " #   Column                 Non-Null Count  Dtype \n",
      "---  ------                 --------------  ----- \n",
      " 0   messages_included      2 non-null      int64 \n",
      " 1   mb_per_month_included  2 non-null      int64 \n",
      " 2   minutes_included       2 non-null      int64 \n",
      " 3   rub_monthly_fee        2 non-null      int64 \n",
      " 4   rub_per_gb             2 non-null      int64 \n",
      " 5   rub_per_message        2 non-null      int64 \n",
      " 6   rub_per_minute         2 non-null      int64 \n",
      " 7   tariff_name            2 non-null      object\n",
      "dtypes: int64(7), object(1)\n",
      "memory usage: 256.0+ bytes\n"
     ]
    }
   ],
   "source": [
    "trffs_df.info()"
   ]
  },
  {
   "cell_type": "code",
   "execution_count": 19,
   "metadata": {},
   "outputs": [
    {
     "data": {
      "text/html": [
       "<div>\n",
       "<style scoped>\n",
       "    .dataframe tbody tr th:only-of-type {\n",
       "        vertical-align: middle;\n",
       "    }\n",
       "\n",
       "    .dataframe tbody tr th {\n",
       "        vertical-align: top;\n",
       "    }\n",
       "\n",
       "    .dataframe thead th {\n",
       "        text-align: right;\n",
       "    }\n",
       "</style>\n",
       "<table border=\"1\" class=\"dataframe\">\n",
       "  <thead>\n",
       "    <tr style=\"text-align: right;\">\n",
       "      <th></th>\n",
       "      <th>messages_included</th>\n",
       "      <th>mb_per_month_included</th>\n",
       "      <th>minutes_included</th>\n",
       "      <th>rub_monthly_fee</th>\n",
       "      <th>rub_per_gb</th>\n",
       "      <th>rub_per_message</th>\n",
       "      <th>rub_per_minute</th>\n",
       "      <th>tariff_name</th>\n",
       "    </tr>\n",
       "  </thead>\n",
       "  <tbody>\n",
       "    <tr>\n",
       "      <th>0</th>\n",
       "      <td>50</td>\n",
       "      <td>15360</td>\n",
       "      <td>500</td>\n",
       "      <td>550</td>\n",
       "      <td>200</td>\n",
       "      <td>3</td>\n",
       "      <td>3</td>\n",
       "      <td>smart</td>\n",
       "    </tr>\n",
       "    <tr>\n",
       "      <th>1</th>\n",
       "      <td>1000</td>\n",
       "      <td>30720</td>\n",
       "      <td>3000</td>\n",
       "      <td>1950</td>\n",
       "      <td>150</td>\n",
       "      <td>1</td>\n",
       "      <td>1</td>\n",
       "      <td>ultra</td>\n",
       "    </tr>\n",
       "  </tbody>\n",
       "</table>\n",
       "</div>"
      ],
      "text/plain": [
       "   messages_included  mb_per_month_included  minutes_included  \\\n",
       "0                 50                  15360               500   \n",
       "1               1000                  30720              3000   \n",
       "\n",
       "   rub_monthly_fee  rub_per_gb  rub_per_message  rub_per_minute tariff_name  \n",
       "0              550         200                3               3       smart  \n",
       "1             1950         150                1               1       ultra  "
      ]
     },
     "execution_count": 19,
     "metadata": {},
     "output_type": "execute_result"
    }
   ],
   "source": [
    "trffs_df"
   ]
  },
  {
   "cell_type": "code",
   "execution_count": 20,
   "metadata": {},
   "outputs": [
    {
     "name": "stdout",
     "output_type": "stream",
     "text": [
      "<class 'pandas.core.frame.DataFrame'>\n",
      "RangeIndex: 500 entries, 0 to 499\n",
      "Data columns (total 8 columns):\n",
      " #   Column      Non-Null Count  Dtype \n",
      "---  ------      --------------  ----- \n",
      " 0   user_id     500 non-null    int64 \n",
      " 1   age         500 non-null    int64 \n",
      " 2   churn_date  38 non-null     object\n",
      " 3   city        500 non-null    object\n",
      " 4   first_name  500 non-null    object\n",
      " 5   last_name   500 non-null    object\n",
      " 6   reg_date    500 non-null    object\n",
      " 7   tariff      500 non-null    object\n",
      "dtypes: int64(2), object(6)\n",
      "memory usage: 31.4+ KB\n"
     ]
    }
   ],
   "source": [
    "users_df.info()"
   ]
  },
  {
   "cell_type": "code",
   "execution_count": 21,
   "metadata": {},
   "outputs": [
    {
     "data": {
      "text/plain": [
       "462"
      ]
     },
     "execution_count": 21,
     "metadata": {},
     "output_type": "execute_result"
    }
   ],
   "source": [
    "len(users_df[users_df['churn_date'].isna()])"
   ]
  },
  {
   "cell_type": "code",
   "execution_count": 22,
   "metadata": {},
   "outputs": [
    {
     "data": {
      "text/plain": [
       "0"
      ]
     },
     "execution_count": 22,
     "metadata": {},
     "output_type": "execute_result"
    }
   ],
   "source": [
    "len(users_df[users_df['user_id'].isna()])\n",
    "len(users_df[users_df['age'].isna()])\n",
    "len(users_df[users_df['city'].isna()])\n",
    "len(users_df[users_df['first_name'].isna()])\n",
    "len(users_df[users_df['last_name'].isna()])\n",
    "len(users_df[users_df['reg_date'].isna()])\n",
    "len(users_df[users_df['tariff'].isna()])"
   ]
  },
  {
   "cell_type": "markdown",
   "metadata": {},
   "source": [
    "Требуется замена типа поля reg_date."
   ]
  },
  {
   "cell_type": "markdown",
   "metadata": {},
   "source": [
    "## Предобработка данных"
   ]
  },
  {
   "cell_type": "code",
   "execution_count": 23,
   "metadata": {},
   "outputs": [],
   "source": [
    "calls_df['call_date'] = pd.to_datetime(calls_df['call_date'], format = '%Y-%m-%d')"
   ]
  },
  {
   "cell_type": "code",
   "execution_count": 24,
   "metadata": {},
   "outputs": [],
   "source": [
    "inet_df['session_date'] = pd.to_datetime(inet_df['session_date'], format = '%Y-%m-%d')"
   ]
  },
  {
   "cell_type": "code",
   "execution_count": 25,
   "metadata": {},
   "outputs": [],
   "source": [
    "msg_df['message_date'] = pd.to_datetime(msg_df['message_date'], format = '%Y-%m-%d')"
   ]
  },
  {
   "cell_type": "code",
   "execution_count": 26,
   "metadata": {},
   "outputs": [],
   "source": [
    "users_df['churn_date'] = pd.to_datetime(users_df['churn_date'], format = '%Y-%m-%d')"
   ]
  },
  {
   "cell_type": "code",
   "execution_count": 27,
   "metadata": {},
   "outputs": [],
   "source": [
    "users_df['reg_date'] = pd.to_datetime(users_df['reg_date'], format = '%Y-%m-%d')"
   ]
  },
  {
   "cell_type": "markdown",
   "metadata": {},
   "source": [
    "Изменим тип данных object на datetime во всех датафреймах."
   ]
  },
  {
   "cell_type": "code",
   "execution_count": 28,
   "metadata": {},
   "outputs": [],
   "source": [
    "calls_df['month'] = calls_df['call_date'].dt.month"
   ]
  },
  {
   "cell_type": "code",
   "execution_count": 29,
   "metadata": {},
   "outputs": [],
   "source": [
    "inet_df['month'] = inet_df['session_date'].dt.month"
   ]
  },
  {
   "cell_type": "code",
   "execution_count": 30,
   "metadata": {},
   "outputs": [],
   "source": [
    "msg_df['month'] = msg_df['message_date'].dt.month"
   ]
  },
  {
   "cell_type": "markdown",
   "metadata": {},
   "source": [
    "Добавим столбцы с месяцами в таблицы со звонками, сообщениями и интеренет-трафиком."
   ]
  },
  {
   "cell_type": "code",
   "execution_count": 31,
   "metadata": {},
   "outputs": [
    {
     "data": {
      "text/plain": [
       "2018    202607\n",
       "Name: year, dtype: int64"
      ]
     },
     "execution_count": 31,
     "metadata": {},
     "output_type": "execute_result"
    }
   ],
   "source": [
    "calls_df['year'] = calls_df['call_date'].dt.year\n",
    "calls_df['year'].value_counts()"
   ]
  },
  {
   "cell_type": "code",
   "execution_count": 32,
   "metadata": {},
   "outputs": [],
   "source": [
    "\n",
    "calls_df['duration'] = calls_df['duration'].apply(np.ceil).astype(int)\n",
    "inet_df['mb_used'] = inet_df['mb_used'].apply(np.ceil).astype(int)"
   ]
  },
  {
   "cell_type": "markdown",
   "metadata": {},
   "source": [
    "Округлим минуты разговоров и мегабайты трафика вверх до целочисленных значений."
   ]
  },
  {
   "cell_type": "markdown",
   "metadata": {},
   "source": []
  },
  {
   "cell_type": "code",
   "execution_count": 33,
   "metadata": {
    "scrolled": true
   },
   "outputs": [
    {
     "data": {
      "text/html": [
       "<div>\n",
       "<style scoped>\n",
       "    .dataframe tbody tr th:only-of-type {\n",
       "        vertical-align: middle;\n",
       "    }\n",
       "\n",
       "    .dataframe tbody tr th {\n",
       "        vertical-align: top;\n",
       "    }\n",
       "\n",
       "    .dataframe thead th {\n",
       "        text-align: right;\n",
       "    }\n",
       "</style>\n",
       "<table border=\"1\" class=\"dataframe\">\n",
       "  <thead>\n",
       "    <tr style=\"text-align: right;\">\n",
       "      <th></th>\n",
       "      <th>index</th>\n",
       "      <th>user_id</th>\n",
       "      <th>month</th>\n",
       "      <th>calls_qty</th>\n",
       "      <th>calls_minutes</th>\n",
       "    </tr>\n",
       "  </thead>\n",
       "  <tbody>\n",
       "    <tr>\n",
       "      <th>0</th>\n",
       "      <td>0</td>\n",
       "      <td>1000</td>\n",
       "      <td>5</td>\n",
       "      <td>22</td>\n",
       "      <td>159</td>\n",
       "    </tr>\n",
       "    <tr>\n",
       "      <th>1</th>\n",
       "      <td>1</td>\n",
       "      <td>1000</td>\n",
       "      <td>6</td>\n",
       "      <td>43</td>\n",
       "      <td>172</td>\n",
       "    </tr>\n",
       "    <tr>\n",
       "      <th>2</th>\n",
       "      <td>2</td>\n",
       "      <td>1000</td>\n",
       "      <td>7</td>\n",
       "      <td>47</td>\n",
       "      <td>340</td>\n",
       "    </tr>\n",
       "    <tr>\n",
       "      <th>3</th>\n",
       "      <td>3</td>\n",
       "      <td>1000</td>\n",
       "      <td>8</td>\n",
       "      <td>52</td>\n",
       "      <td>408</td>\n",
       "    </tr>\n",
       "    <tr>\n",
       "      <th>4</th>\n",
       "      <td>4</td>\n",
       "      <td>1000</td>\n",
       "      <td>9</td>\n",
       "      <td>58</td>\n",
       "      <td>466</td>\n",
       "    </tr>\n",
       "  </tbody>\n",
       "</table>\n",
       "</div>"
      ],
      "text/plain": [
       "   index  user_id  month  calls_qty  calls_minutes\n",
       "0      0     1000      5         22            159\n",
       "1      1     1000      6         43            172\n",
       "2      2     1000      7         47            340\n",
       "3      3     1000      8         52            408\n",
       "4      4     1000      9         58            466"
      ]
     },
     "execution_count": 33,
     "metadata": {},
     "output_type": "execute_result"
    }
   ],
   "source": [
    "calls_expl = calls_df.pivot_table(index = ['user_id','month'], values = 'duration', aggfunc = ['count','sum']).reset_index().reset_index()\n",
    "new_name = ['index',  'user_id', 'month', 'calls_qty', 'calls_minutes']\n",
    "calls_expl.set_axis(new_name, axis = 'columns', inplace = True)\n",
    "calls_expl.head()"
   ]
  },
  {
   "cell_type": "code",
   "execution_count": 34,
   "metadata": {
    "scrolled": true
   },
   "outputs": [
    {
     "name": "stdout",
     "output_type": "stream",
     "text": [
      "<class 'pandas.core.frame.DataFrame'>\n",
      "RangeIndex: 3174 entries, 0 to 3173\n",
      "Data columns (total 5 columns):\n",
      " #   Column         Non-Null Count  Dtype\n",
      "---  ------         --------------  -----\n",
      " 0   index          3174 non-null   int64\n",
      " 1   user_id        3174 non-null   int64\n",
      " 2   month          3174 non-null   int64\n",
      " 3   calls_qty      3174 non-null   int64\n",
      " 4   calls_minutes  3174 non-null   int32\n",
      "dtypes: int32(1), int64(4)\n",
      "memory usage: 111.7 KB\n"
     ]
    }
   ],
   "source": [
    "calls_expl.info()"
   ]
  },
  {
   "cell_type": "markdown",
   "metadata": {},
   "source": [
    "Сформируем сводную с количеством сделанных звонков и израсходованных минут помесячно."
   ]
  },
  {
   "cell_type": "code",
   "execution_count": 35,
   "metadata": {},
   "outputs": [
    {
     "data": {
      "text/html": [
       "<div>\n",
       "<style scoped>\n",
       "    .dataframe tbody tr th:only-of-type {\n",
       "        vertical-align: middle;\n",
       "    }\n",
       "\n",
       "    .dataframe tbody tr th {\n",
       "        vertical-align: top;\n",
       "    }\n",
       "\n",
       "    .dataframe thead th {\n",
       "        text-align: right;\n",
       "    }\n",
       "</style>\n",
       "<table border=\"1\" class=\"dataframe\">\n",
       "  <thead>\n",
       "    <tr style=\"text-align: right;\">\n",
       "      <th></th>\n",
       "      <th>user_id</th>\n",
       "      <th>month</th>\n",
       "      <th>message_date</th>\n",
       "    </tr>\n",
       "  </thead>\n",
       "  <tbody>\n",
       "    <tr>\n",
       "      <th>0</th>\n",
       "      <td>1000</td>\n",
       "      <td>5</td>\n",
       "      <td>22</td>\n",
       "    </tr>\n",
       "    <tr>\n",
       "      <th>1</th>\n",
       "      <td>1000</td>\n",
       "      <td>6</td>\n",
       "      <td>60</td>\n",
       "    </tr>\n",
       "    <tr>\n",
       "      <th>2</th>\n",
       "      <td>1000</td>\n",
       "      <td>7</td>\n",
       "      <td>75</td>\n",
       "    </tr>\n",
       "  </tbody>\n",
       "</table>\n",
       "</div>"
      ],
      "text/plain": [
       "   user_id  month  message_date\n",
       "0     1000      5            22\n",
       "1     1000      6            60\n",
       "2     1000      7            75"
      ]
     },
     "execution_count": 35,
     "metadata": {},
     "output_type": "execute_result"
    }
   ],
   "source": [
    "msg_qty = msg_df.pivot_table(index = ['user_id','month'], values = 'message_date', aggfunc = 'count').reset_index()\n",
    "msg_qty.head(3)"
   ]
  },
  {
   "cell_type": "markdown",
   "metadata": {},
   "source": [
    "Сформируем сводную с количеством отправленных сообщений в разрезе абонентов помесячно."
   ]
  },
  {
   "cell_type": "code",
   "execution_count": 36,
   "metadata": {
    "scrolled": true
   },
   "outputs": [
    {
     "data": {
      "text/html": [
       "<div>\n",
       "<style scoped>\n",
       "    .dataframe tbody tr th:only-of-type {\n",
       "        vertical-align: middle;\n",
       "    }\n",
       "\n",
       "    .dataframe tbody tr th {\n",
       "        vertical-align: top;\n",
       "    }\n",
       "\n",
       "    .dataframe thead th {\n",
       "        text-align: right;\n",
       "    }\n",
       "</style>\n",
       "<table border=\"1\" class=\"dataframe\">\n",
       "  <thead>\n",
       "    <tr style=\"text-align: right;\">\n",
       "      <th></th>\n",
       "      <th>user_id</th>\n",
       "      <th>month</th>\n",
       "      <th>mb_used</th>\n",
       "    </tr>\n",
       "  </thead>\n",
       "  <tbody>\n",
       "    <tr>\n",
       "      <th>0</th>\n",
       "      <td>1000</td>\n",
       "      <td>5</td>\n",
       "      <td>2256</td>\n",
       "    </tr>\n",
       "    <tr>\n",
       "      <th>1</th>\n",
       "      <td>1000</td>\n",
       "      <td>6</td>\n",
       "      <td>23257</td>\n",
       "    </tr>\n",
       "    <tr>\n",
       "      <th>2</th>\n",
       "      <td>1000</td>\n",
       "      <td>7</td>\n",
       "      <td>14016</td>\n",
       "    </tr>\n",
       "  </tbody>\n",
       "</table>\n",
       "</div>"
      ],
      "text/plain": [
       "   user_id  month  mb_used\n",
       "0     1000      5     2256\n",
       "1     1000      6    23257\n",
       "2     1000      7    14016"
      ]
     },
     "execution_count": 36,
     "metadata": {},
     "output_type": "execute_result"
    }
   ],
   "source": [
    "gb = inet_df.pivot_table(index = ['user_id','month'], values = 'mb_used', aggfunc = 'sum').reset_index()\n",
    "gb.head(3)"
   ]
  },
  {
   "cell_type": "code",
   "execution_count": 37,
   "metadata": {
    "scrolled": true
   },
   "outputs": [
    {
     "name": "stdout",
     "output_type": "stream",
     "text": [
      "<class 'pandas.core.frame.DataFrame'>\n",
      "RangeIndex: 3203 entries, 0 to 3202\n",
      "Data columns (total 3 columns):\n",
      " #   Column   Non-Null Count  Dtype\n",
      "---  ------   --------------  -----\n",
      " 0   user_id  3203 non-null   int64\n",
      " 1   month    3203 non-null   int64\n",
      " 2   mb_used  3203 non-null   int32\n",
      "dtypes: int32(1), int64(2)\n",
      "memory usage: 62.7 KB\n"
     ]
    }
   ],
   "source": [
    "gb.info()"
   ]
  },
  {
   "cell_type": "markdown",
   "metadata": {},
   "source": [
    "Сформируем сводную с объемами трафика в разрезе абонентов помесячно."
   ]
  },
  {
   "cell_type": "code",
   "execution_count": 38,
   "metadata": {
    "scrolled": true
   },
   "outputs": [
    {
     "data": {
      "text/html": [
       "<div>\n",
       "<style scoped>\n",
       "    .dataframe tbody tr th:only-of-type {\n",
       "        vertical-align: middle;\n",
       "    }\n",
       "\n",
       "    .dataframe tbody tr th {\n",
       "        vertical-align: top;\n",
       "    }\n",
       "\n",
       "    .dataframe thead th {\n",
       "        text-align: right;\n",
       "    }\n",
       "</style>\n",
       "<table border=\"1\" class=\"dataframe\">\n",
       "  <thead>\n",
       "    <tr style=\"text-align: right;\">\n",
       "      <th></th>\n",
       "      <th>user_id</th>\n",
       "      <th>age</th>\n",
       "      <th>churn_date</th>\n",
       "      <th>city</th>\n",
       "      <th>first_name</th>\n",
       "      <th>last_name</th>\n",
       "      <th>reg_date</th>\n",
       "      <th>tariff</th>\n",
       "      <th>messages_included</th>\n",
       "      <th>mb_per_month_included</th>\n",
       "      <th>minutes_included</th>\n",
       "      <th>rub_monthly_fee</th>\n",
       "      <th>rub_per_gb</th>\n",
       "      <th>rub_per_message</th>\n",
       "      <th>rub_per_minute</th>\n",
       "      <th>tariff_name</th>\n",
       "    </tr>\n",
       "  </thead>\n",
       "  <tbody>\n",
       "    <tr>\n",
       "      <th>0</th>\n",
       "      <td>1000</td>\n",
       "      <td>52</td>\n",
       "      <td>NaT</td>\n",
       "      <td>Краснодар</td>\n",
       "      <td>Рафаил</td>\n",
       "      <td>Верещагин</td>\n",
       "      <td>2018-05-25</td>\n",
       "      <td>ultra</td>\n",
       "      <td>1000</td>\n",
       "      <td>30720</td>\n",
       "      <td>3000</td>\n",
       "      <td>1950</td>\n",
       "      <td>150</td>\n",
       "      <td>1</td>\n",
       "      <td>1</td>\n",
       "      <td>ultra</td>\n",
       "    </tr>\n",
       "    <tr>\n",
       "      <th>1</th>\n",
       "      <td>1001</td>\n",
       "      <td>41</td>\n",
       "      <td>NaT</td>\n",
       "      <td>Москва</td>\n",
       "      <td>Иван</td>\n",
       "      <td>Ежов</td>\n",
       "      <td>2018-11-01</td>\n",
       "      <td>smart</td>\n",
       "      <td>50</td>\n",
       "      <td>15360</td>\n",
       "      <td>500</td>\n",
       "      <td>550</td>\n",
       "      <td>200</td>\n",
       "      <td>3</td>\n",
       "      <td>3</td>\n",
       "      <td>smart</td>\n",
       "    </tr>\n",
       "    <tr>\n",
       "      <th>2</th>\n",
       "      <td>1002</td>\n",
       "      <td>59</td>\n",
       "      <td>NaT</td>\n",
       "      <td>Стерлитамак</td>\n",
       "      <td>Евгений</td>\n",
       "      <td>Абрамович</td>\n",
       "      <td>2018-06-17</td>\n",
       "      <td>smart</td>\n",
       "      <td>50</td>\n",
       "      <td>15360</td>\n",
       "      <td>500</td>\n",
       "      <td>550</td>\n",
       "      <td>200</td>\n",
       "      <td>3</td>\n",
       "      <td>3</td>\n",
       "      <td>smart</td>\n",
       "    </tr>\n",
       "  </tbody>\n",
       "</table>\n",
       "</div>"
      ],
      "text/plain": [
       "   user_id  age churn_date         city first_name  last_name   reg_date  \\\n",
       "0     1000   52        NaT    Краснодар     Рафаил  Верещагин 2018-05-25   \n",
       "1     1001   41        NaT       Москва       Иван       Ежов 2018-11-01   \n",
       "2     1002   59        NaT  Стерлитамак    Евгений  Абрамович 2018-06-17   \n",
       "\n",
       "  tariff  messages_included  mb_per_month_included  minutes_included  \\\n",
       "0  ultra               1000                  30720              3000   \n",
       "1  smart                 50                  15360               500   \n",
       "2  smart                 50                  15360               500   \n",
       "\n",
       "   rub_monthly_fee  rub_per_gb  rub_per_message  rub_per_minute tariff_name  \n",
       "0             1950         150                1               1       ultra  \n",
       "1              550         200                3               3       smart  \n",
       "2              550         200                3               3       smart  "
      ]
     },
     "execution_count": 38,
     "metadata": {},
     "output_type": "execute_result"
    }
   ],
   "source": [
    "map_lst = users_df.merge(trffs_df, how = 'left', left_on = 'tariff', right_on = 'tariff_name')\n",
    "map_lst.head(3)"
   ]
  },
  {
   "cell_type": "markdown",
   "metadata": {},
   "source": [
    "Объединим в один справочник датафрейм с данными абонентов и параметры их тарифов по значению поля \"тариф\" для того, чтобы посчитать помесячную выручку каждого пользователя."
   ]
  },
  {
   "cell_type": "code",
   "execution_count": 39,
   "metadata": {},
   "outputs": [
    {
     "data": {
      "text/html": [
       "<div>\n",
       "<style scoped>\n",
       "    .dataframe tbody tr th:only-of-type {\n",
       "        vertical-align: middle;\n",
       "    }\n",
       "\n",
       "    .dataframe tbody tr th {\n",
       "        vertical-align: top;\n",
       "    }\n",
       "\n",
       "    .dataframe thead th {\n",
       "        text-align: right;\n",
       "    }\n",
       "</style>\n",
       "<table border=\"1\" class=\"dataframe\">\n",
       "  <thead>\n",
       "    <tr style=\"text-align: right;\">\n",
       "      <th></th>\n",
       "      <th>index</th>\n",
       "      <th>user_id</th>\n",
       "      <th>month</th>\n",
       "      <th>calls_qty</th>\n",
       "      <th>calls_minutes</th>\n",
       "      <th>message_date</th>\n",
       "      <th>mb_used</th>\n",
       "    </tr>\n",
       "  </thead>\n",
       "  <tbody>\n",
       "    <tr>\n",
       "      <th>0</th>\n",
       "      <td>0.0</td>\n",
       "      <td>1000</td>\n",
       "      <td>5</td>\n",
       "      <td>22.0</td>\n",
       "      <td>159.0</td>\n",
       "      <td>NaN</td>\n",
       "      <td>NaN</td>\n",
       "    </tr>\n",
       "    <tr>\n",
       "      <th>1</th>\n",
       "      <td>1.0</td>\n",
       "      <td>1000</td>\n",
       "      <td>6</td>\n",
       "      <td>43.0</td>\n",
       "      <td>172.0</td>\n",
       "      <td>NaN</td>\n",
       "      <td>NaN</td>\n",
       "    </tr>\n",
       "    <tr>\n",
       "      <th>2</th>\n",
       "      <td>2.0</td>\n",
       "      <td>1000</td>\n",
       "      <td>7</td>\n",
       "      <td>47.0</td>\n",
       "      <td>340.0</td>\n",
       "      <td>NaN</td>\n",
       "      <td>NaN</td>\n",
       "    </tr>\n",
       "  </tbody>\n",
       "</table>\n",
       "</div>"
      ],
      "text/plain": [
       "   index  user_id  month  calls_qty  calls_minutes  message_date  mb_used\n",
       "0    0.0     1000      5       22.0          159.0           NaN      NaN\n",
       "1    1.0     1000      6       43.0          172.0           NaN      NaN\n",
       "2    2.0     1000      7       47.0          340.0           NaN      NaN"
      ]
     },
     "execution_count": 39,
     "metadata": {},
     "output_type": "execute_result"
    }
   ],
   "source": [
    "calls_expl = calls_expl.append(msg_qty, sort = False)\n",
    "total_trf = calls_expl.append(gb, sort = False)\n",
    "total_trf.head(3)"
   ]
  },
  {
   "cell_type": "markdown",
   "metadata": {},
   "source": [
    "Объединим в единый датафрейм данные о звонках, сообщениях и интернет-трафике пользоователей в разрезе месяцев."
   ]
  },
  {
   "cell_type": "code",
   "execution_count": 40,
   "metadata": {
    "scrolled": true
   },
   "outputs": [
    {
     "data": {
      "text/html": [
       "<div>\n",
       "<style scoped>\n",
       "    .dataframe tbody tr th:only-of-type {\n",
       "        vertical-align: middle;\n",
       "    }\n",
       "\n",
       "    .dataframe tbody tr th {\n",
       "        vertical-align: top;\n",
       "    }\n",
       "\n",
       "    .dataframe thead th {\n",
       "        text-align: right;\n",
       "    }\n",
       "</style>\n",
       "<table border=\"1\" class=\"dataframe\">\n",
       "  <thead>\n",
       "    <tr style=\"text-align: right;\">\n",
       "      <th></th>\n",
       "      <th>index</th>\n",
       "      <th>user_id</th>\n",
       "      <th>month</th>\n",
       "      <th>calls_qty</th>\n",
       "      <th>calls_minutes</th>\n",
       "      <th>message_date</th>\n",
       "      <th>mb_used</th>\n",
       "    </tr>\n",
       "  </thead>\n",
       "  <tbody>\n",
       "    <tr>\n",
       "      <th>0</th>\n",
       "      <td>0.0</td>\n",
       "      <td>1000</td>\n",
       "      <td>5</td>\n",
       "      <td>22.0</td>\n",
       "      <td>159.0</td>\n",
       "      <td>0.0</td>\n",
       "      <td>0.0</td>\n",
       "    </tr>\n",
       "    <tr>\n",
       "      <th>1</th>\n",
       "      <td>1.0</td>\n",
       "      <td>1000</td>\n",
       "      <td>6</td>\n",
       "      <td>43.0</td>\n",
       "      <td>172.0</td>\n",
       "      <td>0.0</td>\n",
       "      <td>0.0</td>\n",
       "    </tr>\n",
       "    <tr>\n",
       "      <th>2</th>\n",
       "      <td>2.0</td>\n",
       "      <td>1000</td>\n",
       "      <td>7</td>\n",
       "      <td>47.0</td>\n",
       "      <td>340.0</td>\n",
       "      <td>0.0</td>\n",
       "      <td>0.0</td>\n",
       "    </tr>\n",
       "  </tbody>\n",
       "</table>\n",
       "</div>"
      ],
      "text/plain": [
       "   index  user_id  month  calls_qty  calls_minutes  message_date  mb_used\n",
       "0    0.0     1000      5       22.0          159.0           0.0      0.0\n",
       "1    1.0     1000      6       43.0          172.0           0.0      0.0\n",
       "2    2.0     1000      7       47.0          340.0           0.0      0.0"
      ]
     },
     "execution_count": 40,
     "metadata": {},
     "output_type": "execute_result"
    }
   ],
   "source": [
    "total_trf['calls_minutes']=total_trf['calls_minutes'].fillna(0)\n",
    "total_trf['message_date']=total_trf['message_date'].fillna(0)\n",
    "total_trf['mb_used']=total_trf['mb_used'].fillna(0)\n",
    "total_trf['calls_qty']=total_trf['calls_qty'].fillna(0)\n",
    "total_trf.head(3)"
   ]
  },
  {
   "cell_type": "code",
   "execution_count": null,
   "metadata": {},
   "outputs": [],
   "source": []
  },
  {
   "cell_type": "markdown",
   "metadata": {},
   "source": [
    "Заменим NaN на нули."
   ]
  },
  {
   "cell_type": "code",
   "execution_count": 41,
   "metadata": {},
   "outputs": [
    {
     "data": {
      "text/plain": [
       "55369459.0"
      ]
     },
     "execution_count": 41,
     "metadata": {},
     "output_type": "execute_result"
    }
   ],
   "source": [
    "total_trf['calls_minutes'].sum()\n",
    "total_trf['message_date'].sum()\n",
    "total_trf['mb_used'].sum()"
   ]
  },
  {
   "cell_type": "code",
   "execution_count": 42,
   "metadata": {},
   "outputs": [
    {
     "data": {
      "text/plain": [
       "55369459"
      ]
     },
     "execution_count": 42,
     "metadata": {},
     "output_type": "execute_result"
    }
   ],
   "source": [
    "calls_expl['calls_minutes'].sum()\n",
    "msg_qty['message_date'].sum()\n",
    "gb['mb_used'].sum()"
   ]
  },
  {
   "cell_type": "markdown",
   "metadata": {},
   "source": [
    "Проверим, нет ли задвоений и не потерялись ли данные после объединения таблиц в общий датафрейм. Сумма минут, сообщений и мегабайт в общем датафрейме и в отдельных таблицах идентична."
   ]
  },
  {
   "cell_type": "code",
   "execution_count": 43,
   "metadata": {},
   "outputs": [
    {
     "data": {
      "text/html": [
       "<div>\n",
       "<style scoped>\n",
       "    .dataframe tbody tr th:only-of-type {\n",
       "        vertical-align: middle;\n",
       "    }\n",
       "\n",
       "    .dataframe tbody tr th {\n",
       "        vertical-align: top;\n",
       "    }\n",
       "\n",
       "    .dataframe thead th {\n",
       "        text-align: right;\n",
       "    }\n",
       "</style>\n",
       "<table border=\"1\" class=\"dataframe\">\n",
       "  <thead>\n",
       "    <tr style=\"text-align: right;\">\n",
       "      <th></th>\n",
       "      <th>index</th>\n",
       "      <th>user_id</th>\n",
       "      <th>month</th>\n",
       "      <th>calls_qty</th>\n",
       "      <th>calls_minutes</th>\n",
       "      <th>message_date</th>\n",
       "      <th>mb_used</th>\n",
       "      <th>age</th>\n",
       "      <th>churn_date</th>\n",
       "      <th>city</th>\n",
       "      <th>...</th>\n",
       "      <th>reg_date</th>\n",
       "      <th>tariff</th>\n",
       "      <th>messages_included</th>\n",
       "      <th>mb_per_month_included</th>\n",
       "      <th>minutes_included</th>\n",
       "      <th>rub_monthly_fee</th>\n",
       "      <th>rub_per_gb</th>\n",
       "      <th>rub_per_message</th>\n",
       "      <th>rub_per_minute</th>\n",
       "      <th>tariff_name</th>\n",
       "    </tr>\n",
       "  </thead>\n",
       "  <tbody>\n",
       "    <tr>\n",
       "      <th>0</th>\n",
       "      <td>0.0</td>\n",
       "      <td>1000</td>\n",
       "      <td>5</td>\n",
       "      <td>22.0</td>\n",
       "      <td>159.0</td>\n",
       "      <td>0.0</td>\n",
       "      <td>0.0</td>\n",
       "      <td>52</td>\n",
       "      <td>NaT</td>\n",
       "      <td>Краснодар</td>\n",
       "      <td>...</td>\n",
       "      <td>2018-05-25</td>\n",
       "      <td>ultra</td>\n",
       "      <td>1000</td>\n",
       "      <td>30720</td>\n",
       "      <td>3000</td>\n",
       "      <td>1950</td>\n",
       "      <td>150</td>\n",
       "      <td>1</td>\n",
       "      <td>1</td>\n",
       "      <td>ultra</td>\n",
       "    </tr>\n",
       "    <tr>\n",
       "      <th>1</th>\n",
       "      <td>1.0</td>\n",
       "      <td>1000</td>\n",
       "      <td>6</td>\n",
       "      <td>43.0</td>\n",
       "      <td>172.0</td>\n",
       "      <td>0.0</td>\n",
       "      <td>0.0</td>\n",
       "      <td>52</td>\n",
       "      <td>NaT</td>\n",
       "      <td>Краснодар</td>\n",
       "      <td>...</td>\n",
       "      <td>2018-05-25</td>\n",
       "      <td>ultra</td>\n",
       "      <td>1000</td>\n",
       "      <td>30720</td>\n",
       "      <td>3000</td>\n",
       "      <td>1950</td>\n",
       "      <td>150</td>\n",
       "      <td>1</td>\n",
       "      <td>1</td>\n",
       "      <td>ultra</td>\n",
       "    </tr>\n",
       "    <tr>\n",
       "      <th>2</th>\n",
       "      <td>2.0</td>\n",
       "      <td>1000</td>\n",
       "      <td>7</td>\n",
       "      <td>47.0</td>\n",
       "      <td>340.0</td>\n",
       "      <td>0.0</td>\n",
       "      <td>0.0</td>\n",
       "      <td>52</td>\n",
       "      <td>NaT</td>\n",
       "      <td>Краснодар</td>\n",
       "      <td>...</td>\n",
       "      <td>2018-05-25</td>\n",
       "      <td>ultra</td>\n",
       "      <td>1000</td>\n",
       "      <td>30720</td>\n",
       "      <td>3000</td>\n",
       "      <td>1950</td>\n",
       "      <td>150</td>\n",
       "      <td>1</td>\n",
       "      <td>1</td>\n",
       "      <td>ultra</td>\n",
       "    </tr>\n",
       "  </tbody>\n",
       "</table>\n",
       "<p>3 rows × 22 columns</p>\n",
       "</div>"
      ],
      "text/plain": [
       "   index  user_id  month  calls_qty  calls_minutes  message_date  mb_used  \\\n",
       "0    0.0     1000      5       22.0          159.0           0.0      0.0   \n",
       "1    1.0     1000      6       43.0          172.0           0.0      0.0   \n",
       "2    2.0     1000      7       47.0          340.0           0.0      0.0   \n",
       "\n",
       "   age churn_date       city  ...   reg_date tariff messages_included  \\\n",
       "0   52        NaT  Краснодар  ... 2018-05-25  ultra              1000   \n",
       "1   52        NaT  Краснодар  ... 2018-05-25  ultra              1000   \n",
       "2   52        NaT  Краснодар  ... 2018-05-25  ultra              1000   \n",
       "\n",
       "  mb_per_month_included  minutes_included  rub_monthly_fee  rub_per_gb  \\\n",
       "0                 30720              3000             1950         150   \n",
       "1                 30720              3000             1950         150   \n",
       "2                 30720              3000             1950         150   \n",
       "\n",
       "   rub_per_message  rub_per_minute  tariff_name  \n",
       "0                1               1        ultra  \n",
       "1                1               1        ultra  \n",
       "2                1               1        ultra  \n",
       "\n",
       "[3 rows x 22 columns]"
      ]
     },
     "execution_count": 43,
     "metadata": {},
     "output_type": "execute_result"
    }
   ],
   "source": [
    "total_trf = total_trf.merge(map_lst, how = 'left', left_on = 'user_id', right_on = 'user_id')\n",
    "total_trf.head(3)"
   ]
  },
  {
   "cell_type": "markdown",
   "metadata": {},
   "source": [
    "Объединим все данные в итоговой таблице, чтобы посчитать выручку по каждому абоненту."
   ]
  },
  {
   "cell_type": "code",
   "execution_count": 44,
   "metadata": {
    "scrolled": true
   },
   "outputs": [
    {
     "name": "stdout",
     "output_type": "stream",
     "text": [
      "<class 'pandas.core.frame.DataFrame'>\n",
      "Int64Index: 9094 entries, 0 to 9093\n",
      "Data columns (total 22 columns):\n",
      " #   Column                 Non-Null Count  Dtype         \n",
      "---  ------                 --------------  -----         \n",
      " 0   index                  3174 non-null   float64       \n",
      " 1   user_id                9094 non-null   int64         \n",
      " 2   month                  9094 non-null   int64         \n",
      " 3   calls_qty              9094 non-null   float64       \n",
      " 4   calls_minutes          9094 non-null   float64       \n",
      " 5   message_date           9094 non-null   float64       \n",
      " 6   mb_used                9094 non-null   float64       \n",
      " 7   age                    9094 non-null   int64         \n",
      " 8   churn_date             513 non-null    datetime64[ns]\n",
      " 9   city                   9094 non-null   object        \n",
      " 10  first_name             9094 non-null   object        \n",
      " 11  last_name              9094 non-null   object        \n",
      " 12  reg_date               9094 non-null   datetime64[ns]\n",
      " 13  tariff                 9094 non-null   object        \n",
      " 14  messages_included      9094 non-null   int64         \n",
      " 15  mb_per_month_included  9094 non-null   int64         \n",
      " 16  minutes_included       9094 non-null   int64         \n",
      " 17  rub_monthly_fee        9094 non-null   int64         \n",
      " 18  rub_per_gb             9094 non-null   int64         \n",
      " 19  rub_per_message        9094 non-null   int64         \n",
      " 20  rub_per_minute         9094 non-null   int64         \n",
      " 21  tariff_name            9094 non-null   object        \n",
      "dtypes: datetime64[ns](2), float64(5), int64(10), object(5)\n",
      "memory usage: 1.6+ MB\n"
     ]
    }
   ],
   "source": [
    "total_trf.info()"
   ]
  },
  {
   "cell_type": "code",
   "execution_count": 45,
   "metadata": {},
   "outputs": [],
   "source": [
    "import math"
   ]
  },
  {
   "cell_type": "code",
   "execution_count": 46,
   "metadata": {},
   "outputs": [],
   "source": [
    "def revenue_tot(row):\n",
    "    length = row['calls_minutes']\n",
    "    mess = row['message_date']\n",
    "    mb = row['mb_used']\n",
    "    length_limit = row['minutes_included']\n",
    "    rub_monthly_fees = row['rub_monthly_fee']\n",
    "    mess_limit = row['messages_included']\n",
    "    mb_limit = row['mb_per_month_included']\n",
    "    rub_per_gb = row['rub_per_gb']\n",
    "    rub_per_message = row['rub_per_message']\n",
    "    rub_per_minute = row['rub_per_minute']\n",
    "    \n",
    "    if length!=0:\n",
    "        if (length - length_limit)>0:\n",
    "            return (length-length_limit)*rub_per_minute + rub_monthly_fees\n",
    "        else:\n",
    "            return rub_monthly_fees\n",
    "    elif mess!=0:\n",
    "        if (mess-mess_limit)>0:\n",
    "            return(mess-mess_limit)*rub_per_message\n",
    "        else:\n",
    "            return 0\n",
    "    elif mb!=0:\n",
    "        if (mb-mb_limit)>0:\n",
    "            return math.ceil((mb-mb_limit)/1024) * rub_per_gb\n",
    "        else:\n",
    "            return 0\n",
    "    else:\n",
    "        return 0\n",
    "total_trf['revenue'] = total_trf.apply(revenue_tot, axis = 1)    "
   ]
  },
  {
   "cell_type": "code",
   "execution_count": 47,
   "metadata": {},
   "outputs": [
    {
     "data": {
      "text/html": [
       "<div>\n",
       "<style scoped>\n",
       "    .dataframe tbody tr th:only-of-type {\n",
       "        vertical-align: middle;\n",
       "    }\n",
       "\n",
       "    .dataframe tbody tr th {\n",
       "        vertical-align: top;\n",
       "    }\n",
       "\n",
       "    .dataframe thead th {\n",
       "        text-align: right;\n",
       "    }\n",
       "</style>\n",
       "<table border=\"1\" class=\"dataframe\">\n",
       "  <thead>\n",
       "    <tr style=\"text-align: right;\">\n",
       "      <th></th>\n",
       "      <th>index</th>\n",
       "      <th>user_id</th>\n",
       "      <th>month</th>\n",
       "      <th>calls_qty</th>\n",
       "      <th>calls_minutes</th>\n",
       "      <th>message_date</th>\n",
       "      <th>mb_used</th>\n",
       "      <th>age</th>\n",
       "      <th>churn_date</th>\n",
       "      <th>city</th>\n",
       "      <th>...</th>\n",
       "      <th>tariff</th>\n",
       "      <th>messages_included</th>\n",
       "      <th>mb_per_month_included</th>\n",
       "      <th>minutes_included</th>\n",
       "      <th>rub_monthly_fee</th>\n",
       "      <th>rub_per_gb</th>\n",
       "      <th>rub_per_message</th>\n",
       "      <th>rub_per_minute</th>\n",
       "      <th>tariff_name</th>\n",
       "      <th>revenue</th>\n",
       "    </tr>\n",
       "  </thead>\n",
       "  <tbody>\n",
       "    <tr>\n",
       "      <th>0</th>\n",
       "      <td>0.0</td>\n",
       "      <td>1000</td>\n",
       "      <td>5</td>\n",
       "      <td>22.0</td>\n",
       "      <td>159.0</td>\n",
       "      <td>0.0</td>\n",
       "      <td>0.0</td>\n",
       "      <td>52</td>\n",
       "      <td>NaT</td>\n",
       "      <td>Краснодар</td>\n",
       "      <td>...</td>\n",
       "      <td>ultra</td>\n",
       "      <td>1000</td>\n",
       "      <td>30720</td>\n",
       "      <td>3000</td>\n",
       "      <td>1950</td>\n",
       "      <td>150</td>\n",
       "      <td>1</td>\n",
       "      <td>1</td>\n",
       "      <td>ultra</td>\n",
       "      <td>1950.0</td>\n",
       "    </tr>\n",
       "    <tr>\n",
       "      <th>1</th>\n",
       "      <td>1.0</td>\n",
       "      <td>1000</td>\n",
       "      <td>6</td>\n",
       "      <td>43.0</td>\n",
       "      <td>172.0</td>\n",
       "      <td>0.0</td>\n",
       "      <td>0.0</td>\n",
       "      <td>52</td>\n",
       "      <td>NaT</td>\n",
       "      <td>Краснодар</td>\n",
       "      <td>...</td>\n",
       "      <td>ultra</td>\n",
       "      <td>1000</td>\n",
       "      <td>30720</td>\n",
       "      <td>3000</td>\n",
       "      <td>1950</td>\n",
       "      <td>150</td>\n",
       "      <td>1</td>\n",
       "      <td>1</td>\n",
       "      <td>ultra</td>\n",
       "      <td>1950.0</td>\n",
       "    </tr>\n",
       "    <tr>\n",
       "      <th>2</th>\n",
       "      <td>2.0</td>\n",
       "      <td>1000</td>\n",
       "      <td>7</td>\n",
       "      <td>47.0</td>\n",
       "      <td>340.0</td>\n",
       "      <td>0.0</td>\n",
       "      <td>0.0</td>\n",
       "      <td>52</td>\n",
       "      <td>NaT</td>\n",
       "      <td>Краснодар</td>\n",
       "      <td>...</td>\n",
       "      <td>ultra</td>\n",
       "      <td>1000</td>\n",
       "      <td>30720</td>\n",
       "      <td>3000</td>\n",
       "      <td>1950</td>\n",
       "      <td>150</td>\n",
       "      <td>1</td>\n",
       "      <td>1</td>\n",
       "      <td>ultra</td>\n",
       "      <td>1950.0</td>\n",
       "    </tr>\n",
       "  </tbody>\n",
       "</table>\n",
       "<p>3 rows × 23 columns</p>\n",
       "</div>"
      ],
      "text/plain": [
       "   index  user_id  month  calls_qty  calls_minutes  message_date  mb_used  \\\n",
       "0    0.0     1000      5       22.0          159.0           0.0      0.0   \n",
       "1    1.0     1000      6       43.0          172.0           0.0      0.0   \n",
       "2    2.0     1000      7       47.0          340.0           0.0      0.0   \n",
       "\n",
       "   age churn_date       city  ... tariff messages_included  \\\n",
       "0   52        NaT  Краснодар  ...  ultra              1000   \n",
       "1   52        NaT  Краснодар  ...  ultra              1000   \n",
       "2   52        NaT  Краснодар  ...  ultra              1000   \n",
       "\n",
       "  mb_per_month_included minutes_included  rub_monthly_fee  rub_per_gb  \\\n",
       "0                 30720             3000             1950         150   \n",
       "1                 30720             3000             1950         150   \n",
       "2                 30720             3000             1950         150   \n",
       "\n",
       "   rub_per_message  rub_per_minute  tariff_name  revenue  \n",
       "0                1               1        ultra   1950.0  \n",
       "1                1               1        ultra   1950.0  \n",
       "2                1               1        ultra   1950.0  \n",
       "\n",
       "[3 rows x 23 columns]"
      ]
     },
     "execution_count": 47,
     "metadata": {},
     "output_type": "execute_result"
    }
   ],
   "source": [
    "total_trf.query('revenue!=0').head(3)"
   ]
  },
  {
   "cell_type": "markdown",
   "metadata": {},
   "source": [
    "Посчитаем итоговую выручку по всем услугам."
   ]
  },
  {
   "cell_type": "code",
   "execution_count": 48,
   "metadata": {
    "scrolled": true
   },
   "outputs": [
    {
     "data": {
      "text/html": [
       "<div>\n",
       "<style scoped>\n",
       "    .dataframe tbody tr th:only-of-type {\n",
       "        vertical-align: middle;\n",
       "    }\n",
       "\n",
       "    .dataframe tbody tr th {\n",
       "        vertical-align: top;\n",
       "    }\n",
       "\n",
       "    .dataframe thead th {\n",
       "        text-align: right;\n",
       "    }\n",
       "</style>\n",
       "<table border=\"1\" class=\"dataframe\">\n",
       "  <thead>\n",
       "    <tr style=\"text-align: right;\">\n",
       "      <th></th>\n",
       "      <th>revenue</th>\n",
       "    </tr>\n",
       "    <tr>\n",
       "      <th>tariff</th>\n",
       "      <th></th>\n",
       "    </tr>\n",
       "  </thead>\n",
       "  <tbody>\n",
       "    <tr>\n",
       "      <th>smart</th>\n",
       "      <td>2881351.0</td>\n",
       "    </tr>\n",
       "    <tr>\n",
       "      <th>ultra</th>\n",
       "      <td>1965900.0</td>\n",
       "    </tr>\n",
       "  </tbody>\n",
       "</table>\n",
       "</div>"
      ],
      "text/plain": [
       "          revenue\n",
       "tariff           \n",
       "smart   2881351.0\n",
       "ultra   1965900.0"
      ]
     },
     "execution_count": 48,
     "metadata": {},
     "output_type": "execute_result"
    }
   ],
   "source": [
    "total_trf.query('calls_minutes!=0 or message_date!=0 or mb_used!=0').pivot_table(index = 'tariff', values = 'revenue', aggfunc = 'sum')"
   ]
  },
  {
   "cell_type": "code",
   "execution_count": 49,
   "metadata": {
    "scrolled": true
   },
   "outputs": [
    {
     "data": {
      "text/html": [
       "<div>\n",
       "<style scoped>\n",
       "    .dataframe tbody tr th:only-of-type {\n",
       "        vertical-align: middle;\n",
       "    }\n",
       "\n",
       "    .dataframe tbody tr th {\n",
       "        vertical-align: top;\n",
       "    }\n",
       "\n",
       "    .dataframe thead th {\n",
       "        text-align: right;\n",
       "    }\n",
       "</style>\n",
       "<table border=\"1\" class=\"dataframe\">\n",
       "  <thead>\n",
       "    <tr style=\"text-align: right;\">\n",
       "      <th></th>\n",
       "      <th>index</th>\n",
       "      <th>user_id</th>\n",
       "      <th>month</th>\n",
       "      <th>calls_qty</th>\n",
       "      <th>calls_minutes</th>\n",
       "      <th>message_date</th>\n",
       "      <th>mb_used</th>\n",
       "      <th>age</th>\n",
       "      <th>messages_included</th>\n",
       "      <th>mb_per_month_included</th>\n",
       "      <th>minutes_included</th>\n",
       "      <th>rub_monthly_fee</th>\n",
       "      <th>rub_per_gb</th>\n",
       "      <th>rub_per_message</th>\n",
       "      <th>rub_per_minute</th>\n",
       "      <th>revenue</th>\n",
       "    </tr>\n",
       "    <tr>\n",
       "      <th>tariff</th>\n",
       "      <th></th>\n",
       "      <th></th>\n",
       "      <th></th>\n",
       "      <th></th>\n",
       "      <th></th>\n",
       "      <th></th>\n",
       "      <th></th>\n",
       "      <th></th>\n",
       "      <th></th>\n",
       "      <th></th>\n",
       "      <th></th>\n",
       "      <th></th>\n",
       "      <th></th>\n",
       "      <th></th>\n",
       "      <th></th>\n",
       "      <th></th>\n",
       "    </tr>\n",
       "  </thead>\n",
       "  <tbody>\n",
       "    <tr>\n",
       "      <th>smart</th>\n",
       "      <td>3448906.0</td>\n",
       "      <td>7946686</td>\n",
       "      <td>53141</td>\n",
       "      <td>130315.0</td>\n",
       "      <td>931577.0</td>\n",
       "      <td>74413.0</td>\n",
       "      <td>36174861.0</td>\n",
       "      <td>297379</td>\n",
       "      <td>318650</td>\n",
       "      <td>97889280</td>\n",
       "      <td>3186500</td>\n",
       "      <td>3505150</td>\n",
       "      <td>1274600</td>\n",
       "      <td>19119</td>\n",
       "      <td>19119</td>\n",
       "      <td>2881351.0</td>\n",
       "    </tr>\n",
       "    <tr>\n",
       "      <th>ultra</th>\n",
       "      <td>1586645.0</td>\n",
       "      <td>3445525</td>\n",
       "      <td>22566</td>\n",
       "      <td>72292.0</td>\n",
       "      <td>518724.0</td>\n",
       "      <td>48623.0</td>\n",
       "      <td>19194598.0</td>\n",
       "      <td>126706</td>\n",
       "      <td>2721000</td>\n",
       "      <td>83589120</td>\n",
       "      <td>8163000</td>\n",
       "      <td>5305950</td>\n",
       "      <td>408150</td>\n",
       "      <td>2721</td>\n",
       "      <td>2721</td>\n",
       "      <td>1965900.0</td>\n",
       "    </tr>\n",
       "  </tbody>\n",
       "</table>\n",
       "</div>"
      ],
      "text/plain": [
       "            index  user_id  month  calls_qty  calls_minutes  message_date  \\\n",
       "tariff                                                                      \n",
       "smart   3448906.0  7946686  53141   130315.0       931577.0       74413.0   \n",
       "ultra   1586645.0  3445525  22566    72292.0       518724.0       48623.0   \n",
       "\n",
       "           mb_used     age  messages_included  mb_per_month_included  \\\n",
       "tariff                                                                 \n",
       "smart   36174861.0  297379             318650               97889280   \n",
       "ultra   19194598.0  126706            2721000               83589120   \n",
       "\n",
       "        minutes_included  rub_monthly_fee  rub_per_gb  rub_per_message  \\\n",
       "tariff                                                                   \n",
       "smart            3186500          3505150     1274600            19119   \n",
       "ultra            8163000          5305950      408150             2721   \n",
       "\n",
       "        rub_per_minute    revenue  \n",
       "tariff                             \n",
       "smart            19119  2881351.0  \n",
       "ultra             2721  1965900.0  "
      ]
     },
     "execution_count": 49,
     "metadata": {},
     "output_type": "execute_result"
    }
   ],
   "source": [
    "total_trf.groupby('tariff').sum()"
   ]
  },
  {
   "cell_type": "code",
   "execution_count": 50,
   "metadata": {
    "scrolled": true
   },
   "outputs": [
    {
     "data": {
      "text/html": [
       "<div>\n",
       "<style scoped>\n",
       "    .dataframe tbody tr th:only-of-type {\n",
       "        vertical-align: middle;\n",
       "    }\n",
       "\n",
       "    .dataframe tbody tr th {\n",
       "        vertical-align: top;\n",
       "    }\n",
       "\n",
       "    .dataframe thead th {\n",
       "        text-align: right;\n",
       "    }\n",
       "</style>\n",
       "<table border=\"1\" class=\"dataframe\">\n",
       "  <thead>\n",
       "    <tr style=\"text-align: right;\">\n",
       "      <th></th>\n",
       "      <th>user_id</th>\n",
       "      <th>month</th>\n",
       "      <th>revenue</th>\n",
       "    </tr>\n",
       "  </thead>\n",
       "  <tbody>\n",
       "    <tr>\n",
       "      <th>1479</th>\n",
       "      <td>1231</td>\n",
       "      <td>10</td>\n",
       "      <td>150.0</td>\n",
       "    </tr>\n",
       "    <tr>\n",
       "      <th>1481</th>\n",
       "      <td>1231</td>\n",
       "      <td>12</td>\n",
       "      <td>300.0</td>\n",
       "    </tr>\n",
       "    <tr>\n",
       "      <th>1477</th>\n",
       "      <td>1231</td>\n",
       "      <td>8</td>\n",
       "      <td>300.0</td>\n",
       "    </tr>\n",
       "    <tr>\n",
       "      <th>3150</th>\n",
       "      <td>1489</td>\n",
       "      <td>9</td>\n",
       "      <td>400.0</td>\n",
       "    </tr>\n",
       "    <tr>\n",
       "      <th>3153</th>\n",
       "      <td>1489</td>\n",
       "      <td>12</td>\n",
       "      <td>400.0</td>\n",
       "    </tr>\n",
       "    <tr>\n",
       "      <th>...</th>\n",
       "      <td>...</td>\n",
       "      <td>...</td>\n",
       "      <td>...</td>\n",
       "    </tr>\n",
       "    <tr>\n",
       "      <th>1818</th>\n",
       "      <td>1286</td>\n",
       "      <td>12</td>\n",
       "      <td>5321.0</td>\n",
       "    </tr>\n",
       "    <tr>\n",
       "      <th>1647</th>\n",
       "      <td>1261</td>\n",
       "      <td>12</td>\n",
       "      <td>5672.0</td>\n",
       "    </tr>\n",
       "    <tr>\n",
       "      <th>3140</th>\n",
       "      <td>1486</td>\n",
       "      <td>11</td>\n",
       "      <td>5680.0</td>\n",
       "    </tr>\n",
       "    <tr>\n",
       "      <th>260</th>\n",
       "      <td>1042</td>\n",
       "      <td>12</td>\n",
       "      <td>5709.0</td>\n",
       "    </tr>\n",
       "    <tr>\n",
       "      <th>3141</th>\n",
       "      <td>1486</td>\n",
       "      <td>12</td>\n",
       "      <td>6770.0</td>\n",
       "    </tr>\n",
       "  </tbody>\n",
       "</table>\n",
       "<p>3179 rows × 3 columns</p>\n",
       "</div>"
      ],
      "text/plain": [
       "      user_id  month  revenue\n",
       "1479     1231     10    150.0\n",
       "1481     1231     12    300.0\n",
       "1477     1231      8    300.0\n",
       "3150     1489      9    400.0\n",
       "3153     1489     12    400.0\n",
       "...       ...    ...      ...\n",
       "1818     1286     12   5321.0\n",
       "1647     1261     12   5672.0\n",
       "3140     1486     11   5680.0\n",
       "260      1042     12   5709.0\n",
       "3141     1486     12   6770.0\n",
       "\n",
       "[3179 rows x 3 columns]"
      ]
     },
     "execution_count": 50,
     "metadata": {},
     "output_type": "execute_result"
    }
   ],
   "source": [
    "total_trf.pivot_table(index = ['user_id', 'month'], values = 'revenue', aggfunc = 'sum').reset_index().sort_values(by = 'revenue',ascending = True).query('revenue!=0')"
   ]
  },
  {
   "cell_type": "code",
   "execution_count": 51,
   "metadata": {},
   "outputs": [
    {
     "data": {
      "text/html": [
       "<div>\n",
       "<style scoped>\n",
       "    .dataframe tbody tr th:only-of-type {\n",
       "        vertical-align: middle;\n",
       "    }\n",
       "\n",
       "    .dataframe tbody tr th {\n",
       "        vertical-align: top;\n",
       "    }\n",
       "\n",
       "    .dataframe thead th {\n",
       "        text-align: right;\n",
       "    }\n",
       "</style>\n",
       "<table border=\"1\" class=\"dataframe\">\n",
       "  <thead>\n",
       "    <tr style=\"text-align: right;\">\n",
       "      <th></th>\n",
       "      <th>index</th>\n",
       "      <th>user_id</th>\n",
       "      <th>month</th>\n",
       "      <th>calls_qty</th>\n",
       "      <th>calls_minutes</th>\n",
       "      <th>message_date</th>\n",
       "      <th>mb_used</th>\n",
       "      <th>age</th>\n",
       "      <th>churn_date</th>\n",
       "      <th>city</th>\n",
       "      <th>...</th>\n",
       "      <th>tariff</th>\n",
       "      <th>messages_included</th>\n",
       "      <th>mb_per_month_included</th>\n",
       "      <th>minutes_included</th>\n",
       "      <th>rub_monthly_fee</th>\n",
       "      <th>rub_per_gb</th>\n",
       "      <th>rub_per_message</th>\n",
       "      <th>rub_per_minute</th>\n",
       "      <th>tariff_name</th>\n",
       "      <th>revenue</th>\n",
       "    </tr>\n",
       "  </thead>\n",
       "  <tbody>\n",
       "    <tr>\n",
       "      <th>4369</th>\n",
       "      <td>NaN</td>\n",
       "      <td>1231</td>\n",
       "      <td>5</td>\n",
       "      <td>0.0</td>\n",
       "      <td>0.0</td>\n",
       "      <td>55.0</td>\n",
       "      <td>0.0</td>\n",
       "      <td>63</td>\n",
       "      <td>NaT</td>\n",
       "      <td>Чебоксары</td>\n",
       "      <td>...</td>\n",
       "      <td>ultra</td>\n",
       "      <td>1000</td>\n",
       "      <td>30720</td>\n",
       "      <td>3000</td>\n",
       "      <td>1950</td>\n",
       "      <td>150</td>\n",
       "      <td>1</td>\n",
       "      <td>1</td>\n",
       "      <td>ultra</td>\n",
       "      <td>0.0</td>\n",
       "    </tr>\n",
       "    <tr>\n",
       "      <th>4370</th>\n",
       "      <td>NaN</td>\n",
       "      <td>1231</td>\n",
       "      <td>6</td>\n",
       "      <td>0.0</td>\n",
       "      <td>0.0</td>\n",
       "      <td>201.0</td>\n",
       "      <td>0.0</td>\n",
       "      <td>63</td>\n",
       "      <td>NaT</td>\n",
       "      <td>Чебоксары</td>\n",
       "      <td>...</td>\n",
       "      <td>ultra</td>\n",
       "      <td>1000</td>\n",
       "      <td>30720</td>\n",
       "      <td>3000</td>\n",
       "      <td>1950</td>\n",
       "      <td>150</td>\n",
       "      <td>1</td>\n",
       "      <td>1</td>\n",
       "      <td>ultra</td>\n",
       "      <td>0.0</td>\n",
       "    </tr>\n",
       "    <tr>\n",
       "      <th>4371</th>\n",
       "      <td>NaN</td>\n",
       "      <td>1231</td>\n",
       "      <td>7</td>\n",
       "      <td>0.0</td>\n",
       "      <td>0.0</td>\n",
       "      <td>211.0</td>\n",
       "      <td>0.0</td>\n",
       "      <td>63</td>\n",
       "      <td>NaT</td>\n",
       "      <td>Чебоксары</td>\n",
       "      <td>...</td>\n",
       "      <td>ultra</td>\n",
       "      <td>1000</td>\n",
       "      <td>30720</td>\n",
       "      <td>3000</td>\n",
       "      <td>1950</td>\n",
       "      <td>150</td>\n",
       "      <td>1</td>\n",
       "      <td>1</td>\n",
       "      <td>ultra</td>\n",
       "      <td>0.0</td>\n",
       "    </tr>\n",
       "    <tr>\n",
       "      <th>4372</th>\n",
       "      <td>NaN</td>\n",
       "      <td>1231</td>\n",
       "      <td>8</td>\n",
       "      <td>0.0</td>\n",
       "      <td>0.0</td>\n",
       "      <td>180.0</td>\n",
       "      <td>0.0</td>\n",
       "      <td>63</td>\n",
       "      <td>NaT</td>\n",
       "      <td>Чебоксары</td>\n",
       "      <td>...</td>\n",
       "      <td>ultra</td>\n",
       "      <td>1000</td>\n",
       "      <td>30720</td>\n",
       "      <td>3000</td>\n",
       "      <td>1950</td>\n",
       "      <td>150</td>\n",
       "      <td>1</td>\n",
       "      <td>1</td>\n",
       "      <td>ultra</td>\n",
       "      <td>0.0</td>\n",
       "    </tr>\n",
       "    <tr>\n",
       "      <th>4373</th>\n",
       "      <td>NaN</td>\n",
       "      <td>1231</td>\n",
       "      <td>9</td>\n",
       "      <td>0.0</td>\n",
       "      <td>0.0</td>\n",
       "      <td>188.0</td>\n",
       "      <td>0.0</td>\n",
       "      <td>63</td>\n",
       "      <td>NaT</td>\n",
       "      <td>Чебоксары</td>\n",
       "      <td>...</td>\n",
       "      <td>ultra</td>\n",
       "      <td>1000</td>\n",
       "      <td>30720</td>\n",
       "      <td>3000</td>\n",
       "      <td>1950</td>\n",
       "      <td>150</td>\n",
       "      <td>1</td>\n",
       "      <td>1</td>\n",
       "      <td>ultra</td>\n",
       "      <td>0.0</td>\n",
       "    </tr>\n",
       "    <tr>\n",
       "      <th>4374</th>\n",
       "      <td>NaN</td>\n",
       "      <td>1231</td>\n",
       "      <td>10</td>\n",
       "      <td>0.0</td>\n",
       "      <td>0.0</td>\n",
       "      <td>185.0</td>\n",
       "      <td>0.0</td>\n",
       "      <td>63</td>\n",
       "      <td>NaT</td>\n",
       "      <td>Чебоксары</td>\n",
       "      <td>...</td>\n",
       "      <td>ultra</td>\n",
       "      <td>1000</td>\n",
       "      <td>30720</td>\n",
       "      <td>3000</td>\n",
       "      <td>1950</td>\n",
       "      <td>150</td>\n",
       "      <td>1</td>\n",
       "      <td>1</td>\n",
       "      <td>ultra</td>\n",
       "      <td>0.0</td>\n",
       "    </tr>\n",
       "    <tr>\n",
       "      <th>4375</th>\n",
       "      <td>NaN</td>\n",
       "      <td>1231</td>\n",
       "      <td>11</td>\n",
       "      <td>0.0</td>\n",
       "      <td>0.0</td>\n",
       "      <td>173.0</td>\n",
       "      <td>0.0</td>\n",
       "      <td>63</td>\n",
       "      <td>NaT</td>\n",
       "      <td>Чебоксары</td>\n",
       "      <td>...</td>\n",
       "      <td>ultra</td>\n",
       "      <td>1000</td>\n",
       "      <td>30720</td>\n",
       "      <td>3000</td>\n",
       "      <td>1950</td>\n",
       "      <td>150</td>\n",
       "      <td>1</td>\n",
       "      <td>1</td>\n",
       "      <td>ultra</td>\n",
       "      <td>0.0</td>\n",
       "    </tr>\n",
       "    <tr>\n",
       "      <th>4376</th>\n",
       "      <td>NaN</td>\n",
       "      <td>1231</td>\n",
       "      <td>12</td>\n",
       "      <td>0.0</td>\n",
       "      <td>0.0</td>\n",
       "      <td>191.0</td>\n",
       "      <td>0.0</td>\n",
       "      <td>63</td>\n",
       "      <td>NaT</td>\n",
       "      <td>Чебоксары</td>\n",
       "      <td>...</td>\n",
       "      <td>ultra</td>\n",
       "      <td>1000</td>\n",
       "      <td>30720</td>\n",
       "      <td>3000</td>\n",
       "      <td>1950</td>\n",
       "      <td>150</td>\n",
       "      <td>1</td>\n",
       "      <td>1</td>\n",
       "      <td>ultra</td>\n",
       "      <td>0.0</td>\n",
       "    </tr>\n",
       "    <tr>\n",
       "      <th>7365</th>\n",
       "      <td>NaN</td>\n",
       "      <td>1231</td>\n",
       "      <td>5</td>\n",
       "      <td>0.0</td>\n",
       "      <td>0.0</td>\n",
       "      <td>0.0</td>\n",
       "      <td>10868.0</td>\n",
       "      <td>63</td>\n",
       "      <td>NaT</td>\n",
       "      <td>Чебоксары</td>\n",
       "      <td>...</td>\n",
       "      <td>ultra</td>\n",
       "      <td>1000</td>\n",
       "      <td>30720</td>\n",
       "      <td>3000</td>\n",
       "      <td>1950</td>\n",
       "      <td>150</td>\n",
       "      <td>1</td>\n",
       "      <td>1</td>\n",
       "      <td>ultra</td>\n",
       "      <td>0.0</td>\n",
       "    </tr>\n",
       "    <tr>\n",
       "      <th>7366</th>\n",
       "      <td>NaN</td>\n",
       "      <td>1231</td>\n",
       "      <td>6</td>\n",
       "      <td>0.0</td>\n",
       "      <td>0.0</td>\n",
       "      <td>0.0</td>\n",
       "      <td>27850.0</td>\n",
       "      <td>63</td>\n",
       "      <td>NaT</td>\n",
       "      <td>Чебоксары</td>\n",
       "      <td>...</td>\n",
       "      <td>ultra</td>\n",
       "      <td>1000</td>\n",
       "      <td>30720</td>\n",
       "      <td>3000</td>\n",
       "      <td>1950</td>\n",
       "      <td>150</td>\n",
       "      <td>1</td>\n",
       "      <td>1</td>\n",
       "      <td>ultra</td>\n",
       "      <td>0.0</td>\n",
       "    </tr>\n",
       "    <tr>\n",
       "      <th>7367</th>\n",
       "      <td>NaN</td>\n",
       "      <td>1231</td>\n",
       "      <td>7</td>\n",
       "      <td>0.0</td>\n",
       "      <td>0.0</td>\n",
       "      <td>0.0</td>\n",
       "      <td>27718.0</td>\n",
       "      <td>63</td>\n",
       "      <td>NaT</td>\n",
       "      <td>Чебоксары</td>\n",
       "      <td>...</td>\n",
       "      <td>ultra</td>\n",
       "      <td>1000</td>\n",
       "      <td>30720</td>\n",
       "      <td>3000</td>\n",
       "      <td>1950</td>\n",
       "      <td>150</td>\n",
       "      <td>1</td>\n",
       "      <td>1</td>\n",
       "      <td>ultra</td>\n",
       "      <td>0.0</td>\n",
       "    </tr>\n",
       "    <tr>\n",
       "      <th>7368</th>\n",
       "      <td>NaN</td>\n",
       "      <td>1231</td>\n",
       "      <td>8</td>\n",
       "      <td>0.0</td>\n",
       "      <td>0.0</td>\n",
       "      <td>0.0</td>\n",
       "      <td>32075.0</td>\n",
       "      <td>63</td>\n",
       "      <td>NaT</td>\n",
       "      <td>Чебоксары</td>\n",
       "      <td>...</td>\n",
       "      <td>ultra</td>\n",
       "      <td>1000</td>\n",
       "      <td>30720</td>\n",
       "      <td>3000</td>\n",
       "      <td>1950</td>\n",
       "      <td>150</td>\n",
       "      <td>1</td>\n",
       "      <td>1</td>\n",
       "      <td>ultra</td>\n",
       "      <td>300.0</td>\n",
       "    </tr>\n",
       "    <tr>\n",
       "      <th>7369</th>\n",
       "      <td>NaN</td>\n",
       "      <td>1231</td>\n",
       "      <td>9</td>\n",
       "      <td>0.0</td>\n",
       "      <td>0.0</td>\n",
       "      <td>0.0</td>\n",
       "      <td>33220.0</td>\n",
       "      <td>63</td>\n",
       "      <td>NaT</td>\n",
       "      <td>Чебоксары</td>\n",
       "      <td>...</td>\n",
       "      <td>ultra</td>\n",
       "      <td>1000</td>\n",
       "      <td>30720</td>\n",
       "      <td>3000</td>\n",
       "      <td>1950</td>\n",
       "      <td>150</td>\n",
       "      <td>1</td>\n",
       "      <td>1</td>\n",
       "      <td>ultra</td>\n",
       "      <td>450.0</td>\n",
       "    </tr>\n",
       "    <tr>\n",
       "      <th>7370</th>\n",
       "      <td>NaN</td>\n",
       "      <td>1231</td>\n",
       "      <td>10</td>\n",
       "      <td>0.0</td>\n",
       "      <td>0.0</td>\n",
       "      <td>0.0</td>\n",
       "      <td>31060.0</td>\n",
       "      <td>63</td>\n",
       "      <td>NaT</td>\n",
       "      <td>Чебоксары</td>\n",
       "      <td>...</td>\n",
       "      <td>ultra</td>\n",
       "      <td>1000</td>\n",
       "      <td>30720</td>\n",
       "      <td>3000</td>\n",
       "      <td>1950</td>\n",
       "      <td>150</td>\n",
       "      <td>1</td>\n",
       "      <td>1</td>\n",
       "      <td>ultra</td>\n",
       "      <td>150.0</td>\n",
       "    </tr>\n",
       "    <tr>\n",
       "      <th>7371</th>\n",
       "      <td>NaN</td>\n",
       "      <td>1231</td>\n",
       "      <td>11</td>\n",
       "      <td>0.0</td>\n",
       "      <td>0.0</td>\n",
       "      <td>0.0</td>\n",
       "      <td>27459.0</td>\n",
       "      <td>63</td>\n",
       "      <td>NaT</td>\n",
       "      <td>Чебоксары</td>\n",
       "      <td>...</td>\n",
       "      <td>ultra</td>\n",
       "      <td>1000</td>\n",
       "      <td>30720</td>\n",
       "      <td>3000</td>\n",
       "      <td>1950</td>\n",
       "      <td>150</td>\n",
       "      <td>1</td>\n",
       "      <td>1</td>\n",
       "      <td>ultra</td>\n",
       "      <td>0.0</td>\n",
       "    </tr>\n",
       "    <tr>\n",
       "      <th>7372</th>\n",
       "      <td>NaN</td>\n",
       "      <td>1231</td>\n",
       "      <td>12</td>\n",
       "      <td>0.0</td>\n",
       "      <td>0.0</td>\n",
       "      <td>0.0</td>\n",
       "      <td>32481.0</td>\n",
       "      <td>63</td>\n",
       "      <td>NaT</td>\n",
       "      <td>Чебоксары</td>\n",
       "      <td>...</td>\n",
       "      <td>ultra</td>\n",
       "      <td>1000</td>\n",
       "      <td>30720</td>\n",
       "      <td>3000</td>\n",
       "      <td>1950</td>\n",
       "      <td>150</td>\n",
       "      <td>1</td>\n",
       "      <td>1</td>\n",
       "      <td>ultra</td>\n",
       "      <td>300.0</td>\n",
       "    </tr>\n",
       "  </tbody>\n",
       "</table>\n",
       "<p>16 rows × 23 columns</p>\n",
       "</div>"
      ],
      "text/plain": [
       "      index  user_id  month  calls_qty  calls_minutes  message_date  mb_used  \\\n",
       "4369    NaN     1231      5        0.0            0.0          55.0      0.0   \n",
       "4370    NaN     1231      6        0.0            0.0         201.0      0.0   \n",
       "4371    NaN     1231      7        0.0            0.0         211.0      0.0   \n",
       "4372    NaN     1231      8        0.0            0.0         180.0      0.0   \n",
       "4373    NaN     1231      9        0.0            0.0         188.0      0.0   \n",
       "4374    NaN     1231     10        0.0            0.0         185.0      0.0   \n",
       "4375    NaN     1231     11        0.0            0.0         173.0      0.0   \n",
       "4376    NaN     1231     12        0.0            0.0         191.0      0.0   \n",
       "7365    NaN     1231      5        0.0            0.0           0.0  10868.0   \n",
       "7366    NaN     1231      6        0.0            0.0           0.0  27850.0   \n",
       "7367    NaN     1231      7        0.0            0.0           0.0  27718.0   \n",
       "7368    NaN     1231      8        0.0            0.0           0.0  32075.0   \n",
       "7369    NaN     1231      9        0.0            0.0           0.0  33220.0   \n",
       "7370    NaN     1231     10        0.0            0.0           0.0  31060.0   \n",
       "7371    NaN     1231     11        0.0            0.0           0.0  27459.0   \n",
       "7372    NaN     1231     12        0.0            0.0           0.0  32481.0   \n",
       "\n",
       "      age churn_date       city  ... tariff messages_included  \\\n",
       "4369   63        NaT  Чебоксары  ...  ultra              1000   \n",
       "4370   63        NaT  Чебоксары  ...  ultra              1000   \n",
       "4371   63        NaT  Чебоксары  ...  ultra              1000   \n",
       "4372   63        NaT  Чебоксары  ...  ultra              1000   \n",
       "4373   63        NaT  Чебоксары  ...  ultra              1000   \n",
       "4374   63        NaT  Чебоксары  ...  ultra              1000   \n",
       "4375   63        NaT  Чебоксары  ...  ultra              1000   \n",
       "4376   63        NaT  Чебоксары  ...  ultra              1000   \n",
       "7365   63        NaT  Чебоксары  ...  ultra              1000   \n",
       "7366   63        NaT  Чебоксары  ...  ultra              1000   \n",
       "7367   63        NaT  Чебоксары  ...  ultra              1000   \n",
       "7368   63        NaT  Чебоксары  ...  ultra              1000   \n",
       "7369   63        NaT  Чебоксары  ...  ultra              1000   \n",
       "7370   63        NaT  Чебоксары  ...  ultra              1000   \n",
       "7371   63        NaT  Чебоксары  ...  ultra              1000   \n",
       "7372   63        NaT  Чебоксары  ...  ultra              1000   \n",
       "\n",
       "     mb_per_month_included minutes_included  rub_monthly_fee  rub_per_gb  \\\n",
       "4369                 30720             3000             1950         150   \n",
       "4370                 30720             3000             1950         150   \n",
       "4371                 30720             3000             1950         150   \n",
       "4372                 30720             3000             1950         150   \n",
       "4373                 30720             3000             1950         150   \n",
       "4374                 30720             3000             1950         150   \n",
       "4375                 30720             3000             1950         150   \n",
       "4376                 30720             3000             1950         150   \n",
       "7365                 30720             3000             1950         150   \n",
       "7366                 30720             3000             1950         150   \n",
       "7367                 30720             3000             1950         150   \n",
       "7368                 30720             3000             1950         150   \n",
       "7369                 30720             3000             1950         150   \n",
       "7370                 30720             3000             1950         150   \n",
       "7371                 30720             3000             1950         150   \n",
       "7372                 30720             3000             1950         150   \n",
       "\n",
       "      rub_per_message  rub_per_minute  tariff_name  revenue  \n",
       "4369                1               1        ultra      0.0  \n",
       "4370                1               1        ultra      0.0  \n",
       "4371                1               1        ultra      0.0  \n",
       "4372                1               1        ultra      0.0  \n",
       "4373                1               1        ultra      0.0  \n",
       "4374                1               1        ultra      0.0  \n",
       "4375                1               1        ultra      0.0  \n",
       "4376                1               1        ultra      0.0  \n",
       "7365                1               1        ultra      0.0  \n",
       "7366                1               1        ultra      0.0  \n",
       "7367                1               1        ultra      0.0  \n",
       "7368                1               1        ultra    300.0  \n",
       "7369                1               1        ultra    450.0  \n",
       "7370                1               1        ultra    150.0  \n",
       "7371                1               1        ultra      0.0  \n",
       "7372                1               1        ultra    300.0  \n",
       "\n",
       "[16 rows x 23 columns]"
      ]
     },
     "execution_count": 51,
     "metadata": {},
     "output_type": "execute_result"
    }
   ],
   "source": [
    "total_trf.query('user_id==1231')"
   ]
  },
  {
   "cell_type": "markdown",
   "metadata": {},
   "source": [
    "## Анализ данных"
   ]
  },
  {
   "cell_type": "code",
   "execution_count": 52,
   "metadata": {},
   "outputs": [
    {
     "data": {
      "text/plain": [
       "count    2221.000000\n",
       "mean      419.440342\n",
       "std       188.992403\n",
       "min         2.000000\n",
       "25%       285.000000\n",
       "50%       423.000000\n",
       "75%       546.000000\n",
       "max      1435.000000\n",
       "Name: calls_minutes, dtype: float64"
      ]
     },
     "execution_count": 52,
     "metadata": {},
     "output_type": "execute_result"
    }
   ],
   "source": [
    "total_trf.query('calls_minutes!=0 and tariff==\"smart\"')['calls_minutes'].describe()"
   ]
  },
  {
   "cell_type": "code",
   "execution_count": 53,
   "metadata": {},
   "outputs": [
    {
     "data": {
      "image/png": "[encoded data removed]",
      "text/plain": [
       "<Figure size 432x288 with 1 Axes>"
      ]
     },
     "metadata": {
      "needs_background": "light"
     },
     "output_type": "display_data"
    }
   ],
   "source": [
    "import matplotlib.pyplot as plt\n",
    "total_trf.query('calls_minutes!=0 and tariff==\"smart\"').boxplot(column = 'calls_minutes');\n",
    "plt.title('Голосовые вызовы на тарифе Смарт', fontsize = 14);"
   ]
  },
  {
   "cell_type": "markdown",
   "metadata": {},
   "source": [
    "Изучим распределение месячных ненулевых объемов минут у абонентов тарифа \"Смарт\". 2 квартиль - от 285 до 423 минуты в месяц, медиана 423 минуты. Нормальные значения - до 1000 минут в месяц, выше уже идут редкие значения. Можно сделать вывод о том, что в среднем пользователям требуется от 285 до 423 минуты в месяц. Выше 1400 минут - значение, похожее на вброс. Среднее значение - 419 минут, очень близко к медиане, следовательно аномально больших значений не так много."
   ]
  },
  {
   "cell_type": "code",
   "execution_count": 54,
   "metadata": {},
   "outputs": [
    {
     "data": {
      "text/plain": [
       "35718.128533936935"
      ]
     },
     "execution_count": 54,
     "metadata": {},
     "output_type": "execute_result"
    }
   ],
   "source": [
    "import numpy as np\n",
    "smart_variance_calls_smart = np.var(total_trf.query('calls_minutes!=0 and tariff==\"smart\"')['calls_minutes'], ddof=1)\n",
    "smart_variance_calls_smart"
   ]
  },
  {
   "cell_type": "markdown",
   "metadata": {},
   "source": [
    "Диcперсия равна 35 718 минут в квадрате."
   ]
  },
  {
   "cell_type": "code",
   "execution_count": 55,
   "metadata": {},
   "outputs": [
    {
     "data": {
      "text/plain": [
       "188.9924033762652"
      ]
     },
     "execution_count": 55,
     "metadata": {},
     "output_type": "execute_result"
    }
   ],
   "source": [
    "standard_deviation_calls_smart = np.std(total_trf.query('calls_minutes!=0 and tariff==\"smart\"')['calls_minutes'], ddof=1)\n",
    "standard_deviation_calls_smart"
   ]
  },
  {
   "cell_type": "code",
   "execution_count": null,
   "metadata": {},
   "outputs": [],
   "source": []
  },
  {
   "cell_type": "markdown",
   "metadata": {},
   "source": [
    "Стандартное отклонение тарифа Смарт составляет 189 минут."
   ]
  },
  {
   "cell_type": "code",
   "execution_count": 56,
   "metadata": {},
   "outputs": [
    {
     "data": {
      "text/plain": [
       "985.9772101287956"
      ]
     },
     "execution_count": 56,
     "metadata": {},
     "output_type": "execute_result"
    }
   ],
   "source": [
    "threestd_calls_smart = standard_deviation_calls_smart*3 + 419\n",
    "threestd_calls_smart"
   ]
  },
  {
   "cell_type": "markdown",
   "metadata": {},
   "source": [
    "Правило трех сигм дает нам 986 минут. Чтобы удостовериться, что 99% значений попадают в диапазон от 1 до 986, построим гистограмму и посмотрим, похоже ли распределение на нормальное."
   ]
  },
  {
   "cell_type": "code",
   "execution_count": 57,
   "metadata": {},
   "outputs": [
    {
     "data": {
      "image/png": "[encoded data removed]",
      "text/plain": [
       "<Figure size 432x288 with 1 Axes>"
      ]
     },
     "metadata": {
      "needs_background": "light"
     },
     "output_type": "display_data"
    }
   ],
   "source": [
    "total_trf.query('calls_minutes!=0 and tariff==\"smart\"')['calls_minutes'].hist(bins = 100, range = (0,1000))\n",
    "plt.title('Распределение голосового трафика на тарифе Смарт', fontsize = 14);"
   ]
  },
  {
   "cell_type": "markdown",
   "metadata": {},
   "source": [
    "Распределение похоже на нормальное, датасет скошен влево. Из графика видно, что месячный расход голосового трафика для тарифа \"Смарт\" основной частью находится в зоне меньше 600 минут. Но до 800 гистограмма непрерывна, а после 900 идут аномалии. Для проверки гипотез в выборку предлагается включить данные с голосовым трафиком от 1 до 900 минут."
   ]
  },
  {
   "cell_type": "code",
   "execution_count": 58,
   "metadata": {
    "scrolled": true
   },
   "outputs": [
    {
     "data": {
      "text/plain": [
       "count     947.000000\n",
       "mean      547.755016\n",
       "std       305.513385\n",
       "min         1.000000\n",
       "25%       311.000000\n",
       "50%       529.000000\n",
       "75%       758.000000\n",
       "max      1673.000000\n",
       "Name: calls_minutes, dtype: float64"
      ]
     },
     "execution_count": 58,
     "metadata": {},
     "output_type": "execute_result"
    }
   ],
   "source": [
    "total_trf.query('calls_minutes!=0 and tariff==\"ultra\"')['calls_minutes'].describe()"
   ]
  },
  {
   "cell_type": "code",
   "execution_count": 59,
   "metadata": {
    "scrolled": true
   },
   "outputs": [
    {
     "data": {
      "image/png": "[encoded data removed]",
      "text/plain": [
       "<Figure size 432x288 with 1 Axes>"
      ]
     },
     "metadata": {
      "needs_background": "light"
     },
     "output_type": "display_data"
    }
   ],
   "source": [
    "total_trf.query('calls_minutes!=0 and tariff==\"ultra\"').boxplot(column = 'calls_minutes');\n",
    "plt.title('Голосовые вызовы на тарифе Ультра', fontsize = 14);"
   ]
  },
  {
   "cell_type": "code",
   "execution_count": 60,
   "metadata": {},
   "outputs": [
    {
     "data": {
      "text/plain": [
       "93338.4282914109"
      ]
     },
     "execution_count": 60,
     "metadata": {},
     "output_type": "execute_result"
    }
   ],
   "source": [
    "smart_variance = np.var(total_trf.query('calls_minutes!=0 and tariff==\"ultra\"')['calls_minutes'], ddof=1)\n",
    "smart_variance"
   ]
  },
  {
   "cell_type": "code",
   "execution_count": 61,
   "metadata": {},
   "outputs": [
    {
     "data": {
      "text/plain": [
       "305.513384799113"
      ]
     },
     "execution_count": 61,
     "metadata": {},
     "output_type": "execute_result"
    }
   ],
   "source": [
    "standard_deviation = np.std(total_trf.query('calls_minutes!=0 and tariff==\"ultra\"')['calls_minutes'], ddof=1)\n",
    "standard_deviation"
   ]
  },
  {
   "cell_type": "code",
   "execution_count": 62,
   "metadata": {
    "scrolled": true
   },
   "outputs": [
    {
     "data": {
      "image/png": "[encoded data removed]",
      "text/plain": [
       "<Figure size 432x288 with 1 Axes>"
      ]
     },
     "metadata": {
      "needs_background": "light"
     },
     "output_type": "display_data"
    }
   ],
   "source": [
    "total_trf.query('calls_minutes!=0 and tariff==\"ultra\"')['calls_minutes'].hist(bins = 70, range = (1,1300))\n",
    "plt.title('Распределение голосового трафика на тарифе Ультра', fontsize = 14);"
   ]
  },
  {
   "cell_type": "markdown",
   "metadata": {},
   "source": [
    "Количественно абонентов на тарифе \"Ультра\" с ненулевым голосовым трафиком в выборке меньше почти в 2 раза (947 против 2221 на \"Смарте\"). Медианное и среднее значения находятся рядом - 547 и 529 минут, что говорит об отсутствии множества искажающих вбросов. Абоненты более дорогого тарифа \"Ультра\" меньше обращают внимание на длительность разговоров, т.к. бесплатных минут включено 3000 против 500 минут на \"Смарте\". Распределение на гистограмме намного меньше похоже на нормальное, чем у тарифа \"Смарт\". Визуально по количеству минут абоненты делятся на 3 группы: использующие от 1 до 200 минут в месяц, затем от 210 до 630 минут и от 630 до 900. До 1000 идут редкие значения."
   ]
  },
  {
   "cell_type": "code",
   "execution_count": 63,
   "metadata": {},
   "outputs": [
    {
     "data": {
      "text/plain": [
       "count    1922.000000\n",
       "mean       38.716441\n",
       "std        26.787949\n",
       "min         1.000000\n",
       "25%        17.000000\n",
       "50%        34.000000\n",
       "75%        55.000000\n",
       "max       143.000000\n",
       "Name: message_date, dtype: float64"
      ]
     },
     "execution_count": 63,
     "metadata": {},
     "output_type": "execute_result"
    }
   ],
   "source": [
    "total_trf.query('message_date!=0 and tariff==\"smart\"')['message_date'].describe()"
   ]
  },
  {
   "cell_type": "code",
   "execution_count": 64,
   "metadata": {},
   "outputs": [
    {
     "data": {
      "image/png": "[encoded data removed]",
      "text/plain": [
       "<Figure size 432x288 with 1 Axes>"
      ]
     },
     "metadata": {
      "needs_background": "light"
     },
     "output_type": "display_data"
    }
   ],
   "source": [
    "total_trf.query('message_date!=0 and tariff==\"smart\"').boxplot(column = 'message_date');\n",
    "plt.title('Сообщения на тарифе \"Смарт\"', fontsize = 14);"
   ]
  },
  {
   "cell_type": "code",
   "execution_count": 65,
   "metadata": {},
   "outputs": [
    {
     "data": {
      "text/plain": [
       "717.5942011753527"
      ]
     },
     "execution_count": 65,
     "metadata": {},
     "output_type": "execute_result"
    }
   ],
   "source": [
    "smart_variance_msg_smart = np.var(total_trf.query('message_date!=0 and tariff==\"smart\"')['message_date'], ddof=1)\n",
    "smart_variance_msg_smart"
   ]
  },
  {
   "cell_type": "code",
   "execution_count": 66,
   "metadata": {},
   "outputs": [
    {
     "data": {
      "text/plain": [
       "26.787948804926305"
      ]
     },
     "execution_count": 66,
     "metadata": {},
     "output_type": "execute_result"
    }
   ],
   "source": [
    "standard_deviation_msg_smart = np.std(total_trf.query('message_date!=0 and tariff==\"smart\"')['message_date'], ddof=1)\n",
    "standard_deviation_msg_smart"
   ]
  },
  {
   "cell_type": "code",
   "execution_count": 67,
   "metadata": {},
   "outputs": [
    {
     "data": {
      "image/png": "[encoded data removed]",
      "text/plain": [
       "<Figure size 432x288 with 1 Axes>"
      ]
     },
     "metadata": {
      "needs_background": "light"
     },
     "output_type": "display_data"
    }
   ],
   "source": [
    "total_trf.query('message_date!=0 and tariff==\"smart\"')['message_date'].hist(bins = 70, range = (0,150))\n",
    "plt.title('Распределение СМС на тарифе Смарт', fontsize = 14);"
   ]
  },
  {
   "cell_type": "markdown",
   "metadata": {},
   "source": [
    "Описание показывает, что в среднем пользователь тарифа \"Смарт\" отправляет 34-38 СМС (медиана и средняя). Стандартное отклонение - 26 сообщений. Второй квартиль находится в зоне от 17 до 34 сообщений в месяц. Гистограмма по форме напоминает распределение Пуассона, если не считать четырех больших пиков на диаграмме. Верхний ус боксплота - примерно до 110 сообщений в месяц, дальше начинаются редкие значения, которые можно не учитывать. В датасет для проверки гипотез о средней выручке предлагается включить срез со значениями до 110 сообщений."
   ]
  },
  {
   "cell_type": "code",
   "execution_count": 68,
   "metadata": {},
   "outputs": [
    {
     "data": {
      "text/plain": [
       "count    795.000000\n",
       "mean      61.161006\n",
       "std       45.931026\n",
       "min        1.000000\n",
       "25%       24.000000\n",
       "50%       51.000000\n",
       "75%       87.500000\n",
       "max      224.000000\n",
       "Name: message_date, dtype: float64"
      ]
     },
     "execution_count": 68,
     "metadata": {},
     "output_type": "execute_result"
    }
   ],
   "source": [
    "total_trf.query('message_date!=0 and tariff==\"ultra\"')['message_date'].describe()"
   ]
  },
  {
   "cell_type": "code",
   "execution_count": 69,
   "metadata": {},
   "outputs": [
    {
     "data": {
      "image/png": "[encoded data removed]",
      "text/plain": [
       "<Figure size 432x288 with 1 Axes>"
      ]
     },
     "metadata": {
      "needs_background": "light"
     },
     "output_type": "display_data"
    }
   ],
   "source": [
    "total_trf.query('message_date!=0 and tariff==\"smart\"').boxplot(column = 'message_date');\n",
    "plt.title('Сообщения на тарифе \"Ультра\"', fontsize = 14);"
   ]
  },
  {
   "cell_type": "code",
   "execution_count": 70,
   "metadata": {},
   "outputs": [
    {
     "data": {
      "text/plain": [
       "2109.659182865204"
      ]
     },
     "execution_count": 70,
     "metadata": {},
     "output_type": "execute_result"
    }
   ],
   "source": [
    "smart_variance_msg_ultra = np.var(total_trf.query('message_date!=0 and tariff==\"ultra\"')['message_date'], ddof=1)\n",
    "smart_variance_msg_ultra"
   ]
  },
  {
   "cell_type": "code",
   "execution_count": 71,
   "metadata": {},
   "outputs": [
    {
     "data": {
      "text/plain": [
       "45.931026364160466"
      ]
     },
     "execution_count": 71,
     "metadata": {},
     "output_type": "execute_result"
    }
   ],
   "source": [
    "standard_deviation_msg_ultra = np.std(total_trf.query('message_date!=0 and tariff==\"ultra\"')['message_date'], ddof=1)\n",
    "standard_deviation_msg_ultra"
   ]
  },
  {
   "cell_type": "code",
   "execution_count": 72,
   "metadata": {},
   "outputs": [
    {
     "data": {
      "image/png": "[encoded data removed]",
      "text/plain": [
       "<Figure size 432x288 with 1 Axes>"
      ]
     },
     "metadata": {
      "needs_background": "light"
     },
     "output_type": "display_data"
    }
   ],
   "source": [
    "total_trf.query('message_date!=0 and tariff==\"ultra\"')['message_date'].hist(bins = 50, range = (0,200))\n",
    "plt.title('Распределение СМС на тарифе Ультра', fontsize = 14);"
   ]
  },
  {
   "cell_type": "markdown",
   "metadata": {},
   "source": [
    "Показатели использования абонентами сообщений на тарифе \"Ультра\" аналогичны показателям голосовых вызовов тарифа и имеют те же отличия от поведения абонентов тарифа \"Смарт\". Медиана - 51 сообщение в месяц, что превышает показатель 38 смс в месяц на тарифе Смарт. Среднее значение - 61, что говорит о наличии аномально высоких значений в датасете. Второй квартиль - от 24 до 51 сообщения в месяц. Верхний ус боксплота примерно заканчивается на значении 110. Но значения до 180 сообщений можно использовать в срезе для проверки гипотез. "
   ]
  },
  {
   "cell_type": "code",
   "execution_count": 73,
   "metadata": {},
   "outputs": [
    {
     "data": {
      "text/plain": [
       "count     2227.000000\n",
       "mean     16243.763359\n",
       "std       5860.041941\n",
       "min        202.000000\n",
       "25%      12677.000000\n",
       "50%      16533.000000\n",
       "75%      20068.000000\n",
       "max      38610.000000\n",
       "Name: mb_used, dtype: float64"
      ]
     },
     "execution_count": 73,
     "metadata": {},
     "output_type": "execute_result"
    }
   ],
   "source": [
    "total_trf.query('mb_used!=0 and tariff==\"smart\"')['mb_used'].describe()"
   ]
  },
  {
   "cell_type": "code",
   "execution_count": 74,
   "metadata": {},
   "outputs": [
    {
     "data": {
      "image/png": "[encoded data removed]",
      "text/plain": [
       "<Figure size 432x288 with 1 Axes>"
      ]
     },
     "metadata": {
      "needs_background": "light"
     },
     "output_type": "display_data"
    }
   ],
   "source": [
    "total_trf.query('mb_used!=0 and tariff==\"smart\"').boxplot(column = 'mb_used');\n",
    "plt.title('Интернет-трафик тарифа \"Смарт\"', fontsize = 14);"
   ]
  },
  {
   "cell_type": "code",
   "execution_count": 75,
   "metadata": {},
   "outputs": [
    {
     "data": {
      "text/plain": [
       "34340091.553589545"
      ]
     },
     "execution_count": 75,
     "metadata": {},
     "output_type": "execute_result"
    }
   ],
   "source": [
    "smart_variance_gb_smart = np.var(total_trf.query('mb_used!=0 and tariff==\"smart\"')['mb_used'], ddof=1)\n",
    "smart_variance_gb_smart"
   ]
  },
  {
   "cell_type": "code",
   "execution_count": 76,
   "metadata": {},
   "outputs": [
    {
     "data": {
      "text/plain": [
       "5860.041941282464"
      ]
     },
     "execution_count": 76,
     "metadata": {},
     "output_type": "execute_result"
    }
   ],
   "source": [
    "standard_deviation_gb_smart = np.std(total_trf.query('mb_used!=0 and tariff==\"smart\"')['mb_used'], ddof=1)\n",
    "standard_deviation_gb_smart"
   ]
  },
  {
   "cell_type": "code",
   "execution_count": 77,
   "metadata": {},
   "outputs": [
    {
     "data": {
      "image/png": "[encoded data removed]",
      "text/plain": [
       "<Figure size 432x288 with 1 Axes>"
      ]
     },
     "metadata": {
      "needs_background": "light"
     },
     "output_type": "display_data"
    }
   ],
   "source": [
    "total_trf.query('mb_used!=0 and tariff==\"smart\"')['mb_used'].hist(bins = 100, range = (300,40000))\n",
    "plt.title('Распределение потребленного трафика тарифа Смарт', fontsize = 14);"
   ]
  },
  {
   "cell_type": "markdown",
   "metadata": {},
   "source": [
    "Трафик тарифа Смарт распределен достаточно равномерно, медианное значение - 16,5 ГБ в месяц, среднее - 16,2 ГБ. Второй квартиль - от 12,6 ГБ до 16,5 ГБ. Верхние аномалии начинаются от 30 ГБ, нижней границей можно считать 0,2 ГБ. Стандартное отклонение - 5,8 ГБ. Гистограмма очень напоминает нормальное распределение, но чуть скошена влево. Для анализа и проверки гипотез целесообразно брать срез от 200 МБ до 30 ГБ, остальные значения исключить из выборки, их плотность невысока."
   ]
  },
  {
   "cell_type": "code",
   "execution_count": 78,
   "metadata": {},
   "outputs": [
    {
     "data": {
      "text/plain": [
       "count      974.000000\n",
       "mean     19706.979466\n",
       "std       9937.127298\n",
       "min        366.000000\n",
       "25%      12073.750000\n",
       "50%      19427.500000\n",
       "75%      26936.250000\n",
       "max      49789.000000\n",
       "Name: mb_used, dtype: float64"
      ]
     },
     "execution_count": 78,
     "metadata": {},
     "output_type": "execute_result"
    }
   ],
   "source": [
    "total_trf.query('mb_used!=0 and tariff==\"ultra\"')['mb_used'].describe()"
   ]
  },
  {
   "cell_type": "code",
   "execution_count": 79,
   "metadata": {},
   "outputs": [
    {
     "data": {
      "image/png": "[encoded data removed]",
      "text/plain": [
       "<Figure size 432x288 with 1 Axes>"
      ]
     },
     "metadata": {
      "needs_background": "light"
     },
     "output_type": "display_data"
    }
   ],
   "source": [
    "total_trf.query('mb_used!=0 and tariff==\"ultra\"').boxplot(column = 'mb_used');\n",
    "plt.title('Интернет-трафик тарифа \"Ультра\"', fontsize = 14);"
   ]
  },
  {
   "cell_type": "code",
   "execution_count": 80,
   "metadata": {},
   "outputs": [
    {
     "data": {
      "text/plain": [
       "98746498.9327742"
      ]
     },
     "execution_count": 80,
     "metadata": {},
     "output_type": "execute_result"
    }
   ],
   "source": [
    "smart_variance_gb_smart = np.var(total_trf.query('mb_used!=0 and tariff==\"ultra\"')['mb_used'], ddof=1)\n",
    "smart_variance_gb_smart"
   ]
  },
  {
   "cell_type": "code",
   "execution_count": 81,
   "metadata": {},
   "outputs": [
    {
     "data": {
      "text/plain": [
       "9937.127297804644"
      ]
     },
     "execution_count": 81,
     "metadata": {},
     "output_type": "execute_result"
    }
   ],
   "source": [
    "standard_deviation_gb_smart = np.std(total_trf.query('mb_used!=0 and tariff==\"ultra\"')['mb_used'], ddof=1)\n",
    "standard_deviation_gb_smart"
   ]
  },
  {
   "cell_type": "code",
   "execution_count": 82,
   "metadata": {},
   "outputs": [
    {
     "data": {
      "image/png": "[encoded data removed]",
      "text/plain": [
       "<Figure size 432x288 with 1 Axes>"
      ]
     },
     "metadata": {
      "needs_background": "light"
     },
     "output_type": "display_data"
    }
   ],
   "source": [
    "total_trf.query('mb_used!=0 and tariff==\"ultra\"')['mb_used'].hist(bins = 70, range = (100,50000))\n",
    "plt.title('Распределение потребленного трафика тарифа Ультра', fontsize = 14);"
   ]
  },
  {
   "cell_type": "markdown",
   "metadata": {},
   "source": [
    "Медианное и среднее значение потребления трафика на тарифе \"Ультра\" - 19,4 и 19,7 ГБ соответственно, разброс небольшой, что свидетельствует о небольшом количестве аномалий. Второй квартиль - от 12 до 19,4 ГБ. Стандартное отклонение составляет почти 10 ГБ. Верхний ус боксплота оканчивается примерно на 48 ГБ, но на гистограмме видно, что абоненты, потребляющие от 40 гб. трафика могут составлять отдельный сегмент (область от 40 до 45 ГБ похожа на небольшое автономное нормальное распределение). Предлагается использовать для проверки гипотез трафик абонентов, потребляющих от 0,3 до 40 ГБ. Также на гистограмме наблюдаются 2 больших аномалии в районе 22 и 28 ГБ."
   ]
  },
  {
   "cell_type": "markdown",
   "metadata": {},
   "source": [
    "### Вывод"
   ]
  },
  {
   "cell_type": "markdown",
   "metadata": {},
   "source": [
    "Средняя длительность исходящих от абонента тарифа \"Смарт\" вызовов - 423 минуты (если говорить о диапазоне - от 285 до 423 минут, но длительность до 600 минут также не является аномалией), отправляет 34-38 смс в месяц и использует в среднем 16,4 ГБ трафика в месяц. Исходящие вызовы абонента тарифа \"Ультра\" в среднем дольше более чем на 100 минут, 547 минут. Аналогично и сообщений средний пользователь премиального тарифа отправляет на 17 больше - 51 СМС. Показатели интерент - трафика - 16,4 и 19,4 ГБ отличаются не так значительно, как голосовой трафик и сообщения."
   ]
  },
  {
   "cell_type": "markdown",
   "metadata": {},
   "source": [
    "## Формирование и проверка гипотез"
   ]
  },
  {
   "cell_type": "code",
   "execution_count": 83,
   "metadata": {
    "scrolled": true
   },
   "outputs": [
    {
     "data": {
      "text/html": [
       "<div>\n",
       "<style scoped>\n",
       "    .dataframe tbody tr th:only-of-type {\n",
       "        vertical-align: middle;\n",
       "    }\n",
       "\n",
       "    .dataframe tbody tr th {\n",
       "        vertical-align: top;\n",
       "    }\n",
       "\n",
       "    .dataframe thead th {\n",
       "        text-align: right;\n",
       "    }\n",
       "</style>\n",
       "<table border=\"1\" class=\"dataframe\">\n",
       "  <thead>\n",
       "    <tr style=\"text-align: right;\">\n",
       "      <th></th>\n",
       "      <th>index</th>\n",
       "      <th>user_id</th>\n",
       "      <th>month</th>\n",
       "      <th>calls_qty</th>\n",
       "      <th>calls_minutes</th>\n",
       "      <th>message_date</th>\n",
       "      <th>mb_used</th>\n",
       "      <th>age</th>\n",
       "      <th>churn_date</th>\n",
       "      <th>city</th>\n",
       "      <th>...</th>\n",
       "      <th>tariff</th>\n",
       "      <th>messages_included</th>\n",
       "      <th>mb_per_month_included</th>\n",
       "      <th>minutes_included</th>\n",
       "      <th>rub_monthly_fee</th>\n",
       "      <th>rub_per_gb</th>\n",
       "      <th>rub_per_message</th>\n",
       "      <th>rub_per_minute</th>\n",
       "      <th>tariff_name</th>\n",
       "      <th>revenue</th>\n",
       "    </tr>\n",
       "  </thead>\n",
       "  <tbody>\n",
       "    <tr>\n",
       "      <th>0</th>\n",
       "      <td>0.0</td>\n",
       "      <td>1000</td>\n",
       "      <td>5</td>\n",
       "      <td>22.0</td>\n",
       "      <td>159.0</td>\n",
       "      <td>0.0</td>\n",
       "      <td>0.0</td>\n",
       "      <td>52</td>\n",
       "      <td>NaT</td>\n",
       "      <td>Краснодар</td>\n",
       "      <td>...</td>\n",
       "      <td>ultra</td>\n",
       "      <td>1000</td>\n",
       "      <td>30720</td>\n",
       "      <td>3000</td>\n",
       "      <td>1950</td>\n",
       "      <td>150</td>\n",
       "      <td>1</td>\n",
       "      <td>1</td>\n",
       "      <td>ultra</td>\n",
       "      <td>1950.0</td>\n",
       "    </tr>\n",
       "    <tr>\n",
       "      <th>1</th>\n",
       "      <td>1.0</td>\n",
       "      <td>1000</td>\n",
       "      <td>6</td>\n",
       "      <td>43.0</td>\n",
       "      <td>172.0</td>\n",
       "      <td>0.0</td>\n",
       "      <td>0.0</td>\n",
       "      <td>52</td>\n",
       "      <td>NaT</td>\n",
       "      <td>Краснодар</td>\n",
       "      <td>...</td>\n",
       "      <td>ultra</td>\n",
       "      <td>1000</td>\n",
       "      <td>30720</td>\n",
       "      <td>3000</td>\n",
       "      <td>1950</td>\n",
       "      <td>150</td>\n",
       "      <td>1</td>\n",
       "      <td>1</td>\n",
       "      <td>ultra</td>\n",
       "      <td>1950.0</td>\n",
       "    </tr>\n",
       "    <tr>\n",
       "      <th>2</th>\n",
       "      <td>2.0</td>\n",
       "      <td>1000</td>\n",
       "      <td>7</td>\n",
       "      <td>47.0</td>\n",
       "      <td>340.0</td>\n",
       "      <td>0.0</td>\n",
       "      <td>0.0</td>\n",
       "      <td>52</td>\n",
       "      <td>NaT</td>\n",
       "      <td>Краснодар</td>\n",
       "      <td>...</td>\n",
       "      <td>ultra</td>\n",
       "      <td>1000</td>\n",
       "      <td>30720</td>\n",
       "      <td>3000</td>\n",
       "      <td>1950</td>\n",
       "      <td>150</td>\n",
       "      <td>1</td>\n",
       "      <td>1</td>\n",
       "      <td>ultra</td>\n",
       "      <td>1950.0</td>\n",
       "    </tr>\n",
       "  </tbody>\n",
       "</table>\n",
       "<p>3 rows × 23 columns</p>\n",
       "</div>"
      ],
      "text/plain": [
       "   index  user_id  month  calls_qty  calls_minutes  message_date  mb_used  \\\n",
       "0    0.0     1000      5       22.0          159.0           0.0      0.0   \n",
       "1    1.0     1000      6       43.0          172.0           0.0      0.0   \n",
       "2    2.0     1000      7       47.0          340.0           0.0      0.0   \n",
       "\n",
       "   age churn_date       city  ... tariff messages_included  \\\n",
       "0   52        NaT  Краснодар  ...  ultra              1000   \n",
       "1   52        NaT  Краснодар  ...  ultra              1000   \n",
       "2   52        NaT  Краснодар  ...  ultra              1000   \n",
       "\n",
       "  mb_per_month_included minutes_included  rub_monthly_fee  rub_per_gb  \\\n",
       "0                 30720             3000             1950         150   \n",
       "1                 30720             3000             1950         150   \n",
       "2                 30720             3000             1950         150   \n",
       "\n",
       "   rub_per_message  rub_per_minute  tariff_name  revenue  \n",
       "0                1               1        ultra   1950.0  \n",
       "1                1               1        ultra   1950.0  \n",
       "2                1               1        ultra   1950.0  \n",
       "\n",
       "[3 rows x 23 columns]"
      ]
     },
     "execution_count": 83,
     "metadata": {},
     "output_type": "execute_result"
    }
   ],
   "source": [
    "total_trf = total_trf.query('revenue!=0')\n",
    "total_trf.head(3)"
   ]
  },
  {
   "cell_type": "markdown",
   "metadata": {},
   "source": [
    "Подготовим датасет для проверки первой гипотезы, утверждающей, что средняя выручка тарифов \"Ультра\" и \"Смарт\" различается. Для этого отфильтруем все ненулевые значения поля revenue."
   ]
  },
  {
   "cell_type": "code",
   "execution_count": 84,
   "metadata": {
    "scrolled": true
   },
   "outputs": [
    {
     "data": {
      "image/png": "[encoded data removed]",
      "text/plain": [
       "<Figure size 432x288 with 1 Axes>"
      ]
     },
     "metadata": {
      "needs_background": "light"
     },
     "output_type": "display_data"
    }
   ],
   "source": [
    "mean_revenue_smart = total_trf.query('tariff==\"smart\"').pivot_table(index = ['user_id', 'month'], values = 'revenue', aggfunc = 'sum').reset_index()\n",
    "mean_revenue_smart['revenue'].hist(bins = 30, range = (500,4000))\n",
    "plt.title('Распределение выручки тарифа Смарт', fontsize = 14);"
   ]
  },
  {
   "cell_type": "code",
   "execution_count": 85,
   "metadata": {},
   "outputs": [
    {
     "data": {
      "text/plain": [
       "count    2226.000000\n",
       "mean     1294.407457\n",
       "std       821.542374\n",
       "min       400.000000\n",
       "25%       550.000000\n",
       "50%      1035.000000\n",
       "75%      1750.000000\n",
       "max      6770.000000\n",
       "Name: revenue, dtype: float64"
      ]
     },
     "execution_count": 85,
     "metadata": {},
     "output_type": "execute_result"
    }
   ],
   "source": [
    "mean_revenue_smart['revenue'].describe()"
   ]
  },
  {
   "cell_type": "markdown",
   "metadata": {},
   "source": [
    "Распределение отдаленно напоминает распределение Пуассона (или нормальное распределение, скошенное влево) до 4000, после идут аномалии. Пик на 500 рублях говорит о том, что большая часть абонентов укладывается в трафик, входящий в абонентскую плату."
   ]
  },
  {
   "cell_type": "code",
   "execution_count": 86,
   "metadata": {
    "scrolled": true
   },
   "outputs": [
    {
     "data": {
      "image/png": "[encoded data removed]",
      "text/plain": [
       "<Figure size 432x288 with 1 Axes>"
      ]
     },
     "metadata": {
      "needs_background": "light"
     },
     "output_type": "display_data"
    }
   ],
   "source": [
    "mean_revenue_ultra = total_trf.query('tariff==\"ultra\"').pivot_table(index = ['user_id', 'month'], values = 'revenue', aggfunc = 'sum').reset_index()\n",
    "mean_revenue_ultra['revenue'].hist(bins = 50, range = (100,4000))\n",
    "plt.title('Распределение выручки тарифа Ультра', fontsize = 14);"
   ]
  },
  {
   "cell_type": "code",
   "execution_count": 87,
   "metadata": {},
   "outputs": [
    {
     "data": {
      "text/plain": [
       "count     953.000000\n",
       "mean     2062.854145\n",
       "std       401.467943\n",
       "min       150.000000\n",
       "25%      1950.000000\n",
       "50%      1950.000000\n",
       "75%      1950.000000\n",
       "max      4800.000000\n",
       "Name: revenue, dtype: float64"
      ]
     },
     "execution_count": 87,
     "metadata": {},
     "output_type": "execute_result"
    }
   ],
   "source": [
    "mean_revenue_ultra['revenue'].describe()"
   ]
  },
  {
   "cell_type": "markdown",
   "metadata": {},
   "source": [
    "Аналогично, большая часть абонентов уклабывается в абонентскую плату 1950 руб/мес. Датасет начинается от 51 и заканчивается на 2405 руб. Для датасета возьмем диапазон от 1000 до 2000 руб."
   ]
  },
  {
   "cell_type": "code",
   "execution_count": 88,
   "metadata": {},
   "outputs": [],
   "source": [
    "ds_smart_rvn = mean_revenue_smart.query('revenue>499 and revenue<4000')\n",
    "ds_ultra_rvn = mean_revenue_ultra.query('revenue>1900 and revenue<4000')"
   ]
  },
  {
   "cell_type": "code",
   "execution_count": 89,
   "metadata": {},
   "outputs": [
    {
     "data": {
      "text/plain": [
       "(user_id    1001.0\n",
       " month         1.0\n",
       " revenue     400.0\n",
       " dtype: float64,\n",
       " user_id    1264.966066\n",
       " month         8.239661\n",
       " revenue    2062.460233\n",
       " dtype: float64)"
      ]
     },
     "execution_count": 89,
     "metadata": {},
     "output_type": "execute_result"
    }
   ],
   "source": [
    "mean_revenue_smart.min(),ds_ultra_rvn.mean()"
   ]
  },
  {
   "cell_type": "markdown",
   "metadata": {},
   "source": [
    "Сформируем датасеты для проверки гипотезы \"средняя выручка пользователей тарифов \"Ультра\" и \"Смарт\" различается\". Так как нулевая гипотеза всегда формируется так, чтобы использовать знак равенства, она будет звучать так: \"средняя выручка пользователей тарифов \"Ультра\" и \"Смарт\" одинакова\". Альтернативная гипотеза - \"средняя выручка пользователей тарифов \"Ультра\" и \"Смарт\" различается\"."
   ]
  },
  {
   "cell_type": "code",
   "execution_count": 90,
   "metadata": {},
   "outputs": [],
   "source": [
    "smart_variance_revenue = np.var(ds_smart_rvn['revenue'], ddof=1)\n",
    "ultra_variance_revenue = np.var(ds_ultra_rvn['revenue'], ddof=1)"
   ]
  },
  {
   "cell_type": "code",
   "execution_count": 91,
   "metadata": {},
   "outputs": [
    {
     "data": {
      "text/plain": [
       "568775.2766797895"
      ]
     },
     "execution_count": 91,
     "metadata": {},
     "output_type": "execute_result"
    }
   ],
   "source": [
    "smart_variance_revenue"
   ]
  },
  {
   "cell_type": "code",
   "execution_count": 92,
   "metadata": {},
   "outputs": [
    {
     "data": {
      "text/plain": [
       "123175.25717489287"
      ]
     },
     "execution_count": 92,
     "metadata": {},
     "output_type": "execute_result"
    }
   ],
   "source": [
    "ultra_variance_revenue"
   ]
  },
  {
   "cell_type": "markdown",
   "metadata": {},
   "source": [
    "Сравним дисперсии выборок выручки двух тарифов для того, чтобы решить какое значение присваивать параметру equal_var. Если дисперсии выборок равны, необходимо присваивать True, если различаются, то False. В нашем случае параметр будет False, дисперсии не равны."
   ]
  },
  {
   "cell_type": "code",
   "execution_count": 93,
   "metadata": {},
   "outputs": [],
   "source": [
    "from scipy import stats as st\n",
    "import numpy as np\n",
    "alpha = 0.1\n",
    "results = st.ttest_ind(ds_smart_rvn['revenue'], ds_ultra_rvn['revenue'],equal_var = False)"
   ]
  },
  {
   "cell_type": "code",
   "execution_count": 94,
   "metadata": {},
   "outputs": [
    {
     "data": {
      "text/plain": [
       "3.447762271686721e-288"
      ]
     },
     "execution_count": 94,
     "metadata": {},
     "output_type": "execute_result"
    }
   ],
   "source": [
    "results.pvalue"
   ]
  },
  {
   "cell_type": "code",
   "execution_count": 95,
   "metadata": {},
   "outputs": [
    {
     "name": "stdout",
     "output_type": "stream",
     "text": [
      "Отвергаем нулевую гипотезу\n"
     ]
    }
   ],
   "source": [
    "if results.pvalue < alpha:\n",
    "    print(\"Отвергаем нулевую гипотезу\")\n",
    "else:\n",
    "    print(\"Не получилось отвергнуть нулевую гипотезу\")"
   ]
  },
  {
   "cell_type": "markdown",
   "metadata": {},
   "source": [
    "Импортируем библиотеки stats и numpy. Зададим параметр alpha равным 10%, датасеты далеки от идеальной формы нормального распределения, на обоих графиках основная масса значений расположена в районе месячной абонентской платы, поэтому сделаем допуск побольше. Применим метод ttest_ind о равенстве средних из двух генеральных совокупностей. pvalue получился равным нулю. Средние выручки двух тарифов не равны."
   ]
  },
  {
   "cell_type": "markdown",
   "metadata": {},
   "source": [
    "Проверим вторую гипотезу, которая звучит так: \"средняя выручка пользователей из Москвы отличается от средней выручки пользователей по регионам\". Аналогично, сформулируем нулевую гипотезу о равенстве средней выручки абонетов Москвы и регионов. Альтернативная гипотеза: средние значения выручки столичных и региональных абонентов различаются."
   ]
  },
  {
   "cell_type": "code",
   "execution_count": 96,
   "metadata": {},
   "outputs": [
    {
     "data": {
      "text/plain": [
       "array(['Краснодар', 'Москва', 'Стерлитамак', 'Новокузнецк',\n",
       "       'Набережные Челны', 'Ульяновск', 'Челябинск', 'Пермь', 'Тюмень',\n",
       "       'Самара', 'Санкт-Петербург', 'Иваново', 'Чебоксары', 'Омск', 'Уфа',\n",
       "       'Томск', 'Чита', 'Мурманск', 'Петрозаводск', 'Тверь',\n",
       "       'Екатеринбург', 'Махачкала', 'Вологда', 'Череповец', 'Ярославль',\n",
       "       'Сочи', 'Хабаровск', 'Ставрополь', 'Рязань', 'Улан-Удэ', 'Тула',\n",
       "       'Саратов', 'Ростов-на-Дону', 'Казань', 'Иркутск', 'Курск',\n",
       "       'Калуга', 'Якутск', 'Астрахань', 'Химки', 'Владикавказ',\n",
       "       'Волгоград', 'Саранск', 'Ижевск', 'Новосибирск', 'Брянск',\n",
       "       'Тольятти', 'Нижний Тагил', 'Орёл', 'Белгород', 'Воронеж',\n",
       "       'Курган', 'Барнаул', 'Красноярск', 'Архангельск', 'Липецк',\n",
       "       'Кемерово', 'Киров', 'Сургут', 'Пенза', 'Волжский', 'Магнитогорск',\n",
       "       'Нижний Новгород', 'Кострома', 'Владивосток', 'Тамбов', 'Балашиха',\n",
       "       'Севастополь', 'Калининград', 'Оренбург', 'Смоленск',\n",
       "       'Нижневартовск', 'Владимир', 'Новороссийск', 'Грозный', 'Подольск'],\n",
       "      dtype=object)"
      ]
     },
     "execution_count": 96,
     "metadata": {},
     "output_type": "execute_result"
    }
   ],
   "source": [
    "total_trf['city'].unique()"
   ]
  },
  {
   "cell_type": "markdown",
   "metadata": {},
   "source": [
    "Проверим наличие дубликатов в поле city. Метод unique показывает, что их нет."
   ]
  },
  {
   "cell_type": "code",
   "execution_count": 97,
   "metadata": {},
   "outputs": [],
   "source": [
    "moscow_revenue = total_trf.query('city==\"Москва\"')"
   ]
  },
  {
   "cell_type": "code",
   "execution_count": 98,
   "metadata": {},
   "outputs": [],
   "source": [
    "country_revenue = total_trf.query('city!=\"Москва\"')"
   ]
  },
  {
   "cell_type": "markdown",
   "metadata": {},
   "source": [
    "Сформируем датасеты для проверки гипотез и посмотрим на описания и распределения."
   ]
  },
  {
   "cell_type": "code",
   "execution_count": 99,
   "metadata": {},
   "outputs": [
    {
     "data": {
      "image/png": "[encoded data removed]",
      "text/plain": [
       "<Figure size 432x288 with 1 Axes>"
      ]
     },
     "metadata": {
      "needs_background": "light"
     },
     "output_type": "display_data"
    }
   ],
   "source": [
    "msk = moscow_revenue.pivot_table(index =  ['user_id','month'], values = 'revenue', aggfunc = 'sum').reset_index()\n",
    "msk['revenue'].hist(bins = 30, range = (500,4000))\n",
    "plt.title('Распределение выручки столичных абонентов', fontsize = 14);"
   ]
  },
  {
   "cell_type": "markdown",
   "metadata": {},
   "source": [
    "Распределение абсолютно непохоже на нормальное, т.к. в области суммы абонентской платы тарифа \"Смарт\" и тарифа \"Ультра\" находятся пиковые значения. Но на теории мы не проходили такие ситуации, речь шла только о нормальных распределениях. Поэтому построим распределение выручки абонентов для нестоличного пространства и попробуем сделать ttest для этих ужасных графиков. Или у меня где-то ошибка и вследствие этого распределение, которое должно быть нормальным, превратилось в ненормальное."
   ]
  },
  {
   "cell_type": "code",
   "execution_count": 100,
   "metadata": {},
   "outputs": [
    {
     "data": {
      "image/png": "[encoded data removed]",
      "text/plain": [
       "<Figure size 432x288 with 1 Axes>"
      ]
     },
     "metadata": {
      "needs_background": "light"
     },
     "output_type": "display_data"
    }
   ],
   "source": [
    "cntr = country_revenue.pivot_table(index =  ['user_id','month'], values = 'revenue', aggfunc = 'sum').reset_index()\n",
    "cntr['revenue'].hist(bins = 30, range = (500,4000))\n",
    "plt.title('Распределение выручки абонентов из регионов', fontsize = 14);"
   ]
  },
  {
   "cell_type": "markdown",
   "metadata": {},
   "source": [
    "Гистограмма показывает очень похожее распределение, области суммы абонентской платы тарифа \"Смарт\" и тарифа \"Ультра\" находятся пиковые значения."
   ]
  },
  {
   "cell_type": "code",
   "execution_count": 101,
   "metadata": {},
   "outputs": [],
   "source": [
    "moscow_variance_revenue = np.var(msk['revenue'], ddof=1)"
   ]
  },
  {
   "cell_type": "code",
   "execution_count": 102,
   "metadata": {},
   "outputs": [],
   "source": [
    "country_variance_revenue = np.var(cntr['revenue'], ddof=1)"
   ]
  },
  {
   "cell_type": "code",
   "execution_count": 103,
   "metadata": {},
   "outputs": [
    {
     "data": {
      "text/plain": [
       "566850.6241783088"
      ]
     },
     "execution_count": 103,
     "metadata": {},
     "output_type": "execute_result"
    }
   ],
   "source": [
    "moscow_variance_revenue"
   ]
  },
  {
   "cell_type": "code",
   "execution_count": 104,
   "metadata": {},
   "outputs": [
    {
     "data": {
      "text/plain": [
       "663363.9394569591"
      ]
     },
     "execution_count": 104,
     "metadata": {},
     "output_type": "execute_result"
    }
   ],
   "source": [
    "country_variance_revenue"
   ]
  },
  {
   "cell_type": "markdown",
   "metadata": {},
   "source": [
    "Значения дисперсий выборок московских и региональных абонентов близки, но не равны. Параметр equal_var принимаем равным False."
   ]
  },
  {
   "cell_type": "code",
   "execution_count": 105,
   "metadata": {},
   "outputs": [],
   "source": [
    "alpha_country = 0.05\n",
    "results = st.ttest_ind(msk['revenue'], cntr['revenue'],equal_var = False)"
   ]
  },
  {
   "cell_type": "code",
   "execution_count": 106,
   "metadata": {},
   "outputs": [
    {
     "data": {
      "text/plain": [
       "0.3623416873727855"
      ]
     },
     "execution_count": 106,
     "metadata": {},
     "output_type": "execute_result"
    }
   ],
   "source": [
    "results.pvalue"
   ]
  },
  {
   "cell_type": "code",
   "execution_count": 107,
   "metadata": {},
   "outputs": [
    {
     "name": "stdout",
     "output_type": "stream",
     "text": [
      "Не получилось отвергнуть нулевую гипотезу\n"
     ]
    }
   ],
   "source": [
    "if results.pvalue < alpha_country:\n",
    "    print(\"Отвергаем нулевую гипотезу\")\n",
    "else:\n",
    "    print(\"Не получилось отвергнуть нулевую гипотезу\")"
   ]
  },
  {
   "cell_type": "markdown",
   "metadata": {},
   "source": [
    "Вывод: средняя выручка абонентов Москвы и регионов сопоставимы."
   ]
  },
  {
   "cell_type": "code",
   "execution_count": 108,
   "metadata": {},
   "outputs": [
    {
     "data": {
      "text/html": [
       "<div>\n",
       "<style scoped>\n",
       "    .dataframe tbody tr th:only-of-type {\n",
       "        vertical-align: middle;\n",
       "    }\n",
       "\n",
       "    .dataframe tbody tr th {\n",
       "        vertical-align: top;\n",
       "    }\n",
       "\n",
       "    .dataframe thead tr th {\n",
       "        text-align: left;\n",
       "    }\n",
       "</style>\n",
       "<table border=\"1\" class=\"dataframe\">\n",
       "  <thead>\n",
       "    <tr>\n",
       "      <th></th>\n",
       "      <th>tariff</th>\n",
       "      <th>mean</th>\n",
       "      <th>median</th>\n",
       "      <th>sum</th>\n",
       "      <th>count</th>\n",
       "    </tr>\n",
       "    <tr>\n",
       "      <th></th>\n",
       "      <th></th>\n",
       "      <th>revenue</th>\n",
       "      <th>revenue</th>\n",
       "      <th>revenue</th>\n",
       "      <th>revenue</th>\n",
       "    </tr>\n",
       "  </thead>\n",
       "  <tbody>\n",
       "    <tr>\n",
       "      <th>0</th>\n",
       "      <td>smart</td>\n",
       "      <td>703.798486</td>\n",
       "      <td>550.0</td>\n",
       "      <td>2881351.0</td>\n",
       "      <td>4094</td>\n",
       "    </tr>\n",
       "    <tr>\n",
       "      <th>1</th>\n",
       "      <td>ultra</td>\n",
       "      <td>1818.593895</td>\n",
       "      <td>1950.0</td>\n",
       "      <td>1965900.0</td>\n",
       "      <td>1081</td>\n",
       "    </tr>\n",
       "  </tbody>\n",
       "</table>\n",
       "</div>"
      ],
      "text/plain": [
       "  tariff         mean  median        sum   count\n",
       "              revenue revenue    revenue revenue\n",
       "0  smart   703.798486   550.0  2881351.0    4094\n",
       "1  ultra  1818.593895  1950.0  1965900.0    1081"
      ]
     },
     "execution_count": 108,
     "metadata": {},
     "output_type": "execute_result"
    }
   ],
   "source": [
    "median_rev = total_trf.pivot_table(index = 'tariff', values = 'revenue', aggfunc = ['mean','median','sum','count']).reset_index()\n",
    "median_rev"
   ]
  },
  {
   "cell_type": "markdown",
   "metadata": {},
   "source": [
    "## Общий вывод"
   ]
  },
  {
   "cell_type": "markdown",
   "metadata": {},
   "source": [
    "Исходя из результатов анализа тариф \"Смарт\"  более массовый (абонентов в выборке в 4 раза больше) и приносит большую выручку в целом. Но показатель \"выручка на 1 абонента\" на тарифе \"Ультра\" выше почти в 3 раза. Медианные значения выручки на обоих тарифах находятся в зоне значений абонентской платы, это говорит о том, что большинству абонентов хватает услуг, вхдящих в стандартный пакет. Исходящие вызовы абонента тарифа \"Ультра\" в среднем дольше более чем на 100 минут, 547 минут. Аналогично и сообщений средний пользователь премиального тарифа отправляет на 17 больше - 51 СМС. Показатели интерент - трафика - 16,4 и 19,4 ГБ отличаются не так значительно, как голосовой трафик и сообщения. Гипотеза о том, что средняя выручка на обоих тарифах различна, подтверждается. Гипотеза о сопоставимости средней выручки абонента Москвы и регионального абонента также подтверждается."
   ]
  }
 ],
 "metadata": {
  "ExecuteTimeLog": [
   {
    "duration": 763,
    "start_time": "2021-06-08T15:02:17.882Z"
   },
   {
    "duration": 200,
    "start_time": "2021-06-08T15:02:18.647Z"
   },
   {
    "duration": 173,
    "start_time": "2021-06-08T15:02:18.850Z"
   },
   {
    "duration": 127,
    "start_time": "2021-06-08T15:02:19.025Z"
   },
   {
    "duration": 17,
    "start_time": "2021-06-08T15:02:19.154Z"
   },
   {
    "duration": 56,
    "start_time": "2021-06-08T15:02:19.173Z"
   },
   {
    "duration": 28,
    "start_time": "2021-06-08T15:02:19.232Z"
   },
   {
    "duration": 22,
    "start_time": "2021-06-08T15:02:19.263Z"
   },
   {
    "duration": 16,
    "start_time": "2021-06-08T15:02:19.289Z"
   },
   {
    "duration": 56,
    "start_time": "2021-06-08T15:02:19.308Z"
   },
   {
    "duration": 8,
    "start_time": "2021-06-08T15:02:19.366Z"
   },
   {
    "duration": 10,
    "start_time": "2021-06-08T15:02:19.376Z"
   },
   {
    "duration": 28,
    "start_time": "2021-06-08T15:02:19.388Z"
   },
   {
    "duration": 48,
    "start_time": "2021-06-08T15:02:19.419Z"
   },
   {
    "duration": 25,
    "start_time": "2021-06-08T15:02:19.470Z"
   },
   {
    "duration": 21,
    "start_time": "2021-06-08T15:02:19.497Z"
   },
   {
    "duration": 67,
    "start_time": "2021-06-08T15:02:19.521Z"
   },
   {
    "duration": 11,
    "start_time": "2021-06-08T15:02:19.591Z"
   },
   {
    "duration": 15,
    "start_time": "2021-06-08T15:02:19.606Z"
   },
   {
    "duration": 49,
    "start_time": "2021-06-08T15:02:19.624Z"
   },
   {
    "duration": 9,
    "start_time": "2021-06-08T15:02:19.676Z"
   },
   {
    "duration": 22,
    "start_time": "2021-06-08T15:02:19.688Z"
   },
   {
    "duration": 102,
    "start_time": "2021-06-08T15:02:19.713Z"
   },
   {
    "duration": 72,
    "start_time": "2021-06-08T15:02:19.818Z"
   },
   {
    "duration": 42,
    "start_time": "2021-06-08T15:02:19.893Z"
   },
   {
    "duration": 25,
    "start_time": "2021-06-08T15:02:19.938Z"
   },
   {
    "duration": 8,
    "start_time": "2021-06-08T15:02:19.968Z"
   },
   {
    "duration": 36,
    "start_time": "2021-06-08T15:02:19.979Z"
   },
   {
    "duration": 49,
    "start_time": "2021-06-08T15:02:20.018Z"
   },
   {
    "duration": 22,
    "start_time": "2021-06-08T15:02:20.069Z"
   },
   {
    "duration": 69,
    "start_time": "2021-06-08T15:02:20.093Z"
   },
   {
    "duration": 10,
    "start_time": "2021-06-08T15:02:20.164Z"
   },
   {
    "duration": 108,
    "start_time": "2021-06-08T15:02:20.176Z"
   },
   {
    "duration": 9,
    "start_time": "2021-06-08T15:02:20.287Z"
   },
   {
    "duration": 42,
    "start_time": "2021-06-08T15:02:20.298Z"
   },
   {
    "duration": 37,
    "start_time": "2021-06-08T15:02:20.362Z"
   },
   {
    "duration": 8,
    "start_time": "2021-06-08T15:02:20.402Z"
   },
   {
    "duration": 61,
    "start_time": "2021-06-08T15:02:20.412Z"
   },
   {
    "duration": 22,
    "start_time": "2021-06-08T15:02:20.475Z"
   },
   {
    "duration": 23,
    "start_time": "2021-06-08T15:02:28.687Z"
   },
   {
    "duration": 22,
    "start_time": "2021-06-08T15:03:08.368Z"
   },
   {
    "duration": 4,
    "start_time": "2021-06-08T15:09:02.420Z"
   },
   {
    "duration": 266,
    "start_time": "2021-06-08T15:09:02.427Z"
   },
   {
    "duration": 187,
    "start_time": "2021-06-08T15:09:02.697Z"
   },
   {
    "duration": 113,
    "start_time": "2021-06-08T15:09:02.886Z"
   },
   {
    "duration": 18,
    "start_time": "2021-06-08T15:09:03.001Z"
   },
   {
    "duration": 50,
    "start_time": "2021-06-08T15:09:03.021Z"
   },
   {
    "duration": 34,
    "start_time": "2021-06-08T15:09:03.073Z"
   },
   {
    "duration": 11,
    "start_time": "2021-06-08T15:09:03.109Z"
   },
   {
    "duration": 16,
    "start_time": "2021-06-08T15:09:03.123Z"
   },
   {
    "duration": 33,
    "start_time": "2021-06-08T15:09:03.142Z"
   },
   {
    "duration": 10,
    "start_time": "2021-06-08T15:09:03.178Z"
   },
   {
    "duration": 9,
    "start_time": "2021-06-08T15:09:03.191Z"
   },
   {
    "duration": 64,
    "start_time": "2021-06-08T15:09:03.204Z"
   },
   {
    "duration": 12,
    "start_time": "2021-06-08T15:09:03.272Z"
   },
   {
    "duration": 27,
    "start_time": "2021-06-08T15:09:03.287Z"
   },
   {
    "duration": 58,
    "start_time": "2021-06-08T15:09:03.317Z"
   },
   {
    "duration": 20,
    "start_time": "2021-06-08T15:09:03.378Z"
   },
   {
    "duration": 8,
    "start_time": "2021-06-08T15:09:03.401Z"
   },
   {
    "duration": 19,
    "start_time": "2021-06-08T15:09:03.411Z"
   },
   {
    "duration": 9,
    "start_time": "2021-06-08T15:09:03.462Z"
   },
   {
    "duration": 25,
    "start_time": "2021-06-08T15:09:03.473Z"
   },
   {
    "duration": 18,
    "start_time": "2021-06-08T15:09:03.501Z"
   },
   {
    "duration": 59,
    "start_time": "2021-06-08T15:09:03.522Z"
   },
   {
    "duration": 27,
    "start_time": "2021-06-08T15:09:03.584Z"
   },
   {
    "duration": 48,
    "start_time": "2021-06-08T15:09:03.614Z"
   },
   {
    "duration": 7,
    "start_time": "2021-06-08T15:09:03.665Z"
   },
   {
    "duration": 7,
    "start_time": "2021-06-08T15:09:03.679Z"
   },
   {
    "duration": 39,
    "start_time": "2021-06-08T15:09:03.691Z"
   },
   {
    "duration": 45,
    "start_time": "2021-06-08T15:09:03.732Z"
   },
   {
    "duration": 21,
    "start_time": "2021-06-08T15:09:03.779Z"
   },
   {
    "duration": 63,
    "start_time": "2021-06-08T15:09:03.802Z"
   },
   {
    "duration": 8,
    "start_time": "2021-06-08T15:09:03.867Z"
   },
   {
    "duration": 92,
    "start_time": "2021-06-08T15:09:03.878Z"
   },
   {
    "duration": 9,
    "start_time": "2021-06-08T15:09:03.972Z"
   },
   {
    "duration": 37,
    "start_time": "2021-06-08T15:09:03.984Z"
   },
   {
    "duration": 65,
    "start_time": "2021-06-08T15:09:04.024Z"
   },
   {
    "duration": 10,
    "start_time": "2021-06-08T15:09:04.091Z"
   },
   {
    "duration": 65,
    "start_time": "2021-06-08T15:09:04.104Z"
   },
   {
    "duration": 29,
    "start_time": "2021-06-08T15:09:04.172Z"
   },
   {
    "duration": 26,
    "start_time": "2021-06-08T15:09:04.204Z"
   },
   {
    "duration": 35,
    "start_time": "2021-06-08T15:09:04.233Z"
   },
   {
    "duration": 9,
    "start_time": "2021-06-08T15:09:04.271Z"
   },
   {
    "duration": 44,
    "start_time": "2021-06-08T15:09:04.282Z"
   },
   {
    "duration": 48,
    "start_time": "2021-06-08T15:09:04.328Z"
   },
   {
    "duration": 4,
    "start_time": "2021-06-08T15:09:04.378Z"
   },
   {
    "duration": 1062,
    "start_time": "2021-06-08T15:09:04.385Z"
   },
   {
    "duration": 5,
    "start_time": "2021-06-08T15:09:05.449Z"
   },
   {
    "duration": 39,
    "start_time": "2021-06-08T15:09:05.463Z"
   },
   {
    "duration": 25,
    "start_time": "2021-06-08T15:09:05.504Z"
   },
   {
    "duration": 40,
    "start_time": "2021-06-08T15:09:05.531Z"
   },
   {
    "duration": 364,
    "start_time": "2021-06-08T15:09:05.574Z"
   },
   {
    "duration": 22,
    "start_time": "2021-06-08T15:09:05.941Z"
   },
   {
    "duration": 12,
    "start_time": "2021-06-08T15:09:05.965Z"
   },
   {
    "duration": 8,
    "start_time": "2021-06-08T15:09:05.979Z"
   },
   {
    "duration": 641,
    "start_time": "2021-06-08T15:09:05.990Z"
   },
   {
    "duration": 35,
    "start_time": "2021-06-08T15:09:06.634Z"
   },
   {
    "duration": 355,
    "start_time": "2021-06-08T15:09:06.673Z"
   },
   {
    "duration": 16,
    "start_time": "2021-06-08T15:09:07.031Z"
   },
   {
    "duration": 15,
    "start_time": "2021-06-08T15:09:07.063Z"
   },
   {
    "duration": 763,
    "start_time": "2021-06-08T15:09:07.081Z"
   },
   {
    "duration": 31,
    "start_time": "2021-06-08T15:09:07.848Z"
   },
   {
    "duration": 368,
    "start_time": "2021-06-08T15:09:07.882Z"
   },
   {
    "duration": 21,
    "start_time": "2021-06-08T15:09:08.253Z"
   },
   {
    "duration": 17,
    "start_time": "2021-06-08T15:09:08.277Z"
   },
   {
    "duration": 749,
    "start_time": "2021-06-08T15:09:08.297Z"
   },
   {
    "duration": 30,
    "start_time": "2021-06-08T15:09:09.049Z"
   },
   {
    "duration": 363,
    "start_time": "2021-06-08T15:09:09.082Z"
   },
   {
    "duration": 22,
    "start_time": "2021-06-08T15:09:09.448Z"
   },
   {
    "duration": 22,
    "start_time": "2021-06-08T15:09:09.473Z"
   },
   {
    "duration": 780,
    "start_time": "2021-06-08T15:09:09.498Z"
   },
   {
    "duration": 22,
    "start_time": "2021-06-08T15:09:10.281Z"
   },
   {
    "duration": 388,
    "start_time": "2021-06-08T15:09:10.307Z"
   },
   {
    "duration": 17,
    "start_time": "2021-06-08T15:09:10.698Z"
   },
   {
    "duration": 12,
    "start_time": "2021-06-08T15:09:10.718Z"
   },
   {
    "duration": 729,
    "start_time": "2021-06-08T15:09:10.733Z"
   },
   {
    "duration": 19,
    "start_time": "2021-06-08T15:09:11.464Z"
   },
   {
    "duration": 263,
    "start_time": "2021-06-08T15:09:11.487Z"
   },
   {
    "duration": 18,
    "start_time": "2021-06-08T15:09:11.754Z"
   },
   {
    "duration": 16,
    "start_time": "2021-06-08T15:09:11.775Z"
   },
   {
    "duration": 518,
    "start_time": "2021-06-08T15:09:11.793Z"
   },
   {
    "duration": 44,
    "start_time": "2021-06-08T15:09:12.319Z"
   },
   {
    "duration": 395,
    "start_time": "2021-06-08T15:09:12.366Z"
   },
   {
    "duration": 11,
    "start_time": "2021-06-08T15:09:12.763Z"
   },
   {
    "duration": 501,
    "start_time": "2021-06-08T15:09:12.776Z"
   },
   {
    "duration": 11,
    "start_time": "2021-06-08T15:09:13.279Z"
   },
   {
    "duration": 13,
    "start_time": "2021-06-08T15:09:13.292Z"
   },
   {
    "duration": 14,
    "start_time": "2021-06-08T15:09:15.707Z"
   },
   {
    "duration": 430,
    "start_time": "2021-06-08T15:09:39.370Z"
   },
   {
    "duration": 16,
    "start_time": "2021-06-08T15:09:45.051Z"
   },
   {
    "duration": 52,
    "start_time": "2021-06-08T15:12:24.648Z"
   },
   {
    "duration": 51,
    "start_time": "2021-06-08T15:12:30.855Z"
   },
   {
    "duration": 113,
    "start_time": "2021-06-08T15:12:48.077Z"
   },
   {
    "duration": 39,
    "start_time": "2021-06-08T15:12:53.257Z"
   },
   {
    "duration": 34,
    "start_time": "2021-06-08T15:15:33.976Z"
   },
   {
    "duration": 27,
    "start_time": "2021-06-08T15:24:05.758Z"
   },
   {
    "duration": 25,
    "start_time": "2021-06-08T15:24:09.533Z"
   },
   {
    "duration": 24,
    "start_time": "2021-06-08T15:24:15.337Z"
   },
   {
    "duration": 27,
    "start_time": "2021-06-08T15:35:30.146Z"
   },
   {
    "duration": 4,
    "start_time": "2021-06-08T15:42:31.010Z"
   },
   {
    "duration": 354,
    "start_time": "2021-06-08T15:42:39.103Z"
   },
   {
    "duration": 82,
    "start_time": "2021-06-08T15:49:23.656Z"
   },
   {
    "duration": 8,
    "start_time": "2021-06-08T15:55:38.281Z"
   },
   {
    "duration": 7,
    "start_time": "2021-06-08T15:56:31.724Z"
   },
   {
    "duration": 9,
    "start_time": "2021-06-08T15:56:39.989Z"
   },
   {
    "duration": 373,
    "start_time": "2021-06-08T17:08:14.005Z"
   },
   {
    "duration": 846,
    "start_time": "2021-06-08T17:08:28.791Z"
   },
   {
    "duration": 204,
    "start_time": "2021-06-08T17:08:29.640Z"
   },
   {
    "duration": 174,
    "start_time": "2021-06-08T17:08:29.848Z"
   },
   {
    "duration": 118,
    "start_time": "2021-06-08T17:08:30.025Z"
   },
   {
    "duration": 19,
    "start_time": "2021-06-08T17:08:30.146Z"
   },
   {
    "duration": 37,
    "start_time": "2021-06-08T17:08:30.167Z"
   },
   {
    "duration": 30,
    "start_time": "2021-06-08T17:08:30.206Z"
   },
   {
    "duration": 25,
    "start_time": "2021-06-08T17:08:30.240Z"
   },
   {
    "duration": 24,
    "start_time": "2021-06-08T17:08:30.267Z"
   },
   {
    "duration": 20,
    "start_time": "2021-06-08T17:08:30.294Z"
   },
   {
    "duration": 14,
    "start_time": "2021-06-08T17:08:30.317Z"
   },
   {
    "duration": 14,
    "start_time": "2021-06-08T17:08:30.333Z"
   },
   {
    "duration": 36,
    "start_time": "2021-06-08T17:08:30.349Z"
   },
   {
    "duration": 11,
    "start_time": "2021-06-08T17:08:30.388Z"
   },
   {
    "duration": 34,
    "start_time": "2021-06-08T17:08:30.402Z"
   },
   {
    "duration": 18,
    "start_time": "2021-06-08T17:08:30.439Z"
   },
   {
    "duration": 21,
    "start_time": "2021-06-08T17:08:30.485Z"
   },
   {
    "duration": 13,
    "start_time": "2021-06-08T17:08:30.508Z"
   },
   {
    "duration": 22,
    "start_time": "2021-06-08T17:08:30.523Z"
   },
   {
    "duration": 19,
    "start_time": "2021-06-08T17:08:30.547Z"
   },
   {
    "duration": 6,
    "start_time": "2021-06-08T17:08:30.590Z"
   },
   {
    "duration": 19,
    "start_time": "2021-06-08T17:08:30.599Z"
   },
   {
    "duration": 51,
    "start_time": "2021-06-08T17:08:30.624Z"
   },
   {
    "duration": 31,
    "start_time": "2021-06-08T17:08:30.685Z"
   },
   {
    "duration": 26,
    "start_time": "2021-06-08T17:08:30.718Z"
   },
   {
    "duration": 6,
    "start_time": "2021-06-08T17:08:30.746Z"
   },
   {
    "duration": 32,
    "start_time": "2021-06-08T17:08:30.754Z"
   },
   {
    "duration": 34,
    "start_time": "2021-06-08T17:08:30.789Z"
   },
   {
    "duration": 23,
    "start_time": "2021-06-08T17:08:30.826Z"
   },
   {
    "duration": 44,
    "start_time": "2021-06-08T17:08:30.851Z"
   },
   {
    "duration": 40,
    "start_time": "2021-06-08T17:08:30.898Z"
   },
   {
    "duration": 9,
    "start_time": "2021-06-08T17:08:30.941Z"
   },
   {
    "duration": 120,
    "start_time": "2021-06-08T17:08:30.952Z"
   },
   {
    "duration": 13,
    "start_time": "2021-06-08T17:08:31.075Z"
   },
   {
    "duration": 41,
    "start_time": "2021-06-08T17:08:31.090Z"
   },
   {
    "duration": 64,
    "start_time": "2021-06-08T17:08:31.134Z"
   },
   {
    "duration": 8,
    "start_time": "2021-06-08T17:08:31.201Z"
   },
   {
    "duration": 31,
    "start_time": "2021-06-08T17:08:31.211Z"
   },
   {
    "duration": 47,
    "start_time": "2021-06-08T17:08:31.245Z"
   },
   {
    "duration": 19,
    "start_time": "2021-06-08T17:08:31.294Z"
   },
   {
    "duration": 13,
    "start_time": "2021-06-08T17:08:31.316Z"
   },
   {
    "duration": 14,
    "start_time": "2021-06-08T17:08:31.331Z"
   },
   {
    "duration": 66,
    "start_time": "2021-06-08T17:08:31.348Z"
   },
   {
    "duration": 15,
    "start_time": "2021-06-08T17:08:31.417Z"
   },
   {
    "duration": 3,
    "start_time": "2021-06-08T17:08:31.435Z"
   },
   {
    "duration": 1046,
    "start_time": "2021-06-08T17:08:31.441Z"
   },
   {
    "duration": 5,
    "start_time": "2021-06-08T17:08:32.490Z"
   },
   {
    "duration": 44,
    "start_time": "2021-06-08T17:08:32.498Z"
   },
   {
    "duration": 49,
    "start_time": "2021-06-08T17:08:32.545Z"
   },
   {
    "duration": 17,
    "start_time": "2021-06-08T17:08:32.597Z"
   },
   {
    "duration": 366,
    "start_time": "2021-06-08T17:08:32.616Z"
   },
   {
    "duration": 12,
    "start_time": "2021-06-08T17:08:32.986Z"
   },
   {
    "duration": 12,
    "start_time": "2021-06-08T17:08:33.001Z"
   },
   {
    "duration": 5,
    "start_time": "2021-06-08T17:08:33.016Z"
   },
   {
    "duration": 618,
    "start_time": "2021-06-08T17:08:33.023Z"
   },
   {
    "duration": 16,
    "start_time": "2021-06-08T17:08:33.644Z"
   },
   {
    "duration": 248,
    "start_time": "2021-06-08T17:08:33.663Z"
   },
   {
    "duration": 12,
    "start_time": "2021-06-08T17:08:33.914Z"
   },
   {
    "duration": 11,
    "start_time": "2021-06-08T17:08:33.929Z"
   },
   {
    "duration": 485,
    "start_time": "2021-06-08T17:08:33.943Z"
   },
   {
    "duration": 16,
    "start_time": "2021-06-08T17:08:34.431Z"
   },
   {
    "duration": 239,
    "start_time": "2021-06-08T17:08:34.449Z"
   },
   {
    "duration": 13,
    "start_time": "2021-06-08T17:08:34.690Z"
   },
   {
    "duration": 20,
    "start_time": "2021-06-08T17:08:34.705Z"
   },
   {
    "duration": 464,
    "start_time": "2021-06-08T17:08:34.728Z"
   },
   {
    "duration": 17,
    "start_time": "2021-06-08T17:08:35.194Z"
   },
   {
    "duration": 247,
    "start_time": "2021-06-08T17:08:35.213Z"
   },
   {
    "duration": 24,
    "start_time": "2021-06-08T17:08:35.469Z"
   },
   {
    "duration": 26,
    "start_time": "2021-06-08T17:08:35.496Z"
   },
   {
    "duration": 407,
    "start_time": "2021-06-08T17:08:35.525Z"
   },
   {
    "duration": 18,
    "start_time": "2021-06-08T17:08:35.934Z"
   },
   {
    "duration": 259,
    "start_time": "2021-06-08T17:08:35.954Z"
   },
   {
    "duration": 13,
    "start_time": "2021-06-08T17:08:36.216Z"
   },
   {
    "duration": 14,
    "start_time": "2021-06-08T17:08:36.231Z"
   },
   {
    "duration": 649,
    "start_time": "2021-06-08T17:08:36.247Z"
   },
   {
    "duration": 18,
    "start_time": "2021-06-08T17:08:36.898Z"
   },
   {
    "duration": 242,
    "start_time": "2021-06-08T17:08:36.918Z"
   },
   {
    "duration": 25,
    "start_time": "2021-06-08T17:08:37.163Z"
   },
   {
    "duration": 16,
    "start_time": "2021-06-08T17:08:37.190Z"
   },
   {
    "duration": 462,
    "start_time": "2021-06-08T17:08:37.208Z"
   },
   {
    "duration": 42,
    "start_time": "2021-06-08T17:08:37.673Z"
   },
   {
    "duration": 371,
    "start_time": "2021-06-08T17:08:37.717Z"
   },
   {
    "duration": 10,
    "start_time": "2021-06-08T17:08:38.091Z"
   },
   {
    "duration": 461,
    "start_time": "2021-06-08T17:08:38.103Z"
   },
   {
    "duration": 21,
    "start_time": "2021-06-08T17:08:38.567Z"
   },
   {
    "duration": 34,
    "start_time": "2021-06-08T17:08:38.591Z"
   },
   {
    "duration": 11,
    "start_time": "2021-06-08T17:08:38.628Z"
   },
   {
    "duration": 5,
    "start_time": "2021-06-08T17:08:38.641Z"
   },
   {
    "duration": 7,
    "start_time": "2021-06-08T17:08:38.648Z"
   },
   {
    "duration": 29,
    "start_time": "2021-06-08T17:08:38.658Z"
   },
   {
    "duration": 480,
    "start_time": "2021-06-08T17:08:38.689Z"
   },
   {
    "duration": 13,
    "start_time": "2021-06-08T17:08:39.172Z"
   },
   {
    "duration": 4,
    "start_time": "2021-06-08T17:08:39.187Z"
   },
   {
    "duration": 9,
    "start_time": "2021-06-08T17:08:39.193Z"
   },
   {
    "duration": 11,
    "start_time": "2021-06-08T17:08:39.204Z"
   },
   {
    "duration": 9,
    "start_time": "2021-06-08T17:08:39.217Z"
   },
   {
    "duration": 406,
    "start_time": "2021-06-08T17:08:39.228Z"
   },
   {
    "duration": 383,
    "start_time": "2021-06-08T17:08:39.636Z"
   },
   {
    "duration": 4,
    "start_time": "2021-06-08T17:08:40.022Z"
   },
   {
    "duration": 10,
    "start_time": "2021-06-08T17:08:40.029Z"
   },
   {
    "duration": 8,
    "start_time": "2021-06-08T17:08:40.042Z"
   },
   {
    "duration": 34,
    "start_time": "2021-06-08T17:08:40.052Z"
   },
   {
    "duration": 6,
    "start_time": "2021-06-08T17:08:40.089Z"
   },
   {
    "duration": 9,
    "start_time": "2021-06-08T17:08:40.098Z"
   },
   {
    "duration": 5,
    "start_time": "2021-06-08T17:08:40.109Z"
   },
   {
    "duration": 87,
    "start_time": "2021-06-08T17:08:40.117Z"
   },
   {
    "duration": 4,
    "start_time": "2021-06-08T17:09:09.686Z"
   },
   {
    "duration": 198,
    "start_time": "2021-06-08T17:09:09.869Z"
   },
   {
    "duration": 181,
    "start_time": "2021-06-08T17:09:10.069Z"
   },
   {
    "duration": 110,
    "start_time": "2021-06-08T17:09:10.252Z"
   },
   {
    "duration": 20,
    "start_time": "2021-06-08T17:09:10.368Z"
   },
   {
    "duration": 34,
    "start_time": "2021-06-08T17:09:10.567Z"
   },
   {
    "duration": 29,
    "start_time": "2021-06-08T17:09:10.880Z"
   },
   {
    "duration": 12,
    "start_time": "2021-06-08T17:09:11.051Z"
   },
   {
    "duration": 16,
    "start_time": "2021-06-08T17:09:11.567Z"
   },
   {
    "duration": 14,
    "start_time": "2021-06-08T17:09:12.254Z"
   },
   {
    "duration": 8,
    "start_time": "2021-06-08T17:09:12.615Z"
   },
   {
    "duration": 8,
    "start_time": "2021-06-08T17:09:12.803Z"
   },
   {
    "duration": 22,
    "start_time": "2021-06-08T17:09:13.356Z"
   },
   {
    "duration": 12,
    "start_time": "2021-06-08T17:09:13.398Z"
   },
   {
    "duration": 25,
    "start_time": "2021-06-08T17:09:13.522Z"
   },
   {
    "duration": 19,
    "start_time": "2021-06-08T17:09:13.595Z"
   },
   {
    "duration": 20,
    "start_time": "2021-06-08T17:09:13.641Z"
   },
   {
    "duration": 9,
    "start_time": "2021-06-08T17:09:13.715Z"
   },
   {
    "duration": 11,
    "start_time": "2021-06-08T17:09:13.758Z"
   },
   {
    "duration": 9,
    "start_time": "2021-06-08T17:09:13.806Z"
   },
   {
    "duration": 7,
    "start_time": "2021-06-08T17:09:13.851Z"
   },
   {
    "duration": 16,
    "start_time": "2021-06-08T17:09:13.898Z"
   },
   {
    "duration": 39,
    "start_time": "2021-06-08T17:09:14.354Z"
   },
   {
    "duration": 29,
    "start_time": "2021-06-08T17:09:14.493Z"
   },
   {
    "duration": 25,
    "start_time": "2021-06-08T17:09:14.630Z"
   },
   {
    "duration": 8,
    "start_time": "2021-06-08T17:09:14.775Z"
   },
   {
    "duration": 6,
    "start_time": "2021-06-08T17:09:14.935Z"
   },
   {
    "duration": 31,
    "start_time": "2021-06-08T17:09:15.208Z"
   },
   {
    "duration": 25,
    "start_time": "2021-06-08T17:09:15.362Z"
   },
   {
    "duration": 22,
    "start_time": "2021-06-08T17:09:15.493Z"
   },
   {
    "duration": 38,
    "start_time": "2021-06-08T17:09:15.767Z"
   },
   {
    "duration": 8,
    "start_time": "2021-06-08T17:09:15.920Z"
   },
   {
    "duration": 75,
    "start_time": "2021-06-08T17:09:17.000Z"
   },
   {
    "duration": 9,
    "start_time": "2021-06-08T17:09:17.186Z"
   },
   {
    "duration": 32,
    "start_time": "2021-06-08T17:09:17.496Z"
   },
   {
    "duration": 35,
    "start_time": "2021-06-08T17:09:17.799Z"
   },
   {
    "duration": 9,
    "start_time": "2021-06-08T17:09:17.990Z"
   },
   {
    "duration": 27,
    "start_time": "2021-06-08T17:09:18.441Z"
   },
   {
    "duration": 22,
    "start_time": "2021-06-08T17:09:18.749Z"
   },
   {
    "duration": 488,
    "start_time": "2021-06-08T17:24:47.236Z"
   },
   {
    "duration": 815,
    "start_time": "2021-06-08T17:25:07.097Z"
   },
   {
    "duration": 207,
    "start_time": "2021-06-08T17:25:07.915Z"
   },
   {
    "duration": 177,
    "start_time": "2021-06-08T17:25:08.125Z"
   },
   {
    "duration": 115,
    "start_time": "2021-06-08T17:25:08.306Z"
   },
   {
    "duration": 19,
    "start_time": "2021-06-08T17:25:08.424Z"
   },
   {
    "duration": 38,
    "start_time": "2021-06-08T17:25:08.445Z"
   },
   {
    "duration": 30,
    "start_time": "2021-06-08T17:25:08.486Z"
   },
   {
    "duration": 20,
    "start_time": "2021-06-08T17:25:08.520Z"
   },
   {
    "duration": 15,
    "start_time": "2021-06-08T17:25:08.543Z"
   },
   {
    "duration": 16,
    "start_time": "2021-06-08T17:25:08.586Z"
   },
   {
    "duration": 7,
    "start_time": "2021-06-08T17:25:08.605Z"
   },
   {
    "duration": 6,
    "start_time": "2021-06-08T17:25:08.615Z"
   },
   {
    "duration": 23,
    "start_time": "2021-06-08T17:25:08.623Z"
   },
   {
    "duration": 13,
    "start_time": "2021-06-08T17:25:08.685Z"
   },
   {
    "duration": 25,
    "start_time": "2021-06-08T17:25:08.700Z"
   },
   {
    "duration": 18,
    "start_time": "2021-06-08T17:25:08.728Z"
   },
   {
    "duration": 50,
    "start_time": "2021-06-08T17:25:08.749Z"
   },
   {
    "duration": 9,
    "start_time": "2021-06-08T17:25:08.802Z"
   },
   {
    "duration": 12,
    "start_time": "2021-06-08T17:25:08.813Z"
   },
   {
    "duration": 11,
    "start_time": "2021-06-08T17:25:08.827Z"
   },
   {
    "duration": 49,
    "start_time": "2021-06-08T17:25:08.840Z"
   },
   {
    "duration": 16,
    "start_time": "2021-06-08T17:25:08.892Z"
   },
   {
    "duration": 77,
    "start_time": "2021-06-08T17:25:08.917Z"
   },
   {
    "duration": 33,
    "start_time": "2021-06-08T17:25:08.999Z"
   },
   {
    "duration": 53,
    "start_time": "2021-06-08T17:25:09.035Z"
   },
   {
    "duration": 8,
    "start_time": "2021-06-08T17:25:09.091Z"
   },
   {
    "duration": 10,
    "start_time": "2021-06-08T17:25:09.102Z"
   },
   {
    "duration": 33,
    "start_time": "2021-06-08T17:25:09.115Z"
   },
   {
    "duration": 48,
    "start_time": "2021-06-08T17:25:09.151Z"
   },
   {
    "duration": 22,
    "start_time": "2021-06-08T17:25:09.202Z"
   },
   {
    "duration": 59,
    "start_time": "2021-06-08T17:25:09.226Z"
   },
   {
    "duration": 10,
    "start_time": "2021-06-08T17:25:09.288Z"
   },
   {
    "duration": 106,
    "start_time": "2021-06-08T17:25:09.300Z"
   },
   {
    "duration": 8,
    "start_time": "2021-06-08T17:25:09.408Z"
   },
   {
    "duration": 35,
    "start_time": "2021-06-08T17:25:09.419Z"
   },
   {
    "duration": 64,
    "start_time": "2021-06-08T17:25:09.457Z"
   },
   {
    "duration": 8,
    "start_time": "2021-06-08T17:25:09.523Z"
   },
   {
    "duration": 54,
    "start_time": "2021-06-08T17:25:09.533Z"
   },
   {
    "duration": 23,
    "start_time": "2021-06-08T17:25:09.589Z"
   },
   {
    "duration": 17,
    "start_time": "2021-06-08T17:25:09.614Z"
   },
   {
    "duration": 7,
    "start_time": "2021-06-08T17:25:09.633Z"
   },
   {
    "duration": 45,
    "start_time": "2021-06-08T17:25:09.642Z"
   },
   {
    "duration": 44,
    "start_time": "2021-06-08T17:25:09.690Z"
   },
   {
    "duration": 15,
    "start_time": "2021-06-08T17:25:09.737Z"
   },
   {
    "duration": 31,
    "start_time": "2021-06-08T17:25:09.754Z"
   },
   {
    "duration": 1077,
    "start_time": "2021-06-08T17:25:09.788Z"
   },
   {
    "duration": 5,
    "start_time": "2021-06-08T17:25:10.867Z"
   },
   {
    "duration": 39,
    "start_time": "2021-06-08T17:25:10.886Z"
   },
   {
    "duration": 26,
    "start_time": "2021-06-08T17:25:10.928Z"
   },
   {
    "duration": 35,
    "start_time": "2021-06-08T17:25:10.956Z"
   },
   {
    "duration": 342,
    "start_time": "2021-06-08T17:25:10.994Z"
   },
   {
    "duration": 12,
    "start_time": "2021-06-08T17:25:11.338Z"
   },
   {
    "duration": 33,
    "start_time": "2021-06-08T17:25:11.353Z"
   },
   {
    "duration": 5,
    "start_time": "2021-06-08T17:25:11.389Z"
   },
   {
    "duration": 589,
    "start_time": "2021-06-08T17:25:11.396Z"
   },
   {
    "duration": 18,
    "start_time": "2021-06-08T17:25:11.987Z"
   },
   {
    "duration": 251,
    "start_time": "2021-06-08T17:25:12.008Z"
   },
   {
    "duration": 23,
    "start_time": "2021-06-08T17:25:12.262Z"
   },
   {
    "duration": 11,
    "start_time": "2021-06-08T17:25:12.287Z"
   },
   {
    "duration": 473,
    "start_time": "2021-06-08T17:25:12.300Z"
   },
   {
    "duration": 20,
    "start_time": "2021-06-08T17:25:12.776Z"
   },
   {
    "duration": 236,
    "start_time": "2021-06-08T17:25:12.798Z"
   },
   {
    "duration": 12,
    "start_time": "2021-06-08T17:25:13.036Z"
   },
   {
    "duration": 14,
    "start_time": "2021-06-08T17:25:13.051Z"
   },
   {
    "duration": 457,
    "start_time": "2021-06-08T17:25:13.086Z"
   },
   {
    "duration": 16,
    "start_time": "2021-06-08T17:25:13.545Z"
   },
   {
    "duration": 244,
    "start_time": "2021-06-08T17:25:13.564Z"
   },
   {
    "duration": 14,
    "start_time": "2021-06-08T17:25:13.820Z"
   },
   {
    "duration": 11,
    "start_time": "2021-06-08T17:25:13.838Z"
   },
   {
    "duration": 438,
    "start_time": "2021-06-08T17:25:13.851Z"
   },
   {
    "duration": 16,
    "start_time": "2021-06-08T17:25:14.292Z"
   },
   {
    "duration": 252,
    "start_time": "2021-06-08T17:25:14.310Z"
   },
   {
    "duration": 22,
    "start_time": "2021-06-08T17:25:14.565Z"
   },
   {
    "duration": 12,
    "start_time": "2021-06-08T17:25:14.589Z"
   },
   {
    "duration": 665,
    "start_time": "2021-06-08T17:25:14.604Z"
   },
   {
    "duration": 23,
    "start_time": "2021-06-08T17:25:15.272Z"
   },
   {
    "duration": 232,
    "start_time": "2021-06-08T17:25:15.298Z"
   },
   {
    "duration": 12,
    "start_time": "2021-06-08T17:25:15.533Z"
   },
   {
    "duration": 20,
    "start_time": "2021-06-08T17:25:15.548Z"
   },
   {
    "duration": 497,
    "start_time": "2021-06-08T17:25:15.570Z"
   },
   {
    "duration": 43,
    "start_time": "2021-06-08T17:25:16.069Z"
   },
   {
    "duration": 383,
    "start_time": "2021-06-08T17:25:16.115Z"
   },
   {
    "duration": 14,
    "start_time": "2021-06-08T17:25:16.502Z"
   },
   {
    "duration": 461,
    "start_time": "2021-06-08T17:25:16.518Z"
   },
   {
    "duration": 12,
    "start_time": "2021-06-08T17:25:16.985Z"
   },
   {
    "duration": 16,
    "start_time": "2021-06-08T17:25:17.000Z"
   },
   {
    "duration": 12,
    "start_time": "2021-06-08T17:25:17.018Z"
   },
   {
    "duration": 12,
    "start_time": "2021-06-08T17:25:17.032Z"
   },
   {
    "duration": 15,
    "start_time": "2021-06-08T17:25:17.047Z"
   },
   {
    "duration": 23,
    "start_time": "2021-06-08T17:25:17.065Z"
   },
   {
    "duration": 569,
    "start_time": "2021-06-08T17:25:17.090Z"
   },
   {
    "duration": 5,
    "start_time": "2021-06-08T17:25:17.662Z"
   },
   {
    "duration": 17,
    "start_time": "2021-06-08T17:25:17.669Z"
   },
   {
    "duration": 7,
    "start_time": "2021-06-08T17:25:17.688Z"
   },
   {
    "duration": 10,
    "start_time": "2021-06-08T17:25:17.697Z"
   },
   {
    "duration": 11,
    "start_time": "2021-06-08T17:25:17.709Z"
   },
   {
    "duration": 414,
    "start_time": "2021-06-08T17:25:17.723Z"
   },
   {
    "duration": 373,
    "start_time": "2021-06-08T17:25:18.139Z"
   },
   {
    "duration": 4,
    "start_time": "2021-06-08T17:25:18.515Z"
   },
   {
    "duration": 255,
    "start_time": "2021-06-08T17:25:18.522Z"
   },
   {
    "duration": 20,
    "start_time": "2021-06-08T17:25:18.779Z"
   },
   {
    "duration": 24,
    "start_time": "2021-06-08T17:25:18.801Z"
   },
   {
    "duration": 25,
    "start_time": "2021-06-08T17:25:18.827Z"
   },
   {
    "duration": 21,
    "start_time": "2021-06-08T17:25:18.854Z"
   },
   {
    "duration": 25,
    "start_time": "2021-06-08T17:25:18.878Z"
   },
   {
    "duration": 79,
    "start_time": "2021-06-08T17:25:18.906Z"
   },
   {
    "duration": 4,
    "start_time": "2021-06-08T17:25:24.722Z"
   },
   {
    "duration": 190,
    "start_time": "2021-06-08T17:25:25.187Z"
   },
   {
    "duration": 220,
    "start_time": "2021-06-08T17:25:25.546Z"
   },
   {
    "duration": 118,
    "start_time": "2021-06-08T17:25:25.872Z"
   },
   {
    "duration": 22,
    "start_time": "2021-06-08T17:25:26.265Z"
   },
   {
    "duration": 32,
    "start_time": "2021-06-08T17:25:26.530Z"
   },
   {
    "duration": 27,
    "start_time": "2021-06-08T17:25:27.400Z"
   },
   {
    "duration": 11,
    "start_time": "2021-06-08T17:25:27.780Z"
   },
   {
    "duration": 16,
    "start_time": "2021-06-08T17:25:28.780Z"
   },
   {
    "duration": 15,
    "start_time": "2021-06-08T17:25:29.335Z"
   },
   {
    "duration": 8,
    "start_time": "2021-06-08T17:25:30.020Z"
   },
   {
    "duration": 8,
    "start_time": "2021-06-08T17:25:30.331Z"
   },
   {
    "duration": 24,
    "start_time": "2021-06-08T17:25:31.015Z"
   },
   {
    "duration": 13,
    "start_time": "2021-06-08T17:25:31.408Z"
   },
   {
    "duration": 25,
    "start_time": "2021-06-08T17:25:32.543Z"
   },
   {
    "duration": 21,
    "start_time": "2021-06-08T17:25:34.422Z"
   },
   {
    "duration": 20,
    "start_time": "2021-06-08T17:25:34.446Z"
   },
   {
    "duration": 8,
    "start_time": "2021-06-08T17:25:34.469Z"
   },
   {
    "duration": 11,
    "start_time": "2021-06-08T17:25:34.586Z"
   },
   {
    "duration": 10,
    "start_time": "2021-06-08T17:25:34.960Z"
   },
   {
    "duration": 7,
    "start_time": "2021-06-08T17:25:35.323Z"
   },
   {
    "duration": 15,
    "start_time": "2021-06-08T17:25:35.622Z"
   },
   {
    "duration": 37,
    "start_time": "2021-06-08T17:25:36.950Z"
   },
   {
    "duration": 29,
    "start_time": "2021-06-08T17:25:37.292Z"
   },
   {
    "duration": 25,
    "start_time": "2021-06-08T17:25:37.584Z"
   },
   {
    "duration": 7,
    "start_time": "2021-06-08T17:25:37.935Z"
   },
   {
    "duration": 6,
    "start_time": "2021-06-08T17:25:38.186Z"
   },
   {
    "duration": 31,
    "start_time": "2021-06-08T17:25:38.765Z"
   },
   {
    "duration": 25,
    "start_time": "2021-06-08T17:25:39.094Z"
   },
   {
    "duration": 22,
    "start_time": "2021-06-08T17:25:39.399Z"
   },
   {
    "duration": 42,
    "start_time": "2021-06-08T17:25:40.014Z"
   },
   {
    "duration": 9,
    "start_time": "2021-06-08T17:25:40.329Z"
   },
   {
    "duration": 74,
    "start_time": "2021-06-08T17:25:42.041Z"
   },
   {
    "duration": 10,
    "start_time": "2021-06-08T17:25:42.371Z"
   },
   {
    "duration": 30,
    "start_time": "2021-06-08T17:25:43.003Z"
   },
   {
    "duration": 35,
    "start_time": "2021-06-08T17:25:43.653Z"
   },
   {
    "duration": 9,
    "start_time": "2021-06-08T17:25:43.992Z"
   },
   {
    "duration": 26,
    "start_time": "2021-06-08T17:25:45.137Z"
   },
   {
    "duration": 22,
    "start_time": "2021-06-08T17:25:46.243Z"
   },
   {
    "duration": 19,
    "start_time": "2021-06-08T17:25:48.699Z"
   },
   {
    "duration": 8,
    "start_time": "2021-06-08T17:25:49.791Z"
   },
   {
    "duration": 7,
    "start_time": "2021-06-08T17:25:50.093Z"
   },
   {
    "duration": 42,
    "start_time": "2021-06-08T17:25:50.761Z"
   },
   {
    "duration": 15,
    "start_time": "2021-06-08T17:25:51.833Z"
   },
   {
    "duration": 3,
    "start_time": "2021-06-08T17:25:52.270Z"
   },
   {
    "duration": 1006,
    "start_time": "2021-06-08T17:25:52.690Z"
   },
   {
    "duration": 4,
    "start_time": "2021-06-08T17:25:57.734Z"
   },
   {
    "duration": 35,
    "start_time": "2021-06-08T17:25:58.303Z"
   },
   {
    "duration": 27,
    "start_time": "2021-06-08T17:26:01.403Z"
   },
   {
    "duration": 27,
    "start_time": "2021-06-08T17:26:46.192Z"
   },
   {
    "duration": 10,
    "start_time": "2021-06-08T17:30:23.660Z"
   },
   {
    "duration": 441,
    "start_time": "2021-06-08T17:31:02.162Z"
   },
   {
    "duration": 451,
    "start_time": "2021-06-08T17:32:15.310Z"
   },
   {
    "duration": 1085,
    "start_time": "2021-06-08T17:34:52.508Z"
   },
   {
    "duration": 30,
    "start_time": "2021-06-08T17:35:21.617Z"
   },
   {
    "duration": 30,
    "start_time": "2021-06-08T17:36:47.043Z"
   },
   {
    "duration": 29,
    "start_time": "2021-06-08T17:36:54.191Z"
   },
   {
    "duration": 49,
    "start_time": "2021-06-08T17:37:40.808Z"
   },
   {
    "duration": 467,
    "start_time": "2021-06-08T17:38:57.918Z"
   },
   {
    "duration": 41,
    "start_time": "2021-06-08T17:39:04.174Z"
   }
  ],
  "kernelspec": {
   "display_name": "Python 3",
   "language": "python",
   "name": "python3"
  },
  "language_info": {
   "codemirror_mode": {
    "name": "ipython",
    "version": 3
   },
   "file_extension": ".py",
   "mimetype": "text/x-python",
   "name": "python",
   "nbconvert_exporter": "python",
   "pygments_lexer": "ipython3",
   "version": "3.8.3"
  },
  "toc": {
   "base_numbering": 1,
   "nav_menu": {},
   "number_sections": true,
   "sideBar": true,
   "skip_h1_title": true,
   "title_cell": "Table of Contents",
   "title_sidebar": "Contents",
   "toc_cell": false,
   "toc_position": {},
   "toc_section_display": true,
   "toc_window_display": false
  }
 },
 "nbformat": 4,
 "nbformat_minor": 2
}
