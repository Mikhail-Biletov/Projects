{
 "cells": [
  {
   "cell_type": "markdown",
   "metadata": {
    "scrolled": true
   },
   "source": [
    "# Анализ базы данных сервиса для чтения книг по подписке"
   ]
  },
  {
   "cell_type": "markdown",
   "metadata": {},
   "source": [
    "Задача - проанализировать базу данных с информацией о книгах, издательствах, авторах, а также пользовательские обзоры книг. Эти данные помогут сформулировать ценностное предложение для нового продукта."
   ]
  },
  {
   "cell_type": "code",
   "execution_count": 1,
   "metadata": {},
   "outputs": [],
   "source": [
    "import pandas as pd\n",
    "from sqlalchemy import create_engine\n",
    "import numpy as np"
   ]
  },
  {
   "cell_type": "markdown",
   "metadata": {},
   "source": [
    "Импортируем основные библиотеки."
   ]
  },
  {
   "cell_type": "code",
   "execution_count": 2,
   "metadata": {},
   "outputs": [],
   "source": [
    "db_config = {'user': 'praktikum_student',\n",
    " 'pwd': 'Sdf4$2;d-d30pp',\n",
    " 'host': 'rc1b-wcoijxj3yxfsf3fs.mdb.yandexcloud.net',\n",
    " 'port': 6432, \n",
    " 'db': 'data-analyst-final-project-db'} "
   ]
  },
  {
   "cell_type": "markdown",
   "metadata": {},
   "source": [
    "Установим параметры."
   ]
  },
  {
   "cell_type": "code",
   "execution_count": 3,
   "metadata": {},
   "outputs": [],
   "source": [
    "connection_string = 'postgresql://{}:{}@{}:{}/{}'.format(db_config['user'],\n",
    " db_config['pwd'],\n",
    " db_config['host'],\n",
    " db_config['port'],\n",
    " db_config['db']) "
   ]
  },
  {
   "cell_type": "markdown",
   "metadata": {},
   "source": [
    "Пропишем строку соединения"
   ]
  },
  {
   "cell_type": "code",
   "execution_count": 4,
   "metadata": {},
   "outputs": [],
   "source": [
    "engine = create_engine(connection_string, connect_args={'sslmode':'require'}) "
   ]
  },
  {
   "cell_type": "markdown",
   "metadata": {},
   "source": [
    "Сохраним строку соединения"
   ]
  },
  {
   "cell_type": "code",
   "execution_count": 5,
   "metadata": {},
   "outputs": [],
   "source": [
    "books = ''' SELECT *\n",
    "            FROM books\n",
    "        '''"
   ]
  },
  {
   "cell_type": "markdown",
   "metadata": {},
   "source": [
    "Запишем текст запроса к таблице books"
   ]
  },
  {
   "cell_type": "code",
   "execution_count": 6,
   "metadata": {},
   "outputs": [
    {
     "data": {
      "text/html": [
       "<div>\n",
       "<style scoped>\n",
       "    .dataframe tbody tr th:only-of-type {\n",
       "        vertical-align: middle;\n",
       "    }\n",
       "\n",
       "    .dataframe tbody tr th {\n",
       "        vertical-align: top;\n",
       "    }\n",
       "\n",
       "    .dataframe thead th {\n",
       "        text-align: right;\n",
       "    }\n",
       "</style>\n",
       "<table border=\"1\" class=\"dataframe\">\n",
       "  <thead>\n",
       "    <tr style=\"text-align: right;\">\n",
       "      <th></th>\n",
       "      <th>book_id</th>\n",
       "      <th>author_id</th>\n",
       "      <th>title</th>\n",
       "      <th>num_pages</th>\n",
       "      <th>publication_date</th>\n",
       "      <th>publisher_id</th>\n",
       "    </tr>\n",
       "  </thead>\n",
       "  <tbody>\n",
       "    <tr>\n",
       "      <td>643</td>\n",
       "      <td>644</td>\n",
       "      <td>529</td>\n",
       "      <td>The Birth of Venus</td>\n",
       "      <td>427</td>\n",
       "      <td>2004-11-30</td>\n",
       "      <td>237</td>\n",
       "    </tr>\n",
       "    <tr>\n",
       "      <td>762</td>\n",
       "      <td>763</td>\n",
       "      <td>211</td>\n",
       "      <td>The Invisible Man</td>\n",
       "      <td>192</td>\n",
       "      <td>2002-09-03</td>\n",
       "      <td>267</td>\n",
       "    </tr>\n",
       "    <tr>\n",
       "      <td>635</td>\n",
       "      <td>636</td>\n",
       "      <td>561</td>\n",
       "      <td>The Art of War</td>\n",
       "      <td>273</td>\n",
       "      <td>2005-01-11</td>\n",
       "      <td>264</td>\n",
       "    </tr>\n",
       "  </tbody>\n",
       "</table>\n",
       "</div>"
      ],
      "text/plain": [
       "     book_id  author_id               title  num_pages publication_date  \\\n",
       "643      644        529  The Birth of Venus        427       2004-11-30   \n",
       "762      763        211   The Invisible Man        192       2002-09-03   \n",
       "635      636        561      The Art of War        273       2005-01-11   \n",
       "\n",
       "     publisher_id  \n",
       "643           237  \n",
       "762           267  \n",
       "635           264  "
      ]
     },
     "execution_count": 6,
     "metadata": {},
     "output_type": "execute_result"
    }
   ],
   "source": [
    "df_books=pd.io.sql.read_sql(books, con = engine)\n",
    "df_books.sample(3)"
   ]
  },
  {
   "cell_type": "markdown",
   "metadata": {},
   "source": [
    "Запишем таблицу books в датафрейм. Выведем 3 случайных строки датафрейма"
   ]
  },
  {
   "cell_type": "code",
   "execution_count": 7,
   "metadata": {},
   "outputs": [
    {
     "name": "stdout",
     "output_type": "stream",
     "text": [
      "<class 'pandas.core.frame.DataFrame'>\n",
      "RangeIndex: 1000 entries, 0 to 999\n",
      "Data columns (total 6 columns):\n",
      "book_id             1000 non-null int64\n",
      "author_id           1000 non-null int64\n",
      "title               1000 non-null object\n",
      "num_pages           1000 non-null int64\n",
      "publication_date    1000 non-null object\n",
      "publisher_id        1000 non-null int64\n",
      "dtypes: int64(4), object(2)\n",
      "memory usage: 47.0+ KB\n"
     ]
    }
   ],
   "source": [
    "df_books.info()"
   ]
  },
  {
   "cell_type": "markdown",
   "metadata": {},
   "source": [
    "Посмотрим на информацию о таблице"
   ]
  },
  {
   "cell_type": "code",
   "execution_count": 8,
   "metadata": {},
   "outputs": [],
   "source": [
    "authors = ''' SELECT *\n",
    "            FROM authors\n",
    "        '''"
   ]
  },
  {
   "cell_type": "code",
   "execution_count": 9,
   "metadata": {
    "scrolled": true
   },
   "outputs": [
    {
     "data": {
      "text/html": [
       "<div>\n",
       "<style scoped>\n",
       "    .dataframe tbody tr th:only-of-type {\n",
       "        vertical-align: middle;\n",
       "    }\n",
       "\n",
       "    .dataframe tbody tr th {\n",
       "        vertical-align: top;\n",
       "    }\n",
       "\n",
       "    .dataframe thead th {\n",
       "        text-align: right;\n",
       "    }\n",
       "</style>\n",
       "<table border=\"1\" class=\"dataframe\">\n",
       "  <thead>\n",
       "    <tr style=\"text-align: right;\">\n",
       "      <th></th>\n",
       "      <th>author_id</th>\n",
       "      <th>author</th>\n",
       "    </tr>\n",
       "  </thead>\n",
       "  <tbody>\n",
       "    <tr>\n",
       "      <td>420</td>\n",
       "      <td>421</td>\n",
       "      <td>Mitch Albom</td>\n",
       "    </tr>\n",
       "    <tr>\n",
       "      <td>317</td>\n",
       "      <td>318</td>\n",
       "      <td>Jonathan Swift/Robert DeMaria Jr.</td>\n",
       "    </tr>\n",
       "    <tr>\n",
       "      <td>133</td>\n",
       "      <td>134</td>\n",
       "      <td>Dodie Smith</td>\n",
       "    </tr>\n",
       "  </tbody>\n",
       "</table>\n",
       "</div>"
      ],
      "text/plain": [
       "     author_id                             author\n",
       "420        421                        Mitch Albom\n",
       "317        318  Jonathan Swift/Robert DeMaria Jr.\n",
       "133        134                        Dodie Smith"
      ]
     },
     "execution_count": 9,
     "metadata": {},
     "output_type": "execute_result"
    }
   ],
   "source": [
    "df_authors=pd.io.sql.read_sql(authors, con = engine)\n",
    "df_authors.sample(3)"
   ]
  },
  {
   "cell_type": "code",
   "execution_count": 10,
   "metadata": {
    "scrolled": true
   },
   "outputs": [
    {
     "name": "stdout",
     "output_type": "stream",
     "text": [
      "<class 'pandas.core.frame.DataFrame'>\n",
      "RangeIndex: 636 entries, 0 to 635\n",
      "Data columns (total 2 columns):\n",
      "author_id    636 non-null int64\n",
      "author       636 non-null object\n",
      "dtypes: int64(1), object(1)\n",
      "memory usage: 10.1+ KB\n"
     ]
    }
   ],
   "source": [
    "df_authors.info()"
   ]
  },
  {
   "cell_type": "markdown",
   "metadata": {},
   "source": [
    "Сделаем аналогичные шаги с таблицей authors"
   ]
  },
  {
   "cell_type": "code",
   "execution_count": 11,
   "metadata": {},
   "outputs": [],
   "source": [
    "publishers = ''' SELECT *\n",
    "            FROM publishers\n",
    "        '''"
   ]
  },
  {
   "cell_type": "code",
   "execution_count": 12,
   "metadata": {},
   "outputs": [
    {
     "data": {
      "text/html": [
       "<div>\n",
       "<style scoped>\n",
       "    .dataframe tbody tr th:only-of-type {\n",
       "        vertical-align: middle;\n",
       "    }\n",
       "\n",
       "    .dataframe tbody tr th {\n",
       "        vertical-align: top;\n",
       "    }\n",
       "\n",
       "    .dataframe thead th {\n",
       "        text-align: right;\n",
       "    }\n",
       "</style>\n",
       "<table border=\"1\" class=\"dataframe\">\n",
       "  <thead>\n",
       "    <tr style=\"text-align: right;\">\n",
       "      <th></th>\n",
       "      <th>publisher_id</th>\n",
       "      <th>publisher</th>\n",
       "    </tr>\n",
       "  </thead>\n",
       "  <tbody>\n",
       "    <tr>\n",
       "      <td>171</td>\n",
       "      <td>172</td>\n",
       "      <td>Laurel Leaf</td>\n",
       "    </tr>\n",
       "    <tr>\n",
       "      <td>252</td>\n",
       "      <td>253</td>\n",
       "      <td>Scholastic</td>\n",
       "    </tr>\n",
       "    <tr>\n",
       "      <td>100</td>\n",
       "      <td>101</td>\n",
       "      <td>Ember</td>\n",
       "    </tr>\n",
       "  </tbody>\n",
       "</table>\n",
       "</div>"
      ],
      "text/plain": [
       "     publisher_id    publisher\n",
       "171           172  Laurel Leaf\n",
       "252           253   Scholastic\n",
       "100           101        Ember"
      ]
     },
     "execution_count": 12,
     "metadata": {},
     "output_type": "execute_result"
    }
   ],
   "source": [
    "df_publishers=pd.io.sql.read_sql(publishers, con = engine)\n",
    "df_publishers.sample(3)"
   ]
  },
  {
   "cell_type": "code",
   "execution_count": 13,
   "metadata": {
    "scrolled": true
   },
   "outputs": [
    {
     "name": "stdout",
     "output_type": "stream",
     "text": [
      "<class 'pandas.core.frame.DataFrame'>\n",
      "RangeIndex: 340 entries, 0 to 339\n",
      "Data columns (total 2 columns):\n",
      "publisher_id    340 non-null int64\n",
      "publisher       340 non-null object\n",
      "dtypes: int64(1), object(1)\n",
      "memory usage: 5.4+ KB\n"
     ]
    }
   ],
   "source": [
    "df_publishers.info()"
   ]
  },
  {
   "cell_type": "markdown",
   "metadata": {},
   "source": [
    "Выведем информацию о таблице с издательствами"
   ]
  },
  {
   "cell_type": "code",
   "execution_count": 14,
   "metadata": {},
   "outputs": [],
   "source": [
    "ratings = ''' SELECT *\n",
    "            FROM ratings\n",
    "        '''"
   ]
  },
  {
   "cell_type": "code",
   "execution_count": 15,
   "metadata": {
    "scrolled": true
   },
   "outputs": [
    {
     "data": {
      "text/html": [
       "<div>\n",
       "<style scoped>\n",
       "    .dataframe tbody tr th:only-of-type {\n",
       "        vertical-align: middle;\n",
       "    }\n",
       "\n",
       "    .dataframe tbody tr th {\n",
       "        vertical-align: top;\n",
       "    }\n",
       "\n",
       "    .dataframe thead th {\n",
       "        text-align: right;\n",
       "    }\n",
       "</style>\n",
       "<table border=\"1\" class=\"dataframe\">\n",
       "  <thead>\n",
       "    <tr style=\"text-align: right;\">\n",
       "      <th></th>\n",
       "      <th>rating_id</th>\n",
       "      <th>book_id</th>\n",
       "      <th>username</th>\n",
       "      <th>rating</th>\n",
       "    </tr>\n",
       "  </thead>\n",
       "  <tbody>\n",
       "    <tr>\n",
       "      <td>5475</td>\n",
       "      <td>5476</td>\n",
       "      <td>847</td>\n",
       "      <td>dwayne09</td>\n",
       "      <td>3</td>\n",
       "    </tr>\n",
       "    <tr>\n",
       "      <td>4108</td>\n",
       "      <td>4109</td>\n",
       "      <td>670</td>\n",
       "      <td>odavila</td>\n",
       "      <td>3</td>\n",
       "    </tr>\n",
       "    <tr>\n",
       "      <td>2920</td>\n",
       "      <td>2921</td>\n",
       "      <td>461</td>\n",
       "      <td>fnguyen</td>\n",
       "      <td>5</td>\n",
       "    </tr>\n",
       "  </tbody>\n",
       "</table>\n",
       "</div>"
      ],
      "text/plain": [
       "      rating_id  book_id  username  rating\n",
       "5475       5476      847  dwayne09       3\n",
       "4108       4109      670   odavila       3\n",
       "2920       2921      461   fnguyen       5"
      ]
     },
     "execution_count": 15,
     "metadata": {},
     "output_type": "execute_result"
    }
   ],
   "source": [
    "df_ratings = pd.io.sql.read_sql(ratings, con = engine)\n",
    "df_ratings.sample(3)"
   ]
  },
  {
   "cell_type": "code",
   "execution_count": 16,
   "metadata": {},
   "outputs": [
    {
     "data": {
      "text/plain": [
       "1000"
      ]
     },
     "execution_count": 16,
     "metadata": {},
     "output_type": "execute_result"
    }
   ],
   "source": [
    "len(df_ratings['book_id'].unique())"
   ]
  },
  {
   "cell_type": "code",
   "execution_count": 17,
   "metadata": {
    "scrolled": true
   },
   "outputs": [
    {
     "name": "stdout",
     "output_type": "stream",
     "text": [
      "<class 'pandas.core.frame.DataFrame'>\n",
      "RangeIndex: 6456 entries, 0 to 6455\n",
      "Data columns (total 4 columns):\n",
      "rating_id    6456 non-null int64\n",
      "book_id      6456 non-null int64\n",
      "username     6456 non-null object\n",
      "rating       6456 non-null int64\n",
      "dtypes: int64(3), object(1)\n",
      "memory usage: 201.9+ KB\n"
     ]
    }
   ],
   "source": [
    "df_ratings.info()"
   ]
  },
  {
   "cell_type": "markdown",
   "metadata": {},
   "source": [
    "Прочтем таблицу с пользовательскими рейтингами"
   ]
  },
  {
   "cell_type": "code",
   "execution_count": 18,
   "metadata": {},
   "outputs": [],
   "source": [
    "reviews = ''' SELECT *\n",
    "            FROM reviews\n",
    "        '''"
   ]
  },
  {
   "cell_type": "code",
   "execution_count": 19,
   "metadata": {
    "scrolled": false
   },
   "outputs": [
    {
     "data": {
      "text/html": [
       "<div>\n",
       "<style scoped>\n",
       "    .dataframe tbody tr th:only-of-type {\n",
       "        vertical-align: middle;\n",
       "    }\n",
       "\n",
       "    .dataframe tbody tr th {\n",
       "        vertical-align: top;\n",
       "    }\n",
       "\n",
       "    .dataframe thead th {\n",
       "        text-align: right;\n",
       "    }\n",
       "</style>\n",
       "<table border=\"1\" class=\"dataframe\">\n",
       "  <thead>\n",
       "    <tr style=\"text-align: right;\">\n",
       "      <th></th>\n",
       "      <th>review_id</th>\n",
       "      <th>book_id</th>\n",
       "      <th>username</th>\n",
       "      <th>text</th>\n",
       "    </tr>\n",
       "  </thead>\n",
       "  <tbody>\n",
       "    <tr>\n",
       "      <td>0</td>\n",
       "      <td>1</td>\n",
       "      <td>1</td>\n",
       "      <td>brandtandrea</td>\n",
       "      <td>Mention society tell send professor analysis. ...</td>\n",
       "    </tr>\n",
       "    <tr>\n",
       "      <td>1</td>\n",
       "      <td>2</td>\n",
       "      <td>1</td>\n",
       "      <td>ryanfranco</td>\n",
       "      <td>Foot glass pretty audience hit themselves. Amo...</td>\n",
       "    </tr>\n",
       "    <tr>\n",
       "      <td>2</td>\n",
       "      <td>3</td>\n",
       "      <td>2</td>\n",
       "      <td>lorichen</td>\n",
       "      <td>Listen treat keep worry. Miss husband tax but ...</td>\n",
       "    </tr>\n",
       "  </tbody>\n",
       "</table>\n",
       "</div>"
      ],
      "text/plain": [
       "   review_id  book_id      username  \\\n",
       "0          1        1  brandtandrea   \n",
       "1          2        1    ryanfranco   \n",
       "2          3        2      lorichen   \n",
       "\n",
       "                                                text  \n",
       "0  Mention society tell send professor analysis. ...  \n",
       "1  Foot glass pretty audience hit themselves. Amo...  \n",
       "2  Listen treat keep worry. Miss husband tax but ...  "
      ]
     },
     "execution_count": 19,
     "metadata": {},
     "output_type": "execute_result"
    }
   ],
   "source": [
    "df_reviews = pd.io.sql.read_sql(reviews, con = engine)\n",
    "df_reviews.head(3)"
   ]
  },
  {
   "cell_type": "code",
   "execution_count": 20,
   "metadata": {},
   "outputs": [
    {
     "data": {
      "text/plain": [
       "994"
      ]
     },
     "execution_count": 20,
     "metadata": {},
     "output_type": "execute_result"
    }
   ],
   "source": [
    "len(df_reviews['book_id'].unique())"
   ]
  },
  {
   "cell_type": "markdown",
   "metadata": {},
   "source": [
    "В датафрейме - отзывы о 994 книгах из 1000, не хватает отзывов о 6 книгах."
   ]
  },
  {
   "cell_type": "code",
   "execution_count": 21,
   "metadata": {
    "scrolled": true
   },
   "outputs": [
    {
     "data": {
      "text/html": [
       "<div>\n",
       "<style scoped>\n",
       "    .dataframe tbody tr th:only-of-type {\n",
       "        vertical-align: middle;\n",
       "    }\n",
       "\n",
       "    .dataframe tbody tr th {\n",
       "        vertical-align: top;\n",
       "    }\n",
       "\n",
       "    .dataframe thead th {\n",
       "        text-align: right;\n",
       "    }\n",
       "</style>\n",
       "<table border=\"1\" class=\"dataframe\">\n",
       "  <thead>\n",
       "    <tr style=\"text-align: right;\">\n",
       "      <th></th>\n",
       "      <th>book_id</th>\n",
       "      <th>author_id</th>\n",
       "      <th>title</th>\n",
       "      <th>num_pages</th>\n",
       "      <th>publication_date</th>\n",
       "      <th>publisher_id</th>\n",
       "      <th>review_id</th>\n",
       "      <th>username</th>\n",
       "      <th>text</th>\n",
       "    </tr>\n",
       "  </thead>\n",
       "  <tbody>\n",
       "    <tr>\n",
       "      <td>241</td>\n",
       "      <td>83</td>\n",
       "      <td>174</td>\n",
       "      <td>Anne Rice's The Vampire Lestat: A Graphic Novel</td>\n",
       "      <td>404</td>\n",
       "      <td>1991-11-30</td>\n",
       "      <td>33</td>\n",
       "      <td>NaN</td>\n",
       "      <td>NaN</td>\n",
       "      <td>NaN</td>\n",
       "    </tr>\n",
       "    <tr>\n",
       "      <td>520</td>\n",
       "      <td>191</td>\n",
       "      <td>568</td>\n",
       "      <td>Disney's Beauty and the Beast (A Little Golden...</td>\n",
       "      <td>24</td>\n",
       "      <td>2004-05-11</td>\n",
       "      <td>113</td>\n",
       "      <td>NaN</td>\n",
       "      <td>NaN</td>\n",
       "      <td>NaN</td>\n",
       "    </tr>\n",
       "    <tr>\n",
       "      <td>605</td>\n",
       "      <td>221</td>\n",
       "      <td>151</td>\n",
       "      <td>Essential Tales and Poems</td>\n",
       "      <td>688</td>\n",
       "      <td>2004-10-25</td>\n",
       "      <td>42</td>\n",
       "      <td>NaN</td>\n",
       "      <td>NaN</td>\n",
       "      <td>NaN</td>\n",
       "    </tr>\n",
       "    <tr>\n",
       "      <td>1055</td>\n",
       "      <td>387</td>\n",
       "      <td>365</td>\n",
       "      <td>Leonardo's Notebooks</td>\n",
       "      <td>352</td>\n",
       "      <td>2005-08-01</td>\n",
       "      <td>49</td>\n",
       "      <td>NaN</td>\n",
       "      <td>NaN</td>\n",
       "      <td>NaN</td>\n",
       "    </tr>\n",
       "    <tr>\n",
       "      <td>1854</td>\n",
       "      <td>672</td>\n",
       "      <td>144</td>\n",
       "      <td>The Cat in the Hat and Other Dr. Seuss Favorites</td>\n",
       "      <td>61</td>\n",
       "      <td>2003-10-14</td>\n",
       "      <td>174</td>\n",
       "      <td>NaN</td>\n",
       "      <td>NaN</td>\n",
       "      <td>NaN</td>\n",
       "    </tr>\n",
       "    <tr>\n",
       "      <td>2249</td>\n",
       "      <td>808</td>\n",
       "      <td>350</td>\n",
       "      <td>The Natural Way to Draw</td>\n",
       "      <td>240</td>\n",
       "      <td>1990-02-01</td>\n",
       "      <td>178</td>\n",
       "      <td>NaN</td>\n",
       "      <td>NaN</td>\n",
       "      <td>NaN</td>\n",
       "    </tr>\n",
       "  </tbody>\n",
       "</table>\n",
       "</div>"
      ],
      "text/plain": [
       "      book_id  author_id                                              title  \\\n",
       "241        83        174    Anne Rice's The Vampire Lestat: A Graphic Novel   \n",
       "520       191        568  Disney's Beauty and the Beast (A Little Golden...   \n",
       "605       221        151                          Essential Tales and Poems   \n",
       "1055      387        365                               Leonardo's Notebooks   \n",
       "1854      672        144   The Cat in the Hat and Other Dr. Seuss Favorites   \n",
       "2249      808        350                            The Natural Way to Draw   \n",
       "\n",
       "      num_pages publication_date  publisher_id  review_id username text  \n",
       "241         404       1991-11-30            33        NaN      NaN  NaN  \n",
       "520          24       2004-05-11           113        NaN      NaN  NaN  \n",
       "605         688       2004-10-25            42        NaN      NaN  NaN  \n",
       "1055        352       2005-08-01            49        NaN      NaN  NaN  \n",
       "1854         61       2003-10-14           174        NaN      NaN  NaN  \n",
       "2249        240       1990-02-01           178        NaN      NaN  NaN  "
      ]
     },
     "execution_count": 21,
     "metadata": {},
     "output_type": "execute_result"
    }
   ],
   "source": [
    "df_missing_reviews = df_books.merge(df_reviews, on = 'book_id', how = 'left')\n",
    "df_missing_reviews.query('review_id.isna()')"
   ]
  },
  {
   "cell_type": "markdown",
   "metadata": {},
   "source": [
    "Выведем книги, о которых нет отзывов."
   ]
  },
  {
   "cell_type": "code",
   "execution_count": 22,
   "metadata": {
    "scrolled": false
   },
   "outputs": [
    {
     "name": "stdout",
     "output_type": "stream",
     "text": [
      "<class 'pandas.core.frame.DataFrame'>\n",
      "RangeIndex: 2793 entries, 0 to 2792\n",
      "Data columns (total 4 columns):\n",
      "review_id    2793 non-null int64\n",
      "book_id      2793 non-null int64\n",
      "username     2793 non-null object\n",
      "text         2793 non-null object\n",
      "dtypes: int64(2), object(2)\n",
      "memory usage: 87.4+ KB\n"
     ]
    }
   ],
   "source": [
    "df_reviews.info()"
   ]
  },
  {
   "cell_type": "code",
   "execution_count": 23,
   "metadata": {},
   "outputs": [
    {
     "data": {
      "text/plain": [
       "0"
      ]
     },
     "execution_count": 23,
     "metadata": {},
     "output_type": "execute_result"
    }
   ],
   "source": [
    "df_reviews.duplicated().sum()"
   ]
  },
  {
   "cell_type": "code",
   "execution_count": 24,
   "metadata": {},
   "outputs": [
    {
     "data": {
      "text/plain": [
       "count    2793.000000\n",
       "mean      504.693161\n",
       "std       288.472931\n",
       "min         1.000000\n",
       "25%       259.000000\n",
       "50%       505.000000\n",
       "75%       753.000000\n",
       "max      1000.000000\n",
       "Name: book_id, dtype: float64"
      ]
     },
     "execution_count": 24,
     "metadata": {},
     "output_type": "execute_result"
    }
   ],
   "source": [
    "df_reviews['book_id'].describe()"
   ]
  },
  {
   "cell_type": "code",
   "execution_count": 25,
   "metadata": {},
   "outputs": [
    {
     "name": "stdout",
     "output_type": "stream",
     "text": [
      "review_id - 0.0%\n",
      "book_id - 0.0%\n",
      "username - 0.0%\n",
      "text - 0.0%\n"
     ]
    }
   ],
   "source": [
    "cols = df_reviews.columns[:6]\n",
    "for col in df_reviews.columns:\n",
    "    pct_missing = np.mean(df_reviews[col].isna())\n",
    "    print('{} - {}%'.format(col, pct_missing*100))"
   ]
  },
  {
   "cell_type": "markdown",
   "metadata": {},
   "source": [
    "Прочтем таблицу с ревью"
   ]
  },
  {
   "cell_type": "code",
   "execution_count": 26,
   "metadata": {},
   "outputs": [],
   "source": [
    "books_after_1_jan_2000 = '''select count(book_id)\n",
    "                            from books\n",
    "                            where cast(publication_date as date)>='2000-01-01'\n",
    "                            '''"
   ]
  },
  {
   "cell_type": "code",
   "execution_count": 27,
   "metadata": {
    "scrolled": false
   },
   "outputs": [
    {
     "data": {
      "text/html": [
       "<div>\n",
       "<style scoped>\n",
       "    .dataframe tbody tr th:only-of-type {\n",
       "        vertical-align: middle;\n",
       "    }\n",
       "\n",
       "    .dataframe tbody tr th {\n",
       "        vertical-align: top;\n",
       "    }\n",
       "\n",
       "    .dataframe thead th {\n",
       "        text-align: right;\n",
       "    }\n",
       "</style>\n",
       "<table border=\"1\" class=\"dataframe\">\n",
       "  <thead>\n",
       "    <tr style=\"text-align: right;\">\n",
       "      <th></th>\n",
       "      <th>count</th>\n",
       "    </tr>\n",
       "  </thead>\n",
       "  <tbody>\n",
       "    <tr>\n",
       "      <td>0</td>\n",
       "      <td>821</td>\n",
       "    </tr>\n",
       "  </tbody>\n",
       "</table>\n",
       "</div>"
      ],
      "text/plain": [
       "   count\n",
       "0    821"
      ]
     },
     "execution_count": 27,
     "metadata": {},
     "output_type": "execute_result"
    }
   ],
   "source": [
    "books_after_1_jan_2000_qty = pd.io.sql.read_sql(books_after_1_jan_2000, con = engine)\n",
    "books_after_1_jan_2000_qty"
   ]
  },
  {
   "cell_type": "markdown",
   "metadata": {},
   "source": [
    "Посчитаем, сколько книг вышло после 1 января 2000 года. После этой даты вышла 821 книга."
   ]
  },
  {
   "cell_type": "code",
   "execution_count": 28,
   "metadata": {},
   "outputs": [],
   "source": [
    "reviews_and_ratings = '''select subq.title, subq.average_raiting, count(reviews.username) as review_qty\n",
    "                        from\n",
    "                            (select books.title as title, avg(ratings.rating) as average_raiting, books.book_id as book_id\n",
    "                            from books\n",
    "                            left join ratings on ratings.book_id = books.book_id\n",
    "                            group by books.title, books.book_id) as subq\n",
    "                            left join reviews on reviews.book_id = subq.book_id\n",
    "                        group by subq.title, subq.average_raiting\n",
    "                        order by average_raiting desc, review_qty desc'''"
   ]
  },
  {
   "cell_type": "code",
   "execution_count": 29,
   "metadata": {
    "scrolled": true
   },
   "outputs": [
    {
     "data": {
      "text/html": [
       "<div>\n",
       "<style scoped>\n",
       "    .dataframe tbody tr th:only-of-type {\n",
       "        vertical-align: middle;\n",
       "    }\n",
       "\n",
       "    .dataframe tbody tr th {\n",
       "        vertical-align: top;\n",
       "    }\n",
       "\n",
       "    .dataframe thead th {\n",
       "        text-align: right;\n",
       "    }\n",
       "</style>\n",
       "<table border=\"1\" class=\"dataframe\">\n",
       "  <thead>\n",
       "    <tr style=\"text-align: right;\">\n",
       "      <th></th>\n",
       "      <th>title</th>\n",
       "      <th>average_raiting</th>\n",
       "      <th>review_qty</th>\n",
       "    </tr>\n",
       "  </thead>\n",
       "  <tbody>\n",
       "    <tr>\n",
       "      <td>0</td>\n",
       "      <td>A Dirty Job (Grim Reaper  #1)</td>\n",
       "      <td>5.00</td>\n",
       "      <td>4</td>\n",
       "    </tr>\n",
       "    <tr>\n",
       "      <td>1</td>\n",
       "      <td>Moneyball: The Art of Winning an Unfair Game</td>\n",
       "      <td>5.00</td>\n",
       "      <td>3</td>\n",
       "    </tr>\n",
       "    <tr>\n",
       "      <td>2</td>\n",
       "      <td>School's Out—Forever (Maximum Ride  #2)</td>\n",
       "      <td>5.00</td>\n",
       "      <td>3</td>\n",
       "    </tr>\n",
       "    <tr>\n",
       "      <td>3</td>\n",
       "      <td>A Woman of Substance (Emma Harte Saga #1)</td>\n",
       "      <td>5.00</td>\n",
       "      <td>2</td>\n",
       "    </tr>\n",
       "    <tr>\n",
       "      <td>4</td>\n",
       "      <td>Tai-Pan (Asian Saga  #2)</td>\n",
       "      <td>5.00</td>\n",
       "      <td>2</td>\n",
       "    </tr>\n",
       "    <tr>\n",
       "      <td>...</td>\n",
       "      <td>...</td>\n",
       "      <td>...</td>\n",
       "      <td>...</td>\n",
       "    </tr>\n",
       "    <tr>\n",
       "      <td>995</td>\n",
       "      <td>The World Is Flat: A Brief History of the Twen...</td>\n",
       "      <td>2.25</td>\n",
       "      <td>3</td>\n",
       "    </tr>\n",
       "    <tr>\n",
       "      <td>996</td>\n",
       "      <td>Drowning Ruth</td>\n",
       "      <td>2.00</td>\n",
       "      <td>3</td>\n",
       "    </tr>\n",
       "    <tr>\n",
       "      <td>997</td>\n",
       "      <td>His Excellency: George Washington</td>\n",
       "      <td>2.00</td>\n",
       "      <td>2</td>\n",
       "    </tr>\n",
       "    <tr>\n",
       "      <td>998</td>\n",
       "      <td>Junky</td>\n",
       "      <td>2.00</td>\n",
       "      <td>2</td>\n",
       "    </tr>\n",
       "    <tr>\n",
       "      <td>999</td>\n",
       "      <td>Harvesting the Heart</td>\n",
       "      <td>1.50</td>\n",
       "      <td>2</td>\n",
       "    </tr>\n",
       "  </tbody>\n",
       "</table>\n",
       "<p>1000 rows × 3 columns</p>\n",
       "</div>"
      ],
      "text/plain": [
       "                                                 title  average_raiting  \\\n",
       "0                        A Dirty Job (Grim Reaper  #1)             5.00   \n",
       "1         Moneyball: The Art of Winning an Unfair Game             5.00   \n",
       "2              School's Out—Forever (Maximum Ride  #2)             5.00   \n",
       "3            A Woman of Substance (Emma Harte Saga #1)             5.00   \n",
       "4                             Tai-Pan (Asian Saga  #2)             5.00   \n",
       "..                                                 ...              ...   \n",
       "995  The World Is Flat: A Brief History of the Twen...             2.25   \n",
       "996                                      Drowning Ruth             2.00   \n",
       "997                  His Excellency: George Washington             2.00   \n",
       "998                                              Junky             2.00   \n",
       "999                               Harvesting the Heart             1.50   \n",
       "\n",
       "     review_qty  \n",
       "0             4  \n",
       "1             3  \n",
       "2             3  \n",
       "3             2  \n",
       "4             2  \n",
       "..          ...  \n",
       "995           3  \n",
       "996           3  \n",
       "997           2  \n",
       "998           2  \n",
       "999           2  \n",
       "\n",
       "[1000 rows x 3 columns]"
      ]
     },
     "execution_count": 29,
     "metadata": {},
     "output_type": "execute_result"
    }
   ],
   "source": [
    "reviews_and_ratings_table = pd.io.sql.read_sql(reviews_and_ratings, con = engine)\n",
    "reviews_and_ratings_table"
   ]
  },
  {
   "cell_type": "code",
   "execution_count": 30,
   "metadata": {
    "scrolled": true
   },
   "outputs": [
    {
     "data": {
      "text/plain": [
       "2793"
      ]
     },
     "execution_count": 30,
     "metadata": {},
     "output_type": "execute_result"
    }
   ],
   "source": [
    "reviews_and_ratings_table['review_qty'].sum()"
   ]
  },
  {
   "cell_type": "code",
   "execution_count": 31,
   "metadata": {
    "scrolled": true
   },
   "outputs": [
    {
     "data": {
      "text/plain": [
       "count    1000.000000\n",
       "mean        3.898973\n",
       "std         0.562376\n",
       "min         1.500000\n",
       "25%         3.500000\n",
       "50%         4.000000\n",
       "75%         4.333333\n",
       "max         5.000000\n",
       "Name: average_raiting, dtype: float64"
      ]
     },
     "execution_count": 31,
     "metadata": {},
     "output_type": "execute_result"
    }
   ],
   "source": [
    "reviews_and_ratings_table['average_raiting'].describe()"
   ]
  },
  {
   "cell_type": "code",
   "execution_count": 32,
   "metadata": {},
   "outputs": [
    {
     "data": {
      "text/plain": [
       "count    1000.000000\n",
       "mean        2.793000\n",
       "std         1.074852\n",
       "min         0.000000\n",
       "25%         2.000000\n",
       "50%         3.000000\n",
       "75%         3.000000\n",
       "max         7.000000\n",
       "Name: review_qty, dtype: float64"
      ]
     },
     "execution_count": 32,
     "metadata": {},
     "output_type": "execute_result"
    }
   ],
   "source": [
    "reviews_and_ratings_table['review_qty'].describe()"
   ]
  },
  {
   "cell_type": "markdown",
   "metadata": {},
   "source": [
    "Для каждой книги посчитаем количество обзоров и среднюю оценку"
   ]
  },
  {
   "cell_type": "code",
   "execution_count": 33,
   "metadata": {},
   "outputs": [],
   "source": [
    "fatest_publisher = ''' select max(subq.count), subq.publisher\n",
    "                        from                        \n",
    "                            (select publishers.publisher, count(books.book_id)\n",
    "                            from\n",
    "                                books\n",
    "                                left join publishers on publishers.publisher_id = books.publisher_id\n",
    "                            where books.num_pages>50\n",
    "                            group by\n",
    "                            publishers.publisher\n",
    "                            order by count desc) AS subq\n",
    "                        group by subq.publisher\n",
    "                        order by max desc\n",
    "                    '''"
   ]
  },
  {
   "cell_type": "code",
   "execution_count": 34,
   "metadata": {
    "scrolled": false
   },
   "outputs": [
    {
     "data": {
      "text/html": [
       "<div>\n",
       "<style scoped>\n",
       "    .dataframe tbody tr th:only-of-type {\n",
       "        vertical-align: middle;\n",
       "    }\n",
       "\n",
       "    .dataframe tbody tr th {\n",
       "        vertical-align: top;\n",
       "    }\n",
       "\n",
       "    .dataframe thead th {\n",
       "        text-align: right;\n",
       "    }\n",
       "</style>\n",
       "<table border=\"1\" class=\"dataframe\">\n",
       "  <thead>\n",
       "    <tr style=\"text-align: right;\">\n",
       "      <th></th>\n",
       "      <th>max</th>\n",
       "      <th>publisher</th>\n",
       "    </tr>\n",
       "  </thead>\n",
       "  <tbody>\n",
       "    <tr>\n",
       "      <td>0</td>\n",
       "      <td>42</td>\n",
       "      <td>Penguin Books</td>\n",
       "    </tr>\n",
       "    <tr>\n",
       "      <td>1</td>\n",
       "      <td>31</td>\n",
       "      <td>Vintage</td>\n",
       "    </tr>\n",
       "    <tr>\n",
       "      <td>2</td>\n",
       "      <td>25</td>\n",
       "      <td>Grand Central Publishing</td>\n",
       "    </tr>\n",
       "    <tr>\n",
       "      <td>3</td>\n",
       "      <td>24</td>\n",
       "      <td>Penguin Classics</td>\n",
       "    </tr>\n",
       "    <tr>\n",
       "      <td>4</td>\n",
       "      <td>19</td>\n",
       "      <td>Ballantine Books</td>\n",
       "    </tr>\n",
       "    <tr>\n",
       "      <td>...</td>\n",
       "      <td>...</td>\n",
       "      <td>...</td>\n",
       "    </tr>\n",
       "    <tr>\n",
       "      <td>329</td>\n",
       "      <td>1</td>\n",
       "      <td>Noonday Press</td>\n",
       "    </tr>\n",
       "    <tr>\n",
       "      <td>330</td>\n",
       "      <td>1</td>\n",
       "      <td>Atheneum Books for Young Readers: Richard Jack...</td>\n",
       "    </tr>\n",
       "    <tr>\n",
       "      <td>331</td>\n",
       "      <td>1</td>\n",
       "      <td>Penguin Signet</td>\n",
       "    </tr>\n",
       "    <tr>\n",
       "      <td>332</td>\n",
       "      <td>1</td>\n",
       "      <td>Victor Gollancz</td>\n",
       "    </tr>\n",
       "    <tr>\n",
       "      <td>333</td>\n",
       "      <td>1</td>\n",
       "      <td>Harvard Business Review Press</td>\n",
       "    </tr>\n",
       "  </tbody>\n",
       "</table>\n",
       "<p>334 rows × 2 columns</p>\n",
       "</div>"
      ],
      "text/plain": [
       "     max                                          publisher\n",
       "0     42                                      Penguin Books\n",
       "1     31                                            Vintage\n",
       "2     25                           Grand Central Publishing\n",
       "3     24                                   Penguin Classics\n",
       "4     19                                   Ballantine Books\n",
       "..   ...                                                ...\n",
       "329    1                                      Noonday Press\n",
       "330    1  Atheneum Books for Young Readers: Richard Jack...\n",
       "331    1                                     Penguin Signet\n",
       "332    1                                    Victor Gollancz\n",
       "333    1                      Harvard Business Review Press\n",
       "\n",
       "[334 rows x 2 columns]"
      ]
     },
     "execution_count": 34,
     "metadata": {},
     "output_type": "execute_result"
    }
   ],
   "source": [
    "fatest_publisher_table = pd.io.sql.read_sql(fatest_publisher, con = engine)\n",
    "fatest_publisher_table"
   ]
  },
  {
   "cell_type": "markdown",
   "metadata": {},
   "source": [
    "Определим издательство, выпустившее максимальное количество книг толще 50 страниц (чтобы не учитывать брошюры). Это Penguin Books"
   ]
  },
  {
   "cell_type": "code",
   "execution_count": 35,
   "metadata": {},
   "outputs": [],
   "source": [
    "best_author = '''   select authors.author, avg(ratings.rating) as avg_raiting\n",
    "                    from books\n",
    "                    left join authors on authors.author_id = books.author_id\n",
    "                    left join ratings on ratings.book_id = books.book_id\n",
    "                    where books.book_id in  \n",
    "                        (select ratings.book_id\n",
    "                        from ratings\n",
    "                        group by ratings.book_id\n",
    "                        having(count(ratings.book_id)>50))\n",
    "                    group by authors.author\n",
    "                    order by avg_raiting desc\n",
    "                '''"
   ]
  },
  {
   "cell_type": "code",
   "execution_count": 36,
   "metadata": {
    "scrolled": false
   },
   "outputs": [
    {
     "data": {
      "text/html": [
       "<div>\n",
       "<style scoped>\n",
       "    .dataframe tbody tr th:only-of-type {\n",
       "        vertical-align: middle;\n",
       "    }\n",
       "\n",
       "    .dataframe tbody tr th {\n",
       "        vertical-align: top;\n",
       "    }\n",
       "\n",
       "    .dataframe thead th {\n",
       "        text-align: right;\n",
       "    }\n",
       "</style>\n",
       "<table border=\"1\" class=\"dataframe\">\n",
       "  <thead>\n",
       "    <tr style=\"text-align: right;\">\n",
       "      <th></th>\n",
       "      <th>author</th>\n",
       "      <th>avg_raiting</th>\n",
       "    </tr>\n",
       "  </thead>\n",
       "  <tbody>\n",
       "    <tr>\n",
       "      <td>0</td>\n",
       "      <td>J.K. Rowling/Mary GrandPré</td>\n",
       "      <td>4.287097</td>\n",
       "    </tr>\n",
       "    <tr>\n",
       "      <td>1</td>\n",
       "      <td>Markus Zusak/Cao Xuân Việt Khương</td>\n",
       "      <td>4.264151</td>\n",
       "    </tr>\n",
       "    <tr>\n",
       "      <td>2</td>\n",
       "      <td>J.R.R. Tolkien</td>\n",
       "      <td>4.246914</td>\n",
       "    </tr>\n",
       "    <tr>\n",
       "      <td>3</td>\n",
       "      <td>Louisa May Alcott</td>\n",
       "      <td>4.192308</td>\n",
       "    </tr>\n",
       "    <tr>\n",
       "      <td>4</td>\n",
       "      <td>Rick Riordan</td>\n",
       "      <td>4.080645</td>\n",
       "    </tr>\n",
       "    <tr>\n",
       "      <td>5</td>\n",
       "      <td>William Golding</td>\n",
       "      <td>3.901408</td>\n",
       "    </tr>\n",
       "    <tr>\n",
       "      <td>6</td>\n",
       "      <td>J.D. Salinger</td>\n",
       "      <td>3.825581</td>\n",
       "    </tr>\n",
       "    <tr>\n",
       "      <td>7</td>\n",
       "      <td>Paulo Coelho/Alan R. Clarke/Özdemir İnce</td>\n",
       "      <td>3.789474</td>\n",
       "    </tr>\n",
       "    <tr>\n",
       "      <td>8</td>\n",
       "      <td>William Shakespeare/Paul Werstine/Barbara A. M...</td>\n",
       "      <td>3.787879</td>\n",
       "    </tr>\n",
       "    <tr>\n",
       "      <td>9</td>\n",
       "      <td>Lois Lowry</td>\n",
       "      <td>3.750000</td>\n",
       "    </tr>\n",
       "    <tr>\n",
       "      <td>10</td>\n",
       "      <td>Dan Brown</td>\n",
       "      <td>3.741259</td>\n",
       "    </tr>\n",
       "    <tr>\n",
       "      <td>11</td>\n",
       "      <td>George Orwell/Boris Grabnar/Peter Škerl</td>\n",
       "      <td>3.729730</td>\n",
       "    </tr>\n",
       "    <tr>\n",
       "      <td>12</td>\n",
       "      <td>Stephenie Meyer</td>\n",
       "      <td>3.662500</td>\n",
       "    </tr>\n",
       "    <tr>\n",
       "      <td>13</td>\n",
       "      <td>John Steinbeck</td>\n",
       "      <td>3.622951</td>\n",
       "    </tr>\n",
       "  </tbody>\n",
       "</table>\n",
       "</div>"
      ],
      "text/plain": [
       "                                               author  avg_raiting\n",
       "0                          J.K. Rowling/Mary GrandPré     4.287097\n",
       "1                   Markus Zusak/Cao Xuân Việt Khương     4.264151\n",
       "2                                      J.R.R. Tolkien     4.246914\n",
       "3                                   Louisa May Alcott     4.192308\n",
       "4                                        Rick Riordan     4.080645\n",
       "5                                     William Golding     3.901408\n",
       "6                                       J.D. Salinger     3.825581\n",
       "7            Paulo Coelho/Alan R. Clarke/Özdemir İnce     3.789474\n",
       "8   William Shakespeare/Paul Werstine/Barbara A. M...     3.787879\n",
       "9                                          Lois Lowry     3.750000\n",
       "10                                          Dan Brown     3.741259\n",
       "11            George Orwell/Boris Grabnar/Peter Škerl     3.729730\n",
       "12                                    Stephenie Meyer     3.662500\n",
       "13                                     John Steinbeck     3.622951"
      ]
     },
     "execution_count": 36,
     "metadata": {},
     "output_type": "execute_result"
    }
   ],
   "source": [
    "best_author_table = pd.io.sql.read_sql(best_author, con = engine)\n",
    "best_author_table"
   ]
  },
  {
   "cell_type": "markdown",
   "metadata": {},
   "source": [
    "Определите автора с самой высокой средней оценкой книг, учитывая только книги с 50 и более оценками. Это J.K. Rowling, средняя оценка 4,287"
   ]
  },
  {
   "cell_type": "code",
   "execution_count": 37,
   "metadata": {},
   "outputs": [],
   "source": [
    "avg_score = ''' \n",
    "                    select avg(cnt)\n",
    "                    from\n",
    "                    (select reviews.username as name, count(reviews.username) as cnt\n",
    "                    from reviews\n",
    "                    where reviews.username in\n",
    "                        (select ratings.username\n",
    "                        from ratings\n",
    "                        group by ratings.username\n",
    "                        having(count(ratings.book_id)>50))\n",
    "                    group by reviews.username) as subq\n",
    "                '''"
   ]
  },
  {
   "cell_type": "code",
   "execution_count": 38,
   "metadata": {},
   "outputs": [
    {
     "data": {
      "text/html": [
       "<div>\n",
       "<style scoped>\n",
       "    .dataframe tbody tr th:only-of-type {\n",
       "        vertical-align: middle;\n",
       "    }\n",
       "\n",
       "    .dataframe tbody tr th {\n",
       "        vertical-align: top;\n",
       "    }\n",
       "\n",
       "    .dataframe thead th {\n",
       "        text-align: right;\n",
       "    }\n",
       "</style>\n",
       "<table border=\"1\" class=\"dataframe\">\n",
       "  <thead>\n",
       "    <tr style=\"text-align: right;\">\n",
       "      <th></th>\n",
       "      <th>avg</th>\n",
       "    </tr>\n",
       "  </thead>\n",
       "  <tbody>\n",
       "    <tr>\n",
       "      <td>0</td>\n",
       "      <td>24.333333</td>\n",
       "    </tr>\n",
       "  </tbody>\n",
       "</table>\n",
       "</div>"
      ],
      "text/plain": [
       "         avg\n",
       "0  24.333333"
      ]
     },
     "execution_count": 38,
     "metadata": {},
     "output_type": "execute_result"
    }
   ],
   "source": [
    "avg_score_table = pd.io.sql.read_sql(avg_score, con = engine)\n",
    "avg_score_table"
   ]
  },
  {
   "cell_type": "markdown",
   "metadata": {},
   "source": [
    "Посчитаем среднее количество обзоров от пользователей, которые поставили больше 50 оценок. В среднем такие пользователи делают 24,3 обзора."
   ]
  },
  {
   "cell_type": "markdown",
   "metadata": {},
   "source": [
    "# Общие выводы"
   ]
  },
  {
   "cell_type": "markdown",
   "metadata": {},
   "source": [
    "- В базе содержится информация о 1000 книг.\n",
    "\n",
    "- В процессе исследовательского анализа данных было выявлено, что отсутствуют отзывы о 6 книгах.\n",
    "\n",
    "- После 1 января 2000 года вышла 821 книга.\n",
    "\n",
    "- В датафрейме reviews_and_ratings_table представлены данные о рейтингах на каждую книгу и об отзывах на 994 книги из 1000. Средняя оценка - 3,98 балла из 5. Медианная оценка - 4 балла. На каждую книгу в среднем есть 3 отзыва. Максимальное количество отзывов на книгу - 7.\n",
    "\n",
    "- Издательство, выпустившее максимальное количество книг толще 50 страниц - Penguin Books.\n",
    "\n",
    "- Автор с самой высокой средней оценкой книг(учитывая только книги с 50 и более оценками) - J.K. Rowling, средняя оценка 4,287 балла.\n",
    "\n",
    "- Среднее количество обзоров от пользователей, которые поставили больше 50 оценок - 24,3 обзора."
   ]
  },
  {
   "cell_type": "code",
   "execution_count": null,
   "metadata": {},
   "outputs": [],
   "source": []
  }
 ],
 "metadata": {
  "ExecuteTimeLog": [
   {
    "duration": 587,
    "start_time": "2021-11-22T18:51:31.384Z"
   },
   {
    "duration": 2,
    "start_time": "2021-11-22T18:51:31.973Z"
   },
   {
    "duration": 5,
    "start_time": "2021-11-22T18:51:31.978Z"
   },
   {
    "duration": 30,
    "start_time": "2021-11-22T18:51:31.984Z"
   },
   {
    "duration": 2,
    "start_time": "2021-11-22T18:51:32.016Z"
   },
   {
    "duration": 283,
    "start_time": "2021-11-22T18:51:32.020Z"
   },
   {
    "duration": 7,
    "start_time": "2021-11-22T18:51:32.304Z"
   },
   {
    "duration": 4,
    "start_time": "2021-11-22T18:51:32.312Z"
   },
   {
    "duration": 73,
    "start_time": "2021-11-22T18:51:32.318Z"
   },
   {
    "duration": 4,
    "start_time": "2021-11-22T18:51:32.393Z"
   },
   {
    "duration": 6,
    "start_time": "2021-11-22T18:51:32.399Z"
   },
   {
    "duration": 71,
    "start_time": "2021-11-22T18:51:32.407Z"
   },
   {
    "duration": 6,
    "start_time": "2021-11-22T18:51:32.480Z"
   },
   {
    "duration": 5,
    "start_time": "2021-11-22T18:51:32.488Z"
   },
   {
    "duration": 99,
    "start_time": "2021-11-22T18:51:32.494Z"
   },
   {
    "duration": 7,
    "start_time": "2021-11-22T18:51:32.595Z"
   },
   {
    "duration": 8,
    "start_time": "2021-11-22T18:51:32.603Z"
   },
   {
    "duration": 88,
    "start_time": "2021-11-22T18:51:32.612Z"
   },
   {
    "duration": 6,
    "start_time": "2021-11-22T18:51:32.702Z"
   },
   {
    "duration": 5,
    "start_time": "2021-11-22T18:51:32.710Z"
   },
   {
    "duration": 69,
    "start_time": "2021-11-22T18:51:32.717Z"
   },
   {
    "duration": 3,
    "start_time": "2021-11-22T18:51:32.788Z"
   },
   {
    "duration": 89,
    "start_time": "2021-11-22T18:51:32.793Z"
   },
   {
    "duration": 2,
    "start_time": "2021-11-22T18:51:32.884Z"
   },
   {
    "duration": 75,
    "start_time": "2021-11-22T18:51:32.888Z"
   },
   {
    "duration": 3,
    "start_time": "2021-11-22T18:51:32.965Z"
   },
   {
    "duration": 75,
    "start_time": "2021-11-22T18:51:32.971Z"
   },
   {
    "duration": 2,
    "start_time": "2021-11-22T18:51:33.048Z"
   },
   {
    "duration": 71,
    "start_time": "2021-11-22T18:51:33.052Z"
   },
   {
    "duration": 706,
    "start_time": "2021-11-22T19:15:20.438Z"
   },
   {
    "duration": 3,
    "start_time": "2021-11-22T19:15:21.146Z"
   },
   {
    "duration": 4,
    "start_time": "2021-11-22T19:15:21.152Z"
   },
   {
    "duration": 38,
    "start_time": "2021-11-22T19:15:21.159Z"
   },
   {
    "duration": 4,
    "start_time": "2021-11-22T19:15:21.199Z"
   },
   {
    "duration": 274,
    "start_time": "2021-11-22T19:15:21.205Z"
   },
   {
    "duration": 6,
    "start_time": "2021-11-22T19:15:21.480Z"
   },
   {
    "duration": 6,
    "start_time": "2021-11-22T19:15:21.488Z"
   },
   {
    "duration": 73,
    "start_time": "2021-11-22T19:15:21.497Z"
   },
   {
    "duration": 4,
    "start_time": "2021-11-22T19:15:21.573Z"
   },
   {
    "duration": 7,
    "start_time": "2021-11-22T19:15:21.579Z"
   },
   {
    "duration": 73,
    "start_time": "2021-11-22T19:15:21.587Z"
   },
   {
    "duration": 6,
    "start_time": "2021-11-22T19:15:21.662Z"
   },
   {
    "duration": 4,
    "start_time": "2021-11-22T19:15:21.669Z"
   },
   {
    "duration": 97,
    "start_time": "2021-11-22T19:15:21.675Z"
   },
   {
    "duration": 6,
    "start_time": "2021-11-22T19:15:21.773Z"
   },
   {
    "duration": 6,
    "start_time": "2021-11-22T19:15:21.780Z"
   },
   {
    "duration": 88,
    "start_time": "2021-11-22T19:15:21.788Z"
   },
   {
    "duration": 6,
    "start_time": "2021-11-22T19:15:21.878Z"
   },
   {
    "duration": 7,
    "start_time": "2021-11-22T19:15:21.885Z"
   },
   {
    "duration": 71,
    "start_time": "2021-11-22T19:15:21.894Z"
   },
   {
    "duration": 3,
    "start_time": "2021-11-22T19:15:21.967Z"
   },
   {
    "duration": 92,
    "start_time": "2021-11-22T19:15:21.972Z"
   },
   {
    "duration": 5,
    "start_time": "2021-11-22T19:15:22.066Z"
   },
   {
    "duration": 80,
    "start_time": "2021-11-22T19:15:22.073Z"
   },
   {
    "duration": 3,
    "start_time": "2021-11-22T19:15:22.154Z"
   },
   {
    "duration": 76,
    "start_time": "2021-11-22T19:15:22.161Z"
   },
   {
    "duration": 3,
    "start_time": "2021-11-22T19:15:22.239Z"
   },
   {
    "duration": 77,
    "start_time": "2021-11-22T19:15:22.244Z"
   },
   {
    "duration": 387,
    "start_time": "2021-11-23T05:38:55.256Z"
   },
   {
    "duration": 791,
    "start_time": "2021-11-23T05:39:02.260Z"
   },
   {
    "duration": 3,
    "start_time": "2021-11-23T05:39:03.053Z"
   },
   {
    "duration": 35,
    "start_time": "2021-11-23T05:39:03.058Z"
   },
   {
    "duration": 34,
    "start_time": "2021-11-23T05:39:03.095Z"
   },
   {
    "duration": 2,
    "start_time": "2021-11-23T05:39:03.131Z"
   },
   {
    "duration": 62,
    "start_time": "2021-11-23T05:39:03.135Z"
   },
   {
    "duration": 7,
    "start_time": "2021-11-23T05:39:03.199Z"
   },
   {
    "duration": 15,
    "start_time": "2021-11-23T05:39:03.210Z"
   },
   {
    "duration": 28,
    "start_time": "2021-11-23T05:39:03.228Z"
   },
   {
    "duration": 30,
    "start_time": "2021-11-23T05:39:03.258Z"
   },
   {
    "duration": 25,
    "start_time": "2021-11-23T05:39:03.291Z"
   },
   {
    "duration": 33,
    "start_time": "2021-11-23T05:39:03.318Z"
   },
   {
    "duration": 8,
    "start_time": "2021-11-23T05:39:03.353Z"
   },
   {
    "duration": 18,
    "start_time": "2021-11-23T05:39:03.363Z"
   },
   {
    "duration": 45,
    "start_time": "2021-11-23T05:39:03.383Z"
   },
   {
    "duration": 7,
    "start_time": "2021-11-23T05:39:03.429Z"
   },
   {
    "duration": 15,
    "start_time": "2021-11-23T05:39:03.438Z"
   },
   {
    "duration": 38,
    "start_time": "2021-11-23T05:39:03.454Z"
   },
   {
    "duration": 11,
    "start_time": "2021-11-23T05:39:03.494Z"
   },
   {
    "duration": 432,
    "start_time": "2021-11-23T05:39:03.507Z"
   },
   {
    "duration": -1870,
    "start_time": "2021-11-23T05:39:05.812Z"
   },
   {
    "duration": -1872,
    "start_time": "2021-11-23T05:39:05.815Z"
   },
   {
    "duration": -1873,
    "start_time": "2021-11-23T05:39:05.817Z"
   },
   {
    "duration": -1875,
    "start_time": "2021-11-23T05:39:05.820Z"
   },
   {
    "duration": -1876,
    "start_time": "2021-11-23T05:39:05.822Z"
   },
   {
    "duration": -1877,
    "start_time": "2021-11-23T05:39:05.824Z"
   },
   {
    "duration": -1877,
    "start_time": "2021-11-23T05:39:05.825Z"
   },
   {
    "duration": -1877,
    "start_time": "2021-11-23T05:39:05.826Z"
   },
   {
    "duration": -1878,
    "start_time": "2021-11-23T05:39:05.828Z"
   },
   {
    "duration": -1879,
    "start_time": "2021-11-23T05:39:05.830Z"
   },
   {
    "duration": 8,
    "start_time": "2021-11-23T05:41:56.965Z"
   },
   {
    "duration": 383,
    "start_time": "2021-11-23T05:44:44.876Z"
   },
   {
    "duration": 679,
    "start_time": "2021-11-23T05:45:11.131Z"
   },
   {
    "duration": 3,
    "start_time": "2021-11-23T05:45:11.812Z"
   },
   {
    "duration": 6,
    "start_time": "2021-11-23T05:45:11.817Z"
   },
   {
    "duration": 35,
    "start_time": "2021-11-23T05:45:11.825Z"
   },
   {
    "duration": 3,
    "start_time": "2021-11-23T05:45:11.861Z"
   },
   {
    "duration": 44,
    "start_time": "2021-11-23T05:45:11.866Z"
   },
   {
    "duration": 6,
    "start_time": "2021-11-23T05:45:11.912Z"
   },
   {
    "duration": 3,
    "start_time": "2021-11-23T05:45:11.921Z"
   },
   {
    "duration": 18,
    "start_time": "2021-11-23T05:45:11.926Z"
   },
   {
    "duration": 5,
    "start_time": "2021-11-23T05:45:11.946Z"
   },
   {
    "duration": 8,
    "start_time": "2021-11-23T05:45:11.953Z"
   },
   {
    "duration": 32,
    "start_time": "2021-11-23T05:45:11.962Z"
   },
   {
    "duration": 13,
    "start_time": "2021-11-23T05:45:11.995Z"
   },
   {
    "duration": 15,
    "start_time": "2021-11-23T05:45:12.009Z"
   },
   {
    "duration": 55,
    "start_time": "2021-11-23T05:45:12.026Z"
   },
   {
    "duration": 6,
    "start_time": "2021-11-23T05:45:12.082Z"
   },
   {
    "duration": 29,
    "start_time": "2021-11-23T05:45:12.090Z"
   },
   {
    "duration": 42,
    "start_time": "2021-11-23T05:45:12.121Z"
   },
   {
    "duration": 7,
    "start_time": "2021-11-23T05:45:12.166Z"
   },
   {
    "duration": 49,
    "start_time": "2021-11-23T05:45:12.175Z"
   },
   {
    "duration": 22,
    "start_time": "2021-11-23T05:45:12.225Z"
   },
   {
    "duration": 29,
    "start_time": "2021-11-23T05:45:12.249Z"
   },
   {
    "duration": 46,
    "start_time": "2021-11-23T05:45:12.281Z"
   },
   {
    "duration": 6,
    "start_time": "2021-11-23T05:45:12.329Z"
   },
   {
    "duration": 101,
    "start_time": "2021-11-23T05:45:12.337Z"
   },
   {
    "duration": 2,
    "start_time": "2021-11-23T05:45:12.440Z"
   },
   {
    "duration": 49,
    "start_time": "2021-11-23T05:45:12.444Z"
   },
   {
    "duration": 2,
    "start_time": "2021-11-23T05:45:12.495Z"
   },
   {
    "duration": 24,
    "start_time": "2021-11-23T05:45:12.499Z"
   },
   {
    "duration": 3,
    "start_time": "2021-11-23T05:45:12.525Z"
   },
   {
    "duration": 18,
    "start_time": "2021-11-23T05:45:12.531Z"
   },
   {
    "duration": 402,
    "start_time": "2021-11-23T05:49:37.595Z"
   },
   {
    "duration": 8,
    "start_time": "2021-11-23T05:49:44.425Z"
   },
   {
    "duration": 5,
    "start_time": "2021-11-23T05:57:32.361Z"
   },
   {
    "duration": 3,
    "start_time": "2021-11-23T05:58:12.261Z"
   },
   {
    "duration": 28,
    "start_time": "2021-11-23T05:58:13.371Z"
   },
   {
    "duration": 4,
    "start_time": "2021-11-23T05:58:17.300Z"
   },
   {
    "duration": 3,
    "start_time": "2021-11-23T06:06:47.929Z"
   },
   {
    "duration": 362,
    "start_time": "2021-11-23T06:06:48.720Z"
   },
   {
    "duration": 2,
    "start_time": "2021-11-23T06:07:13.298Z"
   },
   {
    "duration": 24,
    "start_time": "2021-11-23T06:07:14.480Z"
   },
   {
    "duration": 20,
    "start_time": "2021-11-23T06:15:11.200Z"
   },
   {
    "duration": 19,
    "start_time": "2021-11-23T06:15:22.158Z"
   },
   {
    "duration": 2,
    "start_time": "2021-11-23T06:29:11.684Z"
   },
   {
    "duration": 473,
    "start_time": "2021-11-23T06:29:12.426Z"
   },
   {
    "duration": 3,
    "start_time": "2021-11-23T06:32:04.202Z"
   },
   {
    "duration": 60,
    "start_time": "2021-11-23T06:32:04.674Z"
   },
   {
    "duration": 3,
    "start_time": "2021-11-23T06:34:41.802Z"
   },
   {
    "duration": 415,
    "start_time": "2021-11-23T06:34:42.218Z"
   },
   {
    "duration": 3,
    "start_time": "2021-11-23T06:35:16.658Z"
   },
   {
    "duration": 428,
    "start_time": "2021-11-23T06:35:17.097Z"
   },
   {
    "duration": 2,
    "start_time": "2021-11-23T06:36:58.728Z"
   },
   {
    "duration": 430,
    "start_time": "2021-11-23T06:36:59.163Z"
   },
   {
    "duration": 4,
    "start_time": "2021-11-23T06:39:17.190Z"
   },
   {
    "duration": 453,
    "start_time": "2021-11-23T06:39:17.684Z"
   },
   {
    "duration": 3,
    "start_time": "2021-11-23T06:39:52.756Z"
   },
   {
    "duration": 400,
    "start_time": "2021-11-23T06:39:53.158Z"
   },
   {
    "duration": 3,
    "start_time": "2021-11-23T06:48:20.733Z"
   },
   {
    "duration": 431,
    "start_time": "2021-11-23T06:48:21.562Z"
   },
   {
    "duration": 3,
    "start_time": "2021-11-23T06:48:59.862Z"
   },
   {
    "duration": 31,
    "start_time": "2021-11-23T06:49:00.279Z"
   },
   {
    "duration": 3,
    "start_time": "2021-11-23T06:50:01.460Z"
   },
   {
    "duration": 23,
    "start_time": "2021-11-23T06:50:03.179Z"
   },
   {
    "duration": 5,
    "start_time": "2021-11-23T06:50:04.787Z"
   },
   {
    "duration": 3,
    "start_time": "2021-11-23T07:11:33.221Z"
   },
   {
    "duration": 23,
    "start_time": "2021-11-23T07:11:34.113Z"
   },
   {
    "duration": 3,
    "start_time": "2021-11-23T07:13:29.743Z"
   },
   {
    "duration": 24,
    "start_time": "2021-11-23T07:13:30.139Z"
   },
   {
    "duration": 2,
    "start_time": "2021-11-23T07:13:41.142Z"
   },
   {
    "duration": 23,
    "start_time": "2021-11-23T07:13:41.635Z"
   },
   {
    "duration": 3,
    "start_time": "2021-11-23T07:14:07.308Z"
   },
   {
    "duration": 33,
    "start_time": "2021-11-23T07:14:07.733Z"
   },
   {
    "duration": 3,
    "start_time": "2021-11-23T07:16:02.331Z"
   },
   {
    "duration": 8726,
    "start_time": "2021-11-23T07:40:51.320Z"
   },
   {
    "duration": 5,
    "start_time": "2021-11-23T07:44:48.146Z"
   },
   {
    "duration": 9,
    "start_time": "2021-11-23T07:56:15.175Z"
   },
   {
    "duration": 19,
    "start_time": "2021-11-23T07:57:07.895Z"
   },
   {
    "duration": 20,
    "start_time": "2021-11-23T07:57:34.983Z"
   },
   {
    "duration": 23,
    "start_time": "2021-11-23T08:00:16.924Z"
   },
   {
    "duration": 13,
    "start_time": "2021-11-23T08:01:58.109Z"
   },
   {
    "duration": 14,
    "start_time": "2021-11-23T08:02:51.025Z"
   },
   {
    "duration": 22,
    "start_time": "2021-11-23T08:03:12.572Z"
   },
   {
    "duration": 23,
    "start_time": "2021-11-23T08:04:11.721Z"
   },
   {
    "duration": 22,
    "start_time": "2021-11-23T08:04:21.131Z"
   },
   {
    "duration": 35,
    "start_time": "2021-11-23T08:06:04.408Z"
   },
   {
    "duration": 35,
    "start_time": "2021-11-23T08:07:18.330Z"
   },
   {
    "duration": 20,
    "start_time": "2021-11-23T08:07:49.617Z"
   },
   {
    "duration": 113,
    "start_time": "2021-11-23T08:08:12.690Z"
   },
   {
    "duration": 121,
    "start_time": "2021-11-23T08:08:15.985Z"
   },
   {
    "duration": 15,
    "start_time": "2021-11-23T08:14:22.213Z"
   },
   {
    "duration": 5,
    "start_time": "2021-11-23T08:17:10.644Z"
   },
   {
    "duration": 9,
    "start_time": "2021-11-23T08:21:31.446Z"
   },
   {
    "duration": 9,
    "start_time": "2021-11-23T08:23:00.093Z"
   },
   {
    "duration": 741,
    "start_time": "2021-11-23T08:27:47.478Z"
   },
   {
    "duration": 3,
    "start_time": "2021-11-23T08:27:48.221Z"
   },
   {
    "duration": 6,
    "start_time": "2021-11-23T08:27:48.226Z"
   },
   {
    "duration": 35,
    "start_time": "2021-11-23T08:27:48.234Z"
   },
   {
    "duration": 3,
    "start_time": "2021-11-23T08:27:48.271Z"
   },
   {
    "duration": 51,
    "start_time": "2021-11-23T08:27:48.276Z"
   },
   {
    "duration": 7,
    "start_time": "2021-11-23T08:27:48.329Z"
   },
   {
    "duration": 3,
    "start_time": "2021-11-23T08:27:48.340Z"
   },
   {
    "duration": 18,
    "start_time": "2021-11-23T08:27:48.345Z"
   },
   {
    "duration": 7,
    "start_time": "2021-11-23T08:27:48.365Z"
   },
   {
    "duration": 10,
    "start_time": "2021-11-23T08:27:48.374Z"
   },
   {
    "duration": 30,
    "start_time": "2021-11-23T08:27:48.386Z"
   },
   {
    "duration": 5,
    "start_time": "2021-11-23T08:27:48.418Z"
   },
   {
    "duration": 8,
    "start_time": "2021-11-23T08:27:48.425Z"
   },
   {
    "duration": 31,
    "start_time": "2021-11-23T08:27:48.435Z"
   },
   {
    "duration": 6,
    "start_time": "2021-11-23T08:27:48.468Z"
   },
   {
    "duration": 35,
    "start_time": "2021-11-23T08:27:48.476Z"
   },
   {
    "duration": 3,
    "start_time": "2021-11-23T08:27:48.513Z"
   },
   {
    "duration": 31,
    "start_time": "2021-11-23T08:27:48.518Z"
   },
   {
    "duration": 5,
    "start_time": "2021-11-23T08:27:48.551Z"
   },
   {
    "duration": 50,
    "start_time": "2021-11-23T08:27:48.558Z"
   },
   {
    "duration": 9,
    "start_time": "2021-11-23T08:27:48.611Z"
   },
   {
    "duration": 9,
    "start_time": "2021-11-23T08:27:48.626Z"
   },
   {
    "duration": 10,
    "start_time": "2021-11-23T08:27:48.638Z"
   },
   {
    "duration": 13,
    "start_time": "2021-11-23T08:27:48.650Z"
   },
   {
    "duration": 4,
    "start_time": "2021-11-23T08:27:48.666Z"
   },
   {
    "duration": 44,
    "start_time": "2021-11-23T08:27:48.673Z"
   },
   {
    "duration": 3,
    "start_time": "2021-11-23T08:27:48.719Z"
   },
   {
    "duration": 31,
    "start_time": "2021-11-23T08:27:48.725Z"
   },
   {
    "duration": 5,
    "start_time": "2021-11-23T08:27:48.758Z"
   },
   {
    "duration": 11,
    "start_time": "2021-11-23T08:27:48.765Z"
   },
   {
    "duration": 7,
    "start_time": "2021-11-23T08:27:48.778Z"
   },
   {
    "duration": 3,
    "start_time": "2021-11-23T08:27:48.807Z"
   },
   {
    "duration": 26,
    "start_time": "2021-11-23T08:27:48.811Z"
   },
   {
    "duration": 2,
    "start_time": "2021-11-23T08:27:48.839Z"
   },
   {
    "duration": 20,
    "start_time": "2021-11-23T08:27:48.843Z"
   },
   {
    "duration": 3,
    "start_time": "2021-11-23T08:27:48.864Z"
   },
   {
    "duration": 18,
    "start_time": "2021-11-23T08:27:48.869Z"
   }
  ],
  "kernelspec": {
   "display_name": "Python 3",
   "language": "python",
   "name": "python3"
  },
  "language_info": {
   "codemirror_mode": {
    "name": "ipython",
    "version": 3
   },
   "file_extension": ".py",
   "mimetype": "text/x-python",
   "name": "python",
   "nbconvert_exporter": "python",
   "pygments_lexer": "ipython3",
   "version": "3.8.3"
  },
  "toc": {
   "base_numbering": 1,
   "nav_menu": {},
   "number_sections": true,
   "sideBar": true,
   "skip_h1_title": true,
   "title_cell": "Table of Contents",
   "title_sidebar": "Contents",
   "toc_cell": false,
   "toc_position": {},
   "toc_section_display": true,
   "toc_window_display": false
  }
 },
 "nbformat": 4,
 "nbformat_minor": 4
}
