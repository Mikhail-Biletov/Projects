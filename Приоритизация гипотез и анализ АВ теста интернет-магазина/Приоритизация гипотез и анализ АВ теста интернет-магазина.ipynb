{
 "cells": [
  {
   "cell_type": "markdown",
   "metadata": {},
   "source": [
    "Привет! Ты теперь находишься на территории код-ревьюеров. У нас тут своя атмосфера и правила:  \n",
    "1. Меня зовут Алексей Свирин. Я работаю продуктовым аналитиком, поэтому мои комментарии больше ориентированы на визуальную и смысловую часть проекта, которая предназначена для внешних пользователей твоего проекта, и меньше на сам код, его чистоту и оптимизацию.  \n",
    "2. Общаемся на ты.  \n",
    "3. Хочешь мне написать — пиши. Только нужно выбрать свой цвет для комментария.  \n",
    "4. Это учебный проект, тут можно не бояться сделать ошибку, но все остальное как в жизни, может быть сложно.  \n",
    "5. У тебя бесконечное количество ~~жизней~~ попыток для сдачи проекта.  \n",
    "6. Поехали!  \n",
    "\n",
    "---\n",
    "\n",
    "Я буду красить комментарии цветом, пожалуйста, не удаляй их:\n",
    "\n",
    "<div class=\"alert alert-block alert-danger\">\n",
    "    \n",
    "\n",
    "__Комментарий от ревьюера №1__\n",
    "\n",
    "Такой комментарий нужно исправить обязательно, он критически влияет на удачное выполнение проекта.\n",
    "</div>\n",
    "    \n",
    "---\n",
    "\n",
    "<div class=\"alert alert-block alert-warning\">\n",
    "    \n",
    "\n",
    "__Комментарий от ревьюера №1__\n",
    "\n",
    "\n",
    "Такой комментарий является рекомендацией или советом. Можешь использовать их на своё усмотрение.\n",
    "</div>\n",
    "\n",
    "---\n",
    "\n",
    "<div class=\"alert alert-block alert-success\">\n",
    "    \n",
    "\n",
    "__Комментарий от ревьюера №1__\n",
    "\n",
    "Такой комментарий  говорит о том, что было сделано что-то качественное и правильное =)\n",
    "</div>\n",
    "\n",
    "---"
   ]
  },
  {
   "cell_type": "markdown",
   "metadata": {},
   "source": [
    "<div class=\"alert alert-block alert-info\">\n",
    "    \n",
    "\n",
    "__Комментарий от ревьюера №1__\n",
    "\n",
    "В проекте нужно поправить А/Б-тест и общий вывод + проверить пользователей в изначальном датасете.\n",
    "</div>"
   ]
  },
  {
   "cell_type": "markdown",
   "metadata": {},
   "source": [
    "<div class = \"alert alert-info\">\n",
    "<h2>Комментарий студента</h2>\n",
    "Алексей, приветствую!\n",
    "    \n",
    "Спасибо за ревью, новые методы и ссылку на статью о нулевой гипотезе, буду стараться использовать все в дальнейшем. Скорректировал проект и выводы в соответствии с твоими замечаниями.\n",
    "</div>"
   ]
  },
  {
   "cell_type": "markdown",
   "metadata": {},
   "source": [
    "<div class=\"alert alert-block alert-info\">\n",
    "    \n",
    "\n",
    "__Комментарий от ревьюера №2__\n",
    "\n",
    "Привет, проект хорошо поправлен, ты правильно сделал А/Б-тест, нашел аномальные значения, построил кумулятивные метрики и сделал правильно приоритезацию в первом разделе. Все графики построены верно и везде есть выводы. Единственно, я бы сократил финальный вывод и меньше расписывал первый этап проекта, указал бы только несколько гипотез для проработки.\n",
    "</div>"
   ]
  },
  {
   "cell_type": "markdown",
   "metadata": {},
   "source": [
    "# Приоритизация гипотез и анализ А/В теста интернет-магазина."
   ]
  },
  {
   "cell_type": "markdown",
   "metadata": {},
   "source": [
    "## часть. Приоритизация гипотез по увеличению выручки интеренет-магазина."
   ]
  },
  {
   "cell_type": "markdown",
   "metadata": {},
   "source": [
    "Задача - приоритизировать 9 гипотез по увеличению выручки интернет-магазина с помощью фреймворков ICE и RICE. Отметить разницу между приоритизацией ICE и RICE."
   ]
  },
  {
   "cell_type": "markdown",
   "metadata": {},
   "source": [
    "### Предобработка и исследование данных."
   ]
  },
  {
   "cell_type": "code",
   "execution_count": 1,
   "metadata": {},
   "outputs": [],
   "source": [
    "import pandas as pd\n",
    "import numpy as np\n",
    "import matplotlib.pyplot as plt\n",
    "import seaborn as sns\n",
    "import scipy.stats as stats\n",
    "import datetime as dt"
   ]
  },
  {
   "cell_type": "code",
   "execution_count": 2,
   "metadata": {},
   "outputs": [],
   "source": [
    "try:\n",
    "    url='https://drive.google.com/file/d/1aHcXHFIJJ2Qsx4pj46hGDzw0KaD5IhHr/view?usp=sharing'\n",
    "    path = \n",
    "    df_hpt = pd.read_csv('/datasets/hypothesis.csv')\n",
    "except:\n",
    "    raise"
   ]
  },
  {
   "cell_type": "markdown",
   "metadata": {},
   "source": [
    "Импортируем основные библиотеки и прочтем датасет с гипотезами."
   ]
  },
  {
   "cell_type": "code",
   "execution_count": 3,
   "metadata": {},
   "outputs": [
    {
     "name": "stdout",
     "output_type": "stream",
     "text": [
      "<class 'pandas.core.frame.DataFrame'>\n",
      "RangeIndex: 9 entries, 0 to 8\n",
      "Data columns (total 5 columns):\n",
      "Hypothesis    9 non-null object\n",
      "Reach         9 non-null int64\n",
      "Impact        9 non-null int64\n",
      "Confidence    9 non-null int64\n",
      "Efforts       9 non-null int64\n",
      "dtypes: int64(4), object(1)\n",
      "memory usage: 488.0+ bytes\n"
     ]
    }
   ],
   "source": [
    "df_hpt.info()"
   ]
  },
  {
   "cell_type": "code",
   "execution_count": 4,
   "metadata": {},
   "outputs": [],
   "source": [
    "df_hpt.columns = map(str.lower, df_hpt.columns)"
   ]
  },
  {
   "cell_type": "markdown",
   "metadata": {},
   "source": [
    "Для удобства приведем наименования столбцов к строчным буквам."
   ]
  },
  {
   "cell_type": "code",
   "execution_count": 5,
   "metadata": {
    "scrolled": true
   },
   "outputs": [
    {
     "data": {
      "text/html": [
       "<div>\n",
       "<style scoped>\n",
       "    .dataframe tbody tr th:only-of-type {\n",
       "        vertical-align: middle;\n",
       "    }\n",
       "\n",
       "    .dataframe tbody tr th {\n",
       "        vertical-align: top;\n",
       "    }\n",
       "\n",
       "    .dataframe thead th {\n",
       "        text-align: right;\n",
       "    }\n",
       "</style>\n",
       "<table border=\"1\" class=\"dataframe\">\n",
       "  <thead>\n",
       "    <tr style=\"text-align: right;\">\n",
       "      <th></th>\n",
       "      <th>hypothesis</th>\n",
       "      <th>reach</th>\n",
       "      <th>impact</th>\n",
       "      <th>confidence</th>\n",
       "      <th>efforts</th>\n",
       "    </tr>\n",
       "  </thead>\n",
       "  <tbody>\n",
       "    <tr>\n",
       "      <td>0</td>\n",
       "      <td>Добавить два новых канала привлечения трафика, что позволит привлекать на 30% больше пользователей</td>\n",
       "      <td>3</td>\n",
       "      <td>10</td>\n",
       "      <td>8</td>\n",
       "      <td>6</td>\n",
       "    </tr>\n",
       "    <tr>\n",
       "      <td>1</td>\n",
       "      <td>Запустить собственную службу доставки, что сократит срок доставки заказов</td>\n",
       "      <td>2</td>\n",
       "      <td>5</td>\n",
       "      <td>4</td>\n",
       "      <td>10</td>\n",
       "    </tr>\n",
       "    <tr>\n",
       "      <td>2</td>\n",
       "      <td>Добавить блоки рекомендаций товаров на сайт интернет магазина, чтобы повысить конверсию и средний чек заказа</td>\n",
       "      <td>8</td>\n",
       "      <td>3</td>\n",
       "      <td>7</td>\n",
       "      <td>3</td>\n",
       "    </tr>\n",
       "    <tr>\n",
       "      <td>3</td>\n",
       "      <td>Изменить структура категорий, что увеличит конверсию, т.к. пользователи быстрее найдут нужный товар</td>\n",
       "      <td>8</td>\n",
       "      <td>3</td>\n",
       "      <td>3</td>\n",
       "      <td>8</td>\n",
       "    </tr>\n",
       "    <tr>\n",
       "      <td>4</td>\n",
       "      <td>Изменить цвет фона главной страницы, чтобы увеличить вовлеченность пользователей</td>\n",
       "      <td>3</td>\n",
       "      <td>1</td>\n",
       "      <td>1</td>\n",
       "      <td>1</td>\n",
       "    </tr>\n",
       "    <tr>\n",
       "      <td>5</td>\n",
       "      <td>Добавить страницу отзывов клиентов о магазине, что позволит увеличить количество заказов</td>\n",
       "      <td>3</td>\n",
       "      <td>2</td>\n",
       "      <td>2</td>\n",
       "      <td>3</td>\n",
       "    </tr>\n",
       "    <tr>\n",
       "      <td>6</td>\n",
       "      <td>Показать на главной странице баннеры с актуальными акциями и распродажами, чтобы увеличить конверсию</td>\n",
       "      <td>5</td>\n",
       "      <td>3</td>\n",
       "      <td>8</td>\n",
       "      <td>3</td>\n",
       "    </tr>\n",
       "    <tr>\n",
       "      <td>7</td>\n",
       "      <td>Добавить форму подписки на все основные страницы, чтобы собрать базу клиентов для email-рассылок</td>\n",
       "      <td>10</td>\n",
       "      <td>7</td>\n",
       "      <td>8</td>\n",
       "      <td>5</td>\n",
       "    </tr>\n",
       "    <tr>\n",
       "      <td>8</td>\n",
       "      <td>Запустить акцию, дающую скидку на товар в день рождения</td>\n",
       "      <td>1</td>\n",
       "      <td>9</td>\n",
       "      <td>9</td>\n",
       "      <td>5</td>\n",
       "    </tr>\n",
       "  </tbody>\n",
       "</table>\n",
       "</div>"
      ],
      "text/plain": [
       "                                                                                                     hypothesis  \\\n",
       "0            Добавить два новых канала привлечения трафика, что позволит привлекать на 30% больше пользователей   \n",
       "1                                     Запустить собственную службу доставки, что сократит срок доставки заказов   \n",
       "2  Добавить блоки рекомендаций товаров на сайт интернет магазина, чтобы повысить конверсию и средний чек заказа   \n",
       "3           Изменить структура категорий, что увеличит конверсию, т.к. пользователи быстрее найдут нужный товар   \n",
       "4                              Изменить цвет фона главной страницы, чтобы увеличить вовлеченность пользователей   \n",
       "5                      Добавить страницу отзывов клиентов о магазине, что позволит увеличить количество заказов   \n",
       "6          Показать на главной странице баннеры с актуальными акциями и распродажами, чтобы увеличить конверсию   \n",
       "7              Добавить форму подписки на все основные страницы, чтобы собрать базу клиентов для email-рассылок   \n",
       "8                                                       Запустить акцию, дающую скидку на товар в день рождения   \n",
       "\n",
       "   reach  impact  confidence  efforts  \n",
       "0      3      10           8        6  \n",
       "1      2       5           4       10  \n",
       "2      8       3           7        3  \n",
       "3      8       3           3        8  \n",
       "4      3       1           1        1  \n",
       "5      3       2           2        3  \n",
       "6      5       3           8        3  \n",
       "7     10       7           8        5  \n",
       "8      1       9           9        5  "
      ]
     },
     "execution_count": 5,
     "metadata": {},
     "output_type": "execute_result"
    }
   ],
   "source": [
    "pd.options.display.max_colwidth = 150 \n",
    "df_hpt"
   ]
  },
  {
   "cell_type": "markdown",
   "metadata": {},
   "source": [
    "<div class=\"alert alert-block alert-warning\">\n",
    "    \n",
    "\n",
    "__Комментарий от ревьюера №1__\n",
    "\n",
    "Чтобы вывести полное название гипотез, можно использовать такой код:  \n",
    "<code>pd.set_option('display.max_columns', None)  \n",
    "pd.options.display.max_colwidth = 150  </code>\n",
    "</div>"
   ]
  },
  {
   "cell_type": "markdown",
   "metadata": {},
   "source": [
    "<div class=\"alert alert-block alert-success\">\n",
    "    \n",
    "\n",
    "__Комментарий от ревьюера №2__\n",
    "\n",
    "👍\n",
    "</div>"
   ]
  },
  {
   "cell_type": "code",
   "execution_count": 6,
   "metadata": {},
   "outputs": [
    {
     "data": {
      "text/plain": [
       "Показать на главной странице баннеры с актуальными акциями и распродажами, чтобы увеличить конверсию            1\n",
       "Добавить блоки рекомендаций товаров на сайт интернет магазина, чтобы повысить конверсию и средний чек заказа    1\n",
       "Изменить структура категорий, что увеличит конверсию, т.к. пользователи быстрее найдут нужный товар             1\n",
       "Изменить цвет фона главной страницы, чтобы увеличить вовлеченность пользователей                                1\n",
       "Добавить два новых канала привлечения трафика, что позволит привлекать на 30% больше пользователей              1\n",
       "Добавить страницу отзывов клиентов о магазине, что позволит увеличить количество заказов                        1\n",
       "Добавить форму подписки на все основные страницы, чтобы собрать базу клиентов для email-рассылок                1\n",
       "Запустить акцию, дающую скидку на товар в день рождения                                                         1\n",
       "Запустить собственную службу доставки, что сократит срок доставки заказов                                       1\n",
       "Name: hypothesis, dtype: int64"
      ]
     },
     "execution_count": 6,
     "metadata": {},
     "output_type": "execute_result"
    }
   ],
   "source": [
    "df_hpt['hypothesis'].value_counts()"
   ]
  },
  {
   "cell_type": "markdown",
   "metadata": {},
   "source": [
    "Столбцы reach, impact, confidence и efforts содержат данные типа int. Столбец hypothesis - в формате object. Изменения типов данных - не требуется. Пропусков в датафрейме нет."
   ]
  },
  {
   "cell_type": "markdown",
   "metadata": {},
   "source": [
    "### Приоритизация гипотез."
   ]
  },
  {
   "cell_type": "markdown",
   "metadata": {},
   "source": [
    "#### Приоритизация гипотез медотом ICE."
   ]
  },
  {
   "cell_type": "code",
   "execution_count": 7,
   "metadata": {},
   "outputs": [],
   "source": [
    "df_hpt['ice'] = ((df_hpt['impact']*df_hpt['confidence'])/df_hpt['efforts']).round(1)"
   ]
  },
  {
   "cell_type": "markdown",
   "metadata": {},
   "source": [
    "Добавим в датафрейм расчетный столбец с расчетом приоритета с помощью фреймворка ICE."
   ]
  },
  {
   "cell_type": "code",
   "execution_count": 8,
   "metadata": {},
   "outputs": [
    {
     "data": {
      "text/html": [
       "<div>\n",
       "<style scoped>\n",
       "    .dataframe tbody tr th:only-of-type {\n",
       "        vertical-align: middle;\n",
       "    }\n",
       "\n",
       "    .dataframe tbody tr th {\n",
       "        vertical-align: top;\n",
       "    }\n",
       "\n",
       "    .dataframe thead th {\n",
       "        text-align: right;\n",
       "    }\n",
       "</style>\n",
       "<table border=\"1\" class=\"dataframe\">\n",
       "  <thead>\n",
       "    <tr style=\"text-align: right;\">\n",
       "      <th></th>\n",
       "      <th>hypothesis</th>\n",
       "      <th>ice</th>\n",
       "    </tr>\n",
       "  </thead>\n",
       "  <tbody>\n",
       "    <tr>\n",
       "      <td>8</td>\n",
       "      <td>Запустить акцию, дающую скидку на товар в день рождения</td>\n",
       "      <td>16.2</td>\n",
       "    </tr>\n",
       "    <tr>\n",
       "      <td>0</td>\n",
       "      <td>Добавить два новых канала привлечения трафика, что позволит привлекать на 30% больше пользователей</td>\n",
       "      <td>13.3</td>\n",
       "    </tr>\n",
       "    <tr>\n",
       "      <td>7</td>\n",
       "      <td>Добавить форму подписки на все основные страницы, чтобы собрать базу клиентов для email-рассылок</td>\n",
       "      <td>11.2</td>\n",
       "    </tr>\n",
       "    <tr>\n",
       "      <td>6</td>\n",
       "      <td>Показать на главной странице баннеры с актуальными акциями и распродажами, чтобы увеличить конверсию</td>\n",
       "      <td>8.0</td>\n",
       "    </tr>\n",
       "    <tr>\n",
       "      <td>2</td>\n",
       "      <td>Добавить блоки рекомендаций товаров на сайт интернет магазина, чтобы повысить конверсию и средний чек заказа</td>\n",
       "      <td>7.0</td>\n",
       "    </tr>\n",
       "    <tr>\n",
       "      <td>1</td>\n",
       "      <td>Запустить собственную службу доставки, что сократит срок доставки заказов</td>\n",
       "      <td>2.0</td>\n",
       "    </tr>\n",
       "    <tr>\n",
       "      <td>5</td>\n",
       "      <td>Добавить страницу отзывов клиентов о магазине, что позволит увеличить количество заказов</td>\n",
       "      <td>1.3</td>\n",
       "    </tr>\n",
       "    <tr>\n",
       "      <td>3</td>\n",
       "      <td>Изменить структура категорий, что увеличит конверсию, т.к. пользователи быстрее найдут нужный товар</td>\n",
       "      <td>1.1</td>\n",
       "    </tr>\n",
       "    <tr>\n",
       "      <td>4</td>\n",
       "      <td>Изменить цвет фона главной страницы, чтобы увеличить вовлеченность пользователей</td>\n",
       "      <td>1.0</td>\n",
       "    </tr>\n",
       "  </tbody>\n",
       "</table>\n",
       "</div>"
      ],
      "text/plain": [
       "                                                                                                     hypothesis  \\\n",
       "8                                                       Запустить акцию, дающую скидку на товар в день рождения   \n",
       "0            Добавить два новых канала привлечения трафика, что позволит привлекать на 30% больше пользователей   \n",
       "7              Добавить форму подписки на все основные страницы, чтобы собрать базу клиентов для email-рассылок   \n",
       "6          Показать на главной странице баннеры с актуальными акциями и распродажами, чтобы увеличить конверсию   \n",
       "2  Добавить блоки рекомендаций товаров на сайт интернет магазина, чтобы повысить конверсию и средний чек заказа   \n",
       "1                                     Запустить собственную службу доставки, что сократит срок доставки заказов   \n",
       "5                      Добавить страницу отзывов клиентов о магазине, что позволит увеличить количество заказов   \n",
       "3           Изменить структура категорий, что увеличит конверсию, т.к. пользователи быстрее найдут нужный товар   \n",
       "4                              Изменить цвет фона главной страницы, чтобы увеличить вовлеченность пользователей   \n",
       "\n",
       "    ice  \n",
       "8  16.2  \n",
       "0  13.3  \n",
       "7  11.2  \n",
       "6   8.0  \n",
       "2   7.0  \n",
       "1   2.0  \n",
       "5   1.3  \n",
       "3   1.1  \n",
       "4   1.0  "
      ]
     },
     "execution_count": 8,
     "metadata": {},
     "output_type": "execute_result"
    }
   ],
   "source": [
    "df_hpt_ice = df_hpt[['hypothesis', 'ice']]\n",
    "df_hpt_ice.sort_values(by = 'ice', ascending = False)"
   ]
  },
  {
   "cell_type": "markdown",
   "metadata": {},
   "source": [
    "Выведем сокращенный датафрейм df_hpt_ice со столбцами hypothesis и ice, отсортированный по убыванию ICE. Первую позицию занимает гипотеза №8 ,благодаря высокому влиянию на пользователей и уверенности в гипотезе. Но охват пользователей очень мал, 1 по десятибалльной шкале. Гипотеза 0 - вторая в списке, у нее высокое влияние и уверенность и чуть шире охват пользователей, 3 балла. Третья позиция - гипотеза 7, добавление формы подписки на все основные страницы. Показатели impact и confidence у нее чуть ниже, зато охват - 10 баллов. Гипотеза 6 - показать на главной странице баннеры с актуальными акциями и распродажами, чтобы увеличить конверсию - в основном подкреплена уверенностью в гипотезе. Гипотеза 2 - добавить блоки рекомендаций товаров на сайт интернет магазина, чтобы повысить конверсию и средний чек заказа - отличается высоким охватом (8) и уверенностью (7 баллов), но низким влиянием (3). ICE остальных гипотез - ниже 2 баллов."
   ]
  },
  {
   "cell_type": "markdown",
   "metadata": {},
   "source": [
    "#### Приоритизация гипотез медотом RICE."
   ]
  },
  {
   "cell_type": "code",
   "execution_count": 9,
   "metadata": {},
   "outputs": [],
   "source": [
    "df_hpt['rice'] = ((df_hpt['reach']*df_hpt['impact']*df_hpt['confidence'])/df_hpt['efforts']).round(1)"
   ]
  },
  {
   "cell_type": "markdown",
   "metadata": {},
   "source": [
    "Добавим в датафрейм расчетный столбец с расчетом приоритета с помощью фреймворка RICE."
   ]
  },
  {
   "cell_type": "code",
   "execution_count": 10,
   "metadata": {
    "scrolled": true
   },
   "outputs": [
    {
     "data": {
      "text/html": [
       "<div>\n",
       "<style scoped>\n",
       "    .dataframe tbody tr th:only-of-type {\n",
       "        vertical-align: middle;\n",
       "    }\n",
       "\n",
       "    .dataframe tbody tr th {\n",
       "        vertical-align: top;\n",
       "    }\n",
       "\n",
       "    .dataframe thead th {\n",
       "        text-align: right;\n",
       "    }\n",
       "</style>\n",
       "<table border=\"1\" class=\"dataframe\">\n",
       "  <thead>\n",
       "    <tr style=\"text-align: right;\">\n",
       "      <th></th>\n",
       "      <th>hypothesis</th>\n",
       "      <th>rice</th>\n",
       "    </tr>\n",
       "  </thead>\n",
       "  <tbody>\n",
       "    <tr>\n",
       "      <td>7</td>\n",
       "      <td>Добавить форму подписки на все основные страницы, чтобы собрать базу клиентов для email-рассылок</td>\n",
       "      <td>112.0</td>\n",
       "    </tr>\n",
       "    <tr>\n",
       "      <td>2</td>\n",
       "      <td>Добавить блоки рекомендаций товаров на сайт интернет магазина, чтобы повысить конверсию и средний чек заказа</td>\n",
       "      <td>56.0</td>\n",
       "    </tr>\n",
       "    <tr>\n",
       "      <td>0</td>\n",
       "      <td>Добавить два новых канала привлечения трафика, что позволит привлекать на 30% больше пользователей</td>\n",
       "      <td>40.0</td>\n",
       "    </tr>\n",
       "    <tr>\n",
       "      <td>6</td>\n",
       "      <td>Показать на главной странице баннеры с актуальными акциями и распродажами, чтобы увеличить конверсию</td>\n",
       "      <td>40.0</td>\n",
       "    </tr>\n",
       "    <tr>\n",
       "      <td>8</td>\n",
       "      <td>Запустить акцию, дающую скидку на товар в день рождения</td>\n",
       "      <td>16.2</td>\n",
       "    </tr>\n",
       "    <tr>\n",
       "      <td>3</td>\n",
       "      <td>Изменить структура категорий, что увеличит конверсию, т.к. пользователи быстрее найдут нужный товар</td>\n",
       "      <td>9.0</td>\n",
       "    </tr>\n",
       "    <tr>\n",
       "      <td>1</td>\n",
       "      <td>Запустить собственную службу доставки, что сократит срок доставки заказов</td>\n",
       "      <td>4.0</td>\n",
       "    </tr>\n",
       "    <tr>\n",
       "      <td>5</td>\n",
       "      <td>Добавить страницу отзывов клиентов о магазине, что позволит увеличить количество заказов</td>\n",
       "      <td>4.0</td>\n",
       "    </tr>\n",
       "    <tr>\n",
       "      <td>4</td>\n",
       "      <td>Изменить цвет фона главной страницы, чтобы увеличить вовлеченность пользователей</td>\n",
       "      <td>3.0</td>\n",
       "    </tr>\n",
       "  </tbody>\n",
       "</table>\n",
       "</div>"
      ],
      "text/plain": [
       "                                                                                                     hypothesis  \\\n",
       "7              Добавить форму подписки на все основные страницы, чтобы собрать базу клиентов для email-рассылок   \n",
       "2  Добавить блоки рекомендаций товаров на сайт интернет магазина, чтобы повысить конверсию и средний чек заказа   \n",
       "0            Добавить два новых канала привлечения трафика, что позволит привлекать на 30% больше пользователей   \n",
       "6          Показать на главной странице баннеры с актуальными акциями и распродажами, чтобы увеличить конверсию   \n",
       "8                                                       Запустить акцию, дающую скидку на товар в день рождения   \n",
       "3           Изменить структура категорий, что увеличит конверсию, т.к. пользователи быстрее найдут нужный товар   \n",
       "1                                     Запустить собственную службу доставки, что сократит срок доставки заказов   \n",
       "5                      Добавить страницу отзывов клиентов о магазине, что позволит увеличить количество заказов   \n",
       "4                              Изменить цвет фона главной страницы, чтобы увеличить вовлеченность пользователей   \n",
       "\n",
       "    rice  \n",
       "7  112.0  \n",
       "2   56.0  \n",
       "0   40.0  \n",
       "6   40.0  \n",
       "8   16.2  \n",
       "3    9.0  \n",
       "1    4.0  \n",
       "5    4.0  \n",
       "4    3.0  "
      ]
     },
     "execution_count": 10,
     "metadata": {},
     "output_type": "execute_result"
    }
   ],
   "source": [
    "df_hpt_rice = df_hpt[['hypothesis', 'rice']]\n",
    "df_hpt_rice.sort_values(by = 'rice', ascending = False)"
   ]
  },
  {
   "cell_type": "markdown",
   "metadata": {},
   "source": [
    "Выведем датасет с показателем RICE."
   ]
  },
  {
   "cell_type": "code",
   "execution_count": 11,
   "metadata": {},
   "outputs": [
    {
     "data": {
      "text/html": [
       "<style  type=\"text/css\" >\n",
       "    #T_ef3de970_f4fa_11eb_89c6_02420a395d9frow0_col3 {\n",
       "            background-color:  #399f39;\n",
       "            color:  #000000;\n",
       "        }    #T_ef3de970_f4fa_11eb_89c6_02420a395d9frow0_col4 {\n",
       "            background-color:  #008000;\n",
       "            color:  #f1f1f1;\n",
       "        }    #T_ef3de970_f4fa_11eb_89c6_02420a395d9frow0_col5 {\n",
       "            background-color:  #008000;\n",
       "            color:  #f1f1f1;\n",
       "        }    #T_ef3de970_f4fa_11eb_89c6_02420a395d9frow1_col3 {\n",
       "            background-color:  #72bf72;\n",
       "            color:  #000000;\n",
       "        }    #T_ef3de970_f4fa_11eb_89c6_02420a395d9frow1_col4 {\n",
       "            background-color:  #1c8f1c;\n",
       "            color:  #000000;\n",
       "        }    #T_ef3de970_f4fa_11eb_89c6_02420a395d9frow1_col5 {\n",
       "            background-color:  #319b31;\n",
       "            color:  #000000;\n",
       "        }    #T_ef3de970_f4fa_11eb_89c6_02420a395d9frow2_col3 {\n",
       "            background-color:  #1c8f1c;\n",
       "            color:  #000000;\n",
       "        }    #T_ef3de970_f4fa_11eb_89c6_02420a395d9frow2_col4 {\n",
       "            background-color:  #47a747;\n",
       "            color:  #000000;\n",
       "        }    #T_ef3de970_f4fa_11eb_89c6_02420a395d9frow2_col5 {\n",
       "            background-color:  #188d18;\n",
       "            color:  #000000;\n",
       "        }    #T_ef3de970_f4fa_11eb_89c6_02420a395d9frow3_col3 {\n",
       "            background-color:  #56af56;\n",
       "            color:  #000000;\n",
       "        }    #T_ef3de970_f4fa_11eb_89c6_02420a395d9frow3_col4 {\n",
       "            background-color:  #47a747;\n",
       "            color:  #000000;\n",
       "        }    #T_ef3de970_f4fa_11eb_89c6_02420a395d9frow3_col5 {\n",
       "            background-color:  #399f39;\n",
       "            color:  #000000;\n",
       "        }    #T_ef3de970_f4fa_11eb_89c6_02420a395d9frow4_col3 {\n",
       "            background-color:  #008000;\n",
       "            color:  #f1f1f1;\n",
       "        }    #T_ef3de970_f4fa_11eb_89c6_02420a395d9frow4_col4 {\n",
       "            background-color:  #72bf72;\n",
       "            color:  #000000;\n",
       "        }    #T_ef3de970_f4fa_11eb_89c6_02420a395d9frow4_col5 {\n",
       "            background-color:  #209220;\n",
       "            color:  #000000;\n",
       "        }    #T_ef3de970_f4fa_11eb_89c6_02420a395d9frow5_col3 {\n",
       "            background-color:  #c9efc9;\n",
       "            color:  #000000;\n",
       "        }    #T_ef3de970_f4fa_11eb_89c6_02420a395d9frow5_col4 {\n",
       "            background-color:  #8fcf8f;\n",
       "            color:  #000000;\n",
       "        }    #T_ef3de970_f4fa_11eb_89c6_02420a395d9frow5_col5 {\n",
       "            background-color:  #a4dba4;\n",
       "            color:  #000000;\n",
       "        }    #T_ef3de970_f4fa_11eb_89c6_02420a395d9frow6_col3 {\n",
       "            background-color:  #8fcf8f;\n",
       "            color:  #000000;\n",
       "        }    #T_ef3de970_f4fa_11eb_89c6_02420a395d9frow6_col4 {\n",
       "            background-color:  #bae7ba;\n",
       "            color:  #000000;\n",
       "        }    #T_ef3de970_f4fa_11eb_89c6_02420a395d9frow6_col5 {\n",
       "            background-color:  #9cd69c;\n",
       "            color:  #000000;\n",
       "        }    #T_ef3de970_f4fa_11eb_89c6_02420a395d9frow7_col3 {\n",
       "            background-color:  #acdfac;\n",
       "            color:  #000000;\n",
       "        }    #T_ef3de970_f4fa_11eb_89c6_02420a395d9frow7_col4 {\n",
       "            background-color:  #bae7ba;\n",
       "            color:  #000000;\n",
       "        }    #T_ef3de970_f4fa_11eb_89c6_02420a395d9frow7_col5 {\n",
       "            background-color:  #acdfac;\n",
       "            color:  #000000;\n",
       "        }    #T_ef3de970_f4fa_11eb_89c6_02420a395d9frow8_col3 {\n",
       "            background-color:  #e5ffe5;\n",
       "            color:  #000000;\n",
       "        }    #T_ef3de970_f4fa_11eb_89c6_02420a395d9frow8_col4 {\n",
       "            background-color:  #e5ffe5;\n",
       "            color:  #000000;\n",
       "        }    #T_ef3de970_f4fa_11eb_89c6_02420a395d9frow8_col5 {\n",
       "            background-color:  #e5ffe5;\n",
       "            color:  #000000;\n",
       "        }</style><table id=\"T_ef3de970_f4fa_11eb_89c6_02420a395d9f\" ><thead>    <tr>        <th class=\"blank level0\" ></th>        <th class=\"col_heading level0 col0\" >hypothesis</th>        <th class=\"col_heading level0 col1\" >ice</th>        <th class=\"col_heading level0 col2\" >rice</th>        <th class=\"col_heading level0 col3\" >rating_ice</th>        <th class=\"col_heading level0 col4\" >rating_rice</th>        <th class=\"col_heading level0 col5\" >rating_summary</th>    </tr></thead><tbody>\n",
       "                <tr>\n",
       "                        <th id=\"T_ef3de970_f4fa_11eb_89c6_02420a395d9flevel0_row0\" class=\"row_heading level0 row0\" >7</th>\n",
       "                        <td id=\"T_ef3de970_f4fa_11eb_89c6_02420a395d9frow0_col0\" class=\"data row0 col0\" >Добавить форму подписки на все основные страницы, чтобы собрать базу клиентов для email-рассылок</td>\n",
       "                        <td id=\"T_ef3de970_f4fa_11eb_89c6_02420a395d9frow0_col1\" class=\"data row0 col1\" >11.2</td>\n",
       "                        <td id=\"T_ef3de970_f4fa_11eb_89c6_02420a395d9frow0_col2\" class=\"data row0 col2\" >112</td>\n",
       "                        <td id=\"T_ef3de970_f4fa_11eb_89c6_02420a395d9frow0_col3\" class=\"data row0 col3\" >7</td>\n",
       "                        <td id=\"T_ef3de970_f4fa_11eb_89c6_02420a395d9frow0_col4\" class=\"data row0 col4\" >9</td>\n",
       "                        <td id=\"T_ef3de970_f4fa_11eb_89c6_02420a395d9frow0_col5\" class=\"data row0 col5\" >16</td>\n",
       "            </tr>\n",
       "            <tr>\n",
       "                        <th id=\"T_ef3de970_f4fa_11eb_89c6_02420a395d9flevel0_row1\" class=\"row_heading level0 row1\" >2</th>\n",
       "                        <td id=\"T_ef3de970_f4fa_11eb_89c6_02420a395d9frow1_col0\" class=\"data row1 col0\" >Добавить блоки рекомендаций товаров на сайт интернет магазина, чтобы повысить конверсию и средний чек заказа</td>\n",
       "                        <td id=\"T_ef3de970_f4fa_11eb_89c6_02420a395d9frow1_col1\" class=\"data row1 col1\" >7</td>\n",
       "                        <td id=\"T_ef3de970_f4fa_11eb_89c6_02420a395d9frow1_col2\" class=\"data row1 col2\" >56</td>\n",
       "                        <td id=\"T_ef3de970_f4fa_11eb_89c6_02420a395d9frow1_col3\" class=\"data row1 col3\" >5</td>\n",
       "                        <td id=\"T_ef3de970_f4fa_11eb_89c6_02420a395d9frow1_col4\" class=\"data row1 col4\" >8</td>\n",
       "                        <td id=\"T_ef3de970_f4fa_11eb_89c6_02420a395d9frow1_col5\" class=\"data row1 col5\" >13</td>\n",
       "            </tr>\n",
       "            <tr>\n",
       "                        <th id=\"T_ef3de970_f4fa_11eb_89c6_02420a395d9flevel0_row2\" class=\"row_heading level0 row2\" >0</th>\n",
       "                        <td id=\"T_ef3de970_f4fa_11eb_89c6_02420a395d9frow2_col0\" class=\"data row2 col0\" >Добавить два новых канала привлечения трафика, что позволит привлекать на 30% больше пользователей</td>\n",
       "                        <td id=\"T_ef3de970_f4fa_11eb_89c6_02420a395d9frow2_col1\" class=\"data row2 col1\" >13.3</td>\n",
       "                        <td id=\"T_ef3de970_f4fa_11eb_89c6_02420a395d9frow2_col2\" class=\"data row2 col2\" >40</td>\n",
       "                        <td id=\"T_ef3de970_f4fa_11eb_89c6_02420a395d9frow2_col3\" class=\"data row2 col3\" >8</td>\n",
       "                        <td id=\"T_ef3de970_f4fa_11eb_89c6_02420a395d9frow2_col4\" class=\"data row2 col4\" >6.5</td>\n",
       "                        <td id=\"T_ef3de970_f4fa_11eb_89c6_02420a395d9frow2_col5\" class=\"data row2 col5\" >14.5</td>\n",
       "            </tr>\n",
       "            <tr>\n",
       "                        <th id=\"T_ef3de970_f4fa_11eb_89c6_02420a395d9flevel0_row3\" class=\"row_heading level0 row3\" >6</th>\n",
       "                        <td id=\"T_ef3de970_f4fa_11eb_89c6_02420a395d9frow3_col0\" class=\"data row3 col0\" >Показать на главной странице баннеры с актуальными акциями и распродажами, чтобы увеличить конверсию</td>\n",
       "                        <td id=\"T_ef3de970_f4fa_11eb_89c6_02420a395d9frow3_col1\" class=\"data row3 col1\" >8</td>\n",
       "                        <td id=\"T_ef3de970_f4fa_11eb_89c6_02420a395d9frow3_col2\" class=\"data row3 col2\" >40</td>\n",
       "                        <td id=\"T_ef3de970_f4fa_11eb_89c6_02420a395d9frow3_col3\" class=\"data row3 col3\" >6</td>\n",
       "                        <td id=\"T_ef3de970_f4fa_11eb_89c6_02420a395d9frow3_col4\" class=\"data row3 col4\" >6.5</td>\n",
       "                        <td id=\"T_ef3de970_f4fa_11eb_89c6_02420a395d9frow3_col5\" class=\"data row3 col5\" >12.5</td>\n",
       "            </tr>\n",
       "            <tr>\n",
       "                        <th id=\"T_ef3de970_f4fa_11eb_89c6_02420a395d9flevel0_row4\" class=\"row_heading level0 row4\" >8</th>\n",
       "                        <td id=\"T_ef3de970_f4fa_11eb_89c6_02420a395d9frow4_col0\" class=\"data row4 col0\" >Запустить акцию, дающую скидку на товар в день рождения</td>\n",
       "                        <td id=\"T_ef3de970_f4fa_11eb_89c6_02420a395d9frow4_col1\" class=\"data row4 col1\" >16.2</td>\n",
       "                        <td id=\"T_ef3de970_f4fa_11eb_89c6_02420a395d9frow4_col2\" class=\"data row4 col2\" >16.2</td>\n",
       "                        <td id=\"T_ef3de970_f4fa_11eb_89c6_02420a395d9frow4_col3\" class=\"data row4 col3\" >9</td>\n",
       "                        <td id=\"T_ef3de970_f4fa_11eb_89c6_02420a395d9frow4_col4\" class=\"data row4 col4\" >5</td>\n",
       "                        <td id=\"T_ef3de970_f4fa_11eb_89c6_02420a395d9frow4_col5\" class=\"data row4 col5\" >14</td>\n",
       "            </tr>\n",
       "            <tr>\n",
       "                        <th id=\"T_ef3de970_f4fa_11eb_89c6_02420a395d9flevel0_row5\" class=\"row_heading level0 row5\" >3</th>\n",
       "                        <td id=\"T_ef3de970_f4fa_11eb_89c6_02420a395d9frow5_col0\" class=\"data row5 col0\" >Изменить структура категорий, что увеличит конверсию, т.к. пользователи быстрее найдут нужный товар</td>\n",
       "                        <td id=\"T_ef3de970_f4fa_11eb_89c6_02420a395d9frow5_col1\" class=\"data row5 col1\" >1.1</td>\n",
       "                        <td id=\"T_ef3de970_f4fa_11eb_89c6_02420a395d9frow5_col2\" class=\"data row5 col2\" >9</td>\n",
       "                        <td id=\"T_ef3de970_f4fa_11eb_89c6_02420a395d9frow5_col3\" class=\"data row5 col3\" >2</td>\n",
       "                        <td id=\"T_ef3de970_f4fa_11eb_89c6_02420a395d9frow5_col4\" class=\"data row5 col4\" >4</td>\n",
       "                        <td id=\"T_ef3de970_f4fa_11eb_89c6_02420a395d9frow5_col5\" class=\"data row5 col5\" >6</td>\n",
       "            </tr>\n",
       "            <tr>\n",
       "                        <th id=\"T_ef3de970_f4fa_11eb_89c6_02420a395d9flevel0_row6\" class=\"row_heading level0 row6\" >1</th>\n",
       "                        <td id=\"T_ef3de970_f4fa_11eb_89c6_02420a395d9frow6_col0\" class=\"data row6 col0\" >Запустить собственную службу доставки, что сократит срок доставки заказов</td>\n",
       "                        <td id=\"T_ef3de970_f4fa_11eb_89c6_02420a395d9frow6_col1\" class=\"data row6 col1\" >2</td>\n",
       "                        <td id=\"T_ef3de970_f4fa_11eb_89c6_02420a395d9frow6_col2\" class=\"data row6 col2\" >4</td>\n",
       "                        <td id=\"T_ef3de970_f4fa_11eb_89c6_02420a395d9frow6_col3\" class=\"data row6 col3\" >4</td>\n",
       "                        <td id=\"T_ef3de970_f4fa_11eb_89c6_02420a395d9frow6_col4\" class=\"data row6 col4\" >2.5</td>\n",
       "                        <td id=\"T_ef3de970_f4fa_11eb_89c6_02420a395d9frow6_col5\" class=\"data row6 col5\" >6.5</td>\n",
       "            </tr>\n",
       "            <tr>\n",
       "                        <th id=\"T_ef3de970_f4fa_11eb_89c6_02420a395d9flevel0_row7\" class=\"row_heading level0 row7\" >5</th>\n",
       "                        <td id=\"T_ef3de970_f4fa_11eb_89c6_02420a395d9frow7_col0\" class=\"data row7 col0\" >Добавить страницу отзывов клиентов о магазине, что позволит увеличить количество заказов</td>\n",
       "                        <td id=\"T_ef3de970_f4fa_11eb_89c6_02420a395d9frow7_col1\" class=\"data row7 col1\" >1.3</td>\n",
       "                        <td id=\"T_ef3de970_f4fa_11eb_89c6_02420a395d9frow7_col2\" class=\"data row7 col2\" >4</td>\n",
       "                        <td id=\"T_ef3de970_f4fa_11eb_89c6_02420a395d9frow7_col3\" class=\"data row7 col3\" >3</td>\n",
       "                        <td id=\"T_ef3de970_f4fa_11eb_89c6_02420a395d9frow7_col4\" class=\"data row7 col4\" >2.5</td>\n",
       "                        <td id=\"T_ef3de970_f4fa_11eb_89c6_02420a395d9frow7_col5\" class=\"data row7 col5\" >5.5</td>\n",
       "            </tr>\n",
       "            <tr>\n",
       "                        <th id=\"T_ef3de970_f4fa_11eb_89c6_02420a395d9flevel0_row8\" class=\"row_heading level0 row8\" >4</th>\n",
       "                        <td id=\"T_ef3de970_f4fa_11eb_89c6_02420a395d9frow8_col0\" class=\"data row8 col0\" >Изменить цвет фона главной страницы, чтобы увеличить вовлеченность пользователей</td>\n",
       "                        <td id=\"T_ef3de970_f4fa_11eb_89c6_02420a395d9frow8_col1\" class=\"data row8 col1\" >1</td>\n",
       "                        <td id=\"T_ef3de970_f4fa_11eb_89c6_02420a395d9frow8_col2\" class=\"data row8 col2\" >3</td>\n",
       "                        <td id=\"T_ef3de970_f4fa_11eb_89c6_02420a395d9frow8_col3\" class=\"data row8 col3\" >1</td>\n",
       "                        <td id=\"T_ef3de970_f4fa_11eb_89c6_02420a395d9frow8_col4\" class=\"data row8 col4\" >1</td>\n",
       "                        <td id=\"T_ef3de970_f4fa_11eb_89c6_02420a395d9frow8_col5\" class=\"data row8 col5\" >2</td>\n",
       "            </tr>\n",
       "    </tbody></table>"
      ],
      "text/plain": [
       "<pandas.io.formats.style.Styler at 0x7fc8396b6e90>"
      ]
     },
     "execution_count": 11,
     "metadata": {},
     "output_type": "execute_result"
    }
   ],
   "source": [
    "df_hpt_ice = df_hpt_ice.merge(df_hpt_rice)\n",
    "df_hpt_ice['rating_ice'] = df_hpt_ice['ice'].rank(ascending = 1)\n",
    "df_hpt_ice['rating_rice'] = df_hpt_ice['rice'].rank(ascending = 1)\n",
    "df_hpt_ice['rating_summary'] = df_hpt_ice['rating_ice']+df_hpt_ice['rating_rice']\n",
    "\n",
    "numeric_columns = ['rating_ice',\n",
    "                   'rating_rice',\n",
    "                   'rating_summary']\n",
    "cm = sns.light_palette(\"green\", as_cmap=True)\n",
    "(df_hpt_ice\n",
    ".sort_values(by = 'rice', ascending = False)\n",
    ".style\n",
    ".background_gradient(cmap=cm, subset=numeric_columns)\n",
    ")                   "
   ]
  },
  {
   "cell_type": "markdown",
   "metadata": {},
   "source": [
    "<div class=\"alert alert-block alert-warning\">\n",
    "    \n",
    "\n",
    "__Комментарий от ревьюера №1__\n",
    "\n",
    "Результаты можно было бы выделить цветом — https://pandas.pydata.org/pandas-docs/stable/user_guide/style.html\n",
    "\n",
    "</div>"
   ]
  },
  {
   "cell_type": "markdown",
   "metadata": {},
   "source": [
    "<div class=\"alert alert-block alert-success\">\n",
    "    \n",
    "\n",
    "__Комментарий от ревьюера №2__\n",
    "\n",
    "👍\n",
    "</div>"
   ]
  },
  {
   "cell_type": "markdown",
   "metadata": {},
   "source": [
    "Объединим датасеты для удобства сравнения показателей. Для наглядности добавим ранг каждого рейтинга (порядковое место в столбце). После ранжирования удобнее выделять сравнительную приоритетность по обоиv показателям.\n",
    "Для совокупной оценки (не в качестве основного инструмента, просто справочно) добавим столбец с сумарным рейтингом ICE и RICE.\n",
    "В связи с тем, что способ RICE учитывает больше параметров, предлагается рассматривать его в первую очередь. Трудозатраты - достаточно важный параметр в реальной рабочей ситуации.\n",
    "\n",
    "По RICE лидирует гипотеза: \"Добавить форму подписки на все основные страницы, чтобы собрать базу клиентов для email-рассылок\". Достаточно высокие параметры вкупе со средней сложностью (5 баллов) дают такой показатель. По ICE эта гипотеза занимает 7 место из 9. Вывод - эта гипотеза - первая в рейтинге проверки на основании совокупности показателей даже по суммарному рейтингу).\n",
    "\n",
    "Следующее место по RICE занимает гипотеза: \"Добавить блоки рекомендаций товаров на сайт интернет магазина, чтобы повысить конверсию и средний чек заказа\". У нее низкий efforts, но и impact тоже равен 3. По ICE это 5 гипотеза из 9. Данная гипотеза также интересна для проверки, т.к. должна прямо влиять на конверсию и средний чек. По суммарному рейтингу это четвертая гипотеза, (но разница между суммарными гипотезами \"первой пятерки\" невелика). \n",
    "\n",
    "Гипотеза \"Добавить два новых канала привлечения трафика, что позволит привлекать на 30% больше пользователей\" также интересна для проверки, т.к. ICE и RICE сопоставимы, 8 и 6,5.  Все параметры на среднем уровне и выше, но охват пользователей невысок, 3 балла. Ее суммарный рейтинг - на втором месте, 14,5.\n",
    "\n",
    "Гипотеза \"Показать на главной странице баннеры с актуальными акциями и распродажами, чтобы увеличить конверсию\" идентична по рейтингу rice гипотезе \"Добавить два новых канала привлечения трафика, что позволит привлекать на 30% больше пользователей\", у них одинаковое количество баллов. Но impact этой гипотезы значительно выше, как и совокупный показатель. Ее все-таки рекомендуется проверить перед гипотезой о баннерах.\n",
    "\n",
    "Гипотеза \"Запустить акцию, дающую скидку на товар в день рождения\" по rice - на 5 месте, но по ice она  - первая. У нее самый низкий охват, но высокая эффективность. Efforts равен 5, что является средним покзателем. Эта гипотеза также требует проверки.\n",
    "\n",
    "Следующие три гипотезы если и требуют проверки, то в последнюю очередь по совокупности факторов. Гипотеза \"Изменить цвет фона главной страницы, чтобы увеличить вовлеченность пользователей\" является аутсайдером и вряд ли требует проверки."
   ]
  },
  {
   "cell_type": "markdown",
   "metadata": {},
   "source": [
    "<div class=\"alert alert-block alert-warning\">\n",
    "    \n",
    "\n",
    "__Комментарий от ревьюера №1__\n",
    "\n",
    "В целом раздел сделан хорошо, только несколько странно, что ты коллегам/руководству пишешь номера гипотез в половине случаев, почему не полные названия? Так им не придется искать где гипотезы записаны. Они у них вообще могут быть без номеров и в другой сортировке. У тебя же номера гипотез получены просто после импорта в pandas.\n",
    "\n",
    "</div>"
   ]
  },
  {
   "cell_type": "markdown",
   "metadata": {},
   "source": [
    "<div class = \"alert alert-info\">\n",
    "<h2>Комментарий студента</h2>\n",
    "Спасибо за подсказку, скорректировал, добавил только наименования гипотез. Попробовал отформатировать таблицу с гипотезами условным форматированием, буду дальше разбираться с этим замечательным инструментом.\n",
    "</div>"
   ]
  },
  {
   "cell_type": "markdown",
   "metadata": {},
   "source": [
    "<div class=\"alert alert-block alert-success\">\n",
    "    \n",
    "\n",
    "__Комментарий от ревьюера №2__\n",
    "\n",
    "Супер!)\n",
    "</div>"
   ]
  },
  {
   "cell_type": "markdown",
   "metadata": {},
   "source": [
    "## часть. Анализ А/В теста."
   ]
  },
  {
   "cell_type": "markdown",
   "metadata": {},
   "source": [
    "### Предобработка и исследование данных."
   ]
  },
  {
   "cell_type": "code",
   "execution_count": 12,
   "metadata": {},
   "outputs": [],
   "source": [
    "try:\n",
    "    orders = pd.read_csv('/datasets/orders.csv')\n",
    "except:\n",
    "    raise"
   ]
  },
  {
   "cell_type": "code",
   "execution_count": 13,
   "metadata": {},
   "outputs": [],
   "source": [
    "try:\n",
    "    visitors = pd.read_csv('/datasets/visitors.csv')\n",
    "except:\n",
    "    raise"
   ]
  },
  {
   "cell_type": "markdown",
   "metadata": {},
   "source": [
    "Прочтем датасеты с заказами и посетителями и запишем их в датафреймы orders и visitors"
   ]
  },
  {
   "cell_type": "code",
   "execution_count": 14,
   "metadata": {},
   "outputs": [
    {
     "name": "stdout",
     "output_type": "stream",
     "text": [
      "<class 'pandas.core.frame.DataFrame'>\n",
      "RangeIndex: 1197 entries, 0 to 1196\n",
      "Data columns (total 5 columns):\n",
      "transactionId    1197 non-null int64\n",
      "visitorId        1197 non-null int64\n",
      "date             1197 non-null object\n",
      "revenue          1197 non-null int64\n",
      "group            1197 non-null object\n",
      "dtypes: int64(3), object(2)\n",
      "memory usage: 46.9+ KB\n"
     ]
    }
   ],
   "source": [
    "orders.info()"
   ]
  },
  {
   "cell_type": "code",
   "execution_count": 15,
   "metadata": {},
   "outputs": [
    {
     "data": {
      "text/html": [
       "<div>\n",
       "<style scoped>\n",
       "    .dataframe tbody tr th:only-of-type {\n",
       "        vertical-align: middle;\n",
       "    }\n",
       "\n",
       "    .dataframe tbody tr th {\n",
       "        vertical-align: top;\n",
       "    }\n",
       "\n",
       "    .dataframe thead th {\n",
       "        text-align: right;\n",
       "    }\n",
       "</style>\n",
       "<table border=\"1\" class=\"dataframe\">\n",
       "  <thead>\n",
       "    <tr style=\"text-align: right;\">\n",
       "      <th></th>\n",
       "      <th>transactionId</th>\n",
       "      <th>visitorId</th>\n",
       "      <th>date</th>\n",
       "      <th>revenue</th>\n",
       "      <th>group</th>\n",
       "    </tr>\n",
       "  </thead>\n",
       "  <tbody>\n",
       "    <tr>\n",
       "      <td>32</td>\n",
       "      <td>3666913472</td>\n",
       "      <td>2038680547</td>\n",
       "      <td>2019-08-15</td>\n",
       "      <td>1680</td>\n",
       "      <td>B</td>\n",
       "    </tr>\n",
       "    <tr>\n",
       "      <td>48</td>\n",
       "      <td>133616433</td>\n",
       "      <td>1215602524</td>\n",
       "      <td>2019-08-16</td>\n",
       "      <td>1250</td>\n",
       "      <td>B</td>\n",
       "    </tr>\n",
       "    <tr>\n",
       "      <td>1082</td>\n",
       "      <td>2055901696</td>\n",
       "      <td>2944179391</td>\n",
       "      <td>2019-08-12</td>\n",
       "      <td>6015</td>\n",
       "      <td>B</td>\n",
       "    </tr>\n",
       "  </tbody>\n",
       "</table>\n",
       "</div>"
      ],
      "text/plain": [
       "      transactionId   visitorId        date  revenue group\n",
       "32       3666913472  2038680547  2019-08-15     1680     B\n",
       "48        133616433  1215602524  2019-08-16     1250     B\n",
       "1082     2055901696  2944179391  2019-08-12     6015     B"
      ]
     },
     "execution_count": 15,
     "metadata": {},
     "output_type": "execute_result"
    }
   ],
   "source": [
    "orders.sample(3)"
   ]
  },
  {
   "cell_type": "markdown",
   "metadata": {},
   "source": [
    "Выведем информацию о датасете orders и 3 случайных записи датасета. Поле date необходимо привести к типу date. Поле group для экономии ресурсов можно привести к типу category."
   ]
  },
  {
   "cell_type": "code",
   "execution_count": 16,
   "metadata": {},
   "outputs": [
    {
     "data": {
      "text/html": [
       "<div>\n",
       "<style scoped>\n",
       "    .dataframe tbody tr th:only-of-type {\n",
       "        vertical-align: middle;\n",
       "    }\n",
       "\n",
       "    .dataframe tbody tr th {\n",
       "        vertical-align: top;\n",
       "    }\n",
       "\n",
       "    .dataframe thead th {\n",
       "        text-align: right;\n",
       "    }\n",
       "</style>\n",
       "<table border=\"1\" class=\"dataframe\">\n",
       "  <thead>\n",
       "    <tr style=\"text-align: right;\">\n",
       "      <th></th>\n",
       "      <th>transactionId</th>\n",
       "      <th>visitorId</th>\n",
       "      <th>date</th>\n",
       "      <th>revenue</th>\n",
       "      <th>group</th>\n",
       "    </tr>\n",
       "  </thead>\n",
       "  <tbody>\n",
       "  </tbody>\n",
       "</table>\n",
       "</div>"
      ],
      "text/plain": [
       "Empty DataFrame\n",
       "Columns: [transactionId, visitorId, date, revenue, group]\n",
       "Index: []"
      ]
     },
     "execution_count": 16,
     "metadata": {},
     "output_type": "execute_result"
    }
   ],
   "source": [
    "orders.query('transactionId.isna()')\n",
    "orders.query('visitorId.isna()')\n",
    "orders.query('date.isna()')\n",
    "orders.query('revenue.isna()')\n",
    "orders.query('group.isna()')"
   ]
  },
  {
   "cell_type": "markdown",
   "metadata": {},
   "source": [
    "Поля датасета не содержат пропусков."
   ]
  },
  {
   "cell_type": "code",
   "execution_count": 17,
   "metadata": {},
   "outputs": [
    {
     "data": {
      "text/plain": [
       "B    640\n",
       "A    557\n",
       "Name: group, dtype: int64"
      ]
     },
     "execution_count": 17,
     "metadata": {},
     "output_type": "execute_result"
    }
   ],
   "source": [
    "orders['group'].value_counts()"
   ]
  },
  {
   "cell_type": "code",
   "execution_count": 18,
   "metadata": {},
   "outputs": [
    {
     "data": {
      "text/plain": [
       "0       B\n",
       "1       B\n",
       "2       A\n",
       "3       B\n",
       "4       B\n",
       "       ..\n",
       "1192    B\n",
       "1193    A\n",
       "1194    A\n",
       "1195    A\n",
       "1196    B\n",
       "Name: group, Length: 1197, dtype: category\n",
       "Categories (2, object): [A, B]"
      ]
     },
     "execution_count": 18,
     "metadata": {},
     "output_type": "execute_result"
    }
   ],
   "source": [
    "orders['group'].astype('category')"
   ]
  },
  {
   "cell_type": "markdown",
   "metadata": {},
   "source": [
    "Приведем поле group к типу catrgory."
   ]
  },
  {
   "cell_type": "code",
   "execution_count": 19,
   "metadata": {},
   "outputs": [],
   "source": [
    "orders['date'] = pd.to_datetime(orders['date'], format = '%Y/%m/%d')"
   ]
  },
  {
   "cell_type": "markdown",
   "metadata": {},
   "source": [
    "Приведем поле date к формату datetime."
   ]
  },
  {
   "cell_type": "code",
   "execution_count": 20,
   "metadata": {},
   "outputs": [
    {
     "name": "stdout",
     "output_type": "stream",
     "text": [
      "<class 'pandas.core.frame.DataFrame'>\n",
      "RangeIndex: 62 entries, 0 to 61\n",
      "Data columns (total 3 columns):\n",
      "date        62 non-null object\n",
      "group       62 non-null object\n",
      "visitors    62 non-null int64\n",
      "dtypes: int64(1), object(2)\n",
      "memory usage: 1.6+ KB\n"
     ]
    }
   ],
   "source": [
    "visitors.info()"
   ]
  },
  {
   "cell_type": "code",
   "execution_count": 21,
   "metadata": {},
   "outputs": [
    {
     "data": {
      "text/html": [
       "<div>\n",
       "<style scoped>\n",
       "    .dataframe tbody tr th:only-of-type {\n",
       "        vertical-align: middle;\n",
       "    }\n",
       "\n",
       "    .dataframe tbody tr th {\n",
       "        vertical-align: top;\n",
       "    }\n",
       "\n",
       "    .dataframe thead th {\n",
       "        text-align: right;\n",
       "    }\n",
       "</style>\n",
       "<table border=\"1\" class=\"dataframe\">\n",
       "  <thead>\n",
       "    <tr style=\"text-align: right;\">\n",
       "      <th></th>\n",
       "      <th>date</th>\n",
       "      <th>group</th>\n",
       "      <th>visitors</th>\n",
       "    </tr>\n",
       "  </thead>\n",
       "  <tbody>\n",
       "    <tr>\n",
       "      <td>25</td>\n",
       "      <td>2019-08-26</td>\n",
       "      <td>A</td>\n",
       "      <td>722</td>\n",
       "    </tr>\n",
       "    <tr>\n",
       "      <td>38</td>\n",
       "      <td>2019-08-08</td>\n",
       "      <td>B</td>\n",
       "      <td>654</td>\n",
       "    </tr>\n",
       "    <tr>\n",
       "      <td>14</td>\n",
       "      <td>2019-08-15</td>\n",
       "      <td>A</td>\n",
       "      <td>628</td>\n",
       "    </tr>\n",
       "  </tbody>\n",
       "</table>\n",
       "</div>"
      ],
      "text/plain": [
       "          date group  visitors\n",
       "25  2019-08-26     A       722\n",
       "38  2019-08-08     B       654\n",
       "14  2019-08-15     A       628"
      ]
     },
     "execution_count": 21,
     "metadata": {},
     "output_type": "execute_result"
    }
   ],
   "source": [
    "visitors.sample(3)"
   ]
  },
  {
   "cell_type": "markdown",
   "metadata": {},
   "source": [
    "Выведем информацию о датасете visitors. Поле date небходимо привести к типу datetime."
   ]
  },
  {
   "cell_type": "code",
   "execution_count": 22,
   "metadata": {},
   "outputs": [],
   "source": [
    "visitors['date'] = pd.to_datetime(visitors['date'], format = '%Y/%m/%d')"
   ]
  },
  {
   "cell_type": "code",
   "execution_count": 23,
   "metadata": {},
   "outputs": [
    {
     "data": {
      "text/html": [
       "<div>\n",
       "<style scoped>\n",
       "    .dataframe tbody tr th:only-of-type {\n",
       "        vertical-align: middle;\n",
       "    }\n",
       "\n",
       "    .dataframe tbody tr th {\n",
       "        vertical-align: top;\n",
       "    }\n",
       "\n",
       "    .dataframe thead th {\n",
       "        text-align: right;\n",
       "    }\n",
       "</style>\n",
       "<table border=\"1\" class=\"dataframe\">\n",
       "  <thead>\n",
       "    <tr style=\"text-align: right;\">\n",
       "      <th></th>\n",
       "      <th>date</th>\n",
       "      <th>group</th>\n",
       "      <th>visitors</th>\n",
       "    </tr>\n",
       "  </thead>\n",
       "  <tbody>\n",
       "  </tbody>\n",
       "</table>\n",
       "</div>"
      ],
      "text/plain": [
       "Empty DataFrame\n",
       "Columns: [date, group, visitors]\n",
       "Index: []"
      ]
     },
     "execution_count": 23,
     "metadata": {},
     "output_type": "execute_result"
    }
   ],
   "source": [
    "visitors.query('date.isna()')\n",
    "visitors.query('group.isna()')\n",
    "visitors.query('visitors.isna()')"
   ]
  },
  {
   "cell_type": "markdown",
   "metadata": {},
   "source": [
    "Поля датасета не содержат пропусков."
   ]
  },
  {
   "cell_type": "markdown",
   "metadata": {},
   "source": [
    "Проверим, есть ли в датафрейме orders одновременно присутствующие и в группе А и в группе В покупатели."
   ]
  },
  {
   "cell_type": "code",
   "execution_count": 24,
   "metadata": {},
   "outputs": [],
   "source": [
    "usersAuniq = pd.DataFrame((orders[orders['group']=='A'][['visitorId']]).visitorId.unique())\n",
    "usersBuniq = pd.DataFrame((orders[orders['group']=='B'][['visitorId']]).visitorId.unique())"
   ]
  },
  {
   "cell_type": "markdown",
   "metadata": {},
   "source": [
    "Запишем для групп А и В датафреймы с уникальными visitorId."
   ]
  },
  {
   "cell_type": "code",
   "execution_count": 25,
   "metadata": {},
   "outputs": [],
   "source": [
    "users_double_list = pd.merge(usersAuniq, usersBuniq, how = 'inner')\n",
    "users_double_list\n",
    "users_double_list.columns = ['visitorId']"
   ]
  },
  {
   "cell_type": "markdown",
   "metadata": {},
   "source": [
    "Объединим датафреймы с уникальными ID пользователей с помощью merge с параметром inner, чтобы вывести пересекающиеся значения visitorId. Получилось 57 покупателей. В датафрейме - 1197 записей. Для более точного результата теста предлагается очистить датафрейм orders от этих покупателей."
   ]
  },
  {
   "cell_type": "code",
   "execution_count": 26,
   "metadata": {},
   "outputs": [],
   "source": [
    "users_double_list = users_double_list['visitorId'].tolist()"
   ]
  },
  {
   "cell_type": "code",
   "execution_count": 27,
   "metadata": {},
   "outputs": [],
   "source": [
    "orders = orders[~orders['visitorId'].isin(users_double_list)]"
   ]
  },
  {
   "cell_type": "markdown",
   "metadata": {},
   "source": [
    "Отфильтруем orders по списку users_double_list. Теперь в датафрейме не осталось записей с покупателями, делавшими покупки одновременно в двух группах."
   ]
  },
  {
   "cell_type": "markdown",
   "metadata": {},
   "source": [
    "<div class=\"alert alert-block alert-warning\">\n",
    "    \n",
    "\n",
    "__Комментарий от ревьюера №1__\n",
    "\n",
    "А есть ли у нас пользователи, которые попали в две группы одновременно?\n",
    "\n",
    "</div>"
   ]
  },
  {
   "cell_type": "markdown",
   "metadata": {},
   "source": [
    "<div class = \"alert alert-info\">\n",
    "<h2>Комментарий студента</h2>\n",
    "Скорректировал, пользователи, одновременно попавшие в 2 группы отфильтрованы.\n",
    "</div>"
   ]
  },
  {
   "cell_type": "markdown",
   "metadata": {},
   "source": [
    "<div class=\"alert alert-block alert-success\">\n",
    "    \n",
    "\n",
    "__Комментарий от ревьюера №2__\n",
    "\n",
    "👍\n",
    "</div>"
   ]
  },
  {
   "cell_type": "markdown",
   "metadata": {},
   "source": [
    "### Анализ А/В теста."
   ]
  },
  {
   "cell_type": "markdown",
   "metadata": {},
   "source": [
    "#### Анализ кумулятивной выручки по группам."
   ]
  },
  {
   "cell_type": "code",
   "execution_count": 28,
   "metadata": {},
   "outputs": [],
   "source": [
    "datesGroups = orders[['date', 'group']].drop_duplicates()"
   ]
  },
  {
   "cell_type": "markdown",
   "metadata": {},
   "source": [
    "Создадим массив уникальных пар дат и групп, применив метод drop_duplicates(). Запишем результат в датасет datesGroups."
   ]
  },
  {
   "cell_type": "code",
   "execution_count": 29,
   "metadata": {},
   "outputs": [
    {
     "data": {
      "text/html": [
       "<div>\n",
       "<style scoped>\n",
       "    .dataframe tbody tr th:only-of-type {\n",
       "        vertical-align: middle;\n",
       "    }\n",
       "\n",
       "    .dataframe tbody tr th {\n",
       "        vertical-align: top;\n",
       "    }\n",
       "\n",
       "    .dataframe thead th {\n",
       "        text-align: right;\n",
       "    }\n",
       "</style>\n",
       "<table border=\"1\" class=\"dataframe\">\n",
       "  <thead>\n",
       "    <tr style=\"text-align: right;\">\n",
       "      <th></th>\n",
       "      <th>date</th>\n",
       "      <th>group</th>\n",
       "      <th>transactionId</th>\n",
       "      <th>visitorId</th>\n",
       "      <th>revenue</th>\n",
       "    </tr>\n",
       "  </thead>\n",
       "  <tbody>\n",
       "    <tr>\n",
       "      <td>55</td>\n",
       "      <td>2019-08-01</td>\n",
       "      <td>A</td>\n",
       "      <td>23</td>\n",
       "      <td>19</td>\n",
       "      <td>142779</td>\n",
       "    </tr>\n",
       "    <tr>\n",
       "      <td>66</td>\n",
       "      <td>2019-08-01</td>\n",
       "      <td>B</td>\n",
       "      <td>17</td>\n",
       "      <td>17</td>\n",
       "      <td>59758</td>\n",
       "    </tr>\n",
       "    <tr>\n",
       "      <td>175</td>\n",
       "      <td>2019-08-02</td>\n",
       "      <td>A</td>\n",
       "      <td>42</td>\n",
       "      <td>36</td>\n",
       "      <td>234381</td>\n",
       "    </tr>\n",
       "    <tr>\n",
       "      <td>173</td>\n",
       "      <td>2019-08-02</td>\n",
       "      <td>B</td>\n",
       "      <td>40</td>\n",
       "      <td>39</td>\n",
       "      <td>221801</td>\n",
       "    </tr>\n",
       "    <tr>\n",
       "      <td>291</td>\n",
       "      <td>2019-08-03</td>\n",
       "      <td>A</td>\n",
       "      <td>66</td>\n",
       "      <td>60</td>\n",
       "      <td>346854</td>\n",
       "    </tr>\n",
       "  </tbody>\n",
       "</table>\n",
       "</div>"
      ],
      "text/plain": [
       "          date group  transactionId  visitorId  revenue\n",
       "55  2019-08-01     A             23         19   142779\n",
       "66  2019-08-01     B             17         17    59758\n",
       "175 2019-08-02     A             42         36   234381\n",
       "173 2019-08-02     B             40         39   221801\n",
       "291 2019-08-03     A             66         60   346854"
      ]
     },
     "execution_count": 29,
     "metadata": {},
     "output_type": "execute_result"
    }
   ],
   "source": [
    "ordersAggregated = datesGroups.apply(\n",
    "    lambda x: orders[\n",
    "        np.logical_and(\n",
    "            orders['date'] <= x['date'], orders['group'] == x['group']\n",
    "        )\n",
    "    ].agg(\n",
    "        {\n",
    "            'date': 'max',\n",
    "            'group': 'max',\n",
    "            'transactionId': pd.Series.nunique,\n",
    "            'visitorId': pd.Series.nunique,\n",
    "            'revenue': 'sum',\n",
    "        }\n",
    "    ),\n",
    "    axis=1,\n",
    ").sort_values(by=['date', 'group'])\n",
    "ordersAggregated.head()"
   ]
  },
  {
   "cell_type": "markdown",
   "metadata": {},
   "source": [
    "Сформируем сводные кумулятивные данные о заказах в разрезе дней. Получим строки таблицы orders, дата которых меньше или равна дате элемента из datesGroups, а группа теста равна группе из datesGroups. Вычислим максимальную дату и максимум для группы. Найдём число уникальных ID заказов и пользователей. Подсчитаем сумму средних чеков. Отсортируем результаты по столбцам 'date' и 'group'"
   ]
  },
  {
   "cell_type": "code",
   "execution_count": 30,
   "metadata": {},
   "outputs": [
    {
     "data": {
      "text/html": [
       "<div>\n",
       "<style scoped>\n",
       "    .dataframe tbody tr th:only-of-type {\n",
       "        vertical-align: middle;\n",
       "    }\n",
       "\n",
       "    .dataframe tbody tr th {\n",
       "        vertical-align: top;\n",
       "    }\n",
       "\n",
       "    .dataframe thead th {\n",
       "        text-align: right;\n",
       "    }\n",
       "</style>\n",
       "<table border=\"1\" class=\"dataframe\">\n",
       "  <thead>\n",
       "    <tr style=\"text-align: right;\">\n",
       "      <th></th>\n",
       "      <th>date</th>\n",
       "      <th>group</th>\n",
       "      <th>visitors</th>\n",
       "    </tr>\n",
       "  </thead>\n",
       "  <tbody>\n",
       "    <tr>\n",
       "      <td>55</td>\n",
       "      <td>2019-08-01</td>\n",
       "      <td>A</td>\n",
       "      <td>719</td>\n",
       "    </tr>\n",
       "    <tr>\n",
       "      <td>66</td>\n",
       "      <td>2019-08-01</td>\n",
       "      <td>B</td>\n",
       "      <td>713</td>\n",
       "    </tr>\n",
       "    <tr>\n",
       "      <td>175</td>\n",
       "      <td>2019-08-02</td>\n",
       "      <td>A</td>\n",
       "      <td>1338</td>\n",
       "    </tr>\n",
       "    <tr>\n",
       "      <td>173</td>\n",
       "      <td>2019-08-02</td>\n",
       "      <td>B</td>\n",
       "      <td>1294</td>\n",
       "    </tr>\n",
       "    <tr>\n",
       "      <td>291</td>\n",
       "      <td>2019-08-03</td>\n",
       "      <td>A</td>\n",
       "      <td>1845</td>\n",
       "    </tr>\n",
       "  </tbody>\n",
       "</table>\n",
       "</div>"
      ],
      "text/plain": [
       "          date group  visitors\n",
       "55  2019-08-01     A       719\n",
       "66  2019-08-01     B       713\n",
       "175 2019-08-02     A      1338\n",
       "173 2019-08-02     B      1294\n",
       "291 2019-08-03     A      1845"
      ]
     },
     "execution_count": 30,
     "metadata": {},
     "output_type": "execute_result"
    }
   ],
   "source": [
    "visitorsAggregated = datesGroups.apply(\n",
    "    lambda x: visitors[\n",
    "        np.logical_and(\n",
    "            visitors['date'] <= x['date'], visitors['group'] == x['group']\n",
    "        )\n",
    "    ].agg({'date': 'max', 'group': 'max', 'visitors': 'sum'}),\n",
    "    axis=1,\n",
    ").sort_values(by=['date', 'group'])\n",
    "visitorsAggregated.head()"
   ]
  },
  {
   "cell_type": "markdown",
   "metadata": {},
   "source": [
    "Агрегируем данные о посетителях интернет-магазина аналогичным образом."
   ]
  },
  {
   "cell_type": "code",
   "execution_count": 31,
   "metadata": {},
   "outputs": [],
   "source": [
    "cumulativeData = ordersAggregated.merge(\n",
    "    visitorsAggregated, left_on=['date', 'group'], right_on=['date', 'group']\n",
    ")\n",
    "cumulativeData.columns = [\n",
    "    'date',\n",
    "    'group',\n",
    "    'orders',\n",
    "    'buyers',\n",
    "    'revenue',\n",
    "    'visitors',\n",
    "]"
   ]
  },
  {
   "cell_type": "markdown",
   "metadata": {},
   "source": [
    "Объединим кумулятивные данные в одной таблице и переименуем столбцы в более понятные названия. "
   ]
  },
  {
   "cell_type": "code",
   "execution_count": 32,
   "metadata": {},
   "outputs": [],
   "source": [
    "cumulativeRevenueA = cumulativeData[cumulativeData['group']=='A'][['date','revenue', 'orders']]\n",
    "cumulativeRevenueB = cumulativeData[cumulativeData['group']=='B'][['date','revenue', 'orders']]"
   ]
  },
  {
   "cell_type": "markdown",
   "metadata": {},
   "source": [
    "Отфильтруем итоги по группам А и В и запишем в 2 датафрейма."
   ]
  },
  {
   "cell_type": "code",
   "execution_count": 33,
   "metadata": {},
   "outputs": [
    {
     "name": "stderr",
     "output_type": "stream",
     "text": [
      "/opt/conda/lib/python3.7/site-packages/pandas/plotting/_matplotlib/converter.py:103: FutureWarning: Using an implicitly registered datetime converter for a matplotlib plotting method. The converter was registered by pandas on import. Future versions of pandas will require you to explicitly register matplotlib converters.\n",
      "\n",
      "To register the converters:\n",
      "\t>>> from pandas.plotting import register_matplotlib_converters\n",
      "\t>>> register_matplotlib_converters()\n",
      "  warnings.warn(msg, FutureWarning)\n"
     ]
    },
    {
     "data": {
      "image/png": "[encoded data removed]",
      "text/plain": [
       "<Figure size 1080x360 with 1 Axes>"
      ]
     },
     "metadata": {
      "needs_background": "light"
     },
     "output_type": "display_data"
    }
   ],
   "source": [
    "plt.figure(figsize=(15,5))\n",
    "plt.plot(cumulativeRevenueA['date'], cumulativeRevenueA['revenue'],label='A')\n",
    "plt.plot(cumulativeRevenueB['date'], cumulativeRevenueB['revenue'],label='B')\n",
    "plt.xlabel(\"Дата\")\n",
    "plt.ylabel(\"Выручка\")\n",
    "plt.title('Кумулятивная выручка интернет-магазина по группам', fontsize = 12)\n",
    "plt.legend();"
   ]
  },
  {
   "cell_type": "markdown",
   "metadata": {},
   "source": [
    "<div class=\"alert alert-block alert-warning\">\n",
    "    \n",
    "\n",
    "__Комментарий от ревьюера №1__\n",
    "\n",
    "Обрати внимание на предупреждение, его можно убрать, добавив вот эти строки:\n",
    "    \n",
    "- from pandas.plotting import register_matplotlib_converters\n",
    "- register_matplotlib_converters()\n",
    "    \n",
    "Сейчас график строится и без них, но в обновленных версиях matplotlib скорее всего без этого не обойтись.\n",
    "</div>"
   ]
  },
  {
   "cell_type": "markdown",
   "metadata": {},
   "source": [
    "Построим график кумулятивной выручки. До 17 августа выручка идет почти вровень, незначительно лидирует группа В. Начиная с 17 августа сегмент B значительно опередил сегмент А. Возможно в группе В были сделаны заказы на суммы, превышающие стандартные средние заказы и это повлияло на результат."
   ]
  },
  {
   "cell_type": "markdown",
   "metadata": {},
   "source": [
    "<div class=\"alert alert-block alert-warning\">\n",
    "    \n",
    "\n",
    "__Комментарий от ревьюера №1__\n",
    "\n",
    "На график можно было добавить аннотации для наглядности через такой код:  \n",
    "<code>plt.annotate('скачок', xy=('2019-08-17', 2800000), xytext=('2019-08-10', 3500000),\n",
    "            arrowprops=dict(facecolor='g'))\n",
    "plt.annotate('отрыв', xy=('2019-08-05', 800000), xytext=('2019-08-05', 2000000),\n",
    "            arrowprops=dict(facecolor='g')) </code>\n",
    "</div>"
   ]
  },
  {
   "cell_type": "markdown",
   "metadata": {},
   "source": [
    "#### Анализ кумулятивнго среднего чека по группам."
   ]
  },
  {
   "cell_type": "code",
   "execution_count": 34,
   "metadata": {},
   "outputs": [
    {
     "data": {
      "image/png": "[encoded data removed]",
      "text/plain": [
       "<Figure size 1080x360 with 1 Axes>"
      ]
     },
     "metadata": {
      "needs_background": "light"
     },
     "output_type": "display_data"
    }
   ],
   "source": [
    "plt.figure(figsize=(15,5))\n",
    "plt.plot(cumulativeRevenueA['date'], cumulativeRevenueA['revenue']/cumulativeRevenueA['orders'], label='A')\n",
    "plt.plot(cumulativeRevenueB['date'], cumulativeRevenueB['revenue']/cumulativeRevenueB['orders'], label='B')\n",
    "plt.xlabel(\"Дата\")\n",
    "plt.ylabel(\"Средний чек\")\n",
    "plt.title('Кумулятивный средний чек интернет-магазина по группам', fontsize = 12)\n",
    "plt.legend();"
   ]
  },
  {
   "cell_type": "markdown",
   "metadata": {},
   "source": [
    "Построим график кумулятивного среднего чека по группам. Предположения подтверждаются, средний чек группы В c 17 августа значительно выше среднего чека группы А, с большой вероятностью покупателями группы В был сделан один или несколько дорогих заказов, значительно увеличивших средний чек."
   ]
  },
  {
   "cell_type": "markdown",
   "metadata": {},
   "source": [
    "#### Анализ относительного изменения кумулятивного среднего чека группы В к группе А."
   ]
  },
  {
   "cell_type": "code",
   "execution_count": 35,
   "metadata": {},
   "outputs": [],
   "source": [
    "mergedCumulativeRevenue = cumulativeRevenueA.merge(cumulativeRevenueB, left_on='date', right_on='date', how='left', suffixes=['A', 'B'])"
   ]
  },
  {
   "cell_type": "markdown",
   "metadata": {},
   "source": [
    "Объединим данные датафреймов А и В."
   ]
  },
  {
   "cell_type": "code",
   "execution_count": 36,
   "metadata": {},
   "outputs": [
    {
     "data": {
      "image/png": "[encoded data removed]",
      "text/plain": [
       "<Figure size 1080x360 with 1 Axes>"
      ]
     },
     "metadata": {
      "needs_background": "light"
     },
     "output_type": "display_data"
    }
   ],
   "source": [
    "plt.figure(figsize=(15,5))\n",
    "plt.plot(mergedCumulativeRevenue['date'], (mergedCumulativeRevenue['revenueB']/mergedCumulativeRevenue['ordersB'])/(mergedCumulativeRevenue['revenueA']/mergedCumulativeRevenue['ordersA'])-1)\n",
    "plt.xlabel(\"Дата\")\n",
    "plt.ylabel(\"Изменение\")\n",
    "plt.title('Изменение кумулятивного среднего чека интернет-магазина группы В относительно группы А', fontsize = 12)\n",
    "plt.axhline(y=0, color='grey', linestyle='--');"
   ]
  },
  {
   "cell_type": "markdown",
   "metadata": {},
   "source": [
    "Большая часть графика показывает, что средний чек группы В был почти всегда больше среднего чека группы А. Но аномальное увеличение произошло в районе 17 августа, гипотеза о дорогих заказах подтверждается."
   ]
  },
  {
   "cell_type": "markdown",
   "metadata": {},
   "source": [
    "#### Анализ кумулятивной конверсии по группам."
   ]
  },
  {
   "cell_type": "code",
   "execution_count": 37,
   "metadata": {},
   "outputs": [],
   "source": [
    "cumulativeData['conversion'] = cumulativeData['orders']/cumulativeData['visitors']"
   ]
  },
  {
   "cell_type": "markdown",
   "metadata": {},
   "source": [
    "Добавим столбец с расчетом конверсии в датасет cumulativeData."
   ]
  },
  {
   "cell_type": "code",
   "execution_count": 38,
   "metadata": {},
   "outputs": [],
   "source": [
    "cumulativeDataA = cumulativeData[cumulativeData['group']=='A']\n",
    "cumulativeDataB = cumulativeData[cumulativeData['group']=='B']"
   ]
  },
  {
   "cell_type": "markdown",
   "metadata": {},
   "source": [
    "Разделим датасет на 2, по группам А и В."
   ]
  },
  {
   "cell_type": "code",
   "execution_count": 39,
   "metadata": {},
   "outputs": [
    {
     "data": {
      "image/png": "[encoded data removed]",
      "text/plain": [
       "<Figure size 1080x360 with 1 Axes>"
      ]
     },
     "metadata": {
      "needs_background": "light"
     },
     "output_type": "display_data"
    }
   ],
   "source": [
    "plt.figure(figsize=(15,5))\n",
    "plt.plot(cumulativeDataA['date'], cumulativeDataA['conversion'],label='A')\n",
    "plt.plot(cumulativeDataB['date'], cumulativeDataB['conversion'],label='B')\n",
    "plt.xlabel(\"Дата\")\n",
    "plt.ylabel(\"Конверсия\")\n",
    "plt.title('Кумулятивная конверсия интернет-магазина по группам', fontsize = 12)\n",
    "plt.legend()\n",
    "plt.axis([\"2019-08-01\", '2019-09-01', 0, 0.05]);"
   ]
  },
  {
   "cell_type": "markdown",
   "metadata": {},
   "source": [
    "Построим график изменения конверсии по группам. Изменим масштаб графика для оценки абсолютного значения колебаний конверсии. Из графика можно сделать вывод, что до 6 августа конверсия группы А была больше конверсии группы В. Затем конверсия группы В стала выше и до конца теста оставалась выше конверсии группы А. Начиная примерно с 18 августа конверсия обеих групп зафиксировалась около определенных значений и почти не менялась."
   ]
  },
  {
   "cell_type": "markdown",
   "metadata": {},
   "source": [
    "#### Анализ относительного изменения кумулятивной конверсии группы В к конверсии группы А."
   ]
  },
  {
   "cell_type": "code",
   "execution_count": 40,
   "metadata": {},
   "outputs": [],
   "source": [
    "mergedCumulativeConversions = cumulativeDataA[['date','conversion']].merge(cumulativeDataB[['date','conversion']], left_on='date', right_on='date', how='left', suffixes=['A', 'B'])"
   ]
  },
  {
   "cell_type": "markdown",
   "metadata": {},
   "source": [
    "Объединим датасеты групп А и В."
   ]
  },
  {
   "cell_type": "code",
   "execution_count": 41,
   "metadata": {},
   "outputs": [
    {
     "data": {
      "image/png": "[encoded data removed]",
      "text/plain": [
       "<Figure size 1080x360 with 1 Axes>"
      ]
     },
     "metadata": {
      "needs_background": "light"
     },
     "output_type": "display_data"
    }
   ],
   "source": [
    "plt.figure(figsize=(15,5))\n",
    "plt.plot(mergedCumulativeConversions['date'], mergedCumulativeConversions['conversionB']/mergedCumulativeConversions['conversionA']-1)\n",
    "plt.xlabel(\"Дата\")\n",
    "plt.ylabel(\"Изменение\")\n",
    "plt.title('Относительное различие кумулятивной конверсии группы B к группе A.', fontsize = 12)\n",
    "plt.axhline(y=0, color='black', linestyle='--')\n",
    "plt.axhline(y=0.2, color='grey', linestyle='--')\n",
    "plt.axis([\"2019-08-01\", '2019-09-01', -0.1, 0.22]);"
   ]
  },
  {
   "cell_type": "markdown",
   "metadata": {},
   "source": [
    "График относительной конверсии показывает, что после 5 августа лидирует группа В. Кратковременная разница в конверсии поднималась до 20%, но после 17 августа начала снижаться и в среднем колеблется около 12%."
   ]
  },
  {
   "cell_type": "markdown",
   "metadata": {},
   "source": [
    "<div class=\"alert alert-block alert-success\">\n",
    "    \n",
    "\n",
    "__Комментарий от ревьюера №1__\n",
    "\n",
    "Задания по кумулятивным метрикам сделаны очень хорошо.\n",
    "</div>"
   ]
  },
  {
   "cell_type": "markdown",
   "metadata": {},
   "source": [
    "#### Анализ количества заказов по пользователям."
   ]
  },
  {
   "cell_type": "code",
   "execution_count": 42,
   "metadata": {},
   "outputs": [],
   "source": [
    "ordersByUsers = (\n",
    "    orders.drop(['group', 'revenue', 'date'], axis=1)\n",
    "    .groupby('visitorId', as_index=False)\n",
    "    .agg({'transactionId': pd.Series.nunique})\n",
    ")\n",
    "\n",
    "ordersByUsers.columns = ['userId', 'orders']"
   ]
  },
  {
   "cell_type": "markdown",
   "metadata": {},
   "source": [
    "Найдем число заказов в разрезе пользователей. Применим метод drop к группе, выручке и дате, сгруппируем результат по пользователям. "
   ]
  },
  {
   "cell_type": "code",
   "execution_count": 43,
   "metadata": {},
   "outputs": [],
   "source": [
    "x_values = pd.Series(range(0, len(ordersByUsers)))"
   ]
  },
  {
   "cell_type": "markdown",
   "metadata": {},
   "source": [
    "Сформируем столбец с условными номерами наблюдений."
   ]
  },
  {
   "cell_type": "code",
   "execution_count": 44,
   "metadata": {},
   "outputs": [
    {
     "data": {
      "image/png": "[encoded data removed]",
      "text/plain": [
       "<Figure size 1080x360 with 1 Axes>"
      ]
     },
     "metadata": {
      "needs_background": "light"
     },
     "output_type": "display_data"
    }
   ],
   "source": [
    "plt.figure(figsize=(15,5))\n",
    "plt.scatter(x_values, ordersByUsers['orders'])\n",
    "plt.xlabel(\"Наблюдения\")\n",
    "plt.ylabel(\"Количество заказов\")\n",
    "plt.title('Анализ количества заказов по пользователям', fontsize = 12);"
   ]
  },
  {
   "cell_type": "markdown",
   "metadata": {},
   "source": [
    "Точечная диаграмма показывает, что преимущественно пользователи делают 1 заказ. Пользователей, делающих заказ 2 раза - значительно меньше."
   ]
  },
  {
   "cell_type": "markdown",
   "metadata": {},
   "source": [
    "#### Выбор границы для определения аномальных пользователей."
   ]
  },
  {
   "cell_type": "code",
   "execution_count": 45,
   "metadata": {},
   "outputs": [
    {
     "name": "stdout",
     "output_type": "stream",
     "text": [
      "[1. 2.]\n"
     ]
    }
   ],
   "source": [
    "print(np.percentile(ordersByUsers['orders'], [95, 99]))"
   ]
  },
  {
   "cell_type": "markdown",
   "metadata": {},
   "source": [
    "Посчитаем 95 и 99 перцентиль количества заказов. Не более 1% пользователей совершили 2 заказа."
   ]
  },
  {
   "cell_type": "code",
   "execution_count": 46,
   "metadata": {
    "scrolled": true
   },
   "outputs": [
    {
     "data": {
      "image/png": "[encoded data removed]",
      "text/plain": [
       "<Figure size 432x288 with 1 Axes>"
      ]
     },
     "metadata": {
      "needs_background": "light"
     },
     "output_type": "display_data"
    }
   ],
   "source": [
    "plt.hist(ordersByUsers['orders'])\n",
    "plt.xlabel(\"Количество заказов\")\n",
    "plt.ylabel(\"Пользователи\")\n",
    "plt.title('Распределение количества заказов', fontsize = 12);"
   ]
  },
  {
   "cell_type": "markdown",
   "metadata": {},
   "source": [
    "<div class=\"alert alert-block alert-warning\">\n",
    "    \n",
    "\n",
    "__Комментарий от ревьюера №1__\n",
    "\n",
    "Не забывай оформлять и такие графики.\n",
    "</div>"
   ]
  },
  {
   "cell_type": "markdown",
   "metadata": {},
   "source": [
    "<div class=\"alert alert-block alert-success\">\n",
    "    \n",
    "\n",
    "__Комментарий от ревьюера №2__\n",
    "\n",
    "👍\n",
    "</div>"
   ]
  },
  {
   "cell_type": "markdown",
   "metadata": {},
   "source": [
    "Проанализируем распределение количества заказов. Исходя из расчета 95 и 99 перцентиля и гистограммы предлагается считать аномальным количество заказов более 2."
   ]
  },
  {
   "cell_type": "markdown",
   "metadata": {},
   "source": [
    "#### Распределение заказов  по стоимости."
   ]
  },
  {
   "cell_type": "code",
   "execution_count": 47,
   "metadata": {},
   "outputs": [],
   "source": [
    "x_values_rev = pd.Series(range(0, len(orders['revenue'])))"
   ]
  },
  {
   "cell_type": "markdown",
   "metadata": {},
   "source": [
    "Сформируем столбец с условными номерами наблюдений."
   ]
  },
  {
   "cell_type": "code",
   "execution_count": 48,
   "metadata": {},
   "outputs": [
    {
     "data": {
      "image/png": "[encoded data removed]",
      "text/plain": [
       "<Figure size 1080x360 with 1 Axes>"
      ]
     },
     "metadata": {
      "needs_background": "light"
     },
     "output_type": "display_data"
    }
   ],
   "source": [
    "plt.figure(figsize=(15,5))\n",
    "plt.scatter(x_values_rev, orders['revenue'])\n",
    "plt.xlabel(\"Наблюдения\")\n",
    "plt.ylabel(\"Стоимость заказов\")\n",
    "plt.title('Анализ стоимости заказов', fontsize = 12);"
   ]
  },
  {
   "cell_type": "markdown",
   "metadata": {},
   "source": [
    "Распределение выглядит достаточно ровно, но из-за вброса свыше 1 200 000 сложно оценить более детально распределение в районе 60-80 тыс. Отфильтруем датасет от явно аномальных значений (свыше 200 тыс) и посмотрим на распределение.   "
   ]
  },
  {
   "cell_type": "code",
   "execution_count": 49,
   "metadata": {},
   "outputs": [],
   "source": [
    "clr_orders = orders[(orders['revenue'])< 200000]"
   ]
  },
  {
   "cell_type": "code",
   "execution_count": 50,
   "metadata": {},
   "outputs": [],
   "source": [
    "x_values_rev_clr = pd.Series(range(0, len(clr_orders['revenue'])))"
   ]
  },
  {
   "cell_type": "code",
   "execution_count": 51,
   "metadata": {},
   "outputs": [
    {
     "data": {
      "image/png": "[encoded data removed]",
      "text/plain": [
       "<Figure size 1080x360 with 1 Axes>"
      ]
     },
     "metadata": {
      "needs_background": "light"
     },
     "output_type": "display_data"
    }
   ],
   "source": [
    "plt.figure(figsize=(15,5))\n",
    "plt.scatter(x_values_rev_clr, clr_orders['revenue'])\n",
    "plt.xlabel(\"Наблюдения\")\n",
    "plt.ylabel(\"Стоимость заказов\")\n",
    "plt.title('Анализ стоимости заказов до 200 000', fontsize = 12);"
   ]
  },
  {
   "cell_type": "markdown",
   "metadata": {},
   "source": [
    "Визуально граница \"аномальности\" проходит где-то в районе 40 тыс. за заказ. Но более точно можно сказать только после расчета 95 и 99 перцентиля стоимости заказов."
   ]
  },
  {
   "cell_type": "markdown",
   "metadata": {},
   "source": [
    "#### Выбор границы для определения аномальных заказов."
   ]
  },
  {
   "cell_type": "code",
   "execution_count": 52,
   "metadata": {},
   "outputs": [
    {
     "name": "stdout",
     "output_type": "stream",
     "text": [
      "[26550. 52900.]\n"
     ]
    }
   ],
   "source": [
    "print(np.percentile(clr_orders['revenue'], [95, 99]))"
   ]
  },
  {
   "cell_type": "code",
   "execution_count": 53,
   "metadata": {},
   "outputs": [
    {
     "name": "stdout",
     "output_type": "stream",
     "text": [
      "[26785. 53904.]\n"
     ]
    }
   ],
   "source": [
    "print(np.percentile(orders['revenue'], [95, 99]))"
   ]
  },
  {
   "cell_type": "markdown",
   "metadata": {},
   "source": [
    "Посчитаем 95 и 99 перцентиль стоимости заказов. Интересно будет сделать это для очищенного и изначального датасетов. Наличие вбросов увеличивает стоимость среднего заказа для 5% пользователей на 235 условных единиц. Для 1% пользователей разрыв больше - порядка 1000 условных единиц.\n",
    "Предлагается считать границей аномального заказа 52900 условных единиц."
   ]
  },
  {
   "cell_type": "markdown",
   "metadata": {},
   "source": [
    "#### Статистическая значимость различий в конверсии между группами А и В по неочищенным данным."
   ]
  },
  {
   "cell_type": "code",
   "execution_count": 54,
   "metadata": {},
   "outputs": [],
   "source": [
    "visitorsADaily = visitors[visitors['group'] == 'A'][['date', 'visitors']]\n",
    "visitorsADaily.columns = ['date', 'visitorsPerDateA']"
   ]
  },
  {
   "cell_type": "markdown",
   "metadata": {},
   "source": [
    "Выделим в отдельный датасет группу посетителей А. Переименуем столбец visitors в visitorsPerDateA."
   ]
  },
  {
   "cell_type": "code",
   "execution_count": 55,
   "metadata": {},
   "outputs": [],
   "source": [
    "visitorsACummulative = visitorsADaily.apply(\n",
    "    lambda x: visitorsADaily[visitorsADaily['date'] <= x['date']].agg(\n",
    "        {'date': 'max', 'visitorsPerDateA': 'sum'}\n",
    "    ),\n",
    "    axis=1,\n",
    ")\n",
    "visitorsACummulative.columns = ['date', 'visitorsCummulativeA']"
   ]
  },
  {
   "cell_type": "markdown",
   "metadata": {},
   "source": [
    "Сформируем сводные кумулятивные данные о посещениях в разрезе дней. Получим строки таблицы visitors, дата которых меньше или равна дате элемента из visitorsADaily. Вычислим максимальную дату и кумулятивную сумму пользователей для группы. Дадим новые наименования столбцу visitorsCummulativeA."
   ]
  },
  {
   "cell_type": "code",
   "execution_count": 56,
   "metadata": {},
   "outputs": [],
   "source": [
    "visitorsBDaily = visitors[visitors['group'] == 'B'][['date', 'visitors']]\n",
    "visitorsBDaily.columns = ['date', 'visitorsPerDateB']\n",
    "\n",
    "visitorsBCummulative = visitorsBDaily.apply(\n",
    "    lambda x: visitorsBDaily[visitorsBDaily['date'] <= x['date']].agg(\n",
    "        {'date': 'max', 'visitorsPerDateB': 'sum'}\n",
    "    ),\n",
    "    axis=1,\n",
    ")\n",
    "visitorsBCummulative.columns = ['date', 'visitorsCummulativeB']"
   ]
  },
  {
   "cell_type": "markdown",
   "metadata": {},
   "source": [
    "Аналогичные действия проведем для датасета группы В."
   ]
  },
  {
   "cell_type": "code",
   "execution_count": 57,
   "metadata": {},
   "outputs": [],
   "source": [
    "ordersADaily = (\n",
    "    orders[orders['group'] == 'A'][['date', 'transactionId', 'visitorId', 'revenue']]\n",
    "    .groupby('date', as_index=False)\n",
    "    .agg({'transactionId': pd.Series.nunique, 'revenue': 'sum'})\n",
    ")\n",
    "ordersADaily.columns = ['date', 'ordersPerDateA', 'revenuePerDateA']"
   ]
  },
  {
   "cell_type": "markdown",
   "metadata": {},
   "source": [
    "Сформируем сводные данные c количеством заказов и выручкой на каждую дату для группы А."
   ]
  },
  {
   "cell_type": "code",
   "execution_count": 58,
   "metadata": {},
   "outputs": [],
   "source": [
    "ordersACummulative = ordersADaily.apply(\n",
    "    lambda x: ordersADaily[ordersADaily['date'] <= x['date']].agg(\n",
    "        {'date': 'max', 'ordersPerDateA': 'sum', 'revenuePerDateA': 'sum'}\n",
    "    ),\n",
    "    axis=1,\n",
    ").sort_values(by=['date'])\n",
    "ordersACummulative.columns = [\n",
    "    'date',\n",
    "    'ordersCummulativeA',\n",
    "    'revenueCummulativeA',\n",
    "]\n"
   ]
  },
  {
   "cell_type": "markdown",
   "metadata": {},
   "source": [
    "Сформируем датасет с теми же показателями, но с накоплениями для группы А."
   ]
  },
  {
   "cell_type": "code",
   "execution_count": 59,
   "metadata": {},
   "outputs": [],
   "source": [
    "ordersBDaily = (\n",
    "    orders[orders['group'] == 'B'][['date', 'transactionId', 'visitorId', 'revenue']]\n",
    "    .groupby('date', as_index=False)\n",
    "    .agg({'transactionId': pd.Series.nunique, 'revenue': 'sum'})\n",
    ")\n",
    "ordersBDaily.columns = ['date', 'ordersPerDateB', 'revenuePerDateB']"
   ]
  },
  {
   "cell_type": "markdown",
   "metadata": {},
   "source": [
    "Сформируем сводные данные c количеством заказов и выручкой на каждую дату для группы В."
   ]
  },
  {
   "cell_type": "code",
   "execution_count": 60,
   "metadata": {},
   "outputs": [],
   "source": [
    "ordersBCummulative = ordersBDaily.apply(\n",
    "    lambda x: ordersBDaily[ordersBDaily['date'] <= x['date']].agg(\n",
    "        {'date': 'max', 'ordersPerDateB': 'sum', 'revenuePerDateB': 'sum'}\n",
    "    ),\n",
    "    axis=1,\n",
    ").sort_values(by=['date'])\n",
    "ordersBCummulative.columns = [\n",
    "    'date',\n",
    "    'ordersCummulativeB',\n",
    "    'revenueCummulativeB',\n",
    "]"
   ]
  },
  {
   "cell_type": "markdown",
   "metadata": {},
   "source": [
    "Сформируем кумулятивные данные для группы В."
   ]
  },
  {
   "cell_type": "code",
   "execution_count": 61,
   "metadata": {},
   "outputs": [
    {
     "data": {
      "text/html": [
       "<div>\n",
       "<style scoped>\n",
       "    .dataframe tbody tr th:only-of-type {\n",
       "        vertical-align: middle;\n",
       "    }\n",
       "\n",
       "    .dataframe tbody tr th {\n",
       "        vertical-align: top;\n",
       "    }\n",
       "\n",
       "    .dataframe thead th {\n",
       "        text-align: right;\n",
       "    }\n",
       "</style>\n",
       "<table border=\"1\" class=\"dataframe\">\n",
       "  <thead>\n",
       "    <tr style=\"text-align: right;\">\n",
       "      <th></th>\n",
       "      <th>date</th>\n",
       "      <th>ordersPerDateA</th>\n",
       "      <th>revenuePerDateA</th>\n",
       "      <th>ordersPerDateB</th>\n",
       "      <th>revenuePerDateB</th>\n",
       "      <th>ordersCummulativeA</th>\n",
       "      <th>revenueCummulativeA</th>\n",
       "      <th>ordersCummulativeB</th>\n",
       "      <th>revenueCummulativeB</th>\n",
       "      <th>visitorsPerDateA</th>\n",
       "      <th>visitorsPerDateB</th>\n",
       "      <th>visitorsCummulativeA</th>\n",
       "      <th>visitorsCummulativeB</th>\n",
       "    </tr>\n",
       "  </thead>\n",
       "  <tbody>\n",
       "    <tr>\n",
       "      <td>12</td>\n",
       "      <td>2019-08-13</td>\n",
       "      <td>14</td>\n",
       "      <td>263638</td>\n",
       "      <td>20</td>\n",
       "      <td>117691</td>\n",
       "      <td>214</td>\n",
       "      <td>1558426</td>\n",
       "      <td>249</td>\n",
       "      <td>1542928</td>\n",
       "      <td>748</td>\n",
       "      <td>769</td>\n",
       "      <td>8323</td>\n",
       "      <td>8310</td>\n",
       "    </tr>\n",
       "    <tr>\n",
       "      <td>19</td>\n",
       "      <td>2019-08-20</td>\n",
       "      <td>10</td>\n",
       "      <td>58679</td>\n",
       "      <td>20</td>\n",
       "      <td>147274</td>\n",
       "      <td>309</td>\n",
       "      <td>2103613</td>\n",
       "      <td>368</td>\n",
       "      <td>3768059</td>\n",
       "      <td>575</td>\n",
       "      <td>560</td>\n",
       "      <td>12204</td>\n",
       "      <td>12218</td>\n",
       "    </tr>\n",
       "    <tr>\n",
       "      <td>8</td>\n",
       "      <td>2019-08-09</td>\n",
       "      <td>11</td>\n",
       "      <td>134237</td>\n",
       "      <td>19</td>\n",
       "      <td>103166</td>\n",
       "      <td>155</td>\n",
       "      <td>861456</td>\n",
       "      <td>176</td>\n",
       "      <td>1162961</td>\n",
       "      <td>617</td>\n",
       "      <td>610</td>\n",
       "      <td>5856</td>\n",
       "      <td>5908</td>\n",
       "    </tr>\n",
       "  </tbody>\n",
       "</table>\n",
       "</div>"
      ],
      "text/plain": [
       "         date  ordersPerDateA  revenuePerDateA  ordersPerDateB  \\\n",
       "12 2019-08-13              14           263638              20   \n",
       "19 2019-08-20              10            58679              20   \n",
       "8  2019-08-09              11           134237              19   \n",
       "\n",
       "    revenuePerDateB  ordersCummulativeA  revenueCummulativeA  \\\n",
       "12           117691                 214              1558426   \n",
       "19           147274                 309              2103613   \n",
       "8            103166                 155               861456   \n",
       "\n",
       "    ordersCummulativeB  revenueCummulativeB  visitorsPerDateA  \\\n",
       "12                 249              1542928               748   \n",
       "19                 368              3768059               575   \n",
       "8                  176              1162961               617   \n",
       "\n",
       "    visitorsPerDateB  visitorsCummulativeA  visitorsCummulativeB  \n",
       "12               769                  8323                  8310  \n",
       "19               560                 12204                 12218  \n",
       "8                610                  5856                  5908  "
      ]
     },
     "execution_count": 61,
     "metadata": {},
     "output_type": "execute_result"
    }
   ],
   "source": [
    "data = (\n",
    "    ordersADaily.merge(\n",
    "        ordersBDaily, left_on='date', right_on='date', how='left'\n",
    "    )\n",
    "    .merge(ordersACummulative, left_on='date', right_on='date', how='left')\n",
    "    .merge(ordersBCummulative, left_on='date', right_on='date', how='left')\n",
    "    .merge(visitorsADaily, left_on='date', right_on='date', how='left')\n",
    "    .merge(visitorsBDaily, left_on='date', right_on='date', how='left')\n",
    "    .merge(visitorsACummulative, left_on='date', right_on='date', how='left')\n",
    "    .merge(visitorsBCummulative, left_on='date', right_on='date', how='left')\n",
    ")\n",
    "data.sample(3)"
   ]
  },
  {
   "cell_type": "markdown",
   "metadata": {},
   "source": [
    "Объединим все датасеты по дате."
   ]
  },
  {
   "cell_type": "code",
   "execution_count": 62,
   "metadata": {},
   "outputs": [],
   "source": [
    "ordersByUsersA = (\n",
    "    orders[orders['group'] == 'A']\n",
    "    .groupby('visitorId', as_index=False)\n",
    "    .agg({'transactionId': pd.Series.nunique})\n",
    ")\n",
    "ordersByUsersA.columns = ['userId', 'orders']"
   ]
  },
  {
   "cell_type": "markdown",
   "metadata": {},
   "source": [
    "Посчитаем количество заказов для пользователей, которые заказывали хотя бы 1 раз в группе А ."
   ]
  },
  {
   "cell_type": "code",
   "execution_count": 63,
   "metadata": {},
   "outputs": [],
   "source": [
    "ordersByUsersB = (\n",
    "    orders[orders['group'] == 'B']\n",
    "    .groupby('visitorId', as_index=False)\n",
    "    .agg({'transactionId': pd.Series.nunique})\n",
    ")\n",
    "ordersByUsersB.columns = ['userId', 'orders']"
   ]
  },
  {
   "cell_type": "markdown",
   "metadata": {},
   "source": [
    "Аналогично сделаем для группы В."
   ]
  },
  {
   "cell_type": "code",
   "execution_count": 64,
   "metadata": {},
   "outputs": [],
   "source": [
    "pd.Series(0, index=np.arange(data['visitorsPerDateA'].sum() - len(ordersByUsersA['orders'])), name='orders')\n",
    "[ordersByUsersA['orders'],pd.Series(0, index=np.arange(data['visitorsPerDateA'].sum() - len(ordersByUsersA['orders'])), name='orders')] \n",
    "sampleA = pd.concat([ordersByUsersA['orders'],pd.Series(0, index=np.arange(data['visitorsPerDateA'].sum() - len(ordersByUsersA['orders'])), name='orders')],axis=0)"
   ]
  },
  {
   "cell_type": "markdown",
   "metadata": {},
   "source": [
    "Объявим переменную sampleA, в которой пользователям будет соответствовать количество заказов. Тем, кто ничего не заказал, будут соответствовать нули. Заказы - это список с количеством заказов для каждого из пользователей, нули - их количество будет равно разнице между суммой посетителей и количеством записей о заказах."
   ]
  },
  {
   "cell_type": "code",
   "execution_count": 65,
   "metadata": {},
   "outputs": [],
   "source": [
    "sampleB = pd.concat([ordersByUsersB['orders'],pd.Series(0, index=np.arange(data['visitorsPerDateB'].sum() - len(ordersByUsersB['orders'])), name='orders')],axis=0) "
   ]
  },
  {
   "cell_type": "markdown",
   "metadata": {},
   "source": [
    "Сформируем аналогичный датасет для группы В."
   ]
  },
  {
   "cell_type": "markdown",
   "metadata": {},
   "source": [
    "<div class=\"alert alert-block alert-warning\">\n",
    "    \n",
    "\n",
    "__Комментарий от ревьюера №1__\n",
    "\n",
    "Нужно сформулировать гипотезы перед каждым тестом, иначе что мы проверяем? Примерно так:  \n",
    "1. Нулевая гипотеза: ...  \n",
    "2. Обратная гипотеза: ...  \n",
    "    \n",
    "Так сторонний наблюдатель поймет что ты проверяешь.\n",
    "    \n",
    "А вот в [этой статье](https://ru.qwe.wiki/wiki/Null_hypothesis) можно почитать в целом о формулировании гипотез и как всё это дело началось)\n",
    "\n",
    "</div>"
   ]
  },
  {
   "cell_type": "markdown",
   "metadata": {},
   "source": [
    "<div class = \"alert alert-info\">\n",
    "<h2>Комментарий студента</h2>\n",
    "Скорректировал, добавил формулировки гипотез. Большое спасибо за ссылку на статью, очень подробно и понятно написано о проверке гипотез.\n",
    "</div>"
   ]
  },
  {
   "cell_type": "markdown",
   "metadata": {},
   "source": [
    "<div class=\"alert alert-block alert-success\">\n",
    "    \n",
    "\n",
    "__Комментарий от ревьюера №2__\n",
    "\n",
    "👍\n",
    "</div>"
   ]
  },
  {
   "cell_type": "markdown",
   "metadata": {},
   "source": [
    "Проверим гипотезу о различии между конверсиями групп А и В по \"сырым\" данным:\n",
    "\n",
    "\n",
    "1.Нулевая гипотеза: между конверсиями групп А и В нет статистически значимых различий\n",
    "\n",
    "2.Обратная гипотеза: между конверсиями групп А и В есть статистически значимое различие"
   ]
  },
  {
   "cell_type": "code",
   "execution_count": 66,
   "metadata": {},
   "outputs": [
    {
     "name": "stdout",
     "output_type": "stream",
     "text": [
      "0.011\n"
     ]
    }
   ],
   "source": [
    "print(\"{0:.3f}\".format(stats.mannwhitneyu(sampleA, sampleB, alternative = 'two-sided')[1]))"
   ]
  },
  {
   "cell_type": "markdown",
   "metadata": {},
   "source": [
    "Посчитаем статистическую значимость по тесту Манна-Уитни. p-value больше 0,05. Примем, что по сырым данным нулевую гипотезу не отвергаем, предполагаем, что нет статистически значимых различий между конверсиями групп А и В."
   ]
  },
  {
   "cell_type": "code",
   "execution_count": 67,
   "metadata": {},
   "outputs": [
    {
     "name": "stdout",
     "output_type": "stream",
     "text": [
      "16.0%\n"
     ]
    }
   ],
   "source": [
    "print(\"{0:.1%}\".format(sampleB.mean() / sampleA.mean() - 1))"
   ]
  },
  {
   "cell_type": "markdown",
   "metadata": {},
   "source": [
    "Относительный выигрыш группы В в части конверсии по неочищенным данным равен 16%."
   ]
  },
  {
   "cell_type": "markdown",
   "metadata": {},
   "source": [
    "#### Статистическая значимость различий среднего чека между группами А и В по неочищенным данным."
   ]
  },
  {
   "cell_type": "markdown",
   "metadata": {},
   "source": [
    "Проверим гипотезу о различии между средним чеком групп А и В по \"сырым\" данным:\n",
    "\n",
    "\n",
    "1.Нулевая гипотеза: между средним чеком групп А и В нет статистически значимых различий\n",
    "\n",
    "2.Обратная гипотеза: между средним чеком групп А и В есть статистически значимое различие"
   ]
  },
  {
   "cell_type": "code",
   "execution_count": 68,
   "metadata": {},
   "outputs": [
    {
     "name": "stdout",
     "output_type": "stream",
     "text": [
      "0.829\n"
     ]
    }
   ],
   "source": [
    "print('{0:.3f}'.format(stats.mannwhitneyu(orders[orders['group']=='A']['revenue'], orders[orders['group']=='B']['revenue'], alternative = 'two-sided')[1]))"
   ]
  },
  {
   "cell_type": "markdown",
   "metadata": {},
   "source": [
    "Найдём относительные различия в среднем чеке между группами. P-value значительно больше 0,05, нулевая гипотеза о том, что в среднем чеке групп А и В нет различий подтверждается."
   ]
  },
  {
   "cell_type": "code",
   "execution_count": 69,
   "metadata": {},
   "outputs": [
    {
     "name": "stdout",
     "output_type": "stream",
     "text": [
      "28.7%\n"
     ]
    }
   ],
   "source": [
    "print('{0:.1%}'.format(orders[orders['group']=='B']['revenue'].mean()/orders[orders['group']=='A']['revenue'].mean()-1)) "
   ]
  },
  {
   "cell_type": "markdown",
   "metadata": {},
   "source": [
    "Средний чек группы В по неочищенным данным больше среднего чека группы А на 28,7%"
   ]
  },
  {
   "cell_type": "markdown",
   "metadata": {},
   "source": [
    "#### Статистическая значимость различий в конверсии между группами А и В по очищенным данным."
   ]
  },
  {
   "cell_type": "code",
   "execution_count": 70,
   "metadata": {},
   "outputs": [],
   "source": [
    "usersWithManyOrders = pd.concat(\n",
    "    [\n",
    "        ordersByUsersA[ordersByUsersA['orders'] > 2]['userId'],\n",
    "        ordersByUsersB[ordersByUsersB['orders'] > 2]['userId'],\n",
    "    ],\n",
    "    axis=0,\n",
    ")"
   ]
  },
  {
   "cell_type": "markdown",
   "metadata": {},
   "source": [
    "Сформируем датафрейм с количеством заказов больше 2 на пользователя."
   ]
  },
  {
   "cell_type": "code",
   "execution_count": 71,
   "metadata": {},
   "outputs": [],
   "source": [
    "usersWithExpensiveOrders = orders[orders['revenue'] > 52900]['visitorId']"
   ]
  },
  {
   "cell_type": "markdown",
   "metadata": {},
   "source": [
    "Запишем в датафрейм usersWithExpensiveOrders id пользователей с суммой заказа свыше 56745 условных единиц."
   ]
  },
  {
   "cell_type": "code",
   "execution_count": 72,
   "metadata": {},
   "outputs": [],
   "source": [
    "abnormalUsers = (\n",
    "    pd.concat([usersWithManyOrders, usersWithExpensiveOrders], axis=0)\n",
    "    .drop_duplicates()\n",
    "    .sort_values()\n",
    ")"
   ]
  },
  {
   "cell_type": "markdown",
   "metadata": {},
   "source": [
    "Объединим датафреймы с id пользователей."
   ]
  },
  {
   "cell_type": "code",
   "execution_count": 73,
   "metadata": {},
   "outputs": [],
   "source": [
    "sampleAFiltered = pd.concat(\n",
    "    [\n",
    "        ordersByUsersA[\n",
    "            np.logical_not(ordersByUsersA['userId'].isin(abnormalUsers))\n",
    "        ]['orders'],\n",
    "        pd.Series(\n",
    "            0,\n",
    "            index=np.arange(\n",
    "                data['visitorsPerDateA'].sum() - len(ordersByUsersA['orders'])\n",
    "            ),\n",
    "            name='orders',\n",
    "        ),\n",
    "    ],\n",
    "    axis=0,\n",
    ")\n"
   ]
  },
  {
   "cell_type": "markdown",
   "metadata": {},
   "source": [
    "Сохраним в датасете sampleAFiltered очищенные данные о заказах группы А без аномальных пользователей."
   ]
  },
  {
   "cell_type": "code",
   "execution_count": 74,
   "metadata": {},
   "outputs": [],
   "source": [
    "sampleBFiltered = pd.concat(\n",
    "    [\n",
    "        ordersByUsersB[\n",
    "            np.logical_not(ordersByUsersB['userId'].isin(abnormalUsers))\n",
    "        ]['orders'],\n",
    "        pd.Series(\n",
    "            0,\n",
    "            index=np.arange(\n",
    "                data['visitorsPerDateB'].sum() - len(ordersByUsersB['orders'])\n",
    "            ),\n",
    "            name='orders',\n",
    "        ),\n",
    "    ],\n",
    "    axis=0,\n",
    ")"
   ]
  },
  {
   "cell_type": "markdown",
   "metadata": {},
   "source": [
    "Аналогично запишем датасет для группы В."
   ]
  },
  {
   "cell_type": "markdown",
   "metadata": {},
   "source": [
    "Проверим гипотезу о различии между конверсиями групп А и В по очищенным от вбросов данным:\n",
    "\n",
    "\n",
    "1.Нулевая гипотеза: между конверсиями групп А и В нет статистически значимых различий\n",
    "\n",
    "2.Обратная гипотеза: между конверсиями групп А и В есть статистически значимое различие"
   ]
  },
  {
   "cell_type": "code",
   "execution_count": 75,
   "metadata": {},
   "outputs": [
    {
     "name": "stdout",
     "output_type": "stream",
     "text": [
      "0.0063\n"
     ]
    }
   ],
   "source": [
    "print('{0:.4f}'.format(stats.mannwhitneyu(sampleAFiltered, sampleBFiltered, alternative = 'two-sided')[1]))"
   ]
  },
  {
   "cell_type": "markdown",
   "metadata": {},
   "source": [
    "P-value меньше 0,05. Отвергаем нулевую гипотезу, различия в конверсии между группами есть."
   ]
  },
  {
   "cell_type": "code",
   "execution_count": 76,
   "metadata": {},
   "outputs": [
    {
     "name": "stdout",
     "output_type": "stream",
     "text": [
      "19.2%\n"
     ]
    }
   ],
   "source": [
    "print('{0:.1%}'.format(sampleBFiltered.mean()/sampleAFiltered.mean()-1)) "
   ]
  },
  {
   "cell_type": "markdown",
   "metadata": {},
   "source": [
    "Очищенные данные показывают большую разницу в конверсии меджу группами, чем неочищенные."
   ]
  },
  {
   "cell_type": "markdown",
   "metadata": {},
   "source": [
    "#### Статистическая значимость различий среднего чека между группами А и В по очищенным данным."
   ]
  },
  {
   "cell_type": "markdown",
   "metadata": {},
   "source": [
    "Проверим гипотезу о различии между средним чеком групп А и В по очищенным от вбросов данным:\n",
    "\n",
    "\n",
    "1.Нулевая гипотеза: между средним чеком групп А и В нет статистически значимых различий\n",
    "\n",
    "2.Обратная гипотеза: между средним чеком групп А и В есть статистически значимое различие"
   ]
  },
  {
   "cell_type": "code",
   "execution_count": 77,
   "metadata": {},
   "outputs": [
    {
     "name": "stdout",
     "output_type": "stream",
     "text": [
      "0.842\n"
     ]
    }
   ],
   "source": [
    "print(\n",
    "    '{0:.3f}'.format(\n",
    "        stats.mannwhitneyu(\n",
    "            orders[\n",
    "                np.logical_and(\n",
    "                    orders['group'] == 'A',\n",
    "                    np.logical_not(orders['visitorId'].isin(abnormalUsers)),\n",
    "                )\n",
    "            ]['revenue'],\n",
    "            orders[\n",
    "                np.logical_and(\n",
    "                    orders['group'] == 'B',\n",
    "                    np.logical_not(orders['visitorId'].isin(abnormalUsers)),\n",
    "                )\n",
    "            ]['revenue'], alternative = 'two-sided',\n",
    "        )[1]\n",
    "    )\n",
    ")\n"
   ]
  },
  {
   "cell_type": "markdown",
   "metadata": {},
   "source": [
    "Рассчитаем статистическую значимость различий в среднем чеке между группами по очищенным данным. p-value = 0,788. Это меньше, чем различие при использованиинеочищенных данных. Но как и в случае с неочищенными данными, нулевая гипотеза о том, что в среднем чеке групп А и В нет различий, подтверждается. "
   ]
  },
  {
   "cell_type": "code",
   "execution_count": 78,
   "metadata": {},
   "outputs": [
    {
     "name": "stdout",
     "output_type": "stream",
     "text": [
      "-1.4%\n"
     ]
    }
   ],
   "source": [
    "print(\n",
    "    \"{0:.1%}\".format(\n",
    "        orders[\n",
    "            np.logical_and(\n",
    "                orders['group'] == 'B',\n",
    "                np.logical_not(orders['visitorId'].isin(abnormalUsers)),\n",
    "            )\n",
    "        ]['revenue'].mean()\n",
    "        / orders[\n",
    "            np.logical_and(\n",
    "                orders['group'] == 'A',\n",
    "                np.logical_not(orders['visitorId'].isin(abnormalUsers)),\n",
    "            )\n",
    "        ]['revenue'].mean()\n",
    "        - 1\n",
    "    )\n",
    ") "
   ]
  },
  {
   "cell_type": "markdown",
   "metadata": {},
   "source": [
    "Очищенные данные показывают противоположный результат. Средний чек группы В меньше среднего чека группы А на 3,2%."
   ]
  },
  {
   "cell_type": "markdown",
   "metadata": {},
   "source": [
    "<div class=\"alert alert-block alert-warning\">\n",
    "    \n",
    "\n",
    "__Комментарий от ревьюера №1__\n",
    "\n",
    "Сделана хорошая работа в А/Б-тесте, но есть у реализации метода Манн-Уитни в python есть одна особенность: его базовые настройки в python не предполагают проверку двухсторонней гипотезы, а это не соответствует гипотезам, проверяемым в проекте. Для корректной работы метода необходимо задать его параметр alternative = 'two-sided'.\n",
    "\n",
    "Подробнее о проверках можно почитать вот в этой [статье](http://www.stat.yale.edu/Courses/1997-98/101/sigtest.htm#:~:text=An%20alternative%20hypothesis%20may%20be,the%20direction%20does%20not%20matter.) \n",
    "    \n",
    "Обрати внимание, что значения p-value точно должны поменяться, если они остались такими же, то есть ошибка в коде.\n",
    "</div>"
   ]
  },
  {
   "cell_type": "markdown",
   "metadata": {},
   "source": [
    "<div class = \"alert alert-info\">\n",
    "<h2>Комментарий студента</h2>\n",
    "Скорректировал, p-value поменялись, как и выводы по конверсии.\n",
    "</div>"
   ]
  },
  {
   "cell_type": "markdown",
   "metadata": {},
   "source": [
    "<div class=\"alert alert-block alert-success\">\n",
    "    \n",
    "\n",
    "__Комментарий от ревьюера №2__\n",
    "\n",
    "👍\n",
    "</div>"
   ]
  },
  {
   "cell_type": "markdown",
   "metadata": {},
   "source": [
    "### Выводы и решение по результатам теста."
   ]
  },
  {
   "cell_type": "markdown",
   "metadata": {},
   "source": [
    "Приоритизация гипотез методами ICE и RICE позволила сделать следующие выводы:\n",
    "\n",
    "По RICE лидирует гипотеза: \"Добавить форму подписки на все основные страницы, чтобы собрать базу клиентов для email-рассылок\". Достаточно высокие параметры вкупе со средней сложностью (5 баллов) дают такой показатель. По ICE эта гипотеза занимает 7 место из 9. Вывод - эта гипотеза - первая в рейтинге проверки на основании совокупности показателей даже по суммарному рейтингу).\n",
    "\n",
    "Следующее место по RICE занимает гипотеза: \"Добавить блоки рекомендаций товаров на сайт интернет магазина, чтобы повысить конверсию и средний чек заказа\". У нее низкий efforts, но и impact тоже равен 3. По ICE это 5 гипотеза из 9. Данная гипотеза также интересна для проверки, т.к. должна прямо влиять на конверсию и средний чек. По суммарному рейтингу это четвертая гипотеза, (но разница между суммарными гипотезами \"первой пятерки\" невелика).\n",
    "\n",
    "Гипотеза \"Добавить два новых канала привлечения трафика, что позволит привлекать на 30% больше пользователей\" также интересна для проверки, т.к. ICE и RICE сопоставимы, 8 и 6,5. Все параметры на среднем уровне и выше, но охват пользователей невысок, 3 балла. Ее суммарный рейтинг - на втором месте, 14,5.\n",
    "\n",
    "Гипотеза \"Показать на главной странице баннеры с актуальными акциями и распродажами, чтобы увеличить конверсию\" идентична по рейтингу rice гипотезе \"Добавить два новых канала привлечения трафика, что позволит привлекать на 30% больше пользователей\", у них одинаковое количество баллов. Но impact этой гипотезы значительно выше, как и совокупный показатель. Ее все-таки рекомендуется проверить перед гипотезой о баннерах.\n",
    "\n",
    "Гипотеза \"Запустить акцию, дающую скидку на товар в день рождения\" по rice - на 5 месте, но по ice она - первая. У нее самый низкий охват, но высокая эффективность. Efforts равен 5, что является средним покзателем. Эта гипотеза также требует проверки.\n",
    "\n",
    "Следующие три гипотезы если и требуют проверки, то в последнюю очередь по совокупности факторов. Гипотеза \"Изменить цвет фона главной страницы, чтобы увеличить вовлеченность пользователей\" является аутсайдером и вряд ли требует проверки.\n",
    "\n",
    "В данных для анализа А/В теста содержалась информация о 57 пользователях, совершивших одновременные покупки в группе А и В. Для получения более корректных результатов эти данные были удалены.\n",
    "\n",
    "Анализ средней выручки по группам показал, что выручка группы В с середины теста показала значительное увеличение по сравнению со средней выручкой группы А (до этого момента выручка обеих групп различалась незначительлно). Возможно группе В были сделаны заказы на суммы, превышающие стандартные средние заказы и это повлияло на результат.\n",
    "\n",
    "Анализ среднего чека показал, что средний чек группы В c 17 августа значительно выше среднего чека группы А, с большой вероятностью покупателями группы В был сделан один или несколько дорогих заказов, значительно увеличивших средний чек.\n",
    "\n",
    "Конверсия группы В практически с начала теста была выше конверсии группы А.\n",
    "\n",
    "График относительной конверсии показал, что после 5 августа лидирует группа В. Кратковременная разница в конверсии поднималась до 20%, но после 17 августа начала снижаться и в среднем колеблется около 12%. \n",
    "\n",
    "В большинстве своем пользователи делают 1 заказ. \n",
    "\n",
    "Типовая стоимость заказа составляет сумму до 52 900 условных единиц.\n",
    "\n",
    "Проверка нулевой гипотезы \"между конверсиями групп А и В нет статистически значимых различий\" показала, что в случае использования неочищенных данных статистически значимых различий между конверсиями групп А и В нет. В случае с очищенными данными статистический тест показал, что конверсии групп различаются. Конверсия группы В больше конверсии группы А на 19%\n",
    "\n",
    "Проверка нулевой гипотезы \"между средними чеками групп А и В нет статистически значимых различий\". P-value критерия Манна-Уитни в части среднего чека в обоих случаях значительно выше значения alpha, это говорит о том,что в среднем чеке групп А и В нет различий. Но сравнение среднего чека группы B на неочищенных данных показывает превышение над средним чеком группы А на 28%, а на основе очищенных данных средний чек группы В меньше среднего чека группы А на 1,4%. Можно сделать вывод о незначительной разнице средних чеков двух групп, 1,4% - незначительное различие. Средние чеки групп идентичны.\n",
    "\n",
    "Общий вывод. Конверсия группы В выше. Средний чек двух групп почти идентичен. Т.к. средний чек группы В не упал, количество заказов, а следовательно и выручка в группе В будут выше. Тест можно завершать."
   ]
  },
  {
   "cell_type": "markdown",
   "metadata": {},
   "source": [
    "<div class=\"alert alert-block alert-warning\">\n",
    "\n",
    "__Комментарий от ревьюера по общему выводу №1__\n",
    "\n",
    "Что точно нужно поправить:  \n",
    "— написать в выводе информацию с этапа предобработки, в каком у нас состоянии данные, всё ли с ними изначально было в порядке;    \n",
    "— написать об основных гипотезах для проверки с первого этапа работы.  \n",
    "\n",
    "Что сделано хорошо:  \n",
    "— есть вывод про А/Б-тест и победившую группу.  \n",
    "\n",
    "Что можно было сделать лучше:  \n",
    "— предположить что победа группы B даст продукту в целом (средний чек не упал, но конверсия выросла, значит количество заказов тоже будет больше).\n",
    "</div>"
   ]
  },
  {
   "cell_type": "markdown",
   "metadata": {},
   "source": [
    "<div class = \"alert alert-info\">\n",
    "<h2>Комментарий студента</h2>\n",
    "Скорректировал.\n",
    "</div>"
   ]
  },
  {
   "cell_type": "markdown",
   "metadata": {},
   "source": [
    "<div class=\"alert alert-block alert-success\">\n",
    "    \n",
    "\n",
    "__Комментарий от ревьюера №2__\n",
    "\n",
    "👍\n",
    "</div>"
   ]
  },
  {
   "cell_type": "code",
   "execution_count": null,
   "metadata": {},
   "outputs": [],
   "source": []
  }
 ],
 "metadata": {
  "ExecuteTimeLog": [
   {
    "duration": 1468,
    "start_time": "2021-07-30T12:48:46.473Z"
   },
   {
    "duration": 19,
    "start_time": "2021-07-30T12:49:47.021Z"
   },
   {
    "duration": 17,
    "start_time": "2021-07-30T12:52:18.314Z"
   },
   {
    "duration": 498,
    "start_time": "2021-07-30T12:52:47.233Z"
   },
   {
    "duration": 10,
    "start_time": "2021-07-30T12:52:54.822Z"
   },
   {
    "duration": 4,
    "start_time": "2021-07-30T12:55:17.593Z"
   },
   {
    "duration": 15,
    "start_time": "2021-07-30T12:55:54.904Z"
   },
   {
    "duration": 11,
    "start_time": "2021-07-30T13:03:09.505Z"
   },
   {
    "duration": 13,
    "start_time": "2021-07-30T13:05:43.013Z"
   },
   {
    "duration": 7,
    "start_time": "2021-07-30T13:06:14.463Z"
   },
   {
    "duration": 13,
    "start_time": "2021-07-30T13:06:15.531Z"
   },
   {
    "duration": 8,
    "start_time": "2021-07-30T13:17:06.453Z"
   },
   {
    "duration": 5,
    "start_time": "2021-07-30T13:17:25.034Z"
   },
   {
    "duration": 14,
    "start_time": "2021-07-30T13:17:25.941Z"
   },
   {
    "duration": 6,
    "start_time": "2021-07-30T13:22:58.690Z"
   },
   {
    "duration": 6,
    "start_time": "2021-07-30T13:23:03.910Z"
   },
   {
    "duration": 19,
    "start_time": "2021-07-30T13:23:33.306Z"
   },
   {
    "duration": 8,
    "start_time": "2021-07-30T13:32:54.270Z"
   },
   {
    "duration": 17,
    "start_time": "2021-07-30T13:33:35.519Z"
   },
   {
    "duration": 17,
    "start_time": "2021-07-30T13:34:09.248Z"
   },
   {
    "duration": 1162,
    "start_time": "2021-08-01T06:38:32.622Z"
   },
   {
    "duration": 16,
    "start_time": "2021-08-01T06:38:33.786Z"
   },
   {
    "duration": 16,
    "start_time": "2021-08-01T06:38:33.804Z"
   },
   {
    "duration": 7,
    "start_time": "2021-08-01T06:38:33.822Z"
   },
   {
    "duration": 14,
    "start_time": "2021-08-01T06:38:33.831Z"
   },
   {
    "duration": 6,
    "start_time": "2021-08-01T06:38:33.847Z"
   },
   {
    "duration": 6,
    "start_time": "2021-08-01T06:38:33.855Z"
   },
   {
    "duration": 8,
    "start_time": "2021-08-01T06:38:33.864Z"
   },
   {
    "duration": 7,
    "start_time": "2021-08-01T06:38:33.874Z"
   },
   {
    "duration": 12,
    "start_time": "2021-08-01T06:38:33.883Z"
   },
   {
    "duration": 45,
    "start_time": "2021-08-01T06:38:33.897Z"
   },
   {
    "duration": 15,
    "start_time": "2021-08-01T06:50:17.073Z"
   },
   {
    "duration": 14,
    "start_time": "2021-08-01T06:50:38.022Z"
   },
   {
    "duration": 15,
    "start_time": "2021-08-01T06:50:50.341Z"
   },
   {
    "duration": 17,
    "start_time": "2021-08-01T07:10:25.118Z"
   },
   {
    "duration": 37,
    "start_time": "2021-08-01T07:31:33.322Z"
   },
   {
    "duration": 16,
    "start_time": "2021-08-01T07:31:50.271Z"
   },
   {
    "duration": 6,
    "start_time": "2021-08-01T07:34:41.170Z"
   },
   {
    "duration": 8,
    "start_time": "2021-08-01T07:48:44.569Z"
   },
   {
    "duration": 1762,
    "start_time": "2021-08-03T06:43:48.781Z"
   },
   {
    "duration": 19,
    "start_time": "2021-08-03T06:43:50.546Z"
   },
   {
    "duration": 17,
    "start_time": "2021-08-03T06:43:50.568Z"
   },
   {
    "duration": 13,
    "start_time": "2021-08-03T06:43:50.589Z"
   },
   {
    "duration": 30,
    "start_time": "2021-08-03T06:43:50.605Z"
   },
   {
    "duration": 11,
    "start_time": "2021-08-03T06:43:50.637Z"
   },
   {
    "duration": 8,
    "start_time": "2021-08-03T06:43:50.650Z"
   },
   {
    "duration": 44,
    "start_time": "2021-08-03T06:43:50.661Z"
   },
   {
    "duration": 9,
    "start_time": "2021-08-03T06:43:50.710Z"
   },
   {
    "duration": 16,
    "start_time": "2021-08-03T06:43:50.722Z"
   },
   {
    "duration": 56,
    "start_time": "2021-08-03T06:43:50.740Z"
   },
   {
    "duration": 64,
    "start_time": "2021-08-03T06:43:50.802Z"
   },
   {
    "duration": 20,
    "start_time": "2021-08-03T06:43:50.869Z"
   },
   {
    "duration": 18,
    "start_time": "2021-08-03T06:43:50.892Z"
   },
   {
    "duration": 15,
    "start_time": "2021-08-03T06:43:50.914Z"
   },
   {
    "duration": 28,
    "start_time": "2021-08-03T07:20:12.620Z"
   },
   {
    "duration": 9,
    "start_time": "2021-08-03T07:21:51.064Z"
   },
   {
    "duration": 13,
    "start_time": "2021-08-03T07:22:41.326Z"
   },
   {
    "duration": 8,
    "start_time": "2021-08-03T07:24:27.546Z"
   },
   {
    "duration": 12,
    "start_time": "2021-08-03T07:26:12.491Z"
   },
   {
    "duration": 214,
    "start_time": "2021-08-03T07:26:49.733Z"
   },
   {
    "duration": 16,
    "start_time": "2021-08-03T07:27:05.888Z"
   },
   {
    "duration": 6,
    "start_time": "2021-08-03T07:29:14.713Z"
   },
   {
    "duration": 27,
    "start_time": "2021-08-03T07:30:10.783Z"
   },
   {
    "duration": 9,
    "start_time": "2021-08-03T07:36:15.597Z"
   },
   {
    "duration": 381,
    "start_time": "2021-08-03T07:39:49.246Z"
   },
   {
    "duration": 397,
    "start_time": "2021-08-03T07:47:26.945Z"
   },
   {
    "duration": 387,
    "start_time": "2021-08-03T07:47:41.112Z"
   },
   {
    "duration": 283,
    "start_time": "2021-08-03T07:49:00.905Z"
   },
   {
    "duration": 316,
    "start_time": "2021-08-03T07:51:03.972Z"
   },
   {
    "duration": 190,
    "start_time": "2021-08-03T07:51:05.608Z"
   },
   {
    "duration": 832,
    "start_time": "2021-08-03T07:52:25.330Z"
   },
   {
    "duration": 12,
    "start_time": "2021-08-03T07:53:08.697Z"
   },
   {
    "duration": 10,
    "start_time": "2021-08-03T07:55:47.628Z"
   },
   {
    "duration": 348,
    "start_time": "2021-08-03T07:57:21.371Z"
   },
   {
    "duration": 339,
    "start_time": "2021-08-03T07:58:43.766Z"
   },
   {
    "duration": 364,
    "start_time": "2021-08-03T08:00:14.117Z"
   },
   {
    "duration": 359,
    "start_time": "2021-08-03T08:00:32.281Z"
   },
   {
    "duration": 1124,
    "start_time": "2021-08-03T08:01:50.241Z"
   },
   {
    "duration": 748,
    "start_time": "2021-08-03T08:02:27.698Z"
   },
   {
    "duration": 675,
    "start_time": "2021-08-03T08:03:41.084Z"
   },
   {
    "duration": 772,
    "start_time": "2021-08-03T08:04:11.790Z"
   },
   {
    "duration": 359,
    "start_time": "2021-08-03T08:04:30.149Z"
   },
   {
    "duration": 355,
    "start_time": "2021-08-03T08:04:40.931Z"
   },
   {
    "duration": 1156,
    "start_time": "2021-08-03T08:07:18.871Z"
   },
   {
    "duration": 350,
    "start_time": "2021-08-03T08:07:37.053Z"
   },
   {
    "duration": 395,
    "start_time": "2021-08-03T08:09:11.861Z"
   },
   {
    "duration": 562,
    "start_time": "2021-08-03T08:09:19.947Z"
   },
   {
    "duration": 430,
    "start_time": "2021-08-03T08:18:52.121Z"
   },
   {
    "duration": 15,
    "start_time": "2021-08-03T08:26:25.487Z"
   },
   {
    "duration": 441,
    "start_time": "2021-08-03T08:30:34.366Z"
   },
   {
    "duration": 447,
    "start_time": "2021-08-03T08:31:26.348Z"
   },
   {
    "duration": 524,
    "start_time": "2021-08-03T08:32:18.910Z"
   },
   {
    "duration": 635,
    "start_time": "2021-08-03T08:32:31.608Z"
   },
   {
    "duration": 574,
    "start_time": "2021-08-03T08:33:11.283Z"
   },
   {
    "duration": 1503,
    "start_time": "2021-08-03T12:57:12.490Z"
   },
   {
    "duration": 20,
    "start_time": "2021-08-03T12:57:13.996Z"
   },
   {
    "duration": 9,
    "start_time": "2021-08-03T12:57:14.020Z"
   },
   {
    "duration": 15,
    "start_time": "2021-08-03T12:57:14.032Z"
   },
   {
    "duration": 23,
    "start_time": "2021-08-03T12:57:14.049Z"
   },
   {
    "duration": 9,
    "start_time": "2021-08-03T12:57:14.074Z"
   },
   {
    "duration": 10,
    "start_time": "2021-08-03T12:57:14.104Z"
   },
   {
    "duration": 14,
    "start_time": "2021-08-03T12:57:14.119Z"
   },
   {
    "duration": 9,
    "start_time": "2021-08-03T12:57:14.136Z"
   },
   {
    "duration": 19,
    "start_time": "2021-08-03T12:57:14.147Z"
   },
   {
    "duration": 65,
    "start_time": "2021-08-03T12:57:14.169Z"
   },
   {
    "duration": 39,
    "start_time": "2021-08-03T12:57:14.236Z"
   },
   {
    "duration": 32,
    "start_time": "2021-08-03T12:57:14.277Z"
   },
   {
    "duration": 14,
    "start_time": "2021-08-03T12:57:14.312Z"
   },
   {
    "duration": 19,
    "start_time": "2021-08-03T12:57:14.328Z"
   },
   {
    "duration": 30,
    "start_time": "2021-08-03T12:57:14.350Z"
   },
   {
    "duration": 25,
    "start_time": "2021-08-03T12:57:14.383Z"
   },
   {
    "duration": 16,
    "start_time": "2021-08-03T12:57:14.411Z"
   },
   {
    "duration": 12,
    "start_time": "2021-08-03T12:57:14.430Z"
   },
   {
    "duration": 11,
    "start_time": "2021-08-03T12:57:14.445Z"
   },
   {
    "duration": 52,
    "start_time": "2021-08-03T12:57:14.459Z"
   },
   {
    "duration": 5,
    "start_time": "2021-08-03T12:57:14.514Z"
   },
   {
    "duration": 23,
    "start_time": "2021-08-03T12:57:14.525Z"
   },
   {
    "duration": 20,
    "start_time": "2021-08-03T12:57:14.550Z"
   },
   {
    "duration": 406,
    "start_time": "2021-08-03T12:57:14.573Z"
   },
   {
    "duration": 303,
    "start_time": "2021-08-03T12:57:14.981Z"
   },
   {
    "duration": 17,
    "start_time": "2021-08-03T12:57:15.286Z"
   },
   {
    "duration": 23,
    "start_time": "2021-08-03T12:57:15.306Z"
   },
   {
    "duration": 468,
    "start_time": "2021-08-03T12:57:15.332Z"
   },
   {
    "duration": 433,
    "start_time": "2021-08-03T12:57:15.808Z"
   },
   {
    "duration": 8,
    "start_time": "2021-08-03T12:57:16.244Z"
   },
   {
    "duration": 594,
    "start_time": "2021-08-03T12:57:16.255Z"
   },
   {
    "duration": 6,
    "start_time": "2021-08-03T12:58:29.024Z"
   },
   {
    "duration": 7,
    "start_time": "2021-08-03T12:59:25.647Z"
   },
   {
    "duration": 472,
    "start_time": "2021-08-03T13:01:36.609Z"
   },
   {
    "duration": 466,
    "start_time": "2021-08-03T13:01:52.100Z"
   },
   {
    "duration": 379,
    "start_time": "2021-08-03T13:04:03.364Z"
   },
   {
    "duration": 465,
    "start_time": "2021-08-03T13:04:33.660Z"
   },
   {
    "duration": 521,
    "start_time": "2021-08-03T13:05:43.954Z"
   },
   {
    "duration": 398,
    "start_time": "2021-08-03T13:05:48.767Z"
   },
   {
    "duration": 492,
    "start_time": "2021-08-03T13:05:57.044Z"
   },
   {
    "duration": 397,
    "start_time": "2021-08-03T13:06:02.624Z"
   },
   {
    "duration": 12,
    "start_time": "2021-08-03T13:19:43.045Z"
   },
   {
    "duration": 474,
    "start_time": "2021-08-03T13:24:45.236Z"
   },
   {
    "duration": 521,
    "start_time": "2021-08-03T13:25:33.773Z"
   },
   {
    "duration": 688,
    "start_time": "2021-08-03T13:25:48.913Z"
   },
   {
    "duration": 534,
    "start_time": "2021-08-03T13:26:03.581Z"
   },
   {
    "duration": 177,
    "start_time": "2021-08-03T13:33:20.773Z"
   },
   {
    "duration": 9,
    "start_time": "2021-08-03T13:38:56.204Z"
   },
   {
    "duration": 4,
    "start_time": "2021-08-03T13:39:11.044Z"
   },
   {
    "duration": 381,
    "start_time": "2021-08-03T13:40:10.953Z"
   },
   {
    "duration": 586,
    "start_time": "2021-08-03T13:41:10.445Z"
   },
   {
    "duration": 655,
    "start_time": "2021-08-03T13:41:27.612Z"
   },
   {
    "duration": 621,
    "start_time": "2021-08-03T13:41:38.524Z"
   },
   {
    "duration": 540,
    "start_time": "2021-08-03T13:41:45.536Z"
   },
   {
    "duration": 502,
    "start_time": "2021-08-03T13:42:26.156Z"
   },
   {
    "duration": 511,
    "start_time": "2021-08-03T13:43:40.865Z"
   },
   {
    "duration": 515,
    "start_time": "2021-08-03T13:43:48.110Z"
   },
   {
    "duration": 533,
    "start_time": "2021-08-03T13:53:50.711Z"
   },
   {
    "duration": 7,
    "start_time": "2021-08-03T13:56:08.477Z"
   },
   {
    "duration": 6,
    "start_time": "2021-08-03T13:56:30.559Z"
   },
   {
    "duration": 281,
    "start_time": "2021-08-03T14:03:25.912Z"
   },
   {
    "duration": 295,
    "start_time": "2021-08-03T14:06:58.222Z"
   },
   {
    "duration": 496,
    "start_time": "2021-08-03T14:07:24.588Z"
   },
   {
    "duration": 572,
    "start_time": "2021-08-03T14:07:34.669Z"
   },
   {
    "duration": 563,
    "start_time": "2021-08-03T14:07:46.590Z"
   },
   {
    "duration": 305,
    "start_time": "2021-08-03T14:08:59.177Z"
   },
   {
    "duration": 512,
    "start_time": "2021-08-03T14:17:12.984Z"
   },
   {
    "duration": 5,
    "start_time": "2021-08-03T14:17:38.633Z"
   },
   {
    "duration": 9579,
    "start_time": "2021-08-03T14:19:00.587Z"
   },
   {
    "duration": -1062,
    "start_time": "2021-08-03T14:19:11.230Z"
   },
   {
    "duration": 9752,
    "start_time": "2021-08-03T14:19:12.016Z"
   },
   {
    "duration": 587,
    "start_time": "2021-08-03T14:19:57.440Z"
   },
   {
    "duration": 10029,
    "start_time": "2021-08-03T14:20:29.658Z"
   },
   {
    "duration": 1551,
    "start_time": "2021-08-03T14:20:51.922Z"
   },
   {
    "duration": 19,
    "start_time": "2021-08-03T14:20:53.475Z"
   },
   {
    "duration": 24,
    "start_time": "2021-08-03T14:20:53.497Z"
   },
   {
    "duration": 5,
    "start_time": "2021-08-03T14:20:53.525Z"
   },
   {
    "duration": 18,
    "start_time": "2021-08-03T14:20:53.533Z"
   },
   {
    "duration": 8,
    "start_time": "2021-08-03T14:20:53.553Z"
   },
   {
    "duration": 8,
    "start_time": "2021-08-03T14:20:53.564Z"
   },
   {
    "duration": 58,
    "start_time": "2021-08-03T14:20:53.574Z"
   },
   {
    "duration": 7,
    "start_time": "2021-08-03T14:20:53.636Z"
   },
   {
    "duration": 20,
    "start_time": "2021-08-03T14:20:53.646Z"
   },
   {
    "duration": 55,
    "start_time": "2021-08-03T14:20:53.668Z"
   },
   {
    "duration": 43,
    "start_time": "2021-08-03T14:20:53.726Z"
   },
   {
    "duration": 37,
    "start_time": "2021-08-03T14:20:53.772Z"
   },
   {
    "duration": 22,
    "start_time": "2021-08-03T14:20:53.812Z"
   },
   {
    "duration": 16,
    "start_time": "2021-08-03T14:20:53.836Z"
   },
   {
    "duration": 29,
    "start_time": "2021-08-03T14:20:53.855Z"
   },
   {
    "duration": 19,
    "start_time": "2021-08-03T14:20:53.887Z"
   },
   {
    "duration": 22,
    "start_time": "2021-08-03T14:20:53.912Z"
   },
   {
    "duration": 8,
    "start_time": "2021-08-03T14:20:53.936Z"
   },
   {
    "duration": 11,
    "start_time": "2021-08-03T14:20:53.946Z"
   },
   {
    "duration": 18,
    "start_time": "2021-08-03T14:20:53.960Z"
   },
   {
    "duration": 38,
    "start_time": "2021-08-03T14:20:53.981Z"
   },
   {
    "duration": 24,
    "start_time": "2021-08-03T14:20:54.022Z"
   },
   {
    "duration": 8,
    "start_time": "2021-08-03T14:20:54.049Z"
   },
   {
    "duration": 411,
    "start_time": "2021-08-03T14:20:54.060Z"
   },
   {
    "duration": 283,
    "start_time": "2021-08-03T14:20:54.473Z"
   },
   {
    "duration": 9,
    "start_time": "2021-08-03T14:20:54.761Z"
   },
   {
    "duration": 24,
    "start_time": "2021-08-03T14:20:54.773Z"
   },
   {
    "duration": 474,
    "start_time": "2021-08-03T14:20:54.800Z"
   },
   {
    "duration": 464,
    "start_time": "2021-08-03T14:20:55.277Z"
   },
   {
    "duration": 8,
    "start_time": "2021-08-03T14:20:55.743Z"
   },
   {
    "duration": 578,
    "start_time": "2021-08-03T14:20:55.754Z"
   },
   {
    "duration": 7,
    "start_time": "2021-08-03T14:20:56.335Z"
   },
   {
    "duration": 14,
    "start_time": "2021-08-03T14:20:56.345Z"
   },
   {
    "duration": 470,
    "start_time": "2021-08-03T14:20:56.361Z"
   },
   {
    "duration": 13,
    "start_time": "2021-08-03T14:20:56.834Z"
   },
   {
    "duration": 599,
    "start_time": "2021-08-03T14:20:56.850Z"
   },
   {
    "duration": 220,
    "start_time": "2021-08-03T14:20:57.452Z"
   },
   {
    "duration": 4,
    "start_time": "2021-08-03T14:20:57.674Z"
   },
   {
    "duration": 551,
    "start_time": "2021-08-03T14:20:57.680Z"
   },
   {
    "duration": 8,
    "start_time": "2021-08-03T14:20:58.234Z"
   },
   {
    "duration": 385,
    "start_time": "2021-08-03T14:20:58.245Z"
   },
   {
    "duration": 11142,
    "start_time": "2021-08-03T14:20:58.632Z"
   },
   {
    "duration": -1055,
    "start_time": "2021-08-03T14:21:10.832Z"
   },
   {
    "duration": 5,
    "start_time": "2021-08-03T14:21:50.853Z"
   },
   {
    "duration": 505,
    "start_time": "2021-08-03T14:21:55.238Z"
   },
   {
    "duration": 399,
    "start_time": "2021-08-03T14:27:08.422Z"
   },
   {
    "duration": 524,
    "start_time": "2021-08-03T14:28:34.460Z"
   },
   {
    "duration": 6,
    "start_time": "2021-08-03T14:28:39.260Z"
   },
   {
    "duration": 5,
    "start_time": "2021-08-03T14:29:07.671Z"
   },
   {
    "duration": 728,
    "start_time": "2021-08-03T14:29:43.464Z"
   },
   {
    "duration": 1664,
    "start_time": "2021-08-03T14:29:56.588Z"
   },
   {
    "duration": 25,
    "start_time": "2021-08-03T14:29:58.255Z"
   },
   {
    "duration": 39,
    "start_time": "2021-08-03T14:29:58.283Z"
   },
   {
    "duration": 6,
    "start_time": "2021-08-03T14:29:58.332Z"
   },
   {
    "duration": 19,
    "start_time": "2021-08-03T14:29:58.341Z"
   },
   {
    "duration": 13,
    "start_time": "2021-08-03T14:29:58.363Z"
   },
   {
    "duration": 33,
    "start_time": "2021-08-03T14:29:58.379Z"
   },
   {
    "duration": 16,
    "start_time": "2021-08-03T14:29:58.418Z"
   },
   {
    "duration": 6,
    "start_time": "2021-08-03T14:29:58.437Z"
   },
   {
    "duration": 16,
    "start_time": "2021-08-03T14:29:58.446Z"
   },
   {
    "duration": 77,
    "start_time": "2021-08-03T14:29:58.465Z"
   },
   {
    "duration": 39,
    "start_time": "2021-08-03T14:29:58.544Z"
   },
   {
    "duration": 26,
    "start_time": "2021-08-03T14:29:58.586Z"
   },
   {
    "duration": 17,
    "start_time": "2021-08-03T14:29:58.618Z"
   },
   {
    "duration": 12,
    "start_time": "2021-08-03T14:29:58.640Z"
   },
   {
    "duration": 59,
    "start_time": "2021-08-03T14:29:58.654Z"
   },
   {
    "duration": 10,
    "start_time": "2021-08-03T14:29:58.716Z"
   },
   {
    "duration": 20,
    "start_time": "2021-08-03T14:29:58.729Z"
   },
   {
    "duration": 7,
    "start_time": "2021-08-03T14:29:58.752Z"
   },
   {
    "duration": 12,
    "start_time": "2021-08-03T14:29:58.761Z"
   },
   {
    "duration": 42,
    "start_time": "2021-08-03T14:29:58.776Z"
   },
   {
    "duration": 10,
    "start_time": "2021-08-03T14:29:58.824Z"
   },
   {
    "duration": 27,
    "start_time": "2021-08-03T14:29:58.840Z"
   },
   {
    "duration": 10,
    "start_time": "2021-08-03T14:29:58.870Z"
   },
   {
    "duration": 416,
    "start_time": "2021-08-03T14:29:58.900Z"
   },
   {
    "duration": 306,
    "start_time": "2021-08-03T14:29:59.319Z"
   },
   {
    "duration": 13,
    "start_time": "2021-08-03T14:29:59.628Z"
   },
   {
    "duration": 14,
    "start_time": "2021-08-03T14:29:59.645Z"
   },
   {
    "duration": 587,
    "start_time": "2021-08-03T14:29:59.662Z"
   },
   {
    "duration": 500,
    "start_time": "2021-08-03T14:30:00.252Z"
   },
   {
    "duration": 8,
    "start_time": "2021-08-03T14:30:00.755Z"
   },
   {
    "duration": 602,
    "start_time": "2021-08-03T14:30:00.766Z"
   },
   {
    "duration": 6,
    "start_time": "2021-08-03T14:30:01.370Z"
   },
   {
    "duration": 32,
    "start_time": "2021-08-03T14:30:01.379Z"
   },
   {
    "duration": 455,
    "start_time": "2021-08-03T14:30:01.413Z"
   },
   {
    "duration": 11,
    "start_time": "2021-08-03T14:30:01.871Z"
   },
   {
    "duration": 565,
    "start_time": "2021-08-03T14:30:01.885Z"
   },
   {
    "duration": 209,
    "start_time": "2021-08-03T14:30:02.453Z"
   },
   {
    "duration": 4,
    "start_time": "2021-08-03T14:30:02.665Z"
   },
   {
    "duration": 515,
    "start_time": "2021-08-03T14:30:02.671Z"
   },
   {
    "duration": 12,
    "start_time": "2021-08-03T14:30:03.200Z"
   },
   {
    "duration": 390,
    "start_time": "2021-08-03T14:30:03.215Z"
   },
   {
    "duration": 8,
    "start_time": "2021-08-03T14:30:03.608Z"
   },
   {
    "duration": 541,
    "start_time": "2021-08-03T14:30:03.622Z"
   },
   {
    "duration": 5,
    "start_time": "2021-08-03T14:30:04.166Z"
   },
   {
    "duration": 11,
    "start_time": "2021-08-03T14:30:04.174Z"
   },
   {
    "duration": 879,
    "start_time": "2021-08-03T14:30:04.189Z"
   },
   {
    "duration": 8,
    "start_time": "2021-08-03T14:30:18.408Z"
   },
   {
    "duration": 486,
    "start_time": "2021-08-03T14:30:24.437Z"
   },
   {
    "duration": 6,
    "start_time": "2021-08-03T14:36:19.794Z"
   },
   {
    "duration": 8,
    "start_time": "2021-08-03T14:36:40.242Z"
   },
   {
    "duration": 14,
    "start_time": "2021-08-03T14:45:50.699Z"
   },
   {
    "duration": 135,
    "start_time": "2021-08-03T14:47:15.824Z"
   },
   {
    "duration": 104,
    "start_time": "2021-08-03T14:48:09.116Z"
   },
   {
    "duration": 112,
    "start_time": "2021-08-03T14:55:09.422Z"
   },
   {
    "duration": 467,
    "start_time": "2021-08-03T14:57:01.670Z"
   },
   {
    "duration": 9292,
    "start_time": "2021-08-03T14:57:35.237Z"
   },
   {
    "duration": 39,
    "start_time": "2021-08-03T14:58:01.380Z"
   },
   {
    "duration": 49,
    "start_time": "2021-08-03T14:59:27.102Z"
   },
   {
    "duration": 26,
    "start_time": "2021-08-03T15:00:13.120Z"
   },
   {
    "duration": 123,
    "start_time": "2021-08-03T15:01:18.583Z"
   },
   {
    "duration": 136,
    "start_time": "2021-08-03T15:01:29.468Z"
   },
   {
    "duration": 114,
    "start_time": "2021-08-03T15:01:36.567Z"
   },
   {
    "duration": 22,
    "start_time": "2021-08-03T15:03:19.239Z"
   },
   {
    "duration": 116,
    "start_time": "2021-08-03T15:14:16.920Z"
   },
   {
    "duration": 39,
    "start_time": "2021-08-03T15:17:44.632Z"
   },
   {
    "duration": 53,
    "start_time": "2021-08-03T15:18:26.352Z"
   },
   {
    "duration": 409,
    "start_time": "2021-08-03T15:19:26.068Z"
   },
   {
    "duration": 112,
    "start_time": "2021-08-03T15:19:48.423Z"
   },
   {
    "duration": 147,
    "start_time": "2021-08-03T15:19:59.168Z"
   },
   {
    "duration": 122,
    "start_time": "2021-08-03T15:20:35.654Z"
   },
   {
    "duration": 151,
    "start_time": "2021-08-03T15:21:43.485Z"
   },
   {
    "duration": 9,
    "start_time": "2021-08-03T15:26:00.040Z"
   },
   {
    "duration": 7,
    "start_time": "2021-08-03T15:27:48.282Z"
   },
   {
    "duration": 7,
    "start_time": "2021-08-03T15:32:09.073Z"
   },
   {
    "duration": 8,
    "start_time": "2021-08-03T15:33:06.889Z"
   },
   {
    "duration": 5,
    "start_time": "2021-08-03T15:33:20.143Z"
   },
   {
    "duration": 6,
    "start_time": "2021-08-03T15:47:10.505Z"
   },
   {
    "duration": 5,
    "start_time": "2021-08-03T15:48:24.292Z"
   },
   {
    "duration": 5,
    "start_time": "2021-08-03T15:48:29.737Z"
   },
   {
    "duration": 1173,
    "start_time": "2021-08-03T17:44:46.006Z"
   },
   {
    "duration": 17,
    "start_time": "2021-08-03T17:44:47.181Z"
   },
   {
    "duration": 13,
    "start_time": "2021-08-03T17:44:47.200Z"
   },
   {
    "duration": 14,
    "start_time": "2021-08-03T17:44:47.214Z"
   },
   {
    "duration": 26,
    "start_time": "2021-08-03T17:44:47.229Z"
   },
   {
    "duration": 13,
    "start_time": "2021-08-03T17:44:47.257Z"
   },
   {
    "duration": 6,
    "start_time": "2021-08-03T17:44:47.272Z"
   },
   {
    "duration": 11,
    "start_time": "2021-08-03T17:44:47.279Z"
   },
   {
    "duration": 8,
    "start_time": "2021-08-03T17:44:47.292Z"
   },
   {
    "duration": 17,
    "start_time": "2021-08-03T17:44:47.302Z"
   },
   {
    "duration": 19,
    "start_time": "2021-08-03T17:44:47.321Z"
   },
   {
    "duration": 73,
    "start_time": "2021-08-03T17:44:47.342Z"
   },
   {
    "duration": 25,
    "start_time": "2021-08-03T17:44:47.416Z"
   },
   {
    "duration": 7,
    "start_time": "2021-08-03T17:44:47.443Z"
   },
   {
    "duration": 10,
    "start_time": "2021-08-03T17:44:47.452Z"
   },
   {
    "duration": 19,
    "start_time": "2021-08-03T17:44:47.464Z"
   },
   {
    "duration": 18,
    "start_time": "2021-08-03T17:44:47.485Z"
   },
   {
    "duration": 24,
    "start_time": "2021-08-03T17:44:47.506Z"
   },
   {
    "duration": 27,
    "start_time": "2021-08-03T17:44:47.532Z"
   },
   {
    "duration": 25,
    "start_time": "2021-08-03T17:44:47.560Z"
   },
   {
    "duration": 25,
    "start_time": "2021-08-03T17:44:47.587Z"
   },
   {
    "duration": 21,
    "start_time": "2021-08-03T17:44:47.614Z"
   },
   {
    "duration": 31,
    "start_time": "2021-08-03T17:44:47.637Z"
   },
   {
    "duration": 15,
    "start_time": "2021-08-03T17:44:47.669Z"
   },
   {
    "duration": 216,
    "start_time": "2021-08-03T17:44:47.685Z"
   },
   {
    "duration": 154,
    "start_time": "2021-08-03T17:44:47.903Z"
   },
   {
    "duration": 6,
    "start_time": "2021-08-03T17:44:48.058Z"
   },
   {
    "duration": 10,
    "start_time": "2021-08-03T17:44:48.066Z"
   },
   {
    "duration": 254,
    "start_time": "2021-08-03T17:44:48.078Z"
   },
   {
    "duration": 242,
    "start_time": "2021-08-03T17:44:48.333Z"
   },
   {
    "duration": 6,
    "start_time": "2021-08-03T17:44:48.577Z"
   },
   {
    "duration": 329,
    "start_time": "2021-08-03T17:44:48.584Z"
   },
   {
    "duration": 4,
    "start_time": "2021-08-03T17:44:48.915Z"
   },
   {
    "duration": 9,
    "start_time": "2021-08-03T17:44:48.921Z"
   },
   {
    "duration": 300,
    "start_time": "2021-08-03T17:44:48.941Z"
   },
   {
    "duration": 10,
    "start_time": "2021-08-03T17:44:49.243Z"
   },
   {
    "duration": 356,
    "start_time": "2021-08-03T17:44:49.255Z"
   },
   {
    "duration": 101,
    "start_time": "2021-08-03T17:44:49.612Z"
   },
   {
    "duration": 3,
    "start_time": "2021-08-03T17:44:49.715Z"
   },
   {
    "duration": 352,
    "start_time": "2021-08-03T17:44:49.720Z"
   },
   {
    "duration": 5,
    "start_time": "2021-08-03T17:44:50.074Z"
   },
   {
    "duration": 289,
    "start_time": "2021-08-03T17:44:50.080Z"
   },
   {
    "duration": 3,
    "start_time": "2021-08-03T17:44:50.371Z"
   },
   {
    "duration": 339,
    "start_time": "2021-08-03T17:44:50.375Z"
   },
   {
    "duration": 5,
    "start_time": "2021-08-03T17:44:50.716Z"
   },
   {
    "duration": 6,
    "start_time": "2021-08-03T17:44:50.723Z"
   },
   {
    "duration": 375,
    "start_time": "2021-08-03T17:44:50.741Z"
   },
   {
    "duration": 4,
    "start_time": "2021-08-03T17:44:51.118Z"
   },
   {
    "duration": 10,
    "start_time": "2021-08-03T17:44:51.123Z"
   },
   {
    "duration": 10,
    "start_time": "2021-08-03T17:44:51.134Z"
   },
   {
    "duration": 63,
    "start_time": "2021-08-03T17:44:51.146Z"
   },
   {
    "duration": 70,
    "start_time": "2021-08-03T17:44:51.211Z"
   },
   {
    "duration": 44,
    "start_time": "2021-08-03T17:44:51.283Z"
   },
   {
    "duration": 76,
    "start_time": "2021-08-03T17:44:51.332Z"
   },
   {
    "duration": 29,
    "start_time": "2021-08-03T17:44:51.410Z"
   },
   {
    "duration": 63,
    "start_time": "2021-08-03T17:44:51.441Z"
   },
   {
    "duration": 54,
    "start_time": "2021-08-03T17:44:51.506Z"
   },
   {
    "duration": 87,
    "start_time": "2021-08-03T17:44:51.561Z"
   },
   {
    "duration": 62,
    "start_time": "2021-08-03T17:44:51.649Z"
   },
   {
    "duration": 6,
    "start_time": "2021-08-03T17:44:51.712Z"
   },
   {
    "duration": 22,
    "start_time": "2021-08-03T17:44:51.720Z"
   },
   {
    "duration": 7,
    "start_time": "2021-08-03T17:44:51.744Z"
   },
   {
    "duration": 5,
    "start_time": "2021-08-03T17:44:51.753Z"
   },
   {
    "duration": 7,
    "start_time": "2021-08-03T17:51:22.828Z"
   },
   {
    "duration": 7,
    "start_time": "2021-08-03T18:04:28.982Z"
   },
   {
    "duration": 6,
    "start_time": "2021-08-03T18:15:19.109Z"
   },
   {
    "duration": 7512,
    "start_time": "2021-08-03T18:18:20.093Z"
   },
   {
    "duration": 6971,
    "start_time": "2021-08-03T18:19:06.981Z"
   },
   {
    "duration": 6,
    "start_time": "2021-08-03T18:19:32.629Z"
   },
   {
    "duration": 8,
    "start_time": "2021-08-03T18:19:39.461Z"
   },
   {
    "duration": 5,
    "start_time": "2021-08-03T18:19:44.886Z"
   },
   {
    "duration": 5,
    "start_time": "2021-08-03T18:20:11.290Z"
   },
   {
    "duration": 4,
    "start_time": "2021-08-03T18:20:50.400Z"
   },
   {
    "duration": 5,
    "start_time": "2021-08-03T18:22:24.601Z"
   },
   {
    "duration": 6,
    "start_time": "2021-08-03T18:22:51.268Z"
   },
   {
    "duration": 4,
    "start_time": "2021-08-03T18:22:57.355Z"
   },
   {
    "duration": 6,
    "start_time": "2021-08-03T18:25:47.594Z"
   },
   {
    "duration": 94,
    "start_time": "2021-08-03T18:26:38.440Z"
   },
   {
    "duration": 1090,
    "start_time": "2021-08-03T18:26:50.894Z"
   },
   {
    "duration": 16,
    "start_time": "2021-08-03T18:26:51.986Z"
   },
   {
    "duration": 9,
    "start_time": "2021-08-03T18:26:52.004Z"
   },
   {
    "duration": 9,
    "start_time": "2021-08-03T18:26:52.015Z"
   },
   {
    "duration": 15,
    "start_time": "2021-08-03T18:26:52.026Z"
   },
   {
    "duration": 6,
    "start_time": "2021-08-03T18:26:52.043Z"
   },
   {
    "duration": 5,
    "start_time": "2021-08-03T18:26:52.051Z"
   },
   {
    "duration": 9,
    "start_time": "2021-08-03T18:26:52.059Z"
   },
   {
    "duration": 4,
    "start_time": "2021-08-03T18:26:52.070Z"
   },
   {
    "duration": 14,
    "start_time": "2021-08-03T18:26:52.076Z"
   },
   {
    "duration": 16,
    "start_time": "2021-08-03T18:26:52.092Z"
   },
   {
    "duration": 35,
    "start_time": "2021-08-03T18:26:52.142Z"
   },
   {
    "duration": 17,
    "start_time": "2021-08-03T18:26:52.179Z"
   },
   {
    "duration": 10,
    "start_time": "2021-08-03T18:26:52.198Z"
   },
   {
    "duration": 10,
    "start_time": "2021-08-03T18:26:52.209Z"
   },
   {
    "duration": 18,
    "start_time": "2021-08-03T18:26:52.220Z"
   },
   {
    "duration": 5,
    "start_time": "2021-08-03T18:26:52.240Z"
   },
   {
    "duration": 9,
    "start_time": "2021-08-03T18:26:52.247Z"
   },
   {
    "duration": 6,
    "start_time": "2021-08-03T18:26:52.258Z"
   },
   {
    "duration": 14,
    "start_time": "2021-08-03T18:26:52.266Z"
   },
   {
    "duration": 10,
    "start_time": "2021-08-03T18:26:52.282Z"
   },
   {
    "duration": 7,
    "start_time": "2021-08-03T18:26:52.294Z"
   },
   {
    "duration": 13,
    "start_time": "2021-08-03T18:26:52.305Z"
   },
   {
    "duration": 7,
    "start_time": "2021-08-03T18:26:52.343Z"
   },
   {
    "duration": 339,
    "start_time": "2021-08-03T18:26:52.352Z"
   },
   {
    "duration": 205,
    "start_time": "2021-08-03T18:26:52.693Z"
   },
   {
    "duration": 5,
    "start_time": "2021-08-03T18:26:52.900Z"
   },
   {
    "duration": 9,
    "start_time": "2021-08-03T18:26:52.906Z"
   },
   {
    "duration": 398,
    "start_time": "2021-08-03T18:26:52.916Z"
   },
   {
    "duration": 377,
    "start_time": "2021-08-03T18:26:53.316Z"
   },
   {
    "duration": 8,
    "start_time": "2021-08-03T18:26:53.696Z"
   },
   {
    "duration": 363,
    "start_time": "2021-08-03T18:26:53.706Z"
   },
   {
    "duration": 4,
    "start_time": "2021-08-03T18:26:54.071Z"
   },
   {
    "duration": 8,
    "start_time": "2021-08-03T18:26:54.077Z"
   },
   {
    "duration": 249,
    "start_time": "2021-08-03T18:26:54.086Z"
   },
   {
    "duration": 9,
    "start_time": "2021-08-03T18:26:54.340Z"
   },
   {
    "duration": 361,
    "start_time": "2021-08-03T18:26:54.351Z"
   },
   {
    "duration": 139,
    "start_time": "2021-08-03T18:26:54.714Z"
   },
   {
    "duration": 3,
    "start_time": "2021-08-03T18:26:54.855Z"
   },
   {
    "duration": 333,
    "start_time": "2021-08-03T18:26:54.860Z"
   },
   {
    "duration": 4,
    "start_time": "2021-08-03T18:26:55.194Z"
   },
   {
    "duration": 209,
    "start_time": "2021-08-03T18:26:55.199Z"
   },
   {
    "duration": 3,
    "start_time": "2021-08-03T18:26:55.410Z"
   },
   {
    "duration": 381,
    "start_time": "2021-08-03T18:26:55.415Z"
   },
   {
    "duration": 6,
    "start_time": "2021-08-03T18:26:55.798Z"
   },
   {
    "duration": 13,
    "start_time": "2021-08-03T18:26:55.806Z"
   },
   {
    "duration": 380,
    "start_time": "2021-08-03T18:26:55.821Z"
   },
   {
    "duration": 4,
    "start_time": "2021-08-03T18:26:56.203Z"
   },
   {
    "duration": 5,
    "start_time": "2021-08-03T18:26:56.209Z"
   },
   {
    "duration": 8,
    "start_time": "2021-08-03T18:26:56.216Z"
   },
   {
    "duration": 66,
    "start_time": "2021-08-03T18:26:56.226Z"
   },
   {
    "duration": 69,
    "start_time": "2021-08-03T18:26:56.293Z"
   },
   {
    "duration": 16,
    "start_time": "2021-08-03T18:26:56.364Z"
   },
   {
    "duration": 72,
    "start_time": "2021-08-03T18:26:56.382Z"
   },
   {
    "duration": 13,
    "start_time": "2021-08-03T18:26:56.456Z"
   },
   {
    "duration": 75,
    "start_time": "2021-08-03T18:26:56.470Z"
   },
   {
    "duration": 30,
    "start_time": "2021-08-03T18:26:56.547Z"
   },
   {
    "duration": 72,
    "start_time": "2021-08-03T18:26:56.579Z"
   },
   {
    "duration": 63,
    "start_time": "2021-08-03T18:26:56.653Z"
   },
   {
    "duration": 26,
    "start_time": "2021-08-03T18:26:56.718Z"
   },
   {
    "duration": 6,
    "start_time": "2021-08-03T18:26:56.746Z"
   },
   {
    "duration": 8,
    "start_time": "2021-08-03T18:26:56.754Z"
   },
   {
    "duration": 4,
    "start_time": "2021-08-03T18:26:56.764Z"
   },
   {
    "duration": 9,
    "start_time": "2021-08-03T18:26:56.770Z"
   },
   {
    "duration": 7,
    "start_time": "2021-08-03T18:26:56.781Z"
   },
   {
    "duration": 8,
    "start_time": "2021-08-03T18:26:56.790Z"
   },
   {
    "duration": 42,
    "start_time": "2021-08-03T18:26:56.799Z"
   },
   {
    "duration": 5,
    "start_time": "2021-08-03T18:26:56.845Z"
   },
   {
    "duration": 7,
    "start_time": "2021-08-03T18:26:56.852Z"
   },
   {
    "duration": 6,
    "start_time": "2021-08-03T18:27:33.753Z"
   },
   {
    "duration": 6,
    "start_time": "2021-08-03T18:28:06.236Z"
   },
   {
    "duration": 8,
    "start_time": "2021-08-03T18:28:11.479Z"
   },
   {
    "duration": 4,
    "start_time": "2021-08-03T18:31:12.187Z"
   },
   {
    "duration": 7315,
    "start_time": "2021-08-03T18:33:46.890Z"
   },
   {
    "duration": 9,
    "start_time": "2021-08-03T18:34:11.746Z"
   },
   {
    "duration": 8,
    "start_time": "2021-08-03T18:42:53.992Z"
   },
   {
    "duration": 1170,
    "start_time": "2021-08-03T19:19:01.021Z"
   },
   {
    "duration": 18,
    "start_time": "2021-08-03T19:19:02.193Z"
   },
   {
    "duration": 10,
    "start_time": "2021-08-03T19:19:02.213Z"
   },
   {
    "duration": 5,
    "start_time": "2021-08-03T19:19:02.226Z"
   },
   {
    "duration": 14,
    "start_time": "2021-08-03T19:19:02.232Z"
   },
   {
    "duration": 6,
    "start_time": "2021-08-03T19:19:02.247Z"
   },
   {
    "duration": 8,
    "start_time": "2021-08-03T19:19:02.255Z"
   },
   {
    "duration": 11,
    "start_time": "2021-08-03T19:19:02.266Z"
   },
   {
    "duration": 8,
    "start_time": "2021-08-03T19:19:02.279Z"
   },
   {
    "duration": 18,
    "start_time": "2021-08-03T19:19:02.288Z"
   },
   {
    "duration": 34,
    "start_time": "2021-08-03T19:19:02.308Z"
   },
   {
    "duration": 37,
    "start_time": "2021-08-03T19:19:02.344Z"
   },
   {
    "duration": 29,
    "start_time": "2021-08-03T19:19:02.382Z"
   },
   {
    "duration": 18,
    "start_time": "2021-08-03T19:19:02.413Z"
   },
   {
    "duration": 21,
    "start_time": "2021-08-03T19:19:02.433Z"
   },
   {
    "duration": 36,
    "start_time": "2021-08-03T19:19:02.456Z"
   },
   {
    "duration": 18,
    "start_time": "2021-08-03T19:19:02.494Z"
   },
   {
    "duration": 20,
    "start_time": "2021-08-03T19:19:02.513Z"
   },
   {
    "duration": 19,
    "start_time": "2021-08-03T19:19:02.535Z"
   },
   {
    "duration": 22,
    "start_time": "2021-08-03T19:19:02.556Z"
   },
   {
    "duration": 14,
    "start_time": "2021-08-03T19:19:02.580Z"
   },
   {
    "duration": 13,
    "start_time": "2021-08-03T19:19:02.596Z"
   },
   {
    "duration": 26,
    "start_time": "2021-08-03T19:19:02.613Z"
   },
   {
    "duration": 16,
    "start_time": "2021-08-03T19:19:02.642Z"
   },
   {
    "duration": 220,
    "start_time": "2021-08-03T19:19:02.660Z"
   },
   {
    "duration": 146,
    "start_time": "2021-08-03T19:19:02.882Z"
   },
   {
    "duration": 16,
    "start_time": "2021-08-03T19:19:03.030Z"
   },
   {
    "duration": 28,
    "start_time": "2021-08-03T19:19:03.048Z"
   },
   {
    "duration": 265,
    "start_time": "2021-08-03T19:19:03.078Z"
   },
   {
    "duration": 251,
    "start_time": "2021-08-03T19:19:03.345Z"
   },
   {
    "duration": 7,
    "start_time": "2021-08-03T19:19:03.599Z"
   },
   {
    "duration": 407,
    "start_time": "2021-08-03T19:19:03.608Z"
   },
   {
    "duration": 4,
    "start_time": "2021-08-03T19:19:04.017Z"
   },
   {
    "duration": 21,
    "start_time": "2021-08-03T19:19:04.023Z"
   },
   {
    "duration": 233,
    "start_time": "2021-08-03T19:19:04.046Z"
   },
   {
    "duration": 8,
    "start_time": "2021-08-03T19:19:04.282Z"
   },
   {
    "duration": 349,
    "start_time": "2021-08-03T19:19:04.292Z"
   },
   {
    "duration": 115,
    "start_time": "2021-08-03T19:19:04.642Z"
   },
   {
    "duration": 3,
    "start_time": "2021-08-03T19:19:04.759Z"
   },
   {
    "duration": 336,
    "start_time": "2021-08-03T19:19:04.764Z"
   },
   {
    "duration": 5,
    "start_time": "2021-08-03T19:19:05.101Z"
   },
   {
    "duration": 222,
    "start_time": "2021-08-03T19:19:05.107Z"
   },
   {
    "duration": 3,
    "start_time": "2021-08-03T19:19:05.331Z"
   },
   {
    "duration": 343,
    "start_time": "2021-08-03T19:19:05.335Z"
   },
   {
    "duration": 4,
    "start_time": "2021-08-03T19:19:05.680Z"
   },
   {
    "duration": 19,
    "start_time": "2021-08-03T19:19:05.685Z"
   },
   {
    "duration": 340,
    "start_time": "2021-08-03T19:19:05.706Z"
   },
   {
    "duration": 5,
    "start_time": "2021-08-03T19:19:06.048Z"
   },
   {
    "duration": 15,
    "start_time": "2021-08-03T19:19:06.055Z"
   },
   {
    "duration": 16,
    "start_time": "2021-08-03T19:19:06.072Z"
   },
   {
    "duration": 66,
    "start_time": "2021-08-03T19:19:06.090Z"
   },
   {
    "duration": 59,
    "start_time": "2021-08-03T19:19:06.158Z"
   },
   {
    "duration": 19,
    "start_time": "2021-08-03T19:19:06.219Z"
   },
   {
    "duration": 58,
    "start_time": "2021-08-03T19:19:06.239Z"
   },
   {
    "duration": 25,
    "start_time": "2021-08-03T19:19:06.299Z"
   },
   {
    "duration": 64,
    "start_time": "2021-08-03T19:19:06.326Z"
   },
   {
    "duration": 38,
    "start_time": "2021-08-03T19:19:06.392Z"
   },
   {
    "duration": 60,
    "start_time": "2021-08-03T19:19:06.432Z"
   },
   {
    "duration": 74,
    "start_time": "2021-08-03T19:19:06.494Z"
   },
   {
    "duration": 21,
    "start_time": "2021-08-03T19:19:06.570Z"
   },
   {
    "duration": 9,
    "start_time": "2021-08-03T19:19:06.592Z"
   },
   {
    "duration": 8,
    "start_time": "2021-08-03T19:19:06.603Z"
   },
   {
    "duration": 5,
    "start_time": "2021-08-03T19:19:06.613Z"
   },
   {
    "duration": 15,
    "start_time": "2021-08-03T19:19:06.620Z"
   },
   {
    "duration": 11,
    "start_time": "2021-08-03T19:19:06.637Z"
   },
   {
    "duration": 16,
    "start_time": "2021-08-03T19:19:06.650Z"
   },
   {
    "duration": 25,
    "start_time": "2021-08-03T19:19:06.668Z"
   },
   {
    "duration": 23,
    "start_time": "2021-08-03T19:19:06.698Z"
   },
   {
    "duration": 16,
    "start_time": "2021-08-03T19:19:06.723Z"
   },
   {
    "duration": 18,
    "start_time": "2021-08-03T19:19:06.740Z"
   },
   {
    "duration": 17,
    "start_time": "2021-08-03T19:19:06.759Z"
   },
   {
    "duration": 19,
    "start_time": "2021-08-03T19:19:06.777Z"
   },
   {
    "duration": 17,
    "start_time": "2021-08-03T19:19:06.798Z"
   },
   {
    "duration": 16,
    "start_time": "2021-08-03T19:19:06.817Z"
   },
   {
    "duration": 1620,
    "start_time": "2021-08-03T21:01:39.310Z"
   },
   {
    "duration": 16,
    "start_time": "2021-08-03T21:01:40.933Z"
   },
   {
    "duration": 14,
    "start_time": "2021-08-03T21:01:40.952Z"
   },
   {
    "duration": 13,
    "start_time": "2021-08-03T21:01:40.969Z"
   },
   {
    "duration": 20,
    "start_time": "2021-08-03T21:01:40.985Z"
   },
   {
    "duration": 8,
    "start_time": "2021-08-03T21:01:41.007Z"
   },
   {
    "duration": 7,
    "start_time": "2021-08-03T21:01:41.017Z"
   },
   {
    "duration": 12,
    "start_time": "2021-08-03T21:01:41.026Z"
   },
   {
    "duration": 43,
    "start_time": "2021-08-03T21:01:41.043Z"
   },
   {
    "duration": 13,
    "start_time": "2021-08-03T21:01:41.089Z"
   },
   {
    "duration": 28,
    "start_time": "2021-08-03T21:01:41.104Z"
   },
   {
    "duration": 32,
    "start_time": "2021-08-03T21:01:41.134Z"
   },
   {
    "duration": 15,
    "start_time": "2021-08-03T21:01:41.169Z"
   },
   {
    "duration": 10,
    "start_time": "2021-08-03T21:01:41.186Z"
   },
   {
    "duration": 15,
    "start_time": "2021-08-03T21:01:41.198Z"
   },
   {
    "duration": 24,
    "start_time": "2021-08-03T21:01:41.215Z"
   },
   {
    "duration": 41,
    "start_time": "2021-08-03T21:01:41.242Z"
   },
   {
    "duration": 11,
    "start_time": "2021-08-03T21:01:41.285Z"
   },
   {
    "duration": 13,
    "start_time": "2021-08-03T21:01:41.298Z"
   },
   {
    "duration": 10,
    "start_time": "2021-08-03T21:01:41.313Z"
   },
   {
    "duration": 12,
    "start_time": "2021-08-03T21:01:41.326Z"
   },
   {
    "duration": 42,
    "start_time": "2021-08-03T21:01:41.341Z"
   },
   {
    "duration": 20,
    "start_time": "2021-08-03T21:01:41.385Z"
   },
   {
    "duration": 8,
    "start_time": "2021-08-03T21:01:41.407Z"
   },
   {
    "duration": 366,
    "start_time": "2021-08-03T21:01:41.418Z"
   },
   {
    "duration": 270,
    "start_time": "2021-08-03T21:01:41.786Z"
   },
   {
    "duration": 25,
    "start_time": "2021-08-03T21:01:42.063Z"
   },
   {
    "duration": 10,
    "start_time": "2021-08-03T21:01:42.092Z"
   },
   {
    "duration": 424,
    "start_time": "2021-08-03T21:01:42.105Z"
   },
   {
    "duration": 408,
    "start_time": "2021-08-03T21:01:42.532Z"
   },
   {
    "duration": 8,
    "start_time": "2021-08-03T21:01:42.943Z"
   },
   {
    "duration": 512,
    "start_time": "2021-08-03T21:01:42.953Z"
   },
   {
    "duration": 15,
    "start_time": "2021-08-03T21:01:43.467Z"
   },
   {
    "duration": 7,
    "start_time": "2021-08-03T21:01:43.484Z"
   },
   {
    "duration": 384,
    "start_time": "2021-08-03T21:01:43.493Z"
   },
   {
    "duration": 11,
    "start_time": "2021-08-03T21:01:43.879Z"
   },
   {
    "duration": 475,
    "start_time": "2021-08-03T21:01:43.893Z"
   },
   {
    "duration": 214,
    "start_time": "2021-08-03T21:01:44.370Z"
   },
   {
    "duration": 4,
    "start_time": "2021-08-03T21:01:44.586Z"
   },
   {
    "duration": 473,
    "start_time": "2021-08-03T21:01:44.593Z"
   },
   {
    "duration": 5,
    "start_time": "2021-08-03T21:01:45.068Z"
   },
   {
    "duration": 334,
    "start_time": "2021-08-03T21:01:45.075Z"
   },
   {
    "duration": 4,
    "start_time": "2021-08-03T21:01:45.412Z"
   },
   {
    "duration": 473,
    "start_time": "2021-08-03T21:01:45.419Z"
   },
   {
    "duration": 5,
    "start_time": "2021-08-03T21:01:45.895Z"
   },
   {
    "duration": 9,
    "start_time": "2021-08-03T21:01:45.903Z"
   },
   {
    "duration": 471,
    "start_time": "2021-08-03T21:01:45.914Z"
   },
   {
    "duration": 5,
    "start_time": "2021-08-03T21:01:46.388Z"
   },
   {
    "duration": 6,
    "start_time": "2021-08-03T21:01:46.395Z"
   },
   {
    "duration": 9,
    "start_time": "2021-08-03T21:01:46.403Z"
   },
   {
    "duration": 120,
    "start_time": "2021-08-03T21:01:46.414Z"
   },
   {
    "duration": 112,
    "start_time": "2021-08-03T21:01:46.536Z"
   },
   {
    "duration": 22,
    "start_time": "2021-08-03T21:01:46.650Z"
   },
   {
    "duration": 103,
    "start_time": "2021-08-03T21:01:46.683Z"
   },
   {
    "duration": 24,
    "start_time": "2021-08-03T21:01:46.789Z"
   },
   {
    "duration": 114,
    "start_time": "2021-08-03T21:01:46.816Z"
   },
   {
    "duration": 70,
    "start_time": "2021-08-03T21:01:46.932Z"
   },
   {
    "duration": 138,
    "start_time": "2021-08-03T21:01:47.004Z"
   },
   {
    "duration": 138,
    "start_time": "2021-08-03T21:01:47.144Z"
   },
   {
    "duration": 8,
    "start_time": "2021-08-03T21:01:47.285Z"
   },
   {
    "duration": 9,
    "start_time": "2021-08-03T21:01:47.296Z"
   },
   {
    "duration": 11,
    "start_time": "2021-08-03T21:01:47.307Z"
   },
   {
    "duration": 6,
    "start_time": "2021-08-03T21:01:47.320Z"
   },
   {
    "duration": 10,
    "start_time": "2021-08-03T21:01:47.328Z"
   },
   {
    "duration": 50,
    "start_time": "2021-08-03T21:01:47.341Z"
   },
   {
    "duration": 8,
    "start_time": "2021-08-03T21:01:47.393Z"
   },
   {
    "duration": 11,
    "start_time": "2021-08-03T21:01:47.403Z"
   },
   {
    "duration": 8,
    "start_time": "2021-08-03T21:01:47.416Z"
   },
   {
    "duration": 8,
    "start_time": "2021-08-03T21:01:47.427Z"
   },
   {
    "duration": 8,
    "start_time": "2021-08-03T21:01:47.437Z"
   },
   {
    "duration": 40,
    "start_time": "2021-08-03T21:01:47.447Z"
   },
   {
    "duration": 5,
    "start_time": "2021-08-03T21:01:47.490Z"
   },
   {
    "duration": 15,
    "start_time": "2021-08-03T21:01:47.499Z"
   },
   {
    "duration": 12,
    "start_time": "2021-08-03T21:01:47.517Z"
   },
   {
    "duration": 130,
    "start_time": "2021-08-03T21:10:23.839Z"
   },
   {
    "duration": 123,
    "start_time": "2021-08-03T21:11:39.534Z"
   },
   {
    "duration": 427,
    "start_time": "2021-08-04T05:05:18.818Z"
   },
   {
    "duration": 1615,
    "start_time": "2021-08-04T05:05:32.350Z"
   },
   {
    "duration": 20,
    "start_time": "2021-08-04T05:05:33.968Z"
   },
   {
    "duration": 15,
    "start_time": "2021-08-04T05:05:33.991Z"
   },
   {
    "duration": 7,
    "start_time": "2021-08-04T05:05:34.009Z"
   },
   {
    "duration": 19,
    "start_time": "2021-08-04T05:05:34.019Z"
   },
   {
    "duration": 10,
    "start_time": "2021-08-04T05:05:34.041Z"
   },
   {
    "duration": 7,
    "start_time": "2021-08-04T05:05:34.085Z"
   },
   {
    "duration": 15,
    "start_time": "2021-08-04T05:05:34.096Z"
   },
   {
    "duration": 9,
    "start_time": "2021-08-04T05:05:34.114Z"
   },
   {
    "duration": 18,
    "start_time": "2021-08-04T05:05:34.125Z"
   },
   {
    "duration": 61,
    "start_time": "2021-08-04T05:05:34.145Z"
   },
   {
    "duration": 46,
    "start_time": "2021-08-04T05:05:34.208Z"
   },
   {
    "duration": 24,
    "start_time": "2021-08-04T05:05:34.257Z"
   },
   {
    "duration": 12,
    "start_time": "2021-08-04T05:05:34.284Z"
   },
   {
    "duration": 19,
    "start_time": "2021-08-04T05:05:34.298Z"
   },
   {
    "duration": 33,
    "start_time": "2021-08-04T05:05:34.320Z"
   },
   {
    "duration": 20,
    "start_time": "2021-08-04T05:05:34.355Z"
   },
   {
    "duration": 17,
    "start_time": "2021-08-04T05:05:34.377Z"
   },
   {
    "duration": 25,
    "start_time": "2021-08-04T05:05:34.397Z"
   },
   {
    "duration": 21,
    "start_time": "2021-08-04T05:05:34.424Z"
   },
   {
    "duration": 22,
    "start_time": "2021-08-04T05:05:34.448Z"
   },
   {
    "duration": 16,
    "start_time": "2021-08-04T05:05:34.472Z"
   },
   {
    "duration": 19,
    "start_time": "2021-08-04T05:05:34.495Z"
   },
   {
    "duration": 13,
    "start_time": "2021-08-04T05:05:34.517Z"
   },
   {
    "duration": 18,
    "start_time": "2021-08-04T05:05:34.532Z"
   },
   {
    "duration": 363,
    "start_time": "2021-08-04T05:05:34.553Z"
   },
   {
    "duration": 282,
    "start_time": "2021-08-04T05:05:34.919Z"
   },
   {
    "duration": 10,
    "start_time": "2021-08-04T05:05:35.203Z"
   },
   {
    "duration": 17,
    "start_time": "2021-08-04T05:05:35.215Z"
   },
   {
    "duration": 466,
    "start_time": "2021-08-04T05:05:35.234Z"
   },
   {
    "duration": 436,
    "start_time": "2021-08-04T05:05:35.704Z"
   },
   {
    "duration": 13,
    "start_time": "2021-08-04T05:05:36.143Z"
   },
   {
    "duration": 754,
    "start_time": "2021-08-04T05:05:36.158Z"
   },
   {
    "duration": 6,
    "start_time": "2021-08-04T05:05:36.916Z"
   },
   {
    "duration": 139,
    "start_time": "2021-08-04T05:05:36.925Z"
   },
   {
    "duration": 552,
    "start_time": "2021-08-04T05:05:37.067Z"
   },
   {
    "duration": 12,
    "start_time": "2021-08-04T05:05:37.622Z"
   },
   {
    "duration": 545,
    "start_time": "2021-08-04T05:05:37.636Z"
   },
   {
    "duration": 228,
    "start_time": "2021-08-04T05:05:38.185Z"
   },
   {
    "duration": 4,
    "start_time": "2021-08-04T05:05:38.416Z"
   },
   {
    "duration": 471,
    "start_time": "2021-08-04T05:05:38.422Z"
   },
   {
    "duration": 11,
    "start_time": "2021-08-04T05:05:38.896Z"
   },
   {
    "duration": 354,
    "start_time": "2021-08-04T05:05:38.910Z"
   },
   {
    "duration": 4,
    "start_time": "2021-08-04T05:05:39.267Z"
   },
   {
    "duration": 510,
    "start_time": "2021-08-04T05:05:39.273Z"
   },
   {
    "duration": 6,
    "start_time": "2021-08-04T05:05:39.785Z"
   },
   {
    "duration": 15,
    "start_time": "2021-08-04T05:05:39.793Z"
   },
   {
    "duration": 590,
    "start_time": "2021-08-04T05:05:39.810Z"
   },
   {
    "duration": 6,
    "start_time": "2021-08-04T05:05:40.402Z"
   },
   {
    "duration": 11,
    "start_time": "2021-08-04T05:05:40.411Z"
   },
   {
    "duration": 16,
    "start_time": "2021-08-04T05:05:40.425Z"
   },
   {
    "duration": 111,
    "start_time": "2021-08-04T05:05:40.444Z"
   },
   {
    "duration": 102,
    "start_time": "2021-08-04T05:05:40.558Z"
   },
   {
    "duration": 53,
    "start_time": "2021-08-04T05:05:40.663Z"
   },
   {
    "duration": 130,
    "start_time": "2021-08-04T05:05:40.718Z"
   },
   {
    "duration": 40,
    "start_time": "2021-08-04T05:05:40.850Z"
   },
   {
    "duration": 113,
    "start_time": "2021-08-04T05:05:40.892Z"
   },
   {
    "duration": 92,
    "start_time": "2021-08-04T05:05:41.007Z"
   },
   {
    "duration": 124,
    "start_time": "2021-08-04T05:05:41.102Z"
   },
   {
    "duration": 125,
    "start_time": "2021-08-04T05:05:41.228Z"
   },
   {
    "duration": 9,
    "start_time": "2021-08-04T05:05:41.356Z"
   },
   {
    "duration": 21,
    "start_time": "2021-08-04T05:05:41.367Z"
   },
   {
    "duration": 19,
    "start_time": "2021-08-04T05:05:41.391Z"
   },
   {
    "duration": 18,
    "start_time": "2021-08-04T05:05:41.413Z"
   },
   {
    "duration": 20,
    "start_time": "2021-08-04T05:05:41.433Z"
   },
   {
    "duration": 10,
    "start_time": "2021-08-04T05:05:41.455Z"
   },
   {
    "duration": 21,
    "start_time": "2021-08-04T05:05:41.467Z"
   },
   {
    "duration": 34,
    "start_time": "2021-08-04T05:05:41.495Z"
   },
   {
    "duration": 16,
    "start_time": "2021-08-04T05:05:41.532Z"
   },
   {
    "duration": 17,
    "start_time": "2021-08-04T05:05:41.551Z"
   },
   {
    "duration": 12,
    "start_time": "2021-08-04T05:05:41.571Z"
   },
   {
    "duration": 10,
    "start_time": "2021-08-04T05:05:41.585Z"
   },
   {
    "duration": 6,
    "start_time": "2021-08-04T05:05:41.598Z"
   },
   {
    "duration": 15,
    "start_time": "2021-08-04T05:05:41.606Z"
   },
   {
    "duration": 13,
    "start_time": "2021-08-04T05:05:41.623Z"
   },
   {
    "duration": 4,
    "start_time": "2021-08-04T05:06:54.935Z"
   },
   {
    "duration": 491,
    "start_time": "2021-08-04T05:12:07.487Z"
   },
   {
    "duration": 136,
    "start_time": "2021-08-04T05:12:30.445Z"
   },
   {
    "duration": 8,
    "start_time": "2021-08-04T05:14:25.151Z"
   },
   {
    "duration": 384,
    "start_time": "2021-08-04T05:15:52.470Z"
   },
   {
    "duration": 394,
    "start_time": "2021-08-04T05:16:17.051Z"
   },
   {
    "duration": 7,
    "start_time": "2021-08-04T05:16:38.179Z"
   },
   {
    "duration": 9,
    "start_time": "2021-08-04T05:16:46.586Z"
   },
   {
    "duration": 13,
    "start_time": "2021-08-04T05:16:50.656Z"
   },
   {
    "duration": 173,
    "start_time": "2021-08-04T05:19:37.916Z"
   },
   {
    "duration": 14,
    "start_time": "2021-08-04T05:19:44.052Z"
   },
   {
    "duration": 3651,
    "start_time": "2021-08-04T05:20:01.776Z"
   },
   {
    "duration": 5,
    "start_time": "2021-08-04T05:21:08.571Z"
   },
   {
    "duration": 1586,
    "start_time": "2021-08-04T05:21:16.292Z"
   },
   {
    "duration": 20,
    "start_time": "2021-08-04T05:21:17.881Z"
   },
   {
    "duration": 21,
    "start_time": "2021-08-04T05:21:17.904Z"
   },
   {
    "duration": 12,
    "start_time": "2021-08-04T05:21:17.928Z"
   },
   {
    "duration": 21,
    "start_time": "2021-08-04T05:21:17.943Z"
   },
   {
    "duration": 23,
    "start_time": "2021-08-04T05:21:17.966Z"
   },
   {
    "duration": 7,
    "start_time": "2021-08-04T05:21:17.992Z"
   },
   {
    "duration": 23,
    "start_time": "2021-08-04T05:21:18.003Z"
   },
   {
    "duration": 12,
    "start_time": "2021-08-04T05:21:18.030Z"
   },
   {
    "duration": 42,
    "start_time": "2021-08-04T05:21:18.044Z"
   },
   {
    "duration": 28,
    "start_time": "2021-08-04T05:21:18.088Z"
   },
   {
    "duration": 70,
    "start_time": "2021-08-04T05:21:18.118Z"
   },
   {
    "duration": 24,
    "start_time": "2021-08-04T05:21:18.191Z"
   },
   {
    "duration": 14,
    "start_time": "2021-08-04T05:21:18.218Z"
   },
   {
    "duration": 20,
    "start_time": "2021-08-04T05:21:18.234Z"
   },
   {
    "duration": 33,
    "start_time": "2021-08-04T05:21:18.257Z"
   },
   {
    "duration": 12,
    "start_time": "2021-08-04T05:21:18.293Z"
   },
   {
    "duration": 15,
    "start_time": "2021-08-04T05:21:18.307Z"
   },
   {
    "duration": 9,
    "start_time": "2021-08-04T05:21:18.324Z"
   },
   {
    "duration": 11,
    "start_time": "2021-08-04T05:21:18.335Z"
   },
   {
    "duration": 43,
    "start_time": "2021-08-04T05:21:18.348Z"
   },
   {
    "duration": 9,
    "start_time": "2021-08-04T05:21:18.393Z"
   },
   {
    "duration": 26,
    "start_time": "2021-08-04T05:21:18.408Z"
   },
   {
    "duration": 656,
    "start_time": "2021-08-04T05:21:18.438Z"
   },
   {
    "duration": -1315,
    "start_time": "2021-08-04T05:21:20.412Z"
   },
   {
    "duration": -1318,
    "start_time": "2021-08-04T05:21:20.417Z"
   },
   {
    "duration": -1321,
    "start_time": "2021-08-04T05:21:20.421Z"
   },
   {
    "duration": -1324,
    "start_time": "2021-08-04T05:21:20.426Z"
   },
   {
    "duration": -1327,
    "start_time": "2021-08-04T05:21:20.430Z"
   },
   {
    "duration": -1330,
    "start_time": "2021-08-04T05:21:20.435Z"
   },
   {
    "duration": -1333,
    "start_time": "2021-08-04T05:21:20.439Z"
   },
   {
    "duration": -1335,
    "start_time": "2021-08-04T05:21:20.443Z"
   },
   {
    "duration": -1340,
    "start_time": "2021-08-04T05:21:20.449Z"
   },
   {
    "duration": -1342,
    "start_time": "2021-08-04T05:21:20.453Z"
   },
   {
    "duration": -1346,
    "start_time": "2021-08-04T05:21:20.458Z"
   },
   {
    "duration": -1350,
    "start_time": "2021-08-04T05:21:20.464Z"
   },
   {
    "duration": -1354,
    "start_time": "2021-08-04T05:21:20.469Z"
   },
   {
    "duration": -1357,
    "start_time": "2021-08-04T05:21:20.474Z"
   },
   {
    "duration": -1361,
    "start_time": "2021-08-04T05:21:20.479Z"
   },
   {
    "duration": -1363,
    "start_time": "2021-08-04T05:21:20.483Z"
   },
   {
    "duration": -1366,
    "start_time": "2021-08-04T05:21:20.488Z"
   },
   {
    "duration": -1369,
    "start_time": "2021-08-04T05:21:20.492Z"
   },
   {
    "duration": -1373,
    "start_time": "2021-08-04T05:21:20.497Z"
   },
   {
    "duration": -1375,
    "start_time": "2021-08-04T05:21:20.501Z"
   },
   {
    "duration": -1386,
    "start_time": "2021-08-04T05:21:20.513Z"
   },
   {
    "duration": -1388,
    "start_time": "2021-08-04T05:21:20.517Z"
   },
   {
    "duration": -1392,
    "start_time": "2021-08-04T05:21:20.522Z"
   },
   {
    "duration": -1395,
    "start_time": "2021-08-04T05:21:20.526Z"
   },
   {
    "duration": -1398,
    "start_time": "2021-08-04T05:21:20.531Z"
   },
   {
    "duration": -1350,
    "start_time": "2021-08-04T05:21:20.535Z"
   },
   {
    "duration": -1352,
    "start_time": "2021-08-04T05:21:20.539Z"
   },
   {
    "duration": -1355,
    "start_time": "2021-08-04T05:21:20.543Z"
   },
   {
    "duration": -1359,
    "start_time": "2021-08-04T05:21:20.549Z"
   },
   {
    "duration": -1362,
    "start_time": "2021-08-04T05:21:20.553Z"
   },
   {
    "duration": -1366,
    "start_time": "2021-08-04T05:21:20.559Z"
   },
   {
    "duration": -1369,
    "start_time": "2021-08-04T05:21:20.563Z"
   },
   {
    "duration": -1373,
    "start_time": "2021-08-04T05:21:20.568Z"
   },
   {
    "duration": -1375,
    "start_time": "2021-08-04T05:21:20.572Z"
   },
   {
    "duration": -1381,
    "start_time": "2021-08-04T05:21:20.579Z"
   },
   {
    "duration": -1384,
    "start_time": "2021-08-04T05:21:20.583Z"
   },
   {
    "duration": -1387,
    "start_time": "2021-08-04T05:21:20.588Z"
   },
   {
    "duration": -1391,
    "start_time": "2021-08-04T05:21:20.593Z"
   },
   {
    "duration": -1394,
    "start_time": "2021-08-04T05:21:20.598Z"
   },
   {
    "duration": -1397,
    "start_time": "2021-08-04T05:21:20.602Z"
   },
   {
    "duration": -1401,
    "start_time": "2021-08-04T05:21:20.607Z"
   },
   {
    "duration": -1478,
    "start_time": "2021-08-04T05:21:20.686Z"
   },
   {
    "duration": -1482,
    "start_time": "2021-08-04T05:21:20.691Z"
   },
   {
    "duration": -1491,
    "start_time": "2021-08-04T05:21:20.701Z"
   },
   {
    "duration": -1494,
    "start_time": "2021-08-04T05:21:20.705Z"
   },
   {
    "duration": -1501,
    "start_time": "2021-08-04T05:21:20.714Z"
   },
   {
    "duration": -1505,
    "start_time": "2021-08-04T05:21:20.719Z"
   },
   {
    "duration": -1507,
    "start_time": "2021-08-04T05:21:20.722Z"
   },
   {
    "duration": -1519,
    "start_time": "2021-08-04T05:21:20.736Z"
   },
   {
    "duration": -1523,
    "start_time": "2021-08-04T05:21:20.741Z"
   },
   {
    "duration": -1528,
    "start_time": "2021-08-04T05:21:20.747Z"
   },
   {
    "duration": 7,
    "start_time": "2021-08-04T05:48:11.998Z"
   },
   {
    "duration": 7,
    "start_time": "2021-08-04T05:48:44.254Z"
   },
   {
    "duration": 8,
    "start_time": "2021-08-04T05:49:36.216Z"
   },
   {
    "duration": 8,
    "start_time": "2021-08-04T05:50:23.707Z"
   },
   {
    "duration": 11,
    "start_time": "2021-08-04T05:50:50.943Z"
   },
   {
    "duration": 12,
    "start_time": "2021-08-04T05:52:03.283Z"
   },
   {
    "duration": 8,
    "start_time": "2021-08-04T05:54:21.263Z"
   },
   {
    "duration": 16,
    "start_time": "2021-08-04T05:54:34.136Z"
   },
   {
    "duration": 379,
    "start_time": "2021-08-04T06:02:12.813Z"
   },
   {
    "duration": 1795,
    "start_time": "2021-08-04T06:02:44.964Z"
   },
   {
    "duration": 19,
    "start_time": "2021-08-04T06:02:46.762Z"
   },
   {
    "duration": 14,
    "start_time": "2021-08-04T06:02:46.784Z"
   },
   {
    "duration": 8,
    "start_time": "2021-08-04T06:02:46.801Z"
   },
   {
    "duration": 27,
    "start_time": "2021-08-04T06:02:46.811Z"
   },
   {
    "duration": 20,
    "start_time": "2021-08-04T06:02:46.840Z"
   },
   {
    "duration": 23,
    "start_time": "2021-08-04T06:02:46.862Z"
   },
   {
    "duration": 19,
    "start_time": "2021-08-04T06:02:46.889Z"
   },
   {
    "duration": 12,
    "start_time": "2021-08-04T06:02:46.911Z"
   },
   {
    "duration": 27,
    "start_time": "2021-08-04T06:02:46.925Z"
   },
   {
    "duration": 39,
    "start_time": "2021-08-04T06:02:46.955Z"
   },
   {
    "duration": 71,
    "start_time": "2021-08-04T06:02:46.997Z"
   },
   {
    "duration": 21,
    "start_time": "2021-08-04T06:02:47.071Z"
   },
   {
    "duration": 14,
    "start_time": "2021-08-04T06:02:47.094Z"
   },
   {
    "duration": 17,
    "start_time": "2021-08-04T06:02:47.111Z"
   },
   {
    "duration": 88,
    "start_time": "2021-08-04T06:02:47.131Z"
   },
   {
    "duration": 20,
    "start_time": "2021-08-04T06:02:47.222Z"
   },
   {
    "duration": 19,
    "start_time": "2021-08-04T06:02:47.245Z"
   },
   {
    "duration": 18,
    "start_time": "2021-08-04T06:02:47.267Z"
   },
   {
    "duration": 15,
    "start_time": "2021-08-04T06:02:47.287Z"
   },
   {
    "duration": 20,
    "start_time": "2021-08-04T06:02:47.305Z"
   },
   {
    "duration": 18,
    "start_time": "2021-08-04T06:02:47.328Z"
   },
   {
    "duration": 33,
    "start_time": "2021-08-04T06:02:47.354Z"
   },
   {
    "duration": 16,
    "start_time": "2021-08-04T06:02:47.392Z"
   },
   {
    "duration": 24,
    "start_time": "2021-08-04T06:02:47.411Z"
   },
   {
    "duration": 8,
    "start_time": "2021-08-04T06:02:47.438Z"
   },
   {
    "duration": 410,
    "start_time": "2021-08-04T06:02:47.448Z"
   },
   {
    "duration": 345,
    "start_time": "2021-08-04T06:02:47.861Z"
   },
   {
    "duration": 9,
    "start_time": "2021-08-04T06:02:48.208Z"
   },
   {
    "duration": 20,
    "start_time": "2021-08-04T06:02:48.219Z"
   },
   {
    "duration": 555,
    "start_time": "2021-08-04T06:02:48.242Z"
   },
   {
    "duration": 479,
    "start_time": "2021-08-04T06:02:48.800Z"
   },
   {
    "duration": 12,
    "start_time": "2021-08-04T06:02:49.281Z"
   },
   {
    "duration": 542,
    "start_time": "2021-08-04T06:02:49.295Z"
   },
   {
    "duration": 5,
    "start_time": "2021-08-04T06:02:49.840Z"
   },
   {
    "duration": 14,
    "start_time": "2021-08-04T06:02:49.847Z"
   },
   {
    "duration": 425,
    "start_time": "2021-08-04T06:02:49.863Z"
   },
   {
    "duration": 12,
    "start_time": "2021-08-04T06:02:50.291Z"
   },
   {
    "duration": 494,
    "start_time": "2021-08-04T06:02:50.306Z"
   },
   {
    "duration": 319,
    "start_time": "2021-08-04T06:02:50.802Z"
   },
   {
    "duration": 4,
    "start_time": "2021-08-04T06:02:51.123Z"
   },
   {
    "duration": 460,
    "start_time": "2021-08-04T06:02:51.130Z"
   },
   {
    "duration": 6,
    "start_time": "2021-08-04T06:02:51.593Z"
   },
   {
    "duration": 431,
    "start_time": "2021-08-04T06:02:51.603Z"
   },
   {
    "duration": 4,
    "start_time": "2021-08-04T06:02:52.036Z"
   },
   {
    "duration": 562,
    "start_time": "2021-08-04T06:02:52.042Z"
   },
   {
    "duration": 7,
    "start_time": "2021-08-04T06:02:52.607Z"
   },
   {
    "duration": 8,
    "start_time": "2021-08-04T06:02:52.617Z"
   },
   {
    "duration": 549,
    "start_time": "2021-08-04T06:02:52.628Z"
   },
   {
    "duration": 9,
    "start_time": "2021-08-04T06:02:53.179Z"
   },
   {
    "duration": 10,
    "start_time": "2021-08-04T06:02:53.190Z"
   },
   {
    "duration": 7,
    "start_time": "2021-08-04T06:02:53.204Z"
   },
   {
    "duration": 120,
    "start_time": "2021-08-04T06:02:53.213Z"
   },
   {
    "duration": 103,
    "start_time": "2021-08-04T06:02:53.336Z"
   },
   {
    "duration": 22,
    "start_time": "2021-08-04T06:02:53.441Z"
   },
   {
    "duration": 127,
    "start_time": "2021-08-04T06:02:53.465Z"
   },
   {
    "duration": 22,
    "start_time": "2021-08-04T06:02:53.594Z"
   },
   {
    "duration": 123,
    "start_time": "2021-08-04T06:02:53.619Z"
   },
   {
    "duration": 61,
    "start_time": "2021-08-04T06:02:53.745Z"
   },
   {
    "duration": 115,
    "start_time": "2021-08-04T06:02:53.808Z"
   },
   {
    "duration": 132,
    "start_time": "2021-08-04T06:02:53.926Z"
   },
   {
    "duration": 10,
    "start_time": "2021-08-04T06:02:54.061Z"
   },
   {
    "duration": 6,
    "start_time": "2021-08-04T06:02:54.086Z"
   },
   {
    "duration": 9,
    "start_time": "2021-08-04T06:02:54.095Z"
   },
   {
    "duration": 6,
    "start_time": "2021-08-04T06:02:54.107Z"
   },
   {
    "duration": 12,
    "start_time": "2021-08-04T06:02:54.116Z"
   },
   {
    "duration": 60,
    "start_time": "2021-08-04T06:02:54.131Z"
   },
   {
    "duration": 7,
    "start_time": "2021-08-04T06:02:54.200Z"
   },
   {
    "duration": 11,
    "start_time": "2021-08-04T06:02:54.210Z"
   },
   {
    "duration": 10,
    "start_time": "2021-08-04T06:02:54.224Z"
   },
   {
    "duration": 10,
    "start_time": "2021-08-04T06:02:54.236Z"
   },
   {
    "duration": 41,
    "start_time": "2021-08-04T06:02:54.249Z"
   },
   {
    "duration": 13,
    "start_time": "2021-08-04T06:02:54.292Z"
   },
   {
    "duration": 7,
    "start_time": "2021-08-04T06:02:54.308Z"
   },
   {
    "duration": 15,
    "start_time": "2021-08-04T06:02:54.318Z"
   },
   {
    "duration": 58,
    "start_time": "2021-08-04T06:02:54.336Z"
   },
   {
    "duration": 13140,
    "start_time": "2021-08-04T06:14:10.032Z"
   },
   {
    "duration": 7623,
    "start_time": "2021-08-04T06:14:40.599Z"
   },
   {
    "duration": 460,
    "start_time": "2021-08-04T06:15:50.913Z"
   },
   {
    "duration": 8,
    "start_time": "2021-08-04T06:16:39.914Z"
   },
   {
    "duration": -1295,
    "start_time": "2021-08-04T06:16:56.315Z"
   },
   {
    "duration": 6,
    "start_time": "2021-08-04T06:17:35.621Z"
   },
   {
    "duration": 1514,
    "start_time": "2021-08-04T06:17:48.236Z"
   },
   {
    "duration": 19,
    "start_time": "2021-08-04T06:17:49.752Z"
   },
   {
    "duration": 16,
    "start_time": "2021-08-04T06:17:49.776Z"
   },
   {
    "duration": 5,
    "start_time": "2021-08-04T06:17:49.795Z"
   },
   {
    "duration": 35,
    "start_time": "2021-08-04T06:17:49.803Z"
   },
   {
    "duration": 20,
    "start_time": "2021-08-04T06:17:49.841Z"
   },
   {
    "duration": 21,
    "start_time": "2021-08-04T06:17:49.864Z"
   },
   {
    "duration": 14,
    "start_time": "2021-08-04T06:17:49.891Z"
   },
   {
    "duration": 12,
    "start_time": "2021-08-04T06:17:49.909Z"
   },
   {
    "duration": 21,
    "start_time": "2021-08-04T06:17:49.924Z"
   },
   {
    "duration": 56,
    "start_time": "2021-08-04T06:17:49.948Z"
   },
   {
    "duration": 55,
    "start_time": "2021-08-04T06:17:50.006Z"
   },
   {
    "duration": 24,
    "start_time": "2021-08-04T06:17:50.064Z"
   },
   {
    "duration": 11,
    "start_time": "2021-08-04T06:17:50.091Z"
   },
   {
    "duration": 14,
    "start_time": "2021-08-04T06:17:50.105Z"
   },
   {
    "duration": 32,
    "start_time": "2021-08-04T06:17:50.121Z"
   },
   {
    "duration": 38,
    "start_time": "2021-08-04T06:17:50.155Z"
   },
   {
    "duration": 15,
    "start_time": "2021-08-04T06:17:50.195Z"
   },
   {
    "duration": 11,
    "start_time": "2021-08-04T06:17:50.213Z"
   },
   {
    "duration": 19,
    "start_time": "2021-08-04T06:17:50.226Z"
   },
   {
    "duration": 17,
    "start_time": "2021-08-04T06:17:50.248Z"
   },
   {
    "duration": 23,
    "start_time": "2021-08-04T06:17:50.267Z"
   },
   {
    "duration": 30,
    "start_time": "2021-08-04T06:17:50.296Z"
   },
   {
    "duration": 16,
    "start_time": "2021-08-04T06:17:50.331Z"
   },
   {
    "duration": 13,
    "start_time": "2021-08-04T06:17:50.349Z"
   },
   {
    "duration": 20,
    "start_time": "2021-08-04T06:17:50.365Z"
   },
   {
    "duration": 12,
    "start_time": "2021-08-04T06:17:50.387Z"
   },
   {
    "duration": 17,
    "start_time": "2021-08-04T06:17:50.401Z"
   },
   {
    "duration": 354,
    "start_time": "2021-08-04T06:17:50.420Z"
   },
   {
    "duration": 289,
    "start_time": "2021-08-04T06:17:50.777Z"
   },
   {
    "duration": 10,
    "start_time": "2021-08-04T06:17:51.086Z"
   },
   {
    "duration": 21,
    "start_time": "2021-08-04T06:17:51.098Z"
   },
   {
    "duration": 435,
    "start_time": "2021-08-04T06:17:51.122Z"
   },
   {
    "duration": 441,
    "start_time": "2021-08-04T06:17:51.560Z"
   },
   {
    "duration": 10,
    "start_time": "2021-08-04T06:17:52.004Z"
   },
   {
    "duration": 481,
    "start_time": "2021-08-04T06:17:52.017Z"
   },
   {
    "duration": 6,
    "start_time": "2021-08-04T06:17:52.502Z"
   },
   {
    "duration": 13,
    "start_time": "2021-08-04T06:17:52.510Z"
   },
   {
    "duration": 428,
    "start_time": "2021-08-04T06:17:52.525Z"
   },
   {
    "duration": 12,
    "start_time": "2021-08-04T06:17:52.956Z"
   },
   {
    "duration": 508,
    "start_time": "2021-08-04T06:17:52.987Z"
   },
   {
    "duration": 185,
    "start_time": "2021-08-04T06:17:53.498Z"
   },
   {
    "duration": 4,
    "start_time": "2021-08-04T06:17:53.685Z"
   },
   {
    "duration": 497,
    "start_time": "2021-08-04T06:17:53.691Z"
   },
   {
    "duration": 6,
    "start_time": "2021-08-04T06:17:54.190Z"
   },
   {
    "duration": 384,
    "start_time": "2021-08-04T06:17:54.199Z"
   },
   {
    "duration": 4,
    "start_time": "2021-08-04T06:17:54.586Z"
   },
   {
    "duration": 511,
    "start_time": "2021-08-04T06:17:54.593Z"
   },
   {
    "duration": 6,
    "start_time": "2021-08-04T06:17:55.106Z"
   },
   {
    "duration": 10,
    "start_time": "2021-08-04T06:17:55.114Z"
   },
   {
    "duration": 476,
    "start_time": "2021-08-04T06:17:55.127Z"
   },
   {
    "duration": 5,
    "start_time": "2021-08-04T06:17:55.606Z"
   },
   {
    "duration": 8,
    "start_time": "2021-08-04T06:17:55.614Z"
   },
   {
    "duration": 7,
    "start_time": "2021-08-04T06:17:55.624Z"
   },
   {
    "duration": 127,
    "start_time": "2021-08-04T06:17:55.634Z"
   },
   {
    "duration": 104,
    "start_time": "2021-08-04T06:17:55.763Z"
   },
   {
    "duration": 30,
    "start_time": "2021-08-04T06:17:55.869Z"
   },
   {
    "duration": 115,
    "start_time": "2021-08-04T06:17:55.902Z"
   },
   {
    "duration": 23,
    "start_time": "2021-08-04T06:17:56.020Z"
   },
   {
    "duration": 115,
    "start_time": "2021-08-04T06:17:56.045Z"
   },
   {
    "duration": 68,
    "start_time": "2021-08-04T06:17:56.162Z"
   },
   {
    "duration": 108,
    "start_time": "2021-08-04T06:17:56.232Z"
   },
   {
    "duration": 152,
    "start_time": "2021-08-04T06:17:56.343Z"
   },
   {
    "duration": 11,
    "start_time": "2021-08-04T06:17:56.497Z"
   },
   {
    "duration": 10,
    "start_time": "2021-08-04T06:17:56.510Z"
   },
   {
    "duration": 16,
    "start_time": "2021-08-04T06:17:56.522Z"
   },
   {
    "duration": 6,
    "start_time": "2021-08-04T06:17:56.540Z"
   },
   {
    "duration": 39,
    "start_time": "2021-08-04T06:17:56.553Z"
   },
   {
    "duration": 11,
    "start_time": "2021-08-04T06:17:56.594Z"
   },
   {
    "duration": 11,
    "start_time": "2021-08-04T06:17:56.608Z"
   },
   {
    "duration": 11,
    "start_time": "2021-08-04T06:17:56.621Z"
   },
   {
    "duration": 10,
    "start_time": "2021-08-04T06:17:56.634Z"
   },
   {
    "duration": 12,
    "start_time": "2021-08-04T06:17:56.647Z"
   },
   {
    "duration": 28,
    "start_time": "2021-08-04T06:17:56.662Z"
   },
   {
    "duration": 10,
    "start_time": "2021-08-04T06:17:56.692Z"
   },
   {
    "duration": 5,
    "start_time": "2021-08-04T06:17:56.704Z"
   },
   {
    "duration": 16,
    "start_time": "2021-08-04T06:17:56.712Z"
   },
   {
    "duration": 14,
    "start_time": "2021-08-04T06:17:56.731Z"
   },
   {
    "duration": 7,
    "start_time": "2021-08-04T06:19:40.810Z"
   },
   {
    "duration": 7,
    "start_time": "2021-08-04T06:20:27.757Z"
   },
   {
    "duration": 7,
    "start_time": "2021-08-04T06:21:53.290Z"
   },
   {
    "duration": 7,
    "start_time": "2021-08-04T06:25:17.392Z"
   },
   {
    "duration": 551,
    "start_time": "2021-08-04T06:38:07.979Z"
   },
   {
    "duration": 1302,
    "start_time": "2021-08-04T06:40:08.017Z"
   },
   {
    "duration": 47,
    "start_time": "2021-08-04T06:48:34.544Z"
   },
   {
    "duration": 5,
    "start_time": "2021-08-04T06:49:24.390Z"
   },
   {
    "duration": 217,
    "start_time": "2021-08-04T06:49:53.325Z"
   },
   {
    "duration": 166,
    "start_time": "2021-08-04T06:49:59.863Z"
   },
   {
    "duration": 525,
    "start_time": "2021-08-04T06:50:06.617Z"
   },
   {
    "duration": 16,
    "start_time": "2021-08-04T06:50:24.863Z"
   },
   {
    "duration": 4,
    "start_time": "2021-08-04T06:50:49.416Z"
   },
   {
    "duration": 15,
    "start_time": "2021-08-04T06:50:57.706Z"
   },
   {
    "duration": 1597,
    "start_time": "2021-08-04T06:52:38.858Z"
   },
   {
    "duration": 22,
    "start_time": "2021-08-04T06:52:40.457Z"
   },
   {
    "duration": 15,
    "start_time": "2021-08-04T06:52:40.483Z"
   },
   {
    "duration": 10,
    "start_time": "2021-08-04T06:52:40.501Z"
   },
   {
    "duration": 31,
    "start_time": "2021-08-04T06:52:40.514Z"
   },
   {
    "duration": 15,
    "start_time": "2021-08-04T06:52:40.548Z"
   },
   {
    "duration": 22,
    "start_time": "2021-08-04T06:52:40.566Z"
   },
   {
    "duration": 15,
    "start_time": "2021-08-04T06:52:40.592Z"
   },
   {
    "duration": 15,
    "start_time": "2021-08-04T06:52:40.610Z"
   },
   {
    "duration": 26,
    "start_time": "2021-08-04T06:52:40.628Z"
   },
   {
    "duration": 1106,
    "start_time": "2021-08-04T06:52:40.656Z"
   },
   {
    "duration": 42,
    "start_time": "2021-08-04T06:52:41.765Z"
   },
   {
    "duration": 26,
    "start_time": "2021-08-04T06:52:41.809Z"
   },
   {
    "duration": 39,
    "start_time": "2021-08-04T06:52:41.838Z"
   },
   {
    "duration": 55,
    "start_time": "2021-08-04T06:52:41.880Z"
   },
   {
    "duration": 68,
    "start_time": "2021-08-04T06:52:41.939Z"
   },
   {
    "duration": 31,
    "start_time": "2021-08-04T06:52:42.010Z"
   },
   {
    "duration": 49,
    "start_time": "2021-08-04T06:52:42.044Z"
   },
   {
    "duration": 42,
    "start_time": "2021-08-04T06:52:42.096Z"
   },
   {
    "duration": 37,
    "start_time": "2021-08-04T06:52:42.141Z"
   },
   {
    "duration": 43,
    "start_time": "2021-08-04T06:52:42.181Z"
   },
   {
    "duration": 29,
    "start_time": "2021-08-04T06:52:42.226Z"
   },
   {
    "duration": 106,
    "start_time": "2021-08-04T06:52:42.262Z"
   },
   {
    "duration": 32,
    "start_time": "2021-08-04T06:52:42.372Z"
   },
   {
    "duration": 26,
    "start_time": "2021-08-04T06:52:42.407Z"
   },
   {
    "duration": 25,
    "start_time": "2021-08-04T06:52:42.435Z"
   },
   {
    "duration": 38,
    "start_time": "2021-08-04T06:52:42.463Z"
   },
   {
    "duration": 54,
    "start_time": "2021-08-04T06:52:42.504Z"
   },
   {
    "duration": 417,
    "start_time": "2021-08-04T06:52:42.561Z"
   },
   {
    "duration": 296,
    "start_time": "2021-08-04T06:52:42.985Z"
   },
   {
    "duration": 11,
    "start_time": "2021-08-04T06:52:43.284Z"
   },
   {
    "duration": 29,
    "start_time": "2021-08-04T06:52:43.298Z"
   },
   {
    "duration": 472,
    "start_time": "2021-08-04T06:52:43.330Z"
   },
   {
    "duration": 469,
    "start_time": "2021-08-04T06:52:43.804Z"
   },
   {
    "duration": 16,
    "start_time": "2021-08-04T06:52:44.276Z"
   },
   {
    "duration": 555,
    "start_time": "2021-08-04T06:52:44.295Z"
   },
   {
    "duration": 5,
    "start_time": "2021-08-04T06:52:44.853Z"
   },
   {
    "duration": 23,
    "start_time": "2021-08-04T06:52:44.862Z"
   },
   {
    "duration": 434,
    "start_time": "2021-08-04T06:52:44.889Z"
   },
   {
    "duration": 13,
    "start_time": "2021-08-04T06:52:45.326Z"
   },
   {
    "duration": 652,
    "start_time": "2021-08-04T06:52:45.343Z"
   },
   {
    "duration": 204,
    "start_time": "2021-08-04T06:52:45.998Z"
   },
   {
    "duration": 5,
    "start_time": "2021-08-04T06:52:46.205Z"
   },
   {
    "duration": 520,
    "start_time": "2021-08-04T06:52:46.213Z"
   },
   {
    "duration": 7,
    "start_time": "2021-08-04T06:52:46.736Z"
   },
   {
    "duration": 329,
    "start_time": "2021-08-04T06:52:46.746Z"
   },
   {
    "duration": 4,
    "start_time": "2021-08-04T06:52:47.086Z"
   },
   {
    "duration": 507,
    "start_time": "2021-08-04T06:52:47.092Z"
   },
   {
    "duration": 6,
    "start_time": "2021-08-04T06:52:47.601Z"
   },
   {
    "duration": 12,
    "start_time": "2021-08-04T06:52:47.609Z"
   },
   {
    "duration": 505,
    "start_time": "2021-08-04T06:52:47.623Z"
   },
   {
    "duration": 5,
    "start_time": "2021-08-04T06:52:48.130Z"
   },
   {
    "duration": 11,
    "start_time": "2021-08-04T06:52:48.138Z"
   },
   {
    "duration": 10,
    "start_time": "2021-08-04T06:52:48.151Z"
   },
   {
    "duration": 109,
    "start_time": "2021-08-04T06:52:48.186Z"
   },
   {
    "duration": 110,
    "start_time": "2021-08-04T06:52:48.298Z"
   },
   {
    "duration": 37,
    "start_time": "2021-08-04T06:52:48.411Z"
   },
   {
    "duration": 106,
    "start_time": "2021-08-04T06:52:48.451Z"
   },
   {
    "duration": 35,
    "start_time": "2021-08-04T06:52:48.560Z"
   },
   {
    "duration": 111,
    "start_time": "2021-08-04T06:52:48.598Z"
   },
   {
    "duration": 54,
    "start_time": "2021-08-04T06:52:48.712Z"
   },
   {
    "duration": 130,
    "start_time": "2021-08-04T06:52:48.769Z"
   },
   {
    "duration": 141,
    "start_time": "2021-08-04T06:52:48.901Z"
   },
   {
    "duration": 9,
    "start_time": "2021-08-04T06:52:49.045Z"
   },
   {
    "duration": 28,
    "start_time": "2021-08-04T06:52:49.057Z"
   },
   {
    "duration": 10,
    "start_time": "2021-08-04T06:52:49.088Z"
   },
   {
    "duration": 5,
    "start_time": "2021-08-04T06:52:49.101Z"
   },
   {
    "duration": 11,
    "start_time": "2021-08-04T06:52:49.114Z"
   },
   {
    "duration": 9,
    "start_time": "2021-08-04T06:52:49.128Z"
   },
   {
    "duration": 49,
    "start_time": "2021-08-04T06:52:49.140Z"
   },
   {
    "duration": 18,
    "start_time": "2021-08-04T06:52:49.191Z"
   },
   {
    "duration": 10,
    "start_time": "2021-08-04T06:52:49.212Z"
   },
   {
    "duration": 10,
    "start_time": "2021-08-04T06:52:49.225Z"
   },
   {
    "duration": 9,
    "start_time": "2021-08-04T06:52:49.237Z"
   },
   {
    "duration": 37,
    "start_time": "2021-08-04T06:52:49.248Z"
   },
   {
    "duration": 6,
    "start_time": "2021-08-04T06:52:49.288Z"
   },
   {
    "duration": 15,
    "start_time": "2021-08-04T06:52:49.297Z"
   },
   {
    "duration": 16,
    "start_time": "2021-08-04T06:52:49.315Z"
   },
   {
    "duration": 504,
    "start_time": "2021-08-04T06:54:55.246Z"
   },
   {
    "duration": 6,
    "start_time": "2021-08-04T06:55:09.247Z"
   },
   {
    "duration": 296,
    "start_time": "2021-08-04T06:55:53.441Z"
   },
   {
    "duration": 11,
    "start_time": "2021-08-04T06:59:36.315Z"
   },
   {
    "duration": 10,
    "start_time": "2021-08-04T07:00:08.843Z"
   },
   {
    "duration": 8,
    "start_time": "2021-08-04T07:00:37.245Z"
   },
   {
    "duration": 13,
    "start_time": "2021-08-04T07:01:21.953Z"
   },
   {
    "duration": 7,
    "start_time": "2021-08-04T07:01:59.007Z"
   },
   {
    "duration": 8,
    "start_time": "2021-08-04T07:01:59.874Z"
   },
   {
    "duration": 11,
    "start_time": "2021-08-04T07:02:00.336Z"
   },
   {
    "duration": 6,
    "start_time": "2021-08-04T07:02:01.196Z"
   },
   {
    "duration": 20,
    "start_time": "2021-08-04T07:02:01.589Z"
   },
   {
    "duration": 12,
    "start_time": "2021-08-04T07:02:02.642Z"
   },
   {
    "duration": 8,
    "start_time": "2021-08-04T07:02:03.267Z"
   },
   {
    "duration": 4,
    "start_time": "2021-08-04T07:02:03.848Z"
   },
   {
    "duration": 6,
    "start_time": "2021-08-04T07:02:04.232Z"
   },
   {
    "duration": 8,
    "start_time": "2021-08-04T07:02:09.169Z"
   },
   {
    "duration": 357,
    "start_time": "2021-08-04T07:02:11.303Z"
   },
   {
    "duration": 279,
    "start_time": "2021-08-04T07:02:13.263Z"
   },
   {
    "duration": 10,
    "start_time": "2021-08-04T07:02:14.872Z"
   },
   {
    "duration": 11,
    "start_time": "2021-08-04T07:02:16.157Z"
   },
   {
    "duration": 448,
    "start_time": "2021-08-04T07:02:17.970Z"
   },
   {
    "duration": 414,
    "start_time": "2021-08-04T07:02:25.246Z"
   },
   {
    "duration": 10,
    "start_time": "2021-08-04T07:02:30.914Z"
   },
   {
    "duration": 514,
    "start_time": "2021-08-04T07:02:31.875Z"
   },
   {
    "duration": 7,
    "start_time": "2021-08-04T07:02:34.181Z"
   },
   {
    "duration": 8,
    "start_time": "2021-08-04T07:02:35.025Z"
   },
   {
    "duration": 408,
    "start_time": "2021-08-04T07:02:35.907Z"
   },
   {
    "duration": 12,
    "start_time": "2021-08-04T07:02:39.163Z"
   },
   {
    "duration": 500,
    "start_time": "2021-08-04T07:02:40.302Z"
   },
   {
    "duration": 202,
    "start_time": "2021-08-04T07:02:43.028Z"
   },
   {
    "duration": 6,
    "start_time": "2021-08-04T07:02:44.358Z"
   },
   {
    "duration": 622,
    "start_time": "2021-08-04T07:02:45.880Z"
   },
   {
    "duration": 6,
    "start_time": "2021-08-04T07:03:04.094Z"
   },
   {
    "duration": 290,
    "start_time": "2021-08-04T07:03:41.448Z"
   },
   {
    "duration": 305,
    "start_time": "2021-08-04T07:04:18.918Z"
   },
   {
    "duration": 4,
    "start_time": "2021-08-04T07:04:35.065Z"
   },
   {
    "duration": 482,
    "start_time": "2021-08-04T07:04:36.724Z"
   },
   {
    "duration": 6,
    "start_time": "2021-08-04T07:04:42.020Z"
   },
   {
    "duration": 5,
    "start_time": "2021-08-04T07:04:42.613Z"
   },
   {
    "duration": 498,
    "start_time": "2021-08-04T07:04:43.355Z"
   },
   {
    "duration": 7,
    "start_time": "2021-08-04T07:04:48.415Z"
   },
   {
    "duration": 7,
    "start_time": "2021-08-04T07:04:53.882Z"
   },
   {
    "duration": 8,
    "start_time": "2021-08-04T07:06:13.202Z"
   },
   {
    "duration": 97,
    "start_time": "2021-08-04T07:06:15.171Z"
   },
   {
    "duration": 105,
    "start_time": "2021-08-04T07:06:16.281Z"
   },
   {
    "duration": 24,
    "start_time": "2021-08-04T07:06:17.368Z"
   },
   {
    "duration": 106,
    "start_time": "2021-08-04T07:06:19.398Z"
   },
   {
    "duration": 26,
    "start_time": "2021-08-04T07:06:20.846Z"
   },
   {
    "duration": 100,
    "start_time": "2021-08-04T07:06:22.324Z"
   },
   {
    "duration": 52,
    "start_time": "2021-08-04T07:06:24.276Z"
   },
   {
    "duration": 104,
    "start_time": "2021-08-04T07:06:25.689Z"
   },
   {
    "duration": 107,
    "start_time": "2021-08-04T07:06:27.441Z"
   },
   {
    "duration": 9,
    "start_time": "2021-08-04T07:06:30.018Z"
   },
   {
    "duration": 6,
    "start_time": "2021-08-04T07:06:31.410Z"
   },
   {
    "duration": 8,
    "start_time": "2021-08-04T07:09:36.412Z"
   },
   {
    "duration": 5,
    "start_time": "2021-08-04T07:10:11.043Z"
   },
   {
    "duration": 9,
    "start_time": "2021-08-04T07:11:06.576Z"
   },
   {
    "duration": 6,
    "start_time": "2021-08-04T07:11:07.486Z"
   },
   {
    "duration": 10,
    "start_time": "2021-08-04T07:11:12.412Z"
   },
   {
    "duration": 10,
    "start_time": "2021-08-04T07:11:44.657Z"
   },
   {
    "duration": 8,
    "start_time": "2021-08-04T07:12:07.060Z"
   },
   {
    "duration": 6,
    "start_time": "2021-08-04T07:12:07.798Z"
   },
   {
    "duration": 6,
    "start_time": "2021-08-04T07:12:08.471Z"
   },
   {
    "duration": 9,
    "start_time": "2021-08-04T07:12:09.279Z"
   },
   {
    "duration": 9,
    "start_time": "2021-08-04T07:12:10.948Z"
   },
   {
    "duration": 8,
    "start_time": "2021-08-04T07:12:12.052Z"
   },
   {
    "duration": 8,
    "start_time": "2021-08-04T07:12:57.299Z"
   },
   {
    "duration": 6,
    "start_time": "2021-08-04T07:13:15.572Z"
   },
   {
    "duration": 14,
    "start_time": "2021-08-04T07:14:31.773Z"
   },
   {
    "duration": 6,
    "start_time": "2021-08-04T07:51:53.359Z"
   },
   {
    "duration": 7,
    "start_time": "2021-08-04T07:51:55.567Z"
   },
   {
    "duration": 8,
    "start_time": "2021-08-04T07:51:56.359Z"
   },
   {
    "duration": 8,
    "start_time": "2021-08-04T07:51:57.729Z"
   },
   {
    "duration": 11,
    "start_time": "2021-08-04T07:52:00.033Z"
   },
   {
    "duration": 5,
    "start_time": "2021-08-04T07:52:06.429Z"
   },
   {
    "duration": 1578,
    "start_time": "2021-08-04T07:52:26.704Z"
   },
   {
    "duration": 20,
    "start_time": "2021-08-04T07:52:28.286Z"
   },
   {
    "duration": 17,
    "start_time": "2021-08-04T07:52:28.309Z"
   },
   {
    "duration": 16,
    "start_time": "2021-08-04T07:52:28.329Z"
   },
   {
    "duration": 40,
    "start_time": "2021-08-04T07:52:28.348Z"
   },
   {
    "duration": 11,
    "start_time": "2021-08-04T07:52:28.391Z"
   },
   {
    "duration": 33,
    "start_time": "2021-08-04T07:52:28.404Z"
   },
   {
    "duration": 26,
    "start_time": "2021-08-04T07:52:28.441Z"
   },
   {
    "duration": 28,
    "start_time": "2021-08-04T07:52:28.470Z"
   },
   {
    "duration": 23,
    "start_time": "2021-08-04T07:52:28.500Z"
   },
   {
    "duration": 794,
    "start_time": "2021-08-04T07:52:28.525Z"
   },
   {
    "duration": 51,
    "start_time": "2021-08-04T07:52:29.321Z"
   },
   {
    "duration": 31,
    "start_time": "2021-08-04T07:52:29.374Z"
   },
   {
    "duration": 23,
    "start_time": "2021-08-04T07:52:29.408Z"
   },
   {
    "duration": 34,
    "start_time": "2021-08-04T07:52:29.433Z"
   },
   {
    "duration": 35,
    "start_time": "2021-08-04T07:52:29.469Z"
   },
   {
    "duration": 23,
    "start_time": "2021-08-04T07:52:29.507Z"
   },
   {
    "duration": 32,
    "start_time": "2021-08-04T07:52:29.533Z"
   },
   {
    "duration": 22,
    "start_time": "2021-08-04T07:52:29.567Z"
   },
   {
    "duration": 23,
    "start_time": "2021-08-04T07:52:29.591Z"
   },
   {
    "duration": 29,
    "start_time": "2021-08-04T07:52:29.616Z"
   },
   {
    "duration": 13,
    "start_time": "2021-08-04T07:52:29.647Z"
   },
   {
    "duration": 37,
    "start_time": "2021-08-04T07:52:29.666Z"
   },
   {
    "duration": 27,
    "start_time": "2021-08-04T07:52:29.708Z"
   },
   {
    "duration": 23,
    "start_time": "2021-08-04T07:52:29.737Z"
   },
   {
    "duration": 23,
    "start_time": "2021-08-04T07:52:29.763Z"
   },
   {
    "duration": 19,
    "start_time": "2021-08-04T07:52:29.788Z"
   },
   {
    "duration": 32,
    "start_time": "2021-08-04T07:52:29.809Z"
   },
   {
    "duration": 388,
    "start_time": "2021-08-04T07:52:29.843Z"
   },
   {
    "duration": 300,
    "start_time": "2021-08-04T07:52:30.233Z"
   },
   {
    "duration": 10,
    "start_time": "2021-08-04T07:52:30.535Z"
   },
   {
    "duration": 37,
    "start_time": "2021-08-04T07:52:30.548Z"
   },
   {
    "duration": 476,
    "start_time": "2021-08-04T07:52:30.588Z"
   },
   {
    "duration": 438,
    "start_time": "2021-08-04T07:52:31.067Z"
   },
   {
    "duration": 11,
    "start_time": "2021-08-04T07:52:31.508Z"
   },
   {
    "duration": 611,
    "start_time": "2021-08-04T07:52:31.522Z"
   },
   {
    "duration": 7,
    "start_time": "2021-08-04T07:52:32.137Z"
   },
   {
    "duration": 32,
    "start_time": "2021-08-04T07:52:32.147Z"
   },
   {
    "duration": 429,
    "start_time": "2021-08-04T07:52:32.182Z"
   },
   {
    "duration": 13,
    "start_time": "2021-08-04T07:52:32.615Z"
   },
   {
    "duration": 630,
    "start_time": "2021-08-04T07:52:32.630Z"
   },
   {
    "duration": 222,
    "start_time": "2021-08-04T07:52:33.263Z"
   },
   {
    "duration": 4,
    "start_time": "2021-08-04T07:52:33.488Z"
   },
   {
    "duration": 523,
    "start_time": "2021-08-04T07:52:33.494Z"
   },
   {
    "duration": 8,
    "start_time": "2021-08-04T07:52:34.020Z"
   },
   {
    "duration": 343,
    "start_time": "2021-08-04T07:52:34.031Z"
   },
   {
    "duration": 10,
    "start_time": "2021-08-04T07:52:34.376Z"
   },
   {
    "duration": 492,
    "start_time": "2021-08-04T07:52:34.388Z"
   },
   {
    "duration": 7,
    "start_time": "2021-08-04T07:52:34.882Z"
   },
   {
    "duration": 13,
    "start_time": "2021-08-04T07:52:34.893Z"
   },
   {
    "duration": 583,
    "start_time": "2021-08-04T07:52:34.908Z"
   },
   {
    "duration": 6,
    "start_time": "2021-08-04T07:52:35.493Z"
   },
   {
    "duration": 127,
    "start_time": "2021-08-04T07:52:35.502Z"
   },
   {
    "duration": 114,
    "start_time": "2021-08-04T07:52:35.632Z"
   },
   {
    "duration": 203,
    "start_time": "2021-08-04T07:52:35.749Z"
   },
   {
    "duration": 291,
    "start_time": "2021-08-04T07:52:35.954Z"
   },
   {
    "duration": 102,
    "start_time": "2021-08-04T07:52:36.247Z"
   },
   {
    "duration": 202,
    "start_time": "2021-08-04T07:52:36.352Z"
   },
   {
    "duration": 115,
    "start_time": "2021-08-04T07:52:36.556Z"
   },
   {
    "duration": 133,
    "start_time": "2021-08-04T07:52:36.673Z"
   },
   {
    "duration": 197,
    "start_time": "2021-08-04T07:52:36.809Z"
   },
   {
    "duration": 119,
    "start_time": "2021-08-04T07:52:37.009Z"
   },
   {
    "duration": 159,
    "start_time": "2021-08-04T07:52:37.130Z"
   },
   {
    "duration": 9,
    "start_time": "2021-08-04T07:52:37.291Z"
   },
   {
    "duration": 37,
    "start_time": "2021-08-04T07:52:37.302Z"
   },
   {
    "duration": 26,
    "start_time": "2021-08-04T07:52:37.341Z"
   },
   {
    "duration": 16,
    "start_time": "2021-08-04T07:52:37.370Z"
   },
   {
    "duration": 11,
    "start_time": "2021-08-04T07:52:37.393Z"
   },
   {
    "duration": 25,
    "start_time": "2021-08-04T07:52:37.407Z"
   },
   {
    "duration": 15,
    "start_time": "2021-08-04T07:52:37.435Z"
   },
   {
    "duration": 16,
    "start_time": "2021-08-04T07:52:37.452Z"
   },
   {
    "duration": 17,
    "start_time": "2021-08-04T07:52:37.471Z"
   },
   {
    "duration": 28,
    "start_time": "2021-08-04T07:52:37.490Z"
   },
   {
    "duration": 13,
    "start_time": "2021-08-04T07:52:37.520Z"
   },
   {
    "duration": 38,
    "start_time": "2021-08-04T07:52:37.535Z"
   },
   {
    "duration": 33,
    "start_time": "2021-08-04T07:52:37.576Z"
   },
   {
    "duration": 30,
    "start_time": "2021-08-04T07:52:37.612Z"
   },
   {
    "duration": 30,
    "start_time": "2021-08-04T07:52:37.644Z"
   },
   {
    "duration": 9,
    "start_time": "2021-08-04T07:53:45.823Z"
   },
   {
    "duration": 9,
    "start_time": "2021-08-04T07:53:46.520Z"
   },
   {
    "duration": 7,
    "start_time": "2021-08-04T07:53:49.305Z"
   },
   {
    "duration": 6,
    "start_time": "2021-08-04T07:53:51.587Z"
   },
   {
    "duration": 6,
    "start_time": "2021-08-04T07:53:52.634Z"
   },
   {
    "duration": 8,
    "start_time": "2021-08-04T07:53:53.584Z"
   },
   {
    "duration": 8,
    "start_time": "2021-08-04T07:53:54.822Z"
   },
   {
    "duration": 8,
    "start_time": "2021-08-04T07:53:56.219Z"
   },
   {
    "duration": 6,
    "start_time": "2021-08-04T07:53:57.182Z"
   },
   {
    "duration": 1548,
    "start_time": "2021-08-04T08:00:31.227Z"
   },
   {
    "duration": 20,
    "start_time": "2021-08-04T08:00:32.777Z"
   },
   {
    "duration": 19,
    "start_time": "2021-08-04T08:00:32.800Z"
   },
   {
    "duration": 8,
    "start_time": "2021-08-04T08:00:32.822Z"
   },
   {
    "duration": 24,
    "start_time": "2021-08-04T08:00:32.833Z"
   },
   {
    "duration": 16,
    "start_time": "2021-08-04T08:00:32.860Z"
   },
   {
    "duration": 7,
    "start_time": "2021-08-04T08:00:32.887Z"
   },
   {
    "duration": 19,
    "start_time": "2021-08-04T08:00:32.898Z"
   },
   {
    "duration": 14,
    "start_time": "2021-08-04T08:00:32.920Z"
   },
   {
    "duration": 20,
    "start_time": "2021-08-04T08:00:32.937Z"
   },
   {
    "duration": 830,
    "start_time": "2021-08-04T08:00:32.959Z"
   },
   {
    "duration": 41,
    "start_time": "2021-08-04T08:00:33.791Z"
   },
   {
    "duration": 39,
    "start_time": "2021-08-04T08:00:33.834Z"
   },
   {
    "duration": 29,
    "start_time": "2021-08-04T08:00:33.876Z"
   },
   {
    "duration": 24,
    "start_time": "2021-08-04T08:00:33.908Z"
   },
   {
    "duration": 33,
    "start_time": "2021-08-04T08:00:33.935Z"
   },
   {
    "duration": 25,
    "start_time": "2021-08-04T08:00:33.971Z"
   },
   {
    "duration": 32,
    "start_time": "2021-08-04T08:00:33.999Z"
   },
   {
    "duration": 34,
    "start_time": "2021-08-04T08:00:34.034Z"
   },
   {
    "duration": 27,
    "start_time": "2021-08-04T08:00:34.070Z"
   },
   {
    "duration": 33,
    "start_time": "2021-08-04T08:00:34.099Z"
   },
   {
    "duration": 26,
    "start_time": "2021-08-04T08:00:34.135Z"
   },
   {
    "duration": 37,
    "start_time": "2021-08-04T08:00:34.167Z"
   },
   {
    "duration": 33,
    "start_time": "2021-08-04T08:00:34.208Z"
   },
   {
    "duration": 22,
    "start_time": "2021-08-04T08:00:34.243Z"
   },
   {
    "duration": 7,
    "start_time": "2021-08-04T08:00:34.268Z"
   },
   {
    "duration": 23,
    "start_time": "2021-08-04T08:00:34.278Z"
   },
   {
    "duration": 22,
    "start_time": "2021-08-04T08:00:34.303Z"
   },
   {
    "duration": 367,
    "start_time": "2021-08-04T08:00:34.328Z"
   },
   {
    "duration": 294,
    "start_time": "2021-08-04T08:00:34.698Z"
   },
   {
    "duration": 11,
    "start_time": "2021-08-04T08:00:34.995Z"
   },
   {
    "duration": 26,
    "start_time": "2021-08-04T08:00:35.008Z"
   },
   {
    "duration": 449,
    "start_time": "2021-08-04T08:00:35.036Z"
   },
   {
    "duration": 443,
    "start_time": "2021-08-04T08:00:35.488Z"
   },
   {
    "duration": 9,
    "start_time": "2021-08-04T08:00:35.934Z"
   },
   {
    "duration": 577,
    "start_time": "2021-08-04T08:00:35.945Z"
   },
   {
    "duration": 5,
    "start_time": "2021-08-04T08:00:36.525Z"
   },
   {
    "duration": 9,
    "start_time": "2021-08-04T08:00:36.532Z"
   },
   {
    "duration": 437,
    "start_time": "2021-08-04T08:00:36.544Z"
   },
   {
    "duration": 12,
    "start_time": "2021-08-04T08:00:36.986Z"
   },
   {
    "duration": 613,
    "start_time": "2021-08-04T08:00:37.001Z"
   },
   {
    "duration": 227,
    "start_time": "2021-08-04T08:00:37.616Z"
   },
   {
    "duration": 4,
    "start_time": "2021-08-04T08:00:37.846Z"
   },
   {
    "duration": 540,
    "start_time": "2021-08-04T08:00:37.853Z"
   },
   {
    "duration": 6,
    "start_time": "2021-08-04T08:00:38.395Z"
   },
   {
    "duration": 335,
    "start_time": "2021-08-04T08:00:38.404Z"
   },
   {
    "duration": 4,
    "start_time": "2021-08-04T08:00:38.742Z"
   },
   {
    "duration": 522,
    "start_time": "2021-08-04T08:00:38.749Z"
   },
   {
    "duration": 11,
    "start_time": "2021-08-04T08:00:39.274Z"
   },
   {
    "duration": 17,
    "start_time": "2021-08-04T08:00:39.288Z"
   },
   {
    "duration": 489,
    "start_time": "2021-08-04T08:00:39.307Z"
   },
   {
    "duration": 6,
    "start_time": "2021-08-04T08:00:39.798Z"
   },
   {
    "duration": 23,
    "start_time": "2021-08-04T08:00:39.807Z"
   },
   {
    "duration": 14,
    "start_time": "2021-08-04T08:00:39.832Z"
   },
   {
    "duration": 105,
    "start_time": "2021-08-04T08:00:39.849Z"
   },
   {
    "duration": 119,
    "start_time": "2021-08-04T08:00:39.957Z"
   },
   {
    "duration": 38,
    "start_time": "2021-08-04T08:00:40.078Z"
   },
   {
    "duration": 107,
    "start_time": "2021-08-04T08:00:40.120Z"
   },
   {
    "duration": 24,
    "start_time": "2021-08-04T08:00:40.230Z"
   },
   {
    "duration": 144,
    "start_time": "2021-08-04T08:00:40.257Z"
   },
   {
    "duration": 57,
    "start_time": "2021-08-04T08:00:40.403Z"
   },
   {
    "duration": 107,
    "start_time": "2021-08-04T08:00:40.463Z"
   },
   {
    "duration": 122,
    "start_time": "2021-08-04T08:00:40.586Z"
   },
   {
    "duration": 8,
    "start_time": "2021-08-04T08:00:40.710Z"
   },
   {
    "duration": 19,
    "start_time": "2021-08-04T08:00:40.721Z"
   },
   {
    "duration": 12,
    "start_time": "2021-08-04T08:00:40.742Z"
   },
   {
    "duration": 5,
    "start_time": "2021-08-04T08:00:40.757Z"
   },
   {
    "duration": 10,
    "start_time": "2021-08-04T08:00:40.786Z"
   },
   {
    "duration": 11,
    "start_time": "2021-08-04T08:00:40.799Z"
   },
   {
    "duration": 12,
    "start_time": "2021-08-04T08:00:40.812Z"
   },
   {
    "duration": 14,
    "start_time": "2021-08-04T08:00:40.827Z"
   },
   {
    "duration": 42,
    "start_time": "2021-08-04T08:00:40.844Z"
   },
   {
    "duration": 11,
    "start_time": "2021-08-04T08:00:40.889Z"
   },
   {
    "duration": 10,
    "start_time": "2021-08-04T08:00:40.903Z"
   },
   {
    "duration": 15,
    "start_time": "2021-08-04T08:00:40.916Z"
   },
   {
    "duration": 6,
    "start_time": "2021-08-04T08:00:40.934Z"
   },
   {
    "duration": 44,
    "start_time": "2021-08-04T08:00:40.942Z"
   },
   {
    "duration": 13,
    "start_time": "2021-08-04T08:00:40.989Z"
   },
   {
    "duration": 1536,
    "start_time": "2021-08-04T08:06:53.236Z"
   },
   {
    "duration": 27,
    "start_time": "2021-08-04T08:06:54.775Z"
   },
   {
    "duration": 15,
    "start_time": "2021-08-04T08:06:54.805Z"
   },
   {
    "duration": 7,
    "start_time": "2021-08-04T08:06:54.822Z"
   },
   {
    "duration": 25,
    "start_time": "2021-08-04T08:06:54.832Z"
   },
   {
    "duration": 13,
    "start_time": "2021-08-04T08:06:54.860Z"
   },
   {
    "duration": 7,
    "start_time": "2021-08-04T08:06:54.885Z"
   },
   {
    "duration": 16,
    "start_time": "2021-08-04T08:06:54.895Z"
   },
   {
    "duration": 8,
    "start_time": "2021-08-04T08:06:54.914Z"
   },
   {
    "duration": 16,
    "start_time": "2021-08-04T08:06:54.925Z"
   },
   {
    "duration": 844,
    "start_time": "2021-08-04T08:06:54.944Z"
   },
   {
    "duration": 41,
    "start_time": "2021-08-04T08:06:55.791Z"
   },
   {
    "duration": 36,
    "start_time": "2021-08-04T08:06:55.835Z"
   },
   {
    "duration": 30,
    "start_time": "2021-08-04T08:06:55.874Z"
   },
   {
    "duration": 22,
    "start_time": "2021-08-04T08:06:55.906Z"
   },
   {
    "duration": 43,
    "start_time": "2021-08-04T08:06:55.930Z"
   },
   {
    "duration": 18,
    "start_time": "2021-08-04T08:06:55.976Z"
   },
   {
    "duration": 21,
    "start_time": "2021-08-04T08:06:55.996Z"
   },
   {
    "duration": 24,
    "start_time": "2021-08-04T08:06:56.019Z"
   },
   {
    "duration": 19,
    "start_time": "2021-08-04T08:06:56.046Z"
   },
   {
    "duration": 32,
    "start_time": "2021-08-04T08:06:56.067Z"
   },
   {
    "duration": 20,
    "start_time": "2021-08-04T08:06:56.102Z"
   },
   {
    "duration": 37,
    "start_time": "2021-08-04T08:06:56.128Z"
   },
   {
    "duration": 14,
    "start_time": "2021-08-04T08:06:56.169Z"
   },
   {
    "duration": 9,
    "start_time": "2021-08-04T08:06:56.186Z"
   },
   {
    "duration": 5,
    "start_time": "2021-08-04T08:06:56.197Z"
   },
   {
    "duration": 13,
    "start_time": "2021-08-04T08:06:56.204Z"
   },
   {
    "duration": 11,
    "start_time": "2021-08-04T08:06:56.219Z"
   },
   {
    "duration": 387,
    "start_time": "2021-08-04T08:06:56.233Z"
   },
   {
    "duration": 300,
    "start_time": "2021-08-04T08:06:56.622Z"
   },
   {
    "duration": 10,
    "start_time": "2021-08-04T08:06:56.924Z"
   },
   {
    "duration": 25,
    "start_time": "2021-08-04T08:06:56.937Z"
   },
   {
    "duration": 459,
    "start_time": "2021-08-04T08:06:56.965Z"
   },
   {
    "duration": 444,
    "start_time": "2021-08-04T08:06:57.426Z"
   },
   {
    "duration": 18,
    "start_time": "2021-08-04T08:06:57.872Z"
   },
   {
    "duration": 547,
    "start_time": "2021-08-04T08:06:57.893Z"
   },
   {
    "duration": 5,
    "start_time": "2021-08-04T08:06:58.442Z"
   },
   {
    "duration": 30,
    "start_time": "2021-08-04T08:06:58.449Z"
   },
   {
    "duration": 419,
    "start_time": "2021-08-04T08:06:58.481Z"
   },
   {
    "duration": 13,
    "start_time": "2021-08-04T08:06:58.902Z"
   },
   {
    "duration": 620,
    "start_time": "2021-08-04T08:06:58.918Z"
   },
   {
    "duration": 179,
    "start_time": "2021-08-04T08:06:59.540Z"
   },
   {
    "duration": 4,
    "start_time": "2021-08-04T08:06:59.721Z"
   },
   {
    "duration": 544,
    "start_time": "2021-08-04T08:06:59.728Z"
   },
   {
    "duration": 15,
    "start_time": "2021-08-04T08:07:00.274Z"
   },
   {
    "duration": 349,
    "start_time": "2021-08-04T08:07:00.292Z"
   },
   {
    "duration": 4,
    "start_time": "2021-08-04T08:07:00.644Z"
   },
   {
    "duration": 526,
    "start_time": "2021-08-04T08:07:00.651Z"
   },
   {
    "duration": 10,
    "start_time": "2021-08-04T08:07:01.180Z"
   },
   {
    "duration": 13,
    "start_time": "2021-08-04T08:07:01.193Z"
   },
   {
    "duration": 486,
    "start_time": "2021-08-04T08:07:01.209Z"
   },
   {
    "duration": 7,
    "start_time": "2021-08-04T08:07:01.698Z"
   },
   {
    "duration": 44,
    "start_time": "2021-08-04T08:07:01.708Z"
   },
   {
    "duration": 32,
    "start_time": "2021-08-04T08:07:01.755Z"
   },
   {
    "duration": 103,
    "start_time": "2021-08-04T08:07:01.789Z"
   },
   {
    "duration": 125,
    "start_time": "2021-08-04T08:07:01.895Z"
   },
   {
    "duration": 87,
    "start_time": "2021-08-04T08:07:02.022Z"
   },
   {
    "duration": 109,
    "start_time": "2021-08-04T08:07:02.111Z"
   },
   {
    "duration": 37,
    "start_time": "2021-08-04T08:07:02.222Z"
   },
   {
    "duration": 101,
    "start_time": "2021-08-04T08:07:02.262Z"
   },
   {
    "duration": 64,
    "start_time": "2021-08-04T08:07:02.367Z"
   },
   {
    "duration": 113,
    "start_time": "2021-08-04T08:07:02.434Z"
   },
   {
    "duration": 116,
    "start_time": "2021-08-04T08:07:02.550Z"
   },
   {
    "duration": 17,
    "start_time": "2021-08-04T08:07:02.669Z"
   },
   {
    "duration": 12,
    "start_time": "2021-08-04T08:07:02.688Z"
   },
   {
    "duration": 27,
    "start_time": "2021-08-04T08:07:02.703Z"
   },
   {
    "duration": 8,
    "start_time": "2021-08-04T08:07:02.733Z"
   },
   {
    "duration": 31,
    "start_time": "2021-08-04T08:07:02.748Z"
   },
   {
    "duration": 20,
    "start_time": "2021-08-04T08:07:02.781Z"
   },
   {
    "duration": 21,
    "start_time": "2021-08-04T08:07:02.804Z"
   },
   {
    "duration": 30,
    "start_time": "2021-08-04T08:07:02.829Z"
   },
   {
    "duration": 27,
    "start_time": "2021-08-04T08:07:02.861Z"
   },
   {
    "duration": 17,
    "start_time": "2021-08-04T08:07:02.890Z"
   },
   {
    "duration": 20,
    "start_time": "2021-08-04T08:07:02.909Z"
   },
   {
    "duration": 12,
    "start_time": "2021-08-04T08:07:02.932Z"
   },
   {
    "duration": 6,
    "start_time": "2021-08-04T08:07:02.946Z"
   },
   {
    "duration": 17,
    "start_time": "2021-08-04T08:07:02.954Z"
   },
   {
    "duration": 14,
    "start_time": "2021-08-04T08:07:02.986Z"
   },
   {
    "duration": 129,
    "start_time": "2021-08-04T16:17:25.431Z"
   }
  ],
  "kernelspec": {
   "display_name": "Python 3",
   "language": "python",
   "name": "python3"
  },
  "language_info": {
   "codemirror_mode": {
    "name": "ipython",
    "version": 3
   },
   "file_extension": ".py",
   "mimetype": "text/x-python",
   "name": "python",
   "nbconvert_exporter": "python",
   "pygments_lexer": "ipython3",
   "version": "3.8.3"
  },
  "toc": {
   "base_numbering": 1,
   "nav_menu": {},
   "number_sections": true,
   "sideBar": true,
   "skip_h1_title": true,
   "title_cell": "Table of Contents",
   "title_sidebar": "Contents",
   "toc_cell": false,
   "toc_position": {},
   "toc_section_display": true,
   "toc_window_display": false
  }
 },
 "nbformat": 4,
 "nbformat_minor": 2
}
