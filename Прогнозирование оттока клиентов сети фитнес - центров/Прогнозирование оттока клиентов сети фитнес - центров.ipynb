{
 "cells": [
  {
   "cell_type": "markdown",
   "metadata": {},
   "source": [
    "# Прогнозирование оттока клиентов сети фитнес - центров."
   ]
  },
  {
   "cell_type": "markdown",
   "metadata": {},
   "source": [
    "Помочь сети фитнес-центров «Культурист-датасаентист» разработать стратегию взаимодействия с клиентами на основе аналитических данных. Задача — провести анализ и подготовить план действий по удержанию клиентов:\n",
    "\n",
    "- научиться прогнозировать вероятность оттока (на уровне следующего месяца) для каждого клиента;\n",
    "- сформировать типичные портреты клиентов: выделить несколько наиболее ярких групп и охарактеризовать их основные свойства;\n",
    "- проанализировать основные признаки, наиболее сильно влияющие на отток;\n",
    "- сформулировать основные выводы и разработать рекомендации по повышению качества работы с клиентами:\n",
    "\n",
    "    - 1) выделить целевые группы клиентов;\n",
    "    - 2) предложить меры по снижению оттока;\n",
    "    - 3) определить другие особенности взаимодействия с клиентами."
   ]
  },
  {
   "cell_type": "markdown",
   "metadata": {},
   "source": [
    "## Предобработка данных."
   ]
  },
  {
   "cell_type": "code",
   "execution_count": 1,
   "metadata": {},
   "outputs": [],
   "source": [
    "import pandas as pd\n",
    "import seaborn as sns\n",
    "import numpy as np\n",
    "from sklearn.preprocessing import StandardScaler\n",
    "from sklearn.model_selection import train_test_split\n",
    "from sklearn.linear_model import Lasso, Ridge\n",
    "from sklearn.tree import DecisionTreeClassifier\n",
    "from sklearn.linear_model import LogisticRegression\n",
    "from sklearn.ensemble import RandomForestClassifier\n",
    "from sklearn.metrics import accuracy_score, precision_score, recall_score, f1_score,roc_auc_score\n",
    "from sklearn.metrics import silhouette_score\n",
    "from sklearn.cluster import KMeans\n",
    "import matplotlib.pyplot as plt\n",
    "from sklearn.metrics import mean_absolute_error, mean_squared_error, r2_score\n",
    "from scipy.cluster.hierarchy import dendrogram, linkage\n",
    "import warnings"
   ]
  },
  {
   "cell_type": "code",
   "execution_count": 2,
   "metadata": {},
   "outputs": [],
   "source": [
    "try:\n",
    "    url = 'https://drive.google.com/file/d/11fJ_IHomNGCSzQzsT3_nIHQbJI3GJBng/view?usp=sharing'\n",
    "    path = 'https://drive.google.com/uc?export=download&id='+url.split('/')[-2]\n",
    "    df = pd.read_csv(path)\n",
    "except:\n",
    "    raise"
   ]
  },
  {
   "cell_type": "markdown",
   "metadata": {},
   "source": [
    "Импортируем основные библиотеки и прочтем датасет."
   ]
  },
  {
   "cell_type": "code",
   "execution_count": 3,
   "metadata": {
    "scrolled": true
   },
   "outputs": [
    {
     "name": "stdout",
     "output_type": "stream",
     "text": [
      "<class 'pandas.core.frame.DataFrame'>\n",
      "RangeIndex: 4000 entries, 0 to 3999\n",
      "Data columns (total 14 columns):\n",
      " #   Column                             Non-Null Count  Dtype  \n",
      "---  ------                             --------------  -----  \n",
      " 0   gender                             4000 non-null   int64  \n",
      " 1   Near_Location                      4000 non-null   int64  \n",
      " 2   Partner                            4000 non-null   int64  \n",
      " 3   Promo_friends                      4000 non-null   int64  \n",
      " 4   Phone                              4000 non-null   int64  \n",
      " 5   Contract_period                    4000 non-null   int64  \n",
      " 6   Group_visits                       4000 non-null   int64  \n",
      " 7   Age                                4000 non-null   int64  \n",
      " 8   Avg_additional_charges_total       4000 non-null   float64\n",
      " 9   Month_to_end_contract              4000 non-null   float64\n",
      " 10  Lifetime                           4000 non-null   int64  \n",
      " 11  Avg_class_frequency_total          4000 non-null   float64\n",
      " 12  Avg_class_frequency_current_month  4000 non-null   float64\n",
      " 13  Churn                              4000 non-null   int64  \n",
      "dtypes: float64(4), int64(10)\n",
      "memory usage: 437.6 KB\n"
     ]
    }
   ],
   "source": [
    "df.info()"
   ]
  },
  {
   "cell_type": "code",
   "execution_count": 4,
   "metadata": {},
   "outputs": [
    {
     "data": {
      "text/plain": [
       "(4000, 14)"
      ]
     },
     "execution_count": 4,
     "metadata": {},
     "output_type": "execute_result"
    }
   ],
   "source": [
    "df.shape"
   ]
  },
  {
   "cell_type": "markdown",
   "metadata": {},
   "source": [
    "В датасете 4000 записей. На первый взгляд пропусков нет ни в одном поле."
   ]
  },
  {
   "cell_type": "code",
   "execution_count": 5,
   "metadata": {},
   "outputs": [],
   "source": [
    "df.columns = map(str.lower, df.columns)"
   ]
  },
  {
   "cell_type": "markdown",
   "metadata": {},
   "source": [
    "Приведем наименования столбцов к строчным буквам для удобства."
   ]
  },
  {
   "cell_type": "code",
   "execution_count": 6,
   "metadata": {},
   "outputs": [
    {
     "name": "stdout",
     "output_type": "stream",
     "text": [
      "gender - 0.0%\n",
      "near_location - 0.0%\n",
      "partner - 0.0%\n",
      "promo_friends - 0.0%\n",
      "phone - 0.0%\n",
      "contract_period - 0.0%\n",
      "group_visits - 0.0%\n",
      "age - 0.0%\n",
      "avg_additional_charges_total - 0.0%\n",
      "month_to_end_contract - 0.0%\n",
      "lifetime - 0.0%\n",
      "avg_class_frequency_total - 0.0%\n",
      "avg_class_frequency_current_month - 0.0%\n",
      "churn - 0.0%\n"
     ]
    }
   ],
   "source": [
    "cols = df.columns[:14]\n",
    "for col in df.columns:\n",
    "    pct_missing = np.mean(df[col].isna())\n",
    "    print('{} - {}%'.format(col, pct_missing*100))"
   ]
  },
  {
   "cell_type": "code",
   "execution_count": 7,
   "metadata": {},
   "outputs": [
    {
     "data": {
      "text/html": [
       "<div>\n",
       "<style scoped>\n",
       "    .dataframe tbody tr th:only-of-type {\n",
       "        vertical-align: middle;\n",
       "    }\n",
       "\n",
       "    .dataframe tbody tr th {\n",
       "        vertical-align: top;\n",
       "    }\n",
       "\n",
       "    .dataframe thead th {\n",
       "        text-align: right;\n",
       "    }\n",
       "</style>\n",
       "<table border=\"1\" class=\"dataframe\">\n",
       "  <thead>\n",
       "    <tr style=\"text-align: right;\">\n",
       "      <th></th>\n",
       "      <th>index</th>\n",
       "      <th>0</th>\n",
       "    </tr>\n",
       "  </thead>\n",
       "  <tbody>\n",
       "    <tr>\n",
       "      <th>0</th>\n",
       "      <td>gender</td>\n",
       "      <td>0.0</td>\n",
       "    </tr>\n",
       "    <tr>\n",
       "      <th>1</th>\n",
       "      <td>near_location</td>\n",
       "      <td>0.0</td>\n",
       "    </tr>\n",
       "    <tr>\n",
       "      <th>2</th>\n",
       "      <td>partner</td>\n",
       "      <td>0.0</td>\n",
       "    </tr>\n",
       "    <tr>\n",
       "      <th>3</th>\n",
       "      <td>promo_friends</td>\n",
       "      <td>0.0</td>\n",
       "    </tr>\n",
       "    <tr>\n",
       "      <th>4</th>\n",
       "      <td>phone</td>\n",
       "      <td>0.0</td>\n",
       "    </tr>\n",
       "    <tr>\n",
       "      <th>5</th>\n",
       "      <td>contract_period</td>\n",
       "      <td>0.0</td>\n",
       "    </tr>\n",
       "    <tr>\n",
       "      <th>6</th>\n",
       "      <td>group_visits</td>\n",
       "      <td>0.0</td>\n",
       "    </tr>\n",
       "    <tr>\n",
       "      <th>7</th>\n",
       "      <td>age</td>\n",
       "      <td>0.0</td>\n",
       "    </tr>\n",
       "    <tr>\n",
       "      <th>8</th>\n",
       "      <td>avg_additional_charges_total</td>\n",
       "      <td>0.0</td>\n",
       "    </tr>\n",
       "    <tr>\n",
       "      <th>9</th>\n",
       "      <td>month_to_end_contract</td>\n",
       "      <td>0.0</td>\n",
       "    </tr>\n",
       "    <tr>\n",
       "      <th>10</th>\n",
       "      <td>lifetime</td>\n",
       "      <td>0.0</td>\n",
       "    </tr>\n",
       "    <tr>\n",
       "      <th>11</th>\n",
       "      <td>avg_class_frequency_total</td>\n",
       "      <td>0.0</td>\n",
       "    </tr>\n",
       "    <tr>\n",
       "      <th>12</th>\n",
       "      <td>avg_class_frequency_current_month</td>\n",
       "      <td>0.0</td>\n",
       "    </tr>\n",
       "    <tr>\n",
       "      <th>13</th>\n",
       "      <td>churn</td>\n",
       "      <td>0.0</td>\n",
       "    </tr>\n",
       "  </tbody>\n",
       "</table>\n",
       "</div>"
      ],
      "text/plain": [
       "                                index    0\n",
       "0                              gender  0.0\n",
       "1                       near_location  0.0\n",
       "2                             partner  0.0\n",
       "3                       promo_friends  0.0\n",
       "4                               phone  0.0\n",
       "5                     contract_period  0.0\n",
       "6                        group_visits  0.0\n",
       "7                                 age  0.0\n",
       "8        avg_additional_charges_total  0.0\n",
       "9               month_to_end_contract  0.0\n",
       "10                           lifetime  0.0\n",
       "11          avg_class_frequency_total  0.0\n",
       "12  avg_class_frequency_current_month  0.0\n",
       "13                              churn  0.0"
      ]
     },
     "execution_count": 7,
     "metadata": {},
     "output_type": "execute_result"
    }
   ],
   "source": [
    "df.isna().mean().reset_index().round(2)"
   ]
  },
  {
   "cell_type": "markdown",
   "metadata": {},
   "source": [
    "Проверим наличие пропусков.  Значений n/a нет ни в одном поле."
   ]
  },
  {
   "cell_type": "code",
   "execution_count": 8,
   "metadata": {},
   "outputs": [
    {
     "data": {
      "text/plain": [
       "1    2041\n",
       "0    1959\n",
       "Name: gender, dtype: int64"
      ]
     },
     "execution_count": 8,
     "metadata": {},
     "output_type": "execute_result"
    }
   ],
   "source": [
    "df['gender'].value_counts()"
   ]
  },
  {
   "cell_type": "markdown",
   "metadata": {},
   "source": [
    "В поле gender нет пропусков, соотношение пола 1 и пола 2 - почти равное."
   ]
  },
  {
   "cell_type": "code",
   "execution_count": 9,
   "metadata": {},
   "outputs": [
    {
     "data": {
      "text/plain": [
       "1    3381\n",
       "0     619\n",
       "Name: near_location, dtype: int64"
      ]
     },
     "execution_count": 9,
     "metadata": {},
     "output_type": "execute_result"
    }
   ],
   "source": [
    "df['near_location'].value_counts()"
   ]
  },
  {
   "cell_type": "markdown",
   "metadata": {},
   "source": [
    "Поле near_location не нуждается в предобработке, значения корректны. Доля клиентов, живущих или работающих рядом с фитнес-центром - примерно 85%"
   ]
  },
  {
   "cell_type": "code",
   "execution_count": 10,
   "metadata": {},
   "outputs": [
    {
     "data": {
      "text/plain": [
       "0    2053\n",
       "1    1947\n",
       "Name: partner, dtype: int64"
      ]
     },
     "execution_count": 10,
     "metadata": {},
     "output_type": "execute_result"
    }
   ],
   "source": [
    "df['partner'].value_counts()"
   ]
  },
  {
   "cell_type": "markdown",
   "metadata": {},
   "source": [
    "В выборке почти равное количество корпоративных и некорпоративных абонентов."
   ]
  },
  {
   "cell_type": "code",
   "execution_count": 11,
   "metadata": {
    "scrolled": true
   },
   "outputs": [
    {
     "data": {
      "text/plain": [
       "0    2766\n",
       "1    1234\n",
       "Name: promo_friends, dtype: int64"
      ]
     },
     "execution_count": 11,
     "metadata": {},
     "output_type": "execute_result"
    }
   ],
   "source": [
    "df['promo_friends'].value_counts()"
   ]
  },
  {
   "cell_type": "markdown",
   "metadata": {},
   "source": [
    "В выборке - порядка 30% клиентов, привлеченных в рамках акции \"Приведи друга\"."
   ]
  },
  {
   "cell_type": "code",
   "execution_count": 12,
   "metadata": {
    "scrolled": true
   },
   "outputs": [
    {
     "data": {
      "text/plain": [
       "1    3614\n",
       "0     386\n",
       "Name: phone, dtype: int64"
      ]
     },
     "execution_count": 12,
     "metadata": {},
     "output_type": "execute_result"
    }
   ],
   "source": [
    "df['phone'].value_counts()"
   ]
  },
  {
   "cell_type": "markdown",
   "metadata": {},
   "source": [
    "10% клиентов не указали свой номер телефона в анкете."
   ]
  },
  {
   "cell_type": "code",
   "execution_count": 13,
   "metadata": {},
   "outputs": [
    {
     "data": {
      "text/plain": [
       "1     2207\n",
       "12     960\n",
       "6      833\n",
       "Name: contract_period, dtype: int64"
      ]
     },
     "execution_count": 13,
     "metadata": {},
     "output_type": "execute_result"
    }
   ],
   "source": [
    "df['contract_period'].value_counts()"
   ]
  },
  {
   "cell_type": "markdown",
   "metadata": {},
   "source": [
    "Из распределения видно, что клиенты предпочитают месячные абонементы, таких клиентов больше, чем предпочитающих годовой и полугодовой абнемент. Доля клиентов с полугодовым абонементов - минимальная. Чуть больше клиентов - с годовым абонементом. Отток клиентов с месячным абонементом может быть выше (гипотеза), т.к. купившие абонемент на длительный период клиенты будут стараться оправдать средства, вложенные в абонемент. Данную гипотезу будет интересно проверить после построения моделей."
   ]
  },
  {
   "cell_type": "code",
   "execution_count": 14,
   "metadata": {},
   "outputs": [
    {
     "data": {
      "text/plain": [
       "0    2351\n",
       "1    1649\n",
       "Name: group_visits, dtype: int64"
      ]
     },
     "execution_count": 14,
     "metadata": {},
     "output_type": "execute_result"
    }
   ],
   "source": [
    "df['group_visits'].value_counts()"
   ]
  },
  {
   "cell_type": "code",
   "execution_count": 15,
   "metadata": {
    "scrolled": true
   },
   "outputs": [
    {
     "data": {
      "text/plain": [
       "29    468\n",
       "30    457\n",
       "28    447\n",
       "31    434\n",
       "27    378\n",
       "32    364\n",
       "26    300\n",
       "33    253\n",
       "25    231\n",
       "34    174\n",
       "24    148\n",
       "35     98\n",
       "23     82\n",
       "36     48\n",
       "22     33\n",
       "37     29\n",
       "21     24\n",
       "20     14\n",
       "38     10\n",
       "39      3\n",
       "19      2\n",
       "18      2\n",
       "41      1\n",
       "Name: age, dtype: int64"
      ]
     },
     "execution_count": 15,
     "metadata": {},
     "output_type": "execute_result"
    }
   ],
   "source": [
    "df['age'].value_counts()"
   ]
  },
  {
   "cell_type": "code",
   "execution_count": 16,
   "metadata": {
    "scrolled": true
   },
   "outputs": [
    {
     "data": {
      "text/plain": [
       "count    4000.000000\n",
       "mean       29.184250\n",
       "std         3.258367\n",
       "min        18.000000\n",
       "25%        27.000000\n",
       "50%        29.000000\n",
       "75%        31.000000\n",
       "max        41.000000\n",
       "Name: age, dtype: float64"
      ]
     },
     "execution_count": 16,
     "metadata": {},
     "output_type": "execute_result"
    }
   ],
   "source": [
    "df['age'].describe()"
   ]
  },
  {
   "cell_type": "markdown",
   "metadata": {},
   "source": [
    "В выборке - клиенты от 18 лет до 41 года. Средний (и медианный) возраст - 29 лет. Стандартное отклонение -3,2 года. Близость значений среднего и медианы и низкое значение стандартного отклонения говорят о близости данных к нормальному распределению."
   ]
  },
  {
   "cell_type": "code",
   "execution_count": 17,
   "metadata": {},
   "outputs": [
    {
     "data": {
      "text/plain": [
       "1.0     2207\n",
       "6.0      645\n",
       "12.0     524\n",
       "11.0     181\n",
       "5.0      130\n",
       "10.0      82\n",
       "9.0       73\n",
       "4.0       58\n",
       "8.0       38\n",
       "7.0       25\n",
       "3.0       23\n",
       "2.0       14\n",
       "Name: month_to_end_contract, dtype: int64"
      ]
     },
     "execution_count": 17,
     "metadata": {},
     "output_type": "execute_result"
    }
   ],
   "source": [
    "df['month_to_end_contract'].value_counts()"
   ]
  },
  {
   "cell_type": "markdown",
   "metadata": {},
   "source": [
    "У большинства клиентов в выборке абонемент заканчивается через месяц. Можно предположить, что большинство в этой группе -  клиенты с месячным абонементом. Следующая группа - предположительно, в большинстве, клиенты с полугодовым абонементом. Далее - группа, у которой абонемент заканчивается через 12 месяцев. Т.к. в условиях задачи ничего не сказано об абонементах, длительностью больше года, все эти клиенты должны быть пользователями годовых абонементов. Далее идут небольшие группы, у которых абонемент заканчивается от 11 до 2 месяцев, это пользователи полугодовых и годовых абонементов."
   ]
  },
  {
   "cell_type": "code",
   "execution_count": 18,
   "metadata": {},
   "outputs": [
    {
     "data": {
      "text/plain": [
       "1     843\n",
       "2     610\n",
       "3     490\n",
       "0     487\n",
       "4     383\n",
       "5     273\n",
       "6     220\n",
       "7     167\n",
       "8     111\n",
       "9     100\n",
       "10     76\n",
       "12     53\n",
       "11     48\n",
       "13     28\n",
       "14     24\n",
       "15     24\n",
       "16     15\n",
       "17     11\n",
       "19      7\n",
       "20      7\n",
       "18      7\n",
       "21      5\n",
       "24      2\n",
       "22      2\n",
       "26      2\n",
       "23      2\n",
       "29      1\n",
       "27      1\n",
       "31      1\n",
       "Name: lifetime, dtype: int64"
      ]
     },
     "execution_count": 18,
     "metadata": {},
     "output_type": "execute_result"
    }
   ],
   "source": [
    "df['lifetime'].value_counts()"
   ]
  },
  {
   "cell_type": "markdown",
   "metadata": {},
   "source": [
    "Большинство клиентов - это относительно недавно обратившиеся в клуб абоненты (до года). Больше всего тех, кто впервые обратился месяц назад. Чем больший срок обращения - тем меньшее количество клиентов ему соответствует."
   ]
  },
  {
   "cell_type": "code",
   "execution_count": 19,
   "metadata": {},
   "outputs": [
    {
     "data": {
      "text/plain": [
       "0    2939\n",
       "1    1061\n",
       "Name: churn, dtype: int64"
      ]
     },
     "execution_count": 19,
     "metadata": {},
     "output_type": "execute_result"
    }
   ],
   "source": [
    "df['churn'].value_counts()"
   ]
  },
  {
   "cell_type": "markdown",
   "metadata": {},
   "source": [
    "В выборке - примерно 30% ушедших клиентов и 60% - оставшихся."
   ]
  },
  {
   "cell_type": "markdown",
   "metadata": {},
   "source": [
    "## Исследовательский анализ данных."
   ]
  },
  {
   "cell_type": "code",
   "execution_count": 20,
   "metadata": {},
   "outputs": [
    {
     "name": "stdout",
     "output_type": "stream",
     "text": [
      "count    4000.000000\n",
      "mean        0.510250\n",
      "std         0.499957\n",
      "min         0.000000\n",
      "25%         0.000000\n",
      "50%         1.000000\n",
      "75%         1.000000\n",
      "max         1.000000\n",
      "Name: gender, dtype: float64\n",
      "count    4000.000000\n",
      "mean        0.845250\n",
      "std         0.361711\n",
      "min         0.000000\n",
      "25%         1.000000\n",
      "50%         1.000000\n",
      "75%         1.000000\n",
      "max         1.000000\n",
      "Name: near_location, dtype: float64\n",
      "count    4000.000000\n",
      "mean        0.486750\n",
      "std         0.499887\n",
      "min         0.000000\n",
      "25%         0.000000\n",
      "50%         0.000000\n",
      "75%         1.000000\n",
      "max         1.000000\n",
      "Name: partner, dtype: float64\n",
      "count    4000.000000\n",
      "mean        0.308500\n",
      "std         0.461932\n",
      "min         0.000000\n",
      "25%         0.000000\n",
      "50%         0.000000\n",
      "75%         1.000000\n",
      "max         1.000000\n",
      "Name: promo_friends, dtype: float64\n",
      "count    4000.000000\n",
      "mean        0.903500\n",
      "std         0.295313\n",
      "min         0.000000\n",
      "25%         1.000000\n",
      "50%         1.000000\n",
      "75%         1.000000\n",
      "max         1.000000\n",
      "Name: phone, dtype: float64\n",
      "count    4000.000000\n",
      "mean        4.681250\n",
      "std         4.549706\n",
      "min         1.000000\n",
      "25%         1.000000\n",
      "50%         1.000000\n",
      "75%         6.000000\n",
      "max        12.000000\n",
      "Name: contract_period, dtype: float64\n",
      "count    4000.000000\n",
      "mean        0.412250\n",
      "std         0.492301\n",
      "min         0.000000\n",
      "25%         0.000000\n",
      "50%         0.000000\n",
      "75%         1.000000\n",
      "max         1.000000\n",
      "Name: group_visits, dtype: float64\n",
      "count    4000.000000\n",
      "mean       29.184250\n",
      "std         3.258367\n",
      "min        18.000000\n",
      "25%        27.000000\n",
      "50%        29.000000\n",
      "75%        31.000000\n",
      "max        41.000000\n",
      "Name: age, dtype: float64\n",
      "count    4000.000000\n",
      "mean      146.943728\n",
      "std        96.355602\n",
      "min         0.148205\n",
      "25%        68.868830\n",
      "50%       136.220159\n",
      "75%       210.949625\n",
      "max       552.590740\n",
      "Name: avg_additional_charges_total, dtype: float64\n",
      "count    4000.000000\n",
      "mean        4.322750\n",
      "std         4.191297\n",
      "min         1.000000\n",
      "25%         1.000000\n",
      "50%         1.000000\n",
      "75%         6.000000\n",
      "max        12.000000\n",
      "Name: month_to_end_contract, dtype: float64\n",
      "count    4000.000000\n",
      "mean        3.724750\n",
      "std         3.749267\n",
      "min         0.000000\n",
      "25%         1.000000\n",
      "50%         3.000000\n",
      "75%         5.000000\n",
      "max        31.000000\n",
      "Name: lifetime, dtype: float64\n",
      "count    4000.000000\n",
      "mean        1.879020\n",
      "std         0.972245\n",
      "min         0.000000\n",
      "25%         1.180875\n",
      "50%         1.832768\n",
      "75%         2.536078\n",
      "max         6.023668\n",
      "Name: avg_class_frequency_total, dtype: float64\n",
      "count    4000.000000\n",
      "mean        1.767052\n",
      "std         1.052906\n",
      "min         0.000000\n",
      "25%         0.963003\n",
      "50%         1.719574\n",
      "75%         2.510336\n",
      "max         6.146783\n",
      "Name: avg_class_frequency_current_month, dtype: float64\n",
      "count    4000.000000\n",
      "mean        0.265250\n",
      "std         0.441521\n",
      "min         0.000000\n",
      "25%         0.000000\n",
      "50%         0.000000\n",
      "75%         1.000000\n",
      "max         1.000000\n",
      "Name: churn, dtype: float64\n"
     ]
    }
   ],
   "source": [
    "for col in df.columns:\n",
    "    print(df[col].describe())"
   ]
  },
  {
   "cell_type": "markdown",
   "metadata": {},
   "source": [
    "Проанализируем средние значения и стандартные отклонения значений. Для части полей выводы уже сделаны выше, в блоке предобработки. Ниже - выводы по показателям журнала посещений и покупок:\n",
    "\n",
    "- avg_additional_charges_total. Суммарная выручка от прочих услуг на 1 клиента, в среднем, составляет 146 условных единиц (медианное значение - 136 единиц). Стандартное отклонение велико, 96 условных единиц. Это говорит о том, что дополнительные услуги распределены между клиентами неравномерно, кто-то пользуется, а кто-то  - нет. Для более точных выводов необходим дополнительный анализ распределения.\n",
    "- lifetime. Среднее время до окончания контракта - 3,7 мес, медиана - 3 месяца.\n",
    "- avg_class_frequency_total. Средня частота посещений за неделю - 1,8 посещения, как и медиана. Стандартное отклонение - 0,97, что является достаточно высоким значением для этого ряда данных (максимум - 6 раз в неделю). Более точные выводы о тенденциях средней посещаемости можно будет сделать посмотрев на гистограмму распределения.\n",
    "- avg_class_frequency_current_month. Среднее - 1,76. Медиана - 1,71. Стандартное отклонение - 1,05. Тенденция средней частоты посещений в неделю за предыдущий месяц и средней частоты посещений за неделю одинакова, в среднем - 1,7 - 1,8 раз в неделю. Но небольшая тенденция к снижению есть."
   ]
  },
  {
   "cell_type": "code",
   "execution_count": 21,
   "metadata": {},
   "outputs": [
    {
     "data": {
      "text/html": [
       "<div>\n",
       "<style scoped>\n",
       "    .dataframe tbody tr th:only-of-type {\n",
       "        vertical-align: middle;\n",
       "    }\n",
       "\n",
       "    .dataframe tbody tr th {\n",
       "        vertical-align: top;\n",
       "    }\n",
       "\n",
       "    .dataframe thead th {\n",
       "        text-align: right;\n",
       "    }\n",
       "</style>\n",
       "<table border=\"1\" class=\"dataframe\">\n",
       "  <thead>\n",
       "    <tr style=\"text-align: right;\">\n",
       "      <th>churn</th>\n",
       "      <th>0</th>\n",
       "      <th>1</th>\n",
       "    </tr>\n",
       "  </thead>\n",
       "  <tbody>\n",
       "    <tr>\n",
       "      <th>gender</th>\n",
       "      <td>0.510037</td>\n",
       "      <td>0.510839</td>\n",
       "    </tr>\n",
       "    <tr>\n",
       "      <th>near_location</th>\n",
       "      <td>0.873086</td>\n",
       "      <td>0.768143</td>\n",
       "    </tr>\n",
       "    <tr>\n",
       "      <th>partner</th>\n",
       "      <td>0.534195</td>\n",
       "      <td>0.355325</td>\n",
       "    </tr>\n",
       "    <tr>\n",
       "      <th>promo_friends</th>\n",
       "      <td>0.353522</td>\n",
       "      <td>0.183789</td>\n",
       "    </tr>\n",
       "    <tr>\n",
       "      <th>phone</th>\n",
       "      <td>0.903709</td>\n",
       "      <td>0.902922</td>\n",
       "    </tr>\n",
       "    <tr>\n",
       "      <th>contract_period</th>\n",
       "      <td>5.747193</td>\n",
       "      <td>1.728558</td>\n",
       "    </tr>\n",
       "    <tr>\n",
       "      <th>group_visits</th>\n",
       "      <td>0.464103</td>\n",
       "      <td>0.268615</td>\n",
       "    </tr>\n",
       "    <tr>\n",
       "      <th>age</th>\n",
       "      <td>29.976523</td>\n",
       "      <td>26.989632</td>\n",
       "    </tr>\n",
       "    <tr>\n",
       "      <th>avg_additional_charges_total</th>\n",
       "      <td>158.445715</td>\n",
       "      <td>115.082899</td>\n",
       "    </tr>\n",
       "    <tr>\n",
       "      <th>month_to_end_contract</th>\n",
       "      <td>5.283089</td>\n",
       "      <td>1.662582</td>\n",
       "    </tr>\n",
       "    <tr>\n",
       "      <th>lifetime</th>\n",
       "      <td>4.711807</td>\n",
       "      <td>0.990575</td>\n",
       "    </tr>\n",
       "    <tr>\n",
       "      <th>avg_class_frequency_total</th>\n",
       "      <td>2.024876</td>\n",
       "      <td>1.474995</td>\n",
       "    </tr>\n",
       "    <tr>\n",
       "      <th>avg_class_frequency_current_month</th>\n",
       "      <td>2.027882</td>\n",
       "      <td>1.044546</td>\n",
       "    </tr>\n",
       "  </tbody>\n",
       "</table>\n",
       "</div>"
      ],
      "text/plain": [
       "churn                                       0           1\n",
       "gender                               0.510037    0.510839\n",
       "near_location                        0.873086    0.768143\n",
       "partner                              0.534195    0.355325\n",
       "promo_friends                        0.353522    0.183789\n",
       "phone                                0.903709    0.902922\n",
       "contract_period                      5.747193    1.728558\n",
       "group_visits                         0.464103    0.268615\n",
       "age                                 29.976523   26.989632\n",
       "avg_additional_charges_total       158.445715  115.082899\n",
       "month_to_end_contract                5.283089    1.662582\n",
       "lifetime                             4.711807    0.990575\n",
       "avg_class_frequency_total            2.024876    1.474995\n",
       "avg_class_frequency_current_month    2.027882    1.044546"
      ]
     },
     "execution_count": 21,
     "metadata": {},
     "output_type": "execute_result"
    }
   ],
   "source": [
    "data = df.groupby('churn').mean()\n",
    "data.T"
   ]
  },
  {
   "cell_type": "markdown",
   "metadata": {},
   "source": [
    "Проанализируем и сравним средние показатели ушедших и оставшихся клиентов.\n",
    "\n",
    "- gender. Соотношение полов у ушедших и оставшихся практически идентично, 51%, что позволяет предположить, что пол не является причиной, влияющей на решение уйти.\n",
    "- near_location. В группе ушедших - в среднем 76% тех, для кого клуб находится в районной доступности. Среди оставшихся - 87%. Можно выдвинуть гипотезу о том, что местоположение играет роль в принятии решения о дальнейшем посещении клуба.\n",
    "- partner. Среди ушедших - 35% корпоративных клиентов. Среди оставшихся - 53%. Можно выдвинуть гипотезу о влиянии наличия корпоративной карты на решение о дальнейшем посещении клуба.\n",
    "- promo_friends. Среди оставшихся - 35% участвовали в акции \"приведи друга\". Среди ушедших - всего лишь 18%.\n",
    "- phone. Доля пользователей с наличием телефона в анкете одинакова и среди ушедших и среди оставшихся.\n",
    "- contract_period. Средняя длительность контракта среди ушедших - 1,72 мес. Средняя длительность среди оставшихся - 5,7 мес. Можно сделать выводы о том, что клиенты с долгосрочным абонементом менее склонны к решению прекратить посещение клуба, чем люди с месячным абонементом.\n",
    "- group_visits. 26% ушедших посещали групповые занятия. 46% оставшихся - посещают.\n",
    "- age. Средний возраст ушедших - 26,9 лет. Средний возраст оставшихся - 29,9. Можно предположить, что старшее поколение менее склонно часто менять фитнес-клубы или отказываться от курса на здоровый образ жизни.\n",
    "- avg_additional_charges_total. Средний чек на допуслуги оставшихся - 158 условных единиц. Средний чек ушедших - 115 условных единиц. Гипотеза: клиенты, серьезно занимающиеся спортом нуждаются в комплексе прочих товаров и услуг фитнес-центров.\n",
    "- month_to_end_contract. Тенденция очень похожа на ситуацию с contract_period. Схожи средние длительности ушедших и оставшихся. Можно сделать выводы о том, что клиенты с долгосрочным абонементом менее склонны к решению прекратить посещение клуба, чем люди с месячным абонементом.\n",
    "- lifetime. Ситуация полностью аналогична month_to_end_contract и contract_period.\n",
    "- avg_class_frequency_total. Средняя частота посещения занятий в неделю у оставшихся - 2 раза, у ушедших - 1,5 раза. Тенденция показывает, что реже посещающие более склонны к решению прекратить посещение клуба.\n",
    "- avg_class_frequency_current_month. Тенденция аналогична показателю avg_class_frequency_total, но различие выражено более ярко. Для оставшихся клиентов среднее количество посещений в неделю - 2, для ушедших - 1. Т.е. в последний месяц склонные к уходу сокращают количество посещений примерно в 2 раза."
   ]
  },
  {
   "cell_type": "code",
   "execution_count": 22,
   "metadata": {},
   "outputs": [],
   "source": [
    "staying = df.query('churn==0')\n",
    "gone = df.query('churn==1')"
   ]
  },
  {
   "cell_type": "markdown",
   "metadata": {},
   "source": [
    "Выделим в отдельные датасеты ушедших и оставшихся."
   ]
  },
  {
   "cell_type": "code",
   "execution_count": 23,
   "metadata": {},
   "outputs": [],
   "source": [
    "cols_staying = staying.columns[:13]\n",
    "cols_gone = gone.columns[:13]"
   ]
  },
  {
   "cell_type": "code",
   "execution_count": 24,
   "metadata": {},
   "outputs": [
    {
     "data": {
      "image/png": "[encoded data removed]",
      "text/plain": [
       "<Figure size 432x288 with 1 Axes>"
      ]
     },
     "metadata": {
      "needs_background": "light"
     },
     "output_type": "display_data"
    },
    {
     "data": {
      "image/png": "[encoded data removed]",
      "text/plain": [
       "<Figure size 432x288 with 1 Axes>"
      ]
     },
     "metadata": {
      "needs_background": "light"
     },
     "output_type": "display_data"
    },
    {
     "data": {
      "image/png": "[encoded data removed]",
      "text/plain": [
       "<Figure size 432x288 with 1 Axes>"
      ]
     },
     "metadata": {
      "needs_background": "light"
     },
     "output_type": "display_data"
    },
    {
     "data": {
      "image/png": "[encoded data removed]",
      "text/plain": [
       "<Figure size 432x288 with 1 Axes>"
      ]
     },
     "metadata": {
      "needs_background": "light"
     },
     "output_type": "display_data"
    },
    {
     "data": {
      "image/png": "[encoded data removed]",
      "text/plain": [
       "<Figure size 432x288 with 1 Axes>"
      ]
     },
     "metadata": {
      "needs_background": "light"
     },
     "output_type": "display_data"
    },
    {
     "data": {
      "image/png": "[encoded data removed]",
      "text/plain": [
       "<Figure size 432x288 with 1 Axes>"
      ]
     },
     "metadata": {
      "needs_background": "light"
     },
     "output_type": "display_data"
    },
    {
     "data": {
      "image/png": "[encoded data removed]",
      "text/plain": [
       "<Figure size 432x288 with 1 Axes>"
      ]
     },
     "metadata": {
      "needs_background": "light"
     },
     "output_type": "display_data"
    },
    {
     "data": {
      "image/png": "[encoded data removed]",
      "text/plain": [
       "<Figure size 432x288 with 1 Axes>"
      ]
     },
     "metadata": {
      "needs_background": "light"
     },
     "output_type": "display_data"
    },
    {
     "data": {
      "image/png": "[encoded data removed]",
      "text/plain": [
       "<Figure size 432x288 with 1 Axes>"
      ]
     },
     "metadata": {
      "needs_background": "light"
     },
     "output_type": "display_data"
    },
    {
     "data": {
      "image/png": "[encoded data removed]",
      "text/plain": [
       "<Figure size 432x288 with 1 Axes>"
      ]
     },
     "metadata": {
      "needs_background": "light"
     },
     "output_type": "display_data"
    },
    {
     "data": {
      "image/png": "[encoded data removed]",
      "text/plain": [
       "<Figure size 432x288 with 1 Axes>"
      ]
     },
     "metadata": {
      "needs_background": "light"
     },
     "output_type": "display_data"
    },
    {
     "data": {
      "image/png": "[encoded data removed]",
      "text/plain": [
       "<Figure size 432x288 with 1 Axes>"
      ]
     },
     "metadata": {
      "needs_background": "light"
     },
     "output_type": "display_data"
    },
    {
     "data": {
      "image/png": "[encoded data removed]",
      "text/plain": [
       "<Figure size 432x288 with 1 Axes>"
      ]
     },
     "metadata": {
      "needs_background": "light"
     },
     "output_type": "display_data"
    }
   ],
   "source": [
    "warnings.simplefilter('ignore')\n",
    "for col in cols_staying:\n",
    "    sns.distplot(staying[col])\n",
    "    sns.distplot(gone[col])\n",
    "    plt.legend(['staying','gone'])\n",
    "    plt.title(col,fontsize = 14)\n",
    "    plt.show();        "
   ]
  },
  {
   "cell_type": "markdown",
   "metadata": {},
   "source": [
    "Построим графики распределений и проанализируем их.\n",
    "\n",
    "- age. Распределение оставшихся клиентов более равномерное и ближе к классическому нормальному распределению. На графике распределения ушедших клиентов датасет чуть скошен влево и он меньше похож на нормальное распределение.\n",
    "- avg_additional_charges_total. У оставшихся клиентов средний чек распределен более равномерно, чем у ушедших. Основная плотность у ушедших - до 150 условных единиц. У оставшихся - до 230-240 единиц.\n",
    "- avg_class_frequency_total. Датасет оставшихся распределен более равномерно, достаточно плотное распределение в районе от 1 до 3 посещений в неделю. У ушедших - 1-2 посещения.\n",
    "- avg_class_frequency_current_month. Различие с avg_class_frequency_total более сильное. тенденция для оставшихся повторяется, наиболее плотное распределение - 1-3 посещения в неделю. Для ушедших - от 0 до 1,5 посещений в неделю."
   ]
  },
  {
   "cell_type": "code",
   "execution_count": 25,
   "metadata": {},
   "outputs": [],
   "source": [
    "matrix = df.corr()"
   ]
  },
  {
   "cell_type": "code",
   "execution_count": 26,
   "metadata": {},
   "outputs": [
    {
     "data": {
      "image/png": "[encoded data removed]",
      "text/plain": [
       "<Figure size 936x648 with 2 Axes>"
      ]
     },
     "metadata": {
      "needs_background": "light"
     },
     "output_type": "display_data"
    }
   ],
   "source": [
    "plt.figure(figsize=(13, 9))\n",
    "sns.heatmap(matrix, annot = True, square = True, fmt='.2f', cmap ='jet', vmax=.1,annot_kws={'fontsize':12}) \n",
    "plt.title('Матрица корреляции признаков',fontsize = 14)\n",
    "plt.show()"
   ]
  },
  {
   "cell_type": "markdown",
   "metadata": {},
   "source": [
    "Построим и проанализируем матрицу корреляций. Для целей анализа используем следующие общепринятые градации корреляции:\n",
    "- от 0 до 0,3 -очень слабая,\n",
    "- от 0,3 до 0,5 - слабая,\n",
    "- от 0,5 до 0,7 - средняя,\n",
    "- от 0,7 до 0,9 - высокая,\n",
    "- от 0,9 до 1 - очень высокая.\n",
    "\n",
    "По результатам анализа корреляционной матрицы можно сделать следующие выводы:\n",
    "- gender. Показатель не коррелирует ни с одним показателем, можно сделать вывод о том, что пол клиента не влияет на прочие показатели\n",
    "- near location. Есть слабая корреляция с событием первоначальной записи по акции, периодом контракта и групповыми занятиями. И слабая отрицательная корреляция с оттоком\n",
    "- partner. Наличие корпоративной карты средне коррелирует с записью по акции \"Приведи друга\" и слабо коррелирует с длительностью абонемента и количеством времени до окончания контракта. И слабая отрицательная корреляция с оттоком\n",
    "- promo_friends. Средне коррелирует с фактом наличия корпоративной карты. Слабо коррелирует с периодом конракта и количеством месяцев до окончания контракта и с локализацией клиента.\n",
    "- Наличие телефона. Не коррелирует ни с чем.\n",
    "- contract_period. Сильная корреляция с month_to_end_contract (величины прямо зависимы). Очень слабо коррелирует почти со всеми показателями (со всеми, кроме пола и наличия телефона в анкете). Слабая обратная корреляция с оттоком.\n",
    "- group_visits. Слабая корреляция с near_location, promo_friends, contract_period и month_to_end_contract\n",
    "- age. Очень слабо коррелирует с временными показателями, слабая обратная корреляция с показателем оттока.\n",
    "- avg_additional_charges_total. Очень слабо коррелирует с периодом контракта.\n",
    "- мonth_to_end_contract. Повторяет тенденцию корреляции contract_period.\n",
    "- lifetime. Слабая корреляция с периодом контракта, возрастом и среднемесячным количеством посещений.\n",
    "- avg_class_frequency_total. Прямая связь с avg_class_frequency_current_month. Слабая корреляция с периодом контракта, возрастом и lifetime.\n",
    "- avg_class_frequency_current_month. Дублирует корреляции avg_class_frequency_total. Но более сильная корреляция с с периодом контракта, возрастом и lifetime. Более сильная обратная корреляция с churn."
   ]
  },
  {
   "cell_type": "markdown",
   "metadata": {},
   "source": [
    "## Модель прогнозирования оттока клиентов."
   ]
  },
  {
   "cell_type": "markdown",
   "metadata": {},
   "source": [
    "Для линейных моделей взаимная корреляция признаков нежелательна. По результатам анализа корреляционной матрицы таких признаков несколько: contract_period и month_to_end_contract, avg_class_frequency_total и avg_class_frequency_current_month. Удалим из датасета avg_class_frequency_current_month и month_to_end_contract."
   ]
  },
  {
   "cell_type": "code",
   "execution_count": 27,
   "metadata": {},
   "outputs": [],
   "source": [
    "df = df.drop(['month_to_end_contract', 'avg_class_frequency_current_month'], axis = 1)"
   ]
  },
  {
   "cell_type": "code",
   "execution_count": 28,
   "metadata": {},
   "outputs": [],
   "source": [
    "X=df.drop('churn', axis = 1)\n",
    "y=df['churn']"
   ]
  },
  {
   "cell_type": "markdown",
   "metadata": {},
   "source": [
    "Разделим данные на признаки и целевую переменную."
   ]
  },
  {
   "cell_type": "code",
   "execution_count": 29,
   "metadata": {},
   "outputs": [],
   "source": [
    "X_train, X_test, y_train, y_test = train_test_split(X, y, test_size=0.2, random_state=0, stratify=y)"
   ]
  },
  {
   "cell_type": "markdown",
   "metadata": {},
   "source": [
    "Разобьем данные на обучающую и валидационную выборку."
   ]
  },
  {
   "cell_type": "code",
   "execution_count": 30,
   "metadata": {},
   "outputs": [],
   "source": [
    "lr_model = LogisticRegression(solver='liblinear')"
   ]
  },
  {
   "cell_type": "markdown",
   "metadata": {},
   "source": [
    "Зададим алгоритм для модели."
   ]
  },
  {
   "cell_type": "code",
   "execution_count": 31,
   "metadata": {},
   "outputs": [
    {
     "data": {
      "text/plain": [
       "LogisticRegression(solver='liblinear')"
      ]
     },
     "execution_count": 31,
     "metadata": {},
     "output_type": "execute_result"
    }
   ],
   "source": [
    "lr_model.fit(X_train, y_train)"
   ]
  },
  {
   "cell_type": "markdown",
   "metadata": {},
   "source": [
    "Обучим модель."
   ]
  },
  {
   "cell_type": "code",
   "execution_count": 32,
   "metadata": {},
   "outputs": [],
   "source": [
    "lr_predictions = lr_model.predict(X_test)\n",
    "lr_probabilities = lr_model.predict_proba(X_test)[:, 1]"
   ]
  },
  {
   "cell_type": "markdown",
   "metadata": {},
   "source": [
    "Сделаем прогнозы."
   ]
  },
  {
   "cell_type": "code",
   "execution_count": 33,
   "metadata": {},
   "outputs": [],
   "source": [
    "rf_model = RandomForestClassifier(n_estimators = 100,random_state = 0)"
   ]
  },
  {
   "cell_type": "markdown",
   "metadata": {},
   "source": [
    "Зададим алгоритм для модели случайного леса."
   ]
  },
  {
   "cell_type": "code",
   "execution_count": 34,
   "metadata": {},
   "outputs": [
    {
     "data": {
      "text/plain": [
       "RandomForestClassifier(random_state=0)"
      ]
     },
     "execution_count": 34,
     "metadata": {},
     "output_type": "execute_result"
    }
   ],
   "source": [
    "rf_model.fit(X_train, y_train)"
   ]
  },
  {
   "cell_type": "markdown",
   "metadata": {},
   "source": [
    "Обучим модель."
   ]
  },
  {
   "cell_type": "code",
   "execution_count": 35,
   "metadata": {},
   "outputs": [],
   "source": [
    "rf_predictions = rf_model.predict(X_test)"
   ]
  },
  {
   "cell_type": "code",
   "execution_count": 36,
   "metadata": {},
   "outputs": [],
   "source": [
    "rf_probabilities = rf_model.predict_proba(X_test)[:, 1]"
   ]
  },
  {
   "cell_type": "markdown",
   "metadata": {},
   "source": [
    "Сделаем прогнозы."
   ]
  },
  {
   "cell_type": "code",
   "execution_count": 37,
   "metadata": {},
   "outputs": [],
   "source": [
    "def print_all_metrics(y_true, y_pred, y_proba, title='Метрики классификации'):\n",
    "    print(title)\n",
    "    print('\\tAccuracy: {:.2f}'.format(accuracy_score(y_true, y_pred)))\n",
    "    print('\\tPrecision: {:.2f}'.format(precision_score(y_true, y_pred)))\n",
    "    print('\\tRecall: {:.2f}'.format(recall_score(y_true, y_pred))) \n",
    "    print('\\tF1: {:.2f}'.format(f1_score(y_true, y_pred)))\n",
    "    print('\\tROC_AUC: {:.2f}'.format(roc_auc_score(y_true, y_proba)))"
   ]
  },
  {
   "cell_type": "code",
   "execution_count": 38,
   "metadata": {
    "scrolled": true
   },
   "outputs": [
    {
     "name": "stdout",
     "output_type": "stream",
     "text": [
      "Метрики для модели логистической регрессии:\n",
      "\tAccuracy: 0.90\n",
      "\tPrecision: 0.83\n",
      "\tRecall: 0.80\n",
      "\tF1: 0.81\n",
      "\tROC_AUC: 0.96\n"
     ]
    }
   ],
   "source": [
    "print_all_metrics(y_test, lr_predictions, lr_probabilities, title='Метрики для модели логистической регрессии:')"
   ]
  },
  {
   "cell_type": "code",
   "execution_count": 39,
   "metadata": {
    "scrolled": true
   },
   "outputs": [
    {
     "name": "stdout",
     "output_type": "stream",
     "text": [
      "Метрики для случайного леса:\n",
      "\tAccuracy: 0.89\n",
      "\tPrecision: 0.81\n",
      "\tRecall: 0.79\n",
      "\tF1: 0.80\n",
      "\tROC_AUC: 0.95\n"
     ]
    }
   ],
   "source": [
    "print_all_metrics(y_test, rf_predictions, rf_probabilities, title='Метрики для случайного леса:')"
   ]
  },
  {
   "cell_type": "markdown",
   "metadata": {},
   "source": [
    "Выведем метрики логистической регрессии и случайного леса и сравним их. \n",
    "- Доля правильных ответов на 1% выше при применении алгоритма случайного леса. Но и логистическая регрессия дает долю меньше всего лишь на 1%, различие невелико. \n",
    "- Метрика precision говорит, какая доля прогнозов относительно 1 класса верна (доля правильных ответов только в целевом классе, в нашем случае - доля ушедших клиентов). Она одинакова и для случайного леса и для логистической регрессии.\n",
    "- Метрика recall более точна для логистической регрессии.\n",
    "- Метрика F1 более точна для логистической регрессии.\n",
    "- Метрика ROC_AUC идентична для обеих моделей."
   ]
  },
  {
   "cell_type": "markdown",
   "metadata": {},
   "source": [
    "## Кластеризация клиентов."
   ]
  },
  {
   "cell_type": "code",
   "execution_count": 40,
   "metadata": {},
   "outputs": [],
   "source": [
    "sc = StandardScaler()\n",
    "X_sc = sc.fit_transform(X)"
   ]
  },
  {
   "cell_type": "code",
   "execution_count": 41,
   "metadata": {},
   "outputs": [],
   "source": [
    "linked = linkage(X_sc, method = 'ward')"
   ]
  },
  {
   "cell_type": "code",
   "execution_count": 42,
   "metadata": {},
   "outputs": [
    {
     "data": {
      "image/png": "[encoded data removed]",
      "text/plain": [
       "<Figure size 1080x720 with 1 Axes>"
      ]
     },
     "metadata": {
      "needs_background": "light"
     },
     "output_type": "display_data"
    }
   ],
   "source": [
    "plt.figure(figsize=(15, 10))  \n",
    "dendrogram(linked, orientation='top')\n",
    "plt.show()"
   ]
  },
  {
   "cell_type": "markdown",
   "metadata": {},
   "source": [
    "Построим дендрограмму, чтобы оценить количество кластеров.\n",
    "Предложенное оптимальное число кластеров 4. Но в учебных целях для унификации результатов зададим для модели K-means 5 кластеров."
   ]
  },
  {
   "cell_type": "code",
   "execution_count": 43,
   "metadata": {},
   "outputs": [],
   "source": [
    "km = KMeans(n_clusters = 5, random_state = 0)"
   ]
  },
  {
   "cell_type": "markdown",
   "metadata": {},
   "source": [
    "Зададим параметр n_clusters для k-means равный 5."
   ]
  },
  {
   "cell_type": "code",
   "execution_count": 44,
   "metadata": {},
   "outputs": [],
   "source": [
    "labels = km.fit_predict(X_sc)"
   ]
  },
  {
   "cell_type": "markdown",
   "metadata": {},
   "source": [
    "Спрогнозируем кластеры для наблюдений."
   ]
  },
  {
   "cell_type": "code",
   "execution_count": 45,
   "metadata": {},
   "outputs": [],
   "source": [
    "df['cluster_km'] = labels"
   ]
  },
  {
   "cell_type": "markdown",
   "metadata": {},
   "source": [
    "Сохраним метки кластера в столбце cluster_km исходного датасета."
   ]
  },
  {
   "cell_type": "code",
   "execution_count": 46,
   "metadata": {},
   "outputs": [
    {
     "name": "stdout",
     "output_type": "stream",
     "text": [
      "Метрика силуэта: 0.13\n"
     ]
    }
   ],
   "source": [
    "print('Метрика силуэта: {:.2f}'.format(silhouette_score(X_sc, labels)))"
   ]
  },
  {
   "cell_type": "markdown",
   "metadata": {},
   "source": [
    "Посчитаем метрику силуэта для того, чтобы оценить качество кластеризации. Метрика силуэта интерпретируется следующим образом: чем ближе silhouette_score к 1, тем качественнее кластеризация, т.е. объект своего кластера похож на свой кластер больше, чем на чужой. В нашем слечае значение равно 0,14, что является невысоким значением. Но в реальной жизни объекты редко имеют четкое разделение и выраженную структуру. Проанализируем средние значения для кластеров, для поиска дополнительных закономерностей. "
   ]
  },
  {
   "cell_type": "code",
   "execution_count": 47,
   "metadata": {},
   "outputs": [
    {
     "data": {
      "text/html": [
       "<div>\n",
       "<style scoped>\n",
       "    .dataframe tbody tr th:only-of-type {\n",
       "        vertical-align: middle;\n",
       "    }\n",
       "\n",
       "    .dataframe tbody tr th {\n",
       "        vertical-align: top;\n",
       "    }\n",
       "\n",
       "    .dataframe thead th {\n",
       "        text-align: right;\n",
       "    }\n",
       "</style>\n",
       "<table border=\"1\" class=\"dataframe\">\n",
       "  <thead>\n",
       "    <tr style=\"text-align: right;\">\n",
       "      <th></th>\n",
       "      <th>gender</th>\n",
       "      <th>near_location</th>\n",
       "      <th>partner</th>\n",
       "      <th>promo_friends</th>\n",
       "      <th>q-ty</th>\n",
       "      <th>contract_period</th>\n",
       "      <th>group_visits</th>\n",
       "      <th>age</th>\n",
       "      <th>avg_additional_charges_total</th>\n",
       "      <th>lifetime</th>\n",
       "      <th>avg_class_frequency_total</th>\n",
       "      <th>churn</th>\n",
       "    </tr>\n",
       "    <tr>\n",
       "      <th>cluster_km</th>\n",
       "      <th></th>\n",
       "      <th></th>\n",
       "      <th></th>\n",
       "      <th></th>\n",
       "      <th></th>\n",
       "      <th></th>\n",
       "      <th></th>\n",
       "      <th></th>\n",
       "      <th></th>\n",
       "      <th></th>\n",
       "      <th></th>\n",
       "      <th></th>\n",
       "    </tr>\n",
       "  </thead>\n",
       "  <tbody>\n",
       "    <tr>\n",
       "      <th>0</th>\n",
       "      <td>0.502683</td>\n",
       "      <td>0.000000</td>\n",
       "      <td>0.490161</td>\n",
       "      <td>0.078712</td>\n",
       "      <td>559</td>\n",
       "      <td>3.000000</td>\n",
       "      <td>0.232558</td>\n",
       "      <td>28.708408</td>\n",
       "      <td>137.385192</td>\n",
       "      <td>3.007156</td>\n",
       "      <td>1.768159</td>\n",
       "      <td>0.400716</td>\n",
       "    </tr>\n",
       "    <tr>\n",
       "      <th>1</th>\n",
       "      <td>0.486867</td>\n",
       "      <td>0.996248</td>\n",
       "      <td>0.943715</td>\n",
       "      <td>0.883677</td>\n",
       "      <td>1066</td>\n",
       "      <td>7.660413</td>\n",
       "      <td>0.523452</td>\n",
       "      <td>29.474672</td>\n",
       "      <td>149.409166</td>\n",
       "      <td>4.057223</td>\n",
       "      <td>1.912481</td>\n",
       "      <td>0.117261</td>\n",
       "    </tr>\n",
       "    <tr>\n",
       "      <th>2</th>\n",
       "      <td>0.561614</td>\n",
       "      <td>0.996728</td>\n",
       "      <td>0.267176</td>\n",
       "      <td>0.050164</td>\n",
       "      <td>917</td>\n",
       "      <td>5.241003</td>\n",
       "      <td>0.533261</td>\n",
       "      <td>30.958561</td>\n",
       "      <td>186.697490</td>\n",
       "      <td>5.778626</td>\n",
       "      <td>2.400164</td>\n",
       "      <td>0.023991</td>\n",
       "    </tr>\n",
       "    <tr>\n",
       "      <th>3</th>\n",
       "      <td>0.488806</td>\n",
       "      <td>1.000000</td>\n",
       "      <td>0.223881</td>\n",
       "      <td>0.078358</td>\n",
       "      <td>1072</td>\n",
       "      <td>2.082090</td>\n",
       "      <td>0.286381</td>\n",
       "      <td>27.584888</td>\n",
       "      <td>116.455656</td>\n",
       "      <td>1.933769</td>\n",
       "      <td>1.466695</td>\n",
       "      <td>0.547575</td>\n",
       "    </tr>\n",
       "    <tr>\n",
       "      <th>4</th>\n",
       "      <td>0.523316</td>\n",
       "      <td>0.862694</td>\n",
       "      <td>0.471503</td>\n",
       "      <td>0.305699</td>\n",
       "      <td>386</td>\n",
       "      <td>4.777202</td>\n",
       "      <td>0.427461</td>\n",
       "      <td>29.297927</td>\n",
       "      <td>144.208179</td>\n",
       "      <td>3.940415</td>\n",
       "      <td>1.854211</td>\n",
       "      <td>0.266839</td>\n",
       "    </tr>\n",
       "  </tbody>\n",
       "</table>\n",
       "</div>"
      ],
      "text/plain": [
       "              gender  near_location   partner  promo_friends  q-ty  \\\n",
       "cluster_km                                                           \n",
       "0           0.502683       0.000000  0.490161       0.078712   559   \n",
       "1           0.486867       0.996248  0.943715       0.883677  1066   \n",
       "2           0.561614       0.996728  0.267176       0.050164   917   \n",
       "3           0.488806       1.000000  0.223881       0.078358  1072   \n",
       "4           0.523316       0.862694  0.471503       0.305699   386   \n",
       "\n",
       "            contract_period  group_visits        age  \\\n",
       "cluster_km                                             \n",
       "0                  3.000000      0.232558  28.708408   \n",
       "1                  7.660413      0.523452  29.474672   \n",
       "2                  5.241003      0.533261  30.958561   \n",
       "3                  2.082090      0.286381  27.584888   \n",
       "4                  4.777202      0.427461  29.297927   \n",
       "\n",
       "            avg_additional_charges_total  lifetime  avg_class_frequency_total  \\\n",
       "cluster_km                                                                      \n",
       "0                             137.385192  3.007156                   1.768159   \n",
       "1                             149.409166  4.057223                   1.912481   \n",
       "2                             186.697490  5.778626                   2.400164   \n",
       "3                             116.455656  1.933769                   1.466695   \n",
       "4                             144.208179  3.940415                   1.854211   \n",
       "\n",
       "               churn  \n",
       "cluster_km            \n",
       "0           0.400716  \n",
       "1           0.117261  \n",
       "2           0.023991  \n",
       "3           0.547575  \n",
       "4           0.266839  "
      ]
     },
     "execution_count": 47,
     "metadata": {},
     "output_type": "execute_result"
    }
   ],
   "source": [
    "clusters_mean_scoers = df.groupby('cluster_km').agg({'gender' :'mean','near_location' :'mean','partner' :'mean','promo_friends' :'mean','phone' :'mean','contract_period' :'mean','group_visits' :'mean','age' :'mean','avg_additional_charges_total' :'mean','lifetime' :'mean','avg_class_frequency_total' :'mean','churn' :'mean', 'phone':'count'}).rename(\n",
    "    columns={'phone':'q-ty'})\n",
    "clusters_mean_scoers"
   ]
  },
  {
   "cell_type": "markdown",
   "metadata": {},
   "source": [
    "Сделаем обзор кластеров и сравним их средние значения.\n",
    "\n",
    "- Клиенты первого кластера характеризуются почти равным разделением полов (как и прочие кластеры, в этой связи предлагается не упоминать в анализе данный признак, как не влияющий на поведение пользователей). Почти все пользователи этого кластера проживают или работают рядом с клубом. Самое большое количество пользователей этого кластера являются корпоративными клиентами. 89% клиентов этого кластера участвовали в программе \"Приведи друга\". Этот кластер - второй по численности. Длительность контракта этого кластера - 7,6 месяцев, что говорит о серьезности намерений клиентов. Половина клиентов посещает групповые занятия. Средний возраст участников кластера - 28,7 лет. Средние расходы на дополнительные услуги высоки и занимают 1 место из 5. Средний lifetime - первый по длительности, 4,3. Частота посещений - на 1 месте, 1,97 раз в неделю. Отток -  самый низкий, 12% . По совокупности характеристик предлагается охарактеризовать этот кластер \"Премиум\".\n",
    "\n",
    "- Третий кластер - третий по массовости, 871 клиент. Они также проживают или работают в районной доступности. Всего 25% является корпоративными клиентами. Почти никто из них не участвовал в программе \"Приведи друга\". Средний период контракта этого кластера 4,5 месяцев. Максимальное количество клиентов этого кластера посещают групповые занятия, 100%. Средний возраст - самый высокий, 29,5 лет. Расходы на допуслуги 148 у.е. lifetime - 3,7 мес. Высокий показатель среднего количества посещений в неделю, 1,94. Малый показатель оттока, 20%.\n",
    "\n",
    "- Кластер 0 - почти самый немногочисленный (за исключением 4 кластера), 561 клиент. Никто из них не проживает и не работает в районной доступности с фитнес-центром. Половина из них - участники корпоративной партнерской программы. 7% (незначительная доля) участвовали в акции \"Приведи друга\". Средний период контракта клиентов данного кластера - 3 месяца, почти самый низкий показатель. Всего 23% клиентов посещают групповые занятия, это наименьший показатель среди всех кластеров. Средний возраст участников - 28,7 лет. Расходы на допуслуги почти самые низкие, 137 у.е. Lifetime - почти идентичен contract_period. avg_class_frequency_total - 1,77 раз в неделю, также почти самый низкий показатель посещаемости. Отток клиентов этого кластера - 40%. По совокупности факторов можно охарактеризовать как нестабильный и склонный к оттоку кластер. Исходя из совокупности факторов можно рекомендодвать руководству клуба не расходовать ресурсы на программы по удержанию клиентов этого кластера.\n",
    "\n",
    "- Кластер 4 - самый немногочисленный, 386 клиентов. 86% клиентов проживает и работает в районной доступности с фитнес-центром. 30% являются корпоративными клиентами. contract_period - средний по длительности, 4,7 мес. 42% клиентов посещают групповые занятия. Средний возраст - 29 лет. Стоимость допуслуг - 144 у.е., это средний показатель. lifetime - почти 4 месяца. Частота посещений в месяц неплохая, 1.85 раз. Отток - 26,6%. По совокупности факторов кластер достаточно перспективный, можно попробовать провести мероприятия по удержанию клиентов. Также, по совокупности параметров этот кластер ближе к нулевому кластеру, скорее всего, если при кластеризации следовать рекомендованному дендрограммой n_clusters = 4, этот кластер был бы в большей степени поглощен треьим кластером (гипотеза).\n",
    "\n",
    "- Кластер 2 - самый многочисленный. Все клиенты проживают или работают в районной доступности фитнес-центра. Всего 23% из них - корпоративные клиенты. Почти никто не участвовал в акции \"Приведи друга\". Период контракта - краткосрочный, почти 2,8 месяца. Скорее всего в числе клиентов этого кластера много посетителей с месячным абонементом. Никто из них не посещает групповые занятия. Средний возраст - низкий, 28,7 лет. Расходы на дополнительные услуги - низкие, 143 у.е. Lifetime - 3,3 месяца. Средняя частота посещений - 1,8 раза в неделю. Отток почти самый высокий, 38%. По совокупности факторов рекомендуется провести мероприятия по удержанию клиентов. Причины - многочисленность кластера (уходит много потенциальных клиентов) и 100-% проживание в районе нахождения клуба (очень важный фактор). Проведение целевых промо может позволить удержать часть клиентов, уменьшить отток и увеличить выручку фитнес-центра."
   ]
  },
  {
   "cell_type": "markdown",
   "metadata": {},
   "source": [
    "Проанализируем распределения признаков для кластеров. Предлагается не анализировать распределение бинарных признаков, в обзоре кластеров есть эта информация."
   ]
  },
  {
   "cell_type": "code",
   "execution_count": 48,
   "metadata": {},
   "outputs": [
    {
     "data": {
      "image/png": "[encoded data removed]",
      "text/plain": [
       "<Figure size 432x432 with 1 Axes>"
      ]
     },
     "metadata": {
      "needs_background": "light"
     },
     "output_type": "display_data"
    },
    {
     "data": {
      "image/png": "[encoded data removed]",
      "text/plain": [
       "<Figure size 432x288 with 1 Axes>"
      ]
     },
     "metadata": {
      "needs_background": "light"
     },
     "output_type": "display_data"
    },
    {
     "data": {
      "image/png": "[encoded data removed]",
      "text/plain": [
       "<Figure size 432x288 with 1 Axes>"
      ]
     },
     "metadata": {
      "needs_background": "light"
     },
     "output_type": "display_data"
    },
    {
     "data": {
      "image/png": "[encoded data removed]",
      "text/plain": [
       "<Figure size 432x288 with 1 Axes>"
      ]
     },
     "metadata": {
      "needs_background": "light"
     },
     "output_type": "display_data"
    },
    {
     "data": {
      "image/png": "[encoded data removed]",
      "text/plain": [
       "<Figure size 432x288 with 1 Axes>"
      ]
     },
     "metadata": {
      "needs_background": "light"
     },
     "output_type": "display_data"
    }
   ],
   "source": [
    "plt.figure(figsize=(6, 6))\n",
    "for i in range(5):    \n",
    "    sns.distplot(df.query('cluster_km==@i')['contract_period'])\n",
    "    plt.title('Contract_period. Claster '+ str(i))    \n",
    "    plt.show()"
   ]
  },
  {
   "cell_type": "markdown",
   "metadata": {},
   "source": [
    "Проанализируем распределение периодов контрактов в разрезе кластеров. В нулевом, втором, третьем и четвертом кластере больше всего краткосрочных месячных контрактов. В первом, премиальном кластере - преимущественно догосрочные контракты. Меньше всего долгосрочных контрактов - в проблемном втором кластере."
   ]
  },
  {
   "cell_type": "code",
   "execution_count": 49,
   "metadata": {},
   "outputs": [
    {
     "data": {
      "image/png": "[encoded data removed]",
      "text/plain": [
       "<Figure size 432x432 with 1 Axes>"
      ]
     },
     "metadata": {
      "needs_background": "light"
     },
     "output_type": "display_data"
    },
    {
     "data": {
      "image/png": "[encoded data removed]",
      "text/plain": [
       "<Figure size 432x288 with 1 Axes>"
      ]
     },
     "metadata": {
      "needs_background": "light"
     },
     "output_type": "display_data"
    },
    {
     "data": {
      "image/png": "[encoded data removed]",
      "text/plain": [
       "<Figure size 432x288 with 1 Axes>"
      ]
     },
     "metadata": {
      "needs_background": "light"
     },
     "output_type": "display_data"
    },
    {
     "data": {
      "image/png": "[encoded data removed]",
      "text/plain": [
       "<Figure size 432x288 with 1 Axes>"
      ]
     },
     "metadata": {
      "needs_background": "light"
     },
     "output_type": "display_data"
    },
    {
     "data": {
      "image/png": "[encoded data removed]",
      "text/plain": [
       "<Figure size 432x288 with 1 Axes>"
      ]
     },
     "metadata": {
      "needs_background": "light"
     },
     "output_type": "display_data"
    }
   ],
   "source": [
    "plt.figure(figsize=(6, 6))\n",
    "for i in range(5):    \n",
    "    sns.distplot(df.query('cluster_km==@i')['age'])\n",
    "    plt.title('Аge. Claster '+ str(i))    \n",
    "    plt.show()"
   ]
  },
  {
   "cell_type": "markdown",
   "metadata": {},
   "source": [
    "Наиболее близкое к нормальному распределение - в нулевом кластере. Относительно ровное распределение в 4 кластере, но область более широкая, чем в нулевом. Распределение кластера 2 - самое неравномерное. Плотность распредеелния 1 кластера достаточно широкая, от 28 до 33. В 3 кластере датасет смещен влево, больше молодых клиентов."
   ]
  },
  {
   "cell_type": "code",
   "execution_count": 50,
   "metadata": {},
   "outputs": [
    {
     "data": {
      "image/png": "[encoded data removed]",
      "text/plain": [
       "<Figure size 432x432 with 1 Axes>"
      ]
     },
     "metadata": {
      "needs_background": "light"
     },
     "output_type": "display_data"
    },
    {
     "data": {
      "image/png": "[encoded data removed]",
      "text/plain": [
       "<Figure size 432x288 with 1 Axes>"
      ]
     },
     "metadata": {
      "needs_background": "light"
     },
     "output_type": "display_data"
    },
    {
     "data": {
      "image/png": "[encoded data removed]",
      "text/plain": [
       "<Figure size 432x288 with 1 Axes>"
      ]
     },
     "metadata": {
      "needs_background": "light"
     },
     "output_type": "display_data"
    },
    {
     "data": {
      "image/png": "[encoded data removed]",
      "text/plain": [
       "<Figure size 432x288 with 1 Axes>"
      ]
     },
     "metadata": {
      "needs_background": "light"
     },
     "output_type": "display_data"
    },
    {
     "data": {
      "image/png": "[encoded data removed]",
      "text/plain": [
       "<Figure size 432x288 with 1 Axes>"
      ]
     },
     "metadata": {
      "needs_background": "light"
     },
     "output_type": "display_data"
    }
   ],
   "source": [
    "plt.figure(figsize=(6, 6))\n",
    "for i in range(5):    \n",
    "    sns.distplot(df.query('cluster_km==@i')['avg_additional_charges_total'])\n",
    "    plt.title('Avg_additional_charges_total. Claster '+ str(i))    \n",
    "    plt.show()"
   ]
  },
  {
   "cell_type": "markdown",
   "metadata": {},
   "source": [
    "Распределение дополнительных расходов равномернее всего выглядит для 2 и 1 кластера. В нулевом кластере максимально плотное распределение - до 210 условных единиц, но с самым маленьким разбросом, после 210 у.е. идет резкий спад количества пользователей допуслуг."
   ]
  },
  {
   "cell_type": "markdown",
   "metadata": {},
   "source": [
    "## Общие выводы и рекомендации."
   ]
  },
  {
   "cell_type": "markdown",
   "metadata": {},
   "source": [
    "### Выводы"
   ]
  },
  {
   "cell_type": "markdown",
   "metadata": {},
   "source": [
    "- В выборке - примерно 30% ушедших клиентов и 60% - оставшихся.\n",
    "- Основные посетители фитнес-клуба - клиенты от 18 лет до 41 года. Средний (и медианный) возраст - 29 лет. \n",
    "- У большинства клиентов в выборке абонемент заканчивается через месяц. Можно предположить, что большинство в этой группе - клиенты с месячным абонементом. Следующая группа - предположительно, в большинстве, клиенты с полугодовым абонементом. Далее - группа, у которой абонемент заканчивается через 12 месяцев.\n",
    "- Большинство клиентов - это относительно недавно обратившиеся в клуб абоненты (до года).\n",
    "- Средняя выручка от прочих услуг на 1 клиента, в среднем, составляет 146 условных единиц (медианное значение - 136 единиц).\n",
    "- Среднее время до окончания контракта - 3,7 мес, медиана - 3 месяца.\n",
    "- Средня частота посещений за неделю - 1,8 посещения.\n",
    "\n",
    "Сравнительные показатели ушедших и оставшихся клиентов:\n",
    "\n",
    "- Соотношение полов у ушедших и оставшихся практически идентично, 51%, что позволяет предположить, что пол не является причиной, влияющей на решение уйти.\n",
    "- В группе ушедших - в среднем 76% тех, для кого клуб находится в районной доступности. Среди оставшихся - 87%. Можно выдвинуть гипотезу о том, что местоположение играет роль в принятии решения о дальнейшем посещении клуба.\n",
    "- Среди ушедших - 35% корпоративных клиентов. Среди оставшихся - 53%. Можно выдвинуть гипотезу о влиянии наличия корпоративной карты на решение о дальнейшем посещении клуба.\n",
    "- Среди оставшихся - 35% участвовали в акции \"приведи друга\". Среди ушедших - всего лишь 18%.\n",
    "- Средняя длительность контракта среди ушедших - 1,72 мес. Средняя длительность среди оставшихся - 5,7 мес. Можно сделать выводы о том, что клиенты с долгосрочным абонементом менее склонны к решению прекратить посещение клуба, чем люди с месячным абонементом.\n",
    "- 26% ушедших посещали групповые занятия. 46% оставшихся - посещают.\n",
    "- Средний возраст ушедших - 26,9 лет. Средний возраст оставшихся - 29,9. Можно предположить, что старшее поколение менее склонно часто менять фитнес-клубы или отказываться от курса на здоровый образ жизни.\n",
    "- Средний чек на допуслуги оставшихся - 158 условных единиц. Средний чек ушедших - 115 условных единиц. Гипотеза: клиенты, серьезно занимающиеся спортом нуждаются в комплексе прочих товаров и услуг фитнес-центров.\n",
    "- Средняя частота посещения занятий в неделю у оставшихся - 2 раза, у ушедших - 1,5 раза. Тенденция показывает, что реже посещающие более склонны к решению прекратить посещение клуба.\n",
    "- avg_class_frequency_current_month. Тенденция аналогична показателю avg_class_frequency_total, но различие выражено более ярко. Для оставшихся клиентов среднее количество посещений в неделю - 2, для ушедших - 1. Т.е. в последний месяц склонные к уходу сокращают количество посещений примерно в 2 раза.\n",
    "\n",
    "Прогнозирование методом логистической регрессии и методом случайного леса и применение проверочных метрик показало, что:\n",
    "\n",
    "- Доля правильных ответов на 1% выше при применении алгоритма случайного леса. Но и логистическая регрессия дает долю меньше всего лишь на 1%, различие невелико. \n",
    "- Метрика precision говорит, какая доля прогнозов относительно 1 класса верна (доля правильных ответов только в целевом классе, в нашем случае - доля ушедших клиентов). Она одинакова и для случайного леса и для логистической регрессии.\n",
    "- Метрика recall более точна для логистической регрессии.\n",
    "- Метрика F1 более точна для логистической регрессии.\n",
    "- Метрика ROC_AUC идентична для обеих моделей.\n",
    "\n",
    "Кластеризация методом K-means выделила следующие кластеры со следующими признаками:\n",
    "\n",
    "- Клиенты первого кластера характеризуются почти равным разделением полов (как и прочие кластеры, в этой связи предлагается не упоминать в анализе данный признак, как не влияющий на поведение пользователей). Почти все пользователи этого кластера проживают или работают рядом с клубом. Самое большое количество пользователей этого кластера являются корпоративными клиентами. 89% клиентов этого кластера участвовали в программе \"Приведи друга\". Этот кластер - второй по численности. Длительность контракта этого кластера - 7,6 месяцев, что говорит о серьезности намерений клиентов. Половина клиентов посещает групповые занятия. Средний возраст участников кластера - 28,7 лет. Средние расходы на дополнительные услуги высоки и занимают 1 место из 5. Средний lifetime - первый по длительности, 4,3. Частота посещений - на 1 месте, 1,97 раз в неделю. Отток -  самый низкий, 12% . По совокупности характеристик предлагается охарактеризовать этот кластер \"Премиум\".\n",
    "\n",
    "- Третий кластер - третий по массовости, 871 клиент. Они также проживают или работают в районной доступности. Всего 25% является корпоративными клиентами. Почти никто из них не участвовал в программе \"Приведи друга\". Средний период контракта этого кластера 4,5 месяцев. Максимальное количество клиентов этого кластера посещают групповые занятия, 100%. Средний возраст - самый высокий, 29,5 лет. Расходы на допуслуги 148 у.е. lifetime - 3,7 мес. Высокий показатель среднего количества посещений в неделю, 1,94. Малый показатель оттока, 20%.\n",
    "\n",
    "- Кластер 0 - почти самый немногочисленный (за исключением 4 кластера), 561 клиент. Никто из них не проживает и не работает в районной доступности с фитнес-центром. Половина из них - участники корпоративной партнерской программы. 7% (незначительная доля) участвовали в акции \"Приведи друга\". Средний период контракта клиентов данного кластера - 3 месяца, почти самый низкий показатель. Всего 23% клиентов посещают групповые занятия, это наименьший показатель среди всех кластеров. Средний возраст участников - 28,7 лет. Расходы на допуслуги почти самые низкие, 137 у.е. Lifetime - почти идентичен contract_period. avg_class_frequency_total - 1,77 раз в неделю, также почти самый низкий показатель посещаемости. Отток клиентов этого кластера - 40%. По совокупности факторов можно охарактеризовать как нестабильный и склонный к оттоку кластер. Исходя из совокупности факторов можно рекомендодвать руководству клуба не расходовать ресурсы на программы по удержанию клиентов этого кластера.\n",
    "\n",
    "- Кластер 4 - самый немногочисленный, 386 клиентов. 86% клиентов проживает и работает в районной доступности с фитнес-центром. 30% являются корпоративными клиентами. contract_period - средний по длительности, 4,7 мес. 42% клиентов посещают групповые занятия. Средний возраст - 29 лет. Стоимость допуслуг - 144 у.е., это средний показатель. lifetime - почти 4 месяца. Частота посещений в месяц неплохая, 1.85 раз. Отток - 26,6%. По совокупности факторов кластер достаточно перспективный, можно попробовать провести мероприятия по удержанию клиентов. Также, по совокупности параметров этот кластер ближе к нулевому кластеру, скорее всего, если при кластеризации следовать рекомендованному дендрограммой n_clusters = 4, этот кластер был бы в большей степени поглощен треьим кластером (гипотеза).\n",
    "\n",
    "- Кластер 2 - самый многочисленный. Все клиенты проживают или работают в районной доступности фитнес-центра. Всего 23% из них - корпоративные клиенты. Почти никто не участвовал в акции \"Приведи друга\". Период контракта - краткосрочный, почти 2,8 месяца. Скорее всего в числе клиентов этого кластера много посетителей с месячным абонементом. Никто из них не посещает групповые занятия. Средний возраст - низкий, 28,7 лет. Расходы на дополнительные услуги - низкие, 143 у.е. Lifetime - 3,3 месяца. Средняя частота посещений - 1,8 раза в неделю. Отток почти самый высокий, 38%."
   ]
  },
  {
   "cell_type": "markdown",
   "metadata": {},
   "source": [
    "### Рекомендации."
   ]
  },
  {
   "cell_type": "markdown",
   "metadata": {},
   "source": [
    "По итогам анализа и кластеризации пользователей рекомендуется уделить внимание 2 кластеру и провести мероприятия по удержанию клиентов. Причины - многочисленность кластера (уходит много потенциальных клиентов) и 100-% проживание в районе нахождения клуба (очень важный фактор). Проведение целевых промо может позволить удержать часть клиентов, уменьшить отток и увеличить выручку фитнес-центра. также рекомендуется не расходовать ресурсы на программы по удержанию клиентов нулевого, склонного к оттоку кластера."
   ]
  }
 ],
 "metadata": {
  "ExecuteTimeLog": [
   {
    "duration": 1297,
    "start_time": "2021-09-24T09:15:26.572Z"
   },
   {
    "duration": 23,
    "start_time": "2021-09-24T09:16:33.159Z"
   },
   {
    "duration": 22,
    "start_time": "2021-09-24T09:17:21.382Z"
   },
   {
    "duration": 9,
    "start_time": "2021-09-24T09:17:30.902Z"
   },
   {
    "duration": 454,
    "start_time": "2021-09-24T09:42:14.421Z"
   },
   {
    "duration": 3,
    "start_time": "2021-09-24T09:43:27.827Z"
   },
   {
    "duration": 8,
    "start_time": "2021-09-24T09:44:18.969Z"
   },
   {
    "duration": 16,
    "start_time": "2021-09-24T09:45:25.522Z"
   },
   {
    "duration": 7,
    "start_time": "2021-09-24T09:47:30.345Z"
   },
   {
    "duration": 11,
    "start_time": "2021-09-24T09:48:27.589Z"
   },
   {
    "duration": 6,
    "start_time": "2021-09-24T09:51:33.593Z"
   },
   {
    "duration": 6,
    "start_time": "2021-09-24T09:51:37.362Z"
   },
   {
    "duration": 6,
    "start_time": "2021-09-24T09:51:38.220Z"
   },
   {
    "duration": 7,
    "start_time": "2021-09-24T09:51:38.866Z"
   },
   {
    "duration": 6,
    "start_time": "2021-09-24T09:51:40.289Z"
   },
   {
    "duration": 6,
    "start_time": "2021-09-24T09:51:40.298Z"
   },
   {
    "duration": 7,
    "start_time": "2021-09-24T09:51:41.267Z"
   },
   {
    "duration": 6,
    "start_time": "2021-09-24T09:51:42.634Z"
   },
   {
    "duration": 6,
    "start_time": "2021-09-24T09:52:00.911Z"
   },
   {
    "duration": 7,
    "start_time": "2021-09-24T09:52:43.444Z"
   },
   {
    "duration": 6,
    "start_time": "2021-09-24T09:52:44.622Z"
   },
   {
    "duration": 6,
    "start_time": "2021-09-24T09:54:36.184Z"
   },
   {
    "duration": 1225,
    "start_time": "2021-09-24T09:55:44.478Z"
   },
   {
    "duration": 23,
    "start_time": "2021-09-24T09:55:45.705Z"
   },
   {
    "duration": 8,
    "start_time": "2021-09-24T09:55:45.730Z"
   },
   {
    "duration": 6,
    "start_time": "2021-09-24T09:55:45.740Z"
   },
   {
    "duration": 13,
    "start_time": "2021-09-24T09:55:45.747Z"
   },
   {
    "duration": 21,
    "start_time": "2021-09-24T09:55:45.761Z"
   },
   {
    "duration": 6,
    "start_time": "2021-09-24T09:55:45.783Z"
   },
   {
    "duration": 11,
    "start_time": "2021-09-24T09:55:45.792Z"
   },
   {
    "duration": 9,
    "start_time": "2021-09-24T09:55:45.805Z"
   },
   {
    "duration": 7,
    "start_time": "2021-09-24T09:55:45.816Z"
   },
   {
    "duration": 7,
    "start_time": "2021-09-24T09:55:45.824Z"
   },
   {
    "duration": 7,
    "start_time": "2021-09-24T09:55:45.832Z"
   },
   {
    "duration": 37,
    "start_time": "2021-09-24T09:55:45.840Z"
   },
   {
    "duration": 6,
    "start_time": "2021-09-24T09:55:45.879Z"
   },
   {
    "duration": 11,
    "start_time": "2021-09-24T09:55:45.886Z"
   },
   {
    "duration": 5,
    "start_time": "2021-09-24T09:55:45.899Z"
   },
   {
    "duration": 10,
    "start_time": "2021-09-24T09:55:45.906Z"
   },
   {
    "duration": 9,
    "start_time": "2021-09-24T09:55:45.917Z"
   },
   {
    "duration": 7,
    "start_time": "2021-09-24T09:55:45.927Z"
   },
   {
    "duration": 8,
    "start_time": "2021-09-24T09:55:45.935Z"
   },
   {
    "duration": 562,
    "start_time": "2021-09-24T12:12:44.595Z"
   },
   {
    "duration": 4,
    "start_time": "2021-09-24T12:12:48.158Z"
   },
   {
    "duration": 494,
    "start_time": "2021-09-24T12:13:13.721Z"
   },
   {
    "duration": 1265,
    "start_time": "2021-09-24T12:13:54.292Z"
   },
   {
    "duration": 22,
    "start_time": "2021-09-24T12:13:55.559Z"
   },
   {
    "duration": 8,
    "start_time": "2021-09-24T12:13:55.585Z"
   },
   {
    "duration": 6,
    "start_time": "2021-09-24T12:13:55.594Z"
   },
   {
    "duration": 6,
    "start_time": "2021-09-24T12:13:55.601Z"
   },
   {
    "duration": 10,
    "start_time": "2021-09-24T12:13:55.609Z"
   },
   {
    "duration": 11,
    "start_time": "2021-09-24T12:13:55.622Z"
   },
   {
    "duration": 5,
    "start_time": "2021-09-24T12:13:55.636Z"
   },
   {
    "duration": 37,
    "start_time": "2021-09-24T12:13:55.643Z"
   },
   {
    "duration": 11,
    "start_time": "2021-09-24T12:13:55.681Z"
   },
   {
    "duration": 7,
    "start_time": "2021-09-24T12:13:55.694Z"
   },
   {
    "duration": 6,
    "start_time": "2021-09-24T12:13:55.702Z"
   },
   {
    "duration": 8,
    "start_time": "2021-09-24T12:13:55.710Z"
   },
   {
    "duration": 6,
    "start_time": "2021-09-24T12:13:55.720Z"
   },
   {
    "duration": 15,
    "start_time": "2021-09-24T12:13:55.727Z"
   },
   {
    "duration": 38,
    "start_time": "2021-09-24T12:13:55.744Z"
   },
   {
    "duration": 6,
    "start_time": "2021-09-24T12:13:55.784Z"
   },
   {
    "duration": 5,
    "start_time": "2021-09-24T12:13:55.792Z"
   },
   {
    "duration": 10,
    "start_time": "2021-09-24T12:13:55.799Z"
   },
   {
    "duration": 6,
    "start_time": "2021-09-24T12:13:55.810Z"
   },
   {
    "duration": 5,
    "start_time": "2021-09-24T12:13:55.818Z"
   },
   {
    "duration": 534,
    "start_time": "2021-09-24T12:13:55.826Z"
   },
   {
    "duration": 485,
    "start_time": "2021-09-24T12:14:10.224Z"
   },
   {
    "duration": 473,
    "start_time": "2021-09-24T12:15:12.400Z"
   },
   {
    "duration": 4,
    "start_time": "2021-09-24T12:15:32.468Z"
   },
   {
    "duration": 1252,
    "start_time": "2021-09-24T12:15:38.166Z"
   },
   {
    "duration": 23,
    "start_time": "2021-09-24T12:15:39.420Z"
   },
   {
    "duration": 8,
    "start_time": "2021-09-24T12:15:39.445Z"
   },
   {
    "duration": 11,
    "start_time": "2021-09-24T12:15:39.455Z"
   },
   {
    "duration": 9,
    "start_time": "2021-09-24T12:15:39.468Z"
   },
   {
    "duration": 21,
    "start_time": "2021-09-24T12:15:39.479Z"
   },
   {
    "duration": 15,
    "start_time": "2021-09-24T12:15:39.501Z"
   },
   {
    "duration": 5,
    "start_time": "2021-09-24T12:15:39.518Z"
   },
   {
    "duration": 16,
    "start_time": "2021-09-24T12:15:39.526Z"
   },
   {
    "duration": 8,
    "start_time": "2021-09-24T12:15:39.544Z"
   },
   {
    "duration": 16,
    "start_time": "2021-09-24T12:15:39.554Z"
   },
   {
    "duration": 10,
    "start_time": "2021-09-24T12:15:39.571Z"
   },
   {
    "duration": 6,
    "start_time": "2021-09-24T12:15:39.583Z"
   },
   {
    "duration": 17,
    "start_time": "2021-09-24T12:15:39.591Z"
   },
   {
    "duration": 9,
    "start_time": "2021-09-24T12:15:39.610Z"
   },
   {
    "duration": 10,
    "start_time": "2021-09-24T12:15:39.620Z"
   },
   {
    "duration": 11,
    "start_time": "2021-09-24T12:15:39.631Z"
   },
   {
    "duration": 10,
    "start_time": "2021-09-24T12:15:39.643Z"
   },
   {
    "duration": 7,
    "start_time": "2021-09-24T12:15:39.654Z"
   },
   {
    "duration": 10,
    "start_time": "2021-09-24T12:15:39.663Z"
   },
   {
    "duration": 16,
    "start_time": "2021-09-24T12:15:39.675Z"
   },
   {
    "duration": 485,
    "start_time": "2021-09-24T12:15:39.693Z"
   },
   {
    "duration": 10,
    "start_time": "2021-09-24T12:15:40.180Z"
   },
   {
    "duration": 9,
    "start_time": "2021-09-24T12:16:30.666Z"
   },
   {
    "duration": 458,
    "start_time": "2021-09-24T12:17:41.058Z"
   },
   {
    "duration": 10,
    "start_time": "2021-09-24T12:17:50.234Z"
   },
   {
    "duration": 9,
    "start_time": "2021-09-24T12:18:09.784Z"
   },
   {
    "duration": 999,
    "start_time": "2021-09-24T12:23:44.550Z"
   },
   {
    "duration": 350,
    "start_time": "2021-09-24T12:24:31.304Z"
   },
   {
    "duration": 33,
    "start_time": "2021-09-24T12:24:43.756Z"
   },
   {
    "duration": 1226,
    "start_time": "2021-09-24T12:41:58.626Z"
   },
   {
    "duration": 22,
    "start_time": "2021-09-24T12:41:59.854Z"
   },
   {
    "duration": 7,
    "start_time": "2021-09-24T12:41:59.879Z"
   },
   {
    "duration": 5,
    "start_time": "2021-09-24T12:41:59.888Z"
   },
   {
    "duration": 4,
    "start_time": "2021-09-24T12:41:59.895Z"
   },
   {
    "duration": 9,
    "start_time": "2021-09-24T12:41:59.901Z"
   },
   {
    "duration": 16,
    "start_time": "2021-09-24T12:41:59.912Z"
   },
   {
    "duration": 6,
    "start_time": "2021-09-24T12:41:59.932Z"
   },
   {
    "duration": 45,
    "start_time": "2021-09-24T12:41:59.940Z"
   },
   {
    "duration": 8,
    "start_time": "2021-09-24T12:41:59.987Z"
   },
   {
    "duration": 5,
    "start_time": "2021-09-24T12:41:59.997Z"
   },
   {
    "duration": 14,
    "start_time": "2021-09-24T12:42:00.004Z"
   },
   {
    "duration": 12,
    "start_time": "2021-09-24T12:42:00.020Z"
   },
   {
    "duration": 7,
    "start_time": "2021-09-24T12:42:00.034Z"
   },
   {
    "duration": 36,
    "start_time": "2021-09-24T12:42:00.043Z"
   },
   {
    "duration": 7,
    "start_time": "2021-09-24T12:42:00.082Z"
   },
   {
    "duration": 8,
    "start_time": "2021-09-24T12:42:00.091Z"
   },
   {
    "duration": 10,
    "start_time": "2021-09-24T12:42:00.100Z"
   },
   {
    "duration": 11,
    "start_time": "2021-09-24T12:42:00.112Z"
   },
   {
    "duration": 8,
    "start_time": "2021-09-24T12:42:00.126Z"
   },
   {
    "duration": 43,
    "start_time": "2021-09-24T12:42:00.136Z"
   },
   {
    "duration": 11,
    "start_time": "2021-09-24T12:42:00.181Z"
   },
   {
    "duration": 29,
    "start_time": "2021-09-24T12:42:00.195Z"
   },
   {
    "duration": 42,
    "start_time": "2021-09-24T12:42:24.773Z"
   },
   {
    "duration": 136,
    "start_time": "2021-09-24T12:47:22.354Z"
   },
   {
    "duration": 16,
    "start_time": "2021-09-24T12:50:38.691Z"
   },
   {
    "duration": 7,
    "start_time": "2021-09-24T13:10:18.863Z"
   },
   {
    "duration": 3,
    "start_time": "2021-09-24T13:42:11.869Z"
   },
   {
    "duration": 447,
    "start_time": "2021-09-24T13:48:02.606Z"
   },
   {
    "duration": 3,
    "start_time": "2021-09-24T13:48:44.209Z"
   },
   {
    "duration": 404,
    "start_time": "2021-09-24T13:49:14.461Z"
   },
   {
    "duration": 926,
    "start_time": "2021-09-24T13:49:46.514Z"
   },
   {
    "duration": 4,
    "start_time": "2021-09-24T13:50:58.858Z"
   },
   {
    "duration": 4,
    "start_time": "2021-09-24T13:51:38.051Z"
   },
   {
    "duration": 2,
    "start_time": "2021-09-24T13:51:38.356Z"
   },
   {
    "duration": 262,
    "start_time": "2021-09-24T13:51:54.378Z"
   },
   {
    "duration": 1994,
    "start_time": "2021-09-27T05:45:22.114Z"
   },
   {
    "duration": 23,
    "start_time": "2021-09-27T05:45:24.111Z"
   },
   {
    "duration": 11,
    "start_time": "2021-09-27T05:45:24.137Z"
   },
   {
    "duration": 22,
    "start_time": "2021-09-27T05:45:24.150Z"
   },
   {
    "duration": 19,
    "start_time": "2021-09-27T05:45:24.174Z"
   },
   {
    "duration": 23,
    "start_time": "2021-09-27T05:45:24.195Z"
   },
   {
    "duration": 35,
    "start_time": "2021-09-27T05:45:24.220Z"
   },
   {
    "duration": 8,
    "start_time": "2021-09-27T05:45:24.258Z"
   },
   {
    "duration": 24,
    "start_time": "2021-09-27T05:45:24.269Z"
   },
   {
    "duration": 14,
    "start_time": "2021-09-27T05:45:24.295Z"
   },
   {
    "duration": 9,
    "start_time": "2021-09-27T05:45:24.311Z"
   },
   {
    "duration": 22,
    "start_time": "2021-09-27T05:45:24.322Z"
   },
   {
    "duration": 21,
    "start_time": "2021-09-27T05:45:24.347Z"
   },
   {
    "duration": 8,
    "start_time": "2021-09-27T05:45:24.370Z"
   },
   {
    "duration": 10,
    "start_time": "2021-09-27T05:45:24.380Z"
   },
   {
    "duration": 10,
    "start_time": "2021-09-27T05:45:24.392Z"
   },
   {
    "duration": 8,
    "start_time": "2021-09-27T05:45:24.404Z"
   },
   {
    "duration": 8,
    "start_time": "2021-09-27T05:45:24.415Z"
   },
   {
    "duration": 9,
    "start_time": "2021-09-27T05:45:24.468Z"
   },
   {
    "duration": 8,
    "start_time": "2021-09-27T05:45:24.479Z"
   },
   {
    "duration": 6,
    "start_time": "2021-09-27T05:45:24.490Z"
   },
   {
    "duration": 16,
    "start_time": "2021-09-27T05:45:24.499Z"
   },
   {
    "duration": 106,
    "start_time": "2021-09-27T05:45:24.519Z"
   },
   {
    "duration": 42,
    "start_time": "2021-09-27T05:45:24.627Z"
   },
   {
    "duration": 9,
    "start_time": "2021-09-27T05:45:24.671Z"
   },
   {
    "duration": 7,
    "start_time": "2021-09-27T05:45:24.682Z"
   },
   {
    "duration": 8,
    "start_time": "2021-09-27T05:45:24.691Z"
   },
   {
    "duration": 341,
    "start_time": "2021-09-27T05:45:24.701Z"
   },
   {
    "duration": 3,
    "start_time": "2021-09-27T05:45:25.045Z"
   },
   {
    "duration": 725,
    "start_time": "2021-09-27T06:15:44.314Z"
   },
   {
    "duration": 1614,
    "start_time": "2021-09-27T06:16:00.233Z"
   },
   {
    "duration": 24,
    "start_time": "2021-09-27T06:16:01.849Z"
   },
   {
    "duration": 53,
    "start_time": "2021-09-27T06:16:01.876Z"
   },
   {
    "duration": 29,
    "start_time": "2021-09-27T06:16:01.931Z"
   },
   {
    "duration": 33,
    "start_time": "2021-09-27T06:16:01.962Z"
   },
   {
    "duration": 22,
    "start_time": "2021-09-27T06:16:01.997Z"
   },
   {
    "duration": 31,
    "start_time": "2021-09-27T06:16:02.022Z"
   },
   {
    "duration": 8,
    "start_time": "2021-09-27T06:16:02.056Z"
   },
   {
    "duration": 28,
    "start_time": "2021-09-27T06:16:02.069Z"
   },
   {
    "duration": 23,
    "start_time": "2021-09-27T06:16:02.100Z"
   },
   {
    "duration": 17,
    "start_time": "2021-09-27T06:16:02.126Z"
   },
   {
    "duration": 17,
    "start_time": "2021-09-27T06:16:02.145Z"
   },
   {
    "duration": 23,
    "start_time": "2021-09-27T06:16:02.164Z"
   },
   {
    "duration": 18,
    "start_time": "2021-09-27T06:16:02.190Z"
   },
   {
    "duration": 25,
    "start_time": "2021-09-27T06:16:02.210Z"
   },
   {
    "duration": 20,
    "start_time": "2021-09-27T06:16:02.237Z"
   },
   {
    "duration": 8,
    "start_time": "2021-09-27T06:16:02.260Z"
   },
   {
    "duration": 17,
    "start_time": "2021-09-27T06:16:02.271Z"
   },
   {
    "duration": 16,
    "start_time": "2021-09-27T06:16:02.291Z"
   },
   {
    "duration": 14,
    "start_time": "2021-09-27T06:16:02.310Z"
   },
   {
    "duration": 8,
    "start_time": "2021-09-27T06:16:02.326Z"
   },
   {
    "duration": 40,
    "start_time": "2021-09-27T06:16:02.336Z"
   },
   {
    "duration": 91,
    "start_time": "2021-09-27T06:16:02.378Z"
   },
   {
    "duration": 24,
    "start_time": "2021-09-27T06:16:02.471Z"
   },
   {
    "duration": 14,
    "start_time": "2021-09-27T06:16:02.497Z"
   },
   {
    "duration": 23,
    "start_time": "2021-09-27T06:16:02.513Z"
   },
   {
    "duration": 18,
    "start_time": "2021-09-27T06:16:02.541Z"
   },
   {
    "duration": 370,
    "start_time": "2021-09-27T06:16:02.562Z"
   },
   {
    "duration": 727,
    "start_time": "2021-09-27T06:16:02.934Z"
   },
   {
    "duration": 858,
    "start_time": "2021-09-27T06:17:15.578Z"
   },
   {
    "duration": 103,
    "start_time": "2021-09-27T06:17:30.825Z"
   },
   {
    "duration": 1554,
    "start_time": "2021-09-27T06:17:34.498Z"
   },
   {
    "duration": 1519,
    "start_time": "2021-09-27T06:34:33.848Z"
   },
   {
    "duration": 1603,
    "start_time": "2021-09-27T06:34:42.257Z"
   },
   {
    "duration": 4,
    "start_time": "2021-09-27T06:44:23.824Z"
   },
   {
    "duration": 6,
    "start_time": "2021-09-27T06:44:32.676Z"
   },
   {
    "duration": 1508,
    "start_time": "2021-09-27T06:44:51.719Z"
   },
   {
    "duration": 478,
    "start_time": "2021-09-27T06:45:23.173Z"
   },
   {
    "duration": 310,
    "start_time": "2021-09-27T06:45:30.428Z"
   },
   {
    "duration": 526,
    "start_time": "2021-09-27T06:45:35.317Z"
   },
   {
    "duration": 316,
    "start_time": "2021-09-27T06:45:58.297Z"
   },
   {
    "duration": 30,
    "start_time": "2021-09-27T06:54:13.843Z"
   },
   {
    "duration": 7,
    "start_time": "2021-09-27T06:55:30.715Z"
   },
   {
    "duration": 2273,
    "start_time": "2021-09-27T06:55:48.787Z"
   },
   {
    "duration": 1514,
    "start_time": "2021-09-27T06:56:09.387Z"
   },
   {
    "duration": 5015,
    "start_time": "2021-09-27T06:57:33.425Z"
   },
   {
    "duration": 1685,
    "start_time": "2021-09-27T06:58:13.222Z"
   },
   {
    "duration": 1979,
    "start_time": "2021-09-27T07:01:06.557Z"
   },
   {
    "duration": 518,
    "start_time": "2021-09-27T07:01:20.819Z"
   },
   {
    "duration": 1756,
    "start_time": "2021-09-27T07:12:46.590Z"
   },
   {
    "duration": 2021,
    "start_time": "2021-09-27T07:14:01.911Z"
   },
   {
    "duration": 1737,
    "start_time": "2021-09-27T07:14:12.399Z"
   },
   {
    "duration": 1662,
    "start_time": "2021-09-27T07:14:20.500Z"
   },
   {
    "duration": 1865,
    "start_time": "2021-09-27T07:14:30.223Z"
   },
   {
    "duration": 2012,
    "start_time": "2021-09-27T07:29:49.690Z"
   },
   {
    "duration": 1703,
    "start_time": "2021-09-27T07:30:14.340Z"
   },
   {
    "duration": 331,
    "start_time": "2021-09-27T07:30:24.969Z"
   },
   {
    "duration": 1734,
    "start_time": "2021-09-27T07:30:29.227Z"
   },
   {
    "duration": 354,
    "start_time": "2021-09-27T07:30:37.415Z"
   },
   {
    "duration": 1852,
    "start_time": "2021-09-27T07:30:47.210Z"
   },
   {
    "duration": 13,
    "start_time": "2021-09-27T07:32:15.890Z"
   },
   {
    "duration": 16,
    "start_time": "2021-09-27T07:34:16.397Z"
   },
   {
    "duration": 14,
    "start_time": "2021-09-27T07:38:40.917Z"
   },
   {
    "duration": 16,
    "start_time": "2021-09-27T07:38:43.992Z"
   },
   {
    "duration": 7,
    "start_time": "2021-09-27T07:44:17.563Z"
   },
   {
    "duration": 12,
    "start_time": "2021-09-27T08:04:32.642Z"
   },
   {
    "duration": 6217,
    "start_time": "2021-09-27T12:22:52.384Z"
   },
   {
    "duration": 746,
    "start_time": "2021-09-27T12:24:12.829Z"
   },
   {
    "duration": 6245,
    "start_time": "2021-09-27T12:24:19.469Z"
   },
   {
    "duration": 6391,
    "start_time": "2021-09-27T12:30:56.708Z"
   },
   {
    "duration": 7040,
    "start_time": "2021-09-27T12:41:00.280Z"
   },
   {
    "duration": 7192,
    "start_time": "2021-09-27T12:52:07.452Z"
   },
   {
    "duration": 7071,
    "start_time": "2021-09-27T12:54:43.553Z"
   },
   {
    "duration": 1730,
    "start_time": "2021-09-27T13:12:54.826Z"
   },
   {
    "duration": 1737,
    "start_time": "2021-09-27T13:13:57.615Z"
   },
   {
    "duration": 1742,
    "start_time": "2021-09-27T13:14:27.032Z"
   },
   {
    "duration": 1873,
    "start_time": "2021-09-27T13:14:53.176Z"
   },
   {
    "duration": 1802,
    "start_time": "2021-09-27T13:15:15.320Z"
   },
   {
    "duration": 1855,
    "start_time": "2021-09-27T13:15:44.501Z"
   },
   {
    "duration": 1728,
    "start_time": "2021-09-27T13:16:07.088Z"
   },
   {
    "duration": 1879,
    "start_time": "2021-09-27T13:16:28.864Z"
   },
   {
    "duration": 1769,
    "start_time": "2021-09-27T13:16:48.049Z"
   },
   {
    "duration": 1713,
    "start_time": "2021-09-27T13:17:25.309Z"
   },
   {
    "duration": 1841,
    "start_time": "2021-09-27T13:17:49.685Z"
   },
   {
    "duration": 1719,
    "start_time": "2021-09-27T13:18:18.152Z"
   },
   {
    "duration": 1774,
    "start_time": "2021-09-27T13:18:37.307Z"
   },
   {
    "duration": 1738,
    "start_time": "2021-09-27T13:19:28.009Z"
   },
   {
    "duration": 1858,
    "start_time": "2021-09-27T13:20:45.044Z"
   },
   {
    "duration": 94,
    "start_time": "2021-09-27T13:21:32.777Z"
   },
   {
    "duration": 1721,
    "start_time": "2021-09-27T13:21:40.076Z"
   },
   {
    "duration": 1686,
    "start_time": "2021-09-27T13:21:59.088Z"
   },
   {
    "duration": 1695,
    "start_time": "2021-09-27T13:22:24.582Z"
   },
   {
    "duration": 1854,
    "start_time": "2021-09-27T13:22:44.763Z"
   },
   {
    "duration": 1757,
    "start_time": "2021-09-27T13:23:18.451Z"
   },
   {
    "duration": 1803,
    "start_time": "2021-09-27T13:24:00.201Z"
   },
   {
    "duration": 1832,
    "start_time": "2021-09-27T13:24:45.975Z"
   },
   {
    "duration": 1206,
    "start_time": "2021-09-28T11:40:09.769Z"
   },
   {
    "duration": 23,
    "start_time": "2021-09-28T11:40:10.977Z"
   },
   {
    "duration": 8,
    "start_time": "2021-09-28T11:40:11.002Z"
   },
   {
    "duration": 12,
    "start_time": "2021-09-28T11:40:11.011Z"
   },
   {
    "duration": 6,
    "start_time": "2021-09-28T11:40:11.024Z"
   },
   {
    "duration": 15,
    "start_time": "2021-09-28T11:40:11.032Z"
   },
   {
    "duration": 7,
    "start_time": "2021-09-28T11:40:11.049Z"
   },
   {
    "duration": 8,
    "start_time": "2021-09-28T11:40:11.057Z"
   },
   {
    "duration": 8,
    "start_time": "2021-09-28T11:40:11.069Z"
   },
   {
    "duration": 5,
    "start_time": "2021-09-28T11:40:11.079Z"
   },
   {
    "duration": 8,
    "start_time": "2021-09-28T11:40:11.086Z"
   },
   {
    "duration": 8,
    "start_time": "2021-09-28T11:40:11.095Z"
   },
   {
    "duration": 12,
    "start_time": "2021-09-28T11:40:11.104Z"
   },
   {
    "duration": 31,
    "start_time": "2021-09-28T11:40:11.117Z"
   },
   {
    "duration": 10,
    "start_time": "2021-09-28T11:40:11.150Z"
   },
   {
    "duration": 6,
    "start_time": "2021-09-28T11:40:11.162Z"
   },
   {
    "duration": 7,
    "start_time": "2021-09-28T11:40:11.170Z"
   },
   {
    "duration": 5,
    "start_time": "2021-09-28T11:40:11.179Z"
   },
   {
    "duration": 78,
    "start_time": "2021-09-28T11:40:11.186Z"
   },
   {
    "duration": 17,
    "start_time": "2021-09-28T11:40:11.266Z"
   },
   {
    "duration": 12,
    "start_time": "2021-09-28T11:40:11.284Z"
   },
   {
    "duration": 3,
    "start_time": "2021-09-28T11:40:11.298Z"
   },
   {
    "duration": 4041,
    "start_time": "2021-09-28T11:40:11.303Z"
   },
   {
    "duration": 5,
    "start_time": "2021-09-28T11:40:15.347Z"
   },
   {
    "duration": 1713,
    "start_time": "2021-09-28T11:40:15.354Z"
   },
   {
    "duration": 1058,
    "start_time": "2021-09-28T11:43:52.596Z"
   },
   {
    "duration": 1154,
    "start_time": "2021-09-28T11:44:03.813Z"
   },
   {
    "duration": 320,
    "start_time": "2021-09-28T12:06:21.332Z"
   },
   {
    "duration": 5,
    "start_time": "2021-09-28T12:06:31.983Z"
   },
   {
    "duration": 4,
    "start_time": "2021-09-28T12:07:37.985Z"
   },
   {
    "duration": 4,
    "start_time": "2021-09-28T12:08:23.634Z"
   },
   {
    "duration": 6,
    "start_time": "2021-09-28T12:13:28.433Z"
   },
   {
    "duration": 299,
    "start_time": "2021-09-28T12:16:08.803Z"
   },
   {
    "duration": 3,
    "start_time": "2021-09-28T12:16:35.477Z"
   },
   {
    "duration": 1212,
    "start_time": "2021-09-28T12:16:41.604Z"
   },
   {
    "duration": 23,
    "start_time": "2021-09-28T12:16:42.818Z"
   },
   {
    "duration": 7,
    "start_time": "2021-09-28T12:16:42.843Z"
   },
   {
    "duration": 6,
    "start_time": "2021-09-28T12:16:42.852Z"
   },
   {
    "duration": 7,
    "start_time": "2021-09-28T12:16:42.859Z"
   },
   {
    "duration": 14,
    "start_time": "2021-09-28T12:16:42.868Z"
   },
   {
    "duration": 5,
    "start_time": "2021-09-28T12:16:42.884Z"
   },
   {
    "duration": 8,
    "start_time": "2021-09-28T12:16:42.890Z"
   },
   {
    "duration": 6,
    "start_time": "2021-09-28T12:16:42.900Z"
   },
   {
    "duration": 11,
    "start_time": "2021-09-28T12:16:42.908Z"
   },
   {
    "duration": 28,
    "start_time": "2021-09-28T12:16:42.921Z"
   },
   {
    "duration": 7,
    "start_time": "2021-09-28T12:16:42.952Z"
   },
   {
    "duration": 7,
    "start_time": "2021-09-28T12:16:42.961Z"
   },
   {
    "duration": 7,
    "start_time": "2021-09-28T12:16:42.970Z"
   },
   {
    "duration": 7,
    "start_time": "2021-09-28T12:16:42.979Z"
   },
   {
    "duration": 9,
    "start_time": "2021-09-28T12:16:42.987Z"
   },
   {
    "duration": 6,
    "start_time": "2021-09-28T12:16:42.997Z"
   },
   {
    "duration": 5,
    "start_time": "2021-09-28T12:16:43.045Z"
   },
   {
    "duration": 43,
    "start_time": "2021-09-28T12:16:43.052Z"
   },
   {
    "duration": 15,
    "start_time": "2021-09-28T12:16:43.097Z"
   },
   {
    "duration": 35,
    "start_time": "2021-09-28T12:16:43.114Z"
   },
   {
    "duration": 3,
    "start_time": "2021-09-28T12:16:43.150Z"
   },
   {
    "duration": 4070,
    "start_time": "2021-09-28T12:16:43.155Z"
   },
   {
    "duration": 5,
    "start_time": "2021-09-28T12:16:47.226Z"
   },
   {
    "duration": 1080,
    "start_time": "2021-09-28T12:16:47.233Z"
   },
   {
    "duration": 4,
    "start_time": "2021-09-28T12:16:48.314Z"
   },
   {
    "duration": 5,
    "start_time": "2021-09-28T12:16:48.321Z"
   },
   {
    "duration": 20,
    "start_time": "2021-09-28T12:16:48.327Z"
   },
   {
    "duration": 5,
    "start_time": "2021-09-28T12:16:48.349Z"
   },
   {
    "duration": 167,
    "start_time": "2021-09-28T12:19:36.239Z"
   },
   {
    "duration": 23,
    "start_time": "2021-09-28T12:22:58.695Z"
   },
   {
    "duration": 363,
    "start_time": "2021-09-28T12:30:04.082Z"
   },
   {
    "duration": 5,
    "start_time": "2021-09-28T12:30:14.453Z"
   },
   {
    "duration": 100,
    "start_time": "2021-09-28T12:31:08.543Z"
   },
   {
    "duration": 351,
    "start_time": "2021-09-28T12:31:49.201Z"
   },
   {
    "duration": 5,
    "start_time": "2021-09-28T12:32:28.300Z"
   },
   {
    "duration": 1253,
    "start_time": "2021-09-28T12:32:36.748Z"
   },
   {
    "duration": 24,
    "start_time": "2021-09-28T12:32:38.003Z"
   },
   {
    "duration": 7,
    "start_time": "2021-09-28T12:32:38.031Z"
   },
   {
    "duration": 11,
    "start_time": "2021-09-28T12:32:38.040Z"
   },
   {
    "duration": 5,
    "start_time": "2021-09-28T12:32:38.053Z"
   },
   {
    "duration": 16,
    "start_time": "2021-09-28T12:32:38.060Z"
   },
   {
    "duration": 6,
    "start_time": "2021-09-28T12:32:38.079Z"
   },
   {
    "duration": 8,
    "start_time": "2021-09-28T12:32:38.087Z"
   },
   {
    "duration": 15,
    "start_time": "2021-09-28T12:32:38.096Z"
   },
   {
    "duration": 7,
    "start_time": "2021-09-28T12:32:38.112Z"
   },
   {
    "duration": 27,
    "start_time": "2021-09-28T12:32:38.121Z"
   },
   {
    "duration": 6,
    "start_time": "2021-09-28T12:32:38.150Z"
   },
   {
    "duration": 16,
    "start_time": "2021-09-28T12:32:38.158Z"
   },
   {
    "duration": 8,
    "start_time": "2021-09-28T12:32:38.175Z"
   },
   {
    "duration": 10,
    "start_time": "2021-09-28T12:32:38.185Z"
   },
   {
    "duration": 8,
    "start_time": "2021-09-28T12:32:38.196Z"
   },
   {
    "duration": 12,
    "start_time": "2021-09-28T12:32:38.206Z"
   },
   {
    "duration": 9,
    "start_time": "2021-09-28T12:32:38.220Z"
   },
   {
    "duration": 40,
    "start_time": "2021-09-28T12:32:38.245Z"
   },
   {
    "duration": 14,
    "start_time": "2021-09-28T12:32:38.287Z"
   },
   {
    "duration": 7,
    "start_time": "2021-09-28T12:32:38.303Z"
   },
   {
    "duration": 2,
    "start_time": "2021-09-28T12:32:38.313Z"
   },
   {
    "duration": 4208,
    "start_time": "2021-09-28T12:32:38.345Z"
   },
   {
    "duration": 5,
    "start_time": "2021-09-28T12:32:42.555Z"
   },
   {
    "duration": 1066,
    "start_time": "2021-09-28T12:32:42.561Z"
   },
   {
    "duration": 4,
    "start_time": "2021-09-28T12:32:43.629Z"
   },
   {
    "duration": 10,
    "start_time": "2021-09-28T12:32:43.634Z"
   },
   {
    "duration": 11,
    "start_time": "2021-09-28T12:32:43.646Z"
   },
   {
    "duration": 5,
    "start_time": "2021-09-28T12:32:43.658Z"
   },
   {
    "duration": 28,
    "start_time": "2021-09-28T12:32:43.664Z"
   },
   {
    "duration": 5,
    "start_time": "2021-09-28T12:32:43.693Z"
   },
   {
    "duration": 10,
    "start_time": "2021-09-28T12:32:43.699Z"
   },
   {
    "duration": 1168,
    "start_time": "2021-09-28T14:02:26.992Z"
   },
   {
    "duration": 23,
    "start_time": "2021-09-28T14:02:28.162Z"
   },
   {
    "duration": 32,
    "start_time": "2021-09-28T14:02:28.187Z"
   },
   {
    "duration": 33,
    "start_time": "2021-09-28T14:02:28.221Z"
   },
   {
    "duration": 29,
    "start_time": "2021-09-28T14:02:28.257Z"
   },
   {
    "duration": 47,
    "start_time": "2021-09-28T14:02:28.287Z"
   },
   {
    "duration": 34,
    "start_time": "2021-09-28T14:02:28.336Z"
   },
   {
    "duration": 53,
    "start_time": "2021-09-28T14:02:28.373Z"
   },
   {
    "duration": 37,
    "start_time": "2021-09-28T14:02:28.429Z"
   },
   {
    "duration": 30,
    "start_time": "2021-09-28T14:02:28.468Z"
   },
   {
    "duration": 30,
    "start_time": "2021-09-28T14:02:28.499Z"
   },
   {
    "duration": 42,
    "start_time": "2021-09-28T14:02:28.531Z"
   },
   {
    "duration": 44,
    "start_time": "2021-09-28T14:02:28.574Z"
   },
   {
    "duration": 34,
    "start_time": "2021-09-28T14:02:28.619Z"
   },
   {
    "duration": 31,
    "start_time": "2021-09-28T14:02:28.656Z"
   },
   {
    "duration": 44,
    "start_time": "2021-09-28T14:02:28.689Z"
   },
   {
    "duration": 46,
    "start_time": "2021-09-28T14:02:28.735Z"
   },
   {
    "duration": 35,
    "start_time": "2021-09-28T14:02:28.782Z"
   },
   {
    "duration": 68,
    "start_time": "2021-09-28T14:02:28.819Z"
   },
   {
    "duration": 15,
    "start_time": "2021-09-28T14:02:28.889Z"
   },
   {
    "duration": 13,
    "start_time": "2021-09-28T14:02:28.905Z"
   },
   {
    "duration": 33,
    "start_time": "2021-09-28T14:02:28.919Z"
   },
   {
    "duration": 4304,
    "start_time": "2021-09-28T14:02:28.958Z"
   },
   {
    "duration": 6,
    "start_time": "2021-09-28T14:02:33.264Z"
   },
   {
    "duration": 1109,
    "start_time": "2021-09-28T14:02:33.272Z"
   },
   {
    "duration": 4,
    "start_time": "2021-09-28T14:02:34.383Z"
   },
   {
    "duration": 32,
    "start_time": "2021-09-28T14:02:34.389Z"
   },
   {
    "duration": 20,
    "start_time": "2021-09-28T14:02:34.423Z"
   },
   {
    "duration": 14,
    "start_time": "2021-09-28T14:02:34.449Z"
   },
   {
    "duration": 38,
    "start_time": "2021-09-28T14:02:34.465Z"
   },
   {
    "duration": 359,
    "start_time": "2021-09-28T14:02:34.505Z"
   },
   {
    "duration": -2344,
    "start_time": "2021-09-28T14:02:37.210Z"
   },
   {
    "duration": 6,
    "start_time": "2021-09-28T14:02:51.389Z"
   },
   {
    "duration": 1229,
    "start_time": "2021-09-28T14:02:58.453Z"
   },
   {
    "duration": 23,
    "start_time": "2021-09-28T14:02:59.684Z"
   },
   {
    "duration": 13,
    "start_time": "2021-09-28T14:02:59.709Z"
   },
   {
    "duration": 15,
    "start_time": "2021-09-28T14:02:59.724Z"
   },
   {
    "duration": 12,
    "start_time": "2021-09-28T14:02:59.741Z"
   },
   {
    "duration": 15,
    "start_time": "2021-09-28T14:02:59.756Z"
   },
   {
    "duration": 13,
    "start_time": "2021-09-28T14:02:59.773Z"
   },
   {
    "duration": 10,
    "start_time": "2021-09-28T14:02:59.788Z"
   },
   {
    "duration": 6,
    "start_time": "2021-09-28T14:02:59.800Z"
   },
   {
    "duration": 16,
    "start_time": "2021-09-28T14:02:59.808Z"
   },
   {
    "duration": 11,
    "start_time": "2021-09-28T14:02:59.825Z"
   },
   {
    "duration": 24,
    "start_time": "2021-09-28T14:02:59.838Z"
   },
   {
    "duration": 20,
    "start_time": "2021-09-28T14:02:59.863Z"
   },
   {
    "duration": 14,
    "start_time": "2021-09-28T14:02:59.885Z"
   },
   {
    "duration": 22,
    "start_time": "2021-09-28T14:02:59.900Z"
   },
   {
    "duration": 18,
    "start_time": "2021-09-28T14:02:59.923Z"
   },
   {
    "duration": 16,
    "start_time": "2021-09-28T14:02:59.943Z"
   },
   {
    "duration": 14,
    "start_time": "2021-09-28T14:02:59.961Z"
   },
   {
    "duration": 47,
    "start_time": "2021-09-28T14:02:59.977Z"
   },
   {
    "duration": 24,
    "start_time": "2021-09-28T14:03:00.026Z"
   },
   {
    "duration": 11,
    "start_time": "2021-09-28T14:03:00.053Z"
   },
   {
    "duration": 8,
    "start_time": "2021-09-28T14:03:00.066Z"
   },
   {
    "duration": 4510,
    "start_time": "2021-09-28T14:03:00.077Z"
   },
   {
    "duration": 5,
    "start_time": "2021-09-28T14:03:04.590Z"
   },
   {
    "duration": 1174,
    "start_time": "2021-09-28T14:03:04.597Z"
   },
   {
    "duration": 5,
    "start_time": "2021-09-28T14:03:05.773Z"
   },
   {
    "duration": 28,
    "start_time": "2021-09-28T14:03:05.779Z"
   },
   {
    "duration": 24,
    "start_time": "2021-09-28T14:03:05.808Z"
   },
   {
    "duration": 16,
    "start_time": "2021-09-28T14:03:05.834Z"
   },
   {
    "duration": 46,
    "start_time": "2021-09-28T14:03:05.853Z"
   },
   {
    "duration": 8,
    "start_time": "2021-09-28T14:03:05.901Z"
   },
   {
    "duration": 12,
    "start_time": "2021-09-28T14:03:05.910Z"
   },
   {
    "duration": 433,
    "start_time": "2021-09-28T14:03:26.993Z"
   },
   {
    "duration": 1148,
    "start_time": "2021-09-28T14:04:06.779Z"
   },
   {
    "duration": 29,
    "start_time": "2021-09-28T14:04:07.929Z"
   },
   {
    "duration": 8,
    "start_time": "2021-09-28T14:04:07.960Z"
   },
   {
    "duration": 7,
    "start_time": "2021-09-28T14:04:07.970Z"
   },
   {
    "duration": 8,
    "start_time": "2021-09-28T14:04:07.978Z"
   },
   {
    "duration": 15,
    "start_time": "2021-09-28T14:04:07.988Z"
   },
   {
    "duration": 5,
    "start_time": "2021-09-28T14:04:08.005Z"
   },
   {
    "duration": 5,
    "start_time": "2021-09-28T14:04:08.012Z"
   },
   {
    "duration": 7,
    "start_time": "2021-09-28T14:04:08.044Z"
   },
   {
    "duration": 9,
    "start_time": "2021-09-28T14:04:08.054Z"
   },
   {
    "duration": 9,
    "start_time": "2021-09-28T14:04:08.065Z"
   },
   {
    "duration": 8,
    "start_time": "2021-09-28T14:04:08.076Z"
   },
   {
    "duration": 6,
    "start_time": "2021-09-28T14:04:08.085Z"
   },
   {
    "duration": 12,
    "start_time": "2021-09-28T14:04:08.092Z"
   },
   {
    "duration": 14,
    "start_time": "2021-09-28T14:04:08.105Z"
   },
   {
    "duration": 7,
    "start_time": "2021-09-28T14:04:08.144Z"
   },
   {
    "duration": 7,
    "start_time": "2021-09-28T14:04:08.153Z"
   },
   {
    "duration": 20,
    "start_time": "2021-09-28T14:04:08.162Z"
   },
   {
    "duration": 68,
    "start_time": "2021-09-28T14:04:08.184Z"
   },
   {
    "duration": 18,
    "start_time": "2021-09-28T14:04:08.255Z"
   },
   {
    "duration": 10,
    "start_time": "2021-09-28T14:04:08.275Z"
   },
   {
    "duration": 2,
    "start_time": "2021-09-28T14:04:08.287Z"
   },
   {
    "duration": 4264,
    "start_time": "2021-09-28T14:04:08.291Z"
   },
   {
    "duration": 6,
    "start_time": "2021-09-28T14:04:12.557Z"
   },
   {
    "duration": 1082,
    "start_time": "2021-09-28T14:04:12.565Z"
   },
   {
    "duration": 13,
    "start_time": "2021-09-28T14:04:13.649Z"
   },
   {
    "duration": 4,
    "start_time": "2021-09-28T14:04:13.666Z"
   },
   {
    "duration": 8,
    "start_time": "2021-09-28T14:04:13.673Z"
   },
   {
    "duration": 4,
    "start_time": "2021-09-28T14:04:13.682Z"
   },
   {
    "duration": 25,
    "start_time": "2021-09-28T14:04:13.688Z"
   },
   {
    "duration": 32,
    "start_time": "2021-09-28T14:04:13.715Z"
   },
   {
    "duration": 13,
    "start_time": "2021-09-28T14:04:13.749Z"
   },
   {
    "duration": 3,
    "start_time": "2021-09-28T14:04:13.765Z"
   },
   {
    "duration": 6,
    "start_time": "2021-09-28T14:07:02.876Z"
   },
   {
    "duration": 6,
    "start_time": "2021-09-28T14:07:16.819Z"
   },
   {
    "duration": 3,
    "start_time": "2021-09-28T14:07:31.534Z"
   },
   {
    "duration": 14,
    "start_time": "2021-09-28T14:07:40.993Z"
   },
   {
    "duration": 3,
    "start_time": "2021-09-28T14:07:51.430Z"
   },
   {
    "duration": 684,
    "start_time": "2021-09-28T14:13:35.637Z"
   },
   {
    "duration": 1368,
    "start_time": "2021-09-28T14:14:19.033Z"
   },
   {
    "duration": 24,
    "start_time": "2021-09-28T14:14:20.403Z"
   },
   {
    "duration": 12,
    "start_time": "2021-09-28T14:14:20.429Z"
   },
   {
    "duration": 15,
    "start_time": "2021-09-28T14:14:20.443Z"
   },
   {
    "duration": 18,
    "start_time": "2021-09-28T14:14:20.461Z"
   },
   {
    "duration": 18,
    "start_time": "2021-09-28T14:14:20.481Z"
   },
   {
    "duration": 20,
    "start_time": "2021-09-28T14:14:20.501Z"
   },
   {
    "duration": 25,
    "start_time": "2021-09-28T14:14:20.524Z"
   },
   {
    "duration": 30,
    "start_time": "2021-09-28T14:14:20.551Z"
   },
   {
    "duration": 19,
    "start_time": "2021-09-28T14:14:20.583Z"
   },
   {
    "duration": 21,
    "start_time": "2021-09-28T14:14:20.604Z"
   },
   {
    "duration": 23,
    "start_time": "2021-09-28T14:14:20.627Z"
   },
   {
    "duration": 28,
    "start_time": "2021-09-28T14:14:20.652Z"
   },
   {
    "duration": 13,
    "start_time": "2021-09-28T14:14:20.682Z"
   },
   {
    "duration": 21,
    "start_time": "2021-09-28T14:14:20.697Z"
   },
   {
    "duration": 15,
    "start_time": "2021-09-28T14:14:20.720Z"
   },
   {
    "duration": 16,
    "start_time": "2021-09-28T14:14:20.737Z"
   },
   {
    "duration": 19,
    "start_time": "2021-09-28T14:14:20.756Z"
   },
   {
    "duration": 56,
    "start_time": "2021-09-28T14:14:20.776Z"
   },
   {
    "duration": 28,
    "start_time": "2021-09-28T14:14:20.834Z"
   },
   {
    "duration": 7,
    "start_time": "2021-09-28T14:14:20.864Z"
   },
   {
    "duration": 13,
    "start_time": "2021-09-28T14:14:20.873Z"
   },
   {
    "duration": 4714,
    "start_time": "2021-09-28T14:14:20.889Z"
   },
   {
    "duration": 5,
    "start_time": "2021-09-28T14:14:25.605Z"
   },
   {
    "duration": 1263,
    "start_time": "2021-09-28T14:14:25.612Z"
   },
   {
    "duration": 5,
    "start_time": "2021-09-28T14:14:26.877Z"
   },
   {
    "duration": 10,
    "start_time": "2021-09-28T14:14:26.885Z"
   },
   {
    "duration": 13,
    "start_time": "2021-09-28T14:14:26.896Z"
   },
   {
    "duration": 8,
    "start_time": "2021-09-28T14:14:26.910Z"
   },
   {
    "duration": 42,
    "start_time": "2021-09-28T14:14:26.919Z"
   },
   {
    "duration": 6,
    "start_time": "2021-09-28T14:14:26.962Z"
   },
   {
    "duration": 22,
    "start_time": "2021-09-28T14:14:26.974Z"
   },
   {
    "duration": 4,
    "start_time": "2021-09-28T14:14:26.999Z"
   },
   {
    "duration": 467,
    "start_time": "2021-09-28T14:14:46.787Z"
   },
   {
    "duration": 1229,
    "start_time": "2021-09-28T14:16:36.693Z"
   },
   {
    "duration": 27,
    "start_time": "2021-09-28T14:16:37.924Z"
   },
   {
    "duration": 11,
    "start_time": "2021-09-28T14:16:37.954Z"
   },
   {
    "duration": 14,
    "start_time": "2021-09-28T14:16:37.968Z"
   },
   {
    "duration": 9,
    "start_time": "2021-09-28T14:16:37.984Z"
   },
   {
    "duration": 16,
    "start_time": "2021-09-28T14:16:37.994Z"
   },
   {
    "duration": 16,
    "start_time": "2021-09-28T14:16:38.012Z"
   },
   {
    "duration": 20,
    "start_time": "2021-09-28T14:16:38.032Z"
   },
   {
    "duration": 13,
    "start_time": "2021-09-28T14:16:38.055Z"
   },
   {
    "duration": 12,
    "start_time": "2021-09-28T14:16:38.070Z"
   },
   {
    "duration": 14,
    "start_time": "2021-09-28T14:16:38.084Z"
   },
   {
    "duration": 9,
    "start_time": "2021-09-28T14:16:38.100Z"
   },
   {
    "duration": 15,
    "start_time": "2021-09-28T14:16:38.110Z"
   },
   {
    "duration": 10,
    "start_time": "2021-09-28T14:16:38.126Z"
   },
   {
    "duration": 21,
    "start_time": "2021-09-28T14:16:38.138Z"
   },
   {
    "duration": 6,
    "start_time": "2021-09-28T14:16:38.161Z"
   },
   {
    "duration": 7,
    "start_time": "2021-09-28T14:16:38.169Z"
   },
   {
    "duration": 11,
    "start_time": "2021-09-28T14:16:38.178Z"
   },
   {
    "duration": 70,
    "start_time": "2021-09-28T14:16:38.191Z"
   },
   {
    "duration": 15,
    "start_time": "2021-09-28T14:16:38.264Z"
   },
   {
    "duration": 11,
    "start_time": "2021-09-28T14:16:38.281Z"
   },
   {
    "duration": 3,
    "start_time": "2021-09-28T14:16:38.294Z"
   },
   {
    "duration": 4463,
    "start_time": "2021-09-28T14:16:38.301Z"
   },
   {
    "duration": 5,
    "start_time": "2021-09-28T14:16:42.766Z"
   },
   {
    "duration": 1187,
    "start_time": "2021-09-28T14:16:42.773Z"
   },
   {
    "duration": 4,
    "start_time": "2021-09-28T14:16:43.962Z"
   },
   {
    "duration": 8,
    "start_time": "2021-09-28T14:16:43.968Z"
   },
   {
    "duration": 24,
    "start_time": "2021-09-28T14:16:43.978Z"
   },
   {
    "duration": 17,
    "start_time": "2021-09-28T14:16:44.003Z"
   },
   {
    "duration": 55,
    "start_time": "2021-09-28T14:16:44.022Z"
   },
   {
    "duration": 6,
    "start_time": "2021-09-28T14:16:44.079Z"
   },
   {
    "duration": 28,
    "start_time": "2021-09-28T14:16:44.087Z"
   },
   {
    "duration": 10,
    "start_time": "2021-09-28T14:16:44.117Z"
   },
   {
    "duration": 364,
    "start_time": "2021-09-28T14:16:44.129Z"
   },
   {
    "duration": 22,
    "start_time": "2021-09-28T14:16:44.494Z"
   },
   {
    "duration": 36,
    "start_time": "2021-09-28T14:16:44.518Z"
   },
   {
    "duration": 10,
    "start_time": "2021-09-28T14:17:23.705Z"
   },
   {
    "duration": 1323,
    "start_time": "2021-09-28T14:17:43.696Z"
   },
   {
    "duration": 28,
    "start_time": "2021-09-28T14:17:45.021Z"
   },
   {
    "duration": 10,
    "start_time": "2021-09-28T14:17:45.052Z"
   },
   {
    "duration": 7,
    "start_time": "2021-09-28T14:17:45.064Z"
   },
   {
    "duration": 7,
    "start_time": "2021-09-28T14:17:45.072Z"
   },
   {
    "duration": 17,
    "start_time": "2021-09-28T14:17:45.081Z"
   },
   {
    "duration": 8,
    "start_time": "2021-09-28T14:17:45.100Z"
   },
   {
    "duration": 8,
    "start_time": "2021-09-28T14:17:45.109Z"
   },
   {
    "duration": 8,
    "start_time": "2021-09-28T14:17:45.152Z"
   },
   {
    "duration": 6,
    "start_time": "2021-09-28T14:17:45.163Z"
   },
   {
    "duration": 9,
    "start_time": "2021-09-28T14:17:45.170Z"
   },
   {
    "duration": 7,
    "start_time": "2021-09-28T14:17:45.180Z"
   },
   {
    "duration": 7,
    "start_time": "2021-09-28T14:17:45.189Z"
   },
   {
    "duration": 7,
    "start_time": "2021-09-28T14:17:45.197Z"
   },
   {
    "duration": 44,
    "start_time": "2021-09-28T14:17:45.206Z"
   },
   {
    "duration": 8,
    "start_time": "2021-09-28T14:17:45.252Z"
   },
   {
    "duration": 7,
    "start_time": "2021-09-28T14:17:45.262Z"
   },
   {
    "duration": 7,
    "start_time": "2021-09-28T14:17:45.271Z"
   },
   {
    "duration": 70,
    "start_time": "2021-09-28T14:17:45.280Z"
   },
   {
    "duration": 24,
    "start_time": "2021-09-28T14:17:45.353Z"
   },
   {
    "duration": 9,
    "start_time": "2021-09-28T14:17:45.379Z"
   },
   {
    "duration": 10,
    "start_time": "2021-09-28T14:17:45.389Z"
   },
   {
    "duration": 4727,
    "start_time": "2021-09-28T14:17:45.401Z"
   },
   {
    "duration": 14,
    "start_time": "2021-09-28T14:17:50.130Z"
   },
   {
    "duration": 1280,
    "start_time": "2021-09-28T14:17:50.150Z"
   },
   {
    "duration": 24,
    "start_time": "2021-09-28T14:17:51.432Z"
   },
   {
    "duration": 14,
    "start_time": "2021-09-28T14:17:51.461Z"
   },
   {
    "duration": 27,
    "start_time": "2021-09-28T14:17:51.477Z"
   },
   {
    "duration": 21,
    "start_time": "2021-09-28T14:17:51.506Z"
   },
   {
    "duration": 45,
    "start_time": "2021-09-28T14:17:51.529Z"
   },
   {
    "duration": 6,
    "start_time": "2021-09-28T14:17:51.576Z"
   },
   {
    "duration": 18,
    "start_time": "2021-09-28T14:17:51.583Z"
   },
   {
    "duration": 23,
    "start_time": "2021-09-28T14:17:51.602Z"
   },
   {
    "duration": 347,
    "start_time": "2021-09-28T14:17:51.627Z"
   },
   {
    "duration": 22,
    "start_time": "2021-09-28T14:17:51.975Z"
   },
   {
    "duration": 22,
    "start_time": "2021-09-28T14:17:51.999Z"
   },
   {
    "duration": 33,
    "start_time": "2021-09-28T14:17:52.023Z"
   },
   {
    "duration": 9,
    "start_time": "2021-09-28T14:18:14.577Z"
   },
   {
    "duration": 14,
    "start_time": "2021-09-28T14:18:15.350Z"
   },
   {
    "duration": 6,
    "start_time": "2021-09-28T17:43:02.779Z"
   },
   {
    "duration": 1152,
    "start_time": "2021-09-28T18:01:26.715Z"
   },
   {
    "duration": 22,
    "start_time": "2021-09-28T18:01:27.869Z"
   },
   {
    "duration": 7,
    "start_time": "2021-09-28T18:01:27.893Z"
   },
   {
    "duration": 21,
    "start_time": "2021-09-28T18:01:27.901Z"
   },
   {
    "duration": 25,
    "start_time": "2021-09-28T18:01:27.924Z"
   },
   {
    "duration": 37,
    "start_time": "2021-09-28T18:01:27.951Z"
   },
   {
    "duration": 28,
    "start_time": "2021-09-28T18:01:27.989Z"
   },
   {
    "duration": 32,
    "start_time": "2021-09-28T18:01:28.018Z"
   },
   {
    "duration": 34,
    "start_time": "2021-09-28T18:01:28.052Z"
   },
   {
    "duration": 25,
    "start_time": "2021-09-28T18:01:28.089Z"
   },
   {
    "duration": 25,
    "start_time": "2021-09-28T18:01:28.115Z"
   },
   {
    "duration": 28,
    "start_time": "2021-09-28T18:01:28.142Z"
   },
   {
    "duration": 33,
    "start_time": "2021-09-28T18:01:28.172Z"
   },
   {
    "duration": 19,
    "start_time": "2021-09-28T18:01:28.207Z"
   },
   {
    "duration": 27,
    "start_time": "2021-09-28T18:01:28.228Z"
   },
   {
    "duration": 27,
    "start_time": "2021-09-28T18:01:28.257Z"
   },
   {
    "duration": 18,
    "start_time": "2021-09-28T18:01:28.286Z"
   },
   {
    "duration": 25,
    "start_time": "2021-09-28T18:01:28.306Z"
   },
   {
    "duration": 52,
    "start_time": "2021-09-28T18:01:28.333Z"
   },
   {
    "duration": 13,
    "start_time": "2021-09-28T18:01:28.386Z"
   },
   {
    "duration": 23,
    "start_time": "2021-09-28T18:01:28.400Z"
   },
   {
    "duration": 24,
    "start_time": "2021-09-28T18:01:28.425Z"
   },
   {
    "duration": 3774,
    "start_time": "2021-09-28T18:01:28.450Z"
   },
   {
    "duration": 21,
    "start_time": "2021-09-28T18:01:32.226Z"
   },
   {
    "duration": 1015,
    "start_time": "2021-09-28T18:01:32.248Z"
   },
   {
    "duration": 4,
    "start_time": "2021-09-28T18:01:33.264Z"
   },
   {
    "duration": 13,
    "start_time": "2021-09-28T18:01:33.271Z"
   },
   {
    "duration": 20,
    "start_time": "2021-09-28T18:01:33.286Z"
   },
   {
    "duration": 14,
    "start_time": "2021-09-28T18:01:33.308Z"
   },
   {
    "duration": 49,
    "start_time": "2021-09-28T18:01:33.323Z"
   },
   {
    "duration": 5,
    "start_time": "2021-09-28T18:01:33.373Z"
   },
   {
    "duration": 12,
    "start_time": "2021-09-28T18:01:33.379Z"
   },
   {
    "duration": 268,
    "start_time": "2021-09-28T18:01:33.392Z"
   },
   {
    "duration": 19,
    "start_time": "2021-09-28T18:01:33.662Z"
   },
   {
    "duration": 20,
    "start_time": "2021-09-28T18:01:33.682Z"
   },
   {
    "duration": 7,
    "start_time": "2021-09-28T18:01:33.703Z"
   },
   {
    "duration": 36,
    "start_time": "2021-09-28T18:01:33.712Z"
   },
   {
    "duration": 5,
    "start_time": "2021-09-28T18:01:33.750Z"
   },
   {
    "duration": 6,
    "start_time": "2021-09-28T18:02:06.905Z"
   },
   {
    "duration": 476,
    "start_time": "2021-09-28T18:02:07.504Z"
   },
   {
    "duration": 74855,
    "start_time": "2021-09-28T18:02:58.686Z"
   },
   {
    "duration": 2,
    "start_time": "2021-09-28T18:25:13.116Z"
   },
   {
    "duration": 3729,
    "start_time": "2021-09-28T18:25:13.784Z"
   },
   {
    "duration": 3,
    "start_time": "2021-09-28T18:25:36.866Z"
   },
   {
    "duration": 3512,
    "start_time": "2021-09-28T18:25:37.752Z"
   },
   {
    "duration": 1565,
    "start_time": "2021-09-29T05:09:10.737Z"
   },
   {
    "duration": 28,
    "start_time": "2021-09-29T05:09:12.304Z"
   },
   {
    "duration": 10,
    "start_time": "2021-09-29T05:09:12.334Z"
   },
   {
    "duration": 12,
    "start_time": "2021-09-29T05:09:12.347Z"
   },
   {
    "duration": 10,
    "start_time": "2021-09-29T05:09:12.362Z"
   },
   {
    "duration": 21,
    "start_time": "2021-09-29T05:09:12.374Z"
   },
   {
    "duration": 10,
    "start_time": "2021-09-29T05:09:12.398Z"
   },
   {
    "duration": 15,
    "start_time": "2021-09-29T05:09:12.412Z"
   },
   {
    "duration": 30,
    "start_time": "2021-09-29T05:09:12.429Z"
   },
   {
    "duration": 12,
    "start_time": "2021-09-29T05:09:12.462Z"
   },
   {
    "duration": 9,
    "start_time": "2021-09-29T05:09:12.477Z"
   },
   {
    "duration": 16,
    "start_time": "2021-09-29T05:09:12.488Z"
   },
   {
    "duration": 11,
    "start_time": "2021-09-29T05:09:12.507Z"
   },
   {
    "duration": 43,
    "start_time": "2021-09-29T05:09:12.520Z"
   },
   {
    "duration": 11,
    "start_time": "2021-09-29T05:09:12.566Z"
   },
   {
    "duration": 19,
    "start_time": "2021-09-29T05:09:12.579Z"
   },
   {
    "duration": 17,
    "start_time": "2021-09-29T05:09:12.600Z"
   },
   {
    "duration": 17,
    "start_time": "2021-09-29T05:09:12.619Z"
   },
   {
    "duration": 71,
    "start_time": "2021-09-29T05:09:12.638Z"
   },
   {
    "duration": 23,
    "start_time": "2021-09-29T05:09:12.711Z"
   },
   {
    "duration": 23,
    "start_time": "2021-09-29T05:09:12.736Z"
   },
   {
    "duration": 10,
    "start_time": "2021-09-29T05:09:12.761Z"
   },
   {
    "duration": 6273,
    "start_time": "2021-09-29T05:09:12.776Z"
   },
   {
    "duration": 11,
    "start_time": "2021-09-29T05:09:19.052Z"
   },
   {
    "duration": 1673,
    "start_time": "2021-09-29T05:09:19.065Z"
   },
   {
    "duration": 6,
    "start_time": "2021-09-29T05:09:20.741Z"
   },
   {
    "duration": 19,
    "start_time": "2021-09-29T05:09:20.759Z"
   },
   {
    "duration": 12,
    "start_time": "2021-09-29T05:09:20.781Z"
   },
   {
    "duration": 5,
    "start_time": "2021-09-29T05:09:20.795Z"
   },
   {
    "duration": 63,
    "start_time": "2021-09-29T05:09:20.802Z"
   },
   {
    "duration": 7,
    "start_time": "2021-09-29T05:09:20.867Z"
   },
   {
    "duration": 9,
    "start_time": "2021-09-29T05:09:20.876Z"
   },
   {
    "duration": 451,
    "start_time": "2021-09-29T05:09:20.887Z"
   },
   {
    "duration": 40,
    "start_time": "2021-09-29T05:09:21.340Z"
   },
   {
    "duration": 32,
    "start_time": "2021-09-29T05:09:21.383Z"
   },
   {
    "duration": 10,
    "start_time": "2021-09-29T05:09:21.417Z"
   },
   {
    "duration": 35,
    "start_time": "2021-09-29T05:09:21.430Z"
   },
   {
    "duration": 7,
    "start_time": "2021-09-29T05:09:21.467Z"
   },
   {
    "duration": 784,
    "start_time": "2021-09-29T05:09:21.477Z"
   },
   {
    "duration": 136473,
    "start_time": "2021-09-29T05:09:22.263Z"
   },
   {
    "duration": 6,
    "start_time": "2021-09-29T05:19:05.188Z"
   },
   {
    "duration": 4,
    "start_time": "2021-09-29T05:19:16.150Z"
   },
   {
    "duration": 483,
    "start_time": "2021-09-29T05:19:25.636Z"
   },
   {
    "duration": 376,
    "start_time": "2021-09-29T05:19:35.299Z"
   },
   {
    "duration": 377,
    "start_time": "2021-09-29T05:20:33.745Z"
   },
   {
    "duration": 25,
    "start_time": "2021-09-29T05:20:50.092Z"
   },
   {
    "duration": 3,
    "start_time": "2021-09-29T05:20:54.448Z"
   },
   {
    "duration": 1729,
    "start_time": "2021-09-29T05:21:09.040Z"
   },
   {
    "duration": 4,
    "start_time": "2021-09-29T05:21:38.011Z"
   },
   {
    "duration": 680,
    "start_time": "2021-09-29T05:21:55.054Z"
   },
   {
    "duration": 699,
    "start_time": "2021-09-29T05:22:18.549Z"
   },
   {
    "duration": 688,
    "start_time": "2021-09-29T05:22:35.371Z"
   },
   {
    "duration": 4,
    "start_time": "2021-09-29T05:35:58.796Z"
   },
   {
    "duration": 1635,
    "start_time": "2021-09-29T05:36:00.027Z"
   },
   {
    "duration": 4,
    "start_time": "2021-09-29T05:36:01.665Z"
   },
   {
    "duration": 730,
    "start_time": "2021-09-29T05:36:01.672Z"
   },
   {
    "duration": 4,
    "start_time": "2021-09-29T05:36:07.243Z"
   },
   {
    "duration": 1876,
    "start_time": "2021-09-29T05:36:08.088Z"
   },
   {
    "duration": 4,
    "start_time": "2021-09-29T05:36:09.967Z"
   },
   {
    "duration": 686,
    "start_time": "2021-09-29T05:36:09.974Z"
   },
   {
    "duration": 349,
    "start_time": "2021-09-29T05:55:48.139Z"
   },
   {
    "duration": 9,
    "start_time": "2021-09-29T05:56:29.437Z"
   },
   {
    "duration": 25,
    "start_time": "2021-09-29T05:56:33.832Z"
   },
   {
    "duration": 10,
    "start_time": "2021-09-29T06:04:52.906Z"
   },
   {
    "duration": 85,
    "start_time": "2021-09-29T06:05:51.019Z"
   },
   {
    "duration": 11996,
    "start_time": "2021-09-29T06:06:27.876Z"
   },
   {
    "duration": 25,
    "start_time": "2021-09-29T06:11:27.071Z"
   },
   {
    "duration": 421,
    "start_time": "2021-09-29T06:14:09.366Z"
   },
   {
    "duration": 381,
    "start_time": "2021-09-29T06:14:18.159Z"
   },
   {
    "duration": 160,
    "start_time": "2021-09-29T06:14:27.617Z"
   },
   {
    "duration": 24,
    "start_time": "2021-09-29T06:14:30.795Z"
   },
   {
    "duration": 128,
    "start_time": "2021-09-29T06:26:15.232Z"
   },
   {
    "duration": 6,
    "start_time": "2021-09-29T06:26:21.184Z"
   },
   {
    "duration": 24,
    "start_time": "2021-09-29T06:26:57.031Z"
   },
   {
    "duration": 11,
    "start_time": "2021-09-29T06:27:47.503Z"
   },
   {
    "duration": 430,
    "start_time": "2021-09-29T06:29:21.153Z"
   },
   {
    "duration": 342,
    "start_time": "2021-09-29T06:29:27.410Z"
   },
   {
    "duration": 623,
    "start_time": "2021-09-29T06:29:35.840Z"
   },
   {
    "duration": 345,
    "start_time": "2021-09-29T06:29:36.737Z"
   },
   {
    "duration": 1553,
    "start_time": "2021-09-29T06:29:43.070Z"
   },
   {
    "duration": 26,
    "start_time": "2021-09-29T06:29:44.626Z"
   },
   {
    "duration": 10,
    "start_time": "2021-09-29T06:29:44.658Z"
   },
   {
    "duration": 25,
    "start_time": "2021-09-29T06:29:44.671Z"
   },
   {
    "duration": 12,
    "start_time": "2021-09-29T06:29:44.698Z"
   },
   {
    "duration": 28,
    "start_time": "2021-09-29T06:29:44.712Z"
   },
   {
    "duration": 22,
    "start_time": "2021-09-29T06:29:44.744Z"
   },
   {
    "duration": 7,
    "start_time": "2021-09-29T06:29:44.769Z"
   },
   {
    "duration": 20,
    "start_time": "2021-09-29T06:29:44.778Z"
   },
   {
    "duration": 8,
    "start_time": "2021-09-29T06:29:44.801Z"
   },
   {
    "duration": 10,
    "start_time": "2021-09-29T06:29:44.812Z"
   },
   {
    "duration": 40,
    "start_time": "2021-09-29T06:29:44.825Z"
   },
   {
    "duration": 10,
    "start_time": "2021-09-29T06:29:44.868Z"
   },
   {
    "duration": 10,
    "start_time": "2021-09-29T06:29:44.881Z"
   },
   {
    "duration": 12,
    "start_time": "2021-09-29T06:29:44.894Z"
   },
   {
    "duration": 9,
    "start_time": "2021-09-29T06:29:44.958Z"
   },
   {
    "duration": 11,
    "start_time": "2021-09-29T06:29:44.969Z"
   },
   {
    "duration": 8,
    "start_time": "2021-09-29T06:29:44.983Z"
   },
   {
    "duration": 98,
    "start_time": "2021-09-29T06:29:44.993Z"
   },
   {
    "duration": 23,
    "start_time": "2021-09-29T06:29:45.094Z"
   },
   {
    "duration": 19,
    "start_time": "2021-09-29T06:29:45.120Z"
   },
   {
    "duration": 16,
    "start_time": "2021-09-29T06:29:45.142Z"
   },
   {
    "duration": 6351,
    "start_time": "2021-09-29T06:29:45.164Z"
   },
   {
    "duration": 7,
    "start_time": "2021-09-29T06:29:51.517Z"
   },
   {
    "duration": 1805,
    "start_time": "2021-09-29T06:29:51.526Z"
   },
   {
    "duration": 6,
    "start_time": "2021-09-29T06:29:53.333Z"
   },
   {
    "duration": 26,
    "start_time": "2021-09-29T06:29:53.341Z"
   },
   {
    "duration": 24,
    "start_time": "2021-09-29T06:29:53.370Z"
   },
   {
    "duration": 11,
    "start_time": "2021-09-29T06:29:53.396Z"
   },
   {
    "duration": 66,
    "start_time": "2021-09-29T06:29:53.410Z"
   },
   {
    "duration": 7,
    "start_time": "2021-09-29T06:29:53.478Z"
   },
   {
    "duration": 19,
    "start_time": "2021-09-29T06:29:53.487Z"
   },
   {
    "duration": 440,
    "start_time": "2021-09-29T06:29:53.508Z"
   },
   {
    "duration": 37,
    "start_time": "2021-09-29T06:29:53.951Z"
   },
   {
    "duration": 33,
    "start_time": "2021-09-29T06:29:53.991Z"
   },
   {
    "duration": 39,
    "start_time": "2021-09-29T06:29:54.027Z"
   },
   {
    "duration": 24,
    "start_time": "2021-09-29T06:29:54.069Z"
   },
   {
    "duration": 14,
    "start_time": "2021-09-29T06:29:54.095Z"
   },
   {
    "duration": 798,
    "start_time": "2021-09-29T06:29:54.111Z"
   },
   {
    "duration": 137484,
    "start_time": "2021-09-29T06:29:54.912Z"
   },
   {
    "duration": 4,
    "start_time": "2021-09-29T06:32:12.398Z"
   },
   {
    "duration": 1854,
    "start_time": "2021-09-29T06:32:12.404Z"
   },
   {
    "duration": 5,
    "start_time": "2021-09-29T06:32:14.260Z"
   },
   {
    "duration": 697,
    "start_time": "2021-09-29T06:32:14.267Z"
   },
   {
    "duration": 523,
    "start_time": "2021-09-29T06:32:14.966Z"
   },
   {
    "duration": 530,
    "start_time": "2021-09-29T06:32:38.751Z"
   },
   {
    "duration": 2289,
    "start_time": "2021-09-29T06:33:23.063Z"
   },
   {
    "duration": 9,
    "start_time": "2021-09-29T06:34:57.041Z"
   },
   {
    "duration": 14,
    "start_time": "2021-09-29T06:35:03.213Z"
   },
   {
    "duration": 450,
    "start_time": "2021-09-29T06:35:40.815Z"
   },
   {
    "duration": 10280,
    "start_time": "2021-09-29T06:35:53.868Z"
   },
   {
    "duration": 133,
    "start_time": "2021-09-29T06:36:35.397Z"
   },
   {
    "duration": 9887,
    "start_time": "2021-09-29T06:41:28.656Z"
   },
   {
    "duration": 457,
    "start_time": "2021-09-29T06:41:47.639Z"
   },
   {
    "duration": 6,
    "start_time": "2021-09-29T06:42:13.093Z"
   },
   {
    "duration": 12925,
    "start_time": "2021-09-29T06:45:04.372Z"
   },
   {
    "duration": 34,
    "start_time": "2021-09-29T06:45:55.041Z"
   },
   {
    "duration": 125,
    "start_time": "2021-09-29T06:47:06.431Z"
   },
   {
    "duration": 123,
    "start_time": "2021-09-29T06:47:22.652Z"
   },
   {
    "duration": 126,
    "start_time": "2021-09-29T06:47:27.188Z"
   },
   {
    "duration": 33,
    "start_time": "2021-09-29T06:47:30.845Z"
   },
   {
    "duration": 4,
    "start_time": "2021-09-29T06:48:02.958Z"
   },
   {
    "duration": 379,
    "start_time": "2021-09-29T06:49:01.529Z"
   },
   {
    "duration": -2945,
    "start_time": "2021-09-29T06:49:27.894Z"
   },
   {
    "duration": -2952,
    "start_time": "2021-09-29T06:49:27.902Z"
   },
   {
    "duration": 33,
    "start_time": "2021-09-29T06:49:28.386Z"
   },
   {
    "duration": 38,
    "start_time": "2021-09-29T06:50:31.143Z"
   },
   {
    "duration": 32,
    "start_time": "2021-09-29T06:50:46.584Z"
   },
   {
    "duration": 65471,
    "start_time": "2021-09-29T08:34:56.425Z"
   },
   {
    "duration": 1641,
    "start_time": "2021-09-29T08:42:41.073Z"
   },
   {
    "duration": 33,
    "start_time": "2021-09-29T08:42:42.716Z"
   },
   {
    "duration": 23,
    "start_time": "2021-09-29T08:42:42.753Z"
   },
   {
    "duration": 13,
    "start_time": "2021-09-29T08:42:42.780Z"
   },
   {
    "duration": 5,
    "start_time": "2021-09-29T08:42:42.796Z"
   },
   {
    "duration": 64,
    "start_time": "2021-09-29T08:42:42.805Z"
   },
   {
    "duration": 14,
    "start_time": "2021-09-29T08:42:42.875Z"
   },
   {
    "duration": 10,
    "start_time": "2021-09-29T08:42:42.893Z"
   },
   {
    "duration": 9,
    "start_time": "2021-09-29T08:42:42.907Z"
   },
   {
    "duration": 12,
    "start_time": "2021-09-29T08:42:42.918Z"
   },
   {
    "duration": 10,
    "start_time": "2021-09-29T08:42:42.959Z"
   },
   {
    "duration": 10,
    "start_time": "2021-09-29T08:42:42.978Z"
   },
   {
    "duration": 9,
    "start_time": "2021-09-29T08:42:42.991Z"
   },
   {
    "duration": 10,
    "start_time": "2021-09-29T08:42:43.002Z"
   },
   {
    "duration": 59,
    "start_time": "2021-09-29T08:42:43.014Z"
   },
   {
    "duration": 11,
    "start_time": "2021-09-29T08:42:43.077Z"
   },
   {
    "duration": 18,
    "start_time": "2021-09-29T08:42:43.092Z"
   },
   {
    "duration": 16,
    "start_time": "2021-09-29T08:42:43.112Z"
   },
   {
    "duration": 96,
    "start_time": "2021-09-29T08:42:43.130Z"
   },
   {
    "duration": 36,
    "start_time": "2021-09-29T08:42:43.229Z"
   },
   {
    "duration": 18,
    "start_time": "2021-09-29T08:42:43.268Z"
   },
   {
    "duration": 5,
    "start_time": "2021-09-29T08:42:43.290Z"
   },
   {
    "duration": 6725,
    "start_time": "2021-09-29T08:42:43.301Z"
   },
   {
    "duration": 6,
    "start_time": "2021-09-29T08:42:50.029Z"
   },
   {
    "duration": 1840,
    "start_time": "2021-09-29T08:42:50.038Z"
   },
   {
    "duration": 9,
    "start_time": "2021-09-29T08:42:51.880Z"
   },
   {
    "duration": 6,
    "start_time": "2021-09-29T08:42:51.893Z"
   },
   {
    "duration": 8,
    "start_time": "2021-09-29T08:42:51.902Z"
   },
   {
    "duration": 4,
    "start_time": "2021-09-29T08:42:51.912Z"
   },
   {
    "duration": 86,
    "start_time": "2021-09-29T08:42:51.918Z"
   },
   {
    "duration": 6,
    "start_time": "2021-09-29T08:42:52.007Z"
   },
   {
    "duration": 9,
    "start_time": "2021-09-29T08:42:52.016Z"
   },
   {
    "duration": 500,
    "start_time": "2021-09-29T08:42:52.027Z"
   },
   {
    "duration": 51,
    "start_time": "2021-09-29T08:42:52.530Z"
   },
   {
    "duration": 33,
    "start_time": "2021-09-29T08:42:52.584Z"
   },
   {
    "duration": 10,
    "start_time": "2021-09-29T08:42:52.620Z"
   },
   {
    "duration": 41,
    "start_time": "2021-09-29T08:42:52.633Z"
   },
   {
    "duration": 11,
    "start_time": "2021-09-29T08:42:52.680Z"
   },
   {
    "duration": 945,
    "start_time": "2021-09-29T08:42:52.694Z"
   },
   {
    "duration": 153980,
    "start_time": "2021-09-29T08:42:53.641Z"
   },
   {
    "duration": 4,
    "start_time": "2021-09-29T08:45:27.625Z"
   },
   {
    "duration": 1557,
    "start_time": "2021-09-29T08:45:27.631Z"
   },
   {
    "duration": 71,
    "start_time": "2021-09-29T08:45:29.190Z"
   },
   {
    "duration": 706,
    "start_time": "2021-09-29T08:45:29.265Z"
   },
   {
    "duration": 6,
    "start_time": "2021-09-29T08:45:29.974Z"
   },
   {
    "duration": 49,
    "start_time": "2021-09-29T08:45:29.983Z"
   },
   {
    "duration": 69600,
    "start_time": "2021-09-29T08:45:30.036Z"
   },
   {
    "duration": 71017,
    "start_time": "2021-09-29T08:47:27.562Z"
   },
   {
    "duration": 71107,
    "start_time": "2021-09-29T08:49:19.533Z"
   },
   {
    "duration": 119,
    "start_time": "2021-09-29T08:59:22.826Z"
   },
   {
    "duration": 609,
    "start_time": "2021-09-29T08:59:30.384Z"
   },
   {
    "duration": 4,
    "start_time": "2021-09-29T10:00:06.512Z"
   },
   {
    "duration": 509,
    "start_time": "2021-09-29T10:01:31.478Z"
   },
   {
    "duration": 1232,
    "start_time": "2021-09-29T10:01:36.767Z"
   },
   {
    "duration": 16,
    "start_time": "2021-09-29T10:06:31.432Z"
   },
   {
    "duration": 120,
    "start_time": "2021-09-29T10:08:58.971Z"
   },
   {
    "duration": 425,
    "start_time": "2021-09-29T10:09:12.650Z"
   },
   {
    "duration": 658,
    "start_time": "2021-09-29T10:10:31.469Z"
   },
   {
    "duration": 431,
    "start_time": "2021-09-29T10:10:51.253Z"
   },
   {
    "duration": 1197,
    "start_time": "2021-09-29T10:11:02.352Z"
   },
   {
    "duration": 1224,
    "start_time": "2021-09-29T10:12:04.441Z"
   },
   {
    "duration": 1203,
    "start_time": "2021-09-29T10:12:10.374Z"
   },
   {
    "duration": 1262,
    "start_time": "2021-09-29T10:14:45.944Z"
   },
   {
    "duration": 1166,
    "start_time": "2021-09-29T10:14:51.018Z"
   },
   {
    "duration": 382,
    "start_time": "2021-09-29T10:17:07.707Z"
   },
   {
    "duration": 382,
    "start_time": "2021-09-29T10:17:24.165Z"
   },
   {
    "duration": 369,
    "start_time": "2021-09-29T10:18:01.719Z"
   },
   {
    "duration": 416,
    "start_time": "2021-09-29T10:19:39.690Z"
   },
   {
    "duration": 385,
    "start_time": "2021-09-29T10:19:45.371Z"
   },
   {
    "duration": 414,
    "start_time": "2021-09-29T10:19:50.274Z"
   },
   {
    "duration": 1819,
    "start_time": "2021-09-29T10:21:08.545Z"
   },
   {
    "duration": 2164,
    "start_time": "2021-09-29T10:21:37.861Z"
   },
   {
    "duration": 881,
    "start_time": "2021-09-29T10:21:51.762Z"
   },
   {
    "duration": 1599,
    "start_time": "2021-09-29T10:21:58.383Z"
   },
   {
    "duration": 1679,
    "start_time": "2021-09-29T10:22:17.552Z"
   },
   {
    "duration": 790,
    "start_time": "2021-09-29T10:22:28.544Z"
   },
   {
    "duration": 1633,
    "start_time": "2021-09-29T10:22:33.471Z"
   },
   {
    "duration": 1297,
    "start_time": "2021-09-29T10:22:44.339Z"
   },
   {
    "duration": 1175,
    "start_time": "2021-09-29T10:25:21.526Z"
   },
   {
    "duration": 1330,
    "start_time": "2021-09-29T10:30:25.421Z"
   },
   {
    "duration": 4,
    "start_time": "2021-09-29T10:42:04.783Z"
   },
   {
    "duration": 1746,
    "start_time": "2021-09-29T10:42:07.518Z"
   },
   {
    "duration": 4,
    "start_time": "2021-09-29T10:42:10.315Z"
   },
   {
    "duration": 713,
    "start_time": "2021-09-29T10:42:11.348Z"
   },
   {
    "duration": 33,
    "start_time": "2021-09-29T10:42:15.234Z"
   },
   {
    "duration": 1402,
    "start_time": "2021-09-29T10:43:03.847Z"
   },
   {
    "duration": 4,
    "start_time": "2021-09-29T10:43:24.192Z"
   },
   {
    "duration": 1684,
    "start_time": "2021-09-29T10:43:25.606Z"
   },
   {
    "duration": 4,
    "start_time": "2021-09-29T10:43:29.213Z"
   },
   {
    "duration": 703,
    "start_time": "2021-09-29T10:43:30.739Z"
   },
   {
    "duration": 34,
    "start_time": "2021-09-29T10:43:35.093Z"
   },
   {
    "duration": 36,
    "start_time": "2021-09-29T10:44:03.729Z"
   },
   {
    "duration": 4,
    "start_time": "2021-09-29T10:44:40.098Z"
   },
   {
    "duration": 1739,
    "start_time": "2021-09-29T10:44:40.826Z"
   },
   {
    "duration": 4,
    "start_time": "2021-09-29T10:44:43.382Z"
   },
   {
    "duration": 649,
    "start_time": "2021-09-29T10:44:44.173Z"
   },
   {
    "duration": 54,
    "start_time": "2021-09-29T10:44:47.453Z"
   },
   {
    "duration": 32,
    "start_time": "2021-09-29T10:44:58.704Z"
   },
   {
    "duration": 3,
    "start_time": "2021-09-29T10:45:06.006Z"
   },
   {
    "duration": 1734,
    "start_time": "2021-09-29T10:45:07.038Z"
   },
   {
    "duration": 4,
    "start_time": "2021-09-29T10:45:09.719Z"
   },
   {
    "duration": 640,
    "start_time": "2021-09-29T10:45:10.778Z"
   },
   {
    "duration": 37,
    "start_time": "2021-09-29T10:45:12.480Z"
   },
   {
    "duration": 1309,
    "start_time": "2021-09-29T11:06:46.417Z"
   },
   {
    "duration": 1768,
    "start_time": "2021-09-29T11:07:08.166Z"
   },
   {
    "duration": 1599,
    "start_time": "2021-09-29T11:08:41.650Z"
   },
   {
    "duration": 1454,
    "start_time": "2021-09-29T11:09:00.426Z"
   },
   {
    "duration": 1289,
    "start_time": "2021-09-29T11:09:15.919Z"
   },
   {
    "duration": 938,
    "start_time": "2021-09-29T11:09:48.302Z"
   },
   {
    "duration": 797,
    "start_time": "2021-09-29T11:09:57.861Z"
   },
   {
    "duration": 1251,
    "start_time": "2021-09-29T11:10:57.512Z"
   },
   {
    "duration": 825,
    "start_time": "2021-09-29T11:11:08.747Z"
   },
   {
    "duration": 1463,
    "start_time": "2021-09-29T11:11:21.355Z"
   },
   {
    "duration": 1493,
    "start_time": "2021-09-29T11:11:32.989Z"
   },
   {
    "duration": 2240,
    "start_time": "2021-09-29T11:11:40.824Z"
   },
   {
    "duration": 1385,
    "start_time": "2021-09-29T11:12:14.867Z"
   },
   {
    "duration": 1397,
    "start_time": "2021-09-29T11:12:25.938Z"
   },
   {
    "duration": 769,
    "start_time": "2021-09-29T11:12:51.390Z"
   },
   {
    "duration": 1691,
    "start_time": "2021-09-29T11:12:56.766Z"
   },
   {
    "duration": 10153,
    "start_time": "2021-09-29T11:13:37.301Z"
   },
   {
    "duration": 9454,
    "start_time": "2021-09-29T11:14:01.849Z"
   },
   {
    "duration": -2823,
    "start_time": "2021-09-29T11:14:35.431Z"
   },
   {
    "duration": 1765,
    "start_time": "2021-09-29T11:14:48.852Z"
   },
   {
    "duration": 1648,
    "start_time": "2021-09-29T11:18:19.002Z"
   },
   {
    "duration": 1635,
    "start_time": "2021-09-29T11:18:33.217Z"
   },
   {
    "duration": 1777,
    "start_time": "2021-09-29T11:28:51.284Z"
   },
   {
    "duration": 1787,
    "start_time": "2021-09-29T11:31:34.837Z"
   },
   {
    "duration": 1726,
    "start_time": "2021-09-29T11:32:42.405Z"
   },
   {
    "duration": 1826,
    "start_time": "2021-09-29T11:33:03.927Z"
   },
   {
    "duration": 1724,
    "start_time": "2021-09-29T11:33:46.611Z"
   },
   {
    "duration": 1849,
    "start_time": "2021-09-29T12:19:09.815Z"
   },
   {
    "duration": 115,
    "start_time": "2021-09-29T12:19:11.667Z"
   },
   {
    "duration": 11,
    "start_time": "2021-09-29T12:19:11.785Z"
   },
   {
    "duration": 9,
    "start_time": "2021-09-29T12:19:11.799Z"
   },
   {
    "duration": 5,
    "start_time": "2021-09-29T12:19:11.810Z"
   },
   {
    "duration": 18,
    "start_time": "2021-09-29T12:19:11.817Z"
   },
   {
    "duration": 8,
    "start_time": "2021-09-29T12:19:11.861Z"
   },
   {
    "duration": 12,
    "start_time": "2021-09-29T12:19:11.871Z"
   },
   {
    "duration": 17,
    "start_time": "2021-09-29T12:19:11.887Z"
   },
   {
    "duration": 9,
    "start_time": "2021-09-29T12:19:11.907Z"
   },
   {
    "duration": 9,
    "start_time": "2021-09-29T12:19:11.919Z"
   },
   {
    "duration": 15,
    "start_time": "2021-09-29T12:19:11.962Z"
   },
   {
    "duration": 10,
    "start_time": "2021-09-29T12:19:11.980Z"
   },
   {
    "duration": 11,
    "start_time": "2021-09-29T12:19:11.992Z"
   },
   {
    "duration": 16,
    "start_time": "2021-09-29T12:19:12.006Z"
   },
   {
    "duration": 7,
    "start_time": "2021-09-29T12:19:12.025Z"
   },
   {
    "duration": 9,
    "start_time": "2021-09-29T12:19:12.062Z"
   },
   {
    "duration": 13,
    "start_time": "2021-09-29T12:19:12.073Z"
   },
   {
    "duration": 87,
    "start_time": "2021-09-29T12:19:12.088Z"
   },
   {
    "duration": 24,
    "start_time": "2021-09-29T12:19:12.178Z"
   },
   {
    "duration": 13,
    "start_time": "2021-09-29T12:19:12.205Z"
   },
   {
    "duration": 4,
    "start_time": "2021-09-29T12:19:12.220Z"
   },
   {
    "duration": 8295,
    "start_time": "2021-09-29T12:19:12.227Z"
   },
   {
    "duration": 7,
    "start_time": "2021-09-29T12:19:20.524Z"
   },
   {
    "duration": 2078,
    "start_time": "2021-09-29T12:19:20.533Z"
   },
   {
    "duration": 6,
    "start_time": "2021-09-29T12:19:22.614Z"
   },
   {
    "duration": 7,
    "start_time": "2021-09-29T12:19:22.626Z"
   },
   {
    "duration": 28,
    "start_time": "2021-09-29T12:19:22.636Z"
   },
   {
    "duration": 7,
    "start_time": "2021-09-29T12:19:22.667Z"
   },
   {
    "duration": 56,
    "start_time": "2021-09-29T12:19:22.676Z"
   },
   {
    "duration": 6,
    "start_time": "2021-09-29T12:19:22.734Z"
   },
   {
    "duration": 26,
    "start_time": "2021-09-29T12:19:22.742Z"
   },
   {
    "duration": 467,
    "start_time": "2021-09-29T12:19:22.770Z"
   },
   {
    "duration": 45,
    "start_time": "2021-09-29T12:19:23.240Z"
   },
   {
    "duration": 35,
    "start_time": "2021-09-29T12:19:23.288Z"
   },
   {
    "duration": 13,
    "start_time": "2021-09-29T12:19:23.325Z"
   },
   {
    "duration": 14,
    "start_time": "2021-09-29T12:19:23.362Z"
   },
   {
    "duration": 7,
    "start_time": "2021-09-29T12:19:23.378Z"
   },
   {
    "duration": 811,
    "start_time": "2021-09-29T12:19:23.388Z"
   },
   {
    "duration": 151434,
    "start_time": "2021-09-29T12:19:24.202Z"
   },
   {
    "duration": 3,
    "start_time": "2021-09-29T12:21:55.639Z"
   },
   {
    "duration": 2026,
    "start_time": "2021-09-29T12:21:55.645Z"
   },
   {
    "duration": 4,
    "start_time": "2021-09-29T12:21:57.673Z"
   },
   {
    "duration": 684,
    "start_time": "2021-09-29T12:21:57.681Z"
   },
   {
    "duration": 37,
    "start_time": "2021-09-29T12:21:58.368Z"
   },
   {
    "duration": 1870,
    "start_time": "2021-09-29T12:21:58.408Z"
   },
   {
    "duration": 2103,
    "start_time": "2021-09-29T12:22:00.281Z"
   },
   {
    "duration": 2418,
    "start_time": "2021-09-29T12:22:02.386Z"
   },
   {
    "duration": 16,
    "start_time": "2021-09-29T12:22:04.808Z"
   },
   {
    "duration": 64,
    "start_time": "2021-09-29T12:45:45.910Z"
   },
   {
    "duration": 19,
    "start_time": "2021-09-29T12:46:23.251Z"
   },
   {
    "duration": 398,
    "start_time": "2021-09-29T12:48:49.077Z"
   },
   {
    "duration": 1643,
    "start_time": "2021-09-29T12:48:56.792Z"
   },
   {
    "duration": 28,
    "start_time": "2021-09-29T12:48:58.438Z"
   },
   {
    "duration": 11,
    "start_time": "2021-09-29T12:48:58.473Z"
   },
   {
    "duration": 13,
    "start_time": "2021-09-29T12:48:58.486Z"
   },
   {
    "duration": 5,
    "start_time": "2021-09-29T12:48:58.502Z"
   },
   {
    "duration": 48,
    "start_time": "2021-09-29T12:48:58.510Z"
   },
   {
    "duration": 16,
    "start_time": "2021-09-29T12:48:58.561Z"
   },
   {
    "duration": 16,
    "start_time": "2021-09-29T12:48:58.580Z"
   },
   {
    "duration": 8,
    "start_time": "2021-09-29T12:48:58.599Z"
   },
   {
    "duration": 15,
    "start_time": "2021-09-29T12:48:58.609Z"
   },
   {
    "duration": 36,
    "start_time": "2021-09-29T12:48:58.626Z"
   },
   {
    "duration": 32,
    "start_time": "2021-09-29T12:48:58.665Z"
   },
   {
    "duration": 15,
    "start_time": "2021-09-29T12:48:58.699Z"
   },
   {
    "duration": 17,
    "start_time": "2021-09-29T12:48:58.717Z"
   },
   {
    "duration": 16,
    "start_time": "2021-09-29T12:48:58.736Z"
   },
   {
    "duration": 24,
    "start_time": "2021-09-29T12:48:58.754Z"
   },
   {
    "duration": 9,
    "start_time": "2021-09-29T12:48:58.780Z"
   },
   {
    "duration": 16,
    "start_time": "2021-09-29T12:48:58.791Z"
   },
   {
    "duration": 16,
    "start_time": "2021-09-29T12:48:58.810Z"
   },
   {
    "duration": 76,
    "start_time": "2021-09-29T12:48:58.828Z"
   },
   {
    "duration": 17,
    "start_time": "2021-09-29T12:48:58.908Z"
   },
   {
    "duration": 49,
    "start_time": "2021-09-29T12:48:58.932Z"
   },
   {
    "duration": 16,
    "start_time": "2021-09-29T12:48:58.984Z"
   },
   {
    "duration": 6841,
    "start_time": "2021-09-29T12:48:59.003Z"
   },
   {
    "duration": 12,
    "start_time": "2021-09-29T12:49:05.846Z"
   },
   {
    "duration": 1811,
    "start_time": "2021-09-29T12:49:05.860Z"
   },
   {
    "duration": 5,
    "start_time": "2021-09-29T12:49:07.673Z"
   },
   {
    "duration": 42,
    "start_time": "2021-09-29T12:49:07.680Z"
   },
   {
    "duration": 17,
    "start_time": "2021-09-29T12:49:07.725Z"
   },
   {
    "duration": 27,
    "start_time": "2021-09-29T12:49:07.745Z"
   },
   {
    "duration": 80,
    "start_time": "2021-09-29T12:49:07.775Z"
   },
   {
    "duration": 8,
    "start_time": "2021-09-29T12:49:07.857Z"
   },
   {
    "duration": 21,
    "start_time": "2021-09-29T12:49:07.868Z"
   },
   {
    "duration": 687,
    "start_time": "2021-09-29T12:49:07.891Z"
   },
   {
    "duration": 44,
    "start_time": "2021-09-29T12:49:08.581Z"
   },
   {
    "duration": 54,
    "start_time": "2021-09-29T12:49:08.627Z"
   },
   {
    "duration": 15,
    "start_time": "2021-09-29T12:49:08.684Z"
   },
   {
    "duration": 31,
    "start_time": "2021-09-29T12:49:08.701Z"
   },
   {
    "duration": 26,
    "start_time": "2021-09-29T12:49:08.734Z"
   },
   {
    "duration": 1209,
    "start_time": "2021-09-29T12:49:08.762Z"
   },
   {
    "duration": 150436,
    "start_time": "2021-09-29T12:49:09.974Z"
   },
   {
    "duration": 5,
    "start_time": "2021-09-29T12:51:40.413Z"
   },
   {
    "duration": 1854,
    "start_time": "2021-09-29T12:51:40.421Z"
   },
   {
    "duration": 5,
    "start_time": "2021-09-29T12:51:42.278Z"
   },
   {
    "duration": 740,
    "start_time": "2021-09-29T12:51:42.285Z"
   },
   {
    "duration": 54,
    "start_time": "2021-09-29T12:51:43.028Z"
   },
   {
    "duration": 1634,
    "start_time": "2021-09-29T12:51:43.085Z"
   },
   {
    "duration": 2142,
    "start_time": "2021-09-29T12:51:44.722Z"
   },
   {
    "duration": 2780,
    "start_time": "2021-09-29T12:51:46.866Z"
   },
   {
    "duration": 11,
    "start_time": "2021-09-29T13:00:03.812Z"
   },
   {
    "duration": 7,
    "start_time": "2021-09-29T13:04:26.620Z"
   },
   {
    "duration": 15,
    "start_time": "2021-09-29T13:05:48.346Z"
   },
   {
    "duration": 18,
    "start_time": "2021-09-29T13:05:49.552Z"
   },
   {
    "duration": 5,
    "start_time": "2021-09-29T13:07:49.129Z"
   },
   {
    "duration": 13,
    "start_time": "2021-09-29T13:09:43.715Z"
   },
   {
    "duration": 16,
    "start_time": "2021-09-29T13:10:28.611Z"
   },
   {
    "duration": 5,
    "start_time": "2021-09-29T13:14:19.678Z"
   },
   {
    "duration": 18,
    "start_time": "2021-09-29T13:14:20.478Z"
   },
   {
    "duration": 20,
    "start_time": "2021-09-29T13:14:21.906Z"
   },
   {
    "duration": 136,
    "start_time": "2021-09-29T13:16:58.751Z"
   }
  ],
  "kernelspec": {
   "display_name": "Python 3",
   "language": "python",
   "name": "python3"
  },
  "language_info": {
   "codemirror_mode": {
    "name": "ipython",
    "version": 3
   },
   "file_extension": ".py",
   "mimetype": "text/x-python",
   "name": "python",
   "nbconvert_exporter": "python",
   "pygments_lexer": "ipython3",
   "version": "3.8.3"
  },
  "toc": {
   "base_numbering": 1,
   "nav_menu": {},
   "number_sections": true,
   "sideBar": true,
   "skip_h1_title": true,
   "title_cell": "Table of Contents",
   "title_sidebar": "Contents",
   "toc_cell": false,
   "toc_position": {},
   "toc_section_display": true,
   "toc_window_display": false
  }
 },
 "nbformat": 4,
 "nbformat_minor": 2
}
